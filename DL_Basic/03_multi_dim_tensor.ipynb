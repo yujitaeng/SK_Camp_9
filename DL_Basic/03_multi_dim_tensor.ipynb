{
 "cells": [
  {
   "cell_type": "markdown",
   "metadata": {},
   "source": [
    "# 다차원 텐서 (다차원 배열)"
   ]
  },
  {
   "cell_type": "code",
   "execution_count": 1,
   "metadata": {},
   "outputs": [],
   "source": [
    "import numpy as np"
   ]
  },
  {
   "cell_type": "markdown",
   "metadata": {},
   "source": [
    "### 다차원 배열의 계산 복습"
   ]
  },
  {
   "cell_type": "code",
   "execution_count": 4,
   "metadata": {},
   "outputs": [
    {
     "name": "stdout",
     "output_type": "stream",
     "text": [
      "[[ 8 10 12]\n",
      " [14 16 18]]\n",
      "[[2 4 6]\n",
      " [5 7 9]]\n",
      "[[ 50  68]\n",
      " [122 167]]\n"
     ]
    }
   ],
   "source": [
    "A = np.array([[1, 2, 3], \n",
    "              [4, 5, 6]])\n",
    "B = np.array([[7, 8, 9], \n",
    "              [10, 11, 12]])\n",
    "\n",
    "add_result = A + B\n",
    "\n",
    "vec = np.array([1, 2, 3])\n",
    "add_result2 = A + vec     # 브로드캐스팅\n",
    "\n",
    "print(add_result)\n",
    "print(add_result2)\n",
    "\n",
    "dot_result = A.dot(B.T)\n",
    "print(dot_result)"
   ]
  },
  {
   "cell_type": "markdown",
   "metadata": {},
   "source": [
    "### 다차원 배열의 계산으로 순전파 구현"
   ]
  },
  {
   "cell_type": "code",
   "execution_count": 6,
   "metadata": {},
   "outputs": [
    {
     "name": "stdout",
     "output_type": "stream",
     "text": [
      "[[0.         0.12398054 0.        ]\n",
      " [0.         0.54041278 0.        ]\n",
      " [0.         0.3483218  0.85948109]\n",
      " [0.         0.         3.51627777]]\n"
     ]
    }
   ],
   "source": [
    "# 입력 데이터\n",
    "X = np.random.randn(4, 5)    # 4개의 샘플, 5차원 feature\n",
    "\n",
    "# 가중치\n",
    "W = np.random.randn(5, 3)    # 5개의 입력(feature), 3개의 뉴런으로 구성된 레이어\n",
    "\n",
    "# 편향\n",
    "b = np.random.randn(1, 3)\n",
    "\n",
    "# 선형 계산 (W*X + b)\n",
    "z = np.dot(X, W) + b\n",
    "\n",
    "# ReLU 활성화 함수\n",
    "result = np.maximum(0, z)\n",
    "\n",
    "print(result)"
   ]
  },
  {
   "cell_type": "markdown",
   "metadata": {},
   "source": [
    "### 다층 퍼셉트론"
   ]
  },
  {
   "cell_type": "code",
   "execution_count": 8,
   "metadata": {},
   "outputs": [
    {
     "name": "stdout",
     "output_type": "stream",
     "text": [
      "[[9.45888799e-02 3.00117177e-03 8.44329652e-01 5.80802960e-02]\n",
      " [8.07731426e-01 1.96883153e-03 1.03504251e-02 1.79949317e-01]\n",
      " [4.33330066e-01 9.59007044e-02 4.50871069e-01 1.98981603e-02]\n",
      " [3.70723141e-02 6.81241246e-05 1.84320708e-02 9.44427491e-01]\n",
      " [2.78227210e-01 2.91228420e-02 3.40238229e-02 6.58626125e-01]\n",
      " [2.72486812e-01 1.55835690e-02 4.67999510e-01 2.43930110e-01]]\n"
     ]
    }
   ],
   "source": [
    "X = np.random.randn(6, 10)\n",
    "\n",
    "# 은닉층 : 10개의 입력 -> 8개의 뉴런\n",
    "W1 = np.random.randn(10, 8)\n",
    "b1 = np.random.randn(1, 8)\n",
    "\n",
    "# 출력층 : 8개의 입력 -> 4개의 클래스\n",
    "W2 = np.random.randn(8, 4)\n",
    "b2 = np.random.randn(1, 4)\n",
    "\n",
    "# 은닉층 계산 (선형 계산 + tanh 활성화 함수)\n",
    "z1 = np.dot(X, W1) + b1\n",
    "result1 = np.tanh(z1)\n",
    "\n",
    "# 출력층 계산 (선형 계산 + softmax 활성화 함수)\n",
    "z2 = np.dot(result1, W2) + b2\n",
    "exp_z = np.exp(z2 - np.max(z2, axis=1, keepdims=True))\n",
    "result2 = exp_z / np.sum(exp_z, axis=1, keepdims=True)\n",
    "\n",
    "print(result2)"
   ]
  },
  {
   "cell_type": "markdown",
   "metadata": {},
   "source": [
    "### 이미지 데이터 예시"
   ]
  },
  {
   "cell_type": "code",
   "execution_count": 11,
   "metadata": {},
   "outputs": [
    {
     "data": {
      "image/png": "[encoded data removed]",
      "text/plain": [
       "<Figure size 640x480 with 3 Axes>"
      ]
     },
     "metadata": {},
     "output_type": "display_data"
    }
   ],
   "source": [
    "import matplotlib.pyplot as plt\n",
    "\n",
    "# 이미지 생성\n",
    "batch_size = 5\n",
    "channels = 3\n",
    "height = 32\n",
    "width = 32\n",
    "\n",
    "images = np.random.rand(batch_size, channels, height, width)\n",
    "\n",
    "bright_images = np.clip(images + 0.2, 0, 1)\n",
    "\n",
    "gray_images = np.mean(images, axis=1)\n",
    "\n",
    "# PyTorch 프레임워크에서는 이미지 데이터를 (채널, 높이, 너비) 순서로 저장\n",
    "# matplotlib.pyplot.imshow()는 (높이, 너비, 채널) 순서로 기대\n",
    "# 따라서 transpose()를 이용해 축의 순서를 재배열\n",
    "images_for_display = images[0].transpose(1, 2, 0)\n",
    "bright_images_display = bright_images[0].transpose(1, 2, 0)\n",
    "\n",
    "plt.subplot(1, 3, 1)\n",
    "plt.imshow(images_for_display)\n",
    "plt.axis('off')\n",
    "\n",
    "plt.subplot(1, 3, 2)\n",
    "plt.imshow(bright_images_display)\n",
    "plt.axis('off')\n",
    "\n",
    "plt.subplot(1, 3, 3)\n",
    "plt.imshow(gray_images[0], cmap='gray')\n",
    "plt.axis('off')\n",
    "\n",
    "plt.show()"
   ]
  }
 ],
 "metadata": {
  "kernelspec": {
   "display_name": "pystudy_env",
   "language": "python",
   "name": "python3"
  },
  "language_info": {
   "codemirror_mode": {
    "name": "ipython",
    "version": 3
   },
   "file_extension": ".py",
   "mimetype": "text/x-python",
   "name": "python",
   "nbconvert_exporter": "python",
   "pygments_lexer": "ipython3",
   "version": "3.12.8"
  }
 },
 "nbformat": 4,
 "nbformat_minor": 2
}
