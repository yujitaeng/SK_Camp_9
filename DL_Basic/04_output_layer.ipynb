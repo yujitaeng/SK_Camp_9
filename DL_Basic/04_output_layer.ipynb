{
 "cells": [
  {
   "cell_type": "markdown",
   "metadata": {},
   "source": [
    "# 출력층 설계 (Output layer)"
   ]
  },
  {
   "cell_type": "code",
   "execution_count": 1,
   "metadata": {},
   "outputs": [
    {
     "name": "stdout",
     "output_type": "stream",
     "text": [
      "Requirement already satisfied: torch in c:\\users\\user\\anaconda3\\envs\\pystudy_env\\lib\\site-packages (2.6.0)\n",
      "Requirement already satisfied: torchvision in c:\\users\\user\\anaconda3\\envs\\pystudy_env\\lib\\site-packages (0.21.0)\n",
      "Requirement already satisfied: torchaudio in c:\\users\\user\\anaconda3\\envs\\pystudy_env\\lib\\site-packages (2.6.0)\n",
      "Requirement already satisfied: filelock in c:\\users\\user\\anaconda3\\envs\\pystudy_env\\lib\\site-packages (from torch) (3.17.0)\n",
      "Requirement already satisfied: typing-extensions>=4.10.0 in c:\\users\\user\\anaconda3\\envs\\pystudy_env\\lib\\site-packages (from torch) (4.12.2)\n",
      "Requirement already satisfied: networkx in c:\\users\\user\\anaconda3\\envs\\pystudy_env\\lib\\site-packages (from torch) (3.4.2)\n",
      "Requirement already satisfied: jinja2 in c:\\users\\user\\anaconda3\\envs\\pystudy_env\\lib\\site-packages (from torch) (3.1.4)\n",
      "Requirement already satisfied: fsspec in c:\\users\\user\\anaconda3\\envs\\pystudy_env\\lib\\site-packages (from torch) (2025.2.0)\n",
      "Requirement already satisfied: setuptools in c:\\users\\user\\anaconda3\\envs\\pystudy_env\\lib\\site-packages (from torch) (75.1.0)\n",
      "Requirement already satisfied: sympy==1.13.1 in c:\\users\\user\\anaconda3\\envs\\pystudy_env\\lib\\site-packages (from torch) (1.13.1)\n",
      "Requirement already satisfied: mpmath<1.4,>=1.1.0 in c:\\users\\user\\anaconda3\\envs\\pystudy_env\\lib\\site-packages (from sympy==1.13.1->torch) (1.3.0)\n",
      "Requirement already satisfied: numpy in c:\\users\\user\\anaconda3\\envs\\pystudy_env\\lib\\site-packages (from torchvision) (2.2.2)\n",
      "Requirement already satisfied: pillow!=8.3.*,>=5.3.0 in c:\\users\\user\\anaconda3\\envs\\pystudy_env\\lib\\site-packages (from torchvision) (11.0.0)\n",
      "Requirement already satisfied: MarkupSafe>=2.0 in c:\\users\\user\\anaconda3\\envs\\pystudy_env\\lib\\site-packages (from jinja2->torch) (3.0.2)\n"
     ]
    }
   ],
   "source": [
    "!pip3 install torch torchvision torchaudio"
   ]
  },
  {
   "cell_type": "markdown",
   "metadata": {},
   "source": [
    "### 소프트맥스 오버플로우 방지"
   ]
  },
  {
   "cell_type": "code",
   "execution_count": 3,
   "metadata": {},
   "outputs": [
    {
     "name": "stdout",
     "output_type": "stream",
     "text": [
      "[nan nan nan]\n",
      "[0.09003057 0.24472847 0.66524096]\n"
     ]
    },
    {
     "name": "stderr",
     "output_type": "stream",
     "text": [
      "C:\\Users\\USER\\AppData\\Local\\Temp\\ipykernel_8836\\300004869.py:4: RuntimeWarning: overflow encountered in exp\n",
      "  exp_x = np.exp(x)\n",
      "C:\\Users\\USER\\AppData\\Local\\Temp\\ipykernel_8836\\300004869.py:5: RuntimeWarning: invalid value encountered in divide\n",
      "  return exp_x / np.sum(exp_x)\n"
     ]
    }
   ],
   "source": [
    "import numpy as np\n",
    "\n",
    "def softmax(x):\n",
    "    exp_x = np.exp(x)\n",
    "    return exp_x / np.sum(exp_x)\n",
    "\n",
    "def stable_softmax(x):\n",
    "    exp_x = np.exp(x - np.max(x))\n",
    "    return exp_x / np.sum(exp_x)\n",
    "\n",
    "x = np.array([1000, 1001, 1002])\n",
    "\n",
    "print(softmax(x))\n",
    "print(stable_softmax(x))"
   ]
  },
  {
   "cell_type": "markdown",
   "metadata": {},
   "source": [
    "- pytorch 라이브러리 함수 사용"
   ]
  },
  {
   "cell_type": "code",
   "execution_count": 9,
   "metadata": {},
   "outputs": [
    {
     "name": "stdout",
     "output_type": "stream",
     "text": [
      "tensor([0.0900, 0.2447, 0.6652])\n",
      "tensor([1., 1., 1.])\n"
     ]
    }
   ],
   "source": [
    "import torch\n",
    "import torch.nn.functional as F\n",
    "\n",
    "x = torch.tensor([1000, 1001, 1002], dtype=torch.float32)\n",
    "\n",
    "softmax_output = F.softmax(x, dim=0)    # dim: softmax를 적용할 축\n",
    "print(softmax_output)\n",
    "\n",
    "sigmoid_output = torch.sigmoid(x)\n",
    "print(sigmoid_output)"
   ]
  },
  {
   "cell_type": "markdown",
   "metadata": {},
   "source": [
    "### 손실 함수와 연계"
   ]
  },
  {
   "cell_type": "code",
   "execution_count": 36,
   "metadata": {},
   "outputs": [
    {
     "name": "stdout",
     "output_type": "stream",
     "text": [
      "1.01478910446167\n",
      "0.9841579794883728\n",
      "0.9543387293815613\n",
      "0.9253801107406616\n",
      "0.8973274827003479\n",
      "0.8702206611633301\n",
      "0.8440917730331421\n",
      "0.8189622163772583\n",
      "0.7948406338691711\n",
      "0.7717205286026001\n"
     ]
    }
   ],
   "source": [
    "import torch\n",
    "import torch.nn as nn\n",
    "import torch.optim as optim\n",
    "\n",
    "# 간단한 다중 클래스 분류 모델 정의 (입력 값: 5개, 출력: 3 클래스)\n",
    "class SimpleMultiClassModel(nn.Module):\n",
    "    def __init__(self):\n",
    "        super(SimpleMultiClassModel, self).__init__()\n",
    "        self.fc = nn.Linear(5, 3)\n",
    "\n",
    "    def forward(self, x):\n",
    "        return self.fc(x)\n",
    "    \n",
    "model = SimpleMultiClassModel()\n",
    "criterion = nn.CrossEntropyLoss()\n",
    "optimizer = optim.Adam(model.parameters(), lr=0.01)\n",
    "\n",
    "# 데이터 생성\n",
    "inputs = torch.randn(4, 5)\n",
    "labels = torch.tensor([0, 2, 1, 0])\n",
    "\n",
    "for _ in range(10):\n",
    "    preds = model(inputs)    # 순전파\n",
    "    loss = criterion(preds, labels)    # 손실 계산\n",
    "    print(loss.item())\n",
    "\n",
    "    optimizer.zero_grad()    # 이전 단계에서 계산된 기울기를 0으로 초기화\n",
    "    loss.backward()    # 손실에 대한 역전파 수행 (파라미터에 대한 기울기 계산)\n",
    "    optimizer.step()    # 계산된 기울기를 사용하여 옵티마이저가 모델의 파라미터 업데이트"
   ]
  }
 ],
 "metadata": {
  "kernelspec": {
   "display_name": "pystudy_env",
   "language": "python",
   "name": "python3"
  },
  "language_info": {
   "codemirror_mode": {
    "name": "ipython",
    "version": 3
   },
   "file_extension": ".py",
   "mimetype": "text/x-python",
   "name": "python",
   "nbconvert_exporter": "python",
   "pygments_lexer": "ipython3",
   "version": "3.12.8"
  }
 },
 "nbformat": 4,
 "nbformat_minor": 2
}
