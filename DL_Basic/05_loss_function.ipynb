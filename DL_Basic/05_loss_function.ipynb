{
 "cells": [
  {
   "cell_type": "markdown",
   "metadata": {},
   "source": [
    "# 손실함수 (Loss Function)"
   ]
  },
  {
   "cell_type": "markdown",
   "metadata": {},
   "source": [
    "### Huber Loss"
   ]
  },
  {
   "cell_type": "code",
   "execution_count": 1,
   "metadata": {},
   "outputs": [],
   "source": [
    "import numpy as np\n",
    "\n",
    "def mean_squared_error(y_true, y_pred):\n",
    "    return np.mean((y_true - y_pred) ** 2)\n",
    "\n",
    "def mean_absolute_error(y_true, y_pred):\n",
    "    return np.mean(np.abs(y_true - y_pred))"
   ]
  },
  {
   "cell_type": "code",
   "execution_count": null,
   "metadata": {},
   "outputs": [],
   "source": [
    "y_true = np.array([1.0, 2.0, 3.0, 4.0, 5.0])\n",
    "y_pred = np.array([1.2, 1.8, 3.1, 3.9, 4.8])\n",
    "\n",
    "y_true = np.append(y_true, [50.0, 60.0])\n",
    "y_pred = np.append(y_pred, [10.0, 5.0])\n",
    "\n",
    "mse = mean_squared_error(y_true, y_pred)\n",
    "mae = mean_absolute_error(y_true, y_pred)\n",
    "\n",
    "print(\"MSE\", mse)\n",
    "print(\"MAE\", mae)"
   ]
  },
  {
   "cell_type": "code",
   "execution_count": null,
   "metadata": {},
   "outputs": [],
   "source": [
    "def huber_loss(y_true, y_pred, delta=1.0):\n",
    "    error = y_true - y_pred\n",
    "    is_small_error = np.abs(error) <= delta\n",
    "    squared_loss = 0.5 * error**2\n",
    "    linear_loss = delta * (np.abs(error) - 0.5 * delta)\n",
    "    return np.mean(np.where(is_small_error, squared_loss, linear_loss))\n",
    "\n",
    "huber_loss(y_true, y_pred)"
   ]
  },
  {
   "cell_type": "markdown",
   "metadata": {},
   "source": [
    "### 신경망 모델에서 손실 함수 활용"
   ]
  },
  {
   "cell_type": "code",
   "execution_count": 8,
   "metadata": {},
   "outputs": [],
   "source": [
    "import numpy as np\n",
    "import matplotlib.pyplot as plt\n",
    "from sklearn.datasets import make_classification\n",
    "from sklearn.model_selection import train_test_split\n",
    "from sklearn.preprocessing import StandardScaler\n",
    "\n",
    "# 데이터 생성\n",
    "X, y = make_classification(\n",
    "    n_samples=1000,\n",
    "    n_features=20,\n",
    "    n_informative=15,\n",
    "    n_redundant=5,\n",
    "    n_classes=2,\n",
    "    random_state=42\n",
    ")\n",
    "\n",
    "# 전처리\n",
    "scaler = StandardScaler()\n",
    "X = scaler.fit_transform(X)\n",
    "X_train, X_test, y_train, y_test = \\\n",
    "    train_test_split(X, y, test_size=0.2, random_state=42)\n",
    "\n",
    "def one_hot(labels, num_classes):\n",
    "    return np.eye(num_classes)[labels]\n",
    "\n",
    "y_train_oh = one_hot(y_train, 2)\n",
    "y_test_oh = one_hot(y_test, 2)"
   ]
  },
  {
   "cell_type": "code",
   "execution_count": 9,
   "metadata": {},
   "outputs": [],
   "source": [
    "# 모델 파라미터 초기화\n",
    "np.random.seed(42)\n",
    "\n",
    "input_dim = X_train.shape[1]\n",
    "hidden_dim = 32\n",
    "output_dim = 2\n",
    "\n",
    "W1 = np.random.randn(input_dim, hidden_dim)\n",
    "b1 = np.zeros((1, hidden_dim))\n",
    "W2 = np.random.randn(hidden_dim, output_dim)\n",
    "b2 = np.zeros((1, output_dim))"
   ]
  },
  {
   "cell_type": "code",
   "execution_count": 10,
   "metadata": {},
   "outputs": [],
   "source": [
    "# 활성화 함수, 손실 함수 정의\n",
    "def relu(z):\n",
    "    return np.maximum(0, z)\n",
    "\n",
    "def softmax(z):\n",
    "    exp_z = np.exp(z - np.max(z, axis=1, keepdims=True))\n",
    "    return exp_z / np.sum(exp_z, axis=1, keepdims=True)\n",
    "\n",
    "def cross_entropy_loss(probs, labels):\n",
    "    m = labels.shape[0]\n",
    "    log_likelihood = -np.log(probs + 1e-8) * labels    # 1e-8 = 1*10^(-8)\n",
    "    loss = np.sum(log_likelihood) / m\n",
    "    return loss"
   ]
  },
  {
   "cell_type": "code",
   "execution_count": null,
   "metadata": {},
   "outputs": [],
   "source": [
    "# 학습\n",
    "learning_rate = 0.01\n",
    "epochs = 50\n",
    "train_losses = []\n",
    "test_losses = []\n",
    "\n",
    "for epoch in range(epochs):\n",
    "    # Forward\n",
    "    Z1 = np.dot(X_train, W1) + b1\n",
    "    R1 = relu(Z1)    # (hidden_dim, output_dim)\n",
    "    Z2 = np.dot(R1, W2) + b2\n",
    "    probs = softmax(Z2)\n",
    "    loss = cross_entropy_loss(probs, y_train_oh)\n",
    "\n",
    "    # Backpropagation\n",
    "    m = X_train.shape[0]\n",
    "    dZ2 = (probs - y_train_oh) / m    # (N, output_dim)\n",
    "    dW2 = np.dot(R1.T, dZ2)\n",
    "    db2 = np.sum(dZ2, axis=0, keepdims=True)\n",
    "\n",
    "    dR1 = np.dot(dZ2, W2.T)\n",
    "    dZ1 = dR1 * (Z1 > 0)\n",
    "    dW1 = np.dot(X_train.T, dZ1)\n",
    "    db1 = np.sum(dZ1, axis=0, keepdims=True)\n",
    "\n",
    "    # 파라미터 업데이트\n",
    "    W1 -= learning_rate * dW1\n",
    "    b1 -= learning_rate * db1\n",
    "    W2 -= learning_rate * dW2\n",
    "    b2 -= learning_rate * db2\n",
    "\n",
    "    train_losses.append(loss)\n",
    "    # 테스트 데이터로 손실 확인\n",
    "    Z1_test = np.dot(X_test, W1) + b1\n",
    "    R1_test = relu(Z1_test)\n",
    "    Z2_test = np.dot(R1_test, W2) + b2\n",
    "    probs_test = softmax(Z2_test)\n",
    "    loss_test = cross_entropy_loss(probs_test, y_test_oh)\n",
    "\n",
    "    test_losses.append(loss_test)\n",
    "\n",
    "    if (epoch + 1) % 10 == 0:\n",
    "        print(f\"Epoch {epoch+1} | 학습 손실: {loss:.4f}, 테스트 손실: {loss_test:.4f}\")"
   ]
  },
  {
   "cell_type": "code",
   "execution_count": null,
   "metadata": {},
   "outputs": [],
   "source": [
    "# 시각화\n",
    "plt.plot(range(epochs), train_losses, label=\"train loss\")\n",
    "plt.plot(range(epochs), test_losses, label=\"test loss\")\n",
    "plt.xlabel('epoch')\n",
    "plt.ylabel('loss')\n",
    "plt.legend()\n",
    "plt.show()"
   ]
  },
  {
   "cell_type": "markdown",
   "metadata": {},
   "source": [
    "### 기본 손실 함수 vs 커스텀 손실 함수"
   ]
  },
  {
   "cell_type": "code",
   "execution_count": 18,
   "metadata": {},
   "outputs": [],
   "source": [
    "from sklearn.datasets import make_regression\n",
    "\n",
    "# 데이터 생성\n",
    "X, y = make_regression(\n",
    "    n_samples=1000,\n",
    "    n_features=10,\n",
    "    noise=50,\n",
    "    random_state=42\n",
    ")\n",
    "scaler_X = StandardScaler()\n",
    "scaler_y = StandardScaler()\n",
    "X = scaler_X.fit_transform(X)\n",
    "y = scaler_y.fit_transform(y.reshape(-1, 1)).flatten()\n",
    "\n",
    "X_train, X_test, y_train, y_test = \\\n",
    "    train_test_split(X, y, test_size=0.2, random_state=42)"
   ]
  },
  {
   "cell_type": "code",
   "execution_count": 19,
   "metadata": {},
   "outputs": [],
   "source": [
    "# 예측 함수\n",
    "def predict(X, w, b):\n",
    "    return np.dot(X, w) + b"
   ]
  },
  {
   "cell_type": "code",
   "execution_count": 20,
   "metadata": {},
   "outputs": [],
   "source": [
    "# 손실 함수\n",
    "def mse_loss(y_pred, y_true):\n",
    "    return np.mean((y_pred - y_true) ** 2)\n",
    "\n",
    "def my_loss(y_pred, y_true, w, lambda_reg=1.0):\n",
    "    mse = mse_loss(y_pred, y_true)\n",
    "    l2_reg = np.sum(w ** 2)\n",
    "    return mse + (lambda_reg * l2_reg)"
   ]
  },
  {
   "cell_type": "code",
   "execution_count": 24,
   "metadata": {},
   "outputs": [],
   "source": [
    "def train_model(X_train, y_train, X_test, y_test,\n",
    "                loss_fn, epochs=50, learning_rate=0.1, use_custom=False):\n",
    "\n",
    "    np.random.seed(42)\n",
    "    n_features = X_train.shape[1]\n",
    "    W = np.random.randn(n_features)\n",
    "    b = 0.0\n",
    "\n",
    "    for epoch in range(epochs):\n",
    "        y_pred_train = predict(X_train, W, b)\n",
    "        y_pred_test = predict(X_test, W, b)\n",
    "\n",
    "        train_loss = loss_fn(y_pred_train, y_train, W) \\\n",
    "            if use_custom else loss_fn(y_pred_train, y_train)\n",
    "        test_loss = loss_fn(y_pred_test, y_test, W) \\\n",
    "            if use_custom else loss_fn(y_pred_test, y_test)\n",
    "        \n",
    "        d_loss = 2 * (y_pred_train - y_train) / X_train.shape[0]\n",
    "        grad_w = np.dot(X_train.T, d_loss)\n",
    "        grad_b = np.sum(d_loss)\n",
    "\n",
    "        if use_custom:\n",
    "            grad_w += 2 * 1.0 * W\n",
    "\n",
    "        W -= learning_rate * grad_w\n",
    "        b -= learning_rate * grad_b\n",
    "\n",
    "        if (epoch + 1) % 10 == 0:\n",
    "            print(f'Epoch {epoch + 1} | 학습 손실: {train_loss:.4f}, 테스트 손실: {test_loss:.4f}')       \n"
   ]
  },
  {
   "cell_type": "code",
   "execution_count": 25,
   "metadata": {},
   "outputs": [
    {
     "name": "stdout",
     "output_type": "stream",
     "text": [
      "Epoch 10 | 학습 손실: 0.1782, 테스트 손실: 0.1833\n",
      "Epoch 20 | 학습 손실: 0.1216, 테스트 손실: 0.1255\n",
      "Epoch 30 | 학습 손실: 0.1209, 테스트 손실: 0.1242\n",
      "Epoch 40 | 학습 손실: 0.1209, 테스트 손실: 0.1241\n",
      "Epoch 50 | 학습 손실: 0.1209, 테스트 손실: 0.1241\n"
     ]
    }
   ],
   "source": [
    "train_model(X_train, y_train, X_test, y_test, mse_loss)"
   ]
  },
  {
   "cell_type": "code",
   "execution_count": 26,
   "metadata": {},
   "outputs": [
    {
     "name": "stdout",
     "output_type": "stream",
     "text": [
      "Epoch 10 | 학습 손실: 0.5709, 테스트 손실: 0.5544\n",
      "Epoch 20 | 학습 손실: 0.5698, 테스트 손실: 0.5548\n",
      "Epoch 30 | 학습 손실: 0.5698, 테스트 손실: 0.5550\n",
      "Epoch 40 | 학습 손실: 0.5698, 테스트 손실: 0.5550\n",
      "Epoch 50 | 학습 손실: 0.5698, 테스트 손실: 0.5550\n"
     ]
    }
   ],
   "source": [
    "train_model(X_train, y_train, X_test, y_test, my_loss, use_custom=True)"
   ]
  },
  {
   "cell_type": "markdown",
   "metadata": {},
   "source": [
    "### 손실 함수 선택이 모델 성능에 미치는 영향"
   ]
  },
  {
   "cell_type": "code",
   "execution_count": 28,
   "metadata": {},
   "outputs": [],
   "source": [
    "X, y = make_regression(\n",
    "    n_samples=1000,\n",
    "    n_features=5,\n",
    "    noise=30,\n",
    "    random_state=42\n",
    ")\n",
    "\n",
    "scaler_X = StandardScaler()\n",
    "scaler_y = StandardScaler()\n",
    "X = scaler_X.fit_transform(X)\n",
    "y = scaler_y.fit_transform(y.reshape(-1, 1)).flatten()\n",
    "\n",
    "X_train, X_test, y_train, y_test = \\\n",
    "    train_test_split(X, y, test_size=0.3, random_state=42)"
   ]
  },
  {
   "cell_type": "code",
   "execution_count": null,
   "metadata": {},
   "outputs": [],
   "source": [
    "# 선형 회귀 모델 예측 함수\n",
    "def predict(X, W, b):\n",
    "    return np.dot(X, W) + b"
   ]
  },
  {
   "cell_type": "code",
   "execution_count": 29,
   "metadata": {},
   "outputs": [],
   "source": [
    "# 손실 함수\n",
    "def mse_loss(y_pred, y_true):\n",
    "    return np.mean((y_pred - y_true) ** 2)\n",
    "\n",
    "def mae_loss(y_pred, y_true):\n",
    "    return np.mean(np.abs(y_pred - y_true))\n",
    "\n",
    "def huber_loss(y_pred, y_true, delta=1.0):\n",
    "    error = y_pred - y_true\n",
    "    is_small_error = np.abs(error) <= delta\n",
    "    squared_error = 0.5 * error**2\n",
    "    linear_error = delta * (np.abs(error) - 0.5 * delta)\n",
    "    return np.mean(np.where(is_small_error, squared_error, linear_error))"
   ]
  },
  {
   "cell_type": "code",
   "execution_count": 34,
   "metadata": {},
   "outputs": [],
   "source": [
    "def train_regression(X, y, loss_fn, epochs=100, learning_rate=0.01):\n",
    "    n_features = X.shape[1]\n",
    "    W = np.random.randn(n_features)\n",
    "    b = 0.0\n",
    "    m = X.shape[0]\n",
    "    epsilon = 1e-5    # 1*10^(-5)\n",
    "    losses = []\n",
    "\n",
    "    for epoch in range(epochs):\n",
    "        y_pred = predict(X, W, b)\n",
    "        loss = loss_fn(y_pred, y)\n",
    "        losses.append(loss)\n",
    "        \n",
    "        grad_w = np.zeros_like(W)\n",
    "        for i in range(len(W)):\n",
    "            W_eps = np.copy(W)\n",
    "            W_eps[i] += epsilon\n",
    "            loss_eps = loss_fn(predict(X, W_eps, b), y)\n",
    "            grad_w[i] = (loss_eps - loss) / epsilon\n",
    "\n",
    "        b_eps = b + epsilon\n",
    "        loss_eps_b = loss_fn(predict(X, W, b_eps), y)\n",
    "        grad_b = (loss_eps_b - loss) / epsilon\n",
    "\n",
    "        W -= learning_rate * grad_w\n",
    "        b -= learning_rate * grad_b\n",
    "\n",
    "    return W, b, losses"
   ]
  },
  {
   "cell_type": "code",
   "execution_count": 35,
   "metadata": {},
   "outputs": [
    {
     "name": "stdout",
     "output_type": "stream",
     "text": [
      "MSE Loss : 0.3215\n",
      "MAE Loss : 5.6976\n",
      "Huber Loss : 1.9940\n"
     ]
    }
   ],
   "source": [
    "results = {}\n",
    "\n",
    "for name, loss_fn in zip([\"MSE\", \"MAE\", \"Huber\"], [mse_loss, mae_loss, huber_loss]):\n",
    "    W, b, losses = train_regression(X_train, y_train, loss_fn)\n",
    "    results[name] = {\"losses\": losses}\n",
    "\n",
    "    pred_test = predict(X_test, W, b)\n",
    "    test_loss = mse_loss(pred_test, y_test)\n",
    "    print(f'{name} Loss : {test_loss:.4f}')"
   ]
  },
  {
   "cell_type": "code",
   "execution_count": 39,
   "metadata": {},
   "outputs": [
    {
     "data": {
      "image/png": "[encoded data removed]",
      "text/plain": [
       "<Figure size 640x480 with 1 Axes>"
      ]
     },
     "metadata": {},
     "output_type": "display_data"
    }
   ],
   "source": [
    "# print(results.items())\n",
    "\n",
    "for name, value in results.items():\n",
    "    plt.plot(value[\"losses\"], label=name)\n",
    "\n",
    "plt.xlabel('epoch')\n",
    "plt.ylabel('train loss')\n",
    "plt.legend()\n",
    "plt.show()"
   ]
  }
 ],
 "metadata": {
  "kernelspec": {
   "display_name": "pystudy_env",
   "language": "python",
   "name": "python3"
  },
  "language_info": {
   "codemirror_mode": {
    "name": "ipython",
    "version": 3
   },
   "file_extension": ".py",
   "mimetype": "text/x-python",
   "name": "python",
   "nbconvert_exporter": "python",
   "pygments_lexer": "ipython3",
   "version": "3.12.8"
  }
 },
 "nbformat": 4,
 "nbformat_minor": 2
}
