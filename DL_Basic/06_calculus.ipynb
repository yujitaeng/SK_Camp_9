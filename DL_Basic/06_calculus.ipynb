{
 "cells": [
  {
   "cell_type": "markdown",
   "metadata": {},
   "source": [
    "# 수치 미분"
   ]
  },
  {
   "cell_type": "code",
   "execution_count": 1,
   "metadata": {},
   "outputs": [],
   "source": [
    "import numpy as np"
   ]
  },
  {
   "cell_type": "markdown",
   "metadata": {},
   "source": [
    "### 1차원 함수의 수치 미분"
   ]
  },
  {
   "cell_type": "code",
   "execution_count": 3,
   "metadata": {},
   "outputs": [
    {
     "name": "stdout",
     "output_type": "stream",
     "text": [
      "6.0\n",
      "6.000009999951316\n",
      "5.999990000127297\n",
      "6.000000000039306\n"
     ]
    }
   ],
   "source": [
    "def f(x):\n",
    "    return x ** 2\n",
    "\n",
    "def analytical_d(x):\n",
    "    return 2 * x\n",
    "\n",
    "def num_d_forward(f, x, h=1e-5):\n",
    "    return (f(x + h) - f(x)) / h\n",
    "\n",
    "def num_d_backward(f, x, h=1e-5):\n",
    "    return (f(x) - f(x - h)) / h\n",
    "\n",
    "def num_d_central(f, x, h=1e-5):\n",
    "    return (f(x + h) - f(x - h)) / (2 * h)\n",
    "\n",
    "x = 3.0\n",
    "\n",
    "print(analytical_d(x))\n",
    "print(num_d_forward(f, x))\n",
    "print(num_d_backward(f, x))\n",
    "print(num_d_central(f, x))"
   ]
  },
  {
   "cell_type": "markdown",
   "metadata": {},
   "source": [
    "### 다변수 함수의 수치 미분"
   ]
  },
  {
   "cell_type": "code",
   "execution_count": 4,
   "metadata": {},
   "outputs": [
    {
     "name": "stdout",
     "output_type": "stream",
     "text": [
      "6.000000000039306\n",
      "4.000000000026205\n"
     ]
    }
   ],
   "source": [
    "# 편미분\n",
    "def f(x, y):\n",
    "    return x ** 2 + y ** 2\n",
    "\n",
    "def partial_d(f, x, y, var='x', h=1e-5):\n",
    "    if var == 'x':\n",
    "        return (f(x + h, y) - f(x - h, y)) / (2 * h)\n",
    "    else:\n",
    "        return (f(x, y + h) - f(x, y - h)) / (2 * h)\n",
    "\n",
    "print(partial_d(f, 3.0, 2.0, var='x'))\n",
    "print(partial_d(f, 3.0, 2.0, var='y'))"
   ]
  },
  {
   "cell_type": "code",
   "execution_count": 7,
   "metadata": {},
   "outputs": [
    {
     "name": "stdout",
     "output_type": "stream",
     "text": [
      "[2. 4. 6.]\n",
      "[2. 4. 6.]\n"
     ]
    }
   ],
   "source": [
    "def f_multi(x):\n",
    "    return np.sum(x ** 2)\n",
    "\n",
    "def analytical_gradient(x):\n",
    "    return 2 * x\n",
    "\n",
    "def num_d_gradient(f, x, h=1e-5):\n",
    "    grad = np.zeros_like(x)\n",
    "    for idx in range(len(x)):\n",
    "        tmp = x[idx]\n",
    "        x[idx] = tmp + h\n",
    "        f_plus = f(x)\n",
    "        x[idx] = tmp - h\n",
    "        f_minus = f(x)\n",
    "        grad[idx] = (f_plus - f_minus) / (2 * h)\n",
    "        x[idx] = tmp\n",
    "    return grad\n",
    "\n",
    "x = np.array([1.0, 2.0, 3.0])\n",
    "print(analytical_gradient(x))\n",
    "print(num_d_gradient(f_multi, x))"
   ]
  },
  {
   "cell_type": "markdown",
   "metadata": {},
   "source": [
    "### 간단한 신경망의 기울기"
   ]
  },
  {
   "cell_type": "code",
   "execution_count": 9,
   "metadata": {},
   "outputs": [
    {
     "name": "stdout",
     "output_type": "stream",
     "text": [
      "0번째 파라미터 수치 미분 기울기: \n",
      "[[-3.59076788e-04 -1.91454872e-04 -1.82558270e-03]\n",
      " [ 1.43630717e-04  7.65819482e-05  7.30233079e-04]]\n",
      "1번째 파라미터 수치 미분 기울기: \n",
      "[-0.00071815 -0.00038291 -0.00365117]\n",
      "2번째 파라미터 수치 미분 기울기: \n",
      "[[-0.00872872]\n",
      " [-0.00457938]\n",
      " [-0.00700196]]\n",
      "3번째 파라미터 수치 미분 기울기: \n",
      "[-0.01091606]\n"
     ]
    }
   ],
   "source": [
    "def sigmoid(z):\n",
    "    return 1 / (1 + np.exp(-z))\n",
    "\n",
    "def forward_pass(x, params):\n",
    "    W1, b1, W2, b2 = params\n",
    "    z1 = np.dot(x, W1) + b1\n",
    "    r1 = sigmoid(z1)\n",
    "    z2 = np.dot(r1, W2) + b2\n",
    "    r2 = sigmoid(z2)\n",
    "    return r2\n",
    "\n",
    "def loss(r2, y):\n",
    "    return 0.5 * np.sum((r2 - y) ** 2)\n",
    "\n",
    "def get_loss(params, x, y):\n",
    "    r2 = forward_pass(x, params)\n",
    "    return loss(r2, y)\n",
    "\n",
    "def num_d_gradient_params(f, params, x, y, h=1e-5):\n",
    "    grads = []\n",
    "\n",
    "    for param in params:\n",
    "        grad = np.zeros_like(param)\n",
    "        iter = np.nditer(param, flags=['multi_index'], op_flags=['readwrite'])\n",
    "\n",
    "        while not iter.finished:\n",
    "            idx = iter.multi_index\n",
    "            origin_val = param[idx]\n",
    "            param[idx] = origin_val + h\n",
    "            f_plus = f(params, x, y)\n",
    "            param[idx] = origin_val - h\n",
    "            f_minus = f(params, x, y)\n",
    "            grad[idx] = (f_plus - f_minus) / (2 * h)\n",
    "            param[idx] = origin_val\n",
    "            iter.iternext()\n",
    "\n",
    "        grads.append(grad)\n",
    "    return grads\n",
    "\n",
    "np.random.seed(0)\n",
    "input_size = 2\n",
    "hidden_size = 3\n",
    "output_size = 1\n",
    "\n",
    "W1 = np.random.randn(input_size, hidden_size)\n",
    "b1 = np.random.randn(hidden_size)\n",
    "W2 = np.random.randn(hidden_size, output_size)\n",
    "b2 = np.random.randn(output_size)\n",
    "params = [W1, b1, W2, b2]\n",
    "\n",
    "x = np.array([0.5, -0.2])\n",
    "y = np.array([1.0])\n",
    "\n",
    "num_grads = num_d_gradient_params(get_loss, params, x, y)\n",
    "\n",
    "for i, grad in enumerate(num_grads):\n",
    "    print(f'{i}번째 파라미터 수치 미분 기울기: \\n{grad}')"
   ]
  },
  {
   "cell_type": "markdown",
   "metadata": {},
   "source": [
    "### h 값에 따른 영향"
   ]
  },
  {
   "cell_type": "code",
   "execution_count": 10,
   "metadata": {},
   "outputs": [],
   "source": [
    "def f(x):\n",
    "    return x ** 2\n",
    "\n",
    "def analytical_d(x):\n",
    "    return 2 * x\n",
    "\n",
    "def num_d_central(f, x, h=1e-5):\n",
    "    return (f(x + h) - f(x - h)) / (2 * h)\n",
    "\n",
    "x = 3.0\n",
    "h_values = np.logspace(-10, -1, 50)\n",
    "errors = []\n",
    "\n",
    "true_d = analytical_d(x)\n",
    "for h in h_values:\n",
    "    num_d = num_d_central(f, x, h)\n",
    "    error = np.abs(num_d - true_d)\n",
    "    errors.append(error)"
   ]
  },
  {
   "cell_type": "code",
   "execution_count": 11,
   "metadata": {},
   "outputs": [
    {
     "data": {
      "image/png": "[encoded data removed]",
      "text/plain": [
       "<Figure size 500x300 with 1 Axes>"
      ]
     },
     "metadata": {},
     "output_type": "display_data"
    }
   ],
   "source": [
    "import matplotlib.pyplot as plt\n",
    "\n",
    "plt.figure(figsize=(5, 3))\n",
    "plt.loglog(h_values, errors, marker='o')\n",
    "plt.xlabel('h size')\n",
    "plt.ylabel('error')\n",
    "plt.grid(True)\n",
    "plt.show()"
   ]
  },
  {
   "cell_type": "markdown",
   "metadata": {},
   "source": [
    "### 자동 미분"
   ]
  },
  {
   "cell_type": "code",
   "execution_count": 12,
   "metadata": {},
   "outputs": [
    {
     "name": "stdout",
     "output_type": "stream",
     "text": [
      "6.0\n",
      "tensor(6.)\n"
     ]
    }
   ],
   "source": [
    "import torch\n",
    "\n",
    "x = torch.tensor(3.0, requires_grad=True)\n",
    "y = f(x)\n",
    "y.backward()    # 역전파 (여기서는 그냥 미분한 것)\n",
    "\n",
    "print(analytical_d(3.0))\n",
    "print(x.grad)"
   ]
  }
 ],
 "metadata": {
  "kernelspec": {
   "display_name": "pystudy_env",
   "language": "python",
   "name": "python3"
  },
  "language_info": {
   "codemirror_mode": {
    "name": "ipython",
    "version": 3
   },
   "file_extension": ".py",
   "mimetype": "text/x-python",
   "name": "python",
   "nbconvert_exporter": "python",
   "pygments_lexer": "ipython3",
   "version": "3.12.8"
  }
 },
 "nbformat": 4,
 "nbformat_minor": 2
}
