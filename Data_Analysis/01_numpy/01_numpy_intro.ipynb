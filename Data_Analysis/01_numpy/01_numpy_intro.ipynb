{
 "cells": [
  {
   "cell_type": "markdown",
   "metadata": {},
   "source": [
    "## Data Science\n",
    "- 방대한 양의 데이터를 수집, 분석, 시각화 처리하여 유의미한 정보를 추출하는 것\n",
    "- 파이썬 패키지로는 numpy, pandas, matplotib, seaborn 등이 주로 사용됨"
   ]
  },
  {
   "cell_type": "markdown",
   "metadata": {},
   "source": [
    "---"
   ]
  },
  {
   "cell_type": "markdown",
   "metadata": {},
   "source": [
    "## Numpy\n",
    "- 대규모의 다차원 배열, 수치 연산을 지원하는 라이브러리"
   ]
  },
  {
   "cell_type": "code",
   "execution_count": 2,
   "metadata": {},
   "outputs": [
    {
     "name": "stdout",
     "output_type": "stream",
     "text": [
      "Requirement already satisfied: numpy in c:\\users\\playdata\\anaconda3\\envs\\pystudy_env\\lib\\site-packages (2.2.1)\n"
     ]
    }
   ],
   "source": [
    "!pip install numpy"
   ]
  },
  {
   "cell_type": "markdown",
   "metadata": {},
   "source": [
    "---\n",
    "## 다차원 배열 생성\n"
   ]
  },
  {
   "cell_type": "code",
   "execution_count": 3,
   "metadata": {},
   "outputs": [],
   "source": [
    "import numpy as np"
   ]
  },
  {
   "cell_type": "code",
   "execution_count": 5,
   "metadata": {},
   "outputs": [
    {
     "name": "stdout",
     "output_type": "stream",
     "text": [
      "[2025    1    9   11   34] <class 'numpy.ndarray'>\n",
      "[2025, 1, 9, 11, 34] <class 'list'>\n"
     ]
    }
   ],
   "source": [
    "arr = np.array([2025, 1, 9, 11, 34]) # 인자로는 파이썬 리스트를 전달할 수 있음\n",
    "today_arr = [2025, 1, 9, 11, 34] # array랑 비교하려고 만듦 \n",
    "\n",
    "print(arr, type(arr))\n",
    "print(today_arr, type(today_arr))"
   ]
  },
  {
   "cell_type": "code",
   "execution_count": 7,
   "metadata": {},
   "outputs": [
    {
     "name": "stdout",
     "output_type": "stream",
     "text": [
      "[1 2 3 4 5] <class 'numpy.ndarray'>\n"
     ]
    }
   ],
   "source": [
    "arr = np.array((1, 2, 3, 4, 5))\n",
    "print(arr, type(arr))"
   ]
  },
  {
   "cell_type": "code",
   "execution_count": 8,
   "metadata": {},
   "outputs": [
    {
     "name": "stdout",
     "output_type": "stream",
     "text": [
      "(5,)\n",
      "1\n",
      "5\n",
      "int64\n"
     ]
    }
   ],
   "source": [
    "arr = np.array([2025, 1, 9, 11, 34])\n",
    "\n",
    "# ndarray 구조\n",
    "print(arr.shape) # 배열의 모양 (튜플 형태) - (5,)\n",
    "print(arr.ndim)  # 배열의 차원(깊이) (형태를 반환) - 1\n",
    "print(arr.size)  # 배열의 크기 (요소 갯수) - 5\n",
    "print(arr.dtype) # 데이터 타입 확인 (요소로 가진 것의 데이터 타입(자료형)) - int64"
   ]
  },
  {
   "cell_type": "code",
   "execution_count": 11,
   "metadata": {},
   "outputs": [
    {
     "name": "stdout",
     "output_type": "stream",
     "text": [
      "[[1 2 3]\n",
      " [4 5 6]]\n",
      "[[1, 2, 3], [4, 5, 6]]\n",
      "(2, 3)\n",
      "2\n",
      "6\n",
      "int64\n"
     ]
    }
   ],
   "source": [
    "# 2차원은 배열이 하나 더 생긴 것 (1+1)\n",
    "arr_2d = np.array([[1,2,3], [4,5,6]])\n",
    "print(arr_2d)\n",
    "print([[1,2,3], [4,5,6]])\n",
    "\n",
    "print(arr_2d.shape)  # (2, 3) -> (배열, 배열안에 든 요소갯수)\n",
    "print(arr_2d.ndim)   # 2\n",
    "print(arr_2d.size)   # 6\n",
    "print(arr_2d.dtype)  # int64 -> 64bit "
   ]
  },
  {
   "cell_type": "code",
   "execution_count": 14,
   "metadata": {},
   "outputs": [
    {
     "name": "stdout",
     "output_type": "stream",
     "text": [
      "int64\n",
      "float64\n",
      "bool\n",
      "<U9\n"
     ]
    }
   ],
   "source": [
    "arr_int = np.array([2025, 1, 9])\n",
    "print(arr_int.dtype)    # int64(8byte) / inst32(4byte)\n",
    "\n",
    "arr_float = np.array([1.234, 3.456, 9.876, 10]) #ndarry는 하나의 타입만 저장 가능능\n",
    "print(arr_float.dtype)  # float64 / float32\n",
    "\n",
    "arr_bool = np.array([True, False, True, False])\n",
    "print(arr_bool.dtype)   # bool\n",
    "\n",
    "arr_str = np.array(['Hello', 'World', 'numpy-lib', 'great'])\n",
    "print(arr_str.dtype)    # <U9 : 유니코드 9글자까지 저장 가능한 문자열\n"
   ]
  },
  {
   "cell_type": "code",
   "execution_count": 20,
   "metadata": {},
   "outputs": [
    {
     "data": {
      "text/plain": [
       "(array([ 1,  5,  9, 10]), dtype('int64'))"
      ]
     },
     "execution_count": 20,
     "metadata": {},
     "output_type": "execute_result"
    }
   ],
   "source": [
    "# 형변환\n",
    "arr = np.array([1.234, 5.678, 9, 10])\n",
    "arr = np.array([1.234, 5.678, 9, 10], dtype=float)\n",
    "arr = np.array([1.234, 5.678, 9, 10], dtype=int)\n",
    "\n",
    "arr = np.array([1.234, 5.678, 9, 10])\n",
    "arr = arr.astype(int) \n",
    "\n",
    "arr, arr.dtype"
   ]
  },
  {
   "cell_type": "markdown",
   "metadata": {},
   "source": [
    "#### python list와 ndarray의 차이\n",
    "- ndarray는 동일한 자료형만 저장 가능\n",
    "- ndarray는 다차원인 경우, 중첩 배열은 동일한 크기만 허용\n",
    "- 형태/길이를 확인하는 방법의 차이\n",
    "    - python list: len()\n",
    "    - ndarray: ndarray.shape, ndarray.ndim, ndarrary.size\n"
   ]
  },
  {
   "cell_type": "code",
   "execution_count": 23,
   "metadata": {},
   "outputs": [
    {
     "name": "stdout",
     "output_type": "stream",
     "text": [
      "[2025, 1, 9, 'numpy', True]\n",
      "[[1, 2, 3], [4, 5], [6]]\n",
      "3\n",
      "3\n"
     ]
    }
   ],
   "source": [
    "my_list = [2025, 1, 9, 'numpy', True]\n",
    "print(my_list)\n",
    "\n",
    "my_list = [[1, 2, 3], [4, 5], [6]]\n",
    "print(my_list)\n",
    "print(len(my_list))\n",
    "print(len(my_list[0]))\n"
   ]
  },
  {
   "cell_type": "code",
   "execution_count": 25,
   "metadata": {},
   "outputs": [
    {
     "name": "stdout",
     "output_type": "stream",
     "text": [
      "['2025' '1' '9' 'numpy' 'True']\n",
      "(5,)\n",
      "1\n",
      "5\n",
      "<U21\n"
     ]
    }
   ],
   "source": [
    "arr = np.array([2025, 1, 9, 'numpy', True])\n",
    "\n",
    "print(arr)\n",
    "print(arr.shape)\n",
    "print(arr.ndim)\n",
    "print(arr.size)\n",
    "print(arr.dtype)"
   ]
  },
  {
   "cell_type": "markdown",
   "metadata": {},
   "source": [
    "#### 특정 수로 초기화된 ndarray 생성"
   ]
  },
  {
   "cell_type": "code",
   "execution_count": 31,
   "metadata": {},
   "outputs": [
    {
     "name": "stdout",
     "output_type": "stream",
     "text": [
      "[[0. 0. 0.]\n",
      " [0. 0. 0.]\n",
      " [0. 0. 0.]]\n",
      "[[1. 1.]\n",
      " [1. 1.]\n",
      " [1. 1.]\n",
      " [1. 1.]\n",
      " [1. 1.]]\n",
      "[[9]\n",
      " [9]\n",
      " [9]\n",
      " [9]]\n",
      "[9 9 9 9]\n"
     ]
    }
   ],
   "source": [
    "# zeros(shape에 해당되는 부분이 들어가야함) : 모든 요소를 0으로 초기화해서 반환함\n",
    "arr = np.zeros((3, 3))\n",
    "print(arr)\n",
    "\n",
    "# ones(shape에 해당되는 부분이 들어가야함) : 모든 요소를 1로 초기화해서 반환함\n",
    "arr = np.ones((5, 2))\n",
    "print(arr)\n",
    "\n",
    "# full('shape에 해당되는 부분이 들어가야함', 채워줄 특정 값) : 특정 값으로 초기화해서 반환함\n",
    "arr = np.full((4, 1), 9)\n",
    "print(arr)\n",
    "arr = np.full((4,), 9)\n",
    "print(arr)\n"
   ]
  },
  {
   "cell_type": "code",
   "execution_count": 34,
   "metadata": {},
   "outputs": [
    {
     "name": "stdout",
     "output_type": "stream",
     "text": [
      "(2, 2)\n",
      "[[0 0]\n",
      " [0 0]]\n",
      "[[1 1]\n",
      " [1 1]]\n",
      "[[9 9]\n",
      " [9 9]]\n"
     ]
    }
   ],
   "source": [
    "arr = np.array([[10, 20], [30, 40]])\n",
    "print(arr.shape)\n",
    "\n",
    "# zeros_like\n",
    "print(np.zeros_like(arr))\n",
    "\n",
    "# ones_like\n",
    "print(np.ones_like(arr))\n",
    "\n",
    "# full_like\n",
    "print(np.full_like(arr, 9))  # 특정값을 지칭해줘야 함"
   ]
  },
  {
   "cell_type": "markdown",
   "metadata": {},
   "source": [
    "#### 수열 생성\n",
    "- np.arange(start, end, step)\n",
    "    - start :  시작하는 숫자\n",
    "    - end : 끝나는 숫자 + 1\n",
    "    - step : start~end 증가하는 간격"
   ]
  },
  {
   "cell_type": "code",
   "execution_count": 39,
   "metadata": {},
   "outputs": [
    {
     "name": "stdout",
     "output_type": "stream",
     "text": [
      "[1.  1.1 1.2 1.3 1.4 1.5 1.6 1.7 1.8 1.9 2.  2.1 2.2 2.3 2.4 2.5 2.6 2.7\n",
      " 2.8 2.9 3.  3.1 3.2 3.3 3.4 3.5 3.6 3.7 3.8 3.9 4.  4.1 4.2 4.3 4.4 4.5\n",
      " 4.6 4.7 4.8 4.9 5.  5.1 5.2 5.3 5.4 5.5 5.6 5.7 5.8 5.9 6.  6.1 6.2 6.3\n",
      " 6.4 6.5 6.6 6.7 6.8 6.9 7.  7.1 7.2 7.3 7.4 7.5 7.6 7.7 7.8 7.9 8.  8.1\n",
      " 8.2 8.3 8.4 8.5 8.6 8.7 8.8 8.9 9.  9.1 9.2 9.3 9.4 9.5 9.6 9.7 9.8 9.9]\n"
     ]
    }
   ],
   "source": [
    "arr = np.arange(1, 10)\n",
    "arr = np.arange(1, 10, .1)\n",
    "# arr = np.arange(10)\n",
    "print(arr)"
   ]
  },
  {
   "cell_type": "markdown",
   "metadata": {},
   "source": [
    "- np.linspace(start, end, num)\n",
    "    - start :  시작하는 숫자\n",
    "    - end : 끝나는 숫자\n",
    "    - num : 결과로 만들어진 수열의 요소 갯수"
   ]
  },
  {
   "cell_type": "code",
   "execution_count": 45,
   "metadata": {},
   "outputs": [
    {
     "name": "stdout",
     "output_type": "stream",
     "text": [
      "[ 0.          0.20408163  0.40816327  0.6122449   0.81632653  1.02040816\n",
      "  1.2244898   1.42857143  1.63265306  1.83673469  2.04081633  2.24489796\n",
      "  2.44897959  2.65306122  2.85714286  3.06122449  3.26530612  3.46938776\n",
      "  3.67346939  3.87755102  4.08163265  4.28571429  4.48979592  4.69387755\n",
      "  4.89795918  5.10204082  5.30612245  5.51020408  5.71428571  5.91836735\n",
      "  6.12244898  6.32653061  6.53061224  6.73469388  6.93877551  7.14285714\n",
      "  7.34693878  7.55102041  7.75510204  7.95918367  8.16326531  8.36734694\n",
      "  8.57142857  8.7755102   8.97959184  9.18367347  9.3877551   9.59183673\n",
      "  9.79591837 10.        ]\n"
     ]
    }
   ],
   "source": [
    "arr = np.linspace(0, 10, 5)\n",
    "arr = np.linspace(0, 10)\n",
    "# arr = np.linspace(10)\n",
    "print(arr)"
   ]
  },
  {
   "cell_type": "markdown",
   "metadata": {},
   "source": [
    "- np.logspace(start_exp, end_exp, num, base)\n",
    "    - start_exp : 시작 지수\n",
    "    - end_exp : 끝 지수 (포함)\n",
    "    - num : 결과로 만들어진 수열의 요소 갯수\n",
    "    - base : 밑(안주면 기본값 = 10 설정 됨)"
   ]
  },
  {
   "cell_type": "code",
   "execution_count": 46,
   "metadata": {},
   "outputs": [
    {
     "name": "stdout",
     "output_type": "stream",
     "text": [
      "[  10.           46.41588834  215.443469   1000.        ]\n"
     ]
    }
   ],
   "source": [
    "arr = np.logspace(1, 3, 4)\n",
    "print(arr)"
   ]
  },
  {
   "cell_type": "markdown",
   "metadata": {},
   "source": [
    "---\n",
    "### ndarray indexing & slicing"
   ]
  },
  {
   "cell_type": "code",
   "execution_count": 72,
   "metadata": {},
   "outputs": [
    {
     "name": "stdout",
     "output_type": "stream",
     "text": [
      "[ 1  2  3  4  5  6  7  8  9 10]\n",
      "2 4 10\n",
      "10 6\n"
     ]
    }
   ],
   "source": [
    "# 1차원 배열 인덱싱\n",
    "arr = np.arange(1, 11)\n",
    "print(arr)\n",
    "print(arr[1], arr[3], arr[9])\n",
    "print(arr[-1], arr[-5])"
   ]
  },
  {
   "cell_type": "code",
   "execution_count": 75,
   "metadata": {},
   "outputs": [
    {
     "name": "stdout",
     "output_type": "stream",
     "text": [
      "(2, 3)\n",
      "[10 20 30]\n",
      "10 20 30\n"
     ]
    }
   ],
   "source": [
    "# 2차원 배열 인덱싱\n",
    "arr_2d = np.array([[10, 20, 30], [40, 50, 60]])\n",
    "print(arr_2d.shape)\n",
    "\n",
    "print(arr_2d[0])\n",
    "print(arr_2d[0][0], arr_2d[0, 1], arr_2d[(0, 2)])"
   ]
  },
  {
   "cell_type": "code",
   "execution_count": 80,
   "metadata": {},
   "outputs": [
    {
     "name": "stdout",
     "output_type": "stream",
     "text": [
      "[[11 22 33]\n",
      " [44 55 66]\n",
      " [77 88 99]]\n",
      "44\n",
      "88\n",
      "88\n"
     ]
    }
   ],
   "source": [
    "arr = np.array([[11, 22, 33], [44, 55, 66], [77, 88, 99]])\n",
    "print(arr)\n",
    "\n",
    "print(arr[1, 0]) # 44\n",
    "print(arr[2, 1]) # 88\n",
    "print(arr[-1, -2]) # 88 (음수 인덱스 활용)"
   ]
  },
  {
   "cell_type": "code",
   "execution_count": 99,
   "metadata": {},
   "outputs": [
    {
     "name": "stdout",
     "output_type": "stream",
     "text": [
      "[ 1  2  3  4  5  6  7  8  9 10]\n",
      "[3 4 5 6 7]\n",
      "[1 3 5 7 9]\n",
      "[ 5  6  7  8  9 10]\n",
      "[1 2 3 4 5 6 7]\n",
      "[10  9  8  7  6  5  4  3  2  1]\n"
     ]
    }
   ],
   "source": [
    "# 1차원 배열 슬라이싱\n",
    "arr = np.arange(1, 11)\n",
    "\n",
    "print(arr)  # [ 1  2  3  4  5  6  7  8  9 10]\n",
    "print(arr[2:7])  # [3 4 5 6 7]\n",
    "print(arr[::2]) # [1 3 5 7 9]\n",
    "print(arr[4:])  # [5 6 7 8 9 10]\n",
    "print(arr[:7])  # [1 2 3 4 5 6 7]\n",
    "print(arr[::-1])  # [10 9 8 7 6 5 4 3 2 1]"
   ]
  },
  {
   "cell_type": "code",
   "execution_count": 109,
   "metadata": {},
   "outputs": [
    {
     "name": "stdout",
     "output_type": "stream",
     "text": [
      "[[10 20 30]\n",
      " [40 50 60]\n",
      " [70 80 90]]\n",
      "[[20]\n",
      " [50]]\n",
      "[[10 20 30]\n",
      " [40 50 60]]\n",
      "[[20 30]\n",
      " [50 60]\n",
      " [80 90]]\n",
      "[[10]\n",
      " [40]] (2, 1)\n",
      "[10 40] (2,)\n"
     ]
    }
   ],
   "source": [
    "# 2차원 배열 슬라이싱\n",
    "arr = np.array([[10, 20, 30], [40, 50, 60], [70, 80, 90]])\n",
    "print(arr)\n",
    "print(arr[0:2, 1:2]) # [행 슬라이싱, 열 슬라이싱] # [[20] [50]]\n",
    "\n",
    "print(arr[0:2,:]) # 같은 값 print(arr[0:2])\n",
    "print(arr[:,1:])\n",
    "\n",
    "# 슬라이싱 = shape 유지(차원 유지)\n",
    "print(arr[:-1, 0:1], arr[:-1, 0:1].shape)\n",
    "\n",
    "#index 접근 -> 값을 꺼내서 반환 (차원 제거)\n",
    "print(arr[:-1, 0], arr[:-1, 0].shape)"
   ]
  },
  {
   "cell_type": "code",
   "execution_count": 112,
   "metadata": {},
   "outputs": [
    {
     "name": "stdout",
     "output_type": "stream",
     "text": [
      "[ 5 10 15 20 25 30]\n",
      "[10 20 30]\n",
      "[10 20 30]\n"
     ]
    }
   ],
   "source": [
    "# 1차원 배열 fancy indexing\n",
    "arr = np.arange(5, 31, 5)\n",
    "print(arr) # [ 5 10 15 20 25 30]\n",
    "\n",
    "print(arr[[1, 3, 5]]) # [10 20 30] -> index는 리스트로 줘야해서 [[]]개로 해서 배열을 줘야 함\n",
    "\n",
    "idx = [1, 3, 5]\n",
    "print(arr[idx]) # [10 20 30] -> 변수로도 가능"
   ]
  },
  {
   "cell_type": "code",
   "execution_count": 118,
   "metadata": {},
   "outputs": [
    {
     "name": "stdout",
     "output_type": "stream",
     "text": [
      "[10 35]\n"
     ]
    }
   ],
   "source": [
    "# 2차원 배열 fancy indexing\n",
    "arr = np.array([\n",
    "    [5, 10, 15, 20],\n",
    "    [25, 30, 35, 40],\n",
    "    [45, 50, 55, 60]\n",
    "])\n",
    "\n",
    "print(arr[[0,1],[1,2]])  # [10 35]"
   ]
  },
  {
   "cell_type": "code",
   "execution_count": 121,
   "metadata": {},
   "outputs": [
    {
     "name": "stdout",
     "output_type": "stream",
     "text": [
      "[1 2 3 4 5]\n",
      "[1 5]\n"
     ]
    }
   ],
   "source": [
    "# boolean indexing\n",
    "arr = np.arange(1, 6)\n",
    "print(arr) # [1 2 3 4 5]\n",
    "\n",
    "bools = [True, False, False, False, True]\n",
    "print(arr[bools]) # [1 5]"
   ]
  },
  {
   "cell_type": "code",
   "execution_count": 122,
   "metadata": {},
   "outputs": [
    {
     "name": "stdout",
     "output_type": "stream",
     "text": [
      "[12 15 18 21 24 27]\n",
      "[ 6 12 18 24]\n"
     ]
    }
   ],
   "source": [
    "# 2차원 배열 boolean indexing\n",
    "arr = np.array([\n",
    "    [3, 6, 9],\n",
    "    [12, 15, 18],\n",
    "    [21, 24, 27]\n",
    "])\n",
    "\n",
    "print(arr[arr > 10])       # [12 15 18 21 24 27]\n",
    "print(arr[arr % 2 == 0])   # [ 6 12 18 24]\n"
   ]
  },
  {
   "cell_type": "markdown",
   "metadata": {},
   "source": [
    "- np.all() : ndarray의 모든 요소가 조건을 만족할 때 True 반환\n",
    "- np.any() : ndarray의 요소 중 하나라도 조건을 만족할 때 True 반환"
   ]
  },
  {
   "cell_type": "code",
   "execution_count": 123,
   "metadata": {},
   "outputs": [
    {
     "name": "stdout",
     "output_type": "stream",
     "text": [
      "모든 수가 양수는 아닙니다.\n"
     ]
    }
   ],
   "source": [
    "arr = np.array([10, 20, 30, 40, -50])\n",
    "is_all_positive = np.all(arr > 0) # np.False_\n",
    "\n",
    "if is_all_positive:\n",
    "    print('모든 수는 양수입니다.')\n",
    "else:\n",
    "    print('모든 수가 양수는 아닙니다.') # 모든 수가 양수는 아닙니다."
   ]
  },
  {
   "cell_type": "code",
   "execution_count": 124,
   "metadata": {},
   "outputs": [
    {
     "name": "stdout",
     "output_type": "stream",
     "text": [
      "모든 수는 양수입니다.\n"
     ]
    }
   ],
   "source": [
    "has_positive = np.any(arr > 0)\n",
    "\n",
    "if has_positive:\n",
    "    print('모든 수는 양수입니다.') # 모든 수는 양수입니다.\n",
    "else:\n",
    "    print('모든 수가 양수는 아닙니다.')"
   ]
  }
 ],
 "metadata": {
  "kernelspec": {
   "display_name": "pystudy_env",
   "language": "python",
   "name": "python3"
  },
  "language_info": {
   "codemirror_mode": {
    "name": "ipython",
    "version": 3
   },
   "file_extension": ".py",
   "mimetype": "text/x-python",
   "name": "python",
   "nbconvert_exporter": "python",
   "pygments_lexer": "ipython3",
   "version": "3.12.8"
  }
 },
 "nbformat": 4,
 "nbformat_minor": 2
}
