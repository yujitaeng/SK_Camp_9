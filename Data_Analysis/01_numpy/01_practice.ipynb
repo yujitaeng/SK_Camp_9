{
 "cells": [
  {
   "cell_type": "markdown",
   "metadata": {},
   "source": [
    "----\n",
    "## 실습 문제\n",
    "NumPy를 사용하여 다음과 같은 배열을 생성해 보세요.\n",
    "\n",
    "1. 크기가 4x3인 모든 값이 0인 배열\n",
    "2. 크기가 3x3인 모든 값이 1인 배열\n",
    "3. 0에서 20까지 5씩 증가하는 값으로 구성된 배열\n",
    "4. 0과 1 사이의 4개의 등간격 값을 가진 배열\n",
    "5. 크기가 2x2인 정규 분포로 구성된 배열"
   ]
  },
  {
   "cell_type": "code",
   "execution_count": 2,
   "metadata": {},
   "outputs": [
    {
     "name": "stdout",
     "output_type": "stream",
     "text": [
      "Requirement already satisfied: numpy in c:\\users\\playdata\\anaconda3\\envs\\pystudy_env\\lib\\site-packages (2.2.1)\n"
     ]
    }
   ],
   "source": [
    "!pip install numpy"
   ]
  },
  {
   "cell_type": "code",
   "execution_count": 5,
   "metadata": {},
   "outputs": [],
   "source": [
    "import numpy as np"
   ]
  },
  {
   "cell_type": "code",
   "execution_count": 4,
   "metadata": {},
   "outputs": [
    {
     "name": "stdout",
     "output_type": "stream",
     "text": [
      "[[0. 0. 0.]\n",
      " [0. 0. 0.]\n",
      " [0. 0. 0.]\n",
      " [0. 0. 0.]]\n",
      "[[1. 1. 1.]\n",
      " [1. 1. 1.]\n",
      " [1. 1. 1.]]\n",
      "[ 0  5 10 15 20]\n",
      "[0.         0.33333333 0.66666667 1.        ]\n",
      "[[-0.87950956 -0.66427316]\n",
      " [-0.14574988  0.61234709]]\n",
      "[[ 0.88798486 -1.01442659]\n",
      " [-0.31221638 -0.15122474]]\n"
     ]
    }
   ],
   "source": [
    "arr = np.zeros([4, 3])\n",
    "print(arr)\n",
    "\n",
    "arr = np.ones([3, 3])\n",
    "print(arr)\n",
    "\n",
    "arr = np.arange(0, 21, 5)\n",
    "print(arr)\n",
    "\n",
    "arr = np.linspace(0, 1, 4)\n",
    "print(arr)\n",
    "\n",
    "arr = np.random.randn(2, 2)\n",
    "print(arr)\n",
    "\n",
    "# 번외\n",
    "arr = np.random.normal(loc=0, scale=1, size=(2, 2)) # 평균, 표준편차, 배열의 사이즈\n",
    "print(arr)"
   ]
  },
  {
   "cell_type": "markdown",
   "metadata": {},
   "source": [
    "---\n",
    "### 2 실습"
   ]
  },
  {
   "cell_type": "code",
   "execution_count": 16,
   "metadata": {},
   "outputs": [
    {
     "name": "stdout",
     "output_type": "stream",
     "text": [
      "[[10 20 30]\n",
      " [40 50 60]\n",
      " [70 80 90]]\n",
      "60\n",
      "[[10]\n",
      " [40]\n",
      " [70]]\n",
      "[[10 20]\n",
      " [40 50]]\n"
     ]
    }
   ],
   "source": [
    "# Q1\n",
    "arr = np.array([[10, 20, 30], [40, 50, 60], [70, 80, 90]])\n",
    "print(arr)\n",
    "\n",
    "print(arr[1, 2])\n",
    "print(arr[:, :1])\n",
    "print(arr[:2, :2])"
   ]
  },
  {
   "cell_type": "code",
   "execution_count": 21,
   "metadata": {},
   "outputs": [
    {
     "name": "stdout",
     "output_type": "stream",
     "text": [
      "[10 20 30 40 50 60 70]\n",
      "[10 30 50]\n",
      "[60 70]\n"
     ]
    }
   ],
   "source": [
    "arr = np.array([10, 20, 30, 40, 50, 60, 70])\n",
    "print(arr)\n",
    "\n",
    "print(arr[[0, 2, 4]])\n",
    "print(arr[arr > 50])\n"
   ]
  }
 ],
 "metadata": {
  "kernelspec": {
   "display_name": "pystudy_env",
   "language": "python",
   "name": "python3"
  },
  "language_info": {
   "codemirror_mode": {
    "name": "ipython",
    "version": 3
   },
   "file_extension": ".py",
   "mimetype": "text/x-python",
   "name": "python",
   "nbconvert_exporter": "python",
   "pygments_lexer": "ipython3",
   "version": "3.12.8"
  }
 },
 "nbformat": 4,
 "nbformat_minor": 2
}
