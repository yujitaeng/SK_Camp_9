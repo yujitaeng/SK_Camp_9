{
 "cells": [
  {
   "cell_type": "code",
   "execution_count": 1,
   "metadata": {},
   "outputs": [],
   "source": [
    "import numpy as np"
   ]
  },
  {
   "cell_type": "markdown",
   "metadata": {},
   "source": [
    "### 1 실습"
   ]
  },
  {
   "cell_type": "code",
   "execution_count": 2,
   "metadata": {},
   "outputs": [
    {
     "name": "stdout",
     "output_type": "stream",
     "text": [
      "[10 20 30 40 50]\n",
      "[50 40 30 20 10]\n"
     ]
    }
   ],
   "source": [
    "arr = np.array([50, 10, 30, 40, 20])\n",
    "\n",
    "print(np.sort(arr))\n",
    "print(np.sort(arr)[::-1])"
   ]
  },
  {
   "cell_type": "code",
   "execution_count": 3,
   "metadata": {},
   "outputs": [
    {
     "name": "stdout",
     "output_type": "stream",
     "text": [
      "[[2 3 1]\n",
      " [8 9 5]]\n",
      "[[3 5 8]\n",
      " [1 2 9]]\n"
     ]
    }
   ],
   "source": [
    "arr2d = np.array([[8, 3, 5], [2, 9, 1]])\n",
    "\n",
    "print(np.sort(arr2d, axis=0))\n",
    "print(np.sort(arr2d, axis=1))"
   ]
  },
  {
   "cell_type": "code",
   "execution_count": 9,
   "metadata": {},
   "outputs": [
    {
     "name": "stdout",
     "output_type": "stream",
     "text": [
      "[1 0 2]\n",
      "[10 15 20]\n"
     ]
    }
   ],
   "source": [
    "arr = np.array([15, 10, 20])\n",
    "print(np.argsort(arr))\n",
    "\n",
    "arr2 = np.argsort(arr)\n",
    "print(arr[arr2])"
   ]
  }
 ],
 "metadata": {
  "kernelspec": {
   "display_name": "pystudy_env",
   "language": "python",
   "name": "python3"
  },
  "language_info": {
   "codemirror_mode": {
    "name": "ipython",
    "version": 3
   },
   "file_extension": ".py",
   "mimetype": "text/x-python",
   "name": "python",
   "nbconvert_exporter": "python",
   "pygments_lexer": "ipython3",
   "version": "3.12.8"
  }
 },
 "nbformat": 4,
 "nbformat_minor": 2
}
