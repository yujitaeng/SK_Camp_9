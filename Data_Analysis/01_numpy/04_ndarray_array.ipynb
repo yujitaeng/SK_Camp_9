{
 "cells": [
  {
   "cell_type": "code",
   "execution_count": 10,
   "metadata": {},
   "outputs": [
    {
     "name": "stdout",
     "output_type": "stream",
     "text": [
      "Requirement already satisfied: numpy in c:\\users\\playdata\\anaconda3\\envs\\pystudy_env\\lib\\site-packages (2.2.1)\n"
     ]
    }
   ],
   "source": [
    "!pip install numpy\n",
    "import numpy as np"
   ]
  },
  {
   "cell_type": "markdown",
   "metadata": {},
   "source": [
    "### ndarray 정렬"
   ]
  },
  {
   "cell_type": "markdown",
   "metadata": {},
   "source": [
    "1차원 배열 정렬"
   ]
  },
  {
   "cell_type": "code",
   "execution_count": 11,
   "metadata": {},
   "outputs": [
    {
     "name": "stdout",
     "output_type": "stream",
     "text": [
      "[6 8 4 9 6 6 3 6 5 2]\n"
     ]
    }
   ],
   "source": [
    "arr = np.random.randint(1, 11, 10)\n",
    "print(arr)"
   ]
  },
  {
   "cell_type": "code",
   "execution_count": 14,
   "metadata": {},
   "outputs": [
    {
     "name": "stdout",
     "output_type": "stream",
     "text": [
      "[2 3 4 5 6 6 6 6 8 9]\n"
     ]
    }
   ],
   "source": [
    "# np.sort() : 정렬된 ndarray를 반환\n",
    "arr = np.sort(arr)\n",
    "print(arr)"
   ]
  },
  {
   "cell_type": "code",
   "execution_count": 15,
   "metadata": {},
   "outputs": [
    {
     "data": {
      "text/plain": [
       "array([9, 8, 6, 6, 6, 6, 5, 4, 3, 2], dtype=int32)"
      ]
     },
     "execution_count": 15,
     "metadata": {},
     "output_type": "execute_result"
    }
   ],
   "source": [
    "np.sort(arr)[::-1]"
   ]
  },
  {
   "cell_type": "markdown",
   "metadata": {},
   "source": [
    "---\n",
    "### 2차원 배열 정렬"
   ]
  },
  {
   "cell_type": "code",
   "execution_count": 16,
   "metadata": {},
   "outputs": [
    {
     "name": "stdout",
     "output_type": "stream",
     "text": [
      "[[5 4 0 5]\n",
      " [6 8 7 9]\n",
      " [8 8 0 1]]\n"
     ]
    }
   ],
   "source": [
    "arr = np.random.randint(10, size=(3, 4)) # 0 이상 10 미만\n",
    "print(arr) "
   ]
  },
  {
   "cell_type": "code",
   "execution_count": 19,
   "metadata": {},
   "outputs": [
    {
     "name": "stdout",
     "output_type": "stream",
     "text": [
      "[[0 4 5 5]\n",
      " [6 7 8 9]\n",
      " [0 1 8 8]]\n",
      "[[5 4 0 1]\n",
      " [6 8 0 5]\n",
      " [8 8 7 9]]\n",
      "[[0 4 5 5]\n",
      " [6 7 8 9]\n",
      " [0 1 8 8]]\n"
     ]
    }
   ],
   "source": [
    "print(np.sort(arr))             # 기본값 axis=1\n",
    "print(np.sort(arr, axis=0))     # 행 방향 정렬 (같은 열 안에서 정렬)\n",
    "print(np.sort(arr, axis=1))     # 열 방향 정렬 (같은 행 안에서 정렬)"
   ]
  },
  {
   "cell_type": "code",
   "execution_count": 21,
   "metadata": {},
   "outputs": [
    {
     "name": "stdout",
     "output_type": "stream",
     "text": [
      "[0 0 1 4 5 5 6 7 8 8 8 9]\n",
      "(12,)\n"
     ]
    }
   ],
   "source": [
    "print(np.sort(arr, axis=None))        # axis=None 축 무시 (행/열 구분없이 모든 값 정렬)\n",
    "print(np.sort(arr, axis=None).shape)"
   ]
  },
  {
   "cell_type": "markdown",
   "metadata": {},
   "source": [
    "np.argsort()\n",
    " - 배열의 값을 정렬했을 때, 각 값의 원래 인덱스를 반환\n",
    " - 정렬할 때 어떤 순서로 값을 배치해야 하는 지 알려주는 인덱스를 반환\n",
    " - 배열의 값을 정렬한 후, 정렬된 순서에 해당하는 인덱스를 반환\n",
    "- (= 위치 인덱스 반환!)"
   ]
  },
  {
   "cell_type": "code",
   "execution_count": 23,
   "metadata": {},
   "outputs": [
    {
     "name": "stdout",
     "output_type": "stream",
     "text": [
      "[100 200 300 400]\n",
      "[0 2 3 1]\n"
     ]
    }
   ],
   "source": [
    "arr =np.array([100, 400, 200, 300])\n",
    "\n",
    "print(np.sort(arr))\n",
    "print(np.argsort(arr))"
   ]
  },
  {
   "cell_type": "code",
   "execution_count": 31,
   "metadata": {},
   "outputs": [
    {
     "name": "stdout",
     "output_type": "stream",
     "text": [
      "[1000  900  870  670]\n",
      "[2 0 1 3]\n",
      "['제니' '리사' '로제' '지수']\n"
     ]
    }
   ],
   "source": [
    "names = np.array(['리사', '로제', '제니', '지수'])\n",
    "album_sales = np.array([900, 870, 1000, 670])\n",
    "\n",
    "print(np.sort(album_sales)[::-1]) # [1000  900  870  670]\n",
    "print(np.argsort(album_sales)[::-1]) # [2 0 1 3]\n",
    "\n",
    "sales_desc = np.argsort(album_sales)[::-1]\n",
    "print(names[sales_desc]) # ['제니' '리사' '로제' '지수']"
   ]
  },
  {
   "cell_type": "code",
   "execution_count": 33,
   "metadata": {},
   "outputs": [
    {
     "name": "stdout",
     "output_type": "stream",
     "text": [
      "[[1 2 0]\n",
      " [0 2 1]]\n",
      "[[1 0 0]\n",
      " [0 1 1]]\n",
      "[[1 2 0]\n",
      " [0 2 1]]\n"
     ]
    }
   ],
   "source": [
    "# 2차원 배열에서 argsort\n",
    "arr = np.array([[2025, 1, 10], [15, 40, 30]])\n",
    "\n",
    "print(np.argsort(arr))  # 기본 axis 값 = 1\n",
    "print(np.argsort(arr, axis=0))  # 행 방향 정렬의 순서 (같은 열 안에서 정렬)\n",
    "print(np.argsort(arr, axis=1))  # 열 방향 정렬의 순서 (같은 행 안에서 정렬)"
   ]
  }
 ],
 "metadata": {
  "kernelspec": {
   "display_name": "pystudy_env",
   "language": "python",
   "name": "python3"
  },
  "language_info": {
   "codemirror_mode": {
    "name": "ipython",
    "version": 3
   },
   "file_extension": ".py",
   "mimetype": "text/x-python",
   "name": "python",
   "nbconvert_exporter": "python",
   "pygments_lexer": "ipython3",
   "version": "3.12.8"
  }
 },
 "nbformat": 4,
 "nbformat_minor": 2
}
