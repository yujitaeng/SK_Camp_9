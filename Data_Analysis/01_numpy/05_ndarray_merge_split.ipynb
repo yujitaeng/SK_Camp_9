{
 "cells": [
  {
   "cell_type": "markdown",
   "metadata": {},
   "source": [
    "### ndarray 병합 및 분할\n",
    "- ndarray는 고정 길이 배열이므로 크기 변경이 불가하다 == 요소를 추가할 수 없다."
   ]
  },
  {
   "cell_type": "code",
   "execution_count": 1,
   "metadata": {},
   "outputs": [],
   "source": [
    "import numpy as np"
   ]
  },
  {
   "cell_type": "markdown",
   "metadata": {},
   "source": [
    "### ndarray 요소 추가 및 삭제"
   ]
  },
  {
   "cell_type": "code",
   "execution_count": 4,
   "metadata": {},
   "outputs": [
    {
     "name": "stdout",
     "output_type": "stream",
     "text": [
      "[10 20 30]\n",
      "False [10 15 20 30]\n"
     ]
    }
   ],
   "source": [
    "# insert() : 요소를 추가한 새로운 배열을 반환\n",
    "\n",
    "arr = np.array([10, 20, 30])\n",
    "\n",
    "# arr1 = np.append(arr, 40)\n",
    "arr2 = np.insert(arr, 1, 15) # 1번 자리에 15가 추가 됌 \n",
    "\n",
    "print(arr)\n",
    "# print(arr1)\n",
    "print(arr2 is arr, arr2) # False [10 15 20 30]\n"
   ]
  },
  {
   "cell_type": "code",
   "execution_count": 9,
   "metadata": {},
   "outputs": [
    {
     "name": "stdout",
     "output_type": "stream",
     "text": [
      "[[ 1  2  3  4]\n",
      " [ 5  6  7  8]\n",
      " [ 9 10 11 12]]\n",
      "[[  1   2   3   4]\n",
      " [100 200 300 400]\n",
      " [  5   6   7   8]\n",
      " [  9  10  11  12]]\n"
     ]
    }
   ],
   "source": [
    "# 2차원 배열에서 insert()\n",
    "arr = np.arange(1, 13).reshape(3, 4)\n",
    "\n",
    "print(np.insert(arr, 1, 100))  # axis=None : 1차원 배열로 반환 후 삽입\n",
    "\n",
    "print(np.insert(arr, 1, [100, 200, 300, 400], axis=0)) # 원본배열, 삽입할 위치 인덱스, 삽입할 요소, axis (axis=0: 행기준)"
   ]
  },
  {
   "cell_type": "code",
   "execution_count": 12,
   "metadata": {},
   "outputs": [
    {
     "name": "stdout",
     "output_type": "stream",
     "text": [
      "[[  1 100   2   3   4]\n",
      " [  5 200   6   7   8]\n",
      " [  9 300  10  11  12]]\n",
      "[[  1 100   2   3   4]\n",
      " [  5 100   6   7   8]\n",
      " [  9 100  10  11  12]]\n",
      "[[  1 100   2   3   4]\n",
      " [  5 100   6   7   8]\n",
      " [  9 100  10  11  12]]\n"
     ]
    }
   ],
   "source": [
    "arr = np.arange(1, 13).reshape(3, 4)\n",
    "# print(arr)\n",
    "\n",
    "print(np.insert(arr, 1, [100, 200, 300], axis=1))  # axis=1 : 열 기준\n",
    "print(np.insert(arr, 1, [100], axis=1))\n",
    "print(np.insert(arr, 1, 100, axis=1))"
   ]
  },
  {
   "cell_type": "code",
   "execution_count": 13,
   "metadata": {},
   "outputs": [
    {
     "name": "stdout",
     "output_type": "stream",
     "text": [
      "[ 1  2  3  4  5  6  7  9 10 11 12 13 14]\n",
      "[ 1  2  3  4  5  6  7  8  9 10 11 12 13 14]\n"
     ]
    }
   ],
   "source": [
    "# delete() : 요소를 삭제한 새로운 배열을 반환\n",
    "\n",
    "arr = np.arange(1, 15)\n",
    "print(np.delete(arr, 7))  # 원본배열, 삭제할 요소의 위치 인덱스\n",
    "print(arr)"
   ]
  },
  {
   "cell_type": "code",
   "execution_count": 15,
   "metadata": {},
   "outputs": [
    {
     "name": "stdout",
     "output_type": "stream",
     "text": [
      "[[ 1  2  3  4]\n",
      " [ 5  6  7  8]\n",
      " [ 9 10 11 12]]\n",
      "[ 1  3  4  5  6  7  8  9 10 11 12]\n",
      "[[ 1  2  3  4]\n",
      " [ 9 10 11 12]]\n",
      "[[ 1  3  4]\n",
      " [ 5  7  8]\n",
      " [ 9 11 12]]\n"
     ]
    }
   ],
   "source": [
    "# 2차원 배열에서의 delete()\n",
    "\n",
    "arr =np.arange(1, 13).reshape(3, 4)\n",
    "print(arr)\n",
    "\n",
    "print(np.delete(arr, 1))  # aixs=None : 1차원 배열로 반환 후 삭제\n",
    "\n",
    "print(np.delete(arr, 1, axis=0))\n",
    "print(np.delete(arr, 1, axis=1))\n"
   ]
  },
  {
   "cell_type": "markdown",
   "metadata": {},
   "source": [
    "---\n",
    "### ndarray 병합\n",
    "- np.append()\n",
    "- np.vstack()\n",
    "- np.hstack()\n",
    "- np.concatenate()"
   ]
  },
  {
   "cell_type": "code",
   "execution_count": 16,
   "metadata": {},
   "outputs": [
    {
     "name": "stdout",
     "output_type": "stream",
     "text": [
      "[[ 1  2  3  4]\n",
      " [ 5  6  7  8]\n",
      " [ 9 10 11 12]] [[13 14 15 16]\n",
      " [17 18 19 20]\n",
      " [21 22 23 24]]\n"
     ]
    }
   ],
   "source": [
    "arr1 = np.arange(1, 13).reshape(3, 4)\n",
    "arr2 = np.arange(13, 25).reshape(3, 4)\n",
    "print(arr1, arr2)"
   ]
  },
  {
   "cell_type": "code",
   "execution_count": 18,
   "metadata": {},
   "outputs": [
    {
     "name": "stdout",
     "output_type": "stream",
     "text": [
      "[ 1  2  3  4  5  6  7  8  9 10 11 12 13 14 15 16 17 18 19 20 21 22 23 24]\n",
      "[[ 1  2  3  4]\n",
      " [ 5  6  7  8]\n",
      " [ 9 10 11 12]\n",
      " [13 14 15 16]\n",
      " [17 18 19 20]\n",
      " [21 22 23 24]]\n",
      "[[ 1  2  3  4 13 14 15 16]\n",
      " [ 5  6  7  8 17 18 19 20]\n",
      " [ 9 10 11 12 21 22 23 24]]\n"
     ]
    }
   ],
   "source": [
    "# append()\n",
    "print(np.append(arr1, arr2))\n",
    "print(np.append(arr1, arr2, axis=0))\n",
    "print(np.append(arr1, arr2, axis=1))"
   ]
  },
  {
   "cell_type": "code",
   "execution_count": 19,
   "metadata": {},
   "outputs": [
    {
     "name": "stdout",
     "output_type": "stream",
     "text": [
      "[[ 1  2  3  4]\n",
      " [ 5  6  7  8]\n",
      " [ 9 10 11 12]\n",
      " [13 14 15 16]\n",
      " [17 18 19 20]\n",
      " [21 22 23 24]]\n"
     ]
    }
   ],
   "source": [
    "# np.vstack() : axis=0 병합과 동일 (행 기준)\n",
    "print(np.vstack((arr1, arr2)))\n"
   ]
  },
  {
   "cell_type": "code",
   "execution_count": 21,
   "metadata": {},
   "outputs": [
    {
     "name": "stdout",
     "output_type": "stream",
     "text": [
      "[[ 1  2  3  4 13 14 15 16]\n",
      " [ 5  6  7  8 17 18 19 20]\n",
      " [ 9 10 11 12 21 22 23 24]]\n"
     ]
    }
   ],
   "source": [
    "# np.hstack() : axis=1 병합과 동일 (열 기준)\n",
    "print(np.hstack([arr1, arr2]))\n"
   ]
  },
  {
   "cell_type": "code",
   "execution_count": 24,
   "metadata": {},
   "outputs": [
    {
     "name": "stdout",
     "output_type": "stream",
     "text": [
      "[[ 1  2  3  4]\n",
      " [ 5  6  7  8]\n",
      " [ 9 10 11 12]\n",
      " [13 14 15 16]\n",
      " [17 18 19 20]\n",
      " [21 22 23 24]]\n",
      "[[ 1  2  3  4]\n",
      " [ 5  6  7  8]\n",
      " [ 9 10 11 12]\n",
      " [13 14 15 16]\n",
      " [17 18 19 20]\n",
      " [21 22 23 24]]\n",
      "[[ 1  2  3  4 13 14 15 16]\n",
      " [ 5  6  7  8 17 18 19 20]\n",
      " [ 9 10 11 12 21 22 23 24]]\n",
      "[ 1  2  3  4  5  6  7  8  9 10 11 12 13 14 15 16 17 18 19 20 21 22 23 24]\n"
     ]
    }
   ],
   "source": [
    "# np.concatenate()\n",
    "print(np.concatenate((arr1, arr2)))\n",
    "print(np.concatenate((arr1, arr2), axis=0))\n",
    "print(np.concatenate((arr1, arr2), axis=1))\n",
    "print(np.concatenate((arr1, arr2), axis=None))"
   ]
  }
 ],
 "metadata": {
  "kernelspec": {
   "display_name": "pystudy_env",
   "language": "python",
   "name": "python3"
  },
  "language_info": {
   "codemirror_mode": {
    "name": "ipython",
    "version": 3
   },
   "file_extension": ".py",
   "mimetype": "text/x-python",
   "name": "python",
   "nbconvert_exporter": "python",
   "pygments_lexer": "ipython3",
   "version": "3.12.8"
  }
 },
 "nbformat": 4,
 "nbformat_minor": 2
}
