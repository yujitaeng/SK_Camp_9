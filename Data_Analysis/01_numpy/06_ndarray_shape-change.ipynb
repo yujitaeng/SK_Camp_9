{
 "cells": [
  {
   "cell_type": "markdown",
   "metadata": {},
   "source": [
    "### ndarray 형태변경"
   ]
  },
  {
   "cell_type": "code",
   "execution_count": 1,
   "metadata": {},
   "outputs": [],
   "source": [
    "import numpy as np"
   ]
  },
  {
   "cell_type": "code",
   "execution_count": 7,
   "metadata": {},
   "outputs": [
    {
     "name": "stdout",
     "output_type": "stream",
     "text": [
      "1 [ 0  1  2  3  4  5  6  7  8  9 10 11]\n",
      "2 (3, 4)\n",
      "[[ 0  1  2  3]\n",
      " [ 4  5  6  7]\n",
      " [ 8  9 10 11]]\n",
      "3 (2, 2, 3)\n",
      "[[[ 0  1  2]\n",
      "  [ 3  4  5]]\n",
      "\n",
      " [[ 6  7  8]\n",
      "  [ 9 10 11]]]\n"
     ]
    }
   ],
   "source": [
    "# reshape()\n",
    "# 요소의 갯수가 맞는 shape으로 변형 가능\n",
    "\n",
    "arr = np.arange(12)\n",
    "print(arr.ndim, arr) # ndim : 깊이를 나타내 줌(차원)\n",
    "\n",
    "arr = arr.reshape(3, 4)\n",
    "# arr = arr.reshape(2, 7) # 요소가 14개라는 범위를 넘어서서 error 나는 것 -> 요소의 갯수를 바꿀 순 없음\n",
    "print(arr.ndim, arr.shape)\n",
    "print(arr)\n",
    "\n",
    "arr = arr.reshape(2, 2, 3)\n",
    "# arr = arr.reshape(2, 2, 2) -> 똑같이 요소 갯수 맞춰야만 가능!\n",
    "print(arr.ndim, arr.shape)\n",
    "print(arr)"
   ]
  },
  {
   "cell_type": "code",
   "execution_count": 11,
   "metadata": {},
   "outputs": [
    {
     "name": "stdout",
     "output_type": "stream",
     "text": [
      "[ 0  1  2  3  4  5  6  7  8  9 10 11]\n"
     ]
    },
    {
     "ename": "ValueError",
     "evalue": "cannot reshape array of size 12 into shape (5)",
     "output_type": "error",
     "traceback": [
      "\u001b[1;31m---------------------------------------------------------------------------\u001b[0m",
      "\u001b[1;31mValueError\u001b[0m                                Traceback (most recent call last)",
      "Cell \u001b[1;32mIn[11], line 8\u001b[0m\n\u001b[0;32m      6\u001b[0m arr \u001b[38;5;241m=\u001b[39m arr\u001b[38;5;241m.\u001b[39mreshape(\u001b[38;5;241m-\u001b[39m\u001b[38;5;241m1\u001b[39m, \u001b[38;5;241m4\u001b[39m)  \u001b[38;5;66;03m# 열의 갯수를 정해주면, 행의 갯수는 알아서 함\u001b[39;00m\n\u001b[0;32m      7\u001b[0m \u001b[38;5;66;03m# -1 은 자동해주는 값으로 생각하면 됌\u001b[39;00m\n\u001b[1;32m----> 8\u001b[0m arr \u001b[38;5;241m=\u001b[39m \u001b[43marr\u001b[49m\u001b[38;5;241;43m.\u001b[39;49m\u001b[43mreshape\u001b[49m\u001b[43m(\u001b[49m\u001b[38;5;241;43m-\u001b[39;49m\u001b[38;5;241;43m1\u001b[39;49m\u001b[43m,\u001b[49m\u001b[43m \u001b[49m\u001b[38;5;241;43m5\u001b[39;49m\u001b[43m)\u001b[49m\n\u001b[0;32m      9\u001b[0m \u001b[38;5;28mprint\u001b[39m(arr)\n",
      "\u001b[1;31mValueError\u001b[0m: cannot reshape array of size 12 into shape (5)"
     ]
    }
   ],
   "source": [
    "# reshape() -> -1\n",
    "arr = arr.reshape(-1)  # 1차원으로 처리\n",
    "print(arr)\n",
    "\n",
    "arr = arr.reshape(4, -1)  # 행의 갯수를 정해주면, 열의 갯수는 알아서 함\n",
    "arr = arr.reshape(-1, 4)  # 열의 갯수를 정해주면, 행의 갯수는 알아서 함\n",
    "# -1 은 자동해주는 값으로 생각하면 됌\n",
    "arr = arr.reshape(-1, 5)  # 요소의 갯수가 맞아야 shape 변형 가능 \n",
    "print(arr)"
   ]
  },
  {
   "cell_type": "code",
   "execution_count": 12,
   "metadata": {},
   "outputs": [
    {
     "name": "stdout",
     "output_type": "stream",
     "text": [
      "[[ 0  1  2  3  4  5  6  7  8  9]\n",
      " [10 11 12 13 14 15 16 17 18 19]\n",
      " [20 21 22 23 24 25 26 27 28 29]\n",
      " [30 31 32 33 34 35 36 37 38 39]\n",
      " [40 41 42 43 44 45 46 47 48 49]]\n",
      "[ 0  1  2  3  4  5  6  7  8  9 10 11 12 13 14 15 16 17 18 19 20 21 22 23\n",
      " 24 25 26 27 28 29 30 31 32 33 34 35 36 37 38 39 40 41 42 43 44 45 46 47\n",
      " 48 49]\n"
     ]
    }
   ],
   "source": [
    "# np.ravel() : 1차원 변환\n",
    "arr = np.arange(50).reshape(5, 10)\n",
    "print(arr)\n",
    "print(np.ravel(arr))"
   ]
  },
  {
   "cell_type": "code",
   "execution_count": 16,
   "metadata": {},
   "outputs": [
    {
     "name": "stdout",
     "output_type": "stream",
     "text": [
      "(10,) [0 1 2 3 4 5 6 7 8 9]\n",
      "[[0 1 2 3 4 5 6 7 8 9]]\n",
      "[[0]\n",
      " [1]\n",
      " [2]\n",
      " [3]\n",
      " [4]\n",
      " [5]\n",
      " [6]\n",
      " [7]\n",
      " [8]\n",
      " [9]]\n",
      "(1, 10)\n",
      "(10, 1)\n"
     ]
    }
   ],
   "source": [
    "# np.expand_dims() : 가진 요소를 가지고 차원 수를 늘림.\n",
    "arr_1d = np.arange(10)\n",
    "print(arr_1d.shape, arr_1d)\n",
    "\n",
    "print(np.expand_dims(arr_1d, axis=0))\n",
    "print(np.expand_dims(arr_1d, axis=1))\n",
    "print(np.expand_dims(arr_1d, axis=0).shape)\n",
    "print(np.expand_dims(arr_1d, axis=1).shape)"
   ]
  },
  {
   "cell_type": "code",
   "execution_count": 19,
   "metadata": {},
   "outputs": [
    {
     "name": "stdout",
     "output_type": "stream",
     "text": [
      "(2, 2) [[1 2]\n",
      " [3 4]]\n",
      "[[[1 2]\n",
      "  [3 4]]]\n",
      "[[[1 2]]\n",
      "\n",
      " [[3 4]]]\n",
      "[[[1]\n",
      "  [2]]\n",
      "\n",
      " [[3]\n",
      "  [4]]]\n",
      "(1, 2, 2)\n",
      "(2, 1, 2)\n",
      "(2, 2, 1)\n"
     ]
    }
   ],
   "source": [
    "arr_2d = np.array([[1, 2], [3, 4]])\n",
    "print(arr_2d.shape, arr_2d)\n",
    "\n",
    "print(np.expand_dims(arr_2d, axis=0))\n",
    "print(np.expand_dims(arr_2d, axis=1))\n",
    "print(np.expand_dims(arr_2d, axis=2))\n",
    "print(np.expand_dims(arr_2d, axis=0).shape)\n",
    "print(np.expand_dims(arr_2d, axis=1).shape)\n",
    "print(np.expand_dims(arr_2d, axis=2).shape)"
   ]
  },
  {
   "cell_type": "code",
   "execution_count": 22,
   "metadata": {},
   "outputs": [
    {
     "name": "stdout",
     "output_type": "stream",
     "text": [
      "(1, 2)\n",
      "(2,)\n",
      "(2,)\n"
     ]
    }
   ],
   "source": [
    "# np.squeeze() : 차원의 값이 1일 때 제거\n",
    "arr = np.array([[1, 2]])\n",
    "print(arr.shape) # (1, 2)\n",
    "\n",
    "arr2 = np.squeeze(arr)\n",
    "print(arr2.shape) # (2,)\n",
    "\n",
    "arr2 = np.squeeze(arr, axis=0)\n",
    "# arr2 = np.squeeze(arr, axis=1) # Error 남, 1차원만 squeeze 가능함 \n",
    "print(arr2.shape) # (2,)"
   ]
  }
 ],
 "metadata": {
  "kernelspec": {
   "display_name": "pystudy_env",
   "language": "python",
   "name": "python3"
  },
  "language_info": {
   "codemirror_mode": {
    "name": "ipython",
    "version": 3
   },
   "file_extension": ".py",
   "mimetype": "text/x-python",
   "name": "python",
   "nbconvert_exporter": "python",
   "pygments_lexer": "ipython3",
   "version": "3.12.8"
  }
 },
 "nbformat": 4,
 "nbformat_minor": 2
}
