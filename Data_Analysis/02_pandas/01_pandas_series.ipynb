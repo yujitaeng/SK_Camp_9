{
 "cells": [
  {
   "cell_type": "markdown",
   "metadata": {},
   "source": [
    "### pandas - series\n",
    "- index(label)을 통해 처리 가능한 1차원 배열"
   ]
  },
  {
   "cell_type": "code",
   "execution_count": 1,
   "metadata": {},
   "outputs": [],
   "source": [
    "import numpy as np\n",
    "import pandas as pd"
   ]
  },
  {
   "cell_type": "markdown",
   "metadata": {},
   "source": [
    "### series 생성"
   ]
  },
  {
   "cell_type": "code",
   "execution_count": 3,
   "metadata": {},
   "outputs": [
    {
     "name": "stdout",
     "output_type": "stream",
     "text": [
      "<class 'pandas.core.series.Series'>\n",
      "NVDA\n",
      "0    NVDA\n",
      "1    MSFT\n",
      "2    AAPL\n",
      "3    GOOG\n",
      "4    TSLA\n",
      "Name: 미국 주식, dtype: object\n"
     ]
    }
   ],
   "source": [
    "# 파이썬 list 활용\n",
    "stocks = ['NVDA', 'MSFT', 'AAPL', 'GOOG', 'TSLA']\n",
    "stocks_ser = pd.Series(stocks)\n",
    "print(type(stocks_ser))\n",
    "print(stocks_ser[0])\n",
    "\n",
    "stocks_ser.name = '미국 주식'\n",
    "print(stocks_ser)"
   ]
  },
  {
   "cell_type": "code",
   "execution_count": 8,
   "metadata": {},
   "outputs": [
    {
     "name": "stdout",
     "output_type": "stream",
     "text": [
      "a   -1.513119\n",
      "b    1.304381\n",
      "c   -1.064370\n",
      "d   -0.929753\n",
      "e   -1.192137\n",
      "dtype: float64\n",
      "-1.0643697006811057 -1.0643697006811057\n",
      "-1.0643697006811057 -1.0643697006811057\n"
     ]
    },
    {
     "name": "stderr",
     "output_type": "stream",
     "text": [
      "C:\\Users\\Playdata\\AppData\\Local\\Temp\\ipykernel_8140\\1971901754.py:4: FutureWarning: Series.__getitem__ treating keys as positions is deprecated. In a future version, integer keys will always be treated as labels (consistent with DataFrame behavior). To access a value by position, use `ser.iloc[pos]`\n",
      "  print(nums_ser[2], nums_ser['c'])\n"
     ]
    }
   ],
   "source": [
    "# ndarray 활용\n",
    "nums_ser = pd.Series(np.random.randn(5), index=['a', 'b', 'c', 'd', 'e'])\n",
    "print(nums_ser)\n",
    "print(nums_ser[2], nums_ser['c'])\n",
    "print(nums_ser.iloc[2], nums_ser.loc['c'])\n",
    "# iloc(integer location): 인덱스를 통한 참조\n",
    "# loc(location): 인덱스 라벨을 통한 참조\n"
   ]
  },
  {
   "cell_type": "code",
   "execution_count": 11,
   "metadata": {},
   "outputs": [
    {
     "name": "stdout",
     "output_type": "stream",
     "text": [
      "a    10\n",
      "b    20\n",
      "c    30\n",
      "dtype: int64\n",
      "A    10\n",
      "B    20\n",
      "C    30\n",
      "dtype: int64\n"
     ]
    }
   ],
   "source": [
    "# dictionary 활용\n",
    "info = {\n",
    "    'a': 10,\n",
    "    'b': 20,\n",
    "    'c': 30\n",
    "}\n",
    "info_ser = pd.Series(info)\n",
    "print(info_ser)\n",
    "\n",
    "info_ser.index = ['A', 'B', 'C']\n",
    "print(info_ser)\n"
   ]
  },
  {
   "cell_type": "code",
   "execution_count": 13,
   "metadata": {},
   "outputs": [
    {
     "name": "stdout",
     "output_type": "stream",
     "text": [
      "a    5.5\n",
      "b    5.5\n",
      "c    5.5\n",
      "d    5.5\n",
      "e    5.5\n",
      "dtype: float64\n"
     ]
    }
   ],
   "source": [
    "# scalar value 활용\n",
    "num_ser = pd.Series(5.5)\n",
    "num_ser = pd.Series(5.5, index=['a', 'b', 'c', 'd', 'e'])\n",
    "print(num_ser)\n"
   ]
  },
  {
   "cell_type": "markdown",
   "metadata": {},
   "source": [
    "---\n",
    "### series 속성"
   ]
  },
  {
   "cell_type": "code",
   "execution_count": 14,
   "metadata": {},
   "outputs": [],
   "source": [
    "movies = ['하얼빈', '소방관', '서브스턴스', '페라리', '위키드']\n",
    "movies_ser = pd.Series(movies)\n"
   ]
  },
  {
   "cell_type": "code",
   "execution_count": 18,
   "metadata": {},
   "outputs": [
    {
     "name": "stdout",
     "output_type": "stream",
     "text": [
      "['하얼빈' '소방관' '서브스턴스' '페라리' '위키드']\n"
     ]
    }
   ],
   "source": [
    "print(movies_ser.values)"
   ]
  },
  {
   "cell_type": "code",
   "execution_count": 19,
   "metadata": {},
   "outputs": [
    {
     "name": "stdout",
     "output_type": "stream",
     "text": [
      "<NumpyExtensionArray>\n",
      "['하얼빈', '소방관', '서브스턴스', '페라리', '위키드']\n",
      "Length: 5, dtype: object\n"
     ]
    }
   ],
   "source": [
    "print(movies_ser.array)"
   ]
  },
  {
   "cell_type": "code",
   "execution_count": 21,
   "metadata": {},
   "outputs": [
    {
     "name": "stdout",
     "output_type": "stream",
     "text": [
      "RangeIndex(start=0, stop=5, step=1)\n",
      "Index(['1st', '2nd', '3rd', '4th', '5th'], dtype='object')\n"
     ]
    }
   ],
   "source": [
    "print(movies_ser.index) # 인덱스를 별도 지정하지 않은 경우 기본적으로 숫자 인덱스 반환\n",
    "\n",
    "movies_ser.index = ['1st', '2nd', '3rd', '4th', '5th']\n",
    "print(movies_ser.index) # 라벨을 지정한 경우 라벨 인덱스 반환"
   ]
  },
  {
   "cell_type": "code",
   "execution_count": 22,
   "metadata": {},
   "outputs": [
    {
     "name": "stdout",
     "output_type": "stream",
     "text": [
      "object\n",
      "(5,)\n",
      "1\n",
      "5\n"
     ]
    }
   ],
   "source": [
    "print(movies_ser.dtype)  # 요소의 자료형\n",
    "print(movies_ser.shape)  # 형태\n",
    "print(movies_ser.ndim)   # 깊이(차원)\n",
    "print(movies_ser.size)   # 요소의 개수\n"
   ]
  },
  {
   "cell_type": "code",
   "execution_count": 23,
   "metadata": {},
   "outputs": [
    {
     "data": {
      "text/plain": [
       "True"
      ]
     },
     "execution_count": 23,
     "metadata": {},
     "output_type": "execute_result"
    }
   ],
   "source": [
    "# 시리즈의 값이 모두 고유한 값인지 여부(True: 중복값 없음 / False: 중복값 있음)\n",
    "movies_ser.is_unique"
   ]
  },
  {
   "cell_type": "markdown",
   "metadata": {},
   "source": [
    "---\n",
    "### series 메서드"
   ]
  },
  {
   "cell_type": "code",
   "execution_count": 24,
   "metadata": {},
   "outputs": [],
   "source": [
    "nums_ser = pd.Series([2025, 1, 13, 10, 31])"
   ]
  },
  {
   "cell_type": "code",
   "execution_count": 25,
   "metadata": {},
   "outputs": [
    {
     "name": "stdout",
     "output_type": "stream",
     "text": [
      "2080\n",
      "8160750\n",
      "416.0\n"
     ]
    }
   ],
   "source": [
    "print(nums_ser.sum())           # 누적 합(총합)\n",
    "print(nums_ser.product())       # 누적 곱\n",
    "print(nums_ser.mean())          # 평균"
   ]
  },
  {
   "cell_type": "code",
   "execution_count": 27,
   "metadata": {},
   "outputs": [
    {
     "name": "stdout",
     "output_type": "stream",
     "text": [
      "0    2025\n",
      "1       1\n",
      "dtype: int64\n",
      "3    10\n",
      "4    31\n",
      "dtype: int64\n"
     ]
    }
   ],
   "source": [
    "print(nums_ser.head(2)) # 앞에서부터 일부 데이터 조회 (갯수를 지정해주지 않으면 기본값인 모두를 출력함)\n",
    "print(nums_ser.tail(2)) # 뒤에서부터 일부 데이터 조회 (갯수를 지정해주지 않으면 기본값인 모두를 출력함)"
   ]
  },
  {
   "cell_type": "code",
   "execution_count": 28,
   "metadata": {},
   "outputs": [
    {
     "name": "stdout",
     "output_type": "stream",
     "text": [
      "<class 'pandas.core.series.Series'>\n",
      "RangeIndex: 5 entries, 0 to 4\n",
      "Series name: None\n",
      "Non-Null Count  Dtype\n",
      "--------------  -----\n",
      "5 non-null      int64\n",
      "dtypes: int64(1)\n",
      "memory usage: 172.0 bytes\n"
     ]
    }
   ],
   "source": [
    "nums_ser.info()  # Series의 메타데이터 (not-null 여부 확인, 자료형 확인에서 자주 사용 됨)"
   ]
  },
  {
   "cell_type": "code",
   "execution_count": 29,
   "metadata": {},
   "outputs": [
    {
     "data": {
      "text/plain": [
       "count       5.000000\n",
       "mean      416.000000\n",
       "std       899.524319\n",
       "min         1.000000\n",
       "25%        10.000000\n",
       "50%        13.000000\n",
       "75%        31.000000\n",
       "max      2025.000000\n",
       "dtype: float64"
      ]
     },
     "execution_count": 29,
     "metadata": {},
     "output_type": "execute_result"
    }
   ],
   "source": [
    "nums_ser.describe()  # 데이터 분석/설명"
   ]
  },
  {
   "cell_type": "code",
   "execution_count": 32,
   "metadata": {},
   "outputs": [
    {
     "name": "stdout",
     "output_type": "stream",
     "text": [
      "1 1\n",
      "5.5 5.5\n"
     ]
    }
   ],
   "source": [
    "print(nums_ser.iloc[1], nums_ser.loc[1])\n",
    "\n",
    "num_ser.index = list('abcde')  # ['a', 'b', 'c', 'd', 'e']\n",
    "print(num_ser.iloc[1], num_ser.loc['b'])"
   ]
  },
  {
   "cell_type": "markdown",
   "metadata": {},
   "source": [
    "---\n",
    "### SP500 데이터 활용"
   ]
  },
  {
   "cell_type": "code",
   "execution_count": 33,
   "metadata": {},
   "outputs": [],
   "source": [
    "sp_500_df = pd.read_csv('./data/S_P500_Prices.csv')"
   ]
  },
  {
   "cell_type": "code",
   "execution_count": 35,
   "metadata": {},
   "outputs": [
    {
     "data": {
      "text/plain": [
       "pandas.core.series.Series"
      ]
     },
     "execution_count": 35,
     "metadata": {},
     "output_type": "execute_result"
    }
   ],
   "source": [
    "type(sp_500_df)\n",
    "\n",
    "# df.squeeze() : Dataframe의 Series가 하나인 경우 Series 객체 반환\n",
    "sp_500_ser = sp_500_df.squeeze()\n",
    "type(sp_500_ser)"
   ]
  },
  {
   "cell_type": "code",
   "execution_count": 36,
   "metadata": {},
   "outputs": [
    {
     "name": "stdout",
     "output_type": "stream",
     "text": [
      "<class 'pandas.core.series.Series'>\n",
      "RangeIndex: 2159 entries, 0 to 2158\n",
      "Series name: sp500\n",
      "Non-Null Count  Dtype  \n",
      "--------------  -----  \n",
      "2159 non-null   float64\n",
      "dtypes: float64(1)\n",
      "memory usage: 17.0 KB\n"
     ]
    }
   ],
   "source": [
    "sp_500_ser.info()"
   ]
  },
  {
   "cell_type": "code",
   "execution_count": 37,
   "metadata": {},
   "outputs": [
    {
     "data": {
      "text/plain": [
       "count    2159.000000\n",
       "mean     2218.749554\n",
       "std       537.321727\n",
       "min      1278.040039\n",
       "25%      1847.984985\n",
       "50%      2106.629883\n",
       "75%      2705.810059\n",
       "max      3386.149902\n",
       "Name: sp500, dtype: float64"
      ]
     },
     "execution_count": 37,
     "metadata": {},
     "output_type": "execute_result"
    }
   ],
   "source": [
    "sp_500_ser.describe()"
   ]
  },
  {
   "cell_type": "code",
   "execution_count": 38,
   "metadata": {},
   "outputs": [
    {
     "name": "stdout",
     "output_type": "stream",
     "text": [
      "(2159,)\n",
      "1\n",
      "2159\n"
     ]
    }
   ],
   "source": [
    "# 형태, 요소 개수, 깊이\n",
    "print(sp_500_ser.shape)\n",
    "print(sp_500_ser.ndim)\n",
    "print(sp_500_ser.size)\n"
   ]
  },
  {
   "cell_type": "code",
   "execution_count": 40,
   "metadata": {},
   "outputs": [
    {
     "name": "stdout",
     "output_type": "stream",
     "text": [
      "2159\n",
      "1278.040039\n",
      "2106.629883\n",
      "3386.149902\n",
      "2218.7495540592868\n",
      "537.3217268874763\n",
      "288714.6381853397\n"
     ]
    }
   ],
   "source": [
    "# 갯수, 최소값, 중위값, 최대값, 평균값, 표준편차값, 분산값\n",
    "print(sp_500_ser.count())\n",
    "print(sp_500_ser.min())\n",
    "print(sp_500_ser.median())\n",
    "print(sp_500_ser.max())\n",
    "print(sp_500_ser.mean())\n",
    "print(sp_500_ser.std())\n",
    "print(sp_500_ser.var())\n"
   ]
  },
  {
   "cell_type": "code",
   "execution_count": 43,
   "metadata": {},
   "outputs": [
    {
     "name": "stdout",
     "output_type": "stream",
     "text": [
      "1416.51001\n",
      "1416.51001\n",
      "100    1315.130005\n",
      "101    1314.989990\n",
      "102    1325.660034\n",
      "103    1308.930054\n",
      "104    1324.180054\n",
      "          ...     \n",
      "195    1433.189941\n",
      "196    1433.819946\n",
      "197    1413.109985\n",
      "198    1408.750000\n",
      "199    1412.969971\n",
      "Name: sp500, Length: 100, dtype: float64\n",
      "100    1315.130005\n",
      "101    1314.989990\n",
      "102    1325.660034\n",
      "103    1308.930054\n",
      "104    1324.180054\n",
      "          ...     \n",
      "195    1433.189941\n",
      "196    1433.819946\n",
      "197    1413.109985\n",
      "198    1408.750000\n",
      "199    1412.969971\n",
      "Name: sp500, Length: 100, dtype: float64\n"
     ]
    }
   ],
   "source": [
    "# 인덱스 번호로 인덱싱 및 슬라이싱 : 인덱스 50의 값 가져오기, 인덱스 100~200 값 가져오기\n",
    "print(sp_500_ser[50])\n",
    "print(sp_500_ser.iloc[50])\n",
    "\n",
    "print(sp_500_ser[100:200])\n",
    "print(sp_500_ser.iloc[100:200])"
   ]
  },
  {
   "cell_type": "code",
   "execution_count": 44,
   "metadata": {},
   "outputs": [
    {
     "name": "stdout",
     "output_type": "stream",
     "text": [
      "1000    2016.709961\n",
      "2000    3223.379883\n",
      "Name: sp500, dtype: float64\n"
     ]
    }
   ],
   "source": [
    "# fancy indexing 써보기\n",
    "print(sp_500_ser[[1000, 2000]])\n"
   ]
  },
  {
   "cell_type": "code",
   "execution_count": 46,
   "metadata": {},
   "outputs": [
    {
     "name": "stdout",
     "output_type": "stream",
     "text": [
      "1885    3013.770020\n",
      "1886    3014.300049\n",
      "1887    3004.040039\n",
      "1892    3005.469971\n",
      "1893    3019.560059\n",
      "           ...     \n",
      "2154    3327.770020\n",
      "2155    3349.159912\n",
      "2156    3351.280029\n",
      "2157    3360.469971\n",
      "2158    3333.689941\n",
      "Name: sp500, Length: 160, dtype: float64\n"
     ]
    }
   ],
   "source": [
    "# boolean indexing 써보기\n",
    "print(sp_500_ser.iloc[sp_500_ser.values > 3000])\n"
   ]
  },
  {
   "cell_type": "code",
   "execution_count": 54,
   "metadata": {},
   "outputs": [
    {
     "name": "stdout",
     "output_type": "stream",
     "text": [
      "True\n",
      "True\n",
      "True\n"
     ]
    }
   ],
   "source": [
    "print(3013.770020 in sp_500_ser.values) # 특정 값을 가지고 있는 지 여부\n",
    "\n",
    "print(2000 in sp_500_ser) # .values를 안 붙이면 기본 값=인덱스값으로 찾음\n",
    "print(2000 in sp_500_ser.index)"
   ]
  },
  {
   "cell_type": "code",
   "execution_count": 56,
   "metadata": {},
   "outputs": [
    {
     "name": "stdout",
     "output_type": "stream",
     "text": [
      "97      1278.040039\n",
      "98      1278.180054\n",
      "99      1285.500000\n",
      "1       1289.089966\n",
      "2       1293.670044\n",
      "           ...     \n",
      "2038    3373.229980\n",
      "2034    3373.939941\n",
      "2033    3379.449951\n",
      "2035    3380.159912\n",
      "2037    3386.149902\n",
      "Name: sp500, Length: 2159, dtype: float64\n"
     ]
    }
   ],
   "source": [
    "# 정렬\n",
    "sp_500_ser = sp_500_ser.sort_values() # 오름차순 정렬\n",
    "print(sp_500_ser)"
   ]
  },
  {
   "cell_type": "code",
   "execution_count": 57,
   "metadata": {},
   "outputs": [
    {
     "data": {
      "text/plain": [
       "2037    3386.149902\n",
       "2035    3380.159912\n",
       "2033    3379.449951\n",
       "2034    3373.939941\n",
       "2038    3373.229980\n",
       "           ...     \n",
       "2       1293.670044\n",
       "1       1289.089966\n",
       "99      1285.500000\n",
       "98      1278.180054\n",
       "97      1278.040039\n",
       "Name: sp500, Length: 2159, dtype: float64"
      ]
     },
     "execution_count": 57,
     "metadata": {},
     "output_type": "execute_result"
    }
   ],
   "source": [
    "sp_500_ser.sort_values(ascending=False) # 내림차순 정렬 "
   ]
  }
 ],
 "metadata": {
  "kernelspec": {
   "display_name": "pystudy_env",
   "language": "python",
   "name": "python3"
  },
  "language_info": {
   "codemirror_mode": {
    "name": "ipython",
    "version": 3
   },
   "file_extension": ".py",
   "mimetype": "text/x-python",
   "name": "python",
   "nbconvert_exporter": "python",
   "pygments_lexer": "ipython3",
   "version": "3.12.8"
  }
 },
 "nbformat": 4,
 "nbformat_minor": 2
}
