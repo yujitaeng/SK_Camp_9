{
 "cells": [
  {
   "cell_type": "markdown",
   "metadata": {},
   "source": [
    "### pandas - dataframe\n",
    "- 2차원 행렬(표), Series를 묶어낸 자료형"
   ]
  },
  {
   "cell_type": "code",
   "execution_count": 3,
   "metadata": {},
   "outputs": [
    {
     "ename": "SyntaxError",
     "evalue": "invalid syntax (724184128.py, line 2)",
     "output_type": "error",
     "traceback": [
      "\u001b[1;36m  Cell \u001b[1;32mIn[3], line 2\u001b[1;36m\u001b[0m\n\u001b[1;33m    - 2차원 행렬(표), Series를 묶어낸 자료형\u001b[0m\n\u001b[1;37m       ^\u001b[0m\n\u001b[1;31mSyntaxError\u001b[0m\u001b[1;31m:\u001b[0m invalid syntax\n"
     ]
    }
   ],
   "source": [
    "import numpy as np\n",
    "import pandas as pd"
   ]
  },
  {
   "cell_type": "markdown",
   "metadata": {},
   "source": [
    "---\n",
    "### dataframe 생성"
   ]
  },
  {
   "cell_type": "code",
   "execution_count": 4,
   "metadata": {},
   "outputs": [
    {
     "name": "stdout",
     "output_type": "stream",
     "text": [
      "   one two  three  four\n",
      "0    1   가   1.23  True\n",
      "1    2   나   2.34  True\n",
      "2    3   다   3.45  True\n",
      "3    4   라   4.56  True\n",
      "4    5   마   5.67  True\n"
     ]
    }
   ],
   "source": [
    "# dictionary - list 활용\n",
    "data = {\n",
    "    'one': [1, 2, 3, 4, 5],\n",
    "    'two': ['가', '나', '다', '라', '마'],\n",
    "    'three': [1.23, 2.34, 3.45, 4.56, 5.67],\n",
    "    'four': True\n",
    "}\n",
    "\n",
    "df = pd.DataFrame(data)\n",
    "print(df)"
   ]
  },
  {
   "cell_type": "code",
   "execution_count": 5,
   "metadata": {},
   "outputs": [
    {
     "name": "stdout",
     "output_type": "stream",
     "text": [
      "Index(['다람쥐', '고릴라', '원숭이'], dtype='object')\n",
      "Index(['협동심', '성실도', '인내심'], dtype='object')\n",
      "     협동심  성실도  인내심\n",
      "다람쥐    1    2    3\n",
      "고릴라    4    5    6\n",
      "원숭이    7    8    9\n"
     ]
    }
   ],
   "source": [
    "# list - dictionary 활용\n",
    "data = [\n",
    "    {'a': 1, 'b': 2, 'c': 3},\n",
    "    {'a': 4, 'b': 5, 'c': 6},\n",
    "    {'a': 7, 'b': 8, 'c': 9}\n",
    "]\n",
    "\n",
    "df = pd.DataFrame(data)\n",
    "\n",
    "df.index = ['다람쥐', '고릴라', '원숭이']\n",
    "print(df.index)\n",
    "\n",
    "df.columns = ['협동심', '성실도', '인내심']\n",
    "print(df.columns)\n",
    "\n",
    "print(df)\n"
   ]
  },
  {
   "cell_type": "code",
   "execution_count": 6,
   "metadata": {},
   "outputs": [
    {
     "name": "stdout",
     "output_type": "stream",
     "text": [
      "          A         B         C\n",
      "ㄱ  0.875324 -0.040832  0.642462\n",
      "ㄴ  1.126766 -0.174822 -0.476682\n"
     ]
    }
   ],
   "source": [
    "# 2차원 ndarray 활용\n",
    "arr = np.random.randn(2, 3)\n",
    "df = pd.DataFrame(arr, index=['ㄱ', 'ㄴ'], columns = ['A', 'B', 'C'])\n",
    "\n",
    "# df.index = ['ㄱ', 'ㄴ']\n",
    "# df.columns = ['A', 'B', 'C']\n",
    "\n",
    "print(df)"
   ]
  },
  {
   "cell_type": "code",
   "execution_count": 7,
   "metadata": {},
   "outputs": [
    {
     "name": "stdout",
     "output_type": "stream",
     "text": [
      "    이름  위치 성별\n",
      "0  다람쥐  독산  M\n",
      "1   판다  종로  F\n",
      "2  코알라  하남  F\n"
     ]
    }
   ],
   "source": [
    "data = {\n",
    "    '이름': ['다람쥐', '판다', '코알라'],\n",
    "    '위치': ['독산', '종로', '하남'],\n",
    "    '성별': ['M', 'F', 'F']\n",
    "}\n",
    "\n",
    "df = pd.DataFrame(data)\n",
    "# df = pd.DataFrame(data, index=['squirrel', 'panda', 'koala'])\n",
    "\n",
    "print(df)\n"
   ]
  },
  {
   "cell_type": "code",
   "execution_count": 8,
   "metadata": {},
   "outputs": [
    {
     "name": "stdout",
     "output_type": "stream",
     "text": [
      "      0   1    2\n",
      "이름  다람쥐  판다  코알라\n",
      "위치   독산  종로   하남\n",
      "성별    M   F    F\n"
     ]
    }
   ],
   "source": [
    "# 행과 열을 바꿈\n",
    "print(df.T)"
   ]
  },
  {
   "cell_type": "markdown",
   "metadata": {},
   "source": [
    "---\n",
    "### DataFrame 속성"
   ]
  },
  {
   "cell_type": "code",
   "execution_count": 9,
   "metadata": {},
   "outputs": [
    {
     "name": "stdout",
     "output_type": "stream",
     "text": [
      "RangeIndex(start=0, stop=3, step=1)\n",
      "Index(['이름', '위치', '성별'], dtype='object')\n",
      "[['다람쥐' '독산' 'M']\n",
      " ['판다' '종로' 'F']\n",
      " ['코알라' '하남' 'F']] <class 'numpy.ndarray'>\n"
     ]
    }
   ],
   "source": [
    "print(df.index)\n",
    "print(df.columns)\n",
    "print(df.values, type(df.values))"
   ]
  },
  {
   "cell_type": "code",
   "execution_count": 10,
   "metadata": {},
   "outputs": [
    {
     "name": "stdout",
     "output_type": "stream",
     "text": [
      "(3, 3)\n",
      "9\n",
      "2\n",
      "이름    object\n",
      "위치    object\n",
      "성별    object\n",
      "dtype: object\n"
     ]
    }
   ],
   "source": [
    "print(df.shape)   # 형태\n",
    "print(df.size)    # 요소 개수\n",
    "print(df.ndim)    # 깊이\n",
    "print(df.dtypes)  # 요소의 자료형"
   ]
  },
  {
   "cell_type": "markdown",
   "metadata": {},
   "source": [
    "---\n",
    "### DataFrame 메서드"
   ]
  },
  {
   "cell_type": "code",
   "execution_count": 11,
   "metadata": {},
   "outputs": [
    {
     "name": "stdout",
     "output_type": "stream",
     "text": [
      "   Client ID Client Name  Net worth [$]  Years with bank\n",
      "0          1         Aly          35000                4\n",
      "1          2       Steve           3000                7\n",
      "   Client ID Client Name  Net worth [$]  Years with bank\n",
      "2          3      Nicole         100000               10\n",
      "3          4      Morris           2000               15\n"
     ]
    }
   ],
   "source": [
    "bank_client_df = pd.DataFrame({\n",
    "    'Client ID': [1, 2, 3, 4],\n",
    "    'Client Name': ['Aly', 'Steve', 'Nicole', 'Morris'],\n",
    "    'Net worth [$]': [35000, 3000, 100000, 2000],\n",
    "    'Years with bank': [4, 7, 10, 15]\n",
    "})\n",
    "\n",
    "print(bank_client_df.head(2))\n",
    "print(bank_client_df.tail(2))"
   ]
  },
  {
   "cell_type": "code",
   "execution_count": 12,
   "metadata": {},
   "outputs": [
    {
     "name": "stdout",
     "output_type": "stream",
     "text": [
      "<class 'pandas.core.frame.DataFrame'>\n",
      "RangeIndex: 4 entries, 0 to 3\n",
      "Data columns (total 4 columns):\n",
      " #   Column           Non-Null Count  Dtype \n",
      "---  ------           --------------  ----- \n",
      " 0   Client ID        4 non-null      int64 \n",
      " 1   Client Name      4 non-null      object\n",
      " 2   Net worth [$]    4 non-null      int64 \n",
      " 3   Years with bank  4 non-null      int64 \n",
      "dtypes: int64(3), object(1)\n",
      "memory usage: 260.0+ bytes\n",
      "None\n"
     ]
    }
   ],
   "source": [
    "print(bank_client_df.info())"
   ]
  },
  {
   "cell_type": "code",
   "execution_count": 13,
   "metadata": {},
   "outputs": [
    {
     "name": "stdout",
     "output_type": "stream",
     "text": [
      "       Client ID  Net worth [$]  Years with bank\n",
      "count   4.000000       4.000000         4.000000\n",
      "mean    2.500000   35000.000000         9.000000\n",
      "std     1.290994   45963.753836         4.690416\n",
      "min     1.000000    2000.000000         4.000000\n",
      "25%     1.750000    2750.000000         6.250000\n",
      "50%     2.500000   19000.000000         8.500000\n",
      "75%     3.250000   51250.000000        11.250000\n",
      "max     4.000000  100000.000000        15.000000\n"
     ]
    }
   ],
   "source": [
    "print(bank_client_df.describe())"
   ]
  },
  {
   "cell_type": "code",
   "execution_count": 15,
   "metadata": {},
   "outputs": [
    {
     "name": "stdout",
     "output_type": "stream",
     "text": [
      "Client ID              1\n",
      "Client Name          Aly\n",
      "Net worth [$]      35000\n",
      "Years with bank        4\n",
      "Name: 0, dtype: object\n",
      "<class 'pandas.core.series.Series'>\n"
     ]
    }
   ],
   "source": [
    "# indexing / slicing\n",
    "# iloc 인덱스 : 행/열 순서로 조회\n",
    "# loc 라벨 : 행/열 순서로 조회 \n",
    "print(bank_client_df.iloc[0])\n",
    "print(bank_client_df.iloc[0].index)\n",
    "print(bank_client_df.iloc[0].name)"
   ]
  },
  {
   "cell_type": "code",
   "execution_count": 18,
   "metadata": {},
   "outputs": [
    {
     "name": "stdout",
     "output_type": "stream",
     "text": [
      "   Client ID Client Name  Net worth [$]  Years with bank\n",
      "0          1         Aly          35000                4\n",
      "1          2       Steve           3000                7 <class 'pandas.core.series.Series'>\n"
     ]
    }
   ],
   "source": [
    "print(bank_client_df.iloc[:2], type(bank_client_df.iloc[2]))\n"
   ]
  },
  {
   "cell_type": "code",
   "execution_count": 19,
   "metadata": {},
   "outputs": [
    {
     "name": "stdout",
     "output_type": "stream",
     "text": [
      "   Client ID Client Name  Net worth [$]  Years with bank\n",
      "0          1         Aly          35000                4\n",
      "2          3      Nicole         100000               10\n",
      "<class 'pandas.core.frame.DataFrame'>\n"
     ]
    }
   ],
   "source": [
    "# fancy indexing\n",
    "print(bank_client_df.iloc[[0, 2]])\n",
    "print(type(bank_client_df.iloc[[0, 2]]))"
   ]
  },
  {
   "cell_type": "code",
   "execution_count": 22,
   "metadata": {},
   "outputs": [
    {
     "name": "stdout",
     "output_type": "stream",
     "text": [
      "(1, 4)\n",
      "(4,)\n"
     ]
    },
    {
     "data": {
      "text/plain": [
       "(   Client ID Client Name  Net worth [$]  Years with bank\n",
       " 2          3      Nicole         100000               10,\n",
       " pandas.core.frame.DataFrame)"
      ]
     },
     "execution_count": 22,
     "metadata": {},
     "output_type": "execute_result"
    }
   ],
   "source": [
    "# fancy indexing을 통한 조회는 결과가 1개여도 DataFrame 타입으로 변환.\n",
    "# -> series를 반환한다는 것은 차원을 축소(제거)하는 것\n",
    "# -> DataFrame을 반환한다는 것은 차원을 유지하는 것\n",
    "print(bank_client_df.iloc[[2]].shape)\n",
    "print(bank_client_df.iloc[2].shape)\n",
    "\n",
    "bank_client_df.iloc[[2]], type(bank_client_df.iloc[[2]])"
   ]
  },
  {
   "cell_type": "code",
   "execution_count": 23,
   "metadata": {},
   "outputs": [
    {
     "data": {
      "text/plain": [
       "'Aly'"
      ]
     },
     "execution_count": 23,
     "metadata": {},
     "output_type": "execute_result"
    }
   ],
   "source": [
    "# 2차원 indexing / slicing\n",
    "bank_client_df.iloc[0, 1]"
   ]
  },
  {
   "cell_type": "code",
   "execution_count": 25,
   "metadata": {},
   "outputs": [
    {
     "data": {
      "text/plain": [
       "(0      Aly\n",
       " 1    Steve\n",
       " Name: Client Name, dtype: object,\n",
       " pandas.core.series.Series)"
      ]
     },
     "execution_count": 25,
     "metadata": {},
     "output_type": "execute_result"
    }
   ],
   "source": [
    "bank_client_df.iloc[:2, 1], type(bank_client_df.iloc[:2, 1])"
   ]
  },
  {
   "cell_type": "code",
   "execution_count": 26,
   "metadata": {},
   "outputs": [
    {
     "data": {
      "text/plain": [
       "(   Net worth [$]  Years with bank\n",
       " 0          35000                4\n",
       " 1           3000                7,\n",
       " pandas.core.frame.DataFrame)"
      ]
     },
     "execution_count": 26,
     "metadata": {},
     "output_type": "execute_result"
    }
   ],
   "source": [
    "bank_client_df.iloc[:2, 2:], type(bank_client_df.iloc[:2, 2:])"
   ]
  },
  {
   "cell_type": "code",
   "execution_count": 28,
   "metadata": {},
   "outputs": [
    {
     "data": {
      "text/plain": [
       "Client ID               3\n",
       "Client Name        Nicole\n",
       "Net worth [$]      100000\n",
       "Years with bank        10\n",
       "Name: client3, dtype: object"
      ]
     },
     "execution_count": 28,
     "metadata": {},
     "output_type": "execute_result"
    }
   ],
   "source": [
    "bank_client_df.index = ['client1', 'client2', 'client3', 'client4']\n",
    "bank_client_df.iloc[2]"
   ]
  },
  {
   "cell_type": "code",
   "execution_count": 32,
   "metadata": {},
   "outputs": [
    {
     "data": {
      "text/html": [
       "<div>\n",
       "<style scoped>\n",
       "    .dataframe tbody tr th:only-of-type {\n",
       "        vertical-align: middle;\n",
       "    }\n",
       "\n",
       "    .dataframe tbody tr th {\n",
       "        vertical-align: top;\n",
       "    }\n",
       "\n",
       "    .dataframe thead th {\n",
       "        text-align: right;\n",
       "    }\n",
       "</style>\n",
       "<table border=\"1\" class=\"dataframe\">\n",
       "  <thead>\n",
       "    <tr style=\"text-align: right;\">\n",
       "      <th></th>\n",
       "      <th>Client Name</th>\n",
       "      <th>Years with bank</th>\n",
       "    </tr>\n",
       "  </thead>\n",
       "  <tbody>\n",
       "    <tr>\n",
       "      <th>client2</th>\n",
       "      <td>Steve</td>\n",
       "      <td>7</td>\n",
       "    </tr>\n",
       "    <tr>\n",
       "      <th>client4</th>\n",
       "      <td>Morris</td>\n",
       "      <td>15</td>\n",
       "    </tr>\n",
       "  </tbody>\n",
       "</table>\n",
       "</div>"
      ],
      "text/plain": [
       "        Client Name  Years with bank\n",
       "client2       Steve                7\n",
       "client4      Morris               15"
      ]
     },
     "execution_count": 32,
     "metadata": {},
     "output_type": "execute_result"
    }
   ],
   "source": [
    "bank_client_df.loc['client2':'client4':2, ['Client Name','Years with bank']]"
   ]
  },
  {
   "cell_type": "code",
   "execution_count": 45,
   "metadata": {},
   "outputs": [
    {
     "name": "stdout",
     "output_type": "stream",
     "text": [
      "Empty DataFrame\n",
      "Columns: [Client ID, Client Name, Net worth [$], Years with bank]\n",
      "Index: []\n",
      "client1       Aly\n",
      "client2     Steve\n",
      "client3    Nicole\n",
      "client4    Morris\n",
      "Name: Client Name, dtype: object\n",
      "        Client Name  Net worth [$]\n",
      "client1         Aly          35000\n",
      "client2       Steve           3000\n",
      "client3      Nicole         100000\n",
      "client4      Morris           2000\n"
     ]
    }
   ],
   "source": [
    "# 이름이 steve 인 고객 정보 출력\n",
    "print(bank_client_df.loc[bank_client_df['Client Name'] == 'steve'])\n",
    "\n",
    "# Client Name 만 출력\n",
    "print(bank_client_df['Client Name'])\n",
    "\n",
    "# Client Name과 Net worth[$] 출력\n",
    "print(bank_client_df[['Client Name', 'Net worth [$]']])\n"
   ]
  },
  {
   "cell_type": "code",
   "execution_count": 40,
   "metadata": {},
   "outputs": [
    {
     "data": {
      "text/html": [
       "<div>\n",
       "<style scoped>\n",
       "    .dataframe tbody tr th:only-of-type {\n",
       "        vertical-align: middle;\n",
       "    }\n",
       "\n",
       "    .dataframe tbody tr th {\n",
       "        vertical-align: top;\n",
       "    }\n",
       "\n",
       "    .dataframe thead th {\n",
       "        text-align: right;\n",
       "    }\n",
       "</style>\n",
       "<table border=\"1\" class=\"dataframe\">\n",
       "  <thead>\n",
       "    <tr style=\"text-align: right;\">\n",
       "      <th></th>\n",
       "      <th>Client Name</th>\n",
       "      <th>Net worth [$]</th>\n",
       "    </tr>\n",
       "  </thead>\n",
       "  <tbody>\n",
       "    <tr>\n",
       "      <th>client1</th>\n",
       "      <td>Aly</td>\n",
       "      <td>35000</td>\n",
       "    </tr>\n",
       "    <tr>\n",
       "      <th>client2</th>\n",
       "      <td>Steve</td>\n",
       "      <td>3000</td>\n",
       "    </tr>\n",
       "    <tr>\n",
       "      <th>client3</th>\n",
       "      <td>Nicole</td>\n",
       "      <td>100000</td>\n",
       "    </tr>\n",
       "    <tr>\n",
       "      <th>client4</th>\n",
       "      <td>Morris</td>\n",
       "      <td>2000</td>\n",
       "    </tr>\n",
       "  </tbody>\n",
       "</table>\n",
       "</div>"
      ],
      "text/plain": [
       "        Client Name  Net worth [$]\n",
       "client1         Aly          35000\n",
       "client2       Steve           3000\n",
       "client3      Nicole         100000\n",
       "client4      Morris           2000"
      ]
     },
     "execution_count": 40,
     "metadata": {},
     "output_type": "execute_result"
    }
   ],
   "source": [
    "# filter\n",
    "bank_client_df.filter(items=['Client Name', 'Net worth [$]'])"
   ]
  },
  {
   "cell_type": "code",
   "execution_count": 44,
   "metadata": {},
   "outputs": [
    {
     "data": {
      "text/html": [
       "<div>\n",
       "<style scoped>\n",
       "    .dataframe tbody tr th:only-of-type {\n",
       "        vertical-align: middle;\n",
       "    }\n",
       "\n",
       "    .dataframe tbody tr th {\n",
       "        vertical-align: top;\n",
       "    }\n",
       "\n",
       "    .dataframe thead th {\n",
       "        text-align: right;\n",
       "    }\n",
       "</style>\n",
       "<table border=\"1\" class=\"dataframe\">\n",
       "  <thead>\n",
       "    <tr style=\"text-align: right;\">\n",
       "      <th></th>\n",
       "      <th>Client ID</th>\n",
       "      <th>Client Name</th>\n",
       "      <th>Net worth [$]</th>\n",
       "      <th>Years with bank</th>\n",
       "    </tr>\n",
       "  </thead>\n",
       "  <tbody>\n",
       "    <tr>\n",
       "      <th>client4</th>\n",
       "      <td>4</td>\n",
       "      <td>Morris</td>\n",
       "      <td>2000</td>\n",
       "      <td>15</td>\n",
       "    </tr>\n",
       "  </tbody>\n",
       "</table>\n",
       "</div>"
      ],
      "text/plain": [
       "         Client ID Client Name  Net worth [$]  Years with bank\n",
       "client4          4      Morris           2000               15"
      ]
     },
     "execution_count": 44,
     "metadata": {},
     "output_type": "execute_result"
    }
   ],
   "source": [
    "bank_client_df.filter(like='4', axis=0)"
   ]
  },
  {
   "cell_type": "markdown",
   "metadata": {},
   "source": [
    "연습 문제"
   ]
  },
  {
   "cell_type": "code",
   "execution_count": 4,
   "metadata": {},
   "outputs": [],
   "source": [
    "# 문제 1. ID가 3인 고객 조회\n",
    "# 문제 2. 순자산(예치 금액)이 5,000달러가 넘는 고객 조회\n",
    "# 문제 3. 거래 기간이 5년 이상인 고객 조회\n",
    "# 문제 4. 이름이 S로 시작하는 고객 조회\n",
    "# 문제 5. 거래 기간이 5년 이상이면서 이름이 S로 시작하는 고객 조회 (참고: and(&), or(|), not(~))"
   ]
  },
  {
   "cell_type": "markdown",
   "metadata": {},
   "source": [
    "---\n",
    "### 행 추가 및 삭제"
   ]
  },
  {
   "cell_type": "code",
   "execution_count": 63,
   "metadata": {},
   "outputs": [
    {
     "data": {
      "text/html": [
       "<div>\n",
       "<style scoped>\n",
       "    .dataframe tbody tr th:only-of-type {\n",
       "        vertical-align: middle;\n",
       "    }\n",
       "\n",
       "    .dataframe tbody tr th {\n",
       "        vertical-align: top;\n",
       "    }\n",
       "\n",
       "    .dataframe thead th {\n",
       "        text-align: right;\n",
       "    }\n",
       "</style>\n",
       "<table border=\"1\" class=\"dataframe\">\n",
       "  <thead>\n",
       "    <tr style=\"text-align: right;\">\n",
       "      <th></th>\n",
       "      <th>name</th>\n",
       "      <th>midterm</th>\n",
       "      <th>final</th>\n",
       "    </tr>\n",
       "  </thead>\n",
       "  <tbody>\n",
       "    <tr>\n",
       "      <th>0</th>\n",
       "      <td>호랑이</td>\n",
       "      <td>95</td>\n",
       "      <td>85</td>\n",
       "    </tr>\n",
       "    <tr>\n",
       "      <th>1</th>\n",
       "      <td>늑대</td>\n",
       "      <td>93</td>\n",
       "      <td>90</td>\n",
       "    </tr>\n",
       "    <tr>\n",
       "      <th>2</th>\n",
       "      <td>양</td>\n",
       "      <td>100</td>\n",
       "      <td>10</td>\n",
       "    </tr>\n",
       "  </tbody>\n",
       "</table>\n",
       "</div>"
      ],
      "text/plain": [
       "  name  midterm  final\n",
       "0  호랑이       95     85\n",
       "1   늑대       93     90\n",
       "2    양      100     10"
      ]
     },
     "execution_count": 63,
     "metadata": {},
     "output_type": "execute_result"
    }
   ],
   "source": [
    "students = [\n",
    "    {'name': '호랑이', 'midterm': 95, 'final': 85},\n",
    "    {'name': '늑대', 'midterm': 93, 'final': 90},\n",
    "    {'name': '양', 'midterm': 100, 'final': 10}\n",
    "]\n",
    "df = pd.DataFrame(students)\n",
    "df"
   ]
  },
  {
   "cell_type": "code",
   "execution_count": 64,
   "metadata": {},
   "outputs": [
    {
     "name": "stdout",
     "output_type": "stream",
     "text": [
      "  name  midterm  final\n",
      "0  호랑이       95     85\n",
      "1   늑대       93     90\n",
      "2    양      100     10\n",
      "3  부엉이       88     72\n"
     ]
    }
   ],
   "source": [
    "# 1. loc 이용 : 행 추가\n",
    "df.loc[len(df)] = ['부엉이', 88, 72]\n",
    "print(df)"
   ]
  },
  {
   "cell_type": "code",
   "execution_count": 65,
   "metadata": {},
   "outputs": [
    {
     "name": "stdout",
     "output_type": "stream",
     "text": [
      "  name  midterm  final\n",
      "0  호랑이       95     85\n",
      "1   늑대       93     90\n",
      "2    양      100     10\n",
      "3  부엉이       88     72\n",
      "4    곰       99     24\n"
     ]
    }
   ],
   "source": [
    "# 2. pd.concat() 이용 : dataframe 병합\n",
    "add_student_df = pd.DataFrame([['곰', 99, 24]], columns=['name', 'midterm', 'final'])\n",
    "df = pd.concat([df, add_student_df], ignore_index=True) # ignore_index : 인덱스를 새로 부여\n",
    "\n",
    "print(df)"
   ]
  },
  {
   "cell_type": "code",
   "execution_count": 66,
   "metadata": {},
   "outputs": [
    {
     "name": "stdout",
     "output_type": "stream",
     "text": [
      "  name  midterm  final\n",
      "1   늑대       93     90\n",
      "2    양      100     10\n",
      "3  부엉이       88     72\n",
      "4    곰       99     24\n"
     ]
    }
   ],
   "source": [
    "# 행 삭제\n",
    "# index 이용\n",
    "# df = df.drop(df.index[[0]])\n",
    "df.drop(df.index[[0]], inplace=True)\n",
    "print(df)"
   ]
  },
  {
   "cell_type": "markdown",
   "metadata": {},
   "source": [
    "---\n",
    "### 컬럼 추가"
   ]
  },
  {
   "cell_type": "code",
   "execution_count": 71,
   "metadata": {},
   "outputs": [],
   "source": [
    "df = pd.DataFrame({\n",
    "    '이름': ['다람쥐', '판다', '코알라'],\n",
    "    '위치': ['독산', '종로', '하남'],\n",
    "    '성별': ['M', 'F', 'F'],\n",
    "    '키': [179, 165, 157],\n",
    "    '체중': [50.1, 48.2, 51.3]\n",
    "})"
   ]
  },
  {
   "cell_type": "code",
   "execution_count": 72,
   "metadata": {},
   "outputs": [
    {
     "name": "stdout",
     "output_type": "stream",
     "text": [
      "    이름  위치 성별    키    체중       취미\n",
      "0  다람쥐  독산  M  179  50.1  인공지능 공부\n",
      "1   판다  종로  F  165  48.2  인공지능 공부\n",
      "2  코알라  하남  F  157  51.3  인공지능 공부\n"
     ]
    }
   ],
   "source": [
    "# 컬럼명 이용\n",
    "df['취미'] = '인공지능 공부'\n",
    "print(df)"
   ]
  },
  {
   "cell_type": "code",
   "execution_count": 73,
   "metadata": {},
   "outputs": [
    {
     "name": "stdout",
     "output_type": "stream",
     "text": [
      "    이름  위치 성별    키    체중       취미 성별(한글)\n",
      "0  다람쥐  독산  M  179  50.1  인공지능 공부     남성\n",
      "1   판다  종로  F  165  48.2  인공지능 공부     여성\n",
      "2  코알라  하남  F  157  51.3  인공지능 공부     여성\n"
     ]
    }
   ],
   "source": [
    "# np.where(조건, True일때 값, False일 때 값) -> ndarray\n",
    "df['성별(한글)'] = np.where(df['성별'] == 'M', '남성', '여성')\n",
    "print(df)"
   ]
  },
  {
   "cell_type": "code",
   "execution_count": 75,
   "metadata": {},
   "outputs": [
    {
     "name": "stdout",
     "output_type": "stream",
     "text": [
      "    이름  위치 성별    키    체중       취미 성별(한글)        BMI\n",
      "0  다람쥐  독산  M  179  50.1  인공지능 공부     남성  15.636216\n",
      "1   판다  종로  F  165  48.2  인공지능 공부     여성  17.704316\n",
      "2  코알라  하남  F  157  51.3  인공지능 공부     여성  20.812203\n"
     ]
    }
   ],
   "source": [
    "# 기존 컬럼 연산\n",
    "df['BMI'] = df['체중'] / ((df['키'] * 0.01) ** 2) # BMI = kg / m^2\n",
    "print(df)"
   ]
  },
  {
   "cell_type": "code",
   "execution_count": 76,
   "metadata": {},
   "outputs": [
    {
     "name": "stdout",
     "output_type": "stream",
     "text": [
      "    이름  위치 성별    키    체중       취미 성별(한글)        BMI BMI type\n",
      "0  다람쥐  독산  M  179  50.1  인공지능 공부     남성  15.636216      저체중\n",
      "1   판다  종로  F  165  48.2  인공지능 공부     여성  17.704316      저체중\n",
      "2  코알라  하남  F  157  51.3  인공지능 공부     여성  20.812203       표준\n"
     ]
    }
   ],
   "source": [
    "# apply()\n",
    "def get_type(value):\n",
    "    return '저체중' if value < 18 else '표준'\n",
    "\n",
    "df['BMI type'] = df['BMI'].apply(get_type)\n",
    "print(df)"
   ]
  },
  {
   "cell_type": "code",
   "execution_count": 78,
   "metadata": {},
   "outputs": [
    {
     "name": "stdout",
     "output_type": "stream",
     "text": [
      "    이름  위치 성별    키    체중       취미 성별(한글)        BMI\n",
      "0  다람쥐  독산  M  179  50.1  인공지능 공부     남성  15.636216\n",
      "1   판다  종로  F  165  48.2  인공지능 공부     여성  17.704316\n",
      "2  코알라  하남  F  157  51.3  인공지능 공부     여성  20.812203\n"
     ]
    }
   ],
   "source": [
    "# 컬럼 삭제\n",
    "df.drop('BMI type', axis=1, inplace=True)\n",
    "print(df)"
   ]
  },
  {
   "cell_type": "markdown",
   "metadata": {},
   "source": [
    "---\n",
    "### 정렬"
   ]
  },
  {
   "cell_type": "code",
   "execution_count": 79,
   "metadata": {},
   "outputs": [
    {
     "name": "stdout",
     "output_type": "stream",
     "text": [
      "  First Name Last Name                    Email Postal Code  Net Worth  \\\n",
      "0      Bird      Steve           bird@gmail.com     N94 3M0    5000.00   \n",
      "1       Noah     Small       nsmall@hotmail.com     N8S 14K   10000.00   \n",
      "2       Nina    Keller          azikez@gahew.mr     S1T 4E6    9072.02   \n",
      "3    Chanel      Steve         chanel@gmail.com     N7T 3E6   11072.02   \n",
      "4       Kate      Noor         kate@hotmail.com     K8N 5H6    5000.00   \n",
      "5      Samer        Mo          samer@gmail.com     J7H 3HY  100000.00   \n",
      "6       Heba    Ismail  heba.ismail@hotmail.com     K8Y 3M8   50000.00   \n",
      "7      Laila     Ahmed      Laila.a@hotmail.com     J8Y 3M0   20000.00   \n",
      "8     Joseph    Patton           daafeja@boh.jm     M6U 5U7    2629.13   \n",
      "9       Noah     Moran        guutodi@bigwoc.kw     K2D 4M9    8626.96   \n",
      "\n",
      "   Years with Bank  \n",
      "0                5  \n",
      "1                6  \n",
      "2                7  \n",
      "3               10  \n",
      "4               22  \n",
      "5               26  \n",
      "6               11  \n",
      "7                3  \n",
      "8                1  \n",
      "9               13  \n"
     ]
    }
   ],
   "source": [
    "df = pd.read_csv('data/bank_client_information.csv')\n",
    "print(df)"
   ]
  },
  {
   "cell_type": "code",
   "execution_count": 81,
   "metadata": {},
   "outputs": [
    {
     "data": {
      "text/html": [
       "<div>\n",
       "<style scoped>\n",
       "    .dataframe tbody tr th:only-of-type {\n",
       "        vertical-align: middle;\n",
       "    }\n",
       "\n",
       "    .dataframe tbody tr th {\n",
       "        vertical-align: top;\n",
       "    }\n",
       "\n",
       "    .dataframe thead th {\n",
       "        text-align: right;\n",
       "    }\n",
       "</style>\n",
       "<table border=\"1\" class=\"dataframe\">\n",
       "  <thead>\n",
       "    <tr style=\"text-align: right;\">\n",
       "      <th></th>\n",
       "      <th>First Name</th>\n",
       "      <th>Last Name</th>\n",
       "      <th>Email</th>\n",
       "      <th>Postal Code</th>\n",
       "      <th>Net Worth</th>\n",
       "      <th>Years with Bank</th>\n",
       "    </tr>\n",
       "  </thead>\n",
       "  <tbody>\n",
       "    <tr>\n",
       "      <th>5</th>\n",
       "      <td>Samer</td>\n",
       "      <td>Mo</td>\n",
       "      <td>samer@gmail.com</td>\n",
       "      <td>J7H 3HY</td>\n",
       "      <td>100000.00</td>\n",
       "      <td>26</td>\n",
       "    </tr>\n",
       "    <tr>\n",
       "      <th>6</th>\n",
       "      <td>Heba</td>\n",
       "      <td>Ismail</td>\n",
       "      <td>heba.ismail@hotmail.com</td>\n",
       "      <td>K8Y 3M8</td>\n",
       "      <td>50000.00</td>\n",
       "      <td>11</td>\n",
       "    </tr>\n",
       "    <tr>\n",
       "      <th>7</th>\n",
       "      <td>Laila</td>\n",
       "      <td>Ahmed</td>\n",
       "      <td>Laila.a@hotmail.com</td>\n",
       "      <td>J8Y 3M0</td>\n",
       "      <td>20000.00</td>\n",
       "      <td>3</td>\n",
       "    </tr>\n",
       "    <tr>\n",
       "      <th>3</th>\n",
       "      <td>Chanel</td>\n",
       "      <td>Steve</td>\n",
       "      <td>chanel@gmail.com</td>\n",
       "      <td>N7T 3E6</td>\n",
       "      <td>11072.02</td>\n",
       "      <td>10</td>\n",
       "    </tr>\n",
       "    <tr>\n",
       "      <th>1</th>\n",
       "      <td>Noah</td>\n",
       "      <td>Small</td>\n",
       "      <td>nsmall@hotmail.com</td>\n",
       "      <td>N8S 14K</td>\n",
       "      <td>10000.00</td>\n",
       "      <td>6</td>\n",
       "    </tr>\n",
       "    <tr>\n",
       "      <th>2</th>\n",
       "      <td>Nina</td>\n",
       "      <td>Keller</td>\n",
       "      <td>azikez@gahew.mr</td>\n",
       "      <td>S1T 4E6</td>\n",
       "      <td>9072.02</td>\n",
       "      <td>7</td>\n",
       "    </tr>\n",
       "    <tr>\n",
       "      <th>9</th>\n",
       "      <td>Noah</td>\n",
       "      <td>Moran</td>\n",
       "      <td>guutodi@bigwoc.kw</td>\n",
       "      <td>K2D 4M9</td>\n",
       "      <td>8626.96</td>\n",
       "      <td>13</td>\n",
       "    </tr>\n",
       "    <tr>\n",
       "      <th>0</th>\n",
       "      <td>Bird</td>\n",
       "      <td>Steve</td>\n",
       "      <td>bird@gmail.com</td>\n",
       "      <td>N94 3M0</td>\n",
       "      <td>5000.00</td>\n",
       "      <td>5</td>\n",
       "    </tr>\n",
       "    <tr>\n",
       "      <th>4</th>\n",
       "      <td>Kate</td>\n",
       "      <td>Noor</td>\n",
       "      <td>kate@hotmail.com</td>\n",
       "      <td>K8N 5H6</td>\n",
       "      <td>5000.00</td>\n",
       "      <td>22</td>\n",
       "    </tr>\n",
       "    <tr>\n",
       "      <th>8</th>\n",
       "      <td>Joseph</td>\n",
       "      <td>Patton</td>\n",
       "      <td>daafeja@boh.jm</td>\n",
       "      <td>M6U 5U7</td>\n",
       "      <td>2629.13</td>\n",
       "      <td>1</td>\n",
       "    </tr>\n",
       "  </tbody>\n",
       "</table>\n",
       "</div>"
      ],
      "text/plain": [
       "  First Name Last Name                    Email Postal Code  Net Worth  \\\n",
       "5      Samer        Mo          samer@gmail.com     J7H 3HY  100000.00   \n",
       "6       Heba    Ismail  heba.ismail@hotmail.com     K8Y 3M8   50000.00   \n",
       "7      Laila     Ahmed      Laila.a@hotmail.com     J8Y 3M0   20000.00   \n",
       "3    Chanel      Steve         chanel@gmail.com     N7T 3E6   11072.02   \n",
       "1       Noah     Small       nsmall@hotmail.com     N8S 14K   10000.00   \n",
       "2       Nina    Keller          azikez@gahew.mr     S1T 4E6    9072.02   \n",
       "9       Noah     Moran        guutodi@bigwoc.kw     K2D 4M9    8626.96   \n",
       "0      Bird      Steve           bird@gmail.com     N94 3M0    5000.00   \n",
       "4       Kate      Noor         kate@hotmail.com     K8N 5H6    5000.00   \n",
       "8     Joseph    Patton           daafeja@boh.jm     M6U 5U7    2629.13   \n",
       "\n",
       "   Years with Bank  \n",
       "5               26  \n",
       "6               11  \n",
       "7                3  \n",
       "3               10  \n",
       "1                6  \n",
       "2                7  \n",
       "9               13  \n",
       "0                5  \n",
       "4               22  \n",
       "8                1  "
      ]
     },
     "execution_count": 81,
     "metadata": {},
     "output_type": "execute_result"
    }
   ],
   "source": [
    "df.sort_values('Net Worth', ascending=False) # ascending 내림차순 정렬"
   ]
  },
  {
   "cell_type": "code",
   "execution_count": 83,
   "metadata": {},
   "outputs": [
    {
     "data": {
      "text/html": [
       "<div>\n",
       "<style scoped>\n",
       "    .dataframe tbody tr th:only-of-type {\n",
       "        vertical-align: middle;\n",
       "    }\n",
       "\n",
       "    .dataframe tbody tr th {\n",
       "        vertical-align: top;\n",
       "    }\n",
       "\n",
       "    .dataframe thead th {\n",
       "        text-align: right;\n",
       "    }\n",
       "</style>\n",
       "<table border=\"1\" class=\"dataframe\">\n",
       "  <thead>\n",
       "    <tr style=\"text-align: right;\">\n",
       "      <th></th>\n",
       "      <th>First Name</th>\n",
       "      <th>Last Name</th>\n",
       "      <th>Email</th>\n",
       "      <th>Postal Code</th>\n",
       "      <th>Net Worth</th>\n",
       "      <th>Years with Bank</th>\n",
       "    </tr>\n",
       "  </thead>\n",
       "  <tbody>\n",
       "    <tr>\n",
       "      <th>5</th>\n",
       "      <td>Samer</td>\n",
       "      <td>Mo</td>\n",
       "      <td>samer@gmail.com</td>\n",
       "      <td>J7H 3HY</td>\n",
       "      <td>100000.00</td>\n",
       "      <td>26</td>\n",
       "    </tr>\n",
       "    <tr>\n",
       "      <th>4</th>\n",
       "      <td>Kate</td>\n",
       "      <td>Noor</td>\n",
       "      <td>kate@hotmail.com</td>\n",
       "      <td>K8N 5H6</td>\n",
       "      <td>5000.00</td>\n",
       "      <td>22</td>\n",
       "    </tr>\n",
       "    <tr>\n",
       "      <th>9</th>\n",
       "      <td>Noah</td>\n",
       "      <td>Moran</td>\n",
       "      <td>guutodi@bigwoc.kw</td>\n",
       "      <td>K2D 4M9</td>\n",
       "      <td>8626.96</td>\n",
       "      <td>13</td>\n",
       "    </tr>\n",
       "    <tr>\n",
       "      <th>6</th>\n",
       "      <td>Heba</td>\n",
       "      <td>Ismail</td>\n",
       "      <td>heba.ismail@hotmail.com</td>\n",
       "      <td>K8Y 3M8</td>\n",
       "      <td>50000.00</td>\n",
       "      <td>11</td>\n",
       "    </tr>\n",
       "    <tr>\n",
       "      <th>3</th>\n",
       "      <td>Chanel</td>\n",
       "      <td>Steve</td>\n",
       "      <td>chanel@gmail.com</td>\n",
       "      <td>N7T 3E6</td>\n",
       "      <td>11072.02</td>\n",
       "      <td>10</td>\n",
       "    </tr>\n",
       "    <tr>\n",
       "      <th>2</th>\n",
       "      <td>Nina</td>\n",
       "      <td>Keller</td>\n",
       "      <td>azikez@gahew.mr</td>\n",
       "      <td>S1T 4E6</td>\n",
       "      <td>9072.02</td>\n",
       "      <td>7</td>\n",
       "    </tr>\n",
       "    <tr>\n",
       "      <th>1</th>\n",
       "      <td>Noah</td>\n",
       "      <td>Small</td>\n",
       "      <td>nsmall@hotmail.com</td>\n",
       "      <td>N8S 14K</td>\n",
       "      <td>10000.00</td>\n",
       "      <td>6</td>\n",
       "    </tr>\n",
       "    <tr>\n",
       "      <th>0</th>\n",
       "      <td>Bird</td>\n",
       "      <td>Steve</td>\n",
       "      <td>bird@gmail.com</td>\n",
       "      <td>N94 3M0</td>\n",
       "      <td>5000.00</td>\n",
       "      <td>5</td>\n",
       "    </tr>\n",
       "    <tr>\n",
       "      <th>7</th>\n",
       "      <td>Laila</td>\n",
       "      <td>Ahmed</td>\n",
       "      <td>Laila.a@hotmail.com</td>\n",
       "      <td>J8Y 3M0</td>\n",
       "      <td>20000.00</td>\n",
       "      <td>3</td>\n",
       "    </tr>\n",
       "    <tr>\n",
       "      <th>8</th>\n",
       "      <td>Joseph</td>\n",
       "      <td>Patton</td>\n",
       "      <td>daafeja@boh.jm</td>\n",
       "      <td>M6U 5U7</td>\n",
       "      <td>2629.13</td>\n",
       "      <td>1</td>\n",
       "    </tr>\n",
       "  </tbody>\n",
       "</table>\n",
       "</div>"
      ],
      "text/plain": [
       "  First Name Last Name                    Email Postal Code  Net Worth  \\\n",
       "5      Samer        Mo          samer@gmail.com     J7H 3HY  100000.00   \n",
       "4       Kate      Noor         kate@hotmail.com     K8N 5H6    5000.00   \n",
       "9       Noah     Moran        guutodi@bigwoc.kw     K2D 4M9    8626.96   \n",
       "6       Heba    Ismail  heba.ismail@hotmail.com     K8Y 3M8   50000.00   \n",
       "3    Chanel      Steve         chanel@gmail.com     N7T 3E6   11072.02   \n",
       "2       Nina    Keller          azikez@gahew.mr     S1T 4E6    9072.02   \n",
       "1       Noah     Small       nsmall@hotmail.com     N8S 14K   10000.00   \n",
       "0      Bird      Steve           bird@gmail.com     N94 3M0    5000.00   \n",
       "7      Laila     Ahmed      Laila.a@hotmail.com     J8Y 3M0   20000.00   \n",
       "8     Joseph    Patton           daafeja@boh.jm     M6U 5U7    2629.13   \n",
       "\n",
       "   Years with Bank  \n",
       "5               26  \n",
       "4               22  \n",
       "9               13  \n",
       "6               11  \n",
       "3               10  \n",
       "2                7  \n",
       "1                6  \n",
       "0                5  \n",
       "7                3  \n",
       "8                1  "
      ]
     },
     "execution_count": 83,
     "metadata": {},
     "output_type": "execute_result"
    }
   ],
   "source": [
    "# 오래된 고객순으로 출력\n",
    "df.sort_values('Years with Bank', ascending=False)"
   ]
  },
  {
   "cell_type": "code",
   "execution_count": 90,
   "metadata": {},
   "outputs": [
    {
     "data": {
      "text/html": [
       "<div>\n",
       "<style scoped>\n",
       "    .dataframe tbody tr th:only-of-type {\n",
       "        vertical-align: middle;\n",
       "    }\n",
       "\n",
       "    .dataframe tbody tr th {\n",
       "        vertical-align: top;\n",
       "    }\n",
       "\n",
       "    .dataframe thead th {\n",
       "        text-align: right;\n",
       "    }\n",
       "</style>\n",
       "<table border=\"1\" class=\"dataframe\">\n",
       "  <thead>\n",
       "    <tr style=\"text-align: right;\">\n",
       "      <th></th>\n",
       "      <th>First Name</th>\n",
       "      <th>Last Name</th>\n",
       "      <th>Email</th>\n",
       "      <th>Postal Code</th>\n",
       "      <th>Net Worth</th>\n",
       "      <th>Years with Bank</th>\n",
       "    </tr>\n",
       "  </thead>\n",
       "  <tbody>\n",
       "    <tr>\n",
       "      <th>5</th>\n",
       "      <td>Samer</td>\n",
       "      <td>Mo</td>\n",
       "      <td>samer@gmail.com</td>\n",
       "      <td>J7H 3HY</td>\n",
       "      <td>100000.00</td>\n",
       "      <td>26</td>\n",
       "    </tr>\n",
       "    <tr>\n",
       "      <th>6</th>\n",
       "      <td>Heba</td>\n",
       "      <td>Ismail</td>\n",
       "      <td>heba.ismail@hotmail.com</td>\n",
       "      <td>K8Y 3M8</td>\n",
       "      <td>50000.00</td>\n",
       "      <td>11</td>\n",
       "    </tr>\n",
       "    <tr>\n",
       "      <th>7</th>\n",
       "      <td>Laila</td>\n",
       "      <td>Ahmed</td>\n",
       "      <td>Laila.a@hotmail.com</td>\n",
       "      <td>J8Y 3M0</td>\n",
       "      <td>20000.00</td>\n",
       "      <td>3</td>\n",
       "    </tr>\n",
       "    <tr>\n",
       "      <th>3</th>\n",
       "      <td>Chanel</td>\n",
       "      <td>Steve</td>\n",
       "      <td>chanel@gmail.com</td>\n",
       "      <td>N7T 3E6</td>\n",
       "      <td>11072.02</td>\n",
       "      <td>10</td>\n",
       "    </tr>\n",
       "    <tr>\n",
       "      <th>1</th>\n",
       "      <td>Noah</td>\n",
       "      <td>Small</td>\n",
       "      <td>nsmall@hotmail.com</td>\n",
       "      <td>N8S 14K</td>\n",
       "      <td>10000.00</td>\n",
       "      <td>6</td>\n",
       "    </tr>\n",
       "    <tr>\n",
       "      <th>2</th>\n",
       "      <td>Nina</td>\n",
       "      <td>Keller</td>\n",
       "      <td>azikez@gahew.mr</td>\n",
       "      <td>S1T 4E6</td>\n",
       "      <td>9072.02</td>\n",
       "      <td>7</td>\n",
       "    </tr>\n",
       "    <tr>\n",
       "      <th>9</th>\n",
       "      <td>Noah</td>\n",
       "      <td>Moran</td>\n",
       "      <td>guutodi@bigwoc.kw</td>\n",
       "      <td>K2D 4M9</td>\n",
       "      <td>8626.96</td>\n",
       "      <td>13</td>\n",
       "    </tr>\n",
       "    <tr>\n",
       "      <th>4</th>\n",
       "      <td>Kate</td>\n",
       "      <td>Noor</td>\n",
       "      <td>kate@hotmail.com</td>\n",
       "      <td>K8N 5H6</td>\n",
       "      <td>5000.00</td>\n",
       "      <td>22</td>\n",
       "    </tr>\n",
       "    <tr>\n",
       "      <th>0</th>\n",
       "      <td>Bird</td>\n",
       "      <td>Steve</td>\n",
       "      <td>bird@gmail.com</td>\n",
       "      <td>N94 3M0</td>\n",
       "      <td>5000.00</td>\n",
       "      <td>5</td>\n",
       "    </tr>\n",
       "    <tr>\n",
       "      <th>8</th>\n",
       "      <td>Joseph</td>\n",
       "      <td>Patton</td>\n",
       "      <td>daafeja@boh.jm</td>\n",
       "      <td>M6U 5U7</td>\n",
       "      <td>2629.13</td>\n",
       "      <td>1</td>\n",
       "    </tr>\n",
       "  </tbody>\n",
       "</table>\n",
       "</div>"
      ],
      "text/plain": [
       "  First Name Last Name                    Email Postal Code  Net Worth  \\\n",
       "5      Samer        Mo          samer@gmail.com     J7H 3HY  100000.00   \n",
       "6       Heba    Ismail  heba.ismail@hotmail.com     K8Y 3M8   50000.00   \n",
       "7      Laila     Ahmed      Laila.a@hotmail.com     J8Y 3M0   20000.00   \n",
       "3    Chanel      Steve         chanel@gmail.com     N7T 3E6   11072.02   \n",
       "1       Noah     Small       nsmall@hotmail.com     N8S 14K   10000.00   \n",
       "2       Nina    Keller          azikez@gahew.mr     S1T 4E6    9072.02   \n",
       "9       Noah     Moran        guutodi@bigwoc.kw     K2D 4M9    8626.96   \n",
       "4       Kate      Noor         kate@hotmail.com     K8N 5H6    5000.00   \n",
       "0      Bird      Steve           bird@gmail.com     N94 3M0    5000.00   \n",
       "8     Joseph    Patton           daafeja@boh.jm     M6U 5U7    2629.13   \n",
       "\n",
       "   Years with Bank  \n",
       "5               26  \n",
       "6               11  \n",
       "7                3  \n",
       "3               10  \n",
       "1                6  \n",
       "2                7  \n",
       "9               13  \n",
       "4               22  \n",
       "0                5  \n",
       "8                1  "
      ]
     },
     "execution_count": 90,
     "metadata": {},
     "output_type": "execute_result"
    }
   ],
   "source": [
    "# 순자산이 많고 오래된 고객순으로 출력\n",
    "df.sort_values(['Net Worth', 'Years with Bank'], ascending=[False, False])"
   ]
  },
  {
   "cell_type": "code",
   "execution_count": 92,
   "metadata": {},
   "outputs": [
    {
     "name": "stdout",
     "output_type": "stream",
     "text": [
      "  First Name Last Name                    Email Postal Code  Net Worth  \\\n",
      "5      Samer        Mo          samer@gmail.com     J7H 3HY  100000.00   \n",
      "6       Heba    Ismail  heba.ismail@hotmail.com     K8Y 3M8   50000.00   \n",
      "7      Laila     Ahmed      Laila.a@hotmail.com     J8Y 3M0   20000.00   \n",
      "3    Chanel      Steve         chanel@gmail.com     N7T 3E6   11072.02   \n",
      "1       Noah     Small       nsmall@hotmail.com     N8S 14K   10000.00   \n",
      "2       Nina    Keller          azikez@gahew.mr     S1T 4E6    9072.02   \n",
      "9       Noah     Moran        guutodi@bigwoc.kw     K2D 4M9    8626.96   \n",
      "0      Bird      Steve           bird@gmail.com     N94 3M0    5000.00   \n",
      "4       Kate      Noor         kate@hotmail.com     K8N 5H6    5000.00   \n",
      "8     Joseph    Patton           daafeja@boh.jm     M6U 5U7    2629.13   \n",
      "\n",
      "   Years with Bank  Rank  \n",
      "5               26     1  \n",
      "6               11     2  \n",
      "7                3     3  \n",
      "3               10     4  \n",
      "1                6     5  \n",
      "2                7     6  \n",
      "9               13     7  \n",
      "0                5     8  \n",
      "4               22     8  \n",
      "8                1    10  \n"
     ]
    }
   ],
   "source": [
    "# rank(): 순위\n",
    "df['Rank'] = df['Net Worth'].rank(ascending=False).astype(int)\n",
    "print(df.sort_values('Rank'))"
   ]
  }
 ],
 "metadata": {
  "kernelspec": {
   "display_name": "pystudy_env",
   "language": "python",
   "name": "python3"
  },
  "language_info": {
   "codemirror_mode": {
    "name": "ipython",
    "version": 3
   },
   "file_extension": ".py",
   "mimetype": "text/x-python",
   "name": "python",
   "nbconvert_exporter": "python",
   "pygments_lexer": "ipython3",
   "version": "3.12.8"
  }
 },
 "nbformat": 4,
 "nbformat_minor": 2
}
