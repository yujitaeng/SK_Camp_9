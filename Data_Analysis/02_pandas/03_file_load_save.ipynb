{
 "cells": [
  {
   "cell_type": "markdown",
   "metadata": {},
   "source": [
    "### DataFrame Load & Save"
   ]
  },
  {
   "cell_type": "code",
   "execution_count": 1,
   "metadata": {},
   "outputs": [],
   "source": [
    "import numpy as np\n",
    "import pandas as pd"
   ]
  },
  {
   "cell_type": "markdown",
   "metadata": {},
   "source": [
    "read_csv"
   ]
  },
  {
   "cell_type": "code",
   "execution_count": 2,
   "metadata": {},
   "outputs": [
    {
     "name": "stdout",
     "output_type": "stream",
     "text": [
      "Index(['id', 'first_name', 'last_name', 'email', 'gender', 'ip_address'], dtype='object')\n",
      "       id first_name  last_name                             email   gender  \\\n",
      "0       1     Norbie   Wrassell              nwrassell0@bbc.co.uk     Male   \n",
      "1       2     Tybalt   Covendon          tcovendon1@indiegogo.com     Male   \n",
      "2       3       Elyn       Volk                  evolk2@umich.edu   Female   \n",
      "3       4       Todd   Carriage              tcarriage3@youku.com     Male   \n",
      "4       5      Pryce   Brookzie               pbrookzie4@dmoz.org  Agender   \n",
      "..    ...        ...        ...                               ...      ...   \n",
      "995   996     Allsun   McTeague         amcteaguern@moonfruit.com   Female   \n",
      "996   997       Viva     Epinoy                vepinoyro@cnbc.com   Female   \n",
      "997   998      Heall    Mallett              hmallettrp@google.it     Male   \n",
      "998   999     Conroy  Scandrett          cscandrettrq@cornell.edu     Male   \n",
      "999  1000     Romain  Bellfield  rbellfieldrr@acquirethisname.com     Male   \n",
      "\n",
      "          ip_address  \n",
      "0    201.234.222.219  \n",
      "1      90.113.205.35  \n",
      "2      254.131.69.38  \n",
      "3      242.31.116.66  \n",
      "4      212.63.28.128  \n",
      "..               ...  \n",
      "995   134.34.119.166  \n",
      "996     93.2.144.250  \n",
      "997   254.24.191.245  \n",
      "998  150.254.219.221  \n",
      "999   126.167.43.188  \n",
      "\n",
      "[1000 rows x 6 columns]\n"
     ]
    }
   ],
   "source": [
    "df = pd.read_csv('./data/users.csv')\n",
    "print(df.columns)\n",
    "print(df)"
   ]
  },
  {
   "cell_type": "code",
   "execution_count": 4,
   "metadata": {},
   "outputs": [
    {
     "name": "stdout",
     "output_type": "stream",
     "text": [
      "       id first_name  last_name                             email   gender  \\\n",
      "0       1     Norbie   Wrassell              nwrassell0@bbc.co.uk     Male   \n",
      "1       2     Tybalt   Covendon          tcovendon1@indiegogo.com     Male   \n",
      "2       3       Elyn       Volk                  evolk2@umich.edu   Female   \n",
      "3       4       Todd   Carriage              tcarriage3@youku.com     Male   \n",
      "4       5      Pryce   Brookzie               pbrookzie4@dmoz.org  Agender   \n",
      "..    ...        ...        ...                               ...      ...   \n",
      "995   996     Allsun   McTeague         amcteaguern@moonfruit.com   Female   \n",
      "996   997       Viva     Epinoy                vepinoyro@cnbc.com   Female   \n",
      "997   998      Heall    Mallett              hmallettrp@google.it     Male   \n",
      "998   999     Conroy  Scandrett          cscandrettrq@cornell.edu     Male   \n",
      "999  1000     Romain  Bellfield  rbellfieldrr@acquirethisname.com     Male   \n",
      "\n",
      "          ip_address  \n",
      "0    201.234.222.219  \n",
      "1      90.113.205.35  \n",
      "2      254.131.69.38  \n",
      "3      242.31.116.66  \n",
      "4      212.63.28.128  \n",
      "..               ...  \n",
      "995   134.34.119.166  \n",
      "996     93.2.144.250  \n",
      "997   254.24.191.245  \n",
      "998  150.254.219.221  \n",
      "999   126.167.43.188  \n",
      "\n",
      "[1000 rows x 6 columns]\n"
     ]
    }
   ],
   "source": [
    "# 확장자가 다르더라도 csv 데이터면 read_csv()로 로드 가능\n",
    "df = pd.read_csv('./data/users.txt')\n",
    "print(df)"
   ]
  },
  {
   "cell_type": "code",
   "execution_count": 6,
   "metadata": {},
   "outputs": [
    {
     "name": "stdout",
     "output_type": "stream",
     "text": [
      "       id first_name  last_name                             email   gender  \\\n",
      "0       1     Norbie   Wrassell              nwrassell0@bbc.co.uk     Male   \n",
      "1       2     Tybalt   Covendon          tcovendon1@indiegogo.com     Male   \n",
      "2       3       Elyn       Volk                  evolk2@umich.edu   Female   \n",
      "3       4       Todd   Carriage              tcarriage3@youku.com     Male   \n",
      "4       5      Pryce   Brookzie               pbrookzie4@dmoz.org  Agender   \n",
      "..    ...        ...        ...                               ...      ...   \n",
      "995   996     Allsun   McTeague         amcteaguern@moonfruit.com   Female   \n",
      "996   997       Viva     Epinoy                vepinoyro@cnbc.com   Female   \n",
      "997   998      Heall    Mallett              hmallettrp@google.it     Male   \n",
      "998   999     Conroy  Scandrett          cscandrettrq@cornell.edu     Male   \n",
      "999  1000     Romain  Bellfield  rbellfieldrr@acquirethisname.com     Male   \n",
      "\n",
      "          ip_address  \n",
      "0    201.234.222.219  \n",
      "1      90.113.205.35  \n",
      "2      254.131.69.38  \n",
      "3      242.31.116.66  \n",
      "4      212.63.28.128  \n",
      "..               ...  \n",
      "995   134.34.119.166  \n",
      "996     93.2.144.250  \n",
      "997   254.24.191.245  \n",
      "998  150.254.219.221  \n",
      "999   126.167.43.188  \n",
      "\n",
      "[1000 rows x 6 columns]\n"
     ]
    }
   ],
   "source": [
    "# 구분자가 ,가 아닌 다른 문자인 경우에도 sep인자를 넘겨주면 read_csv로 처리 가능\n",
    "df = pd.read_csv('./data/users.tsv', sep=\"\\t\")\n",
    "print(df)"
   ]
  },
  {
   "cell_type": "code",
   "execution_count": 10,
   "metadata": {},
   "outputs": [
    {
     "name": "stdout",
     "output_type": "stream",
     "text": [
      "       id first_name  last_name                             email   gender  \\\n",
      "0       1     Norbie   Wrassell              nwrassell0@bbc.co.uk     Male   \n",
      "1       2     Tybalt   Covendon          tcovendon1@indiegogo.com     Male   \n",
      "2       3       Elyn       Volk                  evolk2@umich.edu   Female   \n",
      "3       4       Todd   Carriage              tcarriage3@youku.com     Male   \n",
      "4       5      Pryce   Brookzie               pbrookzie4@dmoz.org  Agender   \n",
      "..    ...        ...        ...                               ...      ...   \n",
      "995   996     Allsun   McTeague         amcteaguern@moonfruit.com   Female   \n",
      "996   997       Viva     Epinoy                vepinoyro@cnbc.com   Female   \n",
      "997   998      Heall    Mallett              hmallettrp@google.it     Male   \n",
      "998   999     Conroy  Scandrett          cscandrettrq@cornell.edu     Male   \n",
      "999  1000     Romain  Bellfield  rbellfieldrr@acquirethisname.com     Male   \n",
      "\n",
      "          ip_address  \n",
      "0    201.234.222.219  \n",
      "1      90.113.205.35  \n",
      "2      254.131.69.38  \n",
      "3      242.31.116.66  \n",
      "4      212.63.28.128  \n",
      "..               ...  \n",
      "995   134.34.119.166  \n",
      "996     93.2.144.250  \n",
      "997   254.24.191.245  \n",
      "998  150.254.219.221  \n",
      "999   126.167.43.188  \n",
      "\n",
      "[1000 rows x 6 columns]\n"
     ]
    }
   ],
   "source": [
    "# 첫 줄에 column label이 없는 데이터\n",
    "df = pd.read_csv(\n",
    "    './data/users_headless.csv',\n",
    "    header=None, # 첫 줄에 있는 데이터가 header가 되지 않도록 함\n",
    "    names=['id','first_name','last_name','email','gender','ip_address']\n",
    "    )\n",
    "print(df)"
   ]
  },
  {
   "cell_type": "code",
   "execution_count": 11,
   "metadata": {},
   "outputs": [
    {
     "name": "stdout",
     "output_type": "stream",
     "text": [
      "<class 'pandas.core.frame.DataFrame'>\n",
      "RangeIndex: 1000 entries, 0 to 999\n",
      "Data columns (total 6 columns):\n",
      " #   Column      Non-Null Count  Dtype \n",
      "---  ------      --------------  ----- \n",
      " 0   id          1000 non-null   int64 \n",
      " 1   first_name  1000 non-null   object\n",
      " 2   last_name   1000 non-null   object\n",
      " 3   email       1000 non-null   object\n",
      " 4   gender      1000 non-null   object\n",
      " 5   ip_address  1000 non-null   object\n",
      "dtypes: int64(1), object(5)\n",
      "memory usage: 47.0+ KB\n"
     ]
    }
   ],
   "source": [
    "df.info()"
   ]
  },
  {
   "cell_type": "markdown",
   "metadata": {},
   "source": [
    "---\n",
    "### to_csv "
   ]
  },
  {
   "cell_type": "code",
   "execution_count": null,
   "metadata": {},
   "outputs": [],
   "source": [
    "df.to_csv('./data/users2.csv') # 기본값 :  index=True, header=True"
   ]
  },
  {
   "cell_type": "code",
   "execution_count": 13,
   "metadata": {},
   "outputs": [],
   "source": [
    "df.to_csv('./data/users2.csv', index=False)"
   ]
  },
  {
   "cell_type": "code",
   "execution_count": null,
   "metadata": {},
   "outputs": [],
   "source": [
    "df.to_csv('./data/users2.csv', index=False, header=False)"
   ]
  },
  {
   "cell_type": "markdown",
   "metadata": {},
   "source": [
    "---\n",
    "### HTML 문서 내 table Load"
   ]
  },
  {
   "cell_type": "markdown",
   "metadata": {},
   "source": [
    "- 정적 웹 페이지내 table 태그 부분만 추출해 dataframe 객체로 변환 가능\n",
    "- parsing 처리를 위한 lxml 패키지 필요"
   ]
  },
  {
   "cell_type": "code",
   "execution_count": 14,
   "metadata": {},
   "outputs": [
    {
     "name": "stdout",
     "output_type": "stream",
     "text": [
      "Collecting lxml\n",
      "  Downloading lxml-5.3.0-cp312-cp312-win_amd64.whl.metadata (3.9 kB)\n",
      "Downloading lxml-5.3.0-cp312-cp312-win_amd64.whl (3.8 MB)\n",
      "   ---------------------------------------- 0.0/3.8 MB ? eta -:--:--\n",
      "   --------------------- ------------------ 2.1/3.8 MB 39.0 MB/s eta 0:00:01\n",
      "   -------------------------------------- - 3.7/3.8 MB 9.1 MB/s eta 0:00:01\n",
      "   ---------------------------------------- 3.8/3.8 MB 9.1 MB/s eta 0:00:00\n",
      "Installing collected packages: lxml\n",
      "Successfully installed lxml-5.3.0\n"
     ]
    }
   ],
   "source": [
    "!pip install lxml"
   ]
  },
  {
   "cell_type": "code",
   "execution_count": 17,
   "metadata": {},
   "outputs": [
    {
     "name": "stdout",
     "output_type": "stream",
     "text": [
      "7\n",
      "[    순위            제목     감독      한국내 배급사         개봉일       관객수  \\\n",
      "0    1          《명량》    김한민       CJ E&M  2014-07-30  17616141   \n",
      "1    2        《극한직업》    이병헌     CJ엔터테인먼트  2019-01-23  16266480   \n",
      "2    3  《신과함께: 죄와 벌》    김용화     롯데엔터테인먼트  2017-12-20  14414658   \n",
      "3    4        《국제시장》    윤제균       CJ E&M  2014-12-17  14265222   \n",
      "4    5  《어벤져스: 엔드게임》  루소 형제  월트디즈니컴퍼니코리아  2019-04-24  13977602   \n",
      "..  ..           ...    ...          ...         ...       ...   \n",
      "62  63         《베를린》    류승완       CJ E&M  2013-01-30   7166688   \n",
      "63  64         《마스터》    조의석       CJ E&M  2016-12-21   7150586   \n",
      "64  65          《터널》    김성훈          쇼박스  2016-08-10   7120780   \n",
      "65  66        《어벤져스》  조스 휘던  월트디즈니컴퍼니코리아  2012-04-26   7087971   \n",
      "66  67      《인천상륙작전》    이재한       CJ E&M  2016-07-27   7051660   \n",
      "\n",
      "                 기타  \n",
      "0   영화진흥위원회 발권통계 기준  \n",
      "1   영화진흥위원회 발권통계 기준  \n",
      "2   영화진흥위원회 발권통계 기준  \n",
      "3   영화진흥위원회 발권통계 기준  \n",
      "4   영화진흥위원회 발권통계 기준  \n",
      "..              ...  \n",
      "62  영화진흥위원회 발권통계 기준  \n",
      "63  영화진흥위원회 발권통계 기준  \n",
      "64  영화진흥위원회 발권통계 기준  \n",
      "65  영화진흥위원회 발권통계 기준  \n",
      "66  영화진흥위원회 발권통계 기준  \n",
      "\n",
      "[67 rows x 7 columns],         년대                  개봉일                  제목         관객수  \\\n",
      "0   1960년대        1965-04-17[6]          《007 위기일발》      538598   \n",
      "1   1970년대    1974-04-26[8] [9]            《별들의 고향》      464308   \n",
      "2   1970년대  1977-09-27[10] [11]              《겨울여자》      635693   \n",
      "3   1970년대       1979-09-29[13]                《취권》      980000   \n",
      "4   1980년대       1985-03-01[18]           《깊고 푸른 밤》      602778   \n",
      "5   1980년대       1985-06-06[23]              《킬링필드》  1,000,000+   \n",
      "6   1980년대                 1986      《창공을 날아라(영어판)》  1,000,000+   \n",
      "7   1980년대                 1989        《나이아가라(영어판)》  1,000,000+   \n",
      "8   1990년대           1990-06-09            《장군의 아들》  2,000,000+   \n",
      "9   1990년대           1993-04-10               《서편제》  2,900,000+   \n",
      "10  1990년대           1997-11-19              《타이타닉》     4890000   \n",
      "11  1990년대           1999-02-13                《쉬리》     6210000   \n",
      "12  2000년대           2001-03-31                《친구》     8180000   \n",
      "13  2000년대           2003-12-24               《실미도》    11081000   \n",
      "14  2000년대           2004-02-05          《태극기 휘날리며》    11746135   \n",
      "15  2000년대           2005-12-29             《왕의 남자》    10513947   \n",
      "16  2000년대           2006-07-27                《괴물》    10917400   \n",
      "17  2000년대           2009-07-22               《해운대》    11324850   \n",
      "18  2000년대           2009-12-17               《아바타》    13338863   \n",
      "19  2010년대           2012-07-25               《도둑들》    12984143   \n",
      "20  2010년대           2012-09-13        《광해 왕이 된 남자》    12324002   \n",
      "21  2010년대           2013-01-13           《7번방의 선물》    12811488   \n",
      "22  2010년대           2013-12-18               《변호인》    11374892   \n",
      "23  2010년대           2014-01-16              《겨울왕국》    10296101   \n",
      "24  2010년대           2014-07-30                《명량》    17615590   \n",
      "25  2010년대           2014-11-06             《인터스텔라》    10309432   \n",
      "26  2010년대           2014-12-17              《국제시장》    14263332   \n",
      "27  2010년대           2015-04-23  《어벤져스: 에이지 오브 울트론》    10494840   \n",
      "28  2010년대           2015-07-22                《암살》    12706819   \n",
      "29  2010년대           2015-08-05               《베테랑》    13414372   \n",
      "30  2010년대           2016-07-20               《부산행》    11567455   \n",
      "31  2010년대           2017-08-02             《택시운전사》    12189436   \n",
      "32  2010년대           2017-12-20        《신과함께: 죄와 벌》    14411662   \n",
      "33  2010년대           2018-04-25      《어벤져스: 인피니티 워》    11212710   \n",
      "34  2010년대           2018-08-01        《신과함께: 인과 연》    12276230   \n",
      "35  2010년대           2019-01-23              《극한직업》    16264984   \n",
      "36  2010년대           2019-04-24        《어벤져스: 엔드게임》    13934592   \n",
      "37  2010년대           2019-05-23               《알라딘》    12551371   \n",
      "38  2010년대           2019-05-30               《기생충》    10083172   \n",
      "39  2010년대           2019-11-21            《겨울왕국 2》    13747792   \n",
      "\n",
      "                                                   비고  \n",
      "0                                                 [7]  \n",
      "1                                                 [7]  \n",
      "2             제작사 집계.[7] 흔히 인용되는 수로 585,775명이 있다.[12]  \n",
      "3   서울 안에서 898,000명[14][15][16], 국도극장에서만 525,613명(...  \n",
      "4   ‘최초 60만 돌파’로 보도됐다.[19][20], 다른 관객 수로 495,573명이...  \n",
      "5                        [24] 925,994명이라는 기사도 있다.[25]  \n",
      "6                       [26] 63빌딩 아이맥스영화관에서 상영한 다큐멘터리  \n",
      "7   [27] 마를린 몬로 주연의 극영화 '나이아가라(1954)' 가 아닌, 63빌딩 아...  \n",
      "8                 단성사 (서울)에서는 680,000[12][28][29][30]  \n",
      "9      서울 기준 1,035,741[1], 한국 영화상 처음으로 서울 관객 100만 돌파.  \n",
      "10   최초의 서울관객 200만명 영화.[31] 재상영관 포함 520만명. 배급사 집계[32]  \n",
      "11                                 서울 기준 2,448,399[1]  \n",
      "12                                 서울 기준 2,678,846[1]  \n",
      "13                     [1] 대한민국 개봉 영화 사상 최초 1000만 돌파.  \n",
      "14                                                [1]  \n",
      "15                                    영화진흥위원회 공식통계 기준  \n",
      "16                                    영화진흥위원회 공식통계 기준  \n",
      "17                                    영화진흥위원회 공식통계 기준  \n",
      "18                               외화 사상 최초 1000만 관객 돌파  \n",
      "19                                    영화진흥위원회 발권통계 기준  \n",
      "20                                    영화진흥위원회 발권통계 기준  \n",
      "21                                    영화진흥위원회 발권통계 기준  \n",
      "22                                    영화진흥위원회 발권통계 기준  \n",
      "23                        애니메이션 영화 사상 최초 1000만 관객 돌파.  \n",
      "24    영화진흥위원회 발권통계 기준 한국영화 사상 10번째로 아바타 꺾고 역대관객수 1위차지  \n",
      "25                                    영화진흥위원회 발권통계 기준  \n",
      "26                         영화진흥위원회 발권통계 기준 역대관객수 4위차지  \n",
      "27                        슈퍼히어로 영화 사상 최초 1000만 관객 돌파.  \n",
      "28                                    영화진흥위원회 발권통계 기준  \n",
      "29                                    영화진흥위원회 발권통계 기준  \n",
      "30                                    영화진흥위원회 발권통계 기준  \n",
      "31                                    영화진흥위원회 발권통계 기준  \n",
      "32                                    영화진흥위원회 발권통계 기준  \n",
      "33                                    영화진흥위원회 발권통계 기준  \n",
      "34                                    영화진흥위원회 발권통계 기준  \n",
      "35                                    영화진흥위원회 발권통계 기준  \n",
      "36                                    영화진흥위원회 발권통계 기준  \n",
      "37                                    영화진흥위원회 발권통계 기준  \n",
      "38                                    영화진흥위원회 발권통계 기준  \n",
      "39                                    영화진흥위원회 발권통계 기준  ,     순위            작품  개봉 년도  흥행 수익 (단위: ₩)\n",
      "0   1위           기생충  2019년   156943947034\n",
      "1   2위         극한 직업  2019년   139616194600\n",
      "2   3위            명량  2014년   135754920310\n",
      "3   4위  신과 함께 - 죄와 벌  2017년   115706188137\n",
      "4   5위          국제시장  2014년   110937282730\n",
      "5   6위           베테랑  2015년   105169264250\n",
      "6   7위  신과 함께 - 인과 연  2018년   102659157909\n",
      "7   8위            암살  2015년    98467187781\n",
      "8   9위         택시운전사  2017년    95868830649\n",
      "9  10위           도둑들  2012년    93667250500,    vte흥행 1위 영화 목록                                   vte흥행 1위 영화 목록.1\n",
      "0            아메리카  미국 2011년 2012년 2013년 2014년 2015년 2016년 2017년 2...\n",
      "1              미국  2011년 2012년 2013년 2014년 2015년 2016년 2017년 2018...\n",
      "2             캐나다                2016년 2017년 2018년 2019년 2020년 2021년\n",
      "3             아시아  대한민국 2004년 2005년 2006년 2007년 2008년 2009년 2010년...\n",
      "4            대한민국  2004년 2005년 2006년 2007년 2008년 2009년 2010년 2011...\n",
      "5              일본                2016년 2017년 2018년 2019년 2020년 2021년\n",
      "6              중국                                  2016년 2017년 2018년\n",
      "7             베트남                                                베트남\n",
      "8              유럽                                               영국영국\n",
      "9              영국                                                 영국\n",
      "10          매출 순위                                                전세계\n",
      "11          관련 문서                                      박스오피스 박스오피스 봄,      0                                                  1\n",
      "0   미국  2011년 2012년 2013년 2014년 2015년 2016년 2017년 2018...\n",
      "1  캐나다                2016년 2017년 2018년 2019년 2020년 2021년,       0                                                  1\n",
      "0  대한민국  2004년 2005년 2006년 2007년 2008년 2009년 2010년 2011...\n",
      "1    일본                2016년 2017년 2018년 2019년 2020년 2021년\n",
      "2    중국                                  2016년 2017년 2018년\n",
      "3   베트남                                                베트남,     0   1\n",
      "0  영국  영국]\n"
     ]
    }
   ],
   "source": [
    "tables = pd.read_html('https://ko.wikipedia.org/wiki/%EB%8C%80%ED%95%9C%EB%AF%BC%EA%B5%AD%EC%9D%98_%EC%98%81%ED%99%94_%ED%9D%A5%ED%96%89_%EA%B8%B0%EB%A1%9D')\n",
    "print(len(tables))\n",
    "print(tables)"
   ]
  },
  {
   "cell_type": "code",
   "execution_count": 18,
   "metadata": {},
   "outputs": [
    {
     "name": "stdout",
     "output_type": "stream",
     "text": [
      "    순위            제목     감독      한국내 배급사         개봉일       관객수  \\\n",
      "0    1          《명량》    김한민       CJ E&M  2014-07-30  17616141   \n",
      "1    2        《극한직업》    이병헌     CJ엔터테인먼트  2019-01-23  16266480   \n",
      "2    3  《신과함께: 죄와 벌》    김용화     롯데엔터테인먼트  2017-12-20  14414658   \n",
      "3    4        《국제시장》    윤제균       CJ E&M  2014-12-17  14265222   \n",
      "4    5  《어벤져스: 엔드게임》  루소 형제  월트디즈니컴퍼니코리아  2019-04-24  13977602   \n",
      "..  ..           ...    ...          ...         ...       ...   \n",
      "62  63         《베를린》    류승완       CJ E&M  2013-01-30   7166688   \n",
      "63  64         《마스터》    조의석       CJ E&M  2016-12-21   7150586   \n",
      "64  65          《터널》    김성훈          쇼박스  2016-08-10   7120780   \n",
      "65  66        《어벤져스》  조스 휘던  월트디즈니컴퍼니코리아  2012-04-26   7087971   \n",
      "66  67      《인천상륙작전》    이재한       CJ E&M  2016-07-27   7051660   \n",
      "\n",
      "                 기타  \n",
      "0   영화진흥위원회 발권통계 기준  \n",
      "1   영화진흥위원회 발권통계 기준  \n",
      "2   영화진흥위원회 발권통계 기준  \n",
      "3   영화진흥위원회 발권통계 기준  \n",
      "4   영화진흥위원회 발권통계 기준  \n",
      "..              ...  \n",
      "62  영화진흥위원회 발권통계 기준  \n",
      "63  영화진흥위원회 발권통계 기준  \n",
      "64  영화진흥위원회 발권통계 기준  \n",
      "65  영화진흥위원회 발권통계 기준  \n",
      "66  영화진흥위원회 발권통계 기준  \n",
      "\n",
      "[67 rows x 7 columns]\n"
     ]
    }
   ],
   "source": [
    "movie_df = tables[0]\n",
    "print(movie_df)"
   ]
  },
  {
   "cell_type": "code",
   "execution_count": 19,
   "metadata": {},
   "outputs": [
    {
     "name": "stdout",
     "output_type": "stream",
     "text": [
      "<class 'pandas.core.frame.DataFrame'>\n",
      "RangeIndex: 67 entries, 0 to 66\n",
      "Data columns (total 7 columns):\n",
      " #   Column   Non-Null Count  Dtype \n",
      "---  ------   --------------  ----- \n",
      " 0   순위       67 non-null     int64 \n",
      " 1   제목       67 non-null     object\n",
      " 2   감독       67 non-null     object\n",
      " 3   한국내 배급사  67 non-null     object\n",
      " 4   개봉일      67 non-null     object\n",
      " 5   관객수      67 non-null     int64 \n",
      " 6   기타       67 non-null     object\n",
      "dtypes: int64(2), object(5)\n",
      "memory usage: 3.8+ KB\n"
     ]
    }
   ],
   "source": [
    "movie_df.info()"
   ]
  },
  {
   "cell_type": "code",
   "execution_count": 20,
   "metadata": {},
   "outputs": [
    {
     "data": {
      "text/html": [
       "<div>\n",
       "<style scoped>\n",
       "    .dataframe tbody tr th:only-of-type {\n",
       "        vertical-align: middle;\n",
       "    }\n",
       "\n",
       "    .dataframe tbody tr th {\n",
       "        vertical-align: top;\n",
       "    }\n",
       "\n",
       "    .dataframe thead th {\n",
       "        text-align: right;\n",
       "    }\n",
       "</style>\n",
       "<table border=\"1\" class=\"dataframe\">\n",
       "  <thead>\n",
       "    <tr style=\"text-align: right;\">\n",
       "      <th></th>\n",
       "      <th>순위</th>\n",
       "      <th>제목</th>\n",
       "      <th>감독</th>\n",
       "      <th>한국내 배급사</th>\n",
       "      <th>개봉일</th>\n",
       "      <th>관객수</th>\n",
       "      <th>기타</th>\n",
       "    </tr>\n",
       "  </thead>\n",
       "  <tbody>\n",
       "    <tr>\n",
       "      <th>9</th>\n",
       "      <td>10</td>\n",
       "      <td>《괴물》</td>\n",
       "      <td>봉준호</td>\n",
       "      <td>쇼박스</td>\n",
       "      <td>2006-07-27</td>\n",
       "      <td>13019740</td>\n",
       "      <td>영화진흥위원회 공식통계 기준</td>\n",
       "    </tr>\n",
       "    <tr>\n",
       "      <th>30</th>\n",
       "      <td>31</td>\n",
       "      <td>《기생충》</td>\n",
       "      <td>봉준호</td>\n",
       "      <td>CJ엔터테인먼트</td>\n",
       "      <td>2019-05-30</td>\n",
       "      <td>10313735</td>\n",
       "      <td>영화진흥위원회 발권통계 기준</td>\n",
       "    </tr>\n",
       "    <tr>\n",
       "      <th>34</th>\n",
       "      <td>35</td>\n",
       "      <td>《설국열차》</td>\n",
       "      <td>봉준호</td>\n",
       "      <td>CJ E&amp;M</td>\n",
       "      <td>2013-08-01</td>\n",
       "      <td>9354547</td>\n",
       "      <td>영화진흥위원회 발권통계 기준</td>\n",
       "    </tr>\n",
       "  </tbody>\n",
       "</table>\n",
       "</div>"
      ],
      "text/plain": [
       "    순위      제목   감독   한국내 배급사         개봉일       관객수               기타\n",
       "9   10    《괴물》  봉준호       쇼박스  2006-07-27  13019740  영화진흥위원회 공식통계 기준\n",
       "30  31   《기생충》  봉준호  CJ엔터테인먼트  2019-05-30  10313735  영화진흥위원회 발권통계 기준\n",
       "34  35  《설국열차》  봉준호    CJ E&M  2013-08-01   9354547  영화진흥위원회 발권통계 기준"
      ]
     },
     "execution_count": 20,
     "metadata": {},
     "output_type": "execute_result"
    }
   ],
   "source": [
    "movie_df[movie_df['감독'] == '봉준호']\n"
   ]
  },
  {
   "cell_type": "markdown",
   "metadata": {},
   "source": [
    "---\n",
    "### [실습] titanic 승객 데이터 활용"
   ]
  },
  {
   "cell_type": "markdown",
   "metadata": {},
   "source": [
    "- PassengerId - 승객 고유번호\n",
    "- Survived - 생존유무(target 값) (0 = 사망, 1 = 생존)\n",
    "- Pclass - 티켓 클래스 (1 = 1st, 2 = 2nd, 3 = 3rd)\n",
    "- Name - 탑승객 성명\n",
    "- Sex - 성별 (male: 남성, female: 여성)\n",
    "- Age - 나이(세)\n",
    "- SibSp - 함께 탑승한 형제자매, 배우자 수 총합\n",
    "- Parch - 함께 탑승한 부모, 자녀 수 총합\n",
    "- Ticket - 티켓 넘버\n",
    "- Fare - 탑승 요금\n",
    "- Cabin - 객실 넘버\n",
    "- Embarked - 탑승 항구 (C: Cherbourg, Q: Queenstown, S: Southampton)"
   ]
  },
  {
   "cell_type": "code",
   "execution_count": 21,
   "metadata": {},
   "outputs": [],
   "source": [
    "# In[ ]:\n",
    "# # titanic.csv 파일 로드\n",
    "# # titanic 데이터셋의 메타 데이터 확인"
   ]
  },
  {
   "cell_type": "markdown",
   "metadata": {},
   "source": [
    "기초문제\n",
    "- 전체 승객 중 생존자의 수와 사망자의 수를 구하여 출력\n",
    "- 승객 나이의 평균 출력\n",
    "- 1등급 승객 중 운임이 가장 높은 승객의 이름 출력\n",
    "- 여성 승객의 수를 구하여 출력\n",
    "- 운임이 50 이상인 승객의 이름과 운임 출력\n",
    "- 나이가 18세 미만인 승객들의 생존율을 계산하여 출력\n",
    "- 2등급 객실에 탑승한 승객의 평균 운임을 계산하여 출력\n",
    "- 승객 중 나이가 가장 많은 사람의 나이와 이름을 출력\n",
    "- S 항구에서 탑승한 승객의 수를 출력\n",
    "- 3등급 객실에 탑승한 남성 승객 중 생존자의 수를 출력"
   ]
  },
  {
   "cell_type": "markdown",
   "metadata": {},
   "source": [
    "고급문제\n",
    "- 생존자(Survived)와 그렇지 않은 사람들의 Pclass(객실 등급)별 평균 나이를 각각 출력\n",
    "- SibSp(형제/배우자 수)가 3 이상인 승객들 중에서, Fare(운임) 상위 5명의 이름과 - 나이를 출력\n",
    "- 승객 중에서 Age 값이 결측치(NaN)인 사람들의 Embarked(탑승 항구)별 분포를 출력\n",
    "- 나이가 16세 미만이고, 혼자 탑승한(SibSp == 0 and Parch == 0) 승객의 이름과 성별, - 생존 여부를 출력\n",
    "- 1등급(Pclass == 1) 객실에 탑승한 승객들 중에서, 운임(Fare)이 평균보다 높은 - 사람들의 이름과 나이, 운임을 출력\n",
    "- 나이(Age), 객실 등급(Pclass), 운임(Fare) 값에 결측치가 없는 승객들만 대상으로, 각 - 등급별 평균 운임과 중앙값 운임을 출력\n",
    "- 승객들의 Embarked 별 평균 나이를 계산하고, 가장 많은 승객이 탑승한 항구를 기준으로 - 생존율을 계산하여 출력\n",
    "- 승객 중에서 여성(Sex == 'female')이면서 30세 이상인 사람들의 생존율을 계산하여 출력\n",
    "- 동반한 형제 또는 배우자 수(SibSp)와 부모 또는 자녀 수(Parch)의 합이 3 이상인 - 승객들만을 대상으로, 그들의 생존율을 계산하여 출력\n",
    "- Cabin(객실 번호) 정보가 있는 승객들만을 대상으로, 그들의 생존율을 객실 등급별로 구분하여 계산하여 출력"
   ]
  }
 ],
 "metadata": {
  "kernelspec": {
   "display_name": "pystudy_env",
   "language": "python",
   "name": "python3"
  },
  "language_info": {
   "codemirror_mode": {
    "name": "ipython",
    "version": 3
   },
   "file_extension": ".py",
   "mimetype": "text/x-python",
   "name": "python",
   "nbconvert_exporter": "python",
   "pygments_lexer": "ipython3",
   "version": "3.12.8"
  }
 },
 "nbformat": 4,
 "nbformat_minor": 2
}
