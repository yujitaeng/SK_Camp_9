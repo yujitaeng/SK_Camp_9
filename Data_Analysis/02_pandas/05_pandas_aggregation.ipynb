{
 "cells": [
  {
   "cell_type": "markdown",
   "metadata": {},
   "source": [
    "### Aggregation"
   ]
  },
  {
   "cell_type": "markdown",
   "metadata": {},
   "source": [
    "##### 집계함수"
   ]
  },
  {
   "cell_type": "code",
   "execution_count": 1,
   "metadata": {},
   "outputs": [],
   "source": [
    "import numpy as np\n",
    "import pandas as pd"
   ]
  },
  {
   "cell_type": "code",
   "execution_count": 2,
   "metadata": {},
   "outputs": [],
   "source": [
    "data = {\n",
    "    'name': ['김혜수', '박보검', '송혜교', '아이유', '공유', '전지현', '수지', '유재석', '강동원', '윤아'],\n",
    "    'department': ['인사', '재무', '재무', 'IT', 'IT', '인사', '재무', '인사', 'IT', '재무'],\n",
    "    'job': ['사원', '과장', '대리', '사원', '팀장', '대리', '대리', '과장', '사원', '팀장'],\n",
    "    'branch': ['서울', '부산', '서울', '부산', '서울', '서울', '서울', '부산', '서울', '부산'],\n",
    "    'salary': [3500, 5000, 4200, 3800, 6000, 4500, 4600, 5200, 3900, 6100],\n",
    "    'hire_date': ['2020-03-15', '2018-07-10', '2019-05-20', '2021-01-10', '2017-09-25', '2019-03-05', '2020-06-12', '2016-11-30', '2022-04-01', '2017-12-15']\n",
    "}"
   ]
  },
  {
   "cell_type": "code",
   "execution_count": 4,
   "metadata": {},
   "outputs": [
    {
     "name": "stdout",
     "output_type": "stream",
     "text": [
      "<class 'pandas.core.frame.DataFrame'>\n",
      "RangeIndex: 10 entries, 0 to 9\n",
      "Data columns (total 6 columns):\n",
      " #   Column      Non-Null Count  Dtype         \n",
      "---  ------      --------------  -----         \n",
      " 0   name        10 non-null     object        \n",
      " 1   department  10 non-null     object        \n",
      " 2   job         10 non-null     object        \n",
      " 3   branch      10 non-null     object        \n",
      " 4   salary      10 non-null     int64         \n",
      " 5   hire_date   10 non-null     datetime64[ns]\n",
      "dtypes: datetime64[ns](1), int64(1), object(4)\n",
      "memory usage: 612.0+ bytes\n"
     ]
    }
   ],
   "source": [
    "df = pd.DataFrame(data)\n",
    "df['hire_date'] = pd.to_datetime(df['hire_date'])\n",
    "df.info()"
   ]
  },
  {
   "cell_type": "code",
   "execution_count": 6,
   "metadata": {},
   "outputs": [
    {
     "name": "stdout",
     "output_type": "stream",
     "text": [
      "name          10\n",
      "department    10\n",
      "job           10\n",
      "branch        10\n",
      "salary        10\n",
      "hire_date     10\n",
      "dtype: int64\n",
      "46800\n",
      "4680.0\n",
      "6100 3500\n",
      "4550.0\n",
      "797333.3333333334\n",
      "892.9352346801718\n"
     ]
    }
   ],
   "source": [
    "print(df.count())   # dataframe 레벨 | 갯수 집계\n",
    "\n",
    "# Series 레벨 집계 함수\n",
    "# 숫자형이여야 집계 가능한 함수들 -> 숫자형이 있는 행으로 설정해야 함\n",
    "print(df['salary'].sum())\n",
    "print(df['salary'].mean())\n",
    "print(df['salary'].max(), df['salary'].min())\n",
    "print(df['salary'].median())\n",
    "print(df['salary'].var())\n",
    "print(df['salary'].std())"
   ]
  },
  {
   "cell_type": "markdown",
   "metadata": {},
   "source": [
    "---\n",
    "## groupby"
   ]
  },
  {
   "cell_type": "markdown",
   "metadata": {},
   "source": [
    "- 특정 조건에 맞게 행을 그룹핑하는 메서드\n",
    "- DataFrameGroupBy 객체 반환"
   ]
  },
  {
   "cell_type": "code",
   "execution_count": 8,
   "metadata": {},
   "outputs": [
    {
     "name": "stdout",
     "output_type": "stream",
     "text": [
      "<pandas.core.groupby.generic.DataFrameGroupBy object at 0x00000289025D3320>\n",
      "<class 'pandas.core.groupby.generic.DataFrameGroupBy'>\n",
      "{'IT': [3, 4, 8], '인사': [0, 5, 7], '재무': [1, 2, 6, 9]}\n"
     ]
    }
   ],
   "source": [
    "groupby_dept = df.groupby('department')\n",
    "print(groupby_dept)\n",
    "print(type(groupby_dept))\n",
    "print(groupby_dept.groups)"
   ]
  },
  {
   "cell_type": "code",
   "execution_count": 10,
   "metadata": {},
   "outputs": [
    {
     "name": "stdout",
     "output_type": "stream",
     "text": [
      "department\n",
      "IT    4566.666667\n",
      "인사    4400.000000\n",
      "재무    4975.000000\n",
      "Name: salary, dtype: float64\n",
      "department\n",
      "IT    6000\n",
      "인사    5200\n",
      "재무    6100\n",
      "Name: salary, dtype: int64\n",
      "department\n",
      "IT    3800\n",
      "인사    3500\n",
      "재무    4200\n",
      "Name: salary, dtype: int64\n"
     ]
    }
   ],
   "source": [
    "# 그룹별 집계함수 조회\n",
    "print(groupby_dept['salary'].mean())\n",
    "print(groupby_dept['salary'].max())\n",
    "print(groupby_dept['salary'].min())"
   ]
  },
  {
   "cell_type": "code",
   "execution_count": 11,
   "metadata": {},
   "outputs": [
    {
     "data": {
      "text/plain": [
       "department  job\n",
       "IT          사원     2\n",
       "            팀장     1\n",
       "인사          과장     1\n",
       "            대리     1\n",
       "            사원     1\n",
       "재무          대리     2\n",
       "            과장     1\n",
       "            팀장     1\n",
       "Name: count, dtype: int64"
      ]
     },
     "execution_count": 11,
     "metadata": {},
     "output_type": "execute_result"
    }
   ],
   "source": [
    "# 숫자형 데이터가 아닌 경우 count\n",
    "groupby_dept['job'].value_counts()"
   ]
  },
  {
   "cell_type": "code",
   "execution_count": 12,
   "metadata": {},
   "outputs": [
    {
     "name": "stdout",
     "output_type": "stream",
     "text": [
      "department\n",
      "IT   2017-09-25\n",
      "인사   2016-11-30\n",
      "재무   2017-12-15\n",
      "Name: hire_date, dtype: datetime64[ns]\n",
      "department\n",
      "IT   2022-04-01\n",
      "인사   2020-03-15\n",
      "재무   2020-06-12\n",
      "Name: hire_date, dtype: datetime64[ns]\n"
     ]
    }
   ],
   "source": [
    "# 날짜형 데이터\n",
    "print(groupby_dept['hire_date'].min())  # 가장 과거인 날짜 -> 가장 빠른 입사일\n",
    "print(groupby_dept['hire_date'].max())  # 가장 최근인 날짜 -> 가장 늦은 입사일"
   ]
  },
  {
   "cell_type": "code",
   "execution_count": 13,
   "metadata": {},
   "outputs": [
    {
     "data": {
      "text/html": [
       "<div>\n",
       "<style scoped>\n",
       "    .dataframe tbody tr th:only-of-type {\n",
       "        vertical-align: middle;\n",
       "    }\n",
       "\n",
       "    .dataframe tbody tr th {\n",
       "        vertical-align: top;\n",
       "    }\n",
       "\n",
       "    .dataframe thead th {\n",
       "        text-align: right;\n",
       "    }\n",
       "</style>\n",
       "<table border=\"1\" class=\"dataframe\">\n",
       "  <thead>\n",
       "    <tr style=\"text-align: right;\">\n",
       "      <th></th>\n",
       "      <th>salary_mean</th>\n",
       "      <th>salary_max</th>\n",
       "      <th>hire_date_min</th>\n",
       "      <th>hire_date_max</th>\n",
       "    </tr>\n",
       "    <tr>\n",
       "      <th>department</th>\n",
       "      <th></th>\n",
       "      <th></th>\n",
       "      <th></th>\n",
       "      <th></th>\n",
       "    </tr>\n",
       "  </thead>\n",
       "  <tbody>\n",
       "    <tr>\n",
       "      <th>IT</th>\n",
       "      <td>4566.666667</td>\n",
       "      <td>6000</td>\n",
       "      <td>2017-09-25</td>\n",
       "      <td>2022-04-01</td>\n",
       "    </tr>\n",
       "    <tr>\n",
       "      <th>인사</th>\n",
       "      <td>4400.000000</td>\n",
       "      <td>5200</td>\n",
       "      <td>2016-11-30</td>\n",
       "      <td>2020-03-15</td>\n",
       "    </tr>\n",
       "    <tr>\n",
       "      <th>재무</th>\n",
       "      <td>4975.000000</td>\n",
       "      <td>6100</td>\n",
       "      <td>2017-12-15</td>\n",
       "      <td>2020-06-12</td>\n",
       "    </tr>\n",
       "  </tbody>\n",
       "</table>\n",
       "</div>"
      ],
      "text/plain": [
       "            salary_mean  salary_max hire_date_min hire_date_max\n",
       "department                                                     \n",
       "IT          4566.666667        6000    2017-09-25    2022-04-01\n",
       "인사          4400.000000        5200    2016-11-30    2020-03-15\n",
       "재무          4975.000000        6100    2017-12-15    2020-06-12"
      ]
     },
     "execution_count": 13,
     "metadata": {},
     "output_type": "execute_result"
    }
   ],
   "source": [
    "# named aggregation : .agg(컬럼명=(어떤것으로 어떤것을 집계할 건지 순서대로 입력(튜플 형식)))\n",
    "groupby_dept.agg(\n",
    "    salary_mean = ('salary', 'mean'),\n",
    "    salary_max = ('salary', 'max'),\n",
    "    hire_date_min = ('hire_date', 'min'),\n",
    "    hire_date_max = ('hire_date', 'max')\n",
    ")"
   ]
  },
  {
   "cell_type": "code",
   "execution_count": 15,
   "metadata": {},
   "outputs": [
    {
     "name": "stdout",
     "output_type": "stream",
     "text": [
      "{('IT', '사원'): [3, 8], ('IT', '팀장'): [4], ('인사', '과장'): [7], ('인사', '대리'): [5], ('인사', '사원'): [0], ('재무', '과장'): [1], ('재무', '대리'): [2, 6], ('재무', '팀장'): [9]}\n"
     ]
    }
   ],
   "source": [
    "# 두 개 이상의 컬럼으로 그룹핑\n",
    "groupby_dept_job = df.groupby(['department', 'job'])\n",
    "print(groupby_dept_job.groups)"
   ]
  },
  {
   "cell_type": "code",
   "execution_count": 16,
   "metadata": {},
   "outputs": [
    {
     "name": "stdout",
     "output_type": "stream",
     "text": [
      "                name  branch  salary  hire_date\n",
      "department job                                 \n",
      "IT         사원      2       2       2          2\n",
      "           팀장      1       1       1          1\n",
      "인사         과장      1       1       1          1\n",
      "           대리      1       1       1          1\n",
      "           사원      1       1       1          1\n",
      "재무         과장      1       1       1          1\n",
      "           대리      2       2       2          2\n",
      "           팀장      1       1       1          1\n"
     ]
    }
   ],
   "source": [
    "print(groupby_dept_job.count())"
   ]
  },
  {
   "cell_type": "code",
   "execution_count": 17,
   "metadata": {},
   "outputs": [
    {
     "name": "stdout",
     "output_type": "stream",
     "text": [
      "department  job  name  branch  salary  hire_date \n",
      "IT          사원   강동원   서울      3900    2022-04-01    1\n",
      "                 아이유   부산      3800    2021-01-10    1\n",
      "            팀장   공유    서울      6000    2017-09-25    1\n",
      "인사          과장   유재석   부산      5200    2016-11-30    1\n",
      "            대리   전지현   서울      4500    2019-03-05    1\n",
      "            사원   김혜수   서울      3500    2020-03-15    1\n",
      "재무          과장   박보검   부산      5000    2018-07-10    1\n",
      "            대리   송혜교   서울      4200    2019-05-20    1\n",
      "                 수지    서울      4600    2020-06-12    1\n",
      "            팀장   윤아    부산      6100    2017-12-15    1\n",
      "Name: count, dtype: int64\n"
     ]
    }
   ],
   "source": [
    "print(groupby_dept_job.value_counts())"
   ]
  },
  {
   "cell_type": "code",
   "execution_count": 18,
   "metadata": {},
   "outputs": [
    {
     "name": "stdout",
     "output_type": "stream",
     "text": [
      "('IT', '사원')\n"
     ]
    },
    {
     "data": {
      "text/html": [
       "<div>\n",
       "<style scoped>\n",
       "    .dataframe tbody tr th:only-of-type {\n",
       "        vertical-align: middle;\n",
       "    }\n",
       "\n",
       "    .dataframe tbody tr th {\n",
       "        vertical-align: top;\n",
       "    }\n",
       "\n",
       "    .dataframe thead th {\n",
       "        text-align: right;\n",
       "    }\n",
       "</style>\n",
       "<table border=\"1\" class=\"dataframe\">\n",
       "  <thead>\n",
       "    <tr style=\"text-align: right;\">\n",
       "      <th></th>\n",
       "      <th>name</th>\n",
       "      <th>department</th>\n",
       "      <th>job</th>\n",
       "      <th>branch</th>\n",
       "      <th>salary</th>\n",
       "      <th>hire_date</th>\n",
       "    </tr>\n",
       "  </thead>\n",
       "  <tbody>\n",
       "    <tr>\n",
       "      <th>3</th>\n",
       "      <td>아이유</td>\n",
       "      <td>IT</td>\n",
       "      <td>사원</td>\n",
       "      <td>부산</td>\n",
       "      <td>3800</td>\n",
       "      <td>2021-01-10</td>\n",
       "    </tr>\n",
       "    <tr>\n",
       "      <th>8</th>\n",
       "      <td>강동원</td>\n",
       "      <td>IT</td>\n",
       "      <td>사원</td>\n",
       "      <td>서울</td>\n",
       "      <td>3900</td>\n",
       "      <td>2022-04-01</td>\n",
       "    </tr>\n",
       "  </tbody>\n",
       "</table>\n",
       "</div>"
      ],
      "text/plain": [
       "  name department job branch  salary  hire_date\n",
       "3  아이유         IT  사원     부산    3800 2021-01-10\n",
       "8  강동원         IT  사원     서울    3900 2022-04-01"
      ]
     },
     "metadata": {},
     "output_type": "display_data"
    },
    {
     "name": "stdout",
     "output_type": "stream",
     "text": [
      "('IT', '팀장')\n"
     ]
    },
    {
     "data": {
      "text/html": [
       "<div>\n",
       "<style scoped>\n",
       "    .dataframe tbody tr th:only-of-type {\n",
       "        vertical-align: middle;\n",
       "    }\n",
       "\n",
       "    .dataframe tbody tr th {\n",
       "        vertical-align: top;\n",
       "    }\n",
       "\n",
       "    .dataframe thead th {\n",
       "        text-align: right;\n",
       "    }\n",
       "</style>\n",
       "<table border=\"1\" class=\"dataframe\">\n",
       "  <thead>\n",
       "    <tr style=\"text-align: right;\">\n",
       "      <th></th>\n",
       "      <th>name</th>\n",
       "      <th>department</th>\n",
       "      <th>job</th>\n",
       "      <th>branch</th>\n",
       "      <th>salary</th>\n",
       "      <th>hire_date</th>\n",
       "    </tr>\n",
       "  </thead>\n",
       "  <tbody>\n",
       "    <tr>\n",
       "      <th>4</th>\n",
       "      <td>공유</td>\n",
       "      <td>IT</td>\n",
       "      <td>팀장</td>\n",
       "      <td>서울</td>\n",
       "      <td>6000</td>\n",
       "      <td>2017-09-25</td>\n",
       "    </tr>\n",
       "  </tbody>\n",
       "</table>\n",
       "</div>"
      ],
      "text/plain": [
       "  name department job branch  salary  hire_date\n",
       "4   공유         IT  팀장     서울    6000 2017-09-25"
      ]
     },
     "metadata": {},
     "output_type": "display_data"
    },
    {
     "name": "stdout",
     "output_type": "stream",
     "text": [
      "('인사', '과장')\n"
     ]
    },
    {
     "data": {
      "text/html": [
       "<div>\n",
       "<style scoped>\n",
       "    .dataframe tbody tr th:only-of-type {\n",
       "        vertical-align: middle;\n",
       "    }\n",
       "\n",
       "    .dataframe tbody tr th {\n",
       "        vertical-align: top;\n",
       "    }\n",
       "\n",
       "    .dataframe thead th {\n",
       "        text-align: right;\n",
       "    }\n",
       "</style>\n",
       "<table border=\"1\" class=\"dataframe\">\n",
       "  <thead>\n",
       "    <tr style=\"text-align: right;\">\n",
       "      <th></th>\n",
       "      <th>name</th>\n",
       "      <th>department</th>\n",
       "      <th>job</th>\n",
       "      <th>branch</th>\n",
       "      <th>salary</th>\n",
       "      <th>hire_date</th>\n",
       "    </tr>\n",
       "  </thead>\n",
       "  <tbody>\n",
       "    <tr>\n",
       "      <th>7</th>\n",
       "      <td>유재석</td>\n",
       "      <td>인사</td>\n",
       "      <td>과장</td>\n",
       "      <td>부산</td>\n",
       "      <td>5200</td>\n",
       "      <td>2016-11-30</td>\n",
       "    </tr>\n",
       "  </tbody>\n",
       "</table>\n",
       "</div>"
      ],
      "text/plain": [
       "  name department job branch  salary  hire_date\n",
       "7  유재석         인사  과장     부산    5200 2016-11-30"
      ]
     },
     "metadata": {},
     "output_type": "display_data"
    },
    {
     "name": "stdout",
     "output_type": "stream",
     "text": [
      "('인사', '대리')\n"
     ]
    },
    {
     "data": {
      "text/html": [
       "<div>\n",
       "<style scoped>\n",
       "    .dataframe tbody tr th:only-of-type {\n",
       "        vertical-align: middle;\n",
       "    }\n",
       "\n",
       "    .dataframe tbody tr th {\n",
       "        vertical-align: top;\n",
       "    }\n",
       "\n",
       "    .dataframe thead th {\n",
       "        text-align: right;\n",
       "    }\n",
       "</style>\n",
       "<table border=\"1\" class=\"dataframe\">\n",
       "  <thead>\n",
       "    <tr style=\"text-align: right;\">\n",
       "      <th></th>\n",
       "      <th>name</th>\n",
       "      <th>department</th>\n",
       "      <th>job</th>\n",
       "      <th>branch</th>\n",
       "      <th>salary</th>\n",
       "      <th>hire_date</th>\n",
       "    </tr>\n",
       "  </thead>\n",
       "  <tbody>\n",
       "    <tr>\n",
       "      <th>5</th>\n",
       "      <td>전지현</td>\n",
       "      <td>인사</td>\n",
       "      <td>대리</td>\n",
       "      <td>서울</td>\n",
       "      <td>4500</td>\n",
       "      <td>2019-03-05</td>\n",
       "    </tr>\n",
       "  </tbody>\n",
       "</table>\n",
       "</div>"
      ],
      "text/plain": [
       "  name department job branch  salary  hire_date\n",
       "5  전지현         인사  대리     서울    4500 2019-03-05"
      ]
     },
     "metadata": {},
     "output_type": "display_data"
    },
    {
     "name": "stdout",
     "output_type": "stream",
     "text": [
      "('인사', '사원')\n"
     ]
    },
    {
     "data": {
      "text/html": [
       "<div>\n",
       "<style scoped>\n",
       "    .dataframe tbody tr th:only-of-type {\n",
       "        vertical-align: middle;\n",
       "    }\n",
       "\n",
       "    .dataframe tbody tr th {\n",
       "        vertical-align: top;\n",
       "    }\n",
       "\n",
       "    .dataframe thead th {\n",
       "        text-align: right;\n",
       "    }\n",
       "</style>\n",
       "<table border=\"1\" class=\"dataframe\">\n",
       "  <thead>\n",
       "    <tr style=\"text-align: right;\">\n",
       "      <th></th>\n",
       "      <th>name</th>\n",
       "      <th>department</th>\n",
       "      <th>job</th>\n",
       "      <th>branch</th>\n",
       "      <th>salary</th>\n",
       "      <th>hire_date</th>\n",
       "    </tr>\n",
       "  </thead>\n",
       "  <tbody>\n",
       "    <tr>\n",
       "      <th>0</th>\n",
       "      <td>김혜수</td>\n",
       "      <td>인사</td>\n",
       "      <td>사원</td>\n",
       "      <td>서울</td>\n",
       "      <td>3500</td>\n",
       "      <td>2020-03-15</td>\n",
       "    </tr>\n",
       "  </tbody>\n",
       "</table>\n",
       "</div>"
      ],
      "text/plain": [
       "  name department job branch  salary  hire_date\n",
       "0  김혜수         인사  사원     서울    3500 2020-03-15"
      ]
     },
     "metadata": {},
     "output_type": "display_data"
    },
    {
     "name": "stdout",
     "output_type": "stream",
     "text": [
      "('재무', '과장')\n"
     ]
    },
    {
     "data": {
      "text/html": [
       "<div>\n",
       "<style scoped>\n",
       "    .dataframe tbody tr th:only-of-type {\n",
       "        vertical-align: middle;\n",
       "    }\n",
       "\n",
       "    .dataframe tbody tr th {\n",
       "        vertical-align: top;\n",
       "    }\n",
       "\n",
       "    .dataframe thead th {\n",
       "        text-align: right;\n",
       "    }\n",
       "</style>\n",
       "<table border=\"1\" class=\"dataframe\">\n",
       "  <thead>\n",
       "    <tr style=\"text-align: right;\">\n",
       "      <th></th>\n",
       "      <th>name</th>\n",
       "      <th>department</th>\n",
       "      <th>job</th>\n",
       "      <th>branch</th>\n",
       "      <th>salary</th>\n",
       "      <th>hire_date</th>\n",
       "    </tr>\n",
       "  </thead>\n",
       "  <tbody>\n",
       "    <tr>\n",
       "      <th>1</th>\n",
       "      <td>박보검</td>\n",
       "      <td>재무</td>\n",
       "      <td>과장</td>\n",
       "      <td>부산</td>\n",
       "      <td>5000</td>\n",
       "      <td>2018-07-10</td>\n",
       "    </tr>\n",
       "  </tbody>\n",
       "</table>\n",
       "</div>"
      ],
      "text/plain": [
       "  name department job branch  salary  hire_date\n",
       "1  박보검         재무  과장     부산    5000 2018-07-10"
      ]
     },
     "metadata": {},
     "output_type": "display_data"
    },
    {
     "name": "stdout",
     "output_type": "stream",
     "text": [
      "('재무', '대리')\n"
     ]
    },
    {
     "data": {
      "text/html": [
       "<div>\n",
       "<style scoped>\n",
       "    .dataframe tbody tr th:only-of-type {\n",
       "        vertical-align: middle;\n",
       "    }\n",
       "\n",
       "    .dataframe tbody tr th {\n",
       "        vertical-align: top;\n",
       "    }\n",
       "\n",
       "    .dataframe thead th {\n",
       "        text-align: right;\n",
       "    }\n",
       "</style>\n",
       "<table border=\"1\" class=\"dataframe\">\n",
       "  <thead>\n",
       "    <tr style=\"text-align: right;\">\n",
       "      <th></th>\n",
       "      <th>name</th>\n",
       "      <th>department</th>\n",
       "      <th>job</th>\n",
       "      <th>branch</th>\n",
       "      <th>salary</th>\n",
       "      <th>hire_date</th>\n",
       "    </tr>\n",
       "  </thead>\n",
       "  <tbody>\n",
       "    <tr>\n",
       "      <th>2</th>\n",
       "      <td>송혜교</td>\n",
       "      <td>재무</td>\n",
       "      <td>대리</td>\n",
       "      <td>서울</td>\n",
       "      <td>4200</td>\n",
       "      <td>2019-05-20</td>\n",
       "    </tr>\n",
       "    <tr>\n",
       "      <th>6</th>\n",
       "      <td>수지</td>\n",
       "      <td>재무</td>\n",
       "      <td>대리</td>\n",
       "      <td>서울</td>\n",
       "      <td>4600</td>\n",
       "      <td>2020-06-12</td>\n",
       "    </tr>\n",
       "  </tbody>\n",
       "</table>\n",
       "</div>"
      ],
      "text/plain": [
       "  name department job branch  salary  hire_date\n",
       "2  송혜교         재무  대리     서울    4200 2019-05-20\n",
       "6   수지         재무  대리     서울    4600 2020-06-12"
      ]
     },
     "metadata": {},
     "output_type": "display_data"
    },
    {
     "name": "stdout",
     "output_type": "stream",
     "text": [
      "('재무', '팀장')\n"
     ]
    },
    {
     "data": {
      "text/html": [
       "<div>\n",
       "<style scoped>\n",
       "    .dataframe tbody tr th:only-of-type {\n",
       "        vertical-align: middle;\n",
       "    }\n",
       "\n",
       "    .dataframe tbody tr th {\n",
       "        vertical-align: top;\n",
       "    }\n",
       "\n",
       "    .dataframe thead th {\n",
       "        text-align: right;\n",
       "    }\n",
       "</style>\n",
       "<table border=\"1\" class=\"dataframe\">\n",
       "  <thead>\n",
       "    <tr style=\"text-align: right;\">\n",
       "      <th></th>\n",
       "      <th>name</th>\n",
       "      <th>department</th>\n",
       "      <th>job</th>\n",
       "      <th>branch</th>\n",
       "      <th>salary</th>\n",
       "      <th>hire_date</th>\n",
       "    </tr>\n",
       "  </thead>\n",
       "  <tbody>\n",
       "    <tr>\n",
       "      <th>9</th>\n",
       "      <td>윤아</td>\n",
       "      <td>재무</td>\n",
       "      <td>팀장</td>\n",
       "      <td>부산</td>\n",
       "      <td>6100</td>\n",
       "      <td>2017-12-15</td>\n",
       "    </tr>\n",
       "  </tbody>\n",
       "</table>\n",
       "</div>"
      ],
      "text/plain": [
       "  name department job branch  salary  hire_date\n",
       "9   윤아         재무  팀장     부산    6100 2017-12-15"
      ]
     },
     "metadata": {},
     "output_type": "display_data"
    }
   ],
   "source": [
    "for (name, group) in groupby_dept_job:\n",
    "    print(name)\n",
    "    display(group)      # jupyter 전용 함수"
   ]
  },
  {
   "cell_type": "markdown",
   "metadata": {},
   "source": [
    "---\n",
    "### pivot_table"
   ]
  },
  {
   "cell_type": "markdown",
   "metadata": {},
   "source": [
    "- 특정 컬럼(인덱스, 컬럼)을 기준으로 값 컬럼을 열람하는 기능\n",
    "- 연관 있는 데이터를 가독성 좋게 출력 가능"
   ]
  },
  {
   "cell_type": "code",
   "execution_count": 19,
   "metadata": {},
   "outputs": [],
   "source": [
    "data = {\n",
    "    'Date': ['2024-10-11', '2024-10-12', '2024-10-13', '2024-10-14', '2024-10-14'],\n",
    "    'City': ['서울', '인천', '평택', '화성', '서울'],\n",
    "    'Temperature': [17, 18, 19, 18, 19]\n",
    "}\n",
    "\n",
    "df= pd.DataFrame(data)"
   ]
  },
  {
   "cell_type": "code",
   "execution_count": 21,
   "metadata": {},
   "outputs": [
    {
     "data": {
      "text/html": [
       "<div>\n",
       "<style scoped>\n",
       "    .dataframe tbody tr th:only-of-type {\n",
       "        vertical-align: middle;\n",
       "    }\n",
       "\n",
       "    .dataframe tbody tr th {\n",
       "        vertical-align: top;\n",
       "    }\n",
       "\n",
       "    .dataframe thead th {\n",
       "        text-align: right;\n",
       "    }\n",
       "</style>\n",
       "<table border=\"1\" class=\"dataframe\">\n",
       "  <thead>\n",
       "    <tr style=\"text-align: right;\">\n",
       "      <th>City</th>\n",
       "      <th>서울</th>\n",
       "      <th>인천</th>\n",
       "      <th>평택</th>\n",
       "      <th>화성</th>\n",
       "    </tr>\n",
       "    <tr>\n",
       "      <th>Date</th>\n",
       "      <th></th>\n",
       "      <th></th>\n",
       "      <th></th>\n",
       "      <th></th>\n",
       "    </tr>\n",
       "  </thead>\n",
       "  <tbody>\n",
       "    <tr>\n",
       "      <th>2024-10-11</th>\n",
       "      <td>17.0</td>\n",
       "      <td>NaN</td>\n",
       "      <td>NaN</td>\n",
       "      <td>NaN</td>\n",
       "    </tr>\n",
       "    <tr>\n",
       "      <th>2024-10-12</th>\n",
       "      <td>NaN</td>\n",
       "      <td>18.0</td>\n",
       "      <td>NaN</td>\n",
       "      <td>NaN</td>\n",
       "    </tr>\n",
       "    <tr>\n",
       "      <th>2024-10-13</th>\n",
       "      <td>NaN</td>\n",
       "      <td>NaN</td>\n",
       "      <td>19.0</td>\n",
       "      <td>NaN</td>\n",
       "    </tr>\n",
       "    <tr>\n",
       "      <th>2024-10-14</th>\n",
       "      <td>19.0</td>\n",
       "      <td>NaN</td>\n",
       "      <td>NaN</td>\n",
       "      <td>18.0</td>\n",
       "    </tr>\n",
       "  </tbody>\n",
       "</table>\n",
       "</div>"
      ],
      "text/plain": [
       "City          서울    인천    평택    화성\n",
       "Date                              \n",
       "2024-10-11  17.0   NaN   NaN   NaN\n",
       "2024-10-12   NaN  18.0   NaN   NaN\n",
       "2024-10-13   NaN   NaN  19.0   NaN\n",
       "2024-10-14  19.0   NaN   NaN  18.0"
      ]
     },
     "execution_count": 21,
     "metadata": {},
     "output_type": "execute_result"
    }
   ],
   "source": [
    "df.pivot_table(index='Date', columns='City', values='Temperature')"
   ]
  },
  {
   "cell_type": "code",
   "execution_count": 22,
   "metadata": {},
   "outputs": [
    {
     "data": {
      "text/html": [
       "<div>\n",
       "<style scoped>\n",
       "    .dataframe tbody tr th:only-of-type {\n",
       "        vertical-align: middle;\n",
       "    }\n",
       "\n",
       "    .dataframe tbody tr th {\n",
       "        vertical-align: top;\n",
       "    }\n",
       "\n",
       "    .dataframe thead th {\n",
       "        text-align: right;\n",
       "    }\n",
       "</style>\n",
       "<table border=\"1\" class=\"dataframe\">\n",
       "  <thead>\n",
       "    <tr style=\"text-align: right;\">\n",
       "      <th></th>\n",
       "      <th>날짜</th>\n",
       "      <th>상품</th>\n",
       "      <th>판매량</th>\n",
       "      <th>가격</th>\n",
       "    </tr>\n",
       "  </thead>\n",
       "  <tbody>\n",
       "    <tr>\n",
       "      <th>0</th>\n",
       "      <td>2024-01-01</td>\n",
       "      <td>아이폰 14</td>\n",
       "      <td>15</td>\n",
       "      <td>1000</td>\n",
       "    </tr>\n",
       "    <tr>\n",
       "      <th>1</th>\n",
       "      <td>2024-01-01</td>\n",
       "      <td>갤럭시 S23</td>\n",
       "      <td>30</td>\n",
       "      <td>900</td>\n",
       "    </tr>\n",
       "    <tr>\n",
       "      <th>2</th>\n",
       "      <td>2024-01-01</td>\n",
       "      <td>아이패드 프로</td>\n",
       "      <td>5</td>\n",
       "      <td>800</td>\n",
       "    </tr>\n",
       "    <tr>\n",
       "      <th>3</th>\n",
       "      <td>2024-01-01</td>\n",
       "      <td>아이폰 14</td>\n",
       "      <td>10</td>\n",
       "      <td>1000</td>\n",
       "    </tr>\n",
       "    <tr>\n",
       "      <th>4</th>\n",
       "      <td>2024-01-02</td>\n",
       "      <td>아이폰 14</td>\n",
       "      <td>20</td>\n",
       "      <td>1000</td>\n",
       "    </tr>\n",
       "    <tr>\n",
       "      <th>5</th>\n",
       "      <td>2024-01-02</td>\n",
       "      <td>갤럭시 S23</td>\n",
       "      <td>25</td>\n",
       "      <td>900</td>\n",
       "    </tr>\n",
       "    <tr>\n",
       "      <th>6</th>\n",
       "      <td>2024-01-02</td>\n",
       "      <td>아이패드 프로</td>\n",
       "      <td>10</td>\n",
       "      <td>800</td>\n",
       "    </tr>\n",
       "    <tr>\n",
       "      <th>7</th>\n",
       "      <td>2024-01-02</td>\n",
       "      <td>갤럭시 S23</td>\n",
       "      <td>5</td>\n",
       "      <td>900</td>\n",
       "    </tr>\n",
       "    <tr>\n",
       "      <th>8</th>\n",
       "      <td>2024-01-03</td>\n",
       "      <td>맥북 프로</td>\n",
       "      <td>8</td>\n",
       "      <td>2000</td>\n",
       "    </tr>\n",
       "    <tr>\n",
       "      <th>9</th>\n",
       "      <td>2024-01-03</td>\n",
       "      <td>아이폰 14</td>\n",
       "      <td>12</td>\n",
       "      <td>1000</td>\n",
       "    </tr>\n",
       "  </tbody>\n",
       "</table>\n",
       "</div>"
      ],
      "text/plain": [
       "           날짜       상품  판매량    가격\n",
       "0  2024-01-01   아이폰 14   15  1000\n",
       "1  2024-01-01  갤럭시 S23   30   900\n",
       "2  2024-01-01  아이패드 프로    5   800\n",
       "3  2024-01-01   아이폰 14   10  1000\n",
       "4  2024-01-02   아이폰 14   20  1000\n",
       "5  2024-01-02  갤럭시 S23   25   900\n",
       "6  2024-01-02  아이패드 프로   10   800\n",
       "7  2024-01-02  갤럭시 S23    5   900\n",
       "8  2024-01-03    맥북 프로    8  2000\n",
       "9  2024-01-03   아이폰 14   12  1000"
      ]
     },
     "execution_count": 22,
     "metadata": {},
     "output_type": "execute_result"
    }
   ],
   "source": [
    "# 제품별 판매데이터 \n",
    "data = {\n",
    "    '날짜': [\n",
    "        '2024-01-01', '2024-01-01', '2024-01-01', '2024-01-01',\n",
    "        '2024-01-02', '2024-01-02', '2024-01-02', '2024-01-02',\n",
    "        '2024-01-03', '2024-01-03'\n",
    "    ],\n",
    "    '상품': [\n",
    "        '아이폰 14', '갤럭시 S23', '아이패드 프로', '아이폰 14',\n",
    "        '아이폰 14', '갤럭시 S23', '아이패드 프로', '갤럭시 S23',\n",
    "        '맥북 프로', '아이폰 14'\n",
    "    ],\n",
    "    '판매량': [15, 30, 5, 10, 20, 25, 10, 5, 8, 12],\n",
    "    '가격': [1000, 900, 800, 1000, 1000, 900, 800, 900, 2000, 1000]\n",
    "}\n",
    "\n",
    "df = pd.DataFrame(data)\n",
    "df"
   ]
  },
  {
   "cell_type": "code",
   "execution_count": 26,
   "metadata": {},
   "outputs": [
    {
     "data": {
      "text/html": [
       "<div>\n",
       "<style scoped>\n",
       "    .dataframe tbody tr th:only-of-type {\n",
       "        vertical-align: middle;\n",
       "    }\n",
       "\n",
       "    .dataframe tbody tr th {\n",
       "        vertical-align: top;\n",
       "    }\n",
       "\n",
       "    .dataframe thead th {\n",
       "        text-align: right;\n",
       "    }\n",
       "</style>\n",
       "<table border=\"1\" class=\"dataframe\">\n",
       "  <thead>\n",
       "    <tr style=\"text-align: right;\">\n",
       "      <th>상품</th>\n",
       "      <th>갤럭시 S23</th>\n",
       "      <th>맥북 프로</th>\n",
       "      <th>아이패드 프로</th>\n",
       "      <th>아이폰 14</th>\n",
       "      <th>All</th>\n",
       "    </tr>\n",
       "    <tr>\n",
       "      <th>날짜</th>\n",
       "      <th></th>\n",
       "      <th></th>\n",
       "      <th></th>\n",
       "      <th></th>\n",
       "      <th></th>\n",
       "    </tr>\n",
       "  </thead>\n",
       "  <tbody>\n",
       "    <tr>\n",
       "      <th>2024-01-01</th>\n",
       "      <td>30</td>\n",
       "      <td>0</td>\n",
       "      <td>5</td>\n",
       "      <td>25</td>\n",
       "      <td>60</td>\n",
       "    </tr>\n",
       "    <tr>\n",
       "      <th>2024-01-02</th>\n",
       "      <td>30</td>\n",
       "      <td>0</td>\n",
       "      <td>10</td>\n",
       "      <td>20</td>\n",
       "      <td>60</td>\n",
       "    </tr>\n",
       "    <tr>\n",
       "      <th>2024-01-03</th>\n",
       "      <td>0</td>\n",
       "      <td>8</td>\n",
       "      <td>0</td>\n",
       "      <td>12</td>\n",
       "      <td>20</td>\n",
       "    </tr>\n",
       "    <tr>\n",
       "      <th>All</th>\n",
       "      <td>60</td>\n",
       "      <td>8</td>\n",
       "      <td>15</td>\n",
       "      <td>57</td>\n",
       "      <td>140</td>\n",
       "    </tr>\n",
       "  </tbody>\n",
       "</table>\n",
       "</div>"
      ],
      "text/plain": [
       "상품          갤럭시 S23  맥북 프로  아이패드 프로  아이폰 14  All\n",
       "날짜                                              \n",
       "2024-01-01       30      0        5      25   60\n",
       "2024-01-02       30      0       10      20   60\n",
       "2024-01-03        0      8        0      12   20\n",
       "All              60      8       15      57  140"
      ]
     },
     "execution_count": 26,
     "metadata": {},
     "output_type": "execute_result"
    }
   ],
   "source": [
    "df.pivot_table(\n",
    "    index='날짜',\n",
    "    columns='상품',\n",
    "    values='판매량',\n",
    "    fill_value=0,        # 결측치 대체값\n",
    "    aggfunc='sum',       # 중복되는 값에 대한 집계함수\n",
    "    margins=True         # 행 방향과 열 방향의 합계를 추가\n",
    ")"
   ]
  }
 ],
 "metadata": {
  "kernelspec": {
   "display_name": "pystudy_env",
   "language": "python",
   "name": "python3"
  },
  "language_info": {
   "codemirror_mode": {
    "name": "ipython",
    "version": 3
   },
   "file_extension": ".py",
   "mimetype": "text/x-python",
   "name": "python",
   "nbconvert_exporter": "python",
   "pygments_lexer": "ipython3",
   "version": "3.12.8"
  }
 },
 "nbformat": 4,
 "nbformat_minor": 2
}
