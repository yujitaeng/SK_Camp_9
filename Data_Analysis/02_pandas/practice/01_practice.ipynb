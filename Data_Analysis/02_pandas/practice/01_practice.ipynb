{
 "cells": [
  {
   "cell_type": "code",
   "execution_count": 1,
   "metadata": {},
   "outputs": [],
   "source": [
    "import numpy as np\n",
    "import pandas as pd"
   ]
  },
  {
   "cell_type": "code",
   "execution_count": 8,
   "metadata": {},
   "outputs": [
    {
     "name": "stdout",
     "output_type": "stream",
     "text": [
      "      Name  Age           City  Salary\n",
      "0    Alice   25       New York   70000\n",
      "1      Bob   30    Los Angeles   80000\n",
      "2  Charlie   35        Chicago  120000\n",
      "3    David   40        Houston   90000\n",
      "4      Eve   28  San Francisco   75000\n"
     ]
    }
   ],
   "source": [
    "df = pd.DataFrame({\n",
    "\n",
    "    'Name': ['Alice', 'Bob', 'Charlie', 'David', 'Eve'],\n",
    "    'Age': [25, 30, 35, 40, 28],\n",
    "    'City': ['New York', 'Los Angeles', 'Chicago', 'Houston', 'San Francisco'],\n",
    "    'Salary': [70000, 80000, 120000, 90000, 75000]\n",
    "})\n",
    "print(df)"
   ]
  },
  {
   "cell_type": "code",
   "execution_count": 16,
   "metadata": {},
   "outputs": [
    {
     "name": "stdout",
     "output_type": "stream",
     "text": [
      "      Name           City\n",
      "0    Alice       New York\n",
      "1      Bob    Los Angeles\n",
      "2  Charlie        Chicago\n",
      "3    David        Houston\n",
      "4      Eve  San Francisco\n",
      "      Name  Age         City  Salary\n",
      "1      Bob   30  Los Angeles   80000\n",
      "2  Charlie   35      Chicago  120000\n",
      "3    David   40      Houston   90000\n"
     ]
    }
   ],
   "source": [
    "print(df.filter(items=['Name', 'City']))\n",
    "print(df.loc[df['Age'] >= 30])\n"
   ]
  },
  {
   "cell_type": "code",
   "execution_count": 24,
   "metadata": {},
   "outputs": [
    {
     "name": "stdout",
     "output_type": "stream",
     "text": [
      "      Name  Age           City  Salary Country\n",
      "0    Alice   25       New York   70000     USA\n",
      "1      Bob   30    Los Angeles   80000     USA\n",
      "2  Charlie   35        Chicago  120000     USA\n",
      "3    David   40        Houston   90000     USA\n",
      "4      Eve   28  San Francisco   75000     USA\n",
      "5    Frank   33        Seattle   85000     USA\n"
     ]
    }
   ],
   "source": [
    "df['Country'] = 'USA'\n",
    "\n",
    "df.loc[len(df)] = ['Frank', 33, 'Seattle', 85000, 'USA']\n",
    "print(df)"
   ]
  },
  {
   "cell_type": "code",
   "execution_count": 25,
   "metadata": {},
   "outputs": [
    {
     "name": "stdout",
     "output_type": "stream",
     "text": [
      "      Name  Age           City Country\n",
      "0    Alice   25       New York     USA\n",
      "1      Bob   30    Los Angeles     USA\n",
      "2  Charlie   35        Chicago     USA\n",
      "4      Eve   28  San Francisco     USA\n",
      "5    Frank   33        Seattle     USA\n"
     ]
    }
   ],
   "source": [
    "df.drop('Salary', axis=1, inplace=True)\n",
    "df.drop(df.index[[3]], inplace=True)\n",
    "print(df)"
   ]
  },
  {
   "cell_type": "markdown",
   "metadata": {},
   "source": [
    "- `Age`가 35 이상인 사람들의 `Salary`를 5% 증가시키세요.\n",
    "- 'Alice'의 `City`를 'Boston'으로 수정하세요."
   ]
  },
  {
   "cell_type": "code",
   "execution_count": null,
   "metadata": {},
   "outputs": [],
   "source": []
  },
  {
   "cell_type": "markdown",
   "metadata": {},
   "source": [
    "Age와 Salary의 데이터 타입을 float로 변환하세요."
   ]
  },
  {
   "cell_type": "code",
   "execution_count": null,
   "metadata": {},
   "outputs": [],
   "source": []
  }
 ],
 "metadata": {
  "kernelspec": {
   "display_name": "pystudy_env",
   "language": "python",
   "name": "python3"
  },
  "language_info": {
   "codemirror_mode": {
    "name": "ipython",
    "version": 3
   },
   "file_extension": ".py",
   "mimetype": "text/x-python",
   "name": "python",
   "nbconvert_exporter": "python",
   "pygments_lexer": "ipython3",
   "version": "3.12.8"
  }
 },
 "nbformat": 4,
 "nbformat_minor": 2
}
