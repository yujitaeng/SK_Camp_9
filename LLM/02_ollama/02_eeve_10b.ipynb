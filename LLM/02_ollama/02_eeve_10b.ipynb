{
 "cells": [
  {
   "cell_type": "code",
   "execution_count": 1,
   "id": "c22c82ec-2f6e-444c-8c23-8eb6c768a801",
   "metadata": {},
   "outputs": [],
   "source": [
    "import ollama\n",
    "\n",
    "response = ollama.chat(model=\"EEVE-Korean-10.8B\", messages=[\n",
    "    {\"role\":\"user\", \"content\":\"안녕하세요. 좋은 점심입니다!\"}\n",
    "])"
   ]
  },
  {
   "cell_type": "code",
   "execution_count": 2,
   "id": "29587194-dc74-489c-9b2d-ddb15a567388",
   "metadata": {},
   "outputs": [
    {
     "data": {
      "text/plain": [
       "ChatResponse(model='EEVE-Korean-10.8B', created_at='2025-03-06T06:15:47.334169231Z', done=True, done_reason='stop', total_duration=3621273440, load_duration=2225680695, prompt_eval_count=54, prompt_eval_duration=198000000, eval_count=59, eval_duration=1048000000, message=Message(role='assistant', content='안녕하세요! 저도 정말 좋은 점심이에요! 오늘 하루 어떻게 지내셨나요? 도와드릴 일이 있다면 언제든지 이야기해 주세요. 궁금한 점을 해결하거나 흥미로운 주제를 알려드리거나, 그저 대화를 나누며 시간을 보낼 준비가 되어 있어요. 함께하는 시간 잘 보내시길 바랍니다!', images=None, tool_calls=None))"
      ]
     },
     "execution_count": 2,
     "metadata": {},
     "output_type": "execute_result"
    }
   ],
   "source": [
    "response"
   ]
  },
  {
   "cell_type": "code",
   "execution_count": 3,
   "id": "8dda434e-4c5f-4695-9d5f-1b99ab6a9966",
   "metadata": {},
   "outputs": [
    {
     "data": {
      "text/plain": [
       "'안녕하세요! 저도 정말 좋은 점심이에요! 오늘 하루 어떻게 지내셨나요? 도와드릴 일이 있다면 언제든지 이야기해 주세요. 궁금한 점을 해결하거나 흥미로운 주제를 알려드리거나, 그저 대화를 나누며 시간을 보낼 준비가 되어 있어요. 함께하는 시간 잘 보내시길 바랍니다!'"
      ]
     },
     "execution_count": 3,
     "metadata": {},
     "output_type": "execute_result"
    }
   ],
   "source": [
    "response['message']['content']"
   ]
  },
  {
   "cell_type": "markdown",
   "id": "6f6cb54a-0444-4be9-9a9a-0c43caebccf0",
   "metadata": {},
   "source": [
    "### 간단한 한국어 채팅 시스템 구현\n",
    "\n",
    "- 사용자 입력 input() 사용\n",
    "- 응답 print()로 출력\n",
    "- 이전 대화의 문맥을 반영하며 채팅 이어갈 것\n",
    "- '종료'입력 시 대화 종료"
   ]
  },
  {
   "cell_type": "code",
   "execution_count": 8,
   "id": "5c6942c0-fe89-4a6b-90a7-190f4244210a",
   "metadata": {},
   "outputs": [
    {
     "name": "stdout",
     "output_type": "stream",
     "text": [
      "💬 EEVE 챗봇에 오신 것을 환영합니다! ('종료' 입력 시 종료)\n"
     ]
    },
    {
     "name": "stdin",
     "output_type": "stream",
     "text": [
      "👤 사용자:  우리 수업시간은 정각에서 시작해서 50분만 하고 쉬는시간은 10분만 가능해.\n"
     ]
    },
    {
     "name": "stdout",
     "output_type": "stream",
     "text": [
      "🦊 EEVE: 선생님 또는 강사님이 수업 시간에 대해 주신 지침과 일정에 감사드립니다. 주어진 시간 내에 학습 목표를 달성하기 위해 최선을 다하겠습니다. 저는 항상 존중하는 태도를 유지하며, 질문이 있거나 명확히 해달라는 내용이 있을 경우 예의바르게 소통할 것을 약속드립니다.\n",
      "\n",
      "주어진 시간을 최대한 활용하면서 10분간의 쉬는 시간도 잘 활용할 수 있도록 하겠습니다. 이 시간을 활용하여 정신과 육체를 재충전하여 수업 시간에 더욱 집중하겠습니다. 질문에 대한 답변이나 더 많은 정보가 필요한 경우에는 주저하지 않고 요청하겠습니다.\n",
      "\n",
      "시간을 효율적으로 사용하고, 상호 존중을 바탕으로 한 학습 환경의 중요성을 이해합니다. 질문이나 우려사항이 있을 때는 항상 긍정적이고 건설적인 방식으로 소통할 것이며, 제 대답과 행동에서 전문성과 책임감을 유지할 것을 약속드립니다.\n"
     ]
    },
    {
     "name": "stdin",
     "output_type": "stream",
     "text": [
      "👤 사용자:  내가 화장실을 가고 싶으면 언제 가야해?\n"
     ]
    },
    {
     "name": "stdout",
     "output_type": "stream",
     "text": [
      "🦊 EEVE: 질문에 도움을 드리겠습니다! 수업 시간에 화장실 사용을 최대한 효율적으로 하고 싶으시다면 쉬는 시간이나 휴식 시간에 가시는 것이 좋습니다. 이는 지각하거나 수업을 방해하지 않고도 필요할 때 화장실 방문이 가능하도록 도와줄 것입니다. 추가적으로, 선생님 또는 강사님이 특별히 언급한 다른 지침이나 규칙이 있는지 확인하는 것을 잊지 마세요.\n",
      "\n",
      "신뢰도: 90%\n"
     ]
    },
    {
     "name": "stdin",
     "output_type": "stream",
     "text": [
      "👤 사용자:  만약 지금 11:20분이라면 나는 언제 쉬는시간을 이용해서 화장실을 갈 수 있어?\n"
     ]
    },
    {
     "name": "stdout",
     "output_type": "stream",
     "text": [
      "🦊 EEVE: EEVE: 현재 시간이 오후 11시 20분이라면, 수업이 끝나고 약 5분 후인 오후 11시 25분에 쉬는 시간을 가질 예정입니다. 이 때 화장실 사용을 위한 짧은 휴식을 취하는 것이 좋습니다. 하지만 수업이나 학교의 구체적인 규칙과 지침을 확인하는 것을 잊지 마세요. 선생님 또는 강사님이 다른 휴식 시간이나 휴식 절차를 가지고 있을 수 있습니다.\n"
     ]
    },
    {
     "name": "stdin",
     "output_type": "stream",
     "text": [
      "👤 사용자:  수업이 11시에 시작했어.\n"
     ]
    },
    {
     "name": "stdout",
     "output_type": "stream",
     "text": [
      "🦊 EEVE: 알겠습니다, 오늘 수업은 오후 11시에 시작했습니다. 현재 시간인 오후 11시 20분까지 약 5분이 남았습니다. 그 후 약 10분간 쉬는 시간이 예정되어 있습니다. 그러니 지금 잠시 기다렸다가 수업이 끝나고 나면 화장실 사용과 휴식을 위한 적절한 시간을 가질 수 있을 것입니다.\n",
      "신뢰도: 90%\n"
     ]
    },
    {
     "name": "stdin",
     "output_type": "stream",
     "text": [
      "👤 사용자:  아니야. 예를들면 수업시간: 11:00~11:50 / 쉬는시간: 11:50~12:00 . \n"
     ]
    },
    {
     "name": "stdout",
     "output_type": "stream",
     "text": [
      "🦊 EEVE: 사용자님께서 주신 수업 일정과 휴식 시간에 대해 이해했습니다. 현재 시간이 오후 11시라면, 남은 수업 시간은 대략 16분 정도이며 그 후로 10분간의 쉬는 시간이 예정되어 있습니다. 따라서 지금 잠시 기다렸다가 수업이 끝나고 나면 화장실 사용과 휴식을 위한 충분한 시간을 가질 수 있을 것입니다. 수업이나 학교의 구체적인 규칙과 지침에 따라 다를 수 있으니, 선생님 또는 강사님이 다른 휴식 시간과 절차를 가지고 있는지 확인하는 것이 중요합니다. 추가로 궁금한 점이 있으시거나 더 도움이 필요하시면 언제든 문의해 주십시오!\n",
      "신뢰도: 90%\n"
     ]
    },
    {
     "name": "stdin",
     "output_type": "stream",
     "text": [
      "👤 사용자:  나는 무슨 직업을 갖고 있을까? 위의 문맥을 고려해서 맞춰바.\n"
     ]
    },
    {
     "name": "stdout",
     "output_type": "stream",
     "text": [
      "🦊 EEVE: 제공된 정보를 바탕으로, 사용자의 직업은 수업에 참석하는 학생일 가능성이 가장 높아 보입니다. 그들의 질문과 응답 맥락은 학업 환경에서 흔히 볼 수 있는 학습, 시간 관리, 그리고 휴식에 관련된 주제들을 다루고 있습니다. 그러므로 이 질문에 대한 가장 적절한 대답은 다음과 같습니다:\n",
      "\n",
      "사용자님은 학생으로, 선생님 또는 강사님의 지도 하에 수업을 듣고 계십니다. 수업 시간은 정각에서 시작하여 50분간 진행되고, 그 후 10분의 쉬는 시간이 주어집니다. 이 시간을 최대한 활용하며 상호 존중을 바탕으로 한 학습 환경의 중요성을 이해하고 있습니다. 필요에 따라 질문을 하거나 명확히 해달라는 내용을 예의바르게 소통할 것을 약속하셨습니다. 또한, 주어진 시간을 효율적으로 사용하고 휴식 시간에 충분한 재충전을 할 수 있도록 노력하고 계십니다.\n",
      "\n",
      "신뢰도: 90%\n"
     ]
    },
    {
     "name": "stdin",
     "output_type": "stream",
     "text": [
      "👤 사용자:  종료\n"
     ]
    },
    {
     "name": "stdout",
     "output_type": "stream",
     "text": [
      "🛑 대화를 종료합니다. 안녕히 가세요!\n"
     ]
    }
   ],
   "source": [
    "import ollama\n",
    "\n",
    "def chat_with_llama():\n",
    "    print(\"💬 EEVE 챗봇에 오신 것을 환영합니다! ('종료' 입력 시 종료)\")\n",
    "\n",
    "    # 대화 히스토리 초기화\n",
    "    conversation_history = []\n",
    "\n",
    "    while True:\n",
    "        user_input = input(\"👤 사용자: \")\n",
    "\n",
    "        # '종료' 입력 시 종료\n",
    "        if user_input.lower() == '종료':\n",
    "            print(\"🛑 대화를 종료합니다. 안녕히 가세요!\")\n",
    "            break\n",
    "\n",
    "        # 사용자 입력을 대화 히스토리에 추가\n",
    "        conversation_history.append(f\"사용자: {user_input}\")\n",
    "\n",
    "        # 히스토리를 하나의 문자열로 결합\n",
    "        prompt = \"\\n\".join(conversation_history) + \"\\nEEVE:\"\n",
    "\n",
    "        # LLaMA 모델로 응답 생성\n",
    "        response = ollama.generate(model=\"EEVE-Korean-10.8B\", prompt=prompt)\n",
    "        bot_response = response['response']\n",
    "\n",
    "        # 봇의 응답을 출력\n",
    "        print(f\"🦊 EEVE: {bot_response}\")\n",
    "\n",
    "        # 봇의 응답도 대화 히스토리에 추가\n",
    "        conversation_history.append(f\"EEVE: {bot_response}\")\n",
    "\n",
    "if __name__ == \"__main__\":\n",
    "    chat_with_llama()\n"
   ]
  },
  {
   "cell_type": "code",
   "execution_count": 10,
   "id": "de9fe800-6cd4-4f57-87f1-630236143081",
   "metadata": {},
   "outputs": [
    {
     "name": "stdin",
     "output_type": "stream",
     "text": [
      "당신:  나는 홍길동이야.\n"
     ]
    },
    {
     "name": "stdout",
     "output_type": "stream",
     "text": [
      "EEVE: 안녕하세요, 홍길동님! 도움이 되고 예의 바른 조수로서 여러분의 질문에 최선을 다해 답변해드리겠습니다. 궁금한 점이 있으시거나 알고 싶은 정보가 있다면 편하게 물어보세요. 저는 정확하고 관련 있는 정보를 제공하려고 노력하며, 안전하고 존중하는 상호작용을 보장하겠습니다. 또한 새로운 것을 배우고 싶으시다면 흥미롭고 교육적인 답변을 드릴 수 있도록 도와드릴게요. 언제든지 질문해주세요!\n"
     ]
    },
    {
     "name": "stdin",
     "output_type": "stream",
     "text": [
      "당신:  내 이름은 뭐라고?\n"
     ]
    },
    {
     "name": "stdout",
     "output_type": "stream",
     "text": [
      "EEVE: 당신의 이름을 알려주세요, 홍길동님! 그렇게 알고 있으면 더 잘 도와드릴 수 있을 거예요. 궁금한 것이 있거나 알고 싶은 정보가 있다면 편하게 물어보세요. 최선을 다해 정확하고 관련 있는 답변을 드리기 위해 노력하겠습니다. 안전하고 존중하는 상호작용을 보장하며 새로운 것을 배우는 데도 도움을 드릴 수 있습니다. 언제든지 질문해주세요!\n"
     ]
    },
    {
     "name": "stdin",
     "output_type": "stream",
     "text": [
      "당신:  종료\n"
     ]
    }
   ],
   "source": [
    "chat_history = []\n",
    "\n",
    "while True:\n",
    "    user_input = input(\"당신: \")\n",
    "\n",
    "    if user_input == \"종료\":\n",
    "        break\n",
    "\n",
    "    chat_history.append({\"role\":\"user\", \"content\":user_input})\n",
    "    \n",
    "    response = ollama.chat(\n",
    "        model=\"EEVE-Korean-10.8B\",\n",
    "        messages=chat_history\n",
    "    )\n",
    "\n",
    "    print(\"EEVE:\", response['message']['content'])\n",
    "    \n",
    "    chat_history.append({\"role\":\"assistant\", \"content\":response['message']['content']})\n",
    "\n",
    "    "
   ]
  }
 ],
 "metadata": {
  "kernelspec": {
   "display_name": "Python 3 (ipykernel)",
   "language": "python",
   "name": "python3"
  },
  "language_info": {
   "codemirror_mode": {
    "name": "ipython",
    "version": 3
   },
   "file_extension": ".py",
   "mimetype": "text/x-python",
   "name": "python",
   "nbconvert_exporter": "python",
   "pygments_lexer": "ipython3",
   "version": "3.10.12"
  }
 },
 "nbformat": 4,
 "nbformat_minor": 5
}
