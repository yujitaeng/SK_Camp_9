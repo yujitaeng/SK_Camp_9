{
 "cells": [
  {
   "cell_type": "markdown",
   "metadata": {},
   "source": [
    "# Pinecone DB (프리티어 사용)"
   ]
  },
  {
   "cell_type": "code",
   "execution_count": 1,
   "metadata": {},
   "outputs": [
    {
     "name": "stdout",
     "output_type": "stream",
     "text": [
      "Collecting pinecone\n",
      "  Downloading pinecone-6.0.1-py3-none-any.whl.metadata (8.8 kB)\n",
      "Requirement already satisfied: certifi>=2019.11.17 in c:\\users\\user\\anaconda3\\envs\\vectordb_env\\lib\\site-packages (from pinecone) (2025.1.31)\n",
      "Collecting pinecone-plugin-interface<0.0.8,>=0.0.7 (from pinecone)\n",
      "  Downloading pinecone_plugin_interface-0.0.7-py3-none-any.whl.metadata (1.2 kB)\n",
      "Requirement already satisfied: python-dateutil>=2.5.3 in c:\\users\\user\\anaconda3\\envs\\vectordb_env\\lib\\site-packages (from pinecone) (2.9.0.post0)\n",
      "Requirement already satisfied: typing-extensions>=3.7.4 in c:\\users\\user\\anaconda3\\envs\\vectordb_env\\lib\\site-packages (from pinecone) (4.12.2)\n",
      "Requirement already satisfied: urllib3>=1.26.0 in c:\\users\\user\\anaconda3\\envs\\vectordb_env\\lib\\site-packages (from pinecone) (2.3.0)\n",
      "Requirement already satisfied: six>=1.5 in c:\\users\\user\\anaconda3\\envs\\vectordb_env\\lib\\site-packages (from python-dateutil>=2.5.3->pinecone) (1.17.0)\n",
      "Downloading pinecone-6.0.1-py3-none-any.whl (421 kB)\n",
      "Downloading pinecone_plugin_interface-0.0.7-py3-none-any.whl (6.2 kB)\n",
      "Installing collected packages: pinecone-plugin-interface, pinecone\n",
      "Successfully installed pinecone-6.0.1 pinecone-plugin-interface-0.0.7\n"
     ]
    }
   ],
   "source": [
    "!pip install pinecone"
   ]
  },
  {
   "cell_type": "code",
   "execution_count": null,
   "metadata": {},
   "outputs": [
    {
     "data": {
      "text/plain": [
       "{\n",
       "    \"name\": \"reviewtest\",\n",
       "    \"metric\": \"cosine\",\n",
       "    \"host\": \"reviewtest-bdry0d8.svc.aped-4627-b74a.pinecone.io\",\n",
       "    \"spec\": {\n",
       "        \"serverless\": {\n",
       "            \"cloud\": \"aws\",\n",
       "            \"region\": \"us-east-1\"\n",
       "        }\n",
       "    },\n",
       "    \"status\": {\n",
       "        \"ready\": true,\n",
       "        \"state\": \"Ready\"\n",
       "    },\n",
       "    \"vector_type\": \"dense\",\n",
       "    \"dimension\": 384,\n",
       "    \"deletion_protection\": \"disabled\",\n",
       "    \"tags\": null\n",
       "}"
      ]
     },
     "execution_count": 4,
     "metadata": {},
     "output_type": "execute_result"
    }
   ],
   "source": [
    "# Pinecone index 생성 (웹에서도 생성 가능)\n",
    "from pinecone import Pinecone, ServerlessSpec\n",
    "\n",
    "pc = Pinecone(api_key=\"pcsk_6ASWpC_8HCC6S47t6TTJT57ffj5sjbrKEGB96zYxYAAYPEAeEDUrZvmCuS4maPB92AxmbD\")\n",
    "index_name = \"reviewtest\"\n",
    "\n",
    "pc.create_index(\n",
    "    name=index_name,\n",
    "    dimension=384,\n",
    "    metric=\"cosine\",\n",
    "    spec=ServerlessSpec(\n",
    "        cloud=\"aws\",\n",
    "        region=\"us-east-1\"\n",
    "    )\n",
    ")"
   ]
  },
  {
   "cell_type": "code",
   "execution_count": 5,
   "metadata": {},
   "outputs": [],
   "source": [
    "reviews = [\n",
    "    {\"id\": \"1\", \"text\": \"이 노트북 정말 좋아요! 속도도 빠르고 디자인도 마음에 들어요.\", \"sentiment\": \"positive\"},\n",
    "    {\"id\": \"2\", \"text\": \"디스플레이가 너무 어두워요. 화면이 선명하지 않아서 불편합니다.\", \"sentiment\": \"negative\"},\n",
    "    {\"id\": \"3\", \"text\": \"배터리가 오래가고, 가벼워서 휴대하기 좋아요.\", \"sentiment\": \"positive\"},\n",
    "    {\"id\": \"4\", \"text\": \"노트북이 자주 끊겨서 작업하기 불편해요. 비추천합니다.\", \"sentiment\": \"negative\"},\n",
    "    {\"id\": \"5\", \"text\": \"이 노트북은 성능이 뛰어나고 게임도 잘 돌아가요. 매우 만족합니다.\", \"sentiment\": \"positive\"},\n",
    "    {\"id\": \"6\", \"text\": \"키보드가 불편하고, 손목이 아파요. 다음에는 다른 제품을 선택할 것 같아요.\", \"sentiment\": \"negative\"},\n",
    "    {\"id\": \"7\", \"text\": \"가성비 최고! 가격에 비해 성능이 훌륭해요.\", \"sentiment\": \"positive\"},\n",
    "    {\"id\": \"8\", \"text\": \"정말 실망이에요. 화면이 자주 깜빡거려서 사용하기 힘들어요.\", \"sentiment\": \"negative\"},\n",
    "    {\"id\": \"9\", \"text\": \"디자인이 예쁘고, 성능도 괜찮아요. 오랜 시간 사용해도 발열이 적어요.\", \"sentiment\": \"positive\"},\n",
    "    {\"id\": \"10\", \"text\": \"구매하고 나서 몇 달 안 가서 고장이 나버렸어요. 수리비가 비쌉니다.\", \"sentiment\": \"negative\"},\n",
    "    {\"id\": \"11\", \"text\": \"어떤 작업이든 다 잘 처리되네요. 게임이나 영상 편집도 무리 없이 가능해요.\", \"sentiment\": \"positive\"},\n",
    "    {\"id\": \"12\", \"text\": \"가격에 비해 성능이 너무 부족해요. 작업할 때 자주 느려져서 짜증이 나요.\", \"sentiment\": \"negative\"},\n",
    "    {\"id\": \"13\", \"text\": \"이 노트북은 디자인도 멋지고, 속도도 빠릅니다. 정말 만족스러워요!\", \"sentiment\": \"positive\"},\n",
    "    {\"id\": \"14\", \"text\": \"사용 중 너무 뜨겁고, 소음도 심해요. 절대 추천하지 않습니다.\", \"sentiment\": \"negative\"},\n",
    "    {\"id\": \"15\", \"text\": \"경량이라 이동할 때 매우 편리하고, 배터리도 오래가요. 좋은 선택이었어요.\", \"sentiment\": \"positive\"},\n",
    "    {\"id\": \"16\", \"text\": \"불량품이 왔어요. 화면에 이상이 생겨서 교환 요청했지만 번거로웠어요.\", \"sentiment\": \"negative\"},\n",
    "    {\"id\": \"17\", \"text\": \"좋은 제품입니다! 화면이 선명하고, 멀티태스킹도 잘 되네요.\", \"sentiment\": \"positive\"},\n",
    "    {\"id\": \"18\", \"text\": \"구매 후 사용 중 멈춤 현상이 자주 발생하고, 해결이 안 돼요.\", \"sentiment\": \"negative\"},\n",
    "    {\"id\": \"19\", \"text\": \"너무 빠르고 효율적이에요! 업무용으로 딱 좋은 제품입니다.\", \"sentiment\": \"positive\"},\n",
    "    {\"id\": \"20\", \"text\": \"키보드가 너무 불편하고, 자주 오작동이 일어나요. 실망했습니다.\", \"sentiment\": \"negative\"}\n",
    "]"
   ]
  },
  {
   "cell_type": "code",
   "execution_count": null,
   "metadata": {},
   "outputs": [],
   "source": [
    "# Pinecone index 및 임베딩 모델 로드\n",
    "from sentence_transformers import SentenceTransformer\n",
    "\n",
    "pc = Pinecone(api_key=\"pcsk_6ASWpC_8HCC6S47t6TTJT57ffj5sjbrKEGB96zYxYAAYPEAeEDUrZvmCuS4maPB92AxmbD\")\n",
    "idx = pc.Index(index_name)\n",
    "\n",
    "model = SentenceTransformer('all-MiniLM-L6-v2')"
   ]
  },
  {
   "cell_type": "code",
   "execution_count": null,
   "metadata": {},
   "outputs": [],
   "source": [
    "# index에 리뷰 데이터 추가\n",
    "for review in reviews:\n",
    "    review_embed = model.encode(review['text']).tolist()\n",
    "    idx.upsert([\n",
    "        (\n",
    "            review['id'], \n",
    "            review_embed,\n",
    "            {\n",
    "                'text': review['text'], \n",
    "                'sentiment': review['sentiment']\n",
    "            }\n",
    "        )\n",
    "    ])"
   ]
  },
  {
   "cell_type": "markdown",
   "metadata": {},
   "source": [
    "### 리뷰 데이터 조회"
   ]
  },
  {
   "cell_type": "code",
   "execution_count": 12,
   "metadata": {},
   "outputs": [
    {
     "data": {
      "text/plain": [
       "{'matches': [{'id': '13',\n",
       "              'metadata': {'sentiment': 'positive',\n",
       "                           'text': '이 노트북은 디자인도 멋지고, 속도도 빠릅니다. 정말 만족스러워요!'},\n",
       "              'score': 0.753723145,\n",
       "              'values': []},\n",
       "             {'id': '9',\n",
       "              'metadata': {'sentiment': 'positive',\n",
       "                           'text': '디자인이 예쁘고, 성능도 괜찮아요. 오랜 시간 사용해도 발열이 적어요.'},\n",
       "              'score': 0.725854218,\n",
       "              'values': []},\n",
       "             {'id': '14',\n",
       "              'metadata': {'sentiment': 'negative',\n",
       "                           'text': '사용 중 너무 뜨겁고, 소음도 심해요. 절대 추천하지 않습니다.'},\n",
       "              'score': 0.71279937,\n",
       "              'values': []}],\n",
       " 'namespace': '',\n",
       " 'usage': {'read_units': 6}}"
      ]
     },
     "execution_count": 12,
     "metadata": {},
     "output_type": "execute_result"
    }
   ],
   "source": [
    "query_text = \"이 노트북의 성능은 괜찮은가요?\"\n",
    "query_embed = model.encode(query_text).tolist()\n",
    "\n",
    "results = idx.query(\n",
    "    vector=query_embed,\n",
    "    top_k=3,\n",
    "    include_metadata=True\n",
    ")\n",
    "\n",
    "results"
   ]
  },
  {
   "cell_type": "code",
   "execution_count": 13,
   "metadata": {},
   "outputs": [
    {
     "name": "stdout",
     "output_type": "stream",
     "text": [
      "이 노트북은 디자인도 멋지고, 속도도 빠릅니다. 정말 만족스러워요! (감성: positive)\n",
      "디자인이 예쁘고, 성능도 괜찮아요. 오랜 시간 사용해도 발열이 적어요. (감성: positive)\n",
      "사용 중 너무 뜨겁고, 소음도 심해요. 절대 추천하지 않습니다. (감성: negative)\n"
     ]
    }
   ],
   "source": [
    "for review in results['matches']:\n",
    "    metadata = review['metadata']\n",
    "    print(metadata['text'], f'(감성: {metadata[\"sentiment\"]})')"
   ]
  },
  {
   "cell_type": "markdown",
   "metadata": {},
   "source": [
    "### 리뷰 감성 분석"
   ]
  },
  {
   "cell_type": "code",
   "execution_count": 14,
   "metadata": {},
   "outputs": [
    {
     "data": {
      "text/plain": [
       "{'matches': [{'id': '3',\n",
       "              'metadata': {'sentiment': 'positive',\n",
       "                           'text': '배터리가 오래가고, 가벼워서 휴대하기 좋아요.'},\n",
       "              'score': 0.848484695,\n",
       "              'values': []},\n",
       "             {'id': '2',\n",
       "              'metadata': {'sentiment': 'negative',\n",
       "                           'text': '디스플레이가 너무 어두워요. 화면이 선명하지 않아서 불편합니다.'},\n",
       "              'score': 0.822854757,\n",
       "              'values': []},\n",
       "             {'id': '13',\n",
       "              'metadata': {'sentiment': 'positive',\n",
       "                           'text': '이 노트북은 디자인도 멋지고, 속도도 빠릅니다. 정말 만족스러워요!'},\n",
       "              'score': 0.806697249,\n",
       "              'values': []},\n",
       "             {'id': '15',\n",
       "              'metadata': {'sentiment': 'positive',\n",
       "                           'text': '경량이라 이동할 때 매우 편리하고, 배터리도 오래가요. 좋은 선택이었어요.'},\n",
       "              'score': 0.794718564,\n",
       "              'values': []},\n",
       "             {'id': '1',\n",
       "              'metadata': {'sentiment': 'positive',\n",
       "                           'text': '이 노트북 정말 좋아요! 속도도 빠르고 디자인도 마음에 들어요.'},\n",
       "              'score': 0.770413876,\n",
       "              'values': []}],\n",
       " 'namespace': '',\n",
       " 'usage': {'read_units': 6}}"
      ]
     },
     "execution_count": 14,
     "metadata": {},
     "output_type": "execute_result"
    }
   ],
   "source": [
    "query_text = \"배터리도 빨리 닳고 벽돌보다 무거워요. 비추천.\"\n",
    "query_embed = model.encode(query_text).tolist()\n",
    "\n",
    "results = idx.query(\n",
    "    vector=query_embed,\n",
    "    top_k=5,\n",
    "    include_metadata=True\n",
    ")\n",
    "\n",
    "results"
   ]
  },
  {
   "cell_type": "code",
   "execution_count": null,
   "metadata": {},
   "outputs": [
    {
     "name": "stdout",
     "output_type": "stream",
     "text": [
      "리뷰 분석 결과: positive\n"
     ]
    }
   ],
   "source": [
    "sentiment_counts = {\n",
    "    \"positive\": 0,\n",
    "    \"negative\": 0\n",
    "}\n",
    "\n",
    "for review in results['matches']:\n",
    "    sentiment = review['metadata'][\"sentiment\"]\n",
    "    sentiment_counts[sentiment] += 1\n",
    "\n",
    "print(f\"리뷰 분석 결과: {'positive' if sentiment_counts['positive'] > sentiment_counts['negative'] else 'negative'}\")"
   ]
  }
 ],
 "metadata": {
  "kernelspec": {
   "display_name": "vectordb_env",
   "language": "python",
   "name": "python3"
  },
  "language_info": {
   "codemirror_mode": {
    "name": "ipython",
    "version": 3
   },
   "file_extension": ".py",
   "mimetype": "text/x-python",
   "name": "python",
   "nbconvert_exporter": "python",
   "pygments_lexer": "ipython3",
   "version": "3.9.21"
  }
 },
 "nbformat": 4,
 "nbformat_minor": 2
}
