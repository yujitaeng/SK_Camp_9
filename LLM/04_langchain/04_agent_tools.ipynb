{
 "cells": [
  {
   "cell_type": "markdown",
   "metadata": {},
   "source": [
    "# Agent & Tools"
   ]
  },
  {
   "cell_type": "code",
   "execution_count": 1,
   "metadata": {},
   "outputs": [
    {
     "data": {
      "text/plain": [
       "True"
      ]
     },
     "execution_count": 1,
     "metadata": {},
     "output_type": "execute_result"
    }
   ],
   "source": [
    "from dotenv import load_dotenv\n",
    "load_dotenv()"
   ]
  },
  {
   "cell_type": "code",
   "execution_count": null,
   "metadata": {},
   "outputs": [],
   "source": [
    "# !pip install wikipedia\n",
    "# !pip install langchain-community\n",
    "# !pip install numexpr"
   ]
  },
  {
   "cell_type": "code",
   "execution_count": 3,
   "metadata": {},
   "outputs": [],
   "source": [
    "from langchain_openai import ChatOpenAI\n",
    "\n",
    "model = ChatOpenAI(\n",
    "    model_name='gpt-4o-mini',\n",
    "    temperature=0\n",
    ")"
   ]
  },
  {
   "cell_type": "code",
   "execution_count": 4,
   "metadata": {},
   "outputs": [
    {
     "data": {
      "text/plain": [
       "AIMessage(content='블랙핑크는 네 명의 멤버로 구성된 걸그룹입니다. 각 멤버는 다음과 같습니다:\\n\\n1. **지수 (Jisoo)** - 리더이자 메인 보컬\\n2. **제니 (Jennie)** - 래퍼이자 서브 보컬\\n3. **로제 (Rosé)** - 메인 보컬\\n4. **리사 (Lisa)** - 메인 댄서이자 래퍼\\n\\n이들은 2016년에 데뷔하여 전 세계적으로 큰 인기를 얻고 있습니다.', additional_kwargs={'refusal': None}, response_metadata={'token_usage': {'completion_tokens': 125, 'prompt_tokens': 21, 'total_tokens': 146, 'completion_tokens_details': {'accepted_prediction_tokens': 0, 'audio_tokens': 0, 'reasoning_tokens': 0, 'rejected_prediction_tokens': 0}, 'prompt_tokens_details': {'audio_tokens': 0, 'cached_tokens': 0}}, 'model_name': 'gpt-4o-mini-2024-07-18', 'system_fingerprint': 'fp_06737a9306', 'finish_reason': 'stop', 'logprobs': None}, id='run-a4330112-3a21-4700-b905-4ad601cb2b60-0', usage_metadata={'input_tokens': 21, 'output_tokens': 125, 'total_tokens': 146, 'input_token_details': {'audio': 0, 'cache_read': 0}, 'output_token_details': {'audio': 0, 'reasoning': 0}})"
      ]
     },
     "execution_count": 4,
     "metadata": {},
     "output_type": "execute_result"
    }
   ],
   "source": [
    "model.invoke('걸그룹 블랙핑크 멤버를 알려줘.')"
   ]
  },
  {
   "cell_type": "code",
   "execution_count": null,
   "metadata": {},
   "outputs": [
    {
     "name": "stderr",
     "output_type": "stream",
     "text": [
      "C:\\Users\\Playdata\\AppData\\Local\\Temp\\ipykernel_16876\\2878967991.py:4: LangChainDeprecationWarning: LangChain agents will continue to be supported, but it is recommended for new use cases to be built with LangGraph. LangGraph offers a more flexible and full-featured framework for building agents, including support for tool-calling, persistence of state, and human-in-the-loop workflows. For details, refer to the `LangGraph documentation <https://langchain-ai.github.io/langgraph/>`_ as well as guides for `Migrating from AgentExecutor <https://python.langchain.com/docs/how_to/migrate_agent/>`_ and LangGraph's `Pre-built ReAct agent <https://langchain-ai.github.io/langgraph/how-tos/create-react-agent/>`_.\n",
      "  agent = initialize_agent(\n"
     ]
    }
   ],
   "source": [
    "from langchain.agents import AgentType, initialize_agent, load_tools\n",
    "\n",
    "tools = load_tools(['wikipedia', 'llm-math'], llm=model)\n",
    "agent = initialize_agent(\n",
    "    tools,\n",
    "    model,\n",
    "    agent=AgentType.ZERO_SHOT_REACT_DESCRIPTION,\n",
    "    handle_parsing_error=True,\n",
    "    verbose=True\n",
    ")"
   ]
  },
  {
   "cell_type": "code",
   "execution_count": 8,
   "metadata": {},
   "outputs": [
    {
     "name": "stdout",
     "output_type": "stream",
     "text": [
      "\n",
      "\n",
      "\u001b[1m> Entering new AgentExecutor chain...\u001b[0m\n",
      "\u001b[32;1m\u001b[1;3m블랙핑크는 한국의 인기 걸그룹으로, 멤버에 대한 정보를 알아보아야 한다. \n",
      "Action: wikipedia\n",
      "Action Input: 블랙핑크\u001b[0m\n",
      "Observation: \u001b[36;1m\u001b[1;3mPage: Blackpink\n",
      "Summary: Blackpink (Korean: 블랙핑크; RR: Beullaekpingkeu, stylized in all caps or as BLɅϽKPIИK) is a South Korean girl group formed by YG Entertainment. The group is composed of four members: Jisoo, Jennie, Rosé, and Lisa. Regarded by various publications as the \"biggest girl group in the world\", they are recognized as a leading force in the Korean Wave and an ambassador of the \"girl crush\" concept in K-pop, which explores themes of self-confidence and female empowerment.\n",
      "Blackpink debuted in August 2016 with their single album Square One, which featured \"Whistle\" and \"Boombayah\", their first number-one entries on South Korea's Circle Digital Chart and the US Billboard World Digital Songs chart, respectively. It was followed by the single album Square Two in November, whose song \"Playing with Fire\" was the first by a Korean girl group to enter the Billboard Canadian Hot 100. The group's domestic and global popularity grew with the chart-topping single \"Ddu-Du Ddu-Du\" (2018), which was the first song by a Korean female group to enter the UK Singles Chart and receive a certification from the Recording Industry Association of America (RIAA). Its music video was the first by a Korean group to surpass one and two billion views on YouTube. Their music videos for \"Kill This Love\" (2019) and \"How You Like That\" (2020) each set records for the most-viewed music videos within the first 24 hours of release, with the latter topping the Gaon Digital Chart and breaking five Guinness World Records.\n",
      "Blackpink is the highest-charting Korean girl group on the US Billboard Hot 100, peaking at number 13 with \"Ice Cream\" (2020), and on the US Billboard 200, peaking at number one with Born Pink (2022). Blackpink's studio albums The Album (2020) and Born Pink each broke the record for the best-selling album by a female act in South Korea, becoming the first to surpass one million and two million copies sold, respectively. Born Pink was the first album by a girl group to reach number one on the Billboard 200 since Danity Kane in 2008, and it set two Guinness World Records as the first album by a Korean girl group to top the Billboard 200 as well as the UK Albums Chart. The album's lead single, \"Pink Venom\" (2022), was the first song by a Korean group to reach number one on Australia's ARIA Singles Chart and the first by a girl group to reach number one on the Billboard Global 200.\n",
      "With 40 billion streams and 20 million records sold worldwide, Blackpink is one of the best-selling girl groups of all time. Their Born Pink World Tour (2022–23) became the highest-grossing concert tour by a female group and Asian act, and they were the first Asian act to headline Coachella. They have the most-subscribed and most-viewed music artist channel on YouTube, and are the most-followed and most-streamed girl group on Spotify. Blackpink's accolades include several Golden Disc Awards, MAMA Awards, People's Choice Awards, and MTV Video Music Awards; they became the first girl group to win Group of the Year at the latter awards in the 21st century. Outside of music, they have acquired endorsement deals in various industries and heavily incorporate fashion into their public image. For their work as advocates for climate change awareness, the group was invested as honorary Members of the Order of the British Empire (MBE) in 2023. Blackpink was the first girl group to enter Forbes' 30 Under 30 Asia and was named Time's 2022 Entertainer of the Year. The group has been ranked among the top of the Forbes Korea Power Celebrity 40 list and recognized by former South Korean President Moon Jae-in for spreading K-pop and Korean culture worldwide.\n",
      "\n",
      "Page: Jennie (singer)\n",
      "Summary: Jennie Kim (Korean: 김제니; born January 16, 1996), known mononymously as Jennie, is a South Korean singer, rapper, and actress. Born and raised in South Korea until 2004, Jennie later lived in New Zealand before returning to South Korea to successfully audition for YG Entertainment in 2010. She \u001b[0m\n",
      "Thought:\u001b[32;1m\u001b[1;3mI have gathered the necessary information about the members of Blackpink. \n",
      "\n",
      "Final Answer: 블랙핑크의 멤버는 지수, 제니, 로제, 리사입니다.\u001b[0m\n",
      "\n",
      "\u001b[1m> Finished chain.\u001b[0m\n"
     ]
    },
    {
     "data": {
      "text/plain": [
       "{'input': '걸그룹 블랙핑크 멤버 알려줘.', 'output': '블랙핑크의 멤버는 지수, 제니, 로제, 리사입니다.'}"
      ]
     },
     "execution_count": 8,
     "metadata": {},
     "output_type": "execute_result"
    }
   ],
   "source": [
    "agent.invoke('걸그룹 블랙핑크 멤버 알려줘.')"
   ]
  }
 ],
 "metadata": {
  "kernelspec": {
   "display_name": "vectordb_env",
   "language": "python",
   "name": "python3"
  },
  "language_info": {
   "codemirror_mode": {
    "name": "ipython",
    "version": 3
   },
   "file_extension": ".py",
   "mimetype": "text/x-python",
   "name": "python",
   "nbconvert_exporter": "python",
   "pygments_lexer": "ipython3",
   "version": "3.9.21"
  }
 },
 "nbformat": 4,
 "nbformat_minor": 2
}
