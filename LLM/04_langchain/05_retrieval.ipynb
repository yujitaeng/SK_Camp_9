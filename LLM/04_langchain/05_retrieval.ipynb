{
 "cells": [
  {
   "cell_type": "markdown",
   "metadata": {},
   "source": [
    "# Retrieval"
   ]
  },
  {
   "cell_type": "code",
   "execution_count": 2,
   "metadata": {},
   "outputs": [
    {
     "data": {
      "text/plain": [
       "True"
      ]
     },
     "execution_count": 2,
     "metadata": {},
     "output_type": "execute_result"
    }
   ],
   "source": [
    "from dotenv import load_dotenv\n",
    "load_dotenv()"
   ]
  },
  {
   "cell_type": "markdown",
   "metadata": {},
   "source": [
    "### Document Loader"
   ]
  },
  {
   "cell_type": "code",
   "execution_count": 3,
   "metadata": {},
   "outputs": [
    {
     "name": "stderr",
     "output_type": "stream",
     "text": [
      "USER_AGENT environment variable not set, consider setting it to identify your requests.\n"
     ]
    },
    {
     "name": "stdout",
     "output_type": "stream",
     "text": [
      "\n",
      "\n",
      "\n",
      "\n",
      "위키백과:정책과 지침 - 위키백과, 우리 모두의 백과사전\n",
      "\n",
      "\n",
      "\n",
      "\n",
      "\n",
      "\n",
      "\n",
      "\n",
      "\n",
      "\n",
      "\n",
      "\n",
      "\n",
      "\n",
      "\n",
      "\n",
      "\n",
      "\n",
      "\n",
      "\n",
      "\n",
      "\n",
      "\n",
      "\n",
      "\n",
      "\n",
      "\n",
      "본문으로 이동\n",
      "\n",
      "\n",
      "\n",
      "\n",
      "\n",
      "\n",
      "\n",
      "주 메뉴\n",
      "\n",
      "\n",
      "\n",
      "\n",
      "\n",
      "주 메뉴\n",
      "사이드바로 이동\n",
      "숨기기\n",
      "\n",
      "\n",
      "\n",
      "\t\t둘러보기\n",
      "\t\n",
      "\n",
      "\n",
      "대문최근 바뀜요즘 화제임의의 문서로특수 문서 목록\n",
      "\n",
      "\n",
      "\n",
      "\n",
      "\n",
      "\t\t사용자 모임\n",
      "\t\n",
      "\n",
      "\n",
      "사랑방사용자 모임관리 요청\n",
      "\n",
      "\n",
      "\n",
      "\n",
      "\n",
      "\t\t편집 안내\n",
      "\t\n",
      "\n",
      "\n",
      "소개도움말정책과 지침질문방\n",
      "\n",
      "\n",
      "\n",
      "\n",
      "\n",
      "\n",
      "\n",
      "\n",
      "\n",
      "\n",
      "\n",
      "\n",
      "\n",
      "\n",
      "\n",
      "\n",
      "\n",
      "\n",
      "\n",
      "검색\n",
      "\n",
      "\n",
      "\n",
      "\n",
      "\n",
      "\n",
      "\n",
      "\n",
      "\n",
      "\n",
      "\n",
      "검색\n",
      "\n",
      "\n",
      "\n",
      "\n",
      "\n",
      "\n",
      "\n",
      "\n",
      "\n",
      "\n",
      "\n",
      "\n",
      "\n",
      "\n",
      "\n",
      "\n",
      "\n",
      "\n",
      "\n",
      "\n",
      "\n",
      "\n",
      "보이기\n",
      "\n",
      "\n",
      "\n",
      "\n",
      "\n",
      "\n",
      "\n",
      "\n",
      "\n",
      "\n",
      "\n",
      "\n",
      "\n",
      "\n",
      "\n",
      "\n",
      "기부\n",
      "\n",
      "계정 만들기\n",
      "\n",
      "로그인\n",
      "\n",
      "\n",
      "\n",
      "\n",
      "\n",
      "\n",
      "\n",
      "\n",
      "개인 도구\n",
      "\n",
      "\n",
      "\n",
      "\n",
      "\n",
      "기부 계정 만들기 로그인\n",
      "\n",
      "\n",
      "\n",
      "\n",
      "\n",
      "\t\t로그아웃한 편집자를 위한 문서 더 알아보기\n",
      "\n",
      "\n",
      "\n",
      "기여토론\n",
      "\n",
      "\n",
      "\n",
      "\n",
      "\n",
      "\n",
      "\n",
      "\n",
      "\n",
      "\n",
      "\n",
      "\n",
      "\n",
      "\n",
      "\n",
      "\n",
      "\n",
      "\n",
      "\n",
      "\n",
      "\n",
      "\n",
      "\n",
      "\n",
      "\n",
      "\n",
      "\n",
      "\n",
      "목차\n",
      "사이드바로 이동\n",
      "숨기기\n",
      "\n",
      "\n",
      "\n",
      "\n",
      "처음 위치\n",
      "\n",
      "\n",
      "\n",
      "\n",
      "\n",
      "1\n",
      "최상위 정책\n",
      "\n",
      "\n",
      "\n",
      "\n",
      "\n",
      "\n",
      "\n",
      "\n",
      "2\n",
      "'정책과 지침'이란?\n",
      "\n",
      "\n",
      "\n",
      "\n",
      "\n",
      "\n",
      "\n",
      "\n",
      "3\n",
      "준수\n",
      "\n",
      "\n",
      "\n",
      "\n",
      "\n",
      "\n",
      "\n",
      "\n",
      "4\n",
      "집행\n",
      "\n",
      "\n",
      "\n",
      "\n",
      "\n",
      "\n",
      "\n",
      "\n",
      "5\n",
      "문서 내용\n",
      "\n",
      "\n",
      "\n",
      "\n",
      "\n",
      "\n",
      "\n",
      "\n",
      "6\n",
      "정책과 지침은 백과사전의 일부가 아닙니다\n",
      "\n",
      "\n",
      "\n",
      "\n",
      "\n",
      "\n",
      "\n",
      "\n",
      "7\n",
      "채택 과정\n",
      "\n",
      "\n",
      "\n",
      "\n",
      "채택 과정 하위섹션 토글하기\n",
      "\n",
      "\n",
      "\n",
      "\n",
      "\n",
      "7.1\n",
      "제안과 채택\n",
      "\n",
      "\n",
      "\n",
      "\n",
      "\n",
      "\n",
      "\n",
      "\n",
      "7.2\n",
      "내용 변경\n",
      "\n",
      "\n",
      "\n",
      "\n",
      "\n",
      "\n",
      "7.2.1\n",
      "실질적인 변경\n",
      "\n",
      "\n",
      "\n",
      "\n",
      "\n",
      "\n",
      "\n",
      "\n",
      "\n",
      "\n",
      "7.3\n",
      "격하\n",
      "\n",
      "\n",
      "\n",
      "\n",
      "\n",
      "\n",
      "\n",
      "\n",
      "\n",
      "\n",
      "8\n",
      "같이 보기\n",
      "\n",
      "\n",
      "\n",
      "\n",
      "\n",
      "\n",
      "\n",
      "\n",
      "9\n",
      "외부 링크\n",
      "\n",
      "\n",
      "\n",
      "\n",
      "\n",
      "\n",
      "\n",
      "\n",
      "\n",
      "\n",
      "\n",
      "\n",
      "\n",
      "\n",
      "\n",
      "\n",
      "\n",
      "\n",
      "목차 토글\n",
      "\n",
      "\n",
      "\n",
      "\n",
      "\n",
      "\n",
      "\n",
      "위키백과:정책과 지침\n",
      "\n",
      "\n",
      "\n",
      "110개 언어\n",
      "\n",
      "\n",
      "\n",
      "\n",
      "Afrikaansአማርኛالعربيةالدارجةمصرىঅসমীয়াАварAzərbaycancaتۆرکجهБашҡортсаBoarischБеларускаяБеларуская (тарашкевіца)БългарскиभोजपुरीBanjarবাংলাBrezhonegBosanskiCatalàНохчийнکوردیČeštinaCymraegDanskDeutschΕλληνικάEnglishEsperantoEspañolEuskaraفارسیSuomiFrançaisGa\n"
     ]
    }
   ],
   "source": [
    "# WebBaseLoader: 웹 페이지 내용 읽어오기 (크롤링)\n",
    "from langchain_community.document_loaders import WebBaseLoader\n",
    "\n",
    "url = \"https://ko.wikipedia.org/wiki/%EC%9C%84%ED%82%A4%EB%B0%B1%EA%B3%BC:%EC%A0%95%EC%B1%85%EA%B3%BC_%EC%A7%80%EC%B9%A8\"\n",
    "\n",
    "loader = WebBaseLoader(url)\n",
    "documents = loader.load()\n",
    "# print(documents[0].metadata['title'])\n",
    "print(documents[0].page_content[:1000])"
   ]
  },
  {
   "cell_type": "code",
   "execution_count": 4,
   "metadata": {},
   "outputs": [
    {
     "name": "stdout",
     "output_type": "stream",
     "text": [
      "Requirement already satisfied: pypdf in c:\\users\\user\\anaconda3\\envs\\vectordb_env\\lib\\site-packages (5.3.1)\n",
      "Requirement already satisfied: typing_extensions>=4.0 in c:\\users\\user\\anaconda3\\envs\\vectordb_env\\lib\\site-packages (from pypdf) (4.12.2)\n"
     ]
    }
   ],
   "source": [
    "!pip install pypdf"
   ]
  },
  {
   "cell_type": "code",
   "execution_count": 5,
   "metadata": {},
   "outputs": [
    {
     "name": "stdout",
     "output_type": "stream",
     "text": [
      "35\n",
      "{'producer': '3-Heights(TM) PDF Optimization Shell 5.9.1.5 (http://www.pdf-tools.com)', 'creator': 'Acrobat PDFMaker 7.0 dla programu Word', 'creationdate': '2006-08-26T00:50:00+02:00', 'author': 'GOLDEN', 'company': 'c', 'title': 'Microsoft Word - 1', 'moddate': '2021-01-27T15:00:11+01:00', 'source': './data/The_Adventures_of_Tom_Sawyer.pdf', 'total_pages': 35, 'page': 0, 'page_label': '1'}\n",
      "====================================================================================================\n",
      "The Adventures of                 \n",
      "Tom Sawyer \n",
      " \n",
      "MARK TWAIN \n",
      "Level 1 \n",
      " \n",
      "Retold by Jacqueline Kehl                                                    \n",
      "Series Editors: Andy Hopkins and Jocelyn Potter\n"
     ]
    }
   ],
   "source": [
    "# PyPDFLoader : PDF 문서를 로드해서 텍스트 읽어오기\n",
    "from langchain_community.document_loaders import PyPDFLoader\n",
    "\n",
    "loader = PyPDFLoader(\"./data/The_Adventures_of_Tom_Sawyer.pdf\")\n",
    "documents = loader.load()\n",
    "print(len(documents))\n",
    "print(documents[0].metadata)\n",
    "print('=' * 100)\n",
    "print(documents[2].page_content)"
   ]
  },
  {
   "cell_type": "markdown",
   "metadata": {},
   "source": [
    "### Embedding Model"
   ]
  },
  {
   "cell_type": "code",
   "execution_count": 6,
   "metadata": {},
   "outputs": [
    {
     "name": "stdout",
     "output_type": "stream",
     "text": [
      "1536\n"
     ]
    }
   ],
   "source": [
    "from langchain_openai import OpenAIEmbeddings\n",
    "\n",
    "embedding_model = OpenAIEmbeddings(model=\"text-embedding-3-small\")\n",
    "\n",
    "text = \"The quick brown fox jumps over the lazy dog.\"\n",
    "vector = embedding_model.embed_query(text)\n",
    "print(len(vector))"
   ]
  },
  {
   "cell_type": "code",
   "execution_count": 7,
   "metadata": {},
   "outputs": [
    {
     "name": "stdout",
     "output_type": "stream",
     "text": [
      "35\n",
      "1536\n"
     ]
    }
   ],
   "source": [
    "docs = [document.page_content for document in documents]\n",
    "vects = embedding_model.embed_documents(docs)\n",
    "\n",
    "print(len(vects))\n",
    "print(len(vects[0]))"
   ]
  },
  {
   "cell_type": "markdown",
   "metadata": {},
   "source": [
    "### Vector Store"
   ]
  },
  {
   "cell_type": "code",
   "execution_count": 8,
   "metadata": {},
   "outputs": [],
   "source": [
    "from langchain.vectorstores import FAISS\n",
    "\n",
    "txt_embeddings = list(zip(docs, vects))\n",
    "vector_store = FAISS.from_embeddings(txt_embeddings, embedding_model)\n",
    "# vector_store = FAISS.from_documents(documents, embedding_model)"
   ]
  },
  {
   "cell_type": "code",
   "execution_count": 9,
   "metadata": {},
   "outputs": [
    {
     "data": {
      "text/plain": [
       "[Document(id='16760b21-bf8d-4f5a-9768-98334b97592f', metadata={}, page_content='Introduction \\n \\n \\nOne Saturday afternoon Tom wanted to have an adventure                    \\nbecause he didn’t want to think about Injun Joe. He went \\nto Huck and said, “I’m going to look for treasure. Do you \\nwant to come with me?” \\n \\nTom Sawyer loves adventures. He has a lot of adventures \\nat home, at school, and with his friends. He has one \\nadventure in a cave. But why is he there? What does he \\nsee in the cave? And why is he afraid? \\n \\nMark Twain (1835-1910) is a famous American writer. \\nHis name was Samuel Clemens. Young Samuel lived in \\nHannibal, Missouri, a small town on the Mississippi River. \\nHe loved the river and he liked watching the big boats                  \\non it. \\nSamuel loved adventures. He worked on boats on the \\nMississippi River for two years. Then he went to Nevada. \\nHe looked for treasure, but he didn’t find it. He worked for \\na newspaper there. His stories were in the name of Mark \\nTwain, and people loved them. \\nLater, Samuel lived in New York. His book The \\nAdventures of Tom Sawyer (1876) is about a young boy in \\na small town in the 1800s. Huck Finn is his friend. The \\nAdventures of Huckleberry Finn (1884) is about Huck’s \\nadventures. These two books are very famous. \\nToday, many people visit Hannibal because they want to \\nsee Mark Twain’s home and the Mark Twain Cave, the \\ncave in The Adventures of Tom Sawyer. \\n \\niii'),\n",
       " Document(id='c5018189-423a-4efe-8c91-6fca85e48cf6', metadata={}, page_content='Tom Sawyer loves adventures. He has them at home,                \\nat school, and with his friends—Huck Finn and Joe                \\nHarper. Tom has one adventure in a graveyard, and one                \\nin a cave.  Who does  he  see there,  and why is he afraid? \\nPenguin Readers are simplified texts designed in association with Longman, \\nthe world famous educational publi sher, to provide a step-by-step  \\napproach to this joys of reading for pleasure. Each book has an \\nintroduction and extensive activity material. They are published              \\nat   seven  levels  from  Easystarts  (200 words) to Advanced (3000 words). \\nSeries Editors: Andy Hopkins and Jocelyn Potter \\n \\n \\nwww.penguinreaders.com\\nCover photograph © Frank Hopkinson 2000'),\n",
       " Document(id='c1ca9501-834c-44ff-903e-f771c7e2c22b', metadata={}, page_content='“I’m late because I talked to Huck Finn,” Tom said.              \\nThen the teacher was very angry. “Sit with the girls,” he \\nsaid to Tom. \\nTom sat near the beautiful new girl. He was happy. He \\nlooked at her. \\n“What’s your name?” he asked. \\n“Becky,” she answered. \\nTom smiled and said, “My name’s Tom.” \\nThe teacher was angry again. “Tom Sawyer, stop \\ntalking! Go to your place now,” he said. Tom went to his \\nplace. \\nAt twelve o’clock Tom and Becky didn’t go home. They \\nstayed in the school yard and talked. Tom said, “I love \\nyou. Do you love me?” \\n“Yes,” Becky answered. \\n“Good,” Tom said. “Then you’re going to walk to \\nschool with me every day. Amy always walked with me.” \\n“Amy!” Becky said angrily. “Do you love her?” \\n“No,” Tom answered. “I love you now. Do you want to \\nwalk with me?” \\nBut Becky was angry with Tom. She walked away and \\ndidn’t answer. Tom was unhappy. He didn’t go to school \\nin the afternoon. \\nThat night Tom went to bed at nine o’clock, but he \\ndidn’t sleep. At eleven o’clock he went out his bedroom \\nwindow to the yard. Huck was there. They walked to the \\ngraveyard. They stopped behind some big trees and talked \\nquietly. \\nSuddenly, there was a noise. Three men came into the \\ngraveyard—the doctor, Muff Potter, and Injun Joe. Injun \\nJoe and the doctor talked angrily. Then Injun Joe \\n \\n4')]"
      ]
     },
     "execution_count": 9,
     "metadata": {},
     "output_type": "execute_result"
    }
   ],
   "source": [
    "vector_store.similarity_search(\"Tom Sawyer\", k=3)"
   ]
  },
  {
   "cell_type": "markdown",
   "metadata": {},
   "source": [
    "### Retriever"
   ]
  },
  {
   "cell_type": "code",
   "execution_count": 10,
   "metadata": {},
   "outputs": [
    {
     "name": "stdout",
     "output_type": "stream",
     "text": [
      "tags=['FAISS', 'OpenAIEmbeddings'] vectorstore=<langchain_community.vectorstores.faiss.FAISS object at 0x000002255263C400> search_kwargs={}\n"
     ]
    }
   ],
   "source": [
    "from langchain.chains import RetrievalQA\n",
    "from langchain_openai import ChatOpenAI\n",
    "\n",
    "model = ChatOpenAI(\n",
    "    model=\"gpt-4o-mini\",\n",
    "    temperature=0\n",
    ")\n",
    "\n",
    "retriever = vector_store.as_retriever()\n",
    "print(retriever)\n",
    "\n",
    "retrieval_qa = RetrievalQA.from_chain_type(\n",
    "    llm=model,\n",
    "    retriever=retriever,\n",
    "    chain_type='stuff'\n",
    ")"
   ]
  },
  {
   "cell_type": "code",
   "execution_count": 11,
   "metadata": {},
   "outputs": [],
   "source": [
    "response = retrieval_qa.invoke('마을 무덤에 있던 남자를 누가 죽였나요?')"
   ]
  },
  {
   "cell_type": "code",
   "execution_count": 12,
   "metadata": {},
   "outputs": [
    {
     "data": {
      "text/plain": [
       "{'query': '마을 무덤에 있던 남자를 누가 죽였나요?',\n",
       " 'result': '의사(doctor)를 죽인 것은 인준 조(Injun Joe)입니다.'}"
      ]
     },
     "execution_count": 12,
     "metadata": {},
     "output_type": "execute_result"
    }
   ],
   "source": [
    "response"
   ]
  }
 ],
 "metadata": {
  "kernelspec": {
   "display_name": "vectordb_env",
   "language": "python",
   "name": "python3"
  },
  "language_info": {
   "codemirror_mode": {
    "name": "ipython",
    "version": 3
   },
   "file_extension": ".py",
   "mimetype": "text/x-python",
   "name": "python",
   "nbconvert_exporter": "python",
   "pygments_lexer": "ipython3",
   "version": "3.9.21"
  }
 },
 "nbformat": 4,
 "nbformat_minor": 2
}
