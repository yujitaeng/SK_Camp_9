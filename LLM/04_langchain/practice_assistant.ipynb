{
 "cells": [
  {
   "cell_type": "code",
   "execution_count": 2,
   "metadata": {},
   "outputs": [
    {
     "data": {
      "text/plain": [
       "True"
      ]
     },
     "execution_count": 2,
     "metadata": {},
     "output_type": "execute_result"
    }
   ],
   "source": [
    "# 환경설정\n",
    "from dotenv import load_dotenv\n",
    "load_dotenv()"
   ]
  },
  {
   "cell_type": "markdown",
   "metadata": {},
   "source": [
    "### 요약봇 (Agent)\n",
    "\n",
    "- 회의록 요약 기능과 이메일 요약 기능을 함수로 작성 > Tools로 생성\n",
    "    - 서로 다른 프롬프트로 LLM 질의 > 응답 반환\n",
    "    - `langchain.tools` 패키지의 `Tool` 활용\n",
    "- agent를 만들어 요청을 처리할 수 있도록 할 것"
   ]
  },
  {
   "cell_type": "code",
   "execution_count": 3,
   "metadata": {},
   "outputs": [],
   "source": [
    "test_meeting_note = \"\"\"\n",
    "주식회사 앨빈 - '슈퍼밴드' 10주년 기념 컴백 회의\n",
    "\n",
    "2025년 3월 11일 (화) 14:00 - 16:00, 회사 회의실 A\n",
    "\n",
    "참석자: 김앨빈 대표, 박다람 매니저, 이소리 홍보팀장, 최빛나 마케팅팀장, 강현우 프로듀서, 슈퍼밴드 멤버 전원\n",
    "\n",
    "회의 시작. 김앨빈 대표 \"이제 10주년인데 뭔가 크게 가야 하지 않겠어?\" 다들 동의\n",
    "\n",
    "일정 조율\n",
    "- 발매일 6월 15일 확정. 멤버들 일정 문제 없음\n",
    "- 티저 5월 1일부터 하나씩 공개. SNS 활용\n",
    "- 뮤비 촬영 4월 10~12일. 로케이션 검토 중\n",
    "- 쇼케이스 6월 14일로 가자. 장소는 아직 미정, 빠른 섭외 필요\n",
    "- 월드투어? 일단 논의만, 일정 잡긴 어려움\n",
    "\n",
    "앨범 컨셉 논의\n",
    "- 앨범명 아이디어: Reignite, Revival, Firestorm (Reignite로 가는 분위기)\n",
    "- 컨셉: 10년을 돌아보고 다시 불태우는 느낌. 레트로+현대 락 스타일로 가자\n",
    "- 타이틀곡 가제: 불꽃처럼. 강렬한 락 사운드, 희망적인 가사\n",
    "- 수록곡 10곡 예정. 기존 곡 리메이크도 넣을지 고민\n",
    "\n",
    "마케팅 전략\n",
    "- SNS 티저 영상, 멤버 개인 브이로그 촬영 진행\n",
    "- 틱톡 챌린지 같은 거 해야 하나? 다들 긍정적 반응\n",
    "- 팬미팅, 사인회 6월 중에. 세부 일정은 조율 필요\n",
    "- 미디어 인터뷰 잡아야 함. 음악방송도 적극 참여\n",
    "- 패션 브랜드 콜라보 제안 있음. 검토 필요\n",
    "\n",
    "기타 논의\n",
    "- 굿즈 제작? 팬클럽 한정 프리오더 진행 고려\n",
    "- 다큐멘터리 제작할까? 가능성 있음, 제작팀 컨택 예정\n",
    "- 멤버들 건강 스케줄 조정 신경 써야 함\n",
    "\n",
    "결론\n",
    "- 3월 말까지 세부 일정 확정\n",
    "- 다음 회의 3월 25일 14:00\n",
    "\n",
    "회의 종료 16:00\n",
    "\"\"\"\n",
    "\n",
    "test_email = \"\"\"\n",
    "제목: [마케팅팀 회의 공지] '슈퍼밴드' 10주년 컴백 마케팅 전략 논의  \n",
    "\n",
    "팀원 여러분,  \n",
    "\n",
    "안녕하세요. 최빛나 팀장입니다.  \n",
    "오늘 진행된 '슈퍼밴드' 10주년 컴백 회의 내용을 공유드립니다.  \n",
    "\n",
    "컴백 일정이 6월 15일로 확정되었고, 이에 맞춰 마케팅 전략을 구체화해야 합니다. 주요 논의 사항은 다음과 같습니다.  \n",
    "\n",
    "- **SNS 캠페인**: 티저 영상 및 멤버별 브이로그 콘텐츠 기획  \n",
    "- **틱톡 챌린지**: 팬 참여 유도 방안 논의  \n",
    "- **오프라인 이벤트**: 팬미팅, 사인회 일정 및 진행 방식 검토  \n",
    "- **미디어 홍보**: 음악방송 및 인터뷰 스케줄 조율  \n",
    "- **콜라보레이션**: 패션 브랜드 협업 가능성 검토  \n",
    "\n",
    "이에 따라 **마케팅팀 내부 회의**를 진행하려 합니다.  \n",
    "📅 일정: 3월 13일(수) 오후 2시  \n",
    "📍 장소: 마케팅팀 회의실  \n",
    "\n",
    "각자 아이디어를 정리해 오시면 원활한 논의가 가능할 것 같습니다.  \n",
    "질문이나 제안이 있으면 미리 공유해주세요.  \n",
    "\n",
    "감사합니다.  \n",
    "최빛나 드림\n",
    "\"\"\""
   ]
  },
  {
   "cell_type": "code",
   "execution_count": 4,
   "metadata": {},
   "outputs": [],
   "source": [
    "from langchain_openai import ChatOpenAI\n",
    "from langchain.tools import Tool\n",
    "from langchain.agents import initialize_agent, AgentType"
   ]
  },
  {
   "cell_type": "code",
   "execution_count": 6,
   "metadata": {},
   "outputs": [],
   "source": [
    "# LLM\n",
    "model = ChatOpenAI(\n",
    "    model_name='gpt-4o-mini',\n",
    "    temperature=0.2\n",
    ")\n",
    "\n",
    "# 회의록 요약 기능 (함수)\n",
    "def summary_note_tool(text):\n",
    "\n",
    "    prompt = f\"\"\"\n",
    "다음 조건에 맞게 회의 내용을 요약해줘.\n",
    "\n",
    "<조건>\n",
    "1. 회의 장소, 일자, 참여자는 각각 작성할 것\n",
    "2. 회의 내용을 대주제, 소주제로 나누어 작성할 것\n",
    "3. 요약한 회의 내용은 불렛 형식으로 작성할 것\n",
    "\n",
    "<요약할 회의 내용>\n",
    "{text}\n",
    "\"\"\"\n",
    "    return model.invoke(prompt)\n",
    "\n",
    "# 이메일 요약 기능 (함수)\n",
    "def summary_email_tool(text):\n",
    "\n",
    "    prompt = f\"\"\"\n",
    "다음 조건에 맞게 이메일 내용을 요약해줘.\n",
    "\n",
    "<조건>\n",
    "1. 이메일 발신자를 따로 표시할 것\n",
    "2. 메일 내용을 간략하게 요약해서 한 줄로 표현할 것\n",
    "3. 요청받은 업무 사항이 있으면 불렛 형식으로 표현할 것\n",
    "\n",
    "<요약할 이메일 내용>\n",
    "{text}\n",
    "\"\"\"\n",
    "    return model.invoke(prompt)"
   ]
  },
  {
   "cell_type": "code",
   "execution_count": 7,
   "metadata": {},
   "outputs": [
    {
     "name": "stderr",
     "output_type": "stream",
     "text": [
      "C:\\Users\\USER\\AppData\\Local\\Temp\\ipykernel_440\\4222193518.py:15: LangChainDeprecationWarning: LangChain agents will continue to be supported, but it is recommended for new use cases to be built with LangGraph. LangGraph offers a more flexible and full-featured framework for building agents, including support for tool-calling, persistence of state, and human-in-the-loop workflows. For details, refer to the `LangGraph documentation <https://langchain-ai.github.io/langgraph/>`_ as well as guides for `Migrating from AgentExecutor <https://python.langchain.com/docs/how_to/migrate_agent/>`_ and LangGraph's `Pre-built ReAct agent <https://langchain-ai.github.io/langgraph/how-tos/create-react-agent/>`_.\n",
      "  agent = initialize_agent(\n"
     ]
    }
   ],
   "source": [
    "# Tool 생성 > Agent 생성 > 테스트 데이터로 확인\n",
    "tools = [\n",
    "    Tool(\n",
    "        name=\"회의 요약\", \n",
    "        func=summary_note_tool, \n",
    "        description=\"긴 회의록 내용을 요약한다.\"\n",
    "    ),\n",
    "    Tool(\n",
    "        name=\"메일 요약\", \n",
    "        func=summary_email_tool, \n",
    "        description=\"업무 이메일 내용을 요약한다.\"\n",
    "    ),\n",
    "]\n",
    "\n",
    "agent = initialize_agent(\n",
    "    tools=tools,\n",
    "    llm=model,\n",
    "    agent=AgentType.ZERO_SHOT_REACT_DESCRIPTION,\n",
    "    verbose=True\n",
    ")"
   ]
  },
  {
   "cell_type": "code",
   "execution_count": 9,
   "metadata": {},
   "outputs": [
    {
     "name": "stdout",
     "output_type": "stream",
     "text": [
      "\n",
      "\n",
      "\u001b[1m> Entering new AgentExecutor chain...\u001b[0m\n",
      "\u001b[32;1m\u001b[1;3m회의 내용을 요약해야 한다. 회의록의 주요 내용을 간추려서 핵심 사항을 정리할 것이다. \n",
      "\n",
      "Action: 회의 요약  \n",
      "Action Input: 주식회사 앨빈 - '슈퍼밴드' 10주년 기념 컴백 회의 내용  \u001b[0m\n",
      "Observation: \u001b[36;1m\u001b[1;3mcontent=\"**회의 장소:** 주식회사 앨빈 회의실  \\n**일자:** 2023년 10월 15일  \\n**참여자:** 팀장 김민수, 마케팅 담당 이지은, 기획 담당 박재현, 아티스트 매니저 최수영  \\n\\n---\\n\\n### 대주제: '슈퍼밴드' 10주년 기념 컴백 계획\\n\\n#### 소주제 1: 컴백 일정 및 준비 사항\\n- 10주년 기념 앨범 발매일: 2024년 1월 15일\\n- 앨범 수록곡: 기존 히트곡 리메이크 및 신곡 포함\\n- 컴백 쇼케이스 일정: 2024년 1월 10일\\n\\n#### 소주제 2: 마케팅 전략\\n- 소셜 미디어 캠페인: 팬들과의 소통 강화\\n- 티저 영상 및 포스터 제작: 12월 중순 공개 예정\\n- 팬 이벤트 계획: 팬미팅 및 사인회 일정 조율 중\\n\\n#### 소주제 3: 아티스트 활동\\n- 멤버 개인 활동: 각자의 솔로 프로젝트와 병행\\n- 그룹 활동: 컴백 후 3개월간 집중 프로모션 계획\\n- 방송 출연: 주요 음악 프로그램 섭외 진행 중\\n\\n#### 소주제 4: 예산 및 자원 배분\\n- 전체 예산: 5억 원 책정\\n- 마케팅 및 프로모션 비용: 70% 배정\\n- 앨범 제작 및 유통 비용: 30% 배정\\n\\n#### 소주제 5: 향후 일정\\n- 다음 회의 일정: 2023년 11월 5일\\n- 각 팀별 진행 상황 점검 및 조율 예정\\n\\n--- \\n\\n이상으로 '슈퍼밴드' 10주년 기념 컴백 회의 내용을 요약하였습니다.\" additional_kwargs={'refusal': None} response_metadata={'token_usage': {'completion_tokens': 414, 'prompt_tokens': 112, 'total_tokens': 526, 'completion_tokens_details': {'accepted_prediction_tokens': 0, 'audio_tokens': 0, 'reasoning_tokens': 0, 'rejected_prediction_tokens': 0}, 'prompt_tokens_details': {'audio_tokens': 0, 'cached_tokens': 0}}, 'model_name': 'gpt-4o-mini-2024-07-18', 'system_fingerprint': 'fp_06737a9306', 'finish_reason': 'stop', 'logprobs': None} id='run-e0a7ee84-7f3d-4aa3-a95a-cb6d75f95c6a-0' usage_metadata={'input_tokens': 112, 'output_tokens': 414, 'total_tokens': 526, 'input_token_details': {'audio': 0, 'cache_read': 0}, 'output_token_details': {'audio': 0, 'reasoning': 0}}\u001b[0m\n",
      "Thought:\u001b[32;1m\u001b[1;3mI need to summarize the meeting content regarding the 10th anniversary comeback of 'Superband' held by Alvin Corporation.\n",
      "\n",
      "Action: 회의 요약  \n",
      "Action Input: 주식회사 앨빈 - '슈퍼밴드' 10주년 기념 컴백 회의 내용  \u001b[0m\n",
      "Observation: \u001b[36;1m\u001b[1;3mcontent=\"**회의 장소:** 주식회사 앨빈 회의실  \\n**일자:** 2023년 10월 15일  \\n**참여자:** 앨빈 경영진, 마케팅 팀, 아티스트 매니저, 프로덕션 팀  \\n\\n---\\n\\n### 대주제: '슈퍼밴드' 10주년 기념 컴백 계획\\n\\n#### 소주제 1: 컴백 일정 및 전략\\n- 10주년 기념 앨범 발매 일정: 2024년 1월 15일\\n- 컴백 프로모션 일정 및 주요 활동 계획 수립\\n- 팬들과의 소통 강화 방안 논의\\n\\n#### 소주제 2: 앨범 내용 및 콘셉트\\n- 앨범 테마: '시간의 흐름'을 주제로 한 곡 구성\\n- 기존 팬층과 신규 팬층을 겨냥한 다양한 장르의 곡 포함\\n- 특별한 피처링 아티스트 섭외 계획\\n\\n#### 소주제 3: 마케팅 및 홍보 전략\\n- 소셜 미디어 캠페인 및 티저 영상 제작 계획\\n- 팬 이벤트 및 온라인 콘서트 개최 방안 논의\\n- 협력 브랜드 및 스폰서십 기회 탐색\\n\\n#### 소주제 4: 투어 및 공연 계획\\n- 10주년 기념 투어 일정 및 도시 선정\\n- 공연 장소 및 규모에 대한 논의\\n- 팬들과의 만남을 위한 특별 이벤트 기획\\n\\n#### 소주제 5: 예산 및 자원 배분\\n- 컴백 관련 예산안 검토 및 승인\\n- 각 팀별 필요한 자원 및 인력 배분 계획 수립\\n\\n--- \\n\\n이상으로 '슈퍼밴드' 10주년 기념 컴백 회의 내용을 요약하였습니다.\" additional_kwargs={'refusal': None} response_metadata={'token_usage': {'completion_tokens': 395, 'prompt_tokens': 112, 'total_tokens': 507, 'completion_tokens_details': {'accepted_prediction_tokens': 0, 'audio_tokens': 0, 'reasoning_tokens': 0, 'rejected_prediction_tokens': 0}, 'prompt_tokens_details': {'audio_tokens': 0, 'cached_tokens': 0}}, 'model_name': 'gpt-4o-mini-2024-07-18', 'system_fingerprint': 'fp_06737a9306', 'finish_reason': 'stop', 'logprobs': None} id='run-40f91f75-b6b3-440a-a070-6e4c16f34a92-0' usage_metadata={'input_tokens': 112, 'output_tokens': 395, 'total_tokens': 507, 'input_token_details': {'audio': 0, 'cache_read': 0}, 'output_token_details': {'audio': 0, 'reasoning': 0}}\u001b[0m\n",
      "Thought:\u001b[32;1m\u001b[1;3mI now know the final answer.  \n",
      "Final Answer: **회의 장소:** 주식회사 앨빈 회의실  \n",
      "**일자:** 2025년 3월 11일  \n",
      "**참여자:** 김앨빈 대표, 박다람 매니저, 이소리 홍보팀장, 최빛나 마케팅팀장, 강현우 프로듀서, 슈퍼밴드 멤버 전원  \n",
      "\n",
      "### 대주제: '슈퍼밴드' 10주년 기념 컴백 계획\n",
      "\n",
      "#### 소주제 1: 컴백 일정 및 준비 사항\n",
      "- 발매일: 2025년 6월 15일\n",
      "- 티저 공개: 2025년 5월 1일부터\n",
      "- 뮤비 촬영: 2025년 4월 10~12일\n",
      "- 쇼케이스: 2025년 6월 14일\n",
      "\n",
      "#### 소주제 2: 앨범 컨셉\n",
      "- 앨범명: Reignite\n",
      "- 컨셉: 10년을 돌아보고 다시 불태우는 느낌, 레트로+현대 락 스타일\n",
      "- 타이틀곡 가제: 불꽃처럼\n",
      "\n",
      "#### 소주제 3: 마케팅 전략\n",
      "- SNS 티저 영상 및 멤버 개인 브이로그 촬영\n",
      "- 팬미팅 및 사인회: 6월 중\n",
      "- 미디어 인터뷰 및 음악방송 참여\n",
      "\n",
      "#### 소주제 4: 기타 논의\n",
      "- 굿즈 제작 및 팬클럽 한정 프리오더\n",
      "- 다큐멘터리 제작 가능성 검토\n",
      "\n",
      "#### 결론\n",
      "- 3월 말까지 세부 일정 확정\n",
      "- 다음 회의: 3월 25일 14:00\u001b[0m\n",
      "\n",
      "\u001b[1m> Finished chain.\u001b[0m\n"
     ]
    }
   ],
   "source": [
    "result = agent.run(\"회의 내용 요약: \" + test_meeting_note)"
   ]
  },
  {
   "cell_type": "code",
   "execution_count": 10,
   "metadata": {},
   "outputs": [
    {
     "name": "stdout",
     "output_type": "stream",
     "text": [
      "**회의 장소:** 주식회사 앨빈 회의실  \n",
      "**일자:** 2025년 3월 11일  \n",
      "**참여자:** 김앨빈 대표, 박다람 매니저, 이소리 홍보팀장, 최빛나 마케팅팀장, 강현우 프로듀서, 슈퍼밴드 멤버 전원  \n",
      "\n",
      "### 대주제: '슈퍼밴드' 10주년 기념 컴백 계획\n",
      "\n",
      "#### 소주제 1: 컴백 일정 및 준비 사항\n",
      "- 발매일: 2025년 6월 15일\n",
      "- 티저 공개: 2025년 5월 1일부터\n",
      "- 뮤비 촬영: 2025년 4월 10~12일\n",
      "- 쇼케이스: 2025년 6월 14일\n",
      "\n",
      "#### 소주제 2: 앨범 컨셉\n",
      "- 앨범명: Reignite\n",
      "- 컨셉: 10년을 돌아보고 다시 불태우는 느낌, 레트로+현대 락 스타일\n",
      "- 타이틀곡 가제: 불꽃처럼\n",
      "\n",
      "#### 소주제 3: 마케팅 전략\n",
      "- SNS 티저 영상 및 멤버 개인 브이로그 촬영\n",
      "- 팬미팅 및 사인회: 6월 중\n",
      "- 미디어 인터뷰 및 음악방송 참여\n",
      "\n",
      "#### 소주제 4: 기타 논의\n",
      "- 굿즈 제작 및 팬클럽 한정 프리오더\n",
      "- 다큐멘터리 제작 가능성 검토\n",
      "\n",
      "#### 결론\n",
      "- 3월 말까지 세부 일정 확정\n",
      "- 다음 회의: 3월 25일 14:00\n"
     ]
    }
   ],
   "source": [
    "print(result)"
   ]
  },
  {
   "cell_type": "code",
   "execution_count": 11,
   "metadata": {},
   "outputs": [
    {
     "name": "stdout",
     "output_type": "stream",
     "text": [
      "\n",
      "\n",
      "\u001b[1m> Entering new AgentExecutor chain...\u001b[0m\n",
      "\u001b[32;1m\u001b[1;3m메일 내용을 요약하여 주요 사항과 회의 일정을 간단히 정리해야 한다.  \n",
      "Action: 메일 요약  \n",
      "Action Input: 제목: [마케팅팀 회의 공지] '슈퍼밴드' 10주년 컴백 마케팅 전략 논의  \n",
      "\n",
      "팀원 여러분,  \n",
      "\n",
      "안녕하세요. 최빛나 팀장입니다.  \n",
      "오늘 진행된 '슈퍼밴드' 10주년 컴백 회의 내용을 공유드립니다.  \n",
      "\n",
      "컴백 일정이 6월 15일로 확정되었고, 이에 맞춰 마케팅 전략을 구체화해야 합니다. 주요 논의 사항은 다음과 같습니다.  \n",
      "\n",
      "- **SNS 캠페인**: 티저 영상 및 멤버별 브이로그 콘텐츠 기획  \n",
      "- **틱톡 챌린지**: 팬 참여 유도 방안 논의  \n",
      "- **오프라인 이벤트**: 팬미팅, 사인회 일정 및 진행 방식 검토  \n",
      "- **미디어 홍보**: 음악방송 및 인터뷰 스케줄 조율  \n",
      "- **콜라보레이션**: 패션 브랜드 협업 가능성 검토  \n",
      "\n",
      "이에 따라 **마케팅팀 내부 회의**를 진행하려 합니다.  \n",
      "📅 일정: 3월 13일(수) 오후 2시  \n",
      "📍 장소: 마케팅팀 회의실  \n",
      "\n",
      "각자 아이디어를 정리해 오시면 원활한 논의가 가능할 것 같습니다.  \n",
      "질문이나 제안이 있으면 미리 공유해주세요.  \n",
      "\n",
      "감사합니다.  \n",
      "최빛나 드림  \n",
      "\u001b[0m\n",
      "Observation: \u001b[33;1m\u001b[1;3mcontent=\"**발신자:** 최빛나 팀장  \\n\\n**요약:** '슈퍼밴드' 10주년 컴백 마케팅 전략 회의 안내 및 업무 요청.  \\n\\n**업무 사항:**  \\n- SNS 캠페인: 티저 영상 및 멤버별 브이로그 콘텐츠 기획  \\n- 틱톡 챌린지: 팬 참여 유도 방안 논의  \\n- 오프라인 이벤트: 팬미팅, 사인회 일정 및 진행 방식 검토  \\n- 미디어 홍보: 음악방송 및 인터뷰 스케줄 조율  \\n- 콜라보레이션: 패션 브랜드 협업 가능성 검토  \" additional_kwargs={'refusal': None} response_metadata={'token_usage': {'completion_tokens': 141, 'prompt_tokens': 385, 'total_tokens': 526, 'completion_tokens_details': {'accepted_prediction_tokens': 0, 'audio_tokens': 0, 'reasoning_tokens': 0, 'rejected_prediction_tokens': 0}, 'prompt_tokens_details': {'audio_tokens': 0, 'cached_tokens': 0}}, 'model_name': 'gpt-4o-mini-2024-07-18', 'system_fingerprint': 'fp_06737a9306', 'finish_reason': 'stop', 'logprobs': None} id='run-0c31336c-cf70-4db4-b11d-ed6fe23d87c9-0' usage_metadata={'input_tokens': 385, 'output_tokens': 141, 'total_tokens': 526, 'input_token_details': {'audio': 0, 'cache_read': 0}, 'output_token_details': {'audio': 0, 'reasoning': 0}}\u001b[0m\n",
      "Thought:\u001b[32;1m\u001b[1;3mI now know the final answer.  \n",
      "Final Answer: **발신자:** 최빛나 팀장  \\n\\n**요약:** '슈퍼밴드' 10주년 컴백 마케팅 전략 회의 안내 및 업무 요청.  \\n\\n**업무 사항:**  \\n- SNS 캠페인: 티저 영상 및 멤버별 브이로그 콘텐츠 기획  \\n- 틱톡 챌린지: 팬 참여 유도 방안 논의  \\n- 오프라인 이벤트: 팬미팅, 사인회 일정 및 진행 방식 검토  \\n- 미디어 홍보: 음악방송 및 인터뷰 스케줄 조율  \\n- 콜라보레이션: 패션 브랜드 협업 가능성 검토  \\n\\n**회의 일정:**  \\n📅 3월 13일(수) 오후 2시  \\n📍 마케팅팀 회의실  \u001b[0m\n",
      "\n",
      "\u001b[1m> Finished chain.\u001b[0m\n"
     ]
    }
   ],
   "source": [
    "result = agent.run(\"메일 내용 요약: \" + test_email)"
   ]
  },
  {
   "cell_type": "code",
   "execution_count": 13,
   "metadata": {},
   "outputs": [
    {
     "name": "stdout",
     "output_type": "stream",
     "text": [
      "**발신자:** 최빛나 팀장  \\n\\n**요약:** '슈퍼밴드' 10주년 컴백 마케팅 전략 회의 안내 및 업무 요청.  \\n\\n**업무 사항:**  \\n- SNS 캠페인: 티저 영상 및 멤버별 브이로그 콘텐츠 기획  \\n- 틱톡 챌린지: 팬 참여 유도 방안 논의  \\n- 오프라인 이벤트: 팬미팅, 사인회 일정 및 진행 방식 검토  \\n- 미디어 홍보: 음악방송 및 인터뷰 스케줄 조율  \\n- 콜라보레이션: 패션 브랜드 협업 가능성 검토  \\n\\n**회의 일정:**  \\n📅 3월 13일(수) 오후 2시  \\n📍 마케팅팀 회의실\n"
     ]
    }
   ],
   "source": [
    "print(result)"
   ]
  },
  {
   "cell_type": "markdown",
   "metadata": {},
   "source": [
    "### News 매니저\n",
    "\n",
    "1. 최신 뉴스 검색 (상위 3개의 뉴스만 사용)\n",
    "    - `langchain.utilities`패키지의 `SerpAPIWrapper`\n",
    "2. 뉴스 요약 및 키워드 분석\n",
    "3. 사용자 맞춤형 뉴스 추천"
   ]
  },
  {
   "cell_type": "code",
   "execution_count": 14,
   "metadata": {},
   "outputs": [
    {
     "name": "stdout",
     "output_type": "stream",
     "text": [
      "Collecting google-search-results\n",
      "  Downloading google_search_results-2.4.2.tar.gz (18 kB)\n",
      "  Preparing metadata (setup.py): started\n",
      "  Preparing metadata (setup.py): finished with status 'done'\n",
      "Requirement already satisfied: requests in c:\\users\\user\\anaconda3\\envs\\vectordb_env\\lib\\site-packages (from google-search-results) (2.32.3)\n",
      "Requirement already satisfied: charset-normalizer<4,>=2 in c:\\users\\user\\anaconda3\\envs\\vectordb_env\\lib\\site-packages (from requests->google-search-results) (3.4.1)\n",
      "Requirement already satisfied: idna<4,>=2.5 in c:\\users\\user\\anaconda3\\envs\\vectordb_env\\lib\\site-packages (from requests->google-search-results) (3.10)\n",
      "Requirement already satisfied: urllib3<3,>=1.21.1 in c:\\users\\user\\anaconda3\\envs\\vectordb_env\\lib\\site-packages (from requests->google-search-results) (2.3.0)\n",
      "Requirement already satisfied: certifi>=2017.4.17 in c:\\users\\user\\anaconda3\\envs\\vectordb_env\\lib\\site-packages (from requests->google-search-results) (2025.1.31)\n",
      "Building wheels for collected packages: google-search-results\n",
      "  Building wheel for google-search-results (setup.py): started\n",
      "  Building wheel for google-search-results (setup.py): finished with status 'done'\n",
      "  Created wheel for google-search-results: filename=google_search_results-2.4.2-py3-none-any.whl size=32142 sha256=4d36cf3734a20d603ab2ffcbc4767b83a050607133427645c7472e682782e876\n",
      "  Stored in directory: c:\\users\\user\\appdata\\local\\pip\\cache\\wheels\\68\\8e\\73\\744b7d9d7ac618849d93081a20e1c0deccd2aef90901c9f5a9\n",
      "Successfully built google-search-results\n",
      "Installing collected packages: google-search-results\n",
      "Successfully installed google-search-results-2.4.2\n"
     ]
    }
   ],
   "source": [
    "!pip install google-search-results"
   ]
  },
  {
   "cell_type": "code",
   "execution_count": null,
   "metadata": {},
   "outputs": [],
   "source": [
    "# LLM"
   ]
  },
  {
   "cell_type": "code",
   "execution_count": null,
   "metadata": {},
   "outputs": [],
   "source": [
    "# 최신 뉴스 검색 함수 (상위 3개의 뉴스만 사용)"
   ]
  },
  {
   "cell_type": "code",
   "execution_count": null,
   "metadata": {},
   "outputs": [],
   "source": [
    "# 뉴스 요약 및 키워드 분석 함수"
   ]
  },
  {
   "cell_type": "code",
   "execution_count": null,
   "metadata": {},
   "outputs": [],
   "source": [
    "# 사용자 맞춤형 뉴스 추천 함수"
   ]
  },
  {
   "cell_type": "code",
   "execution_count": null,
   "metadata": {},
   "outputs": [],
   "source": [
    "# Tools & Agent 생성"
   ]
  },
  {
   "cell_type": "code",
   "execution_count": null,
   "metadata": {},
   "outputs": [],
   "source": [
    "# 수행"
   ]
  },
  {
   "cell_type": "code",
   "execution_count": null,
   "metadata": {},
   "outputs": [],
   "source": [
    "# 결과 출력"
   ]
  }
 ],
 "metadata": {
  "kernelspec": {
   "display_name": "vectordb_env",
   "language": "python",
   "name": "python3"
  },
  "language_info": {
   "codemirror_mode": {
    "name": "ipython",
    "version": 3
   },
   "file_extension": ".py",
   "mimetype": "text/x-python",
   "name": "python",
   "nbconvert_exporter": "python",
   "pygments_lexer": "ipython3",
   "version": "3.9.21"
  }
 },
 "nbformat": 4,
 "nbformat_minor": 2
}
