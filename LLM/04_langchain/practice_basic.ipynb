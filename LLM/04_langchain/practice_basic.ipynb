{
 "cells": [
  {
   "cell_type": "code",
   "execution_count": 1,
   "metadata": {},
   "outputs": [
    {
     "data": {
      "text/plain": [
       "True"
      ]
     },
     "execution_count": 1,
     "metadata": {},
     "output_type": "execute_result"
    }
   ],
   "source": [
    "# 환경설정\n",
    "from dotenv import load_dotenv\n",
    "load_dotenv()"
   ]
  },
  {
   "cell_type": "markdown",
   "metadata": {},
   "source": [
    "### Chain을 이용한 Simple LLM\n",
    "1. PromptTemplate\n",
    "2. LLM\n",
    "3. OutputParser"
   ]
  },
  {
   "cell_type": "code",
   "execution_count": 2,
   "metadata": {},
   "outputs": [],
   "source": [
    "# 1. PromptTemplate\n",
    "from langchain_core.prompts import ChatPromptTemplate\n",
    "\n",
    "prompt_template = ChatPromptTemplate([\n",
    "    ('system', '너는 애니메이션을 잘 아는 챗봇이야. 사용자의 질문에 친절하고 상세하게 답변할 수 있어.'),\n",
    "    ('user', '{question}')\n",
    "])"
   ]
  },
  {
   "cell_type": "code",
   "execution_count": 5,
   "metadata": {},
   "outputs": [],
   "source": [
    "# 2. Model\n",
    "from langchain_openai import ChatOpenAI\n",
    "\n",
    "model = ChatOpenAI(\n",
    "    model_name=\"gpt-4o-mini\",\n",
    "    temperature=0.3\n",
    ")"
   ]
  },
  {
   "cell_type": "code",
   "execution_count": 6,
   "metadata": {},
   "outputs": [],
   "source": [
    "# 3. OutputParser (StrOutputParser)\n",
    "from langchain_core.output_parsers import StrOutputParser\n",
    "\n",
    "output_parser = StrOutputParser()"
   ]
  },
  {
   "cell_type": "code",
   "execution_count": 7,
   "metadata": {},
   "outputs": [
    {
     "data": {
      "text/plain": [
       "'포켓몬의 강함은 여러 요소에 따라 달라지기 때문에 \"가장 강한 포켓몬\"을 단정짓기는 어렵습니다. 일반적으로 포켓몬의 강함은 다음과 같은 요소에 의해 결정됩니다:\\n\\n1. **종족값**: 각 포켓몬은 공격, 방어, 스피드 등 다양한 능력치(종족값)를 가지고 있습니다. 예를 들어, 아르세우스(Arceus)는 높은 종족값을 가지고 있어 많은 상황에서 강력한 성능을 발휘합니다.\\n\\n2. **타입**: 포켓몬의 타입(예: 물, 불, 풀 등)은 서로 간의 상성에 큰 영향을 미칩니다. 예를 들어, 물 타입 포켓몬은 불 타입 포켓몬에 강하지만, 전기 타입 포켓몬에 약합니다.\\n\\n3. **기술**: 포켓몬이 배울 수 있는 기술도 중요합니다. 강력한 기술이나 상대의 약점을 찌르는 기술을 사용할 수 있는 포켓몬이 더 유리합니다.\\n\\n4. **전략**: 배틀에서의 전략과 팀 구성도 포켓몬의 강함에 큰 영향을 미칩니다. 어떤 포켓몬이든 잘 조합하고 전략적으로 사용하면 강력한 팀을 만들 수 있습니다.\\n\\n현재 메타에서 자주 언급되는 강력한 포켓몬으로는 아르세우스, 뮤츠(Mewtwo), 레지기가스(Regigigas), 그리고 드래곤 타입의 포켓몬들이 있습니다. 하지만 각 시즌이나 대회에 따라 강력한 포켓몬은 달라질 수 있습니다. \\n\\n결론적으로, \"가장 강한 포켓몬\"은 상황에 따라 다르며, 다양한 요소를 고려해야 합니다. 어떤 포켓몬이 가장 강하다고 생각하시나요?'"
      ]
     },
     "execution_count": 7,
     "metadata": {},
     "output_type": "execute_result"
    }
   ],
   "source": [
    "# 4. Chain -> 질의\n",
    "# question: 어떤 포켓몬이 가장 강해?\n",
    "\n",
    "chain = prompt_template | model | output_parser\n",
    "chain.invoke({'question': '어떤 포켓몬이 가장 강해?'})"
   ]
  },
  {
   "cell_type": "code",
   "execution_count": null,
   "metadata": {},
   "outputs": [
    {
     "data": {
      "text/plain": [
       "'포켓몬의 강함은 여러 요소에 따라 달라질 수 있습니다. 일반적으로는 전투력, 타입 상성, 기술 조합, 그리고 포켓몬의 능력치 등이 중요한 요소로 작용합니다. \\n\\n현재 가장 강력하다고 평가받는 포켓몬 중 하나는 **아르세우스**입니다. 아르세우스는 \"포켓몬의 신\"으로 불리며, 모든 타입을 가질 수 있는 능력을 가지고 있습니다. 이로 인해 다양한 상황에서 유리하게 전투를 이끌 수 있습니다.\\n\\n또한, **메가 레쿠쟈**와 같은 메가 진화 포켓몬도 매우 강력합니다. 메가 레쿠쟈는 높은 공격력과 속도를 가지고 있어 많은 전투에서 강력한 성능을 발휘합니다.\\n\\n하지만 포켓몬 배틀에서는 전략과 팀 구성도 매우 중요하므로, 특정 포켓몬이 항상 가장 강하다고 단정짓기는 어렵습니다. 각 포켓몬의 특성과 전투 스타일에 따라 다르게 평가될 수 있습니다.'"
      ]
     },
     "execution_count": 8,
     "metadata": {},
     "output_type": "execute_result"
    }
   ],
   "source": [
    "from langchain_core.runnables import RunnableSequence\n",
    "\n",
    "chain = RunnableSequence(prompt_template, model, output_parser)\n",
    "chain.invoke({'question': '어떤 포켓몬이 가장 강해?'})"
   ]
  },
  {
   "cell_type": "markdown",
   "metadata": {},
   "source": [
    "### 단계별 Chatbot\n",
    "- 첫 대화에서 내 이름을 알려주고, 다음 대화에서 내 이름 기억하는지 물어보기!"
   ]
  },
  {
   "cell_type": "markdown",
   "metadata": {},
   "source": [
    "1. 그냥 Chat\n",
    "- langchain_openai의 ChatOpenAI\n",
    "- langchain_core.messages의 클래스"
   ]
  },
  {
   "cell_type": "code",
   "execution_count": 6,
   "metadata": {},
   "outputs": [
    {
     "name": "stdout",
     "output_type": "stream",
     "text": [
      "AI: 안녕하세요, 철수님! 당신의 이름을 기억하고 있습니다. 어떻게 도와드릴까요?\n"
     ]
    }
   ],
   "source": [
    "from langchain_openai import ChatOpenAI\n",
    "from langchain_core.messages import HumanMessage, AIMessage\n",
    "import os\n",
    "\n",
    "# OpenAI 모델 설정\n",
    "chat = ChatOpenAI(model_name=\"gpt-4o-mini\", openai_api_key=os.getenv(\"OPENAI_API_KEY\"))\n",
    "\n",
    "# 사용자 입력 기반 대화\n",
    "user_input = input(\"사용자: \")\n",
    "response = chat.invoke([HumanMessage(content=user_input)])\n",
    "print(\"AI:\", response.content)\n"
   ]
  },
  {
   "cell_type": "markdown",
   "metadata": {},
   "source": [
    "2. 직접 대화 맥락 유지\n",
    "- langchain_openai의 ChatOpenAI\n",
    "- langchain_core.messages의 클래스"
   ]
  },
  {
   "cell_type": "code",
   "execution_count": 7,
   "metadata": {},
   "outputs": [
    {
     "name": "stdout",
     "output_type": "stream",
     "text": [
      "AI: 노트북을 구매하고 싶으시군요! 어떤 용도로 사용할지에 따라 추천할 모델이 달라질 수 있어요. 예를 들어, 게임, 영상 편집, 일반적인 문서 작업, 혹은 웹서핑 등 어떤 용도를 생각하고 계신가요? 예산도 알려주시면 더 구체적인 추천을 드릴 수 있을 것 같아요.\n",
      "AI: 당신은 노트북을 갖고 싶다고 말씀하셨어요. 노트북에 대해 어떤 정보나 도움이 필요하신지 말씀해 주시면, 더 구체적으로 도와드릴 수 있습니다!\n"
     ]
    }
   ],
   "source": [
    "from langchain_openai import ChatOpenAI\n",
    "from langchain_core.messages import HumanMessage, AIMessage\n",
    "\n",
    "chat = ChatOpenAI(model_name=\"gpt-4o-mini\", openai_api_key=os.getenv(\"OPENAI_API_KEY\"))\n",
    "\n",
    "# 대화 맥락 수동 관리\n",
    "messages = []\n",
    "\n",
    "for _ in range(2):\n",
    "    user_input = input(\"사용자: \")\n",
    "    messages.append(HumanMessage(content=user_input))\n",
    "    response = chat.invoke(messages)\n",
    "    messages.append(response)\n",
    "    print(\"AI:\", response.content)"
   ]
  },
  {
   "cell_type": "markdown",
   "metadata": {},
   "source": [
    "3. Memory로 대화 맥락 유지\n",
    "- langchain_openai의 ChatOpenAI\n",
    "- langchain_core.messages의 클래스\n",
    "- langchain_core.runnables의 클래스\n",
    "- langchain_core.prompts의 클래스"
   ]
  },
  {
   "cell_type": "code",
   "execution_count": 9,
   "metadata": {},
   "outputs": [
    {
     "name": "stdout",
     "output_type": "stream",
     "text": [
      "AI: 다람쥐가 걸어가는 모습은 정말 귀엽고 사랑스럽죠! 보통 다람쥐는 빠르고 agile하게 움직이며, 나뭇가지 사이를 잘 뛰어다니기도 합니다. 혹시 다람쥐에 대해 더 알고 싶은 점이나, 관련된 이야기가 필요하신가요?\n",
      "AI: \"여긴 어딜까?\"라는 질문은 상황에 따라 다양한 해석이 가능해요. 현재 계신 장소에 대한 질문일 수도 있고, 특정한 분위기나 느낌에 대한 질문일 수도 있습니다. 만약 특정한 장소나 상황을 알려주시면 더 구체적인 답변을 드릴 수 있을 것 같아요. 어떤 곳에 대해 궁금하신가요?\n"
     ]
    }
   ],
   "source": [
    "from langchain_openai import ChatOpenAI\n",
    "from langchain_core.messages import HumanMessage, AIMessage\n",
    "from langchain_core.prompts import ChatPromptTemplate\n",
    "from langchain_core.runnables import Runnable\n",
    "import os\n",
    "\n",
    "\n",
    "# 모델 설정\n",
    "chat = ChatOpenAI(model_name=\"gpt-4o-mini\", openai_api_key=os.getenv(\"OPENAI_API_KEY\"))\n",
    "\n",
    "# 대화 맥락 수동 관리\n",
    "messages = []\n",
    "\n",
    "for _ in range(2):\n",
    "    user_input = input(\"사용자: \")\n",
    "    messages.append(HumanMessage(content=user_input))\n",
    "\n",
    "    # 대화 맥락과 함께 모델 호출\n",
    "    response = chat.invoke(messages)\n",
    "\n",
    "    # AI 응답 저장\n",
    "    messages.append(response)\n",
    "    print(\"AI:\", response.content)"
   ]
  }
 ],
 "metadata": {
  "kernelspec": {
   "display_name": "vectordb_env",
   "language": "python",
   "name": "python3"
  },
  "language_info": {
   "codemirror_mode": {
    "name": "ipython",
    "version": 3
   },
   "file_extension": ".py",
   "mimetype": "text/x-python",
   "name": "python",
   "nbconvert_exporter": "python",
   "pygments_lexer": "ipython3",
   "version": "3.9.21"
  }
 },
 "nbformat": 4,
 "nbformat_minor": 2
}
