{
 "cells": [
  {
   "cell_type": "markdown",
   "metadata": {},
   "source": [
    "# AI FAQ 챗봇 만들기 with RAG"
   ]
  },
  {
   "cell_type": "code",
   "execution_count": 1,
   "metadata": {},
   "outputs": [
    {
     "data": {
      "text/plain": [
       "True"
      ]
     },
     "execution_count": 1,
     "metadata": {},
     "output_type": "execute_result"
    }
   ],
   "source": [
    "from dotenv import load_dotenv\n",
    "load_dotenv()"
   ]
  },
  {
   "cell_type": "code",
   "execution_count": 2,
   "metadata": {},
   "outputs": [],
   "source": [
    "from langchain_openai import OpenAIEmbeddings, ChatOpenAI\n",
    "from langchain.vectorstores import Chroma\n",
    "from langchain.chains import RetrievalQA\n",
    "from langchain.prompts import PromptTemplate\n",
    "from langchain.schema import Document\n",
    "import json"
   ]
  },
  {
   "cell_type": "markdown",
   "metadata": {},
   "source": [
    "1. 데이터 로드"
   ]
  },
  {
   "cell_type": "code",
   "execution_count": 3,
   "metadata": {},
   "outputs": [],
   "source": [
    "with open('./data/faq_chatbot_data.json', 'r', encoding='utf-8') as f:\n",
    "    faq_data = json.load(f)"
   ]
  },
  {
   "cell_type": "code",
   "execution_count": 4,
   "metadata": {},
   "outputs": [
    {
     "data": {
      "text/plain": [
       "[{'question': '반품 정책이 어떻게 되나요?',\n",
       "  'answer': '제품을 수령한 후 14일 이내에 반품이 가능합니다. 반품 신청은 고객센터에서 도와드립니다.'},\n",
       " {'question': '배송은 얼마나 걸리나요?',\n",
       "  'answer': '일반적으로 2~5일 정도 소요되며, 지역에 따라 다를 수 있습니다.'},\n",
       " {'question': '회원가입 없이 주문할 수 있나요?',\n",
       "  'answer': '네, 비회원 주문이 가능합니다. 다만, 주문 조회 및 혜택을 받기 위해 회원가입을 추천드립니다.'},\n",
       " {'question': '포인트 적립은 어떻게 되나요?',\n",
       "  'answer': '구매 금액의 1%가 적립되며, 특별 프로모션 기간 동안 추가 적립이 가능합니다.'},\n",
       " {'question': '해외 배송이 가능한가요?',\n",
       "  'answer': '일부 국가를 대상으로 해외 배송이 가능하며, 배송비는 지역에 따라 상이할 수 있습니다.'},\n",
       " {'question': '제품 보증 기간은 얼마나 되나요?',\n",
       "  'answer': '제품 보증 기간은 기본적으로 1년이며, 일부 제품은 연장 보증이 가능합니다.'},\n",
       " {'question': 'A/S 신청은 어떻게 하나요?',\n",
       "  'answer': '공식 홈페이지 또는 고객센터를 통해 A/S 신청이 가능합니다.'},\n",
       " {'question': '재고가 없는 상품은 언제 다시 입고되나요?',\n",
       "  'answer': '입고 일정은 상품마다 다르며, 알림 설정을 통해 입고 시 안내받을 수 있습니다.'},\n",
       " {'question': '구매 후 영수증을 받을 수 있나요?',\n",
       "  'answer': '네, 주문 내역에서 전자 영수증을 다운로드할 수 있습니다.'},\n",
       " {'question': '다른 사람이 대신 주문을 수령할 수 있나요?',\n",
       "  'answer': '네, 수령인을 지정할 수 있으며 신분증 확인 후 수령 가능합니다.'},\n",
       " {'question': '결제 방법에는 어떤 것이 있나요?',\n",
       "  'answer': '신용카드, 계좌이체, 모바일 결제 등 다양한 방법을 지원합니다.'},\n",
       " {'question': '배송 주소를 변경할 수 있나요?',\n",
       "  'answer': '출고 전이라면 고객센터를 통해 배송 주소 변경이 가능합니다.'},\n",
       " {'question': '구매 후 취소할 수 있나요?', 'answer': '상품이 출고되지 않은 상태라면 주문 취소가 가능합니다.'}]"
      ]
     },
     "execution_count": 4,
     "metadata": {},
     "output_type": "execute_result"
    }
   ],
   "source": [
    "faq_data"
   ]
  },
  {
   "cell_type": "markdown",
   "metadata": {},
   "source": [
    "2. embedding 모델 생성 + vector store 생성"
   ]
  },
  {
   "cell_type": "code",
   "execution_count": 5,
   "metadata": {},
   "outputs": [
    {
     "name": "stderr",
     "output_type": "stream",
     "text": [
      "C:\\Users\\USER\\AppData\\Local\\Temp\\ipykernel_18132\\2870071854.py:3: LangChainDeprecationWarning: The class `Chroma` was deprecated in LangChain 0.2.9 and will be removed in 1.0. An updated version of the class exists in the :class:`~langchain-chroma package and should be used instead. To use it run `pip install -U :class:`~langchain-chroma` and import as `from :class:`~langchain_chroma import Chroma``.\n",
      "  vector_store = Chroma(\n"
     ]
    },
    {
     "data": {
      "text/plain": [
       "['70abaa62-ed25-4dee-9fa8-6d0273abb9f8',\n",
       " '3f07e149-4559-4094-81aa-c211a98ea1d2',\n",
       " '247cba95-e823-4f26-aae1-bfb6c4a3f83f',\n",
       " '09df8d72-eeab-4bc0-848a-733c41276162',\n",
       " 'c6e72f85-9f3c-436f-8f6c-dc903d31de4d',\n",
       " 'c70a427b-93fd-43ca-b170-b8c5102071a5',\n",
       " '0d1c491f-6147-47a1-a6ac-099b3917cb0f',\n",
       " 'cd828428-0b05-436c-a64a-3554ef630b32',\n",
       " 'af13b0ba-3e37-48e9-be7a-0570d7f0359b',\n",
       " '65e5c0fc-dfb1-4dd9-8a28-be60955264ae',\n",
       " '1e7daff4-a9f0-4ba6-b0c1-acd686a0f894',\n",
       " '5027440a-a498-4c04-bcaf-54a4175b3bdc',\n",
       " '81e2274d-395d-4173-b2d4-77202545ca51']"
      ]
     },
     "execution_count": 5,
     "metadata": {},
     "output_type": "execute_result"
    }
   ],
   "source": [
    "embedding_model = OpenAIEmbeddings()\n",
    "\n",
    "vector_store = Chroma(\n",
    "    embedding_function=embedding_model,\n",
    "    persist_directory='./chroma_db'\n",
    ")\n",
    "\n",
    "documents = [Document(page_content=item[\"question\"]+\" \"+item[\"answer\"]) for item in faq_data]\n",
    "vector_store.add_documents(documents)"
   ]
  },
  {
   "cell_type": "markdown",
   "metadata": {},
   "source": [
    "3. llm 설정 (모델 생성)"
   ]
  },
  {
   "cell_type": "code",
   "execution_count": 6,
   "metadata": {},
   "outputs": [],
   "source": [
    "model = ChatOpenAI(model='gpt-4o-mini', temperature=0.5)"
   ]
  },
  {
   "cell_type": "markdown",
   "metadata": {},
   "source": [
    "4. 프롬프트 및 체인 설정"
   ]
  },
  {
   "cell_type": "code",
   "execution_count": null,
   "metadata": {},
   "outputs": [],
   "source": [
    "prompt = PromptTemplate(\n",
    "    template=\"\"\"\n",
    "다음 '질문'에 대해 '문서'의 내용만을 참고하여 '답변'을 생성해 주세요.\n",
    "질문 : {question}\n",
    "문서 : {context}\n",
    "답변 : \n",
    "\"\"\",\n",
    "    input_variables=['question', 'context']\n",
    ")\n",
    "\n",
    "# prompt를 구성할 때 retriever의 검색 결과로 들어갈 input_variable은 'context'로 설정해야 함"
   ]
  },
  {
   "cell_type": "code",
   "execution_count": 8,
   "metadata": {},
   "outputs": [
    {
     "data": {
      "text/plain": [
       "VectorStoreRetriever(tags=['Chroma', 'OpenAIEmbeddings'], vectorstore=<langchain_community.vectorstores.chroma.Chroma object at 0x000001F1F068E970>, search_kwargs={})"
      ]
     },
     "execution_count": 8,
     "metadata": {},
     "output_type": "execute_result"
    }
   ],
   "source": [
    "retriever = vector_store.as_retriever()\n",
    "retriever"
   ]
  },
  {
   "cell_type": "code",
   "execution_count": 9,
   "metadata": {},
   "outputs": [],
   "source": [
    "qa_chain = RetrievalQA.from_chain_type(\n",
    "    llm=model,\n",
    "    retriever=retriever,\n",
    "    chain_type=\"stuff\",\n",
    "    chain_type_kwargs={\"prompt\": prompt}\n",
    ")"
   ]
  },
  {
   "cell_type": "markdown",
   "metadata": {},
   "source": [
    "5. 사용"
   ]
  },
  {
   "cell_type": "code",
   "execution_count": 10,
   "metadata": {},
   "outputs": [
    {
     "name": "stderr",
     "output_type": "stream",
     "text": [
      "C:\\Users\\USER\\AppData\\Local\\Temp\\ipykernel_18132\\834878008.py:1: LangChainDeprecationWarning: The method `Chain.run` was deprecated in langchain 0.1.0 and will be removed in 1.0. Use :meth:`~invoke` instead.\n",
      "  qa_chain.run('배송 얼마나 걸려?')\n"
     ]
    },
    {
     "data": {
      "text/plain": [
       "'배송은 일반적으로 2~5일 정도 소요되며, 지역에 따라 다를 수 있습니다.'"
      ]
     },
     "execution_count": 10,
     "metadata": {},
     "output_type": "execute_result"
    }
   ],
   "source": [
    "qa_chain.run('배송 얼마나 걸려?')"
   ]
  },
  {
   "cell_type": "code",
   "execution_count": 11,
   "metadata": {},
   "outputs": [
    {
     "data": {
      "text/plain": [
       "'상품이 출고되지 않은 상태라면 주문 취소가 가능합니다.'"
      ]
     },
     "execution_count": 11,
     "metadata": {},
     "output_type": "execute_result"
    }
   ],
   "source": [
    "qa_chain.run('구매 취소하고 싶은데')"
   ]
  },
  {
   "cell_type": "code",
   "execution_count": 12,
   "metadata": {},
   "outputs": [
    {
     "data": {
      "text/plain": [
       "'구매 후 영수증은 주문 내역에서 전자 영수증을 다운로드하여 받을 수 있습니다.'"
      ]
     },
     "execution_count": 12,
     "metadata": {},
     "output_type": "execute_result"
    }
   ],
   "source": [
    "qa_chain.run('구매 영수증 좀 줘')"
   ]
  }
 ],
 "metadata": {
  "kernelspec": {
   "display_name": "vectordb_env",
   "language": "python",
   "name": "python3"
  },
  "language_info": {
   "codemirror_mode": {
    "name": "ipython",
    "version": 3
   },
   "file_extension": ".py",
   "mimetype": "text/x-python",
   "name": "python",
   "nbconvert_exporter": "python",
   "pygments_lexer": "ipython3",
   "version": "3.9.21"
  }
 },
 "nbformat": 4,
 "nbformat_minor": 2
}
