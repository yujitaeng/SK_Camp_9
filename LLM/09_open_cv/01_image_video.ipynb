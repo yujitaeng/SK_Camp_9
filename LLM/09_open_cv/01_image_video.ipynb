{
 "cells": [
  {
   "cell_type": "markdown",
   "metadata": {},
   "source": [
    "# OpenCV\n",
    "- 오픈소스 컴퓨터 비전 라이브러리\n",
    "\n",
    "**주요 기능**\n",
    "1. 이미지 처리\n",
    "2. 비디오 분석\n",
    "3. 컴퓨터 비전 알고리즘\n",
    "4. 딥러닝 통합"
   ]
  },
  {
   "cell_type": "code",
   "execution_count": 1,
   "metadata": {},
   "outputs": [
    {
     "name": "stdout",
     "output_type": "stream",
     "text": [
      "Collecting opencv-python\n",
      "  Downloading opencv_python-4.11.0.86-cp37-abi3-win_amd64.whl.metadata (20 kB)\n",
      "Requirement already satisfied: numpy>=1.17.0 in c:\\users\\playdata\\anaconda3\\envs\\vectordb_env\\lib\\site-packages (from opencv-python) (1.26.4)\n",
      "Downloading opencv_python-4.11.0.86-cp37-abi3-win_amd64.whl (39.5 MB)\n",
      "   ---------------------------------------- 0.0/39.5 MB ? eta -:--:--\n",
      "   - -------------------------------------- 1.8/39.5 MB 11.2 MB/s eta 0:00:04\n",
      "   --- ------------------------------------ 3.7/39.5 MB 9.1 MB/s eta 0:00:04\n",
      "   ----- ---------------------------------- 5.0/39.5 MB 10.8 MB/s eta 0:00:04\n",
      "   ----- ---------------------------------- 5.5/39.5 MB 8.0 MB/s eta 0:00:05\n",
      "   ----- ---------------------------------- 5.8/39.5 MB 5.6 MB/s eta 0:00:07\n",
      "   ----- ---------------------------------- 5.8/39.5 MB 5.6 MB/s eta 0:00:07\n",
      "   ------ --------------------------------- 6.0/39.5 MB 4.3 MB/s eta 0:00:08\n",
      "   ------ --------------------------------- 6.3/39.5 MB 3.9 MB/s eta 0:00:09\n",
      "   ------- -------------------------------- 7.1/39.5 MB 3.8 MB/s eta 0:00:09\n",
      "   -------- ------------------------------- 8.1/39.5 MB 3.8 MB/s eta 0:00:09\n",
      "   --------- ------------------------------ 9.2/39.5 MB 4.0 MB/s eta 0:00:08\n",
      "   --------- ------------------------------ 9.2/39.5 MB 4.0 MB/s eta 0:00:08\n",
      "   --------- ------------------------------ 9.4/39.5 MB 3.5 MB/s eta 0:00:09\n",
      "   ---------- ----------------------------- 10.5/39.5 MB 3.5 MB/s eta 0:00:09\n",
      "   ----------- ---------------------------- 11.5/39.5 MB 3.6 MB/s eta 0:00:08\n",
      "   ------------ --------------------------- 12.3/39.5 MB 3.6 MB/s eta 0:00:08\n",
      "   ------------- -------------------------- 13.1/39.5 MB 3.6 MB/s eta 0:00:08\n",
      "   -------------- ------------------------- 13.9/39.5 MB 3.6 MB/s eta 0:00:08\n",
      "   --------------- ------------------------ 14.9/39.5 MB 3.7 MB/s eta 0:00:07\n",
      "   ---------------- ----------------------- 16.5/39.5 MB 3.9 MB/s eta 0:00:06\n",
      "   ----------------- ---------------------- 17.6/39.5 MB 3.9 MB/s eta 0:00:06\n",
      "   ------------------ --------------------- 18.4/39.5 MB 3.9 MB/s eta 0:00:06\n",
      "   ------------------ --------------------- 18.6/39.5 MB 3.8 MB/s eta 0:00:06\n",
      "   -------------------- ------------------- 19.9/39.5 MB 3.9 MB/s eta 0:00:06\n",
      "   --------------------- ------------------ 21.0/39.5 MB 4.0 MB/s eta 0:00:05\n",
      "   ---------------------- ----------------- 22.3/39.5 MB 4.0 MB/s eta 0:00:05\n",
      "   ----------------------- ---------------- 22.8/39.5 MB 4.0 MB/s eta 0:00:05\n",
      "   ----------------------- ---------------- 23.3/39.5 MB 4.0 MB/s eta 0:00:05\n",
      "   ------------------------ --------------- 24.6/39.5 MB 4.0 MB/s eta 0:00:04\n",
      "   ------------------------- -------------- 25.4/39.5 MB 4.0 MB/s eta 0:00:04\n",
      "   -------------------------- ------------- 26.0/39.5 MB 4.0 MB/s eta 0:00:04\n",
      "   --------------------------- ------------ 27.0/39.5 MB 4.0 MB/s eta 0:00:04\n",
      "   ---------------------------- ----------- 27.8/39.5 MB 4.0 MB/s eta 0:00:03\n",
      "   ----------------------------- ---------- 28.8/39.5 MB 4.0 MB/s eta 0:00:03\n",
      "   ------------------------------ --------- 29.9/39.5 MB 4.0 MB/s eta 0:00:03\n",
      "   ------------------------------- -------- 30.9/39.5 MB 4.0 MB/s eta 0:00:03\n",
      "   ------------------------------- -------- 31.5/39.5 MB 4.0 MB/s eta 0:00:03\n",
      "   -------------------------------- ------- 32.2/39.5 MB 4.0 MB/s eta 0:00:02\n",
      "   --------------------------------- ------ 32.8/39.5 MB 4.0 MB/s eta 0:00:02\n",
      "   --------------------------------- ------ 33.3/39.5 MB 3.9 MB/s eta 0:00:02\n",
      "   --------------------------------- ------ 33.6/39.5 MB 3.9 MB/s eta 0:00:02\n",
      "   ---------------------------------- ----- 33.8/39.5 MB 3.8 MB/s eta 0:00:02\n",
      "   ---------------------------------- ----- 34.3/39.5 MB 3.8 MB/s eta 0:00:02\n",
      "   ----------------------------------- ---- 34.6/39.5 MB 3.7 MB/s eta 0:00:02\n",
      "   ----------------------------------- ---- 35.1/39.5 MB 3.7 MB/s eta 0:00:02\n",
      "   ----------------------------------- ---- 35.4/39.5 MB 3.6 MB/s eta 0:00:02\n",
      "   ------------------------------------ --- 35.7/39.5 MB 3.6 MB/s eta 0:00:02\n",
      "   ------------------------------------ --- 35.9/39.5 MB 3.5 MB/s eta 0:00:02\n",
      "   ------------------------------------ --- 36.2/39.5 MB 3.5 MB/s eta 0:00:01\n",
      "   ------------------------------------ --- 36.4/39.5 MB 3.4 MB/s eta 0:00:01\n",
      "   ------------------------------------ --- 36.4/39.5 MB 3.4 MB/s eta 0:00:01\n",
      "   ------------------------------------- -- 36.7/39.5 MB 3.4 MB/s eta 0:00:01\n",
      "   ------------------------------------- -- 36.7/39.5 MB 3.4 MB/s eta 0:00:01\n",
      "   ------------------------------------- -- 37.2/39.5 MB 3.2 MB/s eta 0:00:01\n",
      "   ------------------------------------- -- 37.5/39.5 MB 3.2 MB/s eta 0:00:01\n",
      "   ------------------------------------- -- 37.5/39.5 MB 3.2 MB/s eta 0:00:01\n",
      "   -------------------------------------- - 37.7/39.5 MB 3.1 MB/s eta 0:00:01\n",
      "   -------------------------------------- - 38.3/39.5 MB 3.1 MB/s eta 0:00:01\n",
      "   ---------------------------------------  38.5/39.5 MB 3.1 MB/s eta 0:00:01\n",
      "   ---------------------------------------  38.8/39.5 MB 3.1 MB/s eta 0:00:01\n",
      "   ---------------------------------------  39.3/39.5 MB 3.0 MB/s eta 0:00:01\n",
      "   ---------------------------------------- 39.5/39.5 MB 3.0 MB/s eta 0:00:00\n",
      "Installing collected packages: opencv-python\n",
      "Successfully installed opencv-python-4.11.0.86\n"
     ]
    }
   ],
   "source": [
    "# 환경 설정\n",
    "!pip install opencv-python"
   ]
  },
  {
   "cell_type": "markdown",
   "metadata": {},
   "source": [
    "### 1. 이미지처리"
   ]
  },
  {
   "cell_type": "code",
   "execution_count": null,
   "metadata": {},
   "outputs": [],
   "source": [
    "import cv2\n",
    "\n",
    "# 이미지 읽기\n",
    "img = cv2.imread('dog.jpg')\n",
    "img = cv2.imread('dog.jpg', cv2.IMREAD_COLOR)        # 기본값\n",
    "img = cv2.imread('dog.jpg', cv2.IMREAD_GRAYSCALE)    # 흑백\n",
    "\n",
    "\n",
    "cv2.imshow('My image', img)\n",
    "cv2.waitKey(0)\n",
    "cv2.destroyAllWindows()"
   ]
  },
  {
   "cell_type": "code",
   "execution_count": 2,
   "metadata": {},
   "outputs": [
    {
     "name": "stdout",
     "output_type": "stream",
     "text": [
      "<class 'numpy.ndarray'>\n",
      "(183, 275, 3)\n"
     ]
    }
   ],
   "source": [
    "print(type(img))\n",
    "print(img.shape)"
   ]
  },
  {
   "cell_type": "markdown",
   "metadata": {},
   "source": [
    "### 2. 동영상 처리"
   ]
  },
  {
   "cell_type": "code",
   "execution_count": null,
   "metadata": {},
   "outputs": [],
   "source": [
    "import cv2\n",
    "\n",
    "cap = cv2.VideoCapture('video.mp4')\n",
    "\n",
    "frame_count = cap.get(cv2.CAP_PROP_FRAME_COUNT)\n",
    "fps = cap.get(cv2.CAP_PROP_FPS)\n",
    "width = cap.get(cv2.CAP_PROP_FRAME_WIDTH)\n",
    "height = cap.get(cv2.CAP_PROP_FRAME_HEIGHT)\n",
    "print(frame_count, fps, width, height)\n",
    "print(type(cap))\n",
    "\n",
    "while cap.isOpened():\n",
    "    ret, frame = cap.read()\n",
    "\n",
    "    if not ret:\n",
    "        break\n",
    "\n",
    "    cv2.imshow('My Video', frame)\n",
    "\n",
    "    if cv2.waitKey(int(1000/fps)) == ord('q'):\n",
    "        break\n",
    "\n",
    "cap.release()\n",
    "cv2.destroyAllWindows()\n"
   ]
  },
  {
   "cell_type": "markdown",
   "metadata": {},
   "source": [
    "### 3. 웹캠 영상 처리"
   ]
  },
  {
   "cell_type": "code",
   "execution_count": null,
   "metadata": {},
   "outputs": [],
   "source": [
    "import cv2\n",
    "\n",
    "cap = cv2.VideoCapture(0)\n",
    "\n",
    "if not cap.isOpened():\n",
    "    pritn('Error: 웹캠을 열 수 없습니다.')\n",
    "\n",
    "while True:\n",
    "    ret, frame = cap.read()\n",
    "    if not ret:\n",
    "        break\n",
    "\n",
    "    cv2.imshow('My Webcam', frame)\n",
    "    if cv2.waitKey(1) == ord('q'):\n",
    "        break\n",
    "\n",
    "cap.release()\n",
    "cv2.destroyAllWindows()"
   ]
  }
 ],
 "metadata": {
  "kernelspec": {
   "display_name": "vectordb_env",
   "language": "python",
   "name": "python3"
  },
  "language_info": {
   "codemirror_mode": {
    "name": "ipython",
    "version": 3
   },
   "file_extension": ".py",
   "mimetype": "text/x-python",
   "name": "python",
   "nbconvert_exporter": "python",
   "pygments_lexer": "ipython3",
   "version": "3.9.21"
  }
 },
 "nbformat": 4,
 "nbformat_minor": 2
}
