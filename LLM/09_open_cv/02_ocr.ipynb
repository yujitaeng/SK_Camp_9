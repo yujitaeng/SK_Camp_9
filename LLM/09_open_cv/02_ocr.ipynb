{
 "cells": [
  {
   "cell_type": "markdown",
   "metadata": {},
   "source": [
    "# OCR (Optical Character Recognition)"
   ]
  },
  {
   "cell_type": "code",
   "execution_count": 1,
   "metadata": {},
   "outputs": [
    {
     "name": "stdout",
     "output_type": "stream",
     "text": [
      "Requirement already satisfied: easyocr in c:\\users\\playdata\\appdata\\roaming\\python\\python39\\site-packages (1.7.2)\n",
      "Requirement already satisfied: torch in c:\\users\\playdata\\anaconda3\\envs\\vectordb_env\\lib\\site-packages (from easyocr) (2.6.0)\n",
      "Requirement already satisfied: torchvision>=0.5 in c:\\users\\playdata\\appdata\\roaming\\python\\python39\\site-packages (from easyocr) (0.21.0)\n",
      "Requirement already satisfied: opencv-python-headless in c:\\users\\playdata\\appdata\\roaming\\python\\python39\\site-packages (from easyocr) (4.11.0.86)\n",
      "Requirement already satisfied: scipy in c:\\users\\playdata\\anaconda3\\envs\\vectordb_env\\lib\\site-packages (from easyocr) (1.13.1)\n",
      "Requirement already satisfied: numpy in c:\\users\\playdata\\anaconda3\\envs\\vectordb_env\\lib\\site-packages (from easyocr) (1.26.4)\n",
      "Requirement already satisfied: Pillow in c:\\users\\playdata\\anaconda3\\envs\\vectordb_env\\lib\\site-packages (from easyocr) (11.1.0)\n",
      "Requirement already satisfied: scikit-image in c:\\users\\playdata\\appdata\\roaming\\python\\python39\\site-packages (from easyocr) (0.24.0)\n",
      "Requirement already satisfied: python-bidi in c:\\users\\playdata\\appdata\\roaming\\python\\python39\\site-packages (from easyocr) (0.6.6)\n",
      "Requirement already satisfied: PyYAML in c:\\users\\playdata\\anaconda3\\envs\\vectordb_env\\lib\\site-packages (from easyocr) (6.0.2)\n",
      "Requirement already satisfied: Shapely in c:\\users\\playdata\\appdata\\roaming\\python\\python39\\site-packages (from easyocr) (2.0.7)\n",
      "Requirement already satisfied: pyclipper in c:\\users\\playdata\\appdata\\roaming\\python\\python39\\site-packages (from easyocr) (1.3.0.post6)\n",
      "Requirement already satisfied: ninja in c:\\users\\playdata\\appdata\\roaming\\python\\python39\\site-packages (from easyocr) (1.11.1.4)\n",
      "Requirement already satisfied: filelock in c:\\users\\playdata\\anaconda3\\envs\\vectordb_env\\lib\\site-packages (from torch->easyocr) (3.17.0)\n",
      "Requirement already satisfied: typing-extensions>=4.10.0 in c:\\users\\playdata\\anaconda3\\envs\\vectordb_env\\lib\\site-packages (from torch->easyocr) (4.12.2)\n",
      "Requirement already satisfied: networkx in c:\\users\\playdata\\anaconda3\\envs\\vectordb_env\\lib\\site-packages (from torch->easyocr) (3.2.1)\n",
      "Requirement already satisfied: jinja2 in c:\\users\\playdata\\anaconda3\\envs\\vectordb_env\\lib\\site-packages (from torch->easyocr) (3.1.6)\n",
      "Requirement already satisfied: fsspec in c:\\users\\playdata\\anaconda3\\envs\\vectordb_env\\lib\\site-packages (from torch->easyocr) (2024.12.0)\n",
      "Requirement already satisfied: sympy==1.13.1 in c:\\users\\playdata\\anaconda3\\envs\\vectordb_env\\lib\\site-packages (from torch->easyocr) (1.13.1)\n",
      "Requirement already satisfied: mpmath<1.4,>=1.1.0 in c:\\users\\playdata\\anaconda3\\envs\\vectordb_env\\lib\\site-packages (from sympy==1.13.1->torch->easyocr) (1.3.0)\n",
      "Requirement already satisfied: imageio>=2.33 in c:\\users\\playdata\\appdata\\roaming\\python\\python39\\site-packages (from scikit-image->easyocr) (2.37.0)\n",
      "Requirement already satisfied: tifffile>=2022.8.12 in c:\\users\\playdata\\appdata\\roaming\\python\\python39\\site-packages (from scikit-image->easyocr) (2024.8.30)\n",
      "Requirement already satisfied: packaging>=21 in c:\\users\\playdata\\anaconda3\\envs\\vectordb_env\\lib\\site-packages (from scikit-image->easyocr) (24.2)\n",
      "Requirement already satisfied: lazy-loader>=0.4 in c:\\users\\playdata\\appdata\\roaming\\python\\python39\\site-packages (from scikit-image->easyocr) (0.4)\n",
      "Requirement already satisfied: MarkupSafe>=2.0 in c:\\users\\playdata\\anaconda3\\envs\\vectordb_env\\lib\\site-packages (from jinja2->torch->easyocr) (3.0.2)\n"
     ]
    }
   ],
   "source": [
    "!pip install easyocr --user"
   ]
  },
  {
   "cell_type": "markdown",
   "metadata": {},
   "source": [
    "### 이미지 -> 텍스트 추출"
   ]
  },
  {
   "cell_type": "code",
   "execution_count": 3,
   "metadata": {},
   "outputs": [
    {
     "name": "stderr",
     "output_type": "stream",
     "text": [
      "Neither CUDA nor MPS are available - defaulting to CPU. Note: This module is much faster with a GPU.\n"
     ]
    },
    {
     "name": "stdout",
     "output_type": "stream",
     "text": [
      "서시\n",
      "운동주\n",
      "죽는 날까지 하늘올 우러러\n",
      "한 점 부끄럽이 없기름 .\n",
      "잎새에 이는 바람에도\n",
      "나는 괴로워있다 .\n",
      "벌올 노래하는 마음으로\n",
      "모든 죽어 가능 것올 사랑해야지\n",
      "그리고 나에게 주어진 길을\n",
      "걸어가야켓다 .\n",
      "오늘 밤에도 별이 바람에 스치운다 .\n"
     ]
    }
   ],
   "source": [
    "import easyocr\n",
    "\n",
    "reader = easyocr.Reader(['ko', 'en'])\n",
    "\n",
    "result = reader.readtext('poem.png')\n",
    "\n",
    "for box, text, conf in result:\n",
    "    print(text)"
   ]
  },
  {
   "cell_type": "markdown",
   "metadata": {},
   "source": [
    "### 이미지의 텍스트 -> 번역 "
   ]
  },
  {
   "cell_type": "code",
   "execution_count": null,
   "metadata": {},
   "outputs": [
    {
     "name": "stdout",
     "output_type": "stream",
     "text": [
      "Collecting paddlepaddle\n",
      "  Downloading paddlepaddle-2.6.2-cp39-cp39-win_amd64.whl.metadata (8.8 kB)\n",
      "Collecting paddleocr\n",
      "  Downloading paddleocr-2.10.0-py3-none-any.whl.metadata (12 kB)\n",
      "Requirement already satisfied: scikit-learn in c:\\users\\playdata\\anaconda3\\envs\\vectordb_env\\lib\\site-packages (1.6.1)\n",
      "Collecting translate\n",
      "  Downloading translate-3.6.1-py2.py3-none-any.whl.metadata (7.7 kB)\n",
      "Requirement already satisfied: httpx in c:\\users\\playdata\\anaconda3\\envs\\vectordb_env\\lib\\site-packages (from paddlepaddle) (0.28.1)\n",
      "Requirement already satisfied: numpy>=1.13 in c:\\users\\playdata\\anaconda3\\envs\\vectordb_env\\lib\\site-packages (from paddlepaddle) (1.26.4)\n",
      "Requirement already satisfied: Pillow in c:\\users\\playdata\\anaconda3\\envs\\vectordb_env\\lib\\site-packages (from paddlepaddle) (11.1.0)\n",
      "Requirement already satisfied: decorator in c:\\users\\playdata\\anaconda3\\envs\\vectordb_env\\lib\\site-packages (from paddlepaddle) (5.2.1)\n",
      "Collecting astor (from paddlepaddle)\n",
      "  Downloading astor-0.8.1-py2.py3-none-any.whl.metadata (4.2 kB)\n",
      "Collecting opt-einsum==3.3.0 (from paddlepaddle)\n",
      "  Downloading opt_einsum-3.3.0-py3-none-any.whl.metadata (6.5 kB)\n",
      "Collecting protobuf<=3.20.2,>=3.1.0 (from paddlepaddle)\n",
      "  Downloading protobuf-3.20.2-cp39-cp39-win_amd64.whl.metadata (699 bytes)\n",
      "Requirement already satisfied: shapely in c:\\users\\playdata\\appdata\\roaming\\python\\python39\\site-packages (from paddleocr) (2.0.7)\n",
      "Requirement already satisfied: scikit-image in c:\\users\\playdata\\appdata\\roaming\\python\\python39\\site-packages (from paddleocr) (0.24.0)\n",
      "Requirement already satisfied: pyclipper in c:\\users\\playdata\\appdata\\roaming\\python\\python39\\site-packages (from paddleocr) (1.3.0.post6)\n",
      "Collecting lmdb (from paddleocr)\n",
      "  Downloading lmdb-1.6.2-cp39-cp39-win_amd64.whl.metadata (1.2 kB)\n",
      "Requirement already satisfied: tqdm in c:\\users\\playdata\\anaconda3\\envs\\vectordb_env\\lib\\site-packages (from paddleocr) (4.67.1)\n",
      "Collecting rapidfuzz (from paddleocr)\n",
      "  Downloading rapidfuzz-3.12.2-cp39-cp39-win_amd64.whl.metadata (12 kB)\n",
      "Requirement already satisfied: opencv-python in c:\\users\\playdata\\anaconda3\\envs\\vectordb_env\\lib\\site-packages (from paddleocr) (4.11.0.86)\n",
      "Collecting opencv-contrib-python (from paddleocr)\n",
      "  Downloading opencv_contrib_python-4.11.0.86-cp37-abi3-win_amd64.whl.metadata (20 kB)\n",
      "Collecting cython (from paddleocr)\n",
      "  Downloading Cython-3.0.12-cp39-cp39-win_amd64.whl.metadata (3.6 kB)\n",
      "Requirement already satisfied: pyyaml in c:\\users\\playdata\\anaconda3\\envs\\vectordb_env\\lib\\site-packages (from paddleocr) (6.0.2)\n",
      "Collecting python-docx (from paddleocr)\n",
      "  Downloading python_docx-1.1.2-py3-none-any.whl.metadata (2.0 kB)\n",
      "Requirement already satisfied: beautifulsoup4 in c:\\users\\playdata\\anaconda3\\envs\\vectordb_env\\lib\\site-packages (from paddleocr) (4.13.3)\n",
      "Collecting fonttools>=4.24.0 (from paddleocr)\n",
      "  Downloading fonttools-4.56.0-cp39-cp39-win_amd64.whl.metadata (103 kB)\n",
      "Collecting fire>=0.3.0 (from paddleocr)\n",
      "  Downloading fire-0.7.0.tar.gz (87 kB)\n",
      "  Preparing metadata (setup.py): started\n",
      "  Preparing metadata (setup.py): finished with status 'done'\n",
      "Requirement already satisfied: requests in c:\\users\\playdata\\anaconda3\\envs\\vectordb_env\\lib\\site-packages (from paddleocr) (2.32.3)\n",
      "Collecting albumentations (from paddleocr)\n",
      "  Downloading albumentations-2.0.5-py3-none-any.whl.metadata (41 kB)\n",
      "Collecting albucore (from paddleocr)\n",
      "  Downloading albucore-0.0.24-py3-none-any.whl.metadata (5.3 kB)\n",
      "Requirement already satisfied: scipy>=1.6.0 in c:\\users\\playdata\\anaconda3\\envs\\vectordb_env\\lib\\site-packages (from scikit-learn) (1.13.1)\n",
      "Requirement already satisfied: joblib>=1.2.0 in c:\\users\\playdata\\anaconda3\\envs\\vectordb_env\\lib\\site-packages (from scikit-learn) (1.4.2)\n",
      "Requirement already satisfied: threadpoolctl>=3.1.0 in c:\\users\\playdata\\anaconda3\\envs\\vectordb_env\\lib\\site-packages (from scikit-learn) (3.5.0)\n",
      "Requirement already satisfied: click in c:\\users\\playdata\\anaconda3\\envs\\vectordb_env\\lib\\site-packages (from translate) (8.1.8)\n",
      "Collecting lxml (from translate)\n",
      "  Downloading lxml-5.3.1-cp39-cp39-win_amd64.whl.metadata (3.8 kB)\n",
      "Collecting libretranslatepy==2.1.1 (from translate)\n",
      "  Downloading libretranslatepy-2.1.1-py3-none-any.whl.metadata (233 bytes)\n",
      "Collecting termcolor (from fire>=0.3.0->paddleocr)\n",
      "  Using cached termcolor-2.5.0-py3-none-any.whl.metadata (6.1 kB)\n",
      "Requirement already satisfied: typing-extensions>=4.9.0 in c:\\users\\playdata\\anaconda3\\envs\\vectordb_env\\lib\\site-packages (from albucore->paddleocr) (4.12.2)\n",
      "Collecting stringzilla>=3.10.4 (from albucore->paddleocr)\n",
      "  Downloading stringzilla-3.12.3-cp39-cp39-win_amd64.whl.metadata (81 kB)\n",
      "Collecting simsimd>=5.9.2 (from albucore->paddleocr)\n",
      "  Downloading simsimd-6.2.1-cp39-cp39-win_amd64.whl.metadata (67 kB)\n",
      "Requirement already satisfied: opencv-python-headless>=4.9.0.80 in c:\\users\\playdata\\appdata\\roaming\\python\\python39\\site-packages (from albucore->paddleocr) (4.11.0.86)\n",
      "Requirement already satisfied: pydantic>=2.9.2 in c:\\users\\playdata\\anaconda3\\envs\\vectordb_env\\lib\\site-packages (from albumentations->paddleocr) (2.10.6)\n",
      "Collecting albucore (from paddleocr)\n",
      "  Downloading albucore-0.0.23-py3-none-any.whl.metadata (5.3 kB)\n",
      "Collecting eval-type-backport (from albumentations->paddleocr)\n",
      "  Downloading eval_type_backport-0.2.2-py3-none-any.whl.metadata (2.2 kB)\n",
      "Requirement already satisfied: soupsieve>1.2 in c:\\users\\playdata\\anaconda3\\envs\\vectordb_env\\lib\\site-packages (from beautifulsoup4->paddleocr) (2.6)\n",
      "Requirement already satisfied: colorama in c:\\users\\playdata\\anaconda3\\envs\\vectordb_env\\lib\\site-packages (from click->translate) (0.4.6)\n",
      "Requirement already satisfied: anyio in c:\\users\\playdata\\anaconda3\\envs\\vectordb_env\\lib\\site-packages (from httpx->paddlepaddle) (4.8.0)\n",
      "Requirement already satisfied: certifi in c:\\users\\playdata\\anaconda3\\envs\\vectordb_env\\lib\\site-packages (from httpx->paddlepaddle) (2025.1.31)\n",
      "Requirement already satisfied: httpcore==1.* in c:\\users\\playdata\\anaconda3\\envs\\vectordb_env\\lib\\site-packages (from httpx->paddlepaddle) (1.0.7)\n",
      "Requirement already satisfied: idna in c:\\users\\playdata\\anaconda3\\envs\\vectordb_env\\lib\\site-packages (from httpx->paddlepaddle) (3.10)\n",
      "Requirement already satisfied: h11<0.15,>=0.13 in c:\\users\\playdata\\anaconda3\\envs\\vectordb_env\\lib\\site-packages (from httpcore==1.*->httpx->paddlepaddle) (0.14.0)\n",
      "Requirement already satisfied: charset-normalizer<4,>=2 in c:\\users\\playdata\\anaconda3\\envs\\vectordb_env\\lib\\site-packages (from requests->paddleocr) (3.4.1)\n",
      "Requirement already satisfied: urllib3<3,>=1.21.1 in c:\\users\\playdata\\anaconda3\\envs\\vectordb_env\\lib\\site-packages (from requests->paddleocr) (2.3.0)\n",
      "Requirement already satisfied: networkx>=2.8 in c:\\users\\playdata\\anaconda3\\envs\\vectordb_env\\lib\\site-packages (from scikit-image->paddleocr) (3.2.1)\n",
      "Requirement already satisfied: imageio>=2.33 in c:\\users\\playdata\\appdata\\roaming\\python\\python39\\site-packages (from scikit-image->paddleocr) (2.37.0)\n",
      "Requirement already satisfied: tifffile>=2022.8.12 in c:\\users\\playdata\\appdata\\roaming\\python\\python39\\site-packages (from scikit-image->paddleocr) (2024.8.30)\n",
      "Requirement already satisfied: packaging>=21 in c:\\users\\playdata\\anaconda3\\envs\\vectordb_env\\lib\\site-packages (from scikit-image->paddleocr) (24.2)\n",
      "Requirement already satisfied: lazy-loader>=0.4 in c:\\users\\playdata\\appdata\\roaming\\python\\python39\\site-packages (from scikit-image->paddleocr) (0.4)\n",
      "Requirement already satisfied: annotated-types>=0.6.0 in c:\\users\\playdata\\anaconda3\\envs\\vectordb_env\\lib\\site-packages (from pydantic>=2.9.2->albumentations->paddleocr) (0.7.0)\n",
      "Requirement already satisfied: pydantic-core==2.27.2 in c:\\users\\playdata\\anaconda3\\envs\\vectordb_env\\lib\\site-packages (from pydantic>=2.9.2->albumentations->paddleocr) (2.27.2)\n",
      "Requirement already satisfied: exceptiongroup>=1.0.2 in c:\\users\\playdata\\anaconda3\\envs\\vectordb_env\\lib\\site-packages (from anyio->httpx->paddlepaddle) (1.2.2)\n",
      "Requirement already satisfied: sniffio>=1.1 in c:\\users\\playdata\\anaconda3\\envs\\vectordb_env\\lib\\site-packages (from anyio->httpx->paddlepaddle) (1.3.1)\n",
      "Downloading paddlepaddle-2.6.2-cp39-cp39-win_amd64.whl (81.0 MB)\n",
      "   ---------------------------------------- 0.0/81.0 MB ? eta -:--:--\n",
      "   -- ------------------------------------- 4.2/81.0 MB 20.9 MB/s eta 0:00:04\n",
      "   ---- ----------------------------------- 9.4/81.0 MB 22.6 MB/s eta 0:00:04\n",
      "   ------- -------------------------------- 14.9/81.0 MB 24.1 MB/s eta 0:00:03\n",
      "   --------- ------------------------------ 18.6/81.0 MB 22.2 MB/s eta 0:00:03\n",
      "   ----------- ---------------------------- 23.1/81.0 MB 21.8 MB/s eta 0:00:03\n",
      "   ------------- -------------------------- 27.8/81.0 MB 22.0 MB/s eta 0:00:03\n",
      "   --------------- ------------------------ 30.7/81.0 MB 20.9 MB/s eta 0:00:03\n",
      "   ----------------- ---------------------- 35.9/81.0 MB 21.3 MB/s eta 0:00:03\n",
      "   ------------------- -------------------- 39.8/81.0 MB 21.3 MB/s eta 0:00:02\n",
      "   ---------------------- ----------------- 45.1/81.0 MB 21.4 MB/s eta 0:00:02\n",
      "   ----------------------- ---------------- 47.2/81.0 MB 21.4 MB/s eta 0:00:02\n",
      "   ------------------------ --------------- 48.8/81.0 MB 19.3 MB/s eta 0:00:02\n",
      "   ------------------------- -------------- 52.4/81.0 MB 19.2 MB/s eta 0:00:02\n",
      "   --------------------------- ------------ 55.6/81.0 MB 19.1 MB/s eta 0:00:02\n",
      "   ----------------------------- ---------- 59.5/81.0 MB 18.8 MB/s eta 0:00:02\n",
      "   ------------------------------ --------- 62.4/81.0 MB 18.6 MB/s eta 0:00:02\n",
      "   ------------------------------- -------- 64.5/81.0 MB 18.0 MB/s eta 0:00:01\n",
      "   --------------------------------- ------ 67.1/81.0 MB 17.6 MB/s eta 0:00:01\n",
      "   --------------------------------- ------ 68.4/81.0 MB 17.3 MB/s eta 0:00:01\n",
      "   ----------------------------------- ---- 71.0/81.0 MB 16.8 MB/s eta 0:00:01\n",
      "   ------------------------------------ --- 73.7/81.0 MB 16.5 MB/s eta 0:00:01\n",
      "   ------------------------------------ --- 74.7/81.0 MB 16.0 MB/s eta 0:00:01\n",
      "   ------------------------------------- -- 76.8/81.0 MB 15.8 MB/s eta 0:00:01\n",
      "   ---------------------------------------  79.7/81.0 MB 15.6 MB/s eta 0:00:01\n",
      "   ---------------------------------------- 81.0/81.0 MB 15.2 MB/s eta 0:00:00\n",
      "Downloading opt_einsum-3.3.0-py3-none-any.whl (65 kB)\n",
      "Downloading paddleocr-2.10.0-py3-none-any.whl (2.4 MB)\n",
      "   ---------------------------------------- 0.0/2.4 MB ? eta -:--:--\n",
      "   ---------------------------------------- 2.4/2.4 MB 13.5 MB/s eta 0:00:00\n",
      "Downloading translate-3.6.1-py2.py3-none-any.whl (12 kB)\n",
      "Downloading libretranslatepy-2.1.1-py3-none-any.whl (3.2 kB)\n",
      "Downloading fonttools-4.56.0-cp39-cp39-win_amd64.whl (2.2 MB)\n",
      "   ---------------------------------------- 0.0/2.2 MB ? eta -:--:--\n",
      "   -------------------------------------- - 2.1/2.2 MB 11.8 MB/s eta 0:00:01\n",
      "   ---------------------------------------- 2.2/2.2 MB 9.5 MB/s eta 0:00:00\n",
      "Downloading protobuf-3.20.2-cp39-cp39-win_amd64.whl (904 kB)\n",
      "   ---------------------------------------- 0.0/904.2 kB ? eta -:--:--\n",
      "   --------------------------------------- 904.2/904.2 kB 13.7 MB/s eta 0:00:00\n",
      "Downloading albumentations-2.0.5-py3-none-any.whl (290 kB)\n",
      "Downloading albucore-0.0.23-py3-none-any.whl (14 kB)\n",
      "Downloading astor-0.8.1-py2.py3-none-any.whl (27 kB)\n",
      "Downloading Cython-3.0.12-cp39-cp39-win_amd64.whl (2.8 MB)\n",
      "   ---------------------------------------- 0.0/2.8 MB ? eta -:--:--\n",
      "   ---------------------------------------- 2.8/2.8 MB 13.4 MB/s eta 0:00:00\n",
      "Downloading lmdb-1.6.2-cp39-cp39-win_amd64.whl (106 kB)\n",
      "Downloading lxml-5.3.1-cp39-cp39-win_amd64.whl (3.8 MB)\n",
      "   ---------------------------------------- 0.0/3.8 MB ? eta -:--:--\n",
      "   -------------------------------------- - 3.7/3.8 MB 16.8 MB/s eta 0:00:01\n",
      "   ---------------------------------------- 3.8/3.8 MB 15.1 MB/s eta 0:00:00\n",
      "Downloading opencv_contrib_python-4.11.0.86-cp37-abi3-win_amd64.whl (46.2 MB)\n",
      "   ---------------------------------------- 0.0/46.2 MB ? eta -:--:--\n",
      "   --- ------------------------------------ 4.5/46.2 MB 20.7 MB/s eta 0:00:03\n",
      "   ------ --------------------------------- 7.9/46.2 MB 18.7 MB/s eta 0:00:03\n",
      "   --------- ------------------------------ 10.5/46.2 MB 17.7 MB/s eta 0:00:03\n",
      "   ----------- ---------------------------- 12.8/46.2 MB 15.2 MB/s eta 0:00:03\n",
      "   ------------- -------------------------- 16.0/46.2 MB 15.3 MB/s eta 0:00:02\n",
      "   --------------- ------------------------ 18.4/46.2 MB 14.5 MB/s eta 0:00:02\n",
      "   ------------------ --------------------- 21.2/46.2 MB 14.3 MB/s eta 0:00:02\n",
      "   -------------------- ------------------- 23.3/46.2 MB 13.7 MB/s eta 0:00:02\n",
      "   ---------------------- ----------------- 25.7/46.2 MB 13.3 MB/s eta 0:00:02\n",
      "   ------------------------ --------------- 27.8/46.2 MB 13.0 MB/s eta 0:00:02\n",
      "   ------------------------- -------------- 29.6/46.2 MB 12.5 MB/s eta 0:00:02\n",
      "   --------------------------- ------------ 32.0/46.2 MB 12.4 MB/s eta 0:00:02\n",
      "   ------------------------------ --------- 34.9/46.2 MB 12.5 MB/s eta 0:00:01\n",
      "   ------------------------------- -------- 36.7/46.2 MB 12.1 MB/s eta 0:00:01\n",
      "   --------------------------------- ------ 38.5/46.2 MB 11.9 MB/s eta 0:00:01\n",
      "   ---------------------------------- ----- 40.1/46.2 MB 11.7 MB/s eta 0:00:01\n",
      "   ------------------------------------ --- 41.7/46.2 MB 11.4 MB/s eta 0:00:01\n",
      "   ------------------------------------ --- 42.5/46.2 MB 11.0 MB/s eta 0:00:01\n",
      "   ------------------------------------- -- 43.5/46.2 MB 10.7 MB/s eta 0:00:01\n",
      "   -------------------------------------- - 44.8/46.2 MB 10.4 MB/s eta 0:00:01\n",
      "   ---------------------------------------  45.9/46.2 MB 10.1 MB/s eta 0:00:01\n",
      "   ---------------------------------------- 46.2/46.2 MB 9.7 MB/s eta 0:00:00\n",
      "Downloading python_docx-1.1.2-py3-none-any.whl (244 kB)\n",
      "Downloading rapidfuzz-3.12.2-cp39-cp39-win_amd64.whl (1.6 MB)\n",
      "   ---------------------------------------- 0.0/1.6 MB ? eta -:--:--\n",
      "   ---------------------------------------- 1.6/1.6 MB 10.9 MB/s eta 0:00:00\n",
      "Downloading simsimd-6.2.1-cp39-cp39-win_amd64.whl (86 kB)\n",
      "Downloading stringzilla-3.12.3-cp39-cp39-win_amd64.whl (80 kB)\n",
      "Downloading eval_type_backport-0.2.2-py3-none-any.whl (5.8 kB)\n",
      "Using cached termcolor-2.5.0-py3-none-any.whl (7.8 kB)\n",
      "Building wheels for collected packages: fire\n",
      "  Building wheel for fire (setup.py): started\n",
      "  Building wheel for fire (setup.py): finished with status 'done'\n",
      "  Created wheel for fire: filename=fire-0.7.0-py3-none-any.whl size=114318 sha256=a201bf67a7168d7d4110273dc4d251dc51af8ba32ef01781e916f8f456d20a3f\n",
      "  Stored in directory: c:\\users\\playdata\\appdata\\local\\pip\\cache\\wheels\\3b\\ee\\ac\\319a7b7f331f61050d0d54425079b2a883b445be3c7284a4eb\n",
      "Successfully built fire\n",
      "Installing collected packages: stringzilla, simsimd, lmdb, libretranslatepy, termcolor, rapidfuzz, protobuf, opt-einsum, opencv-contrib-python, lxml, fonttools, eval-type-backport, cython, astor, translate, python-docx, fire, albucore, paddlepaddle, albumentations, paddleocr\n",
      "  Attempting uninstall: protobuf\n",
      "    Found existing installation: protobuf 5.29.3\n",
      "    Uninstalling protobuf-5.29.3:\n",
      "      Successfully uninstalled protobuf-5.29.3\n",
      "Successfully installed albucore-0.0.23 albumentations-2.0.5 astor-0.8.1 cython-3.0.12 eval-type-backport-0.2.2 fire-0.7.0 fonttools-4.56.0 libretranslatepy-2.1.1 lmdb-1.6.2 lxml-5.3.1 opencv-contrib-python-4.11.0.86 opt-einsum-3.3.0 paddleocr-2.10.0 paddlepaddle-2.6.2 protobuf-3.20.2 python-docx-1.1.2 rapidfuzz-3.12.2 simsimd-6.2.1 stringzilla-3.12.3 termcolor-2.5.0 translate-3.6.1\n"
     ]
    },
    {
     "name": "stderr",
     "output_type": "stream",
     "text": [
      "ERROR: pip's dependency resolver does not currently take into account all the packages that are installed. This behaviour is the source of the following dependency conflicts.\n",
      "opentelemetry-proto 1.30.0 requires protobuf<6.0,>=5.0, but you have protobuf 3.20.2 which is incompatible.\n"
     ]
    }
   ],
   "source": [
    "# 환경 설정\n",
    "!pip install paddlepaddle paddleocr scikit-learn translate"
   ]
  },
  {
   "cell_type": "code",
   "execution_count": 5,
   "metadata": {},
   "outputs": [],
   "source": [
    "from PIL import Image, ImageDraw\n",
    "import numpy as np\n",
    "from sklearn.cluster import DBSCAN\n",
    "from paddleocr import PaddleOCR"
   ]
  },
  {
   "cell_type": "code",
   "execution_count": 6,
   "metadata": {},
   "outputs": [],
   "source": [
    "img = Image.open('poem.png').convert('RGB')"
   ]
  },
  {
   "cell_type": "code",
   "execution_count": 7,
   "metadata": {},
   "outputs": [
    {
     "name": "stdout",
     "output_type": "stream",
     "text": [
      "download https://paddleocr.bj.bcebos.com/PP-OCRv3/multilingual/Multilingual_PP-OCRv3_det_infer.tar to C:\\Users\\Playdata/.paddleocr/whl\\det\\ml\\Multilingual_PP-OCRv3_det_infer\\Multilingual_PP-OCRv3_det_infer.tar\n"
     ]
    },
    {
     "name": "stderr",
     "output_type": "stream",
     "text": [
      "100%|██████████| 3762/3762 [00:12<00:00, 295.18it/s]\n"
     ]
    },
    {
     "name": "stdout",
     "output_type": "stream",
     "text": [
      "download https://paddleocr.bj.bcebos.com/PP-OCRv4/multilingual/korean_PP-OCRv4_rec_infer.tar to C:\\Users\\Playdata/.paddleocr/whl\\rec\\korean\\korean_PP-OCRv4_rec_infer\\korean_PP-OCRv4_rec_infer.tar\n"
     ]
    },
    {
     "name": "stderr",
     "output_type": "stream",
     "text": [
      "100%|██████████| 23810/23810 [00:10<00:00, 2302.03it/s]\n"
     ]
    },
    {
     "name": "stdout",
     "output_type": "stream",
     "text": [
      "download https://paddleocr.bj.bcebos.com/dygraph_v2.0/ch/ch_ppocr_mobile_v2.0_cls_infer.tar to C:\\Users\\Playdata/.paddleocr/whl\\cls\\ch_ppocr_mobile_v2.0_cls_infer\\ch_ppocr_mobile_v2.0_cls_infer.tar\n"
     ]
    },
    {
     "name": "stderr",
     "output_type": "stream",
     "text": [
      "100%|██████████| 2138/2138 [00:02<00:00, 927.82it/s] "
     ]
    },
    {
     "name": "stdout",
     "output_type": "stream",
     "text": [
      "[2025/03/24 10:22:06] ppocr DEBUG: Namespace(help='==SUPPRESS==', use_gpu=False, use_xpu=False, use_npu=False, use_mlu=False, use_gcu=False, ir_optim=True, use_tensorrt=False, min_subgraph_size=15, precision='fp32', gpu_mem=500, gpu_id=0, image_dir=None, page_num=0, det_algorithm='DB', det_model_dir='C:\\\\Users\\\\Playdata/.paddleocr/whl\\\\det\\\\ml\\\\Multilingual_PP-OCRv3_det_infer', det_limit_side_len=960, det_limit_type='max', det_box_type='quad', det_db_thresh=0.3, det_db_box_thresh=0.6, det_db_unclip_ratio=1.5, max_batch_size=10, use_dilation=False, det_db_score_mode='fast', det_east_score_thresh=0.8, det_east_cover_thresh=0.1, det_east_nms_thresh=0.2, det_sast_score_thresh=0.5, det_sast_nms_thresh=0.2, det_pse_thresh=0, det_pse_box_thresh=0.85, det_pse_min_area=16, det_pse_scale=1, scales=[8, 16, 32], alpha=1.0, beta=1.0, fourier_degree=5, rec_algorithm='SVTR_LCNet', rec_model_dir='C:\\\\Users\\\\Playdata/.paddleocr/whl\\\\rec\\\\korean\\\\korean_PP-OCRv4_rec_infer', rec_image_inverse=True, rec_image_shape='3, 48, 320', rec_batch_num=6, max_text_length=25, rec_char_dict_path='c:\\\\Users\\\\Playdata\\\\anaconda3\\\\envs\\\\vectordb_env\\\\lib\\\\site-packages\\\\paddleocr\\\\ppocr\\\\utils\\\\dict\\\\korean_dict.txt', use_space_char=True, vis_font_path='./doc/fonts/simfang.ttf', drop_score=0.5, e2e_algorithm='PGNet', e2e_model_dir=None, e2e_limit_side_len=768, e2e_limit_type='max', e2e_pgnet_score_thresh=0.5, e2e_char_dict_path='./ppocr/utils/ic15_dict.txt', e2e_pgnet_valid_set='totaltext', e2e_pgnet_mode='fast', use_angle_cls=False, cls_model_dir='C:\\\\Users\\\\Playdata/.paddleocr/whl\\\\cls\\\\ch_ppocr_mobile_v2.0_cls_infer', cls_image_shape='3, 48, 192', label_list=['0', '180'], cls_batch_num=6, cls_thresh=0.9, enable_mkldnn=False, cpu_threads=10, use_pdserving=False, warmup=False, sr_model_dir=None, sr_image_shape='3, 32, 128', sr_batch_num=1, draw_img_save_dir='./inference_results', save_crop_res=False, crop_res_save_dir='./output', use_mp=False, total_process_num=1, process_id=0, benchmark=False, save_log_path='./log_output/', show_log=True, use_onnx=False, onnx_providers=False, onnx_sess_options=False, return_word_box=False, output='./output', table_max_len=488, table_algorithm='TableAttn', table_model_dir=None, merge_no_span_structure=True, table_char_dict_path=None, formula_algorithm='LaTeXOCR', formula_model_dir=None, formula_char_dict_path=None, formula_batch_num=1, layout_model_dir=None, layout_dict_path=None, layout_score_threshold=0.5, layout_nms_threshold=0.5, kie_algorithm='LayoutXLM', ser_model_dir=None, re_model_dir=None, use_visual_backbone=True, ser_dict_path='../train_data/XFUND/class_list_xfun.txt', ocr_order_method=None, mode='structure', image_orientation=False, layout=True, table=True, formula=False, ocr=True, recovery=False, recovery_to_markdown=False, use_pdf2docx_api=False, invert=False, binarize=False, alphacolor=(255, 255, 255), lang='korean', det=True, rec=True, type='ocr', savefile=False, ocr_version='PP-OCRv4', structure_version='PP-StructureV2')\n"
     ]
    },
    {
     "name": "stderr",
     "output_type": "stream",
     "text": [
      "\n"
     ]
    },
    {
     "name": "stdout",
     "output_type": "stream",
     "text": [
      "[2025/03/24 10:22:08] ppocr DEBUG: dt_boxes num : 33, elapsed : 0.35175347328186035\n",
      "[2025/03/24 10:22:11] ppocr DEBUG: rec_res num  : 33, elapsed : 3.2183399200439453\n"
     ]
    }
   ],
   "source": [
    "ocr = PaddleOCR(lang='korean')\n",
    "result = ocr.ocr('poem.png', cls=False)"
   ]
  },
  {
   "cell_type": "code",
   "execution_count": 9,
   "metadata": {},
   "outputs": [
    {
     "name": "stdout",
     "output_type": "stream",
     "text": [
      "[[[261.0, 20.0], [306.0, 20.0], [306.0, 51.0], [261.0, 51.0]], [[414.0, 68.0], [469.0, 68.0], [469.0, 91.0], [414.0, 91.0]], [[154.0, 122.0], [198.0, 122.0], [198.0, 150.0], [154.0, 150.0]], [[205.0, 124.0], [265.0, 124.0], [265.0, 147.0], [205.0, 147.0]], [[273.0, 124.0], [338.0, 124.0], [338.0, 147.0], [273.0, 147.0]], [[342.0, 123.0], [405.0, 123.0], [405.0, 149.0], [342.0, 149.0]], [[154.0, 154.0], [184.0, 154.0], [184.0, 181.0], [154.0, 181.0]], [[208.0, 155.0], [293.0, 155.0], [293.0, 180.0], [208.0, 180.0]], [[300.0, 155.0], [370.0, 155.0], [370.0, 181.0], [300.0, 181.0]], [[155.0, 185.0], [219.0, 185.0], [219.0, 212.0], [155.0, 212.0]], [[223.0, 187.0], [267.0, 187.0], [267.0, 211.0], [223.0, 211.0]], [[270.0, 186.0], [356.0, 186.0], [356.0, 211.0], [270.0, 211.0]], [[153.0, 215.0], [198.0, 215.0], [198.0, 243.0], [153.0, 243.0]], [[202.0, 216.0], [315.0, 216.0], [315.0, 242.0], [202.0, 242.0]], [[154.0, 246.0], [198.0, 246.0], [198.0, 274.0], [154.0, 274.0]], [[203.0, 248.0], [290.0, 248.0], [290.0, 273.0], [203.0, 273.0]], [[292.0, 248.0], [377.0, 245.0], [378.0, 270.0], [293.0, 274.0]], [[154.0, 277.0], [198.0, 277.0], [198.0, 305.0], [154.0, 305.0]], [[203.0, 278.0], [245.0, 278.0], [245.0, 303.0], [203.0, 303.0]], [[249.0, 278.0], [296.0, 278.0], [296.0, 305.0], [249.0, 305.0]], [[299.0, 277.0], [346.0, 277.0], [346.0, 304.0], [299.0, 304.0]], [[347.0, 280.0], [451.0, 280.0], [451.0, 302.0], [347.0, 302.0]], [[155.0, 310.0], [219.0, 310.0], [219.0, 333.0], [155.0, 333.0]], [[222.0, 311.0], [286.0, 311.0], [286.0, 334.0], [222.0, 334.0]], [[292.0, 309.0], [356.0, 309.0], [356.0, 335.0], [292.0, 335.0]], [[362.0, 310.0], [404.0, 310.0], [404.0, 334.0], [362.0, 334.0]], [[156.0, 338.0], [285.0, 341.0], [285.0, 367.0], [156.0, 364.0]], [[154.0, 370.0], [197.0, 372.0], [196.0, 397.0], [153.0, 394.0]], [[202.0, 371.0], [266.0, 371.0], [266.0, 397.0], [202.0, 397.0]], [[271.0, 370.0], [316.0, 370.0], [316.0, 398.0], [271.0, 398.0]], [[318.0, 370.0], [384.0, 370.0], [384.0, 396.0], [318.0, 396.0]], [[388.0, 370.0], [481.0, 372.0], [481.0, 398.0], [388.0, 396.0]]]\n",
      "['서시', '윤동주', '죽는', '날까지', '하늘을', '우러러', '한', '부끄럼이', '없기를', '잎새에', '이는', '바람에도', '나는', '괴로워했다', '별을', '노래하는', '마음으로', '모든', '죽어', '가는', '것을', '사랑해야지', '그리고', '나에게', '주어진', '길을', '걸어가야겠다', '오늘', '밤에도', '별이', '바람에', '스치운다']\n",
      "[0.9999281764030457, 0.9957379698753357, 0.9999862313270569, 0.9998924136161804, 0.9999046325683594, 0.9997820854187012, 0.9999663829803467, 0.9998973608016968, 0.9998788237571716, 0.9997901916503906, 0.9999821782112122, 0.9998254776000977, 0.9999862313270569, 0.9996010065078735, 0.9997745752334595, 0.9999663829803467, 0.9999334812164307, 0.9999845623970032, 0.9999456405639648, 0.999904215335846, 0.9999891519546509, 0.9999488592147827, 0.9999824166297913, 0.9999486804008484, 0.9999143481254578, 0.9998530149459839, 0.9994199872016907, 0.9999414086341858, 0.9998001456260681, 0.9995178580284119, 0.999842643737793, 0.9999192953109741]\n"
     ]
    }
   ],
   "source": [
    "boxdata = [item[0] for item in result[0]]\n",
    "textdata = [item[1][0] for item in result[0]]\n",
    "confdata = [item[1][1] for item in result[0]]\n",
    "\n",
    "print(boxdata)\n",
    "print(textdata)\n",
    "print(confdata)"
   ]
  },
  {
   "cell_type": "code",
   "execution_count": 10,
   "metadata": {},
   "outputs": [],
   "source": [
    "def point_center(box):\n",
    "    x_center = box[0] + box[2] / 2\n",
    "    y_center = box[1] + box[3] / 2\n",
    "    return np.array([x_center, y_center])"
   ]
  },
  {
   "cell_type": "code",
   "execution_count": 11,
   "metadata": {},
   "outputs": [],
   "source": [
    "def cluster_boxes(boxes, eps=100):\n",
    "    center = np.array([point_center(box) for box in boxes])\n",
    "    clustering = DBSCAN(eps=eps, min_samples=1).fit(center)\n",
    "    labels = clustering.labels_\n",
    "    clusters = {}\n",
    "    for i, label in enumerate(labels):\n",
    "        clusters.setdefault(label, []).append(i)\n",
    "    return list(clusters.values())"
   ]
  },
  {
   "cell_type": "code",
   "execution_count": 12,
   "metadata": {},
   "outputs": [],
   "source": [
    "box_point_data = [[int(x1), int(y1), int(x2-x1), int(y2-y1)] for [[x1, y1], [x2, y2], _, _] in boxdata]\n",
    "cluster_result = cluster_boxes(box_point_data)"
   ]
  },
  {
   "cell_type": "code",
   "execution_count": 13,
   "metadata": {},
   "outputs": [],
   "source": [
    "from translate import Translator\n",
    "\n",
    "translator = Translator(from_lang='ko', to_lang='en')\n",
    "\n",
    "doc_result = [\" \".join([textdata[word_idx] for word_idx in cluster]) for cluster in cluster_result]\n",
    "eng_doc = [translator.translate(text) for text in doc_result]"
   ]
  },
  {
   "cell_type": "code",
   "execution_count": 14,
   "metadata": {},
   "outputs": [],
   "source": [
    "new_img = img.copy()\n",
    "draw = ImageDraw.Draw(new_img)\n",
    "font_height = 16\n",
    "\n",
    "for idx, text in enumerate(eng_doc):\n",
    "    line_height = font_height * 1.2\n",
    "    start_idx = cluster_result[idx][0]\n",
    "    for line in text.split():\n",
    "        text_position = box_point_data[start_idx][0], box_point_data[start_idx][1] + line_height\n",
    "        draw.text(text_position, line, fill='black')\n",
    "        line_height += font_height\n",
    "\n",
    "new_img.show()"
   ]
  }
 ],
 "metadata": {
  "kernelspec": {
   "display_name": "vectordb_env",
   "language": "python",
   "name": "python3"
  },
  "language_info": {
   "codemirror_mode": {
    "name": "ipython",
    "version": 3
   },
   "file_extension": ".py",
   "mimetype": "text/x-python",
   "name": "python",
   "nbconvert_exporter": "python",
   "pygments_lexer": "ipython3",
   "version": "3.9.21"
  }
 },
 "nbformat": 4,
 "nbformat_minor": 2
}
