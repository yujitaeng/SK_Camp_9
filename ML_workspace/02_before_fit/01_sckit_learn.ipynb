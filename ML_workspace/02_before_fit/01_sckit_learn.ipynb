{
 "cells": [
  {
   "cell_type": "markdown",
   "metadata": {},
   "source": [
    "# scikit-learn\n",
    "- 파이썬이 제공하는 기계학습 라이브러리\n",
    "- numpy, scipy 패키지에 의존\n",
    "https://scikit-learn.org/stable/api/index.html"
   ]
  },
  {
   "cell_type": "markdown",
   "metadata": {},
   "source": [
    "### 주요 모듈 \n",
    "\n",
    "| 분류              | 모듈명                        | 설명                                                                                  |\n",
    "|-------------------|-------------------------------|---------------------------------------------------------------------------------------|\n",
    "| 예제데이터         | `sklearn.datasets`             | 사이킷런에 내장되어 예제로 제공하는 데이터셋                                        |\n",
    "| 데이터분리, 검증 및 파라미터 튜닝 | `sklearn.model_selection`       | 교차검증을 위한 학습용/테스트 데이터 분리, 그리드 서치(GridSearch)로 최적 파라미터 추출 등의 API 제공 |\n",
    "| feature 처리          | `sklearn.preprocessing`        | 데이터 전처리에 필요한 다양한 가공 기능 제공 (문자열을 숫자형 코드값으로 인코딩, 정규화, 스케일링 등) |\n",
    "|                   | `sklearn.feature_selection`    | 알고리즘에 큰 영향을 미치는 피처를 우선순위대로 셀렉션 작업을 수행하는 다양한 기능 제공         |\n",
    "|                   | `sklearn.feature_extraction`   | 텍스트 데이터나 이미지 데이터의 벡터화된 피처를 추출하는데 사용 / 텍스트 데이터에서 CountVectorizer나 TfidfVectorizer 등을 생성하는 기능 제공 |\n",
    "| 차원 축소 | `sklearn.decomposition`       | 차원축소와 관련한 알고리즘을 지원하는 모듈 (PCA, NMF, TruncatedSVD 등을 통해 차원축소 기능 수행 가능) |\n",
    "| 평가              | `sklearn.metrics`              | 분류, 회귀, 클러스터링, 페어와이즈(Pairwise)에 대한 다양한 성능 측정 방법 제공 (Accuracy, Precision, Recall, ROC-AUC, RMSE 등) |\n",
    "| ML 알고리즘        | `sklearn.ensemble`             | 앙상블 알고리즘 제공 (랜덤포레스트, 에이다부스트, 그래디언트 부스팅 등 제공)                    |\n",
    "|                   | `sklearn.linear_model`         | 주로 선형회귀, 릿지(Ridge), 라쏘(Lasso) 및 로지스틱 회귀 등 회귀 관련 알고리즘 지원 / 또한 SGD(Stochastic Gradient Descent) 관련 알고리즘도 제공 |\n",
    "|                   | `sklearn.naive_bayes`          | 나이브 베이즈 알고리즘 제공 (가우시안NB, 다항 분포NB 등)                                         |\n",
    "|                   | `sklearn.neighbors`            | 최근접 이웃 알고리즘 제 (K-NN 등)                                                      |\n",
    "|                   | `sklearn.svm`                  | 서포트 벡터 머신 알고리즘 제공                                                        |\n",
    "|                   | `sklearn.tree`                 | 의사 결정 트리 알고리즘 제공                                                          |\n",
    "|                   | `sklearn.cluster`              | 비지도 클러스터링 알고리즘 제공 (K-평균, 계층형, DBSCAN 등)                              |\n",
    "| 유틸리티           | `sklearn.pipeline`             | feature 처리 등의 변환과 ML 알고리즘 학습/예측 등을 함께 묶어서 실행할 수 있는 유틸리티 제공           |"
   ]
  },
  {
   "cell_type": "markdown",
   "metadata": {},
   "source": [
    "### 모델 클래스 계층구조\n",
    "\n",
    "**모델 부모 클래스 Estimator**\n",
    "- 학습 fit()\n",
    "- 예측 predict()\n",
    "- 평가 score()\n",
    "\n",
    "**분류 Classifier**\n",
    "- DecisionTreeClassifier\n",
    "- RandomForestClassifier\n",
    "- GradientBoostingClassifer\n",
    "- GaussianNB\n",
    "- SVC\n",
    "- LogisticRegression\n",
    "\n",
    "**회귀 Regressor**\n",
    "- LinearRegression\n",
    "- Ridge\n",
    "- Lasso\n",
    "- RandomForestRegressor\n",
    "- GradientBoostingRegressor"
   ]
  }
 ],
 "metadata": {
  "language_info": {
   "name": "python"
  }
 },
 "nbformat": 4,
 "nbformat_minor": 2
}
