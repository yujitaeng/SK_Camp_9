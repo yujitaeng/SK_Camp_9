{
 "cells": [
  {
   "cell_type": "markdown",
   "metadata": {},
   "source": [
    "# 앙상블 (Ensemble)\n",
    "- 다양한 모델을 결합하여 예측 성능을 향상시키는 방법\n",
    "- 투표(Voting), 배깅(Bagging), 부스팅(Boosting), 스태킹(Stacking) 네 가지로 구분"
   ]
  },
  {
   "cell_type": "code",
   "execution_count": 1,
   "metadata": {},
   "outputs": [],
   "source": [
    "import numpy as np\n",
    "import pandas as pd\n",
    "import matplotlib.pyplot as plt\n",
    "import seaborn as sns"
   ]
  },
  {
   "cell_type": "code",
   "execution_count": 2,
   "metadata": {},
   "outputs": [],
   "source": [
    "# 출력문 warning 제거 (무시)\n",
    "import warnings\n",
    "warnings.filterwarnings('ignore')"
   ]
  },
  {
   "cell_type": "markdown",
   "metadata": {},
   "source": [
    "### Voting\n",
    "- hard voting : 여러 개의 예측치에 대해 다수결로 결정\n",
    "- soft voting : 여러 개의 예측 확률을 평균내어 결정"
   ]
  },
  {
   "cell_type": "markdown",
   "metadata": {},
   "source": [
    "##### 위스콘신 유방암 데이터셋 (Wisconsin Breast Cancer Dataset)\n",
    "\n",
    "유방암의 악성(Malignant)과 양성(Benign)을 분류하기 위해 자주 사용되는 데이터셋\n",
    "(의학적인 이미지를 바탕으로 유방암 종양의 특징을 수치화한 데이터)\n",
    "\n",
    "**데이터셋 개요**\n",
    "- **목적**: 유방암 종양이 악성(Malignant)인지, 양성(Benign)인지 분류\n",
    "- **샘플 수**: 569개\n",
    "- **특징(Features) 수**: 30개\n",
    "- **타겟(Target)**: 0(악성) 또는 1(양성)\n",
    "\n",
    "**데이터 구성**\n",
    "1. **Radius mean**: 종양의 평균 반지름\n",
    "2. **Texture mean**: 종양의 표면의 거칠기\n",
    "3. **Perimeter mean**: 종양의 평균 둘레 길이\n",
    "4. **Area mean**: 종양의 평균 면적\n",
    "5. **Smoothness mean**: 종양의 매끄러움 정도\n",
    "6. **Compactness mean**: 종양의 압축도\n",
    "7. **Concavity mean**: 종양의 오목함\n",
    "8. **Concave points mean**: 종양의 오목한 점 개수\n",
    "9. **Symmetry mean**: 종양의 대칭성\n",
    "10. **Fractal dimension mean**: 종양의 프랙탈 차원 "
   ]
  },
  {
   "cell_type": "code",
   "execution_count": 3,
   "metadata": {},
   "outputs": [],
   "source": [
    "from sklearn.datasets import load_breast_cancer\n",
    "\n",
    "data = load_breast_cancer()\n",
    "# print(data.DESCR)\n",
    "\n",
    "df = pd.DataFrame(data.data, columns=data.feature_names)\n",
    "df['target'] = data.target"
   ]
  },
  {
   "cell_type": "code",
   "execution_count": null,
   "metadata": {},
   "outputs": [],
   "source": [
    "df.info()"
   ]
  },
  {
   "cell_type": "code",
   "execution_count": null,
   "metadata": {},
   "outputs": [],
   "source": [
    "df['target'].value_counts()"
   ]
  },
  {
   "cell_type": "code",
   "execution_count": 6,
   "metadata": {},
   "outputs": [],
   "source": [
    "# 데이터 준비 (분리)\n",
    "from sklearn.model_selection import train_test_split\n",
    "\n",
    "X = data.data\n",
    "y = data.target\n",
    "\n",
    "X_train, X_test, y_train, y_test = train_test_split(X, y, random_state=0)"
   ]
  },
  {
   "cell_type": "markdown",
   "metadata": {},
   "source": [
    "##### hard voting"
   ]
  },
  {
   "cell_type": "code",
   "execution_count": null,
   "metadata": {},
   "outputs": [],
   "source": [
    "from sklearn.neighbors import KNeighborsClassifier\n",
    "from sklearn.linear_model import LogisticRegression\n",
    "from sklearn.tree import DecisionTreeClassifier\n",
    "from sklearn.ensemble import VotingClassifier\n",
    "from sklearn.metrics import accuracy_score\n",
    "\n",
    "knn_clf = KNeighborsClassifier()\n",
    "lr_clf = LogisticRegression()\n",
    "dt_clf = DecisionTreeClassifier()\n",
    "\n",
    "voting_clf = VotingClassifier(\n",
    "    estimators=[\n",
    "        ('knn_clf', knn_clf),\n",
    "        ('lr_clf', lr_clf),\n",
    "        ('dt_clf', dt_clf)\n",
    "    ],\n",
    "    voting='hard'    # 기본값\n",
    ")\n",
    "\n",
    "# 앙상블 모델 학습\n",
    "voting_clf.fit(X_train, y_train)\n",
    "\n",
    "# 예측 및 평가\n",
    "y_pred_train = voting_clf.predict(X_train)\n",
    "acc_score_train = accuracy_score(y_train, y_pred_train)\n",
    "print('학습 점수:', acc_score_train)\n",
    "\n",
    "y_pred_test = voting_clf.predict(X_test)\n",
    "acc_score_test = accuracy_score(y_test, y_pred_test)\n",
    "print('테스트 평가 점수:', acc_score_test)"
   ]
  },
  {
   "cell_type": "code",
   "execution_count": null,
   "metadata": {},
   "outputs": [],
   "source": [
    "# hard voting 작동 원리 == 다수결\n",
    "start, end = 40, 50\n",
    "\n",
    "voting_clf_pred = voting_clf.predict(X_test[start:end])\n",
    "print('앙상블 예측값:', voting_clf_pred)\n",
    "\n",
    "for classfier in [knn_clf, lr_clf, dt_clf]:\n",
    "    # 개별 학습 및 예측\n",
    "    classfier.fit(X_train, y_train)\n",
    "    pred = classfier.predict(X_test)\n",
    "    acc_score = accuracy_score(y_test, pred)\n",
    "    \n",
    "    class_name = classfier.__class__.__name__    # 클래스의 이름 속성\n",
    "    print(f'{class_name} 개별 정확도: {acc_score:.4f}')\n",
    "    print(f'{class_name} 예측값: {pred[start:end]}')"
   ]
  },
  {
   "cell_type": "markdown",
   "metadata": {},
   "source": [
    "##### soft voting"
   ]
  },
  {
   "cell_type": "code",
   "execution_count": null,
   "metadata": {},
   "outputs": [],
   "source": [
    "from sklearn.neighbors import KNeighborsClassifier\n",
    "from sklearn.linear_model import LogisticRegression\n",
    "from sklearn.tree import DecisionTreeClassifier\n",
    "from sklearn.ensemble import VotingClassifier\n",
    "from sklearn.metrics import accuracy_score\n",
    "\n",
    "knn_clf = KNeighborsClassifier()\n",
    "lr_clf = LogisticRegression()\n",
    "dt_clf = DecisionTreeClassifier(random_state=0)\n",
    "\n",
    "voting_clf = VotingClassifier(\n",
    "    estimators=[\n",
    "        ('knn_clf', knn_clf),\n",
    "        ('lr_clf', lr_clf),\n",
    "        ('dt_clf', dt_clf)\n",
    "    ],\n",
    "    voting='soft'\n",
    ")\n",
    "\n",
    "# 앙상블 모델 학습\n",
    "voting_clf.fit(X_train, y_train)\n",
    "\n",
    "# 예측 및 평가\n",
    "y_pred_train = voting_clf.predict(X_train)\n",
    "acc_score_train = accuracy_score(y_train, y_pred_train)\n",
    "print('학습 점수:', acc_score_train)\n",
    "\n",
    "y_pred_test = voting_clf.predict(X_test)\n",
    "acc_score_test = accuracy_score(y_test, y_pred_test)\n",
    "print('테스트 평가 점수:', acc_score_test)"
   ]
  },
  {
   "cell_type": "code",
   "execution_count": null,
   "metadata": {},
   "outputs": [],
   "source": [
    "# soft voting 작동 원리 == 각 예측기의 확률값 평균\n",
    "\n",
    "start, end = 40, 50\n",
    "\n",
    "voting_clf_pred_proba = voting_clf.predict_proba(X_test[start:end])\n",
    "print('앙상블 예측값:', voting_clf_pred_proba)\n",
    "\n",
    "averages = np.full_like(voting_clf_pred_proba, 0)\n",
    "\n",
    "for classfier in [knn_clf, lr_clf, dt_clf]:\n",
    "    # 개별 학습 및 예측\n",
    "    classfier.fit(X_train, y_train)\n",
    "    pred = classfier.predict(X_test)\n",
    "    acc_score = accuracy_score(y_test, pred)\n",
    "    pred_proba = classfier.predict_proba(X_test[start:end])\n",
    "\n",
    "    # 예측 확률 평균을 위한 합계\n",
    "    averages += pred_proba\n",
    "    \n",
    "    class_name = classfier.__class__.__name__    # 클래스의 이름 속성\n",
    "    # print(f'{class_name} 개별 정확도: {acc_score:.4f}')\n",
    "    # print(f'{class_name} 예측 확률: {pred_proba}')\n",
    "\n",
    "# 예측 확률 평균 계산 및 출력\n",
    "calc_averages = averages / 3\n",
    "print(\"각 모델별 예측값 평균:\", calc_averages)\n",
    "print(np.array_equal(voting_clf_pred_proba, calc_averages))"
   ]
  },
  {
   "cell_type": "markdown",
   "metadata": {},
   "source": [
    "### Bagging\n",
    "- Bootstrap Aggregation\n",
    "- Bootstrap 방식의 샘플링: 각 estimator 마다 훈련 데이터를 뽑을 때, 중복 값을 허용하는 방식\n",
    "- 분류 모델의 경우, 각 tree(estimator)의 예측값을 다수결(hard voting) 결정\n",
    "- 회귀 모델의 경우, 각 tree(estimator)의 예측값을 평균내어 결정\n",
    "- 기본적으로 100개의 tree 사용"
   ]
  },
  {
   "cell_type": "markdown",
   "metadata": {},
   "source": [
    "**하이퍼 파라미터**\n",
    "| **하이퍼파라미터**      | **설명**                                                                                     | **기본값**      |\n",
    "|--------------------------|--------------------------------------------------------------------------------------------|-----------------|\n",
    "| `n_estimators`           | 생성할 트리의 개수 지정 (트리의 개수가 많을수록 성능이 좋아질 수 있지만 계산 비용 증가) | 100             |\n",
    "| `criterion`              | 분할 품질을 측정하는 기준 (분류에서는 \"gini\" 또는 \"entropy\"를 사용)                 | \"gini\"          |\n",
    "| `max_depth`              | 각 트리의 최대 깊이 (설정하지 않으면 트리는 잎 노드가 순수해질 때까지 계속 확장) | None            |\n",
    "| `min_samples_split`      | 내부 노드를 분할하기 위해 필요한 최소 샘플 수 (과적합 방지 목적)                   | 2               |\n",
    "| `min_samples_leaf`       | 잎 노드가 되기 위해 필요한 최소 샘플 수 (과적합 방지 목적)                          | 1               |\n",
    "| `max_features`           | 각 트리를 분할할 때 고려할 최대 특성 수 ()\"auto\", \"sqrt\", \"log2\" 중 선택하거나, 특정 숫자 지정 가능) | \"auto\"          |\n",
    "| `bootstrap`              | 각 트리를 만들 때 부트스트랩 샘플링을 사용할지 여부를 결정                               | True            |\n",
    "| `random_state`           | 결과의 재현성을 위해 난수 시드 고정                                                  | None            |\n",
    "| `n_jobs`                 | 병렬 계산을 위해 사용할 CPU 코어 수를 지정 (-1로 설정하면 모든 코어를 사용)           | None            |\n",
    "| `class_weight`           | 각 클래스의 가중치를 자동으로 계산하거나 직접 지정 가능 (불균형 데이터 처리에 유용)    | None            |\n"
   ]
  },
  {
   "cell_type": "code",
   "execution_count": null,
   "metadata": {},
   "outputs": [],
   "source": [
    "from sklearn.ensemble import RandomForestClassifier\n",
    "\n",
    "rf_clf = RandomForestClassifier(n_estimators=100, max_depth=7, random_state=0)\n",
    "\n",
    "# 학습\n",
    "rf_clf.fit(X_train, y_train)\n",
    "\n",
    "# 예측 및 평가\n",
    "y_pred_train = rf_clf.predict(X_train)\n",
    "acc_score_train = accuracy_score(y_train, y_pred_train)\n",
    "print('학습 점수:', acc_score_train)\n",
    "\n",
    "y_pred_test = rf_clf.predict(X_test)\n",
    "acc_score_test = accuracy_score(y_test, y_pred_test)\n",
    "print('테스트 평가 점수:', acc_score_test)"
   ]
  },
  {
   "cell_type": "code",
   "execution_count": null,
   "metadata": {},
   "outputs": [],
   "source": [
    "# 100개의 DecisionTree 확인\n",
    "# print(rf_clf.estimators_)\n",
    "\n",
    "# 100개의 DecisionTree가 사용한 샘플데이터 확인\n",
    "# print(rf_clf.estimators_samples_)\n",
    "\n",
    "# Bootstrap 방식의 샘플링 확인\n",
    "for i, sample_indexs in enumerate(rf_clf.estimators_samples_):\n",
    "    print(f'{i}번째 DecisionTree의 샘플 인덱스: {sorted(sample_indexs)}')"
   ]
  },
  {
   "cell_type": "code",
   "execution_count": null,
   "metadata": {},
   "outputs": [],
   "source": [
    "# 특성 중요도 확인\n",
    "feat_imptc_ser = pd.Series(rf_clf.feature_importances_, index=data.feature_names).sort_values(ascending=False)\n",
    "feat_imptc_ser"
   ]
  },
  {
   "cell_type": "code",
   "execution_count": null,
   "metadata": {},
   "outputs": [],
   "source": [
    "# 특성 중요도 시각화\n",
    "plt.figure(figsize=(8, 6))\n",
    "sns.barplot(\n",
    "    x=feat_imptc_ser,\n",
    "    y=feat_imptc_ser.index,\n",
    "    hue=feat_imptc_ser.index\n",
    ")\n",
    "plt.xlabel('feature importance')\n",
    "plt.ylabel('feature')\n",
    "plt.show()"
   ]
  },
  {
   "cell_type": "markdown",
   "metadata": {},
   "source": [
    "##### 와인데이터 셋 이진분류"
   ]
  },
  {
   "cell_type": "code",
   "execution_count": null,
   "metadata": {},
   "outputs": [],
   "source": [
    "# 1. 데이터 로드\n",
    "# 2. 데이터 분리\n",
    "# 3. RandomForestClassifier 모델 생성 및 학습\n",
    "# 4. 예측\n",
    "# 5. 정확도 출력\n",
    "# 6. 특성 중요도 시각화\n",
    "from sklearn.model_selection import train_test_split\n",
    "from sklearn.ensemble import RandomForestClassifier\n",
    "\n",
    "wine_df = pd.read_csv('./data/wine_simple.csv')\n",
    "\n",
    "X = wine_df.drop('class', axis=1)\n",
    "y = wine_df['class']\n",
    "y.value_counts()\n",
    "\n",
    "X_train, X_test, y_train, y_test = train_test_split(X, y, test_size=0.2, random_state=42)\n",
    "\n",
    "rf_clf = RandomForestClassifier(\n",
    "    n_estimators=100,\n",
    "    max_depth=7,\n",
    "    random_state=0\n",
    ")\n",
    "rf_clf.fit(X_train, y_train)\n",
    "\n",
    "# 예측 및 평가\n",
    "y_pred_train = rf_clf.predict(X_train)\n",
    "y_pred_test = rf_clf.predict(X_test)\n",
    "\n",
    "# 정확도 출력\n",
    "acc_score_train = accuracy_score(y_train, y_pred_train)\n",
    "print('학습 점수:', acc_score_train)\n",
    "\n",
    "acc_score_test = accuracy_score(y_test, y_pred_test)\n",
    "print('테스트 점수:', acc_score_test)\n",
    "\n",
    "# 특성 중요도 시각화\n",
    "feat_imptc = pd.Series(rf_clf.feature_importances_, index=X.columns).sort_values(ascending=False)\n",
    "\n",
    "plt.figure(figsize=(8, 6))\n",
    "sns.barplot(\n",
    "    x=feat_imptc,\n",
    "    y=feat_imptc.index,\n",
    "    hue=feat_imptc.index\n",
    ")\n",
    "plt.xlabel('feature importance')\n",
    "plt.ylabel('feature')\n",
    "plt.show()\n",
    "\n"
   ]
  },
  {
   "cell_type": "markdown",
   "metadata": {},
   "source": [
    "##### 인간행동인식 다중분류"
   ]
  },
  {
   "cell_type": "markdown",
   "metadata": {},
   "source": [
    "https://www.kaggle.com/datasets/uciml/human-activity-recognition-with-smartphones \n",
    "\n",
    "사용자 행동 target class\n",
    "- WALKING\n",
    "- WALKING_UPSTAIRS\n",
    "- WALKING_DOWNSTAIRS\n",
    "- SITTING\n",
    "- STANDING\n",
    "- LAYING\n",
    "\n",
    "**HAR 특성 설명**\n",
    "\n",
    "| **특성 유형**             | **설명**                                                                                                                                     |\n",
    "|--------------------------|--------------------------------------------------------------------------------------------------------------------------------------------|\n",
    "| **Mean와 Std**            | 'tBodyAcc-mean()-X', 'tBodyAcc-std()-Y'와 같은 특성은 시간 도메인에서의 신체 가속도에 대한 평균 및 표준편차 값 ('X', 'Y', 'Z'는 축을 의미) |\n",
    "| **주파수 도메인 특징**     | 이름에 'f'로 시작하는 특성은 주파수 도메인에서 계산된 값 (예를 들어 'fBodyAcc-meanFreq()-X'는 신체 가속도 센서의 X축에서의 평균 주파수 값)    |\n",
    "| **가속도와 자이로스코프 데이터** | 'tBodyAcc', 'tGravityAcc', 'tBodyGyro' 등의 특성은 신체 가속도, 중력 가속도, 자이로스코프 데이터                                                  |\n",
    "| **Jerk 신호**             | 'tBodyAccJerk-mean()-X'와 같은 특성은 가속도의 변화율 (활동 간의 차이를 분류하는 데 중요한 역할)                                          |\n",
    "| **Magnitude(크기)**       | 'tBodyAccMag-mean()', 'tGravityAccMag-std()'와 같은 특성은 특정 축 방향의 가속도 또는 자이로스코프 값을 합친 크기                                             |\n",
    "| **FFT 변환 기반 특징**    | 주파수 도메인에서의 데이터 특성들은 Fourier 변환을 통해 얻어짐 (예를 들어, 'fBodyAccMag-mean()'은 주파수 도메인에서 가속도의 크기의 평균값)                  |\n",
    "| **Angle(각도)**           | 'angle(X,gravityMean)'과 같은 특성은 특정 축과 중력 벡터 간의 각도 (중력과의 상대적인 위치 나타냄)                                                    |\n",
    "| **레이블**                | 'Activity' 컬럼에는 각 행의 활동 레이블이 포함 (걷기, 계단 오르기, 계단 내리기, 앉기, 서기, 눕기 등의 활동 종류 있음)                                          |\n"
   ]
  },
  {
   "cell_type": "code",
   "execution_count": null,
   "metadata": {},
   "outputs": [],
   "source": [
    "from sklearn.preprocessing import LabelEncoder, StandardScaler\n",
    "\n",
    "# 1. 데이터 로드\n",
    "train_data = pd.read_csv('./data/har_train.csv')\n",
    "test_data = pd.read_csv('./data/har_test.csv')\n",
    "# train_data.shape, test_data.shape\n",
    "\n",
    "# 2. 데이터 분리\n",
    "X_train = train_data.drop('Activity', axis=1)\n",
    "X_test = test_data.drop('Activity', axis=1)\n",
    "y_train = train_data['Activity']\n",
    "y_test = test_data['Activity']\n",
    "\n",
    "# 3. 레이블 인코딩 (Activity를 숫자로 변환)\n",
    "# y_train.value_counts()\n",
    "label_encoder = LabelEncoder()\n",
    "y_train_encoded = label_encoder.fit_transform(y_train)\n",
    "y_test_encoded = label_encoder.transform(y_test)\n",
    "\n",
    "# 4. 데이터 정규화\n",
    "# X_train.describe()\n",
    "scaler = StandardScaler()\n",
    "X_train_scaled = scaler.fit_transform(X_train)\n",
    "X_test_scaled = scaler.transform(X_test)\n",
    "\n",
    "# 5. RandomForestClassifier 모델 학습\n",
    "rf_clf = RandomForestClassifier(n_estimators=100, random_state=42)\n",
    "rf_clf.fit(X_train_scaled, y_train_encoded)\n",
    "\n",
    "# 6. 모델 예측\n",
    "y_pred = rf_clf.predict(X_test_scaled)\n",
    "\n",
    "# 7. 평가 (정확도) \n",
    "acc_score = accuracy_score(y_test_encoded, y_pred)\n",
    "print(f\"정확도: {acc_score}\")\n",
    "\n",
    "# 8. 중요도 상위 20개의 특성 시각화\n",
    "feat_iptcs = rf_clf.feature_importances_\n",
    "feat_names = X_train.columns\n",
    "\n",
    "iptcs_df = pd.DataFrame({\n",
    "    'Feature': feat_names,\n",
    "    'Importance': feat_iptcs\n",
    "}).sort_values(by='Importance', ascending=False).head(20)\n",
    "\n",
    "plt.figure(figsize=(8, 6))\n",
    "sns.barplot(\n",
    "    y=iptcs_df['Feature'],\n",
    "    x=iptcs_df['Importance']\n",
    ")\n",
    "plt.xlabel('feature importance')\n",
    "plt.ylabel('feature')\n",
    "plt.show()"
   ]
  },
  {
   "cell_type": "markdown",
   "metadata": {},
   "source": [
    "### Boosting\n",
    "- 깊이가 얕은 결정트리를 사용해 이전 트리의 오차를 보정하는 방식\n",
    "- 순차적으로 경사하강법을 사용해 이전 트리의 오차를 줄여나감\n",
    "    - 분류모델에서는 손실함수 Logloss를 사용해 오차를 줄임\n",
    "    - 회귀모델에서는 손실함수 MSE를 사용해 오차를 줄임\n",
    "- Boosting 계열은 일반적으로 결정트리 개수를 늘려도 과적합에 강함\n",
    "- 대표적인 알고리즘(모델): GradientBoosting, HistGradientBoosting, XGBoost(DMLC), LightGBM(MS), CatBoost"
   ]
  },
  {
   "cell_type": "markdown",
   "metadata": {},
   "source": [
    "##### GradientBoosting 구현"
   ]
  },
  {
   "cell_type": "code",
   "execution_count": 30,
   "metadata": {},
   "outputs": [],
   "source": [
    "from sklearn.tree import DecisionTreeRegressor"
   ]
  },
  {
   "cell_type": "code",
   "execution_count": 31,
   "metadata": {},
   "outputs": [],
   "source": [
    "class SimpleGradientBoostingClassifier:\n",
    "\n",
    "    def __init__(self, n_estimators=100, learning_rate=0.1, max_depth=3):\n",
    "        self.n_estimators = n_estimators\n",
    "        self.learning_rate = learning_rate\n",
    "        self.max_depth = max_depth\n",
    "        self.initial_log_odds = 0    # 초기 예측값\n",
    "        self.trees = []    # estimator 모음 배열\n",
    "\n",
    "    def log_odds(self, p):\n",
    "        # 확률값 -> 로짓 변환 : 0~1 사이의 값을 펼쳐 -무한대~+무한대 사이의 값으로 보정\n",
    "        return np.log(p / (1 - p))\n",
    "    \n",
    "    def sigmoid(self, z):\n",
    "        # z값 -> 0~1 사이의 확률 값 변환\n",
    "        return 1 / (1 + np.exp(-z))\n",
    "\n",
    "    def fit(self, X, y):\n",
    "        # 초기 예측값 설정\n",
    "        y_mean = np.mean(y)\n",
    "        self.initial_log_odds = self.log_odds(y_mean)\n",
    "        y_pred_log_odds = np.full_like(y, self.initial_log_odds, dtype=np.float64)\n",
    "\n",
    "        # 모델 생성 및 학습\n",
    "        for _ in range(self.n_estimators):\n",
    "            # 현재 상태에서 예측된 확률값 계산\n",
    "            y_pred_proba = self.sigmoid(y_pred_log_odds)\n",
    "\n",
    "            # 잔차 계산\n",
    "            residual = y - y_pred_proba\n",
    "\n",
    "            # 결정트리 생성 및 학습\n",
    "            tree = DecisionTreeRegressor(max_depth=self.max_depth)\n",
    "            tree.fit(X, residual)    # 잔차를 라벨로 학습\n",
    "            self.trees.append(tree)\n",
    "\n",
    "            # 예측값 업데이트 (예측값 점진적 개선)\n",
    "            y_pred_log_odds += self.learning_rate * tree.predict(X)\n",
    "\n",
    "    def predict(self, X):\n",
    "        return (self.predict_proba(X) >= 0.5).astype(int)\n",
    "\n",
    "    def predict_proba(self, X):\n",
    "        y_pred_log_odds = np.full((X.shape[0],), self.initial_log_odds)\n",
    "\n",
    "        # 트리의 예측값을 누적하여 최종 로짓값 계산\n",
    "        for tree in self.trees:\n",
    "            y_pred_log_odds += self.learning_rate * tree.predict(X)\n",
    "        \n",
    "        return self.sigmoid(y_pred_log_odds)"
   ]
  },
  {
   "cell_type": "code",
   "execution_count": null,
   "metadata": {},
   "outputs": [],
   "source": [
    "# SimpleGradientBoostingClassifier로 유방암 데이터 예측\n",
    "\n",
    "# 데이터 로드 및 분리\n",
    "data = load_breast_cancer()\n",
    "X_train, X_test, y_train, y_test = \\\n",
    "    train_test_split(data.data, data.target, random_state=0)\n",
    "\n",
    "# 모델 생성\n",
    "simple_gb_clf = SimpleGradientBoostingClassifier(\n",
    "    n_estimators=100,\n",
    "    learning_rate=0.01,\n",
    "    max_depth=3\n",
    ")\n",
    "\n",
    "# 학습\n",
    "simple_gb_clf.fit(X_train, y_train)\n",
    "\n",
    "# 예측 및 정확도 평가\n",
    "y_pred_train = simple_gb_clf.predict(X_train)\n",
    "y_pred_test = simple_gb_clf.predict(X_test)\n",
    "print(f'학습 정확도: {accuracy_score(y_train, y_pred_train)}')\n",
    "print(f'평가 정확도: {accuracy_score(y_test, y_pred_test)}')"
   ]
  },
  {
   "cell_type": "markdown",
   "metadata": {},
   "source": [
    "##### GradientBoosting"
   ]
  },
  {
   "cell_type": "code",
   "execution_count": null,
   "metadata": {},
   "outputs": [],
   "source": [
    "# GradientBoostingClassifier로 유방암 데이터 예측\n",
    "from sklearn.ensemble import GradientBoostingClassifier\n",
    "\n",
    "# 데이터 로드 및 분리\n",
    "data = load_breast_cancer()\n",
    "X_train, X_test, y_train, y_test = \\\n",
    "    train_test_split(data.data, data.target, random_state=0)\n",
    "\n",
    "# 모델 생성\n",
    "gb_clf = GradientBoostingClassifier(\n",
    "    n_estimators=100,\n",
    "    learning_rate=0.01,\n",
    "    max_depth=3\n",
    ")\n",
    "\n",
    "# 학습\n",
    "gb_clf.fit(X_train, y_train)\n",
    "\n",
    "# 예측 및 평가\n",
    "y_pred_train = gb_clf.predict(X_train)\n",
    "y_pred_test = gb_clf.predict(X_test)\n",
    "print(f'학습 정확도: {accuracy_score(y_train, y_pred_train)}')\n",
    "print(f'평가 정확도: {accuracy_score(y_test, y_pred_test)}')"
   ]
  },
  {
   "cell_type": "markdown",
   "metadata": {},
   "source": [
    "##### HistGradientBoosting\n",
    "- 고성능 GradientBoosting 모델로 대규모 데이터셋 처리에 적합\n",
    "- Histogram 기반으로 256개의 구간으로 나누어 처리 병합하는 방식\n",
    "- 결측치가 있어도 전처리가 필요 없음\n",
    "- LightGBM의 영향을 받아 만들어진 scikit-learn의 모델"
   ]
  },
  {
   "cell_type": "code",
   "execution_count": 36,
   "metadata": {},
   "outputs": [
    {
     "name": "stdout",
     "output_type": "stream",
     "text": [
      "학습 정확도 : 0.9953051643192489\n",
      "평가 정확도 : 0.951048951048951\n"
     ]
    }
   ],
   "source": [
    "from sklearn.ensemble import HistGradientBoostingClassifier\n",
    "\n",
    "data = load_breast_cancer()\n",
    "X_train, X_test, y_train, y_test = \\\n",
    "    train_test_split(data.data, data.target, random_state=42)\n",
    "\n",
    "hist_gb_clf = HistGradientBoostingClassifier(\n",
    "    learning_rate=0.1,\n",
    "    max_depth=3,\n",
    "    max_bins=255,    # 255개의 구간으로 나누어 처리 (1개는 결측치 전용)\n",
    "    early_stopping=True,    # 반복 중 '일정 횟수' 이상 성능 향상이 없으면 학습 종료\n",
    "    n_iter_no_change=5      # '일정 횟수' 지정 (기본값: 10)\n",
    ")\n",
    "hist_gb_clf.fit(X_train, y_train)\n",
    "\n",
    "y_pred_train = hist_gb_clf.predict(X_train)\n",
    "y_pred_test = hist_gb_clf.predict(X_test)\n",
    "print(f'학습 정확도 : {accuracy_score(y_train, y_pred_train)}')\n",
    "print(f'평가 정확도 : {accuracy_score(y_test, y_pred_test)}')"
   ]
  },
  {
   "cell_type": "code",
   "execution_count": null,
   "metadata": {},
   "outputs": [],
   "source": [
    "# permutation_importance == 특성 중요도\n",
    "from sklearn.inspection import permutation_importance\n",
    "\n",
    "result = permutation_importance(\n",
    "    hist_gb_clf,\n",
    "    X_train,\n",
    "    y_train,\n",
    "    n_repeats=5,\n",
    "    random_state=0\n",
    ")\n",
    "\n",
    "# importances_mean : 평균 중요도\n",
    "# importances_std : 중요도 표준편차\n",
    "# importances : 특성 중요도\n",
    "result.importances"
   ]
  },
  {
   "cell_type": "markdown",
   "metadata": {},
   "source": [
    "##### 회귀모델"
   ]
  },
  {
   "cell_type": "markdown",
   "metadata": {},
   "source": [
    "`sklearn.datasets.load_diabetes` 데이터셋\n",
    "- 당뇨병 환자의 진단 자료를 바탕으로 만들어진 회귀용 데이터셋\n",
    "\n",
    "**데이터셋 설명:**\n",
    "- **목적**: 당뇨병 진행 정도(1년 후)를 예측\n",
    "- **데이터 수**: 442개의 샘플\n",
    "- **특성 수**: 10개의 특성 (10개의 입력 변수)\n",
    "- **타겟**: 연속형 값, 당뇨병의 1년 후 진행 상황을 나타냄\n",
    "\n",
    "**특성 설명:**\n",
    "데이터셋의 각 특성(피처)은 환자의 다양한 생체 정보\n",
    "\n",
    "1. **age**: 나이 (Age)\n",
    "2. **sex**: 성별 (Sex)\n",
    "3. **bmi**: 체질량 지수 (Body Mass Index)\n",
    "4. **bp**: 평균 혈압 (Average Blood Pressure)\n",
    "5. **s1**: 혈청 내 TC (Total Cholesterol)\n",
    "6. **s2**: 혈청 내 LDL (Low-Density Lipoproteins)\n",
    "7. **s3**: 혈청 내 HDL (High-Density Lipoproteins)\n",
    "8. **s4**: 혈청 내 TCH (Total Cholesterol / HDL)\n",
    "9. **s5**: 혈청 내 LTG (Log of Serum Triglycerides)\n",
    "10. **s6**: 혈당 수치 (Blood Sugar Level)\n",
    "\n",
    "**데이터 구조:**\n",
    "- **입력 데이터 (data)**: (442, 10) 크기의 NumPy 배열\n",
    "- **타겟 데이터 (target)**: (442,) 크기의 NumPy 배열로, 각 샘플의 타겟 값(연속형 값)을 포함"
   ]
  },
  {
   "cell_type": "code",
   "execution_count": 41,
   "metadata": {},
   "outputs": [],
   "source": [
    "from sklearn.datasets import load_diabetes\n",
    "\n",
    "diabetes = load_diabetes()\n",
    "X_train, X_test, y_train, y_test = \\\n",
    "    train_test_split(diabetes.data, diabetes.target, random_state=0)"
   ]
  },
  {
   "cell_type": "code",
   "execution_count": 42,
   "metadata": {},
   "outputs": [
    {
     "name": "stdout",
     "output_type": "stream",
     "text": [
      "학습 MSE: 1349.7927482181808 | 학습 R2: 0.7841531432486148\n",
      "평가 MSE: 3692.3791002557186 | 평가 R2: 0.256230565040123\n"
     ]
    }
   ],
   "source": [
    "from sklearn.ensemble import HistGradientBoostingRegressor\n",
    "from sklearn.metrics import mean_squared_error, r2_score\n",
    "\n",
    "hist_gb_reg = HistGradientBoostingRegressor(\n",
    "    max_iter=100,\n",
    "    max_depth=3,\n",
    "    learning_rate=0.05,\n",
    "    random_state=0,\n",
    "    l2_regularization=0.5,\n",
    "    min_samples_leaf=5\n",
    ")\n",
    "hist_gb_reg.fit(X_train, y_train)\n",
    "\n",
    "y_pred_train = hist_gb_reg.predict(X_train)\n",
    "y_pred_test = hist_gb_reg.predict(X_test)\n",
    "\n",
    "print(f'학습 MSE: {mean_squared_error(y_train, y_pred_train)} | 학습 R2: {r2_score(y_train, y_pred_train)}')\n",
    "print(f'평가 MSE: {mean_squared_error(y_test, y_pred_test)} | 평가 R2: {r2_score(y_test, y_pred_test)}')"
   ]
  },
  {
   "cell_type": "code",
   "execution_count": null,
   "metadata": {},
   "outputs": [],
   "source": [
    "from sklearn.model_selection import GridSearchCV\n",
    "\n",
    "param_grid = {\n",
    "    'max_iter': [100, 200, 300],\n",
    "    'max_depth': [1, 3, 5],\n",
    "    'learning_rate': [0.01, 0.05, 0.1],\n",
    "    'min_samples_leaf': [10, 20, 30],\n",
    "    'l2_regularization': [0.0, 0.1, 1.0],\n",
    "    'max_bins': [255, 127]\n",
    "}\n",
    "\n",
    "hist_gb_reg = HistGradientBoostingRegressor(random_state=0)\n",
    "grid_search = GridSearchCV(hist_gb_reg, param_grid, cv=3, scoring='neg_mean_squared_error')\n",
    "\n",
    "grid_search.best_params_\n"
   ]
  }
 ],
 "metadata": {
  "kernelspec": {
   "display_name": "pystudy_env",
   "language": "python",
   "name": "python3"
  },
  "language_info": {
   "codemirror_mode": {
    "name": "ipython",
    "version": 3
   },
   "file_extension": ".py",
   "mimetype": "text/x-python",
   "name": "python",
   "nbconvert_exporter": "python",
   "pygments_lexer": "ipython3",
   "version": "3.12.8"
  }
 },
 "nbformat": 4,
 "nbformat_minor": 2
}
