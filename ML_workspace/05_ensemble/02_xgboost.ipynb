{
 "cells": [
  {
   "cell_type": "markdown",
   "metadata": {},
   "source": [
    "# XGBoost\n",
    "https://xgboost.readthedocs.io/en/stable/index.html\n",
    "\n",
    "**핵심 파라미터**\n",
    "1. **learning_rate**: 각 트리의 기여도를 조절하는 학습률로, 값이 작을수록 모델의 복잡도가 낮아지지만 더 많은 트리를 필요로 한다.\n",
    "2. **n_estimators**: 트리의 개수를 의미하며, 많을수록 복잡한 모델이 된다.\n",
    "3. **max_depth**: 각 트리의 최대 깊이로, 트리가 너무 깊으면 과적합될 수 있다.\n",
    "4. **objective**: 손실 함수의 종류로, 회귀 문제의 경우 'reg:squarederror', 분류 문제의 경우 'binary:logistic' 등을 사용한다."
   ]
  },
  {
   "cell_type": "code",
   "execution_count": null,
   "metadata": {},
   "outputs": [
    {
     "name": "stdout",
     "output_type": "stream",
     "text": [
      "Collecting xgboost\n",
      "  Using cached xgboost-2.1.3-py3-none-win_amd64.whl.metadata (2.1 kB)\n",
      "Requirement already satisfied: numpy in c:\\users\\playdata\\anaconda3\\envs\\pystudy_env\\lib\\site-packages (from xgboost) (2.2.1)\n",
      "Requirement already satisfied: scipy in c:\\users\\playdata\\anaconda3\\envs\\pystudy_env\\lib\\site-packages (from xgboost) (1.15.0)\n",
      "Using cached xgboost-2.1.3-py3-none-win_amd64.whl (124.9 MB)\n",
      "Installing collected packages: xgboost\n",
      "Successfully installed xgboost-2.1.3\n"
     ]
    }
   ],
   "source": [
    "# !pip install xgboost"
   ]
  },
  {
   "cell_type": "code",
   "execution_count": 2,
   "metadata": {},
   "outputs": [
    {
     "name": "stdout",
     "output_type": "stream",
     "text": [
      "Requirement already satisfied: scikit-learn in c:\\users\\playdata\\anaconda3\\envs\\pystudy_env\\lib\\site-packages (1.6.1)\n",
      "Requirement already satisfied: numpy>=1.19.5 in c:\\users\\playdata\\anaconda3\\envs\\pystudy_env\\lib\\site-packages (from scikit-learn) (2.2.1)\n",
      "Requirement already satisfied: scipy>=1.6.0 in c:\\users\\playdata\\anaconda3\\envs\\pystudy_env\\lib\\site-packages (from scikit-learn) (1.15.0)\n",
      "Requirement already satisfied: joblib>=1.2.0 in c:\\users\\playdata\\anaconda3\\envs\\pystudy_env\\lib\\site-packages (from scikit-learn) (1.4.2)\n",
      "Requirement already satisfied: threadpoolctl>=3.1.0 in c:\\users\\playdata\\anaconda3\\envs\\pystudy_env\\lib\\site-packages (from scikit-learn) (3.5.0)\n"
     ]
    }
   ],
   "source": [
    "# !pip install --upgrade scikit-learn"
   ]
  },
  {
   "cell_type": "code",
   "execution_count": 3,
   "metadata": {},
   "outputs": [
    {
     "name": "stdout",
     "output_type": "stream",
     "text": [
      "Requirement already satisfied: ipython in c:\\users\\playdata\\anaconda3\\envs\\pystudy_env\\lib\\site-packages (8.30.0)\n",
      "Collecting ipython\n",
      "  Downloading ipython-8.31.0-py3-none-any.whl.metadata (4.9 kB)\n",
      "Requirement already satisfied: numpy in c:\\users\\playdata\\anaconda3\\envs\\pystudy_env\\lib\\site-packages (2.2.1)\n",
      "Collecting numpy\n",
      "  Downloading numpy-2.2.2-cp312-cp312-win_amd64.whl.metadata (60 kB)\n",
      "Requirement already satisfied: scipy in c:\\users\\playdata\\anaconda3\\envs\\pystudy_env\\lib\\site-packages (1.15.0)\n",
      "Collecting scipy\n",
      "  Using cached scipy-1.15.1-cp312-cp312-win_amd64.whl.metadata (60 kB)\n",
      "Requirement already satisfied: colorama in c:\\users\\playdata\\anaconda3\\envs\\pystudy_env\\lib\\site-packages (from ipython) (0.4.6)\n",
      "Requirement already satisfied: decorator in c:\\users\\playdata\\anaconda3\\envs\\pystudy_env\\lib\\site-packages (from ipython) (5.1.1)\n",
      "Requirement already satisfied: jedi>=0.16 in c:\\users\\playdata\\anaconda3\\envs\\pystudy_env\\lib\\site-packages (from ipython) (0.19.2)\n",
      "Requirement already satisfied: matplotlib-inline in c:\\users\\playdata\\anaconda3\\envs\\pystudy_env\\lib\\site-packages (from ipython) (0.1.7)\n",
      "Requirement already satisfied: prompt_toolkit<3.1.0,>=3.0.41 in c:\\users\\playdata\\anaconda3\\envs\\pystudy_env\\lib\\site-packages (from ipython) (3.0.48)\n",
      "Requirement already satisfied: pygments>=2.4.0 in c:\\users\\playdata\\anaconda3\\envs\\pystudy_env\\lib\\site-packages (from ipython) (2.18.0)\n",
      "Requirement already satisfied: stack_data in c:\\users\\playdata\\anaconda3\\envs\\pystudy_env\\lib\\site-packages (from ipython) (0.6.3)\n",
      "Requirement already satisfied: traitlets>=5.13.0 in c:\\users\\playdata\\anaconda3\\envs\\pystudy_env\\lib\\site-packages (from ipython) (5.14.3)\n",
      "Requirement already satisfied: parso<0.9.0,>=0.8.4 in c:\\users\\playdata\\anaconda3\\envs\\pystudy_env\\lib\\site-packages (from jedi>=0.16->ipython) (0.8.4)\n",
      "Requirement already satisfied: wcwidth in c:\\users\\playdata\\anaconda3\\envs\\pystudy_env\\lib\\site-packages (from prompt_toolkit<3.1.0,>=3.0.41->ipython) (0.2.13)\n",
      "Requirement already satisfied: executing>=1.2.0 in c:\\users\\playdata\\anaconda3\\envs\\pystudy_env\\lib\\site-packages (from stack_data->ipython) (2.1.0)\n",
      "Requirement already satisfied: asttokens>=2.1.0 in c:\\users\\playdata\\anaconda3\\envs\\pystudy_env\\lib\\site-packages (from stack_data->ipython) (3.0.0)\n",
      "Requirement already satisfied: pure-eval in c:\\users\\playdata\\anaconda3\\envs\\pystudy_env\\lib\\site-packages (from stack_data->ipython) (0.2.3)\n",
      "Downloading ipython-8.31.0-py3-none-any.whl (821 kB)\n",
      "   ---------------------------------------- 0.0/821.6 kB ? eta -:--:--\n",
      "   --------------------------------------- 821.6/821.6 kB 37.3 MB/s eta 0:00:00\n",
      "Downloading numpy-2.2.2-cp312-cp312-win_amd64.whl (12.6 MB)\n",
      "   ---------------------------------------- 0.0/12.6 MB ? eta -:--:--\n",
      "   ----------------------------------- ---- 11.3/12.6 MB 54.2 MB/s eta 0:00:01\n",
      "   ---------------------------------------- 12.6/12.6 MB 46.4 MB/s eta 0:00:00\n",
      "Using cached scipy-1.15.1-cp312-cp312-win_amd64.whl (43.6 MB)\n",
      "Installing collected packages: numpy, scipy, ipython\n",
      "  Attempting uninstall: numpy\n",
      "    Found existing installation: numpy 2.2.1\n",
      "    Uninstalling numpy-2.2.1:\n",
      "      Successfully uninstalled numpy-2.2.1\n",
      "  Attempting uninstall: scipy\n",
      "    Found existing installation: scipy 1.15.0\n",
      "    Uninstalling scipy-1.15.0:\n",
      "      Successfully uninstalled scipy-1.15.0\n",
      "  Attempting uninstall: ipython\n",
      "    Found existing installation: ipython 8.30.0\n",
      "    Uninstalling ipython-8.30.0:\n",
      "      Successfully uninstalled ipython-8.30.0\n",
      "Successfully installed ipython-8.31.0 numpy-2.2.2 scipy-1.15.1\n"
     ]
    }
   ],
   "source": [
    "# !pip install --upgrade ipython numpy scipy"
   ]
  },
  {
   "cell_type": "code",
   "execution_count": null,
   "metadata": {},
   "outputs": [],
   "source": [
    "from sklearn.datasets import load_iris\n",
    "from sklearn.model_selection import train_test_split\n",
    "from sklearn.metrics import accuracy_score, classification_report\n",
    "from xgboost import XGBClassifier    # xgboost에서는 sklearn과 비슷한 api 제공\n",
    "\n",
    "iris_data = load_iris()\n",
    "X_train, X_test, y_train, y_test = \\\n",
    "    train_test_split(iris_data.data, iris_data.target, random_state=0)\n",
    "\n",
    "xgb_clf = XGBClassifier(\n",
    "    n_estimators=100,\n",
    "    max_depth=3,\n",
    "    learning_rate=0.1,\n",
    "    random_state=0\n",
    ")\n",
    "xgb_clf.fit(X_train, y_train)\n",
    "\n",
    "y_pred_train = xgb_clf.predict(X_train)\n",
    "y_pred_test = xgb_clf.predict(X_test)\n",
    "\n",
    "print(accuracy_score(y_train, y_pred_train))\n",
    "print(accuracy_score(y_test, y_pred_test))\n",
    "\n",
    "print(classification_report(y_test, y_pred_test))"
   ]
  },
  {
   "cell_type": "code",
   "execution_count": null,
   "metadata": {},
   "outputs": [],
   "source": [
    "# 유방암 데이터셋 이진분류\n",
    "from sklearn.datasets import load_breast_cancer\n",
    "\n",
    "data = load_breast_cancer()\n",
    "X_train, X_test, y_train, y_test = train_test_split(data.data, data.target, random_state=0)\n",
    "\n",
    "xgb_clf = XGBClassifier(random_state=0)\n",
    "xgb_clf.fit(X_train, y_train)\n",
    "\n",
    "y_pred_train = xgb_clf.predict(X_train)\n",
    "y_pred_test = xgb_clf.predict(X_test)\n",
    "\n",
    "print(classification_report(y_test, y_pred_test))"
   ]
  },
  {
   "cell_type": "code",
   "execution_count": null,
   "metadata": {},
   "outputs": [],
   "source": [
    "# XGBClassifier에 조기종료 적용 -> 과적합 방지, 훈련시간 단축\n",
    "xgb_clf = XGBClassifier(\n",
    "    n_estimators=500,\n",
    "    learning_rate=0.1,\n",
    "    max_depth=3,\n",
    "    random_state=0,\n",
    "    early_stopping_rounds=10,    # 성능이 일정 횟수 이상 향상되지 않으면 조기종료 (반복을 중단할 횟수)\n",
    "    eval_metric='logloss'\n",
    ")\n",
    "\n",
    "X_tr, X_val, y_tr, y_val = train_test_split(X_train, y_train, random_state=0)\n",
    "eval_set = [(X_tr, y_tr), (X_val, y_val)]\n",
    "print(type(X_tr), type(y_tr), type(X_val), type(y_val))\n",
    "xgb_clf.fit(X_tr, y_tr, eval_set=eval_set, verbose=True)\n",
    "# eval_set: 검증 데이터, verbose: 학습 중 평가 결과 출력 여부"
   ]
  },
  {
   "cell_type": "code",
   "execution_count": null,
   "metadata": {},
   "outputs": [],
   "source": [
    "# 훈련 과정 시각화\n",
    "import matplotlib.pyplot as plt\n",
    "\n",
    "result = xgb_clf.evals_result()\n",
    "train_loss = result['validation_0']['logloss']\n",
    "val_loss = result['validation_1']['logloss']\n",
    "\n",
    "plt.plot(train_loss, label='train')\n",
    "plt.plot(val_loss, label='validation')\n",
    "plt.legend()\n",
    "plt.xlabel('nth round')\n",
    "plt.ylabel('logloss')\n",
    "plt.show()"
   ]
  },
  {
   "cell_type": "code",
   "execution_count": null,
   "metadata": {},
   "outputs": [],
   "source": [
    "xgb_clf.score(X_train, y_train), xgb_clf.score(X_test, y_test)"
   ]
  },
  {
   "cell_type": "code",
   "execution_count": null,
   "metadata": {},
   "outputs": [],
   "source": [
    "# 특성 중요도 시각화\n",
    "from xgboost import plot_importance\n",
    "\n",
    "fig, ax = plt.subplots(figsize=(10, 12))\n",
    "plot_importance(xgb_clf, ax=ax)\n",
    "plt.show()"
   ]
  }
 ],
 "metadata": {
  "kernelspec": {
   "display_name": "pystudy_env",
   "language": "python",
   "name": "python3"
  },
  "language_info": {
   "codemirror_mode": {
    "name": "ipython",
    "version": 3
   },
   "file_extension": ".py",
   "mimetype": "text/x-python",
   "name": "python",
   "nbconvert_exporter": "python",
   "pygments_lexer": "ipython3",
   "version": "3.12.8"
  }
 },
 "nbformat": 4,
 "nbformat_minor": 2
}
