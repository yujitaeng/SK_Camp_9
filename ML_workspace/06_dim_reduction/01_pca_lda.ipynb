{
 "cells": [
  {
   "cell_type": "markdown",
   "metadata": {},
   "source": [
    "# 차원 축소\n",
    "![PCA-LDA](https://d.pr/i/hI0WaD+)"
   ]
  },
  {
   "cell_type": "code",
   "execution_count": null,
   "metadata": {},
   "outputs": [],
   "source": [
    "import numpy as np\n",
    "import pandas as pd\n",
    "import matplotlib.pyplot as plt\n",
    "import seaborn as sns"
   ]
  },
  {
   "cell_type": "markdown",
   "metadata": {},
   "source": [
    "### PCA (Principal Component Analysis)\n",
    "- 데이터를 가장 잘 설명할 수 있는, 분산을 최대화하는 방향으로 축을 결정"
   ]
  },
  {
   "cell_type": "code",
   "execution_count": null,
   "metadata": {},
   "outputs": [],
   "source": [
    "from sklearn.datasets import load_iris\n",
    "\n",
    "iris_data = load_iris()\n",
    "iris_df = pd.DataFrame(iris_data.data, columns=iris_data.feature_names)\n",
    "iris_df['target'] = iris_data.target\n",
    "iris_df.head()"
   ]
  },
  {
   "cell_type": "code",
   "execution_count": null,
   "metadata": {},
   "outputs": [],
   "source": [
    "# 특성 2개만 뽑아서 시각화\n",
    "markers = ['^', 's', 'o']\n",
    "\n",
    "for i, marker in enumerate(markers):\n",
    "    x = iris_df[iris_df['target'] == i]['sepal length (cm)']\n",
    "    y = iris_df[iris_df['target'] == i]['sepal width (cm)']\n",
    "    plt.scatter(x, y, marker=marker, label=iris_data.target_names[i])\n",
    "\n",
    "plt.legend()\n",
    "plt.xlabel('sepal length')\n",
    "plt.ylabel('sepal width')\n",
    "plt.show()"
   ]
  },
  {
   "cell_type": "code",
   "execution_count": 8,
   "metadata": {},
   "outputs": [],
   "source": [
    "# PCA 주성분 분석\n",
    "from sklearn.decomposition import PCA\n",
    "\n",
    "pca = PCA(n_components=2)    # 2차원으로 축소\n",
    "\n",
    "X = iris_df.iloc[:, :-1]    # 독립변수(특성 데이터)만 모아서 X\n",
    "\n",
    "pca.fit(X)\n",
    "iris_pca = pca.transform(X)    # 변환\n",
    "\n",
    "iris_pca_df = pd.DataFrame(iris_pca, columns=['pca_col1', 'pca_col2'])\n",
    "iris_pca_df['target'] = iris_data.target"
   ]
  },
  {
   "cell_type": "code",
   "execution_count": null,
   "metadata": {},
   "outputs": [],
   "source": [
    "# 축소한 차원으로 시각화\n",
    "markers = ['^', 's', 'o']\n",
    "\n",
    "for i, marker in enumerate(markers):\n",
    "    x = iris_pca_df[iris_pca_df['target'] == i]['pca_col1']\n",
    "    y = iris_pca_df[iris_pca_df['target'] == i]['pca_col2']\n",
    "    plt.scatter(x, y, marker=marker, label=iris_data.target_names[i])\n",
    "\n",
    "plt.legend()\n",
    "plt.xlabel('pca_col1')\n",
    "plt.ylabel('pca_col2')\n",
    "plt.show()"
   ]
  },
  {
   "cell_type": "code",
   "execution_count": null,
   "metadata": {},
   "outputs": [],
   "source": [
    "# PCA를 통해 생성된 주성분들이 실제 데이터의 총 분산에 얼마만큼의 비율을 나타내는지\n",
    "pca.explained_variance_ratio_"
   ]
  },
  {
   "cell_type": "code",
   "execution_count": null,
   "metadata": {},
   "outputs": [],
   "source": [
    "# 원본 데이터 학습 및 평가\n",
    "from sklearn.linear_model import LogisticRegression\n",
    "from sklearn.model_selection import cross_val_score\n",
    "\n",
    "lr_clf = LogisticRegression(max_iter=1000)\n",
    "scores = cross_val_score(lr_clf, iris_data.data, iris_data.target, cv=5)\n",
    "print(\"원본 데이터 평가:\", np.mean(scores))"
   ]
  },
  {
   "cell_type": "code",
   "execution_count": null,
   "metadata": {},
   "outputs": [],
   "source": [
    "# PCA 데이터 학습 및 평가\n",
    "lr_clf = LogisticRegression(max_iter=1000)\n",
    "scores = cross_val_score(lr_clf, iris_pca_df[['pca_col1', 'pca_col2']], \n",
    "                         iris_pca_df['target'], cv=5)\n",
    "print(\"PCA 데이터 평가:\", np.mean(scores))"
   ]
  },
  {
   "cell_type": "markdown",
   "metadata": {},
   "source": [
    "##### PCA 과일 데이터\n",
    "- 흑백 이미지 데이터 픽셀값 0(흑)~255(백)"
   ]
  },
  {
   "cell_type": "code",
   "execution_count": null,
   "metadata": {},
   "outputs": [],
   "source": [
    "fruits = np.load('./data/fruits_300.npy')\n",
    "fruits.shape    # (300, 100, 100) = 300개의 이미지 * 100행 * 100열"
   ]
  },
  {
   "cell_type": "code",
   "execution_count": 19,
   "metadata": {},
   "outputs": [],
   "source": [
    "# 이미지 시각화 함수\n",
    "def draw_fruits(arr, ratio=1):\n",
    "    N = len(arr)\n",
    "    rows = int(np.ceil(N / 10))\n",
    "    cols = N if rows < 2 else 10\n",
    "    fig, ax = plt.subplots(rows, cols, figsize=(cols * ratio, rows * ratio), squeeze=False)\n",
    "    \n",
    "    for i in range(rows):\n",
    "        for j in range(cols):\n",
    "            if i * 10 + j < N:\n",
    "                ax[i, j].imshow(arr[i * 10 + j], cmap='gray_r')\n",
    "            ax[i, j].axis('off')\n",
    "    \n",
    "    plt.show()"
   ]
  },
  {
   "cell_type": "code",
   "execution_count": null,
   "metadata": {},
   "outputs": [],
   "source": [
    "draw_fruits(fruits[:100])\n",
    "draw_fruits(fruits[100:200])\n",
    "draw_fruits(fruits[200:])"
   ]
  },
  {
   "cell_type": "code",
   "execution_count": null,
   "metadata": {},
   "outputs": [],
   "source": [
    "# 1차원으로 펼치기\n",
    "fruits_1d = fruits.reshape(300, 100 * 100)\n",
    "fruits_1d.shape"
   ]
  },
  {
   "cell_type": "code",
   "execution_count": null,
   "metadata": {},
   "outputs": [],
   "source": [
    "# PCA 주성분 50개로 차원 축소\n",
    "pca = PCA(n_components=50)\n",
    "pca.fit(fruits_1d)"
   ]
  },
  {
   "cell_type": "code",
   "execution_count": null,
   "metadata": {},
   "outputs": [],
   "source": [
    "pca.components_.shape    # (50, 10000) = (PCA로 구현한 주성분 개수, 원본 데이터 특성 개수)"
   ]
  },
  {
   "cell_type": "code",
   "execution_count": null,
   "metadata": {},
   "outputs": [],
   "source": [
    "draw_fruits(pca.components_.reshape(-1, 100, 100))"
   ]
  },
  {
   "cell_type": "code",
   "execution_count": null,
   "metadata": {},
   "outputs": [],
   "source": [
    "fruits_pca = pca.transform(fruits_1d)\n",
    "fruits_pca.shape"
   ]
  },
  {
   "cell_type": "code",
   "execution_count": 28,
   "metadata": {},
   "outputs": [],
   "source": [
    "# PCA 데이터 저장\n",
    "np.save('./data/fruits_pca.npy', fruits_pca)"
   ]
  },
  {
   "cell_type": "code",
   "execution_count": 29,
   "metadata": {},
   "outputs": [],
   "source": [
    "# 저장한 PCA 데이터 로드\n",
    "fruits_pca = np.load('./data/fruits_pca.npy')"
   ]
  },
  {
   "cell_type": "code",
   "execution_count": null,
   "metadata": {},
   "outputs": [],
   "source": [
    "# 주성분 비율\n",
    "print(pca.explained_variance_ratio_)\n",
    "print(pca.explained_variance_ratio_.sum())\n",
    "plt.plot(pca.explained_variance_ratio_)\n",
    "plt.show()"
   ]
  },
  {
   "cell_type": "code",
   "execution_count": 32,
   "metadata": {},
   "outputs": [],
   "source": [
    "# 라벨 데이터 생성\n",
    "target = np.array([0] * 100 + [1] * 100 + [2] * 100)"
   ]
  },
  {
   "cell_type": "code",
   "execution_count": null,
   "metadata": {},
   "outputs": [],
   "source": [
    "# 원본 데이터 교차검증 점수 확인\n",
    "\n",
    "# cross_val_score : 각 cv의 점수 반환\n",
    "# cross_validate : 각 cv의 학습시간, 테스트시간, cv의 점수 반환 (평가지표 여러 개 사용 가능)\n",
    "from sklearn.model_selection import cross_validate\n",
    "\n",
    "lr_clf = LogisticRegression(max_iter=1000)\n",
    "result = cross_validate(lr_clf, fruits_1d, target, cv=3)\n",
    "result"
   ]
  },
  {
   "cell_type": "code",
   "execution_count": null,
   "metadata": {},
   "outputs": [],
   "source": [
    "# PCA 데이터 교차검증 점수 확인\n",
    "result_pca = cross_validate(lr_clf, fruits_pca, target, cv=3)\n",
    "result_pca"
   ]
  },
  {
   "cell_type": "code",
   "execution_count": null,
   "metadata": {},
   "outputs": [],
   "source": [
    "# 원본 데이터 복구\n",
    "fruits_inverse = pca.inverse_transform(fruits_pca)\n",
    "fruits_inverse.shape"
   ]
  },
  {
   "cell_type": "code",
   "execution_count": null,
   "metadata": {},
   "outputs": [],
   "source": [
    "# 복구 이미지 시각화\n",
    "draw_fruits(fruits_inverse.reshape(-1, 100, 100))"
   ]
  },
  {
   "cell_type": "markdown",
   "metadata": {},
   "source": [
    "### LDA (Linear Discriminant Analysis)\n",
    "- 타겟 클래스 간 분리를 최대로 하는 축으로 결정"
   ]
  },
  {
   "cell_type": "code",
   "execution_count": null,
   "metadata": {},
   "outputs": [],
   "source": [
    "from sklearn.preprocessing import StandardScaler\n",
    "\n",
    "iris_data = load_iris()\n",
    "\n",
    "scaler = StandardScaler()\n",
    "iris_scaled = scaler.fit_transform(iris_data.data)\n",
    "iris_scaled"
   ]
  },
  {
   "cell_type": "code",
   "execution_count": 38,
   "metadata": {},
   "outputs": [],
   "source": [
    "# LDA 변환\n",
    "from sklearn.discriminant_analysis import LinearDiscriminantAnalysis\n",
    "\n",
    "lda = LinearDiscriminantAnalysis(n_components=2)\n",
    "iris_lda = lda.fit_transform(iris_scaled, iris_data.target)"
   ]
  },
  {
   "cell_type": "code",
   "execution_count": 39,
   "metadata": {},
   "outputs": [
    {
     "data": {
      "image/png": "[encoded data removed]",
      "text/plain": [
       "<Figure size 640x480 with 1 Axes>"
      ]
     },
     "metadata": {},
     "output_type": "display_data"
    }
   ],
   "source": [
    "# LDA로 축소한 데이터 시각화 \n",
    "iris_lda_df = pd.DataFrame(iris_lda, columns=['lda_col1', 'lda_col2'])\n",
    "iris_lda_df['target'] = iris_data.target\n",
    "\n",
    "markers = ['^', 's', 'o']\n",
    "\n",
    "for i, marker in enumerate(markers):\n",
    "    x = iris_lda_df[iris_lda_df['target'] == i]['lda_col1']\n",
    "    y = iris_lda_df[iris_lda_df['target'] == i]['lda_col2']\n",
    "    plt.scatter(x, y, marker=marker, label=iris_data.target_names[i])\n",
    "\n",
    "plt.legend()\n",
    "plt.xlabel('lda_col1')\n",
    "plt.ylabel('lda_col2')\n",
    "plt.show()"
   ]
  },
  {
   "cell_type": "markdown",
   "metadata": {},
   "source": [
    "### LLE (Locally Linear Embedding)\n",
    "- 데이터 포인트를 근접한 이웃과 선형 결합으로 표현하고 이를 유지하도록 저차원 공간에 매핑"
   ]
  },
  {
   "cell_type": "code",
   "execution_count": 40,
   "metadata": {},
   "outputs": [
    {
     "data": {
      "image/png": "[encoded data removed]",
      "text/plain": [
       "<Figure size 640x480 with 1 Axes>"
      ]
     },
     "metadata": {},
     "output_type": "display_data"
    }
   ],
   "source": [
    "from sklearn.manifold import LocallyLinearEmbedding\n",
    "\n",
    "iris_data = load_iris()\n",
    "\n",
    "# LLE 변환\n",
    "lle = LocallyLinearEmbedding(n_components=2, n_neighbors=10)\n",
    "iris_lle = lle.fit_transform(iris_data.data)\n",
    "\n",
    "# 시각화\n",
    "iris_lle_df = pd.DataFrame(iris_lle, columns=['lle_col1', 'lle_col2'])\n",
    "iris_lle_df['target'] = iris_data.target\n",
    "\n",
    "markers = ['^', 's', 'o']\n",
    "\n",
    "for i, marker in enumerate(markers):\n",
    "    x = iris_lle_df[iris_lle_df['target'] == i]['lle_col1']\n",
    "    y = iris_lle_df[iris_lle_df['target'] == i]['lle_col2']\n",
    "    plt.scatter(x, y, marker=marker, label=iris_data.target_names[i])\n",
    "\n",
    "plt.legend()\n",
    "plt.xlabel('lle_col1')\n",
    "plt.ylabel('lle_col2')\n",
    "plt.show()"
   ]
  },
  {
   "cell_type": "code",
   "execution_count": 145,
   "metadata": {},
   "outputs": [
    {
     "data": {
      "text/plain": [
       "{'fit_time': array([0.00558138, 0.00305676, 0.00267005]),\n",
       " 'score_time': array([0.0016551 , 0.        , 0.00101018]),\n",
       " 'test_score': array([0.94, 0.9 , 0.9 ])}"
      ]
     },
     "execution_count": 145,
     "metadata": {},
     "output_type": "execute_result"
    }
   ],
   "source": [
    "# LLE 변환 데이터 교차 검증 확인\n",
    "result = cross_validate(lr_clf, iris_lle_df[['lle_col1', 'lle_col2']], iris_lle_df['target'], cv=3)\n",
    "result"
   ]
  },
  {
   "cell_type": "code",
   "execution_count": 146,
   "metadata": {},
   "outputs": [
    {
     "name": "stdout",
     "output_type": "stream",
     "text": [
      "10\n",
      "2\n",
      "5.1168977786832e-07\n"
     ]
    }
   ],
   "source": [
    "# LLE 속성\n",
    "print(lle.n_neighbors)    # 이웃 수\n",
    "print(lle.n_components)    # 축소된 차원수\n",
    "print(lle.reconstruction_error_)    # 재구성 오차"
   ]
  }
 ],
 "metadata": {
  "kernelspec": {
   "display_name": "pystudy_env",
   "language": "python",
   "name": "python3"
  },
  "language_info": {
   "codemirror_mode": {
    "name": "ipython",
    "version": 3
   },
   "file_extension": ".py",
   "mimetype": "text/x-python",
   "name": "python",
   "nbconvert_exporter": "python",
   "pygments_lexer": "ipython3",
   "version": "3.12.8"
  }
 },
 "nbformat": 4,
 "nbformat_minor": 2
}
