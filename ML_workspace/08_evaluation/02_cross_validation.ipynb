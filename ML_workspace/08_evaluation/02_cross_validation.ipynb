{
 "cells": [
  {
   "cell_type": "markdown",
   "metadata": {},
   "source": [
    "# 교차검증 (Cross Validation)\n",
    "- 모델을 더욱 신뢰성 있게 평가하는 방법\n",
    "- 데이터셋을 여러 개로 나누고, 각 부분이 한번씩 검증 데이터로 사용되도록 하는 방법\n",
    "- 훈련-검증을 반복하면서 학습을 진행\n",
    "- 과대적합 방지 효과"
   ]
  },
  {
   "cell_type": "code",
   "execution_count": null,
   "metadata": {},
   "outputs": [],
   "source": [
    "import numpy as np\n",
    "import pandas as pd\n",
    "import matplotlib.pyplot as plt\n",
    "import seaborn as sns"
   ]
  },
  {
   "cell_type": "markdown",
   "metadata": {},
   "source": [
    "### K-fold\n",
    "\n",
    "![](https://d.pr/i/0pWjyI+)"
   ]
  },
  {
   "cell_type": "code",
   "execution_count": null,
   "metadata": {},
   "outputs": [],
   "source": [
    "# 데이터 로드\n",
    "from sklearn.datasets import load_iris\n",
    "\n",
    "iris_input, iris_target = load_iris(return_X_y=True)    # data, target\n",
    "np.unique(iris_target, return_counts=True)"
   ]
  },
  {
   "cell_type": "code",
   "execution_count": null,
   "metadata": {},
   "outputs": [],
   "source": [
    "from sklearn.linear_model import LogisticRegression\n",
    "from sklearn.model_selection import KFold\n",
    "from sklearn.metrics import accuracy_score\n",
    "\n",
    "# 모델 생성\n",
    "lr_clf = LogisticRegression()\n",
    "\n",
    "# 교차검증 KFold 객체 생성\n",
    "# - n_splits: 폴드 개수, shuffle: 폴드로 나누기 전에 섞을건지 여부\n",
    "kfold = KFold(n_splits=5, shuffle=True, random_state=42)    \n",
    "\n",
    "# k번 반복하면서 평가한 정확도를 저장할 배열\n",
    "cv_accuracy = []\n",
    "\n",
    "for train_index, val_index in kfold.split(iris_input):\n",
    "    X_train, y_train = iris_input[train_index], iris_target[train_index]\n",
    "    X_val, y_val = iris_input[val_index], iris_target[val_index]\n",
    "\n",
    "    print(np.unique(y_train, return_counts=True))\n",
    "    print(np.unique(y_val, return_counts=True))\n",
    "    print(\"====================================\")\n",
    "\n",
    "    lr_clf.fit(X_train, y_train)    # 모델 학습\n",
    "    y_pred = lr_clf.predict(X_val)    # 검증 데이터로 예측\n",
    "    acc_score = accuracy_score(y_val, y_pred)    # 정확도 계산\n",
    "    cv_accuracy.append(acc_score)    # cv_accuracy 배열에 정확도 추가\n",
    "\n",
    "print(\"훈련별 정확도:\", cv_accuracy)\n",
    "print(\"분류모델 정확도:\", np.mean(cv_accuracy))"
   ]
  },
  {
   "cell_type": "markdown",
   "metadata": {},
   "source": [
    "### Stratified-K-Fold"
   ]
  },
  {
   "cell_type": "code",
   "execution_count": null,
   "metadata": {},
   "outputs": [],
   "source": [
    "from sklearn.linear_model import LogisticRegression\n",
    "from sklearn.model_selection import StratifiedKFold\n",
    "from sklearn.metrics import accuracy_score\n",
    "\n",
    "# 모델 생성\n",
    "lr_clf = LogisticRegression()\n",
    "\n",
    "# 교차검증 StratifiedKFold 객체 생성\n",
    "# - n_splits: 폴드 개수\n",
    "stratified_kfold = StratifiedKFold(n_splits=5)\n",
    "\n",
    "# k번 반복하면서 평가한 정확도를 저장할 배열\n",
    "cv_accuracy = []\n",
    "\n",
    "for train_index, val_index in stratified_kfold.split(iris_input, iris_target):\n",
    "    X_train, y_train = iris_input[train_index], iris_target[train_index]\n",
    "    X_val, y_val = iris_input[val_index], iris_target[val_index]\n",
    "\n",
    "    print(np.unique(y_train, return_counts=True))\n",
    "    print(np.unique(y_val, return_counts=True))\n",
    "    print(\"====================================\")\n",
    "\n",
    "    lr_clf.fit(X_train, y_train)    # 모델 학습\n",
    "    y_pred = lr_clf.predict(X_val)    # 검증 데이터로 예측\n",
    "    acc_score = accuracy_score(y_val, y_pred)    # 정확도 계산\n",
    "    cv_accuracy.append(acc_score)    # cv_accuracy 배열에 정확도 추가\n",
    "\n",
    "print(\"훈련별 정확도:\", cv_accuracy)\n",
    "print(\"분류모델 정확도:\", np.mean(cv_accuracy))"
   ]
  },
  {
   "cell_type": "markdown",
   "metadata": {},
   "source": [
    "### cross_val_score\n",
    "- 교차검증을 통해 모델 성능을 평가하는 함수\n",
    "- 내부적으로 지정한 횟수만큼 학습/검증을 나누어 반복 처리"
   ]
  },
  {
   "cell_type": "code",
   "execution_count": null,
   "metadata": {},
   "outputs": [],
   "source": [
    "from sklearn.model_selection import cross_val_score\n",
    "\n",
    "lr_clf = LogisticRegression(max_iter=1000)\n",
    "\n",
    "# 첫 번째 인자: 모델\n",
    "# 두 번째 인자: 입력 데이터\n",
    "# 세 번째 인자: 라벨 데이터\n",
    "# scoring: 평가 지표 (accuracy, precision, recall, f1)\n",
    "# cv: 반복 횟수(KFold 사용, StratifiedKFold 객체 전달 가능)\n",
    "# 반환값 = 반복한 훈련별 검증 점수 배열\n",
    "scores = cross_val_score(lr_clf, iris_input, iris_target, scoring='accuracy', cv=5)\n",
    "\n",
    "print(\"훈련별 정확도:\", scores)\n",
    "print(\"모델 정확도:\", np.mean(scores))"
   ]
  }
 ],
 "metadata": {
  "kernelspec": {
   "display_name": "pystudy_env",
   "language": "python",
   "name": "python3"
  },
  "language_info": {
   "codemirror_mode": {
    "name": "ipython",
    "version": 3
   },
   "file_extension": ".py",
   "mimetype": "text/x-python",
   "name": "python",
   "nbconvert_exporter": "python",
   "pygments_lexer": "ipython3",
   "version": "3.12.8"
  }
 },
 "nbformat": 4,
 "nbformat_minor": 2
}
