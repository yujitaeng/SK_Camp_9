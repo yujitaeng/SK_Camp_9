{
 "cells": [
  {
   "cell_type": "markdown",
   "metadata": {},
   "source": [
    "# SMOTE 적용"
   ]
  },
  {
   "cell_type": "code",
   "execution_count": 6,
   "metadata": {},
   "outputs": [],
   "source": [
    "# !pip install imbalanced-learn"
   ]
  },
  {
   "cell_type": "markdown",
   "metadata": {},
   "source": [
    "##### **📌 `imblearn` (imbalanced-learn) 패키지**\n",
    "**주요 기능**\n",
    "1. **오버샘플링(Over-sampling)** → 소수 클래스 데이터 샘플을 증가시킴  \n",
    "   - `SMOTE` (Synthetic Minority Over-sampling Technique)  \n",
    "   - `ADASYN` (Adaptive Synthetic Sampling)  \n",
    "\n",
    "2. **언더샘플링(Under-sampling)** → 다수 클래스 데이터 샘플을 줄임  \n",
    "   - `RandomUnderSampler`  \n",
    "   - `NearMiss`  \n",
    "\n",
    "3. **앙상블 기법(Ensemble Methods)**  \n",
    "   - `BalancedBaggingClassifier` → 클래스 균형을 유지하며 배깅 적용  \n",
    "   - `BalancedRandomForestClassifier` → 불균형 데이터에 최적화된 랜덤 포레스트  \n",
    "\n",
    "4. **SMOTE 변형 기법**  \n",
    "   - `BorderlineSMOTE` → 경계선 샘플만 증강  \n",
    "   - `SMOTENC` → 범주형 데이터를 포함한 SMOTE  "
   ]
  },
  {
   "cell_type": "code",
   "execution_count": 10,
   "metadata": {},
   "outputs": [
    {
     "name": "stdout",
     "output_type": "stream",
     "text": [
      "Before SMOTE: [897 103]\n",
      "After SMOTE: [897 897]\n",
      "(1794, 20) (1794,)\n"
     ]
    }
   ],
   "source": [
    "import numpy as np\n",
    "from imblearn.over_sampling import SMOTE\n",
    "from sklearn.datasets import make_classification\n",
    "\n",
    "X, y = make_classification(\n",
    "    n_classes=2,\n",
    "    weights=[0.9, 0.1],\n",
    "    n_samples=1000,\n",
    "    random_state=42\n",
    ")\n",
    "\n",
    "print(f\"Before SMOTE: {np.bincount(y)}\")\n",
    "\n",
    "smote = SMOTE(random_state=42)\n",
    "X_resample, y_resample = smote.fit_resample(X, y)\n",
    "\n",
    "print(f\"After SMOTE: {np.bincount(y_resample)}\")\n",
    "print(X_resample.shape, y_resample.shape)"
   ]
  },
  {
   "cell_type": "code",
   "execution_count": null,
   "metadata": {},
   "outputs": [
    {
     "name": "stdout",
     "output_type": "stream",
     "text": [
      "              precision    recall  f1-score   support\n",
      "\n",
      "           0       0.97      1.00      0.99       179\n",
      "           1       1.00      0.76      0.86        21\n",
      "\n",
      "    accuracy                           0.97       200\n",
      "   macro avg       0.99      0.88      0.93       200\n",
      "weighted avg       0.98      0.97      0.97       200\n",
      "\n"
     ]
    }
   ],
   "source": [
    "from sklearn.model_selection import train_test_split\n",
    "from sklearn.metrics import classification_report\n",
    "from sklearn.ensemble import RandomForestClassifier\n",
    "\n",
    "X_train, X_test, y_train, y_test = \\\n",
    "    train_test_split(X, y, test_size=0.2, random_state=0, stratify=y)\n",
    "\n",
    "model = RandomForestClassifier(random_state=0)\n",
    "model.fit(X_train, y_train)\n",
    "\n",
    "y_pred = model.predict(X_test)\n",
    "print(classification_report(y_test, y_pred))"
   ]
  },
  {
   "cell_type": "code",
   "execution_count": 11,
   "metadata": {},
   "outputs": [
    {
     "name": "stdout",
     "output_type": "stream",
     "text": [
      "              precision    recall  f1-score   support\n",
      "\n",
      "           0       0.97      0.96      0.96       181\n",
      "           1       0.96      0.97      0.96       178\n",
      "\n",
      "    accuracy                           0.96       359\n",
      "   macro avg       0.96      0.96      0.96       359\n",
      "weighted avg       0.96      0.96      0.96       359\n",
      "\n"
     ]
    }
   ],
   "source": [
    "X_train, X_test, y_train, y_test = \\\n",
    "    train_test_split(X_resample, y_resample, test_size=0.2, random_state=0)\n",
    "\n",
    "model = RandomForestClassifier(random_state=0)\n",
    "model.fit(X_train, y_train)\n",
    "\n",
    "y_pred = model.predict(X_test)\n",
    "print(classification_report(y_test, y_pred))"
   ]
  }
 ],
 "metadata": {
  "kernelspec": {
   "display_name": "pystudy_env",
   "language": "python",
   "name": "python3"
  },
  "language_info": {
   "codemirror_mode": {
    "name": "ipython",
    "version": 3
   },
   "file_extension": ".py",
   "mimetype": "text/x-python",
   "name": "python",
   "nbconvert_exporter": "python",
   "pygments_lexer": "ipython3",
   "version": "3.12.8"
  }
 },
 "nbformat": 4,
 "nbformat_minor": 2
}
