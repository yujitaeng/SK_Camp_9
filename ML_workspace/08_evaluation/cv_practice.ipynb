{
 "cells": [
  {
   "cell_type": "markdown",
   "metadata": {},
   "source": [
    "# 교차 검증 실습"
   ]
  },
  {
   "cell_type": "code",
   "execution_count": 12,
   "metadata": {},
   "outputs": [],
   "source": [
    "import numpy as np\n",
    "import pandas as pd\n",
    "from sklearn.preprocessing import StandardScaler\n",
    "from sklearn.model_selection import train_test_split, cross_val_score, GridSearchCV, StratifiedKFold\n",
    "from sklearn.linear_model import LogisticRegression\n",
    "from sklearn.metrics import accuracy_score"
   ]
  },
  {
   "cell_type": "code",
   "execution_count": 5,
   "metadata": {},
   "outputs": [],
   "source": [
    "fish_df = pd.read_csv('./data/fish.csv')\n",
    "fish_input = fish_df.drop('Species', axis=1)\n",
    "fish_target = fish_df['Species']\n",
    "\n",
    "X_train, X_test, y_train, y_test = \\\n",
    "    train_test_split(fish_input, fish_target, random_state=42, stratify=fish_target)\n",
    "\n",
    "scaler = StandardScaler()\n",
    "X_train_scaled = scaler.fit_transform(X_train)\n",
    "X_test_scaled = scaler.transform(X_test)"
   ]
  },
  {
   "cell_type": "markdown",
   "metadata": {},
   "source": [
    "### 생선 다중 분류 with cross_val_score"
   ]
  },
  {
   "cell_type": "code",
   "execution_count": null,
   "metadata": {},
   "outputs": [
    {
     "name": "stdout",
     "output_type": "stream",
     "text": [
      "[0.875      0.83333333 0.83333333 0.79166667 0.73913043]\n",
      "0.8144927536231885\n",
      "0.825\n"
     ]
    }
   ],
   "source": [
    "lr_clf = LogisticRegression(max_iter=1000, solver='newton-cg')\n",
    "\n",
    "# 교차검증 점수\n",
    "scores = cross_val_score(lr_clf, X_train_scaled, y_train, scoring=\"accuracy\", cv=5)\n",
    "print(scores)\n",
    "print(np.mean(scores))\n",
    "\n",
    "# 예측 결과 평가\n",
    "lr_clf.fit(X_train_scaled, y_train)\n",
    "y_pred = lr_clf.predict(X_test_scaled)\n",
    "acc_score = accuracy_score(y_test, y_pred)\n",
    "print(acc_score)"
   ]
  },
  {
   "cell_type": "markdown",
   "metadata": {},
   "source": [
    "### 생선 다중 분류 with GridSearchCV"
   ]
  },
  {
   "cell_type": "code",
   "execution_count": 13,
   "metadata": {},
   "outputs": [
    {
     "name": "stdout",
     "output_type": "stream",
     "text": [
      "{'max_iter': 500, 'solver': 'newton-cg'}\n",
      "0.8144927536231885\n",
      "LogisticRegression(max_iter=500, solver='newton-cg')\n",
      "0.825\n"
     ]
    }
   ],
   "source": [
    "lr_clf = LogisticRegression()\n",
    "\n",
    "# GridSearchCV 사용 -> 최적의 파라미터, 평가 점수, 모델 확인\n",
    "params = {\n",
    "    'max_iter': [500, 1000, 1500, 2000],\n",
    "    'solver': ['liblinear', 'newton-cg', 'lbfgs']\n",
    "}\n",
    "\n",
    "stratified_kfold = StratifiedKFold(n_splits=5)\n",
    "grid_search = GridSearchCV(lr_clf, params, scoring='accuracy', cv=stratified_kfold)\n",
    "grid_search.fit(X_train_scaled, y_train)\n",
    "print(grid_search.best_params_)\n",
    "print(grid_search.best_score_)\n",
    "print(grid_search.best_estimator_)\n",
    "\n",
    "# 예측 결과 평가\n",
    "best_model = grid_search.best_estimator_\n",
    "best_model.fit(X_train_scaled, y_train)\n",
    "print(best_model.score(X_test_scaled, y_test))"
   ]
  }
 ],
 "metadata": {
  "kernelspec": {
   "display_name": "pystudy_env",
   "language": "python",
   "name": "python3"
  },
  "language_info": {
   "codemirror_mode": {
    "name": "ipython",
    "version": 3
   },
   "file_extension": ".py",
   "mimetype": "text/x-python",
   "name": "python",
   "nbconvert_exporter": "python",
   "pygments_lexer": "ipython3",
   "version": "3.12.8"
  }
 },
 "nbformat": 4,
 "nbformat_minor": 2
}
