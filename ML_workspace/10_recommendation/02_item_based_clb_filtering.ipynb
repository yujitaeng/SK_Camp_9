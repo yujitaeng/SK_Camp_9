{
 "cells": [
  {
   "cell_type": "markdown",
   "metadata": {},
   "source": [
    "### 아이템 기반 협업 필터링 (Item-based Collaborative Filtering)"
   ]
  },
  {
   "cell_type": "markdown",
   "metadata": {},
   "source": [
    "- 특정 아이템과 유사한 다른 아이템을 찾아 추천하는 방식\n",
    "- 사용자의 과거 행동 데이터를 바탕으로 각 아이템 간의 유사도를 계산하고, 이를 기반으로 추천 생성\n",
    "\n",
    "**과정**\n",
    "1. 아이템 간 유사도 계산\n",
    "2. 사용자의 선호도 파악\n",
    "3. 가중 평점 예측\n",
    "4. 추천 제공\n",
    "\n",
    "**장점**\n",
    "- 사용자 수가 많아지더라도 유사도 계산에 소요되는 시간 비교적 적음\n",
    "- 아이템의 특성을 고려하지 않으므로 특성 데이터가 부족하더라도 활용 가능\n",
    "\n",
    "**단점**\n",
    "- 아이템 간 유사도만 고려하므로 사용자의 선호 변화나 개인 취향 반영이 어려울 수 있음\n",
    "- 충분한 기반 데이터가 없는 경우 정확한 유사도 계산이 어려움 (Cold Start)"
   ]
  },
  {
   "cell_type": "code",
   "execution_count": 53,
   "metadata": {},
   "outputs": [],
   "source": [
    "import numpy as np\n",
    "import pandas as pd"
   ]
  },
  {
   "cell_type": "code",
   "execution_count": 54,
   "metadata": {},
   "outputs": [
    {
     "data": {
      "text/plain": [
       "((9742, 3), (100836, 4))"
      ]
     },
     "execution_count": 54,
     "metadata": {},
     "output_type": "execute_result"
    }
   ],
   "source": [
    "movies_df = pd.read_csv('./data/ml-latest-small/movies.csv')\n",
    "ratings_df = pd.read_csv('./data/ml-latest-small/ratings.csv')\n",
    "movies_df.shape, ratings_df.shape"
   ]
  },
  {
   "cell_type": "code",
   "execution_count": 55,
   "metadata": {},
   "outputs": [
    {
     "data": {
      "text/html": [
       "<div>\n",
       "<style scoped>\n",
       "    .dataframe tbody tr th:only-of-type {\n",
       "        vertical-align: middle;\n",
       "    }\n",
       "\n",
       "    .dataframe tbody tr th {\n",
       "        vertical-align: top;\n",
       "    }\n",
       "\n",
       "    .dataframe thead th {\n",
       "        text-align: right;\n",
       "    }\n",
       "</style>\n",
       "<table border=\"1\" class=\"dataframe\">\n",
       "  <thead>\n",
       "    <tr style=\"text-align: right;\">\n",
       "      <th></th>\n",
       "      <th>userId</th>\n",
       "      <th>movieId</th>\n",
       "      <th>rating</th>\n",
       "      <th>timestamp</th>\n",
       "    </tr>\n",
       "  </thead>\n",
       "  <tbody>\n",
       "    <tr>\n",
       "      <th>0</th>\n",
       "      <td>1</td>\n",
       "      <td>1</td>\n",
       "      <td>4.0</td>\n",
       "      <td>964982703</td>\n",
       "    </tr>\n",
       "    <tr>\n",
       "      <th>1</th>\n",
       "      <td>1</td>\n",
       "      <td>3</td>\n",
       "      <td>4.0</td>\n",
       "      <td>964981247</td>\n",
       "    </tr>\n",
       "    <tr>\n",
       "      <th>2</th>\n",
       "      <td>1</td>\n",
       "      <td>6</td>\n",
       "      <td>4.0</td>\n",
       "      <td>964982224</td>\n",
       "    </tr>\n",
       "    <tr>\n",
       "      <th>3</th>\n",
       "      <td>1</td>\n",
       "      <td>47</td>\n",
       "      <td>5.0</td>\n",
       "      <td>964983815</td>\n",
       "    </tr>\n",
       "    <tr>\n",
       "      <th>4</th>\n",
       "      <td>1</td>\n",
       "      <td>50</td>\n",
       "      <td>5.0</td>\n",
       "      <td>964982931</td>\n",
       "    </tr>\n",
       "  </tbody>\n",
       "</table>\n",
       "</div>"
      ],
      "text/plain": [
       "   userId  movieId  rating  timestamp\n",
       "0       1        1     4.0  964982703\n",
       "1       1        3     4.0  964981247\n",
       "2       1        6     4.0  964982224\n",
       "3       1       47     5.0  964983815\n",
       "4       1       50     5.0  964982931"
      ]
     },
     "execution_count": 55,
     "metadata": {},
     "output_type": "execute_result"
    }
   ],
   "source": [
    "# movies_df.head()\n",
    "ratings_df.head()"
   ]
  },
  {
   "cell_type": "code",
   "execution_count": 56,
   "metadata": {},
   "outputs": [
    {
     "name": "stdout",
     "output_type": "stream",
     "text": [
      "(100836, 6)\n"
     ]
    },
    {
     "data": {
      "text/html": [
       "<div>\n",
       "<style scoped>\n",
       "    .dataframe tbody tr th:only-of-type {\n",
       "        vertical-align: middle;\n",
       "    }\n",
       "\n",
       "    .dataframe tbody tr th {\n",
       "        vertical-align: top;\n",
       "    }\n",
       "\n",
       "    .dataframe thead th {\n",
       "        text-align: right;\n",
       "    }\n",
       "</style>\n",
       "<table border=\"1\" class=\"dataframe\">\n",
       "  <thead>\n",
       "    <tr style=\"text-align: right;\">\n",
       "      <th></th>\n",
       "      <th>userId</th>\n",
       "      <th>movieId</th>\n",
       "      <th>rating</th>\n",
       "      <th>timestamp</th>\n",
       "      <th>title</th>\n",
       "      <th>genres</th>\n",
       "    </tr>\n",
       "  </thead>\n",
       "  <tbody>\n",
       "    <tr>\n",
       "      <th>0</th>\n",
       "      <td>1</td>\n",
       "      <td>1</td>\n",
       "      <td>4.0</td>\n",
       "      <td>964982703</td>\n",
       "      <td>Toy Story (1995)</td>\n",
       "      <td>Adventure|Animation|Children|Comedy|Fantasy</td>\n",
       "    </tr>\n",
       "    <tr>\n",
       "      <th>1</th>\n",
       "      <td>1</td>\n",
       "      <td>3</td>\n",
       "      <td>4.0</td>\n",
       "      <td>964981247</td>\n",
       "      <td>Grumpier Old Men (1995)</td>\n",
       "      <td>Comedy|Romance</td>\n",
       "    </tr>\n",
       "    <tr>\n",
       "      <th>2</th>\n",
       "      <td>1</td>\n",
       "      <td>6</td>\n",
       "      <td>4.0</td>\n",
       "      <td>964982224</td>\n",
       "      <td>Heat (1995)</td>\n",
       "      <td>Action|Crime|Thriller</td>\n",
       "    </tr>\n",
       "    <tr>\n",
       "      <th>3</th>\n",
       "      <td>1</td>\n",
       "      <td>47</td>\n",
       "      <td>5.0</td>\n",
       "      <td>964983815</td>\n",
       "      <td>Seven (a.k.a. Se7en) (1995)</td>\n",
       "      <td>Mystery|Thriller</td>\n",
       "    </tr>\n",
       "    <tr>\n",
       "      <th>4</th>\n",
       "      <td>1</td>\n",
       "      <td>50</td>\n",
       "      <td>5.0</td>\n",
       "      <td>964982931</td>\n",
       "      <td>Usual Suspects, The (1995)</td>\n",
       "      <td>Crime|Mystery|Thriller</td>\n",
       "    </tr>\n",
       "  </tbody>\n",
       "</table>\n",
       "</div>"
      ],
      "text/plain": [
       "   userId  movieId  rating  timestamp                        title  \\\n",
       "0       1        1     4.0  964982703             Toy Story (1995)   \n",
       "1       1        3     4.0  964981247      Grumpier Old Men (1995)   \n",
       "2       1        6     4.0  964982224                  Heat (1995)   \n",
       "3       1       47     5.0  964983815  Seven (a.k.a. Se7en) (1995)   \n",
       "4       1       50     5.0  964982931   Usual Suspects, The (1995)   \n",
       "\n",
       "                                        genres  \n",
       "0  Adventure|Animation|Children|Comedy|Fantasy  \n",
       "1                               Comedy|Romance  \n",
       "2                        Action|Crime|Thriller  \n",
       "3                             Mystery|Thriller  \n",
       "4                       Crime|Mystery|Thriller  "
      ]
     },
     "execution_count": 56,
     "metadata": {},
     "output_type": "execute_result"
    }
   ],
   "source": [
    "movies_ratings_df = pd.merge(ratings_df, movies_df, on='movieId', how='inner')\n",
    "print(movies_ratings_df.shape)\n",
    "movies_ratings_df.head()"
   ]
  },
  {
   "cell_type": "markdown",
   "metadata": {},
   "source": [
    "##### 사용자 평점 기반 아이템(영화) 유사도 계산"
   ]
  },
  {
   "cell_type": "code",
   "execution_count": 57,
   "metadata": {},
   "outputs": [
    {
     "name": "stdout",
     "output_type": "stream",
     "text": [
      "(610, 9719)\n"
     ]
    },
    {
     "data": {
      "text/html": [
       "<div>\n",
       "<style scoped>\n",
       "    .dataframe tbody tr th:only-of-type {\n",
       "        vertical-align: middle;\n",
       "    }\n",
       "\n",
       "    .dataframe tbody tr th {\n",
       "        vertical-align: top;\n",
       "    }\n",
       "\n",
       "    .dataframe thead th {\n",
       "        text-align: right;\n",
       "    }\n",
       "</style>\n",
       "<table border=\"1\" class=\"dataframe\">\n",
       "  <thead>\n",
       "    <tr style=\"text-align: right;\">\n",
       "      <th>title</th>\n",
       "      <th>'71 (2014)</th>\n",
       "      <th>'Hellboy': The Seeds of Creation (2004)</th>\n",
       "      <th>'Round Midnight (1986)</th>\n",
       "      <th>'Salem's Lot (2004)</th>\n",
       "      <th>'Til There Was You (1997)</th>\n",
       "      <th>'Tis the Season for Love (2015)</th>\n",
       "      <th>'burbs, The (1989)</th>\n",
       "      <th>'night Mother (1986)</th>\n",
       "      <th>(500) Days of Summer (2009)</th>\n",
       "      <th>*batteries not included (1987)</th>\n",
       "      <th>...</th>\n",
       "      <th>Zulu (2013)</th>\n",
       "      <th>[REC] (2007)</th>\n",
       "      <th>[REC]² (2009)</th>\n",
       "      <th>[REC]³ 3 Génesis (2012)</th>\n",
       "      <th>anohana: The Flower We Saw That Day - The Movie (2013)</th>\n",
       "      <th>eXistenZ (1999)</th>\n",
       "      <th>xXx (2002)</th>\n",
       "      <th>xXx: State of the Union (2005)</th>\n",
       "      <th>¡Three Amigos! (1986)</th>\n",
       "      <th>À nous la liberté (Freedom for Us) (1931)</th>\n",
       "    </tr>\n",
       "    <tr>\n",
       "      <th>userId</th>\n",
       "      <th></th>\n",
       "      <th></th>\n",
       "      <th></th>\n",
       "      <th></th>\n",
       "      <th></th>\n",
       "      <th></th>\n",
       "      <th></th>\n",
       "      <th></th>\n",
       "      <th></th>\n",
       "      <th></th>\n",
       "      <th></th>\n",
       "      <th></th>\n",
       "      <th></th>\n",
       "      <th></th>\n",
       "      <th></th>\n",
       "      <th></th>\n",
       "      <th></th>\n",
       "      <th></th>\n",
       "      <th></th>\n",
       "      <th></th>\n",
       "      <th></th>\n",
       "    </tr>\n",
       "  </thead>\n",
       "  <tbody>\n",
       "    <tr>\n",
       "      <th>1</th>\n",
       "      <td>0.0</td>\n",
       "      <td>0.0</td>\n",
       "      <td>0.0</td>\n",
       "      <td>0.0</td>\n",
       "      <td>0.0</td>\n",
       "      <td>0.0</td>\n",
       "      <td>0.0</td>\n",
       "      <td>0.0</td>\n",
       "      <td>0.0</td>\n",
       "      <td>0.0</td>\n",
       "      <td>...</td>\n",
       "      <td>0.0</td>\n",
       "      <td>0.0</td>\n",
       "      <td>0.0</td>\n",
       "      <td>0.0</td>\n",
       "      <td>0.0</td>\n",
       "      <td>0.0</td>\n",
       "      <td>0.0</td>\n",
       "      <td>0.0</td>\n",
       "      <td>4.0</td>\n",
       "      <td>0.0</td>\n",
       "    </tr>\n",
       "    <tr>\n",
       "      <th>2</th>\n",
       "      <td>0.0</td>\n",
       "      <td>0.0</td>\n",
       "      <td>0.0</td>\n",
       "      <td>0.0</td>\n",
       "      <td>0.0</td>\n",
       "      <td>0.0</td>\n",
       "      <td>0.0</td>\n",
       "      <td>0.0</td>\n",
       "      <td>0.0</td>\n",
       "      <td>0.0</td>\n",
       "      <td>...</td>\n",
       "      <td>0.0</td>\n",
       "      <td>0.0</td>\n",
       "      <td>0.0</td>\n",
       "      <td>0.0</td>\n",
       "      <td>0.0</td>\n",
       "      <td>0.0</td>\n",
       "      <td>0.0</td>\n",
       "      <td>0.0</td>\n",
       "      <td>0.0</td>\n",
       "      <td>0.0</td>\n",
       "    </tr>\n",
       "    <tr>\n",
       "      <th>3</th>\n",
       "      <td>0.0</td>\n",
       "      <td>0.0</td>\n",
       "      <td>0.0</td>\n",
       "      <td>0.0</td>\n",
       "      <td>0.0</td>\n",
       "      <td>0.0</td>\n",
       "      <td>0.0</td>\n",
       "      <td>0.0</td>\n",
       "      <td>0.0</td>\n",
       "      <td>0.0</td>\n",
       "      <td>...</td>\n",
       "      <td>0.0</td>\n",
       "      <td>0.0</td>\n",
       "      <td>0.0</td>\n",
       "      <td>0.0</td>\n",
       "      <td>0.0</td>\n",
       "      <td>0.0</td>\n",
       "      <td>0.0</td>\n",
       "      <td>0.0</td>\n",
       "      <td>0.0</td>\n",
       "      <td>0.0</td>\n",
       "    </tr>\n",
       "    <tr>\n",
       "      <th>4</th>\n",
       "      <td>0.0</td>\n",
       "      <td>0.0</td>\n",
       "      <td>0.0</td>\n",
       "      <td>0.0</td>\n",
       "      <td>0.0</td>\n",
       "      <td>0.0</td>\n",
       "      <td>0.0</td>\n",
       "      <td>0.0</td>\n",
       "      <td>0.0</td>\n",
       "      <td>0.0</td>\n",
       "      <td>...</td>\n",
       "      <td>0.0</td>\n",
       "      <td>0.0</td>\n",
       "      <td>0.0</td>\n",
       "      <td>0.0</td>\n",
       "      <td>0.0</td>\n",
       "      <td>0.0</td>\n",
       "      <td>0.0</td>\n",
       "      <td>0.0</td>\n",
       "      <td>0.0</td>\n",
       "      <td>0.0</td>\n",
       "    </tr>\n",
       "    <tr>\n",
       "      <th>5</th>\n",
       "      <td>0.0</td>\n",
       "      <td>0.0</td>\n",
       "      <td>0.0</td>\n",
       "      <td>0.0</td>\n",
       "      <td>0.0</td>\n",
       "      <td>0.0</td>\n",
       "      <td>0.0</td>\n",
       "      <td>0.0</td>\n",
       "      <td>0.0</td>\n",
       "      <td>0.0</td>\n",
       "      <td>...</td>\n",
       "      <td>0.0</td>\n",
       "      <td>0.0</td>\n",
       "      <td>0.0</td>\n",
       "      <td>0.0</td>\n",
       "      <td>0.0</td>\n",
       "      <td>0.0</td>\n",
       "      <td>0.0</td>\n",
       "      <td>0.0</td>\n",
       "      <td>0.0</td>\n",
       "      <td>0.0</td>\n",
       "    </tr>\n",
       "  </tbody>\n",
       "</table>\n",
       "<p>5 rows × 9719 columns</p>\n",
       "</div>"
      ],
      "text/plain": [
       "title   '71 (2014)  'Hellboy': The Seeds of Creation (2004)  \\\n",
       "userId                                                        \n",
       "1              0.0                                      0.0   \n",
       "2              0.0                                      0.0   \n",
       "3              0.0                                      0.0   \n",
       "4              0.0                                      0.0   \n",
       "5              0.0                                      0.0   \n",
       "\n",
       "title   'Round Midnight (1986)  'Salem's Lot (2004)  \\\n",
       "userId                                                \n",
       "1                          0.0                  0.0   \n",
       "2                          0.0                  0.0   \n",
       "3                          0.0                  0.0   \n",
       "4                          0.0                  0.0   \n",
       "5                          0.0                  0.0   \n",
       "\n",
       "title   'Til There Was You (1997)  'Tis the Season for Love (2015)  \\\n",
       "userId                                                               \n",
       "1                             0.0                              0.0   \n",
       "2                             0.0                              0.0   \n",
       "3                             0.0                              0.0   \n",
       "4                             0.0                              0.0   \n",
       "5                             0.0                              0.0   \n",
       "\n",
       "title   'burbs, The (1989)  'night Mother (1986)  (500) Days of Summer (2009)  \\\n",
       "userId                                                                          \n",
       "1                      0.0                   0.0                          0.0   \n",
       "2                      0.0                   0.0                          0.0   \n",
       "3                      0.0                   0.0                          0.0   \n",
       "4                      0.0                   0.0                          0.0   \n",
       "5                      0.0                   0.0                          0.0   \n",
       "\n",
       "title   *batteries not included (1987)  ...  Zulu (2013)  [REC] (2007)  \\\n",
       "userId                                  ...                              \n",
       "1                                  0.0  ...          0.0           0.0   \n",
       "2                                  0.0  ...          0.0           0.0   \n",
       "3                                  0.0  ...          0.0           0.0   \n",
       "4                                  0.0  ...          0.0           0.0   \n",
       "5                                  0.0  ...          0.0           0.0   \n",
       "\n",
       "title   [REC]² (2009)  [REC]³ 3 Génesis (2012)  \\\n",
       "userId                                           \n",
       "1                 0.0                      0.0   \n",
       "2                 0.0                      0.0   \n",
       "3                 0.0                      0.0   \n",
       "4                 0.0                      0.0   \n",
       "5                 0.0                      0.0   \n",
       "\n",
       "title   anohana: The Flower We Saw That Day - The Movie (2013)  \\\n",
       "userId                                                           \n",
       "1                                                     0.0        \n",
       "2                                                     0.0        \n",
       "3                                                     0.0        \n",
       "4                                                     0.0        \n",
       "5                                                     0.0        \n",
       "\n",
       "title   eXistenZ (1999)  xXx (2002)  xXx: State of the Union (2005)  \\\n",
       "userId                                                                \n",
       "1                   0.0         0.0                             0.0   \n",
       "2                   0.0         0.0                             0.0   \n",
       "3                   0.0         0.0                             0.0   \n",
       "4                   0.0         0.0                             0.0   \n",
       "5                   0.0         0.0                             0.0   \n",
       "\n",
       "title   ¡Three Amigos! (1986)  À nous la liberté (Freedom for Us) (1931)  \n",
       "userId                                                                    \n",
       "1                         4.0                                        0.0  \n",
       "2                         0.0                                        0.0  \n",
       "3                         0.0                                        0.0  \n",
       "4                         0.0                                        0.0  \n",
       "5                         0.0                                        0.0  \n",
       "\n",
       "[5 rows x 9719 columns]"
      ]
     },
     "execution_count": 57,
     "metadata": {},
     "output_type": "execute_result"
    }
   ],
   "source": [
    "users_movies_df = movies_ratings_df.pivot_table('rating', index='userId', columns='title', fill_value=0)\n",
    "print(users_movies_df.shape)\n",
    "users_movies_df.head()"
   ]
  },
  {
   "cell_type": "code",
   "execution_count": 58,
   "metadata": {},
   "outputs": [
    {
     "data": {
      "text/plain": [
       "title\n",
       "Harry Potter and the Sorcerer's Stone (a.k.a. Harry Potter and the Philosopher's Stone) (2001)    5.0\n",
       "How to Train Your Dragon (2010)                                                                   5.0\n",
       "Guardians of the Galaxy (2014)                                                                    5.0\n",
       "Aladdin (1992)                                                                                    5.0\n",
       "Harry Potter and the Chamber of Secrets (2002)                                                    4.5\n",
       "Harry Potter and the Deathly Hallows: Part 2 (2011)                                               4.5\n",
       "Eragon (2006)                                                                                     4.5\n",
       "Lord of the Rings: The Fellowship of the Ring, The (2001)                                         4.5\n",
       "Harry Potter and the Prisoner of Azkaban (2004)                                                   4.0\n",
       "Into the Woods (2014)                                                                             4.0\n",
       "Hobbit: An Unexpected Journey, The (2012)                                                         4.0\n",
       "Alice in Wonderland (2010)                                                                        4.0\n",
       "John Carter (2012)                                                                                4.0\n",
       "Avatar (2009)                                                                                     4.0\n",
       "Jurassic World: Fallen Kingdom (2018)                                                             4.0\n",
       "Harry Potter and the Goblet of Fire (2005)                                                        4.0\n",
       "Golden Compass, The (2007)                                                                        4.0\n",
       "Harry Potter and the Order of the Phoenix (2007)                                                  4.0\n",
       "Lord of the Rings: The Return of the King, The (2003)                                             4.0\n",
       "Lord of the Rings: The Two Towers, The (2002)                                                     4.0\n",
       "Miss Peregrine's Home for Peculiar Children (2016)                                                4.0\n",
       "Pan's Labyrinth (Laberinto del fauno, El) (2006)                                                  4.0\n",
       "Pirates of the Caribbean: The Curse of the Black Pearl (2003)                                     4.0\n",
       "Prince of Persia: The Sands of Time (2010)                                                        4.0\n",
       "Sleepy Hollow (1999)                                                                              4.0\n",
       "Underworld (2003)                                                                                 4.0\n",
       "Warcraft (2016)                                                                                   4.0\n",
       "Chronicles of Narnia: The Lion, the Witch and the Wardrobe, The (2005)                            3.5\n",
       "Harry Potter and the Half-Blood Prince (2009)                                                     3.5\n",
       "Percy Jackson & the Olympians: The Lightning Thief (2010)                                         3.5\n",
       "Name: 556, dtype: float64"
      ]
     },
     "execution_count": 58,
     "metadata": {},
     "output_type": "execute_result"
    }
   ],
   "source": [
    "# 특정 사용자의 영화 평점 조회\n",
    "users_movies_df.iloc[555].sort_values(ascending=False)[:30]"
   ]
  },
  {
   "cell_type": "code",
   "execution_count": 59,
   "metadata": {},
   "outputs": [
    {
     "data": {
      "text/plain": [
       "count     610.000000\n",
       "mean      165.298361\n",
       "std       269.466692\n",
       "min        20.000000\n",
       "25%        35.000000\n",
       "50%        70.500000\n",
       "75%       168.000000\n",
       "max      2698.000000\n",
       "dtype: float64"
      ]
     },
     "execution_count": 59,
     "metadata": {},
     "output_type": "execute_result"
    }
   ],
   "source": [
    "# 사용자별 평점 개수\n",
    "(users_movies_df != 0).sum(axis=1).describe()"
   ]
  },
  {
   "cell_type": "code",
   "execution_count": 60,
   "metadata": {},
   "outputs": [],
   "source": [
    "from sklearn.metrics.pairwise import cosine_similarity\n",
    "\n",
    "movies_sim = cosine_similarity(users_movies_df.T, users_movies_df.T)\n",
    "movies_sim_df = pd.DataFrame(movies_sim, index=users_movies_df.columns, columns=users_movies_df.columns)"
   ]
  },
  {
   "cell_type": "code",
   "execution_count": 61,
   "metadata": {},
   "outputs": [
    {
     "data": {
      "text/plain": [
       "title\n",
       "'Hellboy': The Seeds of Creation (2004)                       1.000000\n",
       "Space Battleship Yamato (2010)                                1.000000\n",
       "Monsters (2010)                                               1.000000\n",
       "All the Right Moves (1983)                                    0.780869\n",
       "Hidden Fortress, The (Kakushi-toride no san-akunin) (1958)    0.747409\n",
       "...And Justice for All (1979)                                 0.715542\n",
       "'Round Midnight (1986)                                        0.707107\n",
       "Kagemusha (1980)                                              0.542720\n",
       "Sanjuro (Tsubaki Sanjûrô) (1962)                              0.526685\n",
       "Ghost Rider: Spirit of Vengeance (2012)                       0.525226\n",
       "Name: 'Hellboy': The Seeds of Creation (2004), dtype: float64"
      ]
     },
     "execution_count": 61,
     "metadata": {},
     "output_type": "execute_result"
    }
   ],
   "source": [
    "movies_sim_df[\"'Hellboy': The Seeds of Creation (2004)\"].sort_values(ascending=False)[:10]"
   ]
  },
  {
   "cell_type": "markdown",
   "metadata": {},
   "source": [
    "##### 가중 평점 예측\n",
    "1. 사용자별 아이템(영화) 평점이 있다. \n",
    "2. 평점 기반의 아이템(영화) 유사도가 있다.\n",
    "3. 모든 사용자의 모든 아이템(영화)에 대한 가중평점 예측한다. \n",
    "4. 사용자별 영화 예측평점이 높은 순으로 영화를 추천한다. \n",
    "    - 사용자가 안 본 영화(평점이 없는, 0인 영화)를 추천한다. \n",
    "\n",
    "**Weighted Rating Sum**\n",
    "\n",
    "사용자 $ u $의 아이템 $ i $에 대한 평점 예측은 사용자 $ u $가 아이템 $ i $와 유사한 다른 아이템들($ N $개의 다른 아이템)의 합으로 계산하며, 아이템들 간의 유사도를 반영한 합으로 계산\n",
    "\n",
    "$\n",
    "\\hat{R}_{u,i} = \\frac{\\sum_{N} (S_{i,N} \\times R_{u,N})}{\\sum_{N} (|S_{i,N}|)}\n",
    "$\n",
    "\n",
    "\n",
    "- $\\hat{R}_{u,i}$: 사용자 $ u $가 아이템 $ i $에 대해 가질 것으로 예측되는 평점\n",
    "- $S_{i,N}$: 아이템 $ i $와 유사한 다른 아이템들의 유사도\n",
    "- $R_{u,N}$: 사용자 $u$의 유사한 아이템들의 평점\n",
    "\n",
    "**사용자 $ u $의 유사한 아이템 들의 평점**\n",
    "\n",
    "| Item | j | k | **i** | m | n |\n",
    "|------|---|---|---|---|---|\n",
    "| Rating | 5 | 4 | **1** | 3 | 2 |\n",
    "\n",
    "**유사도**\n",
    "\n",
    "|   | (i,j) | (i,k) | (i,i) | (i,m) | (i,n) |\n",
    "|---|-------|-------|-------|-------|-------|\n",
    "| **R_{u,i}** | 0.2 | 0.1 | **0.4** | 0.1 | 0.2 |\n",
    "\n",
    "**계산:** 위 두개의 행렬에 대한 내적을 구한다.\n",
    "\n",
    "$\n",
    "5 \\times 0.2 + 4 \\times 0.1 + 1 \\times 0.4 + 3 \\times 0.1 + 2 \\times 0.2 = 2.5\n",
    "$\n",
    "<br>\n",
    "<br>\n",
    "$\n",
    "\\hat{R}_{u,i} = \\frac{(5 \\times 0.2) + (4 \\times 0.1) + (1 \\times 0.4) + (3 \\times 0.1) + (2 \\times 0.2)}{0.2 + 0.1 + 0.4 + 0.1 + 0.2}\n",
    "= \\frac{1 + 0.4 + 0.4 + 0.3 + 0.4}{1} = \\frac{2.5}{1} = 2.5\n",
    "$\n",
    "\n",
    "결과적으로, 사용자 $ u $가 아이템 $ i $에 대해 가질 것으로 예측되는 평점은 **2.5**이이다.\n"
   ]
  },
  {
   "cell_type": "markdown",
   "metadata": {},
   "source": [
    "- 전체 가중평점 예측"
   ]
  },
  {
   "cell_type": "code",
   "execution_count": null,
   "metadata": {},
   "outputs": [],
   "source": [
    "def predict_ratings(user_movies_df, movies_sim_df):\n",
    "    return user_movies_df.dot(movies_sim_df) / np.abs(movies_sim_df).sum(axis=1)\n",
    "\n",
    "ratings_pred_df = predict_ratings(users_movies_df, movies_sim_df)\n",
    "print(ratings_pred_df.shape)\n",
    "ratings_pred_df.head(1).T"
   ]
  },
  {
   "cell_type": "code",
   "execution_count": 63,
   "metadata": {},
   "outputs": [
    {
     "data": {
      "text/plain": [
       "9.895354759094706"
      ]
     },
     "execution_count": 63,
     "metadata": {},
     "output_type": "execute_result"
    }
   ],
   "source": [
    "from sklearn.metrics import mean_squared_error\n",
    "\n",
    "# 실제 평점과 예측 평점 오차 비교\n",
    "def get_mse(actual, pred):\n",
    "    non_zero_idx = actual.nonzero()\n",
    "    # print(non_zero_idx) # ([row_idx, row_idx, ...], [col_idx, col_idx, ...])\n",
    "    actual = actual[non_zero_idx]\n",
    "    pred = pred[non_zero_idx]\n",
    "    return mean_squared_error(actual, pred)\n",
    "\n",
    "get_mse(users_movies_df.values, ratings_pred_df.values)"
   ]
  },
  {
   "cell_type": "markdown",
   "metadata": {},
   "source": [
    "- 특정 사용자의 영화 하나 평점 예측"
   ]
  },
  {
   "cell_type": "code",
   "execution_count": 64,
   "metadata": {},
   "outputs": [
    {
     "data": {
      "text/plain": [
       "np.float64(5.0)"
      ]
     },
     "execution_count": 64,
     "metadata": {},
     "output_type": "execute_result"
    }
   ],
   "source": [
    "users_movies_df.iloc[176, 35]    # 176번째 사용자의 35번째 영화에 대한 평점"
   ]
  },
  {
   "cell_type": "code",
   "execution_count": null,
   "metadata": {},
   "outputs": [],
   "source": [
    "topn_sim_idx = movies_sim_df.iloc[35].argsort()[::-1]\n",
    "topn_sim_idx = topn_sim_idx[:20]\n",
    "topn_sim_idx"
   ]
  },
  {
   "cell_type": "code",
   "execution_count": 66,
   "metadata": {},
   "outputs": [
    {
     "data": {
      "text/plain": [
       "title\n",
       "Very Potter Sequel, A (2010)                               5.0\n",
       "Mr. Skeffington (1944)                                     5.0\n",
       "Intolerance: Love's Struggle Throughout the Ages (1916)    3.5\n",
       "Mildred Pierce (2011)                                      4.5\n",
       "12 Angry Men (1997)                                        5.0\n",
       "Princess and the Pirate, The (1944)                        4.0\n",
       "Birth of a Nation, The (1915)                              2.0\n",
       "Invisible Man Returns, The (1940)                          2.5\n",
       "Thief of Bagdad, The (1924)                                3.5\n",
       "Gold Diggers of 1935 (1935)                                3.5\n",
       "The Blue Lagoon (1949)                                     3.0\n",
       "Gold Diggers of 1933 (1933)                                3.5\n",
       "Hunchback of Notre Dame, The (1923)                        3.0\n",
       "Winchester '73 (1950)                                      4.0\n",
       "The Great Train Robbery (1903)                             4.0\n",
       "Snake Pit, The (1948)                                      4.0\n",
       "To Be or Not to Be (1942)                                  4.0\n",
       "Wuthering Heights (1939)                                   3.5\n",
       "Destry Rides Again (1939)                                  4.0\n",
       "Angels with Dirty Faces (1938)                             4.0\n",
       "Name: 177, dtype: float64"
      ]
     },
     "execution_count": 66,
     "metadata": {},
     "output_type": "execute_result"
    }
   ],
   "source": [
    "users_movies_df.iloc[176, topn_sim_idx]"
   ]
  },
  {
   "cell_type": "code",
   "execution_count": 67,
   "metadata": {},
   "outputs": [
    {
     "data": {
      "text/plain": [
       "np.float64(3.85)"
      ]
     },
     "execution_count": 67,
     "metadata": {},
     "output_type": "execute_result"
    }
   ],
   "source": [
    "# 사용자별 영화별 가중평점 예측\n",
    "def predict_ratings_by_user_movie(user_idx, movie_idx, topn_sim_idx):\n",
    "    topn_sim = movies_sim[movie_idx, :][topn_sim_idx]    # 영화별 평점유사도\n",
    "    topn_rating = users_movies_df.values[user_idx, :][topn_sim_idx]    # 평점유사도 topn건에 대한 사용자 평점\n",
    "    return topn_sim.dot(topn_rating) / np.abs(topn_sim).sum()\n",
    "\n",
    "# 176번째 사용자의 35번째 영화에 대한 평점\n",
    "topn_sim_idx = movies_sim_df.iloc[35].argsort()[:-(10 + 1):-1]\n",
    "                            # 35번째 영화        # 유사도 상위 10개\n",
    "predict_ratings_by_user_movie(176, 35, topn_sim_idx)"
   ]
  },
  {
   "cell_type": "markdown",
   "metadata": {},
   "source": [
    "- 전체 가중평점 예측 - 영화별 사용자별 평점유사도 상위 top-n 건만 적용"
   ]
  },
  {
   "cell_type": "code",
   "execution_count": 68,
   "metadata": {},
   "outputs": [
    {
     "data": {
      "text/plain": [
       "(610, 9719)"
      ]
     },
     "execution_count": 68,
     "metadata": {},
     "output_type": "execute_result"
    }
   ],
   "source": [
    "def predict_ratings(topn=20):\n",
    "    pred = np.zeros(users_movies_df.shape)    # (610, 9719)\n",
    "\n",
    "    for movie_idx in range(pred.shape[1]):\n",
    "        topn_sim_idx = movies_sim_df.iloc[movie_idx].argsort()[:-(topn + 1):-1]\n",
    "\n",
    "\n",
    "        for user_idx in range(pred.shape[0]):\n",
    "            pred[user_idx, movie_idx] = predict_ratings_by_user_movie(user_idx, movie_idx, topn_sim_idx)\n",
    "\n",
    "    return pred\n",
    "            \n",
    "ratings_pred = predict_ratings(10)\n",
    "ratings_pred.shape"
   ]
  },
  {
   "cell_type": "code",
   "execution_count": 69,
   "metadata": {},
   "outputs": [
    {
     "name": "stdout",
     "output_type": "stream",
     "text": [
      "3.85\n"
     ]
    }
   ],
   "source": [
    "print(ratings_pred[176, 35])"
   ]
  },
  {
   "cell_type": "code",
   "execution_count": 70,
   "metadata": {},
   "outputs": [
    {
     "data": {
      "text/plain": [
       "2.9201587326345124"
      ]
     },
     "execution_count": 70,
     "metadata": {},
     "output_type": "execute_result"
    }
   ],
   "source": [
    "ratings_pred_df = pd.DataFrame(ratings_pred, index=users_movies_df.index, columns=users_movies_df.columns)\n",
    "get_mse(users_movies_df.values, ratings_pred_df.values)"
   ]
  },
  {
   "cell_type": "code",
   "execution_count": null,
   "metadata": {},
   "outputs": [],
   "source": [
    "movies_df.iloc[(ratings_pred[170].argsort()[:-11:-1])]"
   ]
  },
  {
   "cell_type": "markdown",
   "metadata": {},
   "source": [
    "- 사용자별 평가하지 않은 영화 조회"
   ]
  },
  {
   "cell_type": "code",
   "execution_count": 74,
   "metadata": {},
   "outputs": [
    {
     "data": {
      "text/plain": [
       "True"
      ]
     },
     "execution_count": 74,
     "metadata": {},
     "output_type": "execute_result"
    }
   ],
   "source": [
    "def get_unseen_movies(user_idx):\n",
    "    user_ratings_df = users_movies_df.iloc[user_idx]\n",
    "    return user_ratings_df[user_ratings_df == 0]\n",
    "\n",
    "'Boogeyman (2005)' in get_unseen_movies(170).index"
   ]
  },
  {
   "cell_type": "markdown",
   "metadata": {},
   "source": [
    "- 사용자별 영화 추천"
   ]
  },
  {
   "cell_type": "code",
   "execution_count": 75,
   "metadata": {},
   "outputs": [
    {
     "data": {
      "text/html": [
       "<div>\n",
       "<style scoped>\n",
       "    .dataframe tbody tr th:only-of-type {\n",
       "        vertical-align: middle;\n",
       "    }\n",
       "\n",
       "    .dataframe tbody tr th {\n",
       "        vertical-align: top;\n",
       "    }\n",
       "\n",
       "    .dataframe thead th {\n",
       "        text-align: right;\n",
       "    }\n",
       "</style>\n",
       "<table border=\"1\" class=\"dataframe\">\n",
       "  <thead>\n",
       "    <tr style=\"text-align: right;\">\n",
       "      <th></th>\n",
       "      <th>title</th>\n",
       "      <th>pred_rating</th>\n",
       "      <th>user_rating</th>\n",
       "    </tr>\n",
       "  </thead>\n",
       "  <tbody>\n",
       "    <tr>\n",
       "      <th>0</th>\n",
       "      <td>Fight Club (1999)</td>\n",
       "      <td>3.797075</td>\n",
       "      <td>0.0</td>\n",
       "    </tr>\n",
       "    <tr>\n",
       "      <th>1</th>\n",
       "      <td>American History X (1998)</td>\n",
       "      <td>3.720248</td>\n",
       "      <td>0.0</td>\n",
       "    </tr>\n",
       "    <tr>\n",
       "      <th>2</th>\n",
       "      <td>Schindler's List (1993)</td>\n",
       "      <td>3.424535</td>\n",
       "      <td>0.0</td>\n",
       "    </tr>\n",
       "    <tr>\n",
       "      <th>3</th>\n",
       "      <td>Usual Suspects, The (1995)</td>\n",
       "      <td>3.196776</td>\n",
       "      <td>0.0</td>\n",
       "    </tr>\n",
       "    <tr>\n",
       "      <th>4</th>\n",
       "      <td>Lord of the Rings: The Fellowship of the Ring,...</td>\n",
       "      <td>3.173487</td>\n",
       "      <td>0.0</td>\n",
       "    </tr>\n",
       "    <tr>\n",
       "      <th>5</th>\n",
       "      <td>Lord of the Rings: The Two Towers, The (2002)</td>\n",
       "      <td>3.133889</td>\n",
       "      <td>0.0</td>\n",
       "    </tr>\n",
       "    <tr>\n",
       "      <th>6</th>\n",
       "      <td>Lord of the Rings: The Return of the King, The...</td>\n",
       "      <td>3.116551</td>\n",
       "      <td>0.0</td>\n",
       "    </tr>\n",
       "    <tr>\n",
       "      <th>7</th>\n",
       "      <td>Godfather, The (1972)</td>\n",
       "      <td>3.090172</td>\n",
       "      <td>0.0</td>\n",
       "    </tr>\n",
       "    <tr>\n",
       "      <th>8</th>\n",
       "      <td>Godfather: Part II, The (1974)</td>\n",
       "      <td>3.064263</td>\n",
       "      <td>0.0</td>\n",
       "    </tr>\n",
       "    <tr>\n",
       "      <th>9</th>\n",
       "      <td>Goodfellas (1990)</td>\n",
       "      <td>3.012420</td>\n",
       "      <td>0.0</td>\n",
       "    </tr>\n",
       "  </tbody>\n",
       "</table>\n",
       "</div>"
      ],
      "text/plain": [
       "                                               title  pred_rating  user_rating\n",
       "0                                  Fight Club (1999)     3.797075          0.0\n",
       "1                          American History X (1998)     3.720248          0.0\n",
       "2                            Schindler's List (1993)     3.424535          0.0\n",
       "3                         Usual Suspects, The (1995)     3.196776          0.0\n",
       "4  Lord of the Rings: The Fellowship of the Ring,...     3.173487          0.0\n",
       "5      Lord of the Rings: The Two Towers, The (2002)     3.133889          0.0\n",
       "6  Lord of the Rings: The Return of the King, The...     3.116551          0.0\n",
       "7                              Godfather, The (1972)     3.090172          0.0\n",
       "8                     Godfather: Part II, The (1974)     3.064263          0.0\n",
       "9                                  Goodfellas (1990)     3.012420          0.0"
      ]
     },
     "execution_count": 75,
     "metadata": {},
     "output_type": "execute_result"
    }
   ],
   "source": [
    "def recommend_movies(user_idx, topn=10):\n",
    "    unseen = get_unseen_movies(user_idx).index\n",
    "    temp_movie = ratings_pred_df.loc[user_idx, unseen].sort_values(ascending=False)[:topn]\n",
    "    user_rating_df = users_movies_df.loc[user_idx + 1, temp_movie.index]\n",
    "\n",
    "    return pd.DataFrame({\n",
    "        'title': temp_movie.index,\n",
    "        'pred_rating': temp_movie.values,\n",
    "        'user_rating': user_rating_df.values\n",
    "    })\n",
    "\n",
    "recommend_movies(343)"
   ]
  },
  {
   "cell_type": "code",
   "execution_count": 76,
   "metadata": {},
   "outputs": [
    {
     "data": {
      "text/plain": [
       "title\n",
       "Affair to Remember, An (1957)                   5.0\n",
       "'Salem's Lot (2004)                             5.0\n",
       "'Til There Was You (1997)                       5.0\n",
       "Adam's Rib (1949)                               5.0\n",
       "All About Eve (1950)                            5.0\n",
       "Waking Ned Devine (a.k.a. Waking Ned) (1998)    5.0\n",
       "All That Jazz (1979)                            5.0\n",
       "12 Angry Men (1957)                             5.0\n",
       "Alien (1979)                                    5.0\n",
       "Emma (1996)                                     5.0\n",
       "Name: 345, dtype: float64"
      ]
     },
     "execution_count": 76,
     "metadata": {},
     "output_type": "execute_result"
    }
   ],
   "source": [
    "users_movies_df.iloc[343 + 1].sort_values(ascending=False)[:10]"
   ]
  }
 ],
 "metadata": {
  "kernelspec": {
   "display_name": "pystudy_env",
   "language": "python",
   "name": "python3"
  },
  "language_info": {
   "codemirror_mode": {
    "name": "ipython",
    "version": 3
   },
   "file_extension": ".py",
   "mimetype": "text/x-python",
   "name": "python",
   "nbconvert_exporter": "python",
   "pygments_lexer": "ipython3",
   "version": "3.12.8"
  }
 },
 "nbformat": 4,
 "nbformat_minor": 2
}
