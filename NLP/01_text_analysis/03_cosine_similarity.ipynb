{
 "cells": [
  {
   "cell_type": "markdown",
   "metadata": {},
   "source": [
    "# 코사인 유사도 (cosine similarity)"
   ]
  },
  {
   "cell_type": "code",
   "execution_count": 3,
   "metadata": {},
   "outputs": [
    {
     "name": "stdout",
     "output_type": "stream",
     "text": [
      "(3, 18)\n",
      "[('blue', 0), ('deep', 1), ('ends', 2), ('goes', 3), ('hole', 4), ('how', 5), ('if', 6), ('in', 7), ('pill', 8), ('rabbit', 9), ('red', 10), ('show', 11), ('stay', 12), ('story', 13), ('take', 14), ('the', 15), ('wonderland', 16), ('you', 17)]\n"
     ]
    },
    {
     "data": {
      "text/plain": [
       "array([[1.        , 0.40207758, 0.40425045]])"
      ]
     },
     "execution_count": 3,
     "metadata": {},
     "output_type": "execute_result"
    }
   ],
   "source": [
    "from sklearn.feature_extraction.text import TfidfVectorizer\n",
    "from sklearn.metrics.pairwise import cosine_similarity\n",
    "\n",
    "doc_list = [\n",
    "    'if you take the blue pill, the story ends' ,\n",
    "    'if you take the red pill, you stay in Wonderland',\n",
    "    'if you take the red pill, I show you how deep the rabbit hole goes'\n",
    "]\n",
    "\n",
    "tfidf_vectorizer = TfidfVectorizer()\n",
    "doc_vecs = tfidf_vectorizer.fit_transform(doc_list)\n",
    "print(doc_vecs.shape)\n",
    "print(sorted(tfidf_vectorizer.vocabulary_.items(), key=lambda x:x[1]))\n",
    "\n",
    "doc_arr = doc_vecs.toarray()\n",
    "cosine_similarity(doc_arr[0:1], doc_arr)"
   ]
  }
 ],
 "metadata": {
  "kernelspec": {
   "display_name": "pystudy_env",
   "language": "python",
   "name": "python3"
  },
  "language_info": {
   "codemirror_mode": {
    "name": "ipython",
    "version": 3
   },
   "file_extension": ".py",
   "mimetype": "text/x-python",
   "name": "python",
   "nbconvert_exporter": "python",
   "pygments_lexer": "ipython3",
   "version": "3.12.8"
  }
 },
 "nbformat": 4,
 "nbformat_minor": 2
}
