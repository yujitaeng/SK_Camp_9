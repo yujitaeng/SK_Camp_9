{
 "cells": [
  {
   "cell_type": "markdown",
   "metadata": {},
   "source": [
    "# 유사한 단어 찾기 게임"
   ]
  },
  {
   "cell_type": "markdown",
   "metadata": {},
   "source": [
    "1. 사전 학습된 모델 또는 적절한 데이터셋을 찾는다\n",
    "2. 워드 임베딩 모델을 학습시킨다\n",
    "3. 단어 유사도가 0.8 이상인 A, B를 랜덤 추출한다\n",
    "4. A, B와 대응되는 C를 추출한다\n",
    "5. D를 입력받는다\n",
    "\n",
    "=> A:B = C:answer 관계에 대응하는 answer를 찾는 게임을 만든다<br>\n",
    "ex) A: 산, B: 바다, C: 나무 / D -> 물"
   ]
  },
  {
   "cell_type": "code",
   "execution_count": 1,
   "metadata": {},
   "outputs": [],
   "source": [
    "import random\n",
    "from gensim.models import KeyedVectors\n",
    "\n",
    "# Word2Vec 모델 로드\n",
    "# model = KeyedVectors.load_word2vec_format('GoogleNews_vecs.bin.gz', binary=True)\n",
    "model = KeyedVectors.load_word2vec_format('naver_movie_ratings_w2v')"
   ]
  },
  {
   "cell_type": "code",
   "execution_count": 2,
   "metadata": {},
   "outputs": [],
   "source": [
    "def find_similar_pair():\n",
    "    vocab = list(model.key_to_index.keys())\n",
    "    while True:\n",
    "        a = random.choice(vocab)\n",
    "        for b in vocab:\n",
    "            if model.similarity(a, b) >= 0.8 and a != b:\n",
    "                return a, b"
   ]
  },
  {
   "cell_type": "code",
   "execution_count": null,
   "metadata": {},
   "outputs": [],
   "source": [
    "def find_corresponding_pair(a, b, topn=1):\n",
    "    try:\n",
    "        # a:b 관계와 유사한 관계를 가지는 단어 쌍 찾기\n",
    "        results = model.most_similar(positive=[b, a], negative=[a], topn=topn*10)\n",
    "        \n",
    "        valid_pairs = []\n",
    "        for c, _ in results:\n",
    "            try:\n",
    "                # c:d 관계가 a:b 관계와 유사한지 확인\n",
    "                d, score = model.most_similar(positive=[b, c], negative=[a], topn=1)[0]\n",
    "                if score > 0.5 and c != d:  # 유사도 임계값 및 같은 단어 제외\n",
    "                    valid_pairs.append((c, d, score))\n",
    "            except:\n",
    "                continue \n",
    "            \n",
    "            if len(valid_pairs) >= topn:\n",
    "                break\n",
    "        \n",
    "        if valid_pairs:\n",
    "            # score를 기준으로 내림차순 정렬하고 가장 높은 score의 c, d 반환\n",
    "            best_pair = max(valid_pairs, key=lambda x: x[2])\n",
    "            return best_pair[0], best_pair[1]  # c, d만 반환\n",
    "        else:\n",
    "            return None, None  # 유효한 쌍이 없을 경우\n",
    "    except:\n",
    "        return None, None"
   ]
  },
  {
   "cell_type": "code",
   "execution_count": 4,
   "metadata": {},
   "outputs": [],
   "source": [
    "def play_analogy_game(a, b, c):\n",
    "    \n",
    "    print(f\"관계 [ {a} : {b} = {c} : ? ]\")\n",
    "    user_answer = input(\"위 관계를 만족하는 단어를 입력하세요: \")\n",
    "    \n",
    "    expected = model.most_similar(positive=[b, c], negative=[a], topn=1)[0][0]\n",
    "    similarity = model.similarity(user_answer, expected)\n",
    "    \n",
    "    print(f\"모델이 예측한 가장 적합한 단어: {expected}\")\n",
    "    print(f\"당신의 답변과 모델 예측의 유사도: {similarity:.2f}\")\n",
    "    \n",
    "    if similarity > 0.5:\n",
    "        print(\"괜찮은 답변이네요 :)\")\n",
    "    else:\n",
    "        print(\"아쉽네요. 더 생각해보세요.\")\n"
   ]
  },
  {
   "cell_type": "code",
   "execution_count": 5,
   "metadata": {},
   "outputs": [
    {
     "name": "stdout",
     "output_type": "stream",
     "text": [
      "관계 [ 예견 : 조롱 = 행세 : ? ]\n",
      "모델이 예측한 가장 적합한 단어: 목회자\n",
      "당신의 답변과 모델 예측의 유사도: 0.63\n",
      "괜찮은 답변이네요 :)\n"
     ]
    }
   ],
   "source": [
    "# 게임 실행\n",
    "a, b = find_similar_pair()\n",
    "c, d = find_corresponding_pair(a, b)\n",
    "\n",
    "play_analogy_game(a, b, c)"
   ]
  }
 ],
 "metadata": {
  "kernelspec": {
   "display_name": "pystudy_env",
   "language": "python",
   "name": "python3"
  },
  "language_info": {
   "codemirror_mode": {
    "name": "ipython",
    "version": 3
   },
   "file_extension": ".py",
   "mimetype": "text/x-python",
   "name": "python",
   "nbconvert_exporter": "python",
   "pygments_lexer": "ipython3",
   "version": "3.12.8"
  }
 },
 "nbformat": 4,
 "nbformat_minor": 2
}
