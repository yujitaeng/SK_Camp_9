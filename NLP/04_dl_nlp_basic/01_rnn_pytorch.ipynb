{
  "nbformat": 4,
  "nbformat_minor": 0,
  "metadata": {
    "colab": {
      "provenance": [],
      "collapsed_sections": [
        "OD7_inwuQqic"
      ],
      "gpuType": "T4"
    },
    "kernelspec": {
      "name": "python3",
      "display_name": "Python 3"
    },
    "language_info": {
      "name": "python"
    },
    "accelerator": "GPU"
  },
  "cells": [
    {
      "cell_type": "markdown",
      "source": [
        "# RNN"
      ],
      "metadata": {
        "id": "x-IARGvjGrpJ"
      }
    },
    {
      "cell_type": "code",
      "source": [
        "VOCAB_SIZE = 300    # 사용할 단어 수\n",
        "SEQ_LEN = 100       # 시퀀스 하나의 최대 길이"
      ],
      "metadata": {
        "id": "qgWLFqDYHa7f"
      },
      "execution_count": 6,
      "outputs": []
    },
    {
      "cell_type": "markdown",
      "source": [
        "### 데이터 준비"
      ],
      "metadata": {
        "id": "OD7_inwuQqic"
      }
    },
    {
      "cell_type": "code",
      "execution_count": 2,
      "metadata": {
        "colab": {
          "base_uri": "https://localhost:8080/"
        },
        "id": "vnMNsnuIF6hj",
        "outputId": "a1e06bf4-2048-47aa-bdcf-86ea11d0f734"
      },
      "outputs": [
        {
          "output_type": "stream",
          "name": "stdout",
          "text": [
            "Downloading data from https://storage.googleapis.com/tensorflow/tf-keras-datasets/imdb.npz\n",
            "\u001b[1m17464789/17464789\u001b[0m \u001b[32m━━━━━━━━━━━━━━━━━━━━\u001b[0m\u001b[37m\u001b[0m \u001b[1m0s\u001b[0m 0us/step\n"
          ]
        }
      ],
      "source": [
        "# 데이터 로드\n",
        "from tensorflow.keras.datasets import imdb\n",
        "\n",
        "(train_input, train_target), (test_input, test_target) = imdb.load_data(num_words=VOCAB_SIZE)"
      ]
    },
    {
      "cell_type": "code",
      "source": [
        "# PyTorch Tensor로 변환\n",
        "import torch\n",
        "\n",
        "train_input = [torch.tensor(seq, dtype=torch.long) for seq in train_input]\n",
        "test_input = [torch.tensor(seq, dtype=torch.long) for seq in test_input]\n",
        "\n",
        "train_target = torch.tensor(train_target, dtype=torch.long)\n",
        "test_target = torch.tensor(test_target, dtype=torch.long)\n",
        "\n",
        "print(len(train_input), len(test_input))\n",
        "print(train_target.shape, test_target.shape)"
      ],
      "metadata": {
        "colab": {
          "base_uri": "https://localhost:8080/"
        },
        "id": "U5FkM8kiH50k",
        "outputId": "993265f0-0252-429e-c430-3f1ac0bdb397"
      },
      "execution_count": 3,
      "outputs": [
        {
          "output_type": "stream",
          "name": "stdout",
          "text": [
            "25000 25000\n",
            "torch.Size([25000]) torch.Size([25000])\n"
          ]
        }
      ]
    },
    {
      "cell_type": "code",
      "source": [
        "train_input, test_input = train_input[:10000], test_input[:5000]\n",
        "train_target, test_target = train_target[:10000], test_target[:5000]"
      ],
      "metadata": {
        "id": "yguCeMyqJQ53"
      },
      "execution_count": 4,
      "outputs": []
    },
    {
      "cell_type": "code",
      "source": [
        "# 입력 데이터 길이 체크\n",
        "import matplotlib.pyplot as plt\n",
        "import numpy as np\n",
        "\n",
        "train_len = [len(seq) for seq in train_input]\n",
        "\n",
        "plt.hist(train_len, bins=50)\n",
        "plt.xlabel('seq_len')\n",
        "plt.ylabel('freq')\n",
        "plt.show()"
      ],
      "metadata": {
        "colab": {
          "base_uri": "https://localhost:8080/",
          "height": 450
        },
        "id": "UFp6DliKJoFx",
        "outputId": "f1d85d7a-404b-4572-fb7e-6d2ada180869"
      },
      "execution_count": 5,
      "outputs": [
        {
          "output_type": "display_data",
          "data": {
            "text/plain": [
              "<Figure size 640x480 with 1 Axes>"
            ],
            "image/png": "[encoded data removed]"
          },
          "metadata": {}
        }
      ]
    },
    {
      "cell_type": "code",
      "source": [
        "# padding 처리\n",
        "import torch.nn.functional as F\n",
        "\n",
        "def pad_sequences(sequences, maxlen, padding_value=0):\n",
        "  padded_sequences = [F.pad(seq[:maxlen], (0, max(0, maxlen-len(seq))), value=padding_value) for seq in sequences]\n",
        "  return torch.stack(padded_sequences)\n",
        "\n",
        "train_seq = pad_sequences(train_input, maxlen=SEQ_LEN)\n",
        "test_seq = pad_sequences(test_input, maxlen=SEQ_LEN)\n",
        "\n",
        "train_seq.shape, test_seq.shape"
      ],
      "metadata": {
        "colab": {
          "base_uri": "https://localhost:8080/"
        },
        "id": "W4EBgD0YKJl5",
        "outputId": "2830d1f7-a991-45fc-ea95-28e88f54280f"
      },
      "execution_count": 7,
      "outputs": [
        {
          "output_type": "execute_result",
          "data": {
            "text/plain": [
              "(torch.Size([10000, 100]), torch.Size([5000, 100]))"
            ]
          },
          "metadata": {},
          "execution_count": 7
        }
      ]
    },
    {
      "cell_type": "code",
      "source": [
        "# one-hot encoding\n",
        "train_onehot = F.one_hot(train_seq, num_classes=VOCAB_SIZE).float()\n",
        "test_onehot = F.one_hot(test_seq, num_classes=VOCAB_SIZE).float()\n",
        "\n",
        "train_onehot.shape, test_onehot.shape"
      ],
      "metadata": {
        "colab": {
          "base_uri": "https://localhost:8080/"
        },
        "id": "-IjPZBsxMTk5",
        "outputId": "c7ca2091-4dba-40f9-99f0-0969c4ae19e5"
      },
      "execution_count": 8,
      "outputs": [
        {
          "output_type": "execute_result",
          "data": {
            "text/plain": [
              "(torch.Size([10000, 100, 300]), torch.Size([5000, 100, 300]))"
            ]
          },
          "metadata": {},
          "execution_count": 8
        }
      ]
    },
    {
      "cell_type": "markdown",
      "source": [
        "### 모델 준비 및 학습"
      ],
      "metadata": {
        "id": "ie7NIFg7QxC-"
      }
    },
    {
      "cell_type": "code",
      "source": [
        "import torch.nn as nn\n",
        "\n",
        "class SentimentRNN(nn.Module):\n",
        "  def __init__(self, seq_len, vocab_size, hidden_dim, output_dim):\n",
        "    super(SentimentRNN, self).__init__()\n",
        "    self.rnn = nn.RNN(input_size=vocab_size, hidden_size=hidden_dim, batch_first=True)\n",
        "    self.fc = nn.Linear(hidden_dim, output_dim)\n",
        "    self.sigmoid = nn.Sigmoid()\n",
        "\n",
        "  def forward(self, x):\n",
        "    _, hidden = self.rnn(x)\n",
        "    out = self.fc(hidden.squeeze(0))\n",
        "    return self.sigmoid(out)\n"
      ],
      "metadata": {
        "id": "ktJTaTc7QzKR"
      },
      "execution_count": 9,
      "outputs": []
    },
    {
      "cell_type": "code",
      "source": [
        "HIDDEN_DIM = 8\n",
        "OUTPUT_DIM = 1\n",
        "\n",
        "model = SentimentRNN(seq_len=SEQ_LEN, vocab_size=VOCAB_SIZE, hidden_dim=HIDDEN_DIM, output_dim=OUTPUT_DIM)\n",
        "print(model)"
      ],
      "metadata": {
        "colab": {
          "base_uri": "https://localhost:8080/"
        },
        "id": "yTo7h318Sp1i",
        "outputId": "76098632-52d1-4d48-e4a9-7a32d0e0d826"
      },
      "execution_count": 10,
      "outputs": [
        {
          "output_type": "stream",
          "name": "stdout",
          "text": [
            "SentimentRNN(\n",
            "  (rnn): RNN(300, 8, batch_first=True)\n",
            "  (fc): Linear(in_features=8, out_features=1, bias=True)\n",
            "  (sigmoid): Sigmoid()\n",
            ")\n"
          ]
        }
      ]
    },
    {
      "cell_type": "code",
      "source": [
        "total_params = 0\n",
        "print(f\"{'Layer':<20} {'Shape':<30} {'Params'}\")\n",
        "print(\"=\" * 60)\n",
        "\n",
        "for name, param in model.named_parameters():\n",
        "  if param.requires_grad:\n",
        "    param_count = param.numel()\n",
        "    total_params += param_count\n",
        "    print(f'{name:<20} {str(list(param.shape)):<30} {param_count}')\n",
        "\n",
        "print(\"=\" * 60)\n",
        "print(f'Total Trainable Parameters: {total_params}')"
      ],
      "metadata": {
        "colab": {
          "base_uri": "https://localhost:8080/"
        },
        "id": "U1RciwG2TrjE",
        "outputId": "d36255b0-5713-4756-f2a2-922deefa5ac9"
      },
      "execution_count": 11,
      "outputs": [
        {
          "output_type": "stream",
          "name": "stdout",
          "text": [
            "Layer                Shape                          Params\n",
            "============================================================\n",
            "rnn.weight_ih_l0     [8, 300]                       2400\n",
            "rnn.weight_hh_l0     [8, 8]                         64\n",
            "rnn.bias_ih_l0       [8]                            8\n",
            "rnn.bias_hh_l0       [8]                            8\n",
            "fc.weight            [1, 8]                         8\n",
            "fc.bias              [1]                            1\n",
            "============================================================\n",
            "Total Trainable Parameters: 2489\n"
          ]
        }
      ]
    },
    {
      "cell_type": "code",
      "source": [
        "import torch.optim as optim\n",
        "import pandas as pd\n",
        "from torch.utils.data import DataLoader, TensorDataset, random_split\n",
        "\n",
        "# 배치 사이즈 설정 + 학습/검증셋 크기 설정\n",
        "BATCH_SIZE = 65\n",
        "train_size = int(len(train_onehot) * 0.8)\n",
        "val_size = len(train_onehot) - train_size\n",
        "\n",
        "# label 데이터 실수 처리\n",
        "train_target = train_target.float()\n",
        "test_target = test_target.float()\n",
        "\n",
        "# 학습/검증셋 분할 + 미니배치로 사용하도록 DataLoader 생성\n",
        "train_dataset, val_dataset = random_split(TensorDataset(train_onehot, train_target), [train_size, val_size])\n",
        "train_loader = DataLoader(train_dataset, batch_size=BATCH_SIZE, shuffle=True)\n",
        "val_loader = DataLoader(val_dataset, batch_size=BATCH_SIZE)\n",
        "\n",
        "# epoch, 손실함수, 최적화함수 정의\n",
        "epochs = 100\n",
        "criterion = nn.BCELoss()\n",
        "optimizer = optim.Adam(model.parameters(), lr=0.005)\n",
        "\n",
        "# 시각화를 위한 손실값/정확도 저장용\n",
        "train_losses, val_losses, train_accs, val_accs = [], [], [], []\n",
        "\n",
        "# 조기종료 관련 변수 초기화\n",
        "early_stopping_patience = 7\n",
        "best_val_loss = float('inf')\n",
        "early_stop_counter = 0\n",
        "\n",
        "# 학습 과정\n",
        "for epoch in range(epochs):\n",
        "  # train mode\n",
        "  model.train()\n",
        "  total_loss, correct, total = 0, 0, 0\n",
        "\n",
        "  for inputs, targets in train_loader:\n",
        "    optimizer.zero_grad()              # 가중치 초기화\n",
        "    outputs = model(inputs).squeeze()  # 순전파\n",
        "\n",
        "    loss = criterion(outputs, targets) # 손실 계산\n",
        "\n",
        "    loss.backward()                    # 역전파\n",
        "    optimizer.step()                   # 가중치 업데이트\n",
        "    total_loss += loss.item()\n",
        "\n",
        "    pred = (outputs > 0.5).float()\n",
        "    correct += (pred == targets).sum().item()\n",
        "    total += targets.size(0)\n",
        "\n",
        "  train_loss = total_loss / len(train_loader)\n",
        "  train_acc = correct / total\n",
        "  train_losses.append(train_loss)\n",
        "  train_accs.append(train_acc)\n",
        "\n",
        "  # validation mode\n",
        "  model.eval()\n",
        "  val_loss, val_correct, val_total = 0, 0, 0\n",
        "\n",
        "  with torch.no_grad():\n",
        "    for val_inputs, val_targets in val_loader:\n",
        "      val_outputs = model(val_inputs).squeeze()\n",
        "      loss = criterion(val_outputs, val_targets)\n",
        "      val_loss += loss.item()\n",
        "\n",
        "      val_pred = (val_outputs > 0.5).float()\n",
        "      val_correct += (val_pred == val_targets).sum().item()\n",
        "      val_total += val_targets.size(0)\n",
        "\n",
        "  val_loss = val_loss / len(val_loader)\n",
        "  val_acc = val_correct / val_total\n",
        "  val_losses.append(val_loss)\n",
        "  val_accs.append(val_acc)\n",
        "\n",
        "  print(f'Epoch {epoch+1}/{epochs} | Train Loss: {train_loss:.4f}, Train Acc: {train_acc:.4f}, Val Loss: {val_loss:.4f}, Val Acc: {val_acc:.4f}')\n",
        "\n",
        "  # 조기종료 처리\n",
        "  if val_loss < best_val_loss:\n",
        "    best_val_loss = val_loss\n",
        "    early_stop_counter = 0\n",
        "  else:\n",
        "    early_stop_counter += 1\n",
        "    if early_stop_counter >= early_stopping_patience:\n",
        "      print(\"Early stopping 할게!\")\n",
        "      break\n",
        "\n",
        "# 시각화\n",
        "train_history_df = pd.DataFrame({\n",
        "    \"train_loss\": train_losses,\n",
        "    \"val_loss\": val_losses,\n",
        "    \"train_acc\": train_accs,\n",
        "    \"val_acc\": val_accs\n",
        "})\n",
        "train_history_df.plot()\n",
        "plt.show()"
      ],
      "metadata": {
        "colab": {
          "base_uri": "https://localhost:8080/",
          "height": 629
        },
        "id": "FOVAeifEV-eE",
        "outputId": "41c31270-3c1b-41ad-c6c4-a88e1f3a0951"
      },
      "execution_count": 18,
      "outputs": [
        {
          "output_type": "stream",
          "name": "stdout",
          "text": [
            "Epoch 1/100 | Train Loss: 0.6666, Train Acc: 0.5916, Val Loss: 0.6651, Val Acc: 0.5905\n",
            "Epoch 2/100 | Train Loss: 0.6658, Train Acc: 0.5866, Val Loss: 0.6640, Val Acc: 0.5900\n",
            "Epoch 3/100 | Train Loss: 0.6619, Train Acc: 0.5941, Val Loss: 0.6593, Val Acc: 0.5950\n",
            "Epoch 4/100 | Train Loss: 0.6589, Train Acc: 0.5990, Val Loss: 0.6599, Val Acc: 0.6040\n",
            "Epoch 5/100 | Train Loss: 0.6568, Train Acc: 0.6012, Val Loss: 0.6629, Val Acc: 0.6030\n",
            "Epoch 6/100 | Train Loss: 0.6545, Train Acc: 0.6058, Val Loss: 0.6632, Val Acc: 0.5990\n",
            "Epoch 7/100 | Train Loss: 0.6474, Train Acc: 0.6130, Val Loss: 0.6642, Val Acc: 0.6020\n",
            "Epoch 8/100 | Train Loss: 0.6441, Train Acc: 0.6171, Val Loss: 0.6611, Val Acc: 0.6035\n",
            "Epoch 9/100 | Train Loss: 0.6443, Train Acc: 0.6254, Val Loss: 0.6635, Val Acc: 0.6075\n",
            "Epoch 10/100 | Train Loss: 0.6413, Train Acc: 0.6285, Val Loss: 0.6662, Val Acc: 0.5885\n",
            "Early stopping 할게!\n"
          ]
        },
        {
          "output_type": "display_data",
          "data": {
            "text/plain": [
              "<Figure size 640x480 with 1 Axes>"
            ],
            "image/png": "[encoded data removed]"
          },
          "metadata": {}
        }
      ]
    },
    {
      "cell_type": "code",
      "source": [
        "def evaluate_model(model, test_loader, criterion):\n",
        "  model.eval()\n",
        "  val_loss, val_correct, val_total = 0, 0, 0\n",
        "\n",
        "  with torch.no_grad():\n",
        "    for val_inputs, val_targets in test_loader:\n",
        "      val_outputs = model(val_inputs).squeeze()\n",
        "      loss = criterion(val_outputs, val_targets)\n",
        "      val_loss += loss.item()\n",
        "\n",
        "      val_pred = (val_outputs > 0.5).float()\n",
        "      val_correct += (val_pred == val_targets).sum().item()\n",
        "      val_total += val_targets.size(0)\n",
        "\n",
        "  test_loss = val_loss / len(test_loader)\n",
        "  test_acc = val_correct / val_total\n",
        "  return test_loss, test_acc"
      ],
      "metadata": {
        "id": "nYQy5HoVX41X"
      },
      "execution_count": 19,
      "outputs": []
    },
    {
      "cell_type": "code",
      "source": [
        "test_dataset = TensorDataset(test_onehot, test_target)\n",
        "test_loader = DataLoader(test_dataset, batch_size=65)\n",
        "\n",
        "loss, accuracy = evaluate_model(model, test_loader, criterion)\n",
        "\n",
        "print(f'Test Loss: {loss:.4f}, Test Accuracy: {accuracy:.4f}')"
      ],
      "metadata": {
        "colab": {
          "base_uri": "https://localhost:8080/"
        },
        "id": "qCX6U1mphm8d",
        "outputId": "c7b7f400-84d6-4bb9-ab1f-ae6aa467e38c"
      },
      "execution_count": 20,
      "outputs": [
        {
          "output_type": "stream",
          "name": "stdout",
          "text": [
            "Test Loss: 0.7242, Test Accuracy: 0.5240\n"
          ]
        }
      ]
    }
  ]
}