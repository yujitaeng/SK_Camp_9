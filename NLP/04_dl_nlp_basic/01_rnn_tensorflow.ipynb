{
 "cells": [
  {
   "cell_type": "markdown",
   "metadata": {},
   "source": [
    "# RNN by Tensorflow"
   ]
  },
  {
   "cell_type": "markdown",
   "metadata": {},
   "source": [
    "### 데이터 준비"
   ]
  },
  {
   "cell_type": "code",
   "execution_count": 1,
   "metadata": {},
   "outputs": [],
   "source": [
    "VOCAB_SIZE = 300\n",
    "SEQ_LEN = 100"
   ]
  },
  {
   "cell_type": "code",
   "execution_count": null,
   "metadata": {},
   "outputs": [],
   "source": [
    "from tensorflow.keras.datasets import imdb\n",
    "\n",
    "(train_input, train_target), (test_input, test_target) =  imdb.load_data(num_words=VOCAB_SIZE)\n",
    "train_input.shape, train_target.shape, test_input.shape, test_target.shape"
   ]
  },
  {
   "cell_type": "code",
   "execution_count": null,
   "metadata": {},
   "outputs": [],
   "source": [
    "train_input, test_input = train_input[:10000], test_input[:5000]\n",
    "train_target, test_target = train_target[:10000], test_target[:5000]\n",
    "train_input.shape, train_target.shape, test_input.shape, test_target.shape"
   ]
  },
  {
   "cell_type": "code",
   "execution_count": null,
   "metadata": {},
   "outputs": [],
   "source": [
    "# padding 처리 (동일한 길이)\n",
    "from tensorflow.keras.preprocessing.sequence import pad_sequences\n",
    "\n",
    "train_seq = pad_sequences(train_input, maxlen=SEQ_LEN)\n",
    "test_seq = pad_sequences(test_input, maxlen=SEQ_LEN)\n",
    "\n",
    "train_seq.shape, test_seq.shape"
   ]
  },
  {
   "cell_type": "code",
   "execution_count": null,
   "metadata": {},
   "outputs": [],
   "source": [
    "# one-hot encoding\n",
    "from tensorflow.keras.utils import to_categorical\n",
    "\n",
    "train_onehot = to_categorical(train_seq)\n",
    "test_onehot = to_categorical(test_seq)\n",
    "\n",
    "train_onehot.shape, test_onehot.shape"
   ]
  },
  {
   "cell_type": "markdown",
   "metadata": {},
   "source": [
    "### 모델 준비 및 학습"
   ]
  },
  {
   "cell_type": "code",
   "execution_count": null,
   "metadata": {},
   "outputs": [],
   "source": [
    "from tensorflow.keras import models, layers, callbacks, optimizers\n",
    "\n",
    "input = layers.Input(shape=(SEQ_LEN, VOCAB_SIZE)) # 입력층\n",
    "x = layers.SimpleRNN(units=8)(input) # 은닉층\n",
    "output = layers.Dense(1, activation='sigmoid')(x) # 출력층\n",
    "\n",
    "model = models.Model(input, output)\n",
    "\n",
    "model.summary()"
   ]
  },
  {
   "cell_type": "code",
   "execution_count": null,
   "metadata": {},
   "outputs": [],
   "source": [
    "# 컴파일 및 학습\n",
    "import pandas as pd\n",
    "\n",
    "model.compile(loss='binary_crossentropy', optimizer='adam', metrics=['accuracy'])\n",
    "\n",
    "early_stopping_cb = callbacks.EarlyStopping(patience=7, restore_best_weights=True, verbose=1)\n",
    "reduce_lr_on_plateau_cb = callbacks.ReduceLROnPlateau(patience=3, factor=0.7, verbose=1)\n",
    "\n",
    "history = model.fit(\n",
    "    train_onehot,\n",
    "    train_target,\n",
    "    epochs=100,\n",
    "    batch_size=65,\n",
    "    validation_split=0.2,\n",
    "    callbacks=[early_stopping_cb, reduce_lr_on_plateau_cb])\n",
    "\n",
    "history_df = pd.DataFrame(history.history)\n",
    "history_df.plot()\n",
    "plt.show()"
   ]
  },
  {
   "cell_type": "code",
   "execution_count": null,
   "metadata": {},
   "outputs": [],
   "source": [
    "loss, accuracy = model.evaluate(test_onehot, test_target)\n",
    "loss, accuracy"
   ]
  }
 ],
 "metadata": {
  "kernelspec": {
   "display_name": "pystudy_env",
   "language": "python",
   "name": "python3"
  },
  "language_info": {
   "codemirror_mode": {
    "name": "ipython",
    "version": 3
   },
   "file_extension": ".py",
   "mimetype": "text/x-python",
   "name": "python",
   "nbconvert_exporter": "python",
   "pygments_lexer": "ipython3",
   "version": "3.12.8"
  }
 },
 "nbformat": 4,
 "nbformat_minor": 2
}
