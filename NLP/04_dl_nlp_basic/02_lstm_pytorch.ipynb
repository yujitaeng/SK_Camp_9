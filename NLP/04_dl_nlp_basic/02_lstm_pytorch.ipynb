{
  "nbformat": 4,
  "nbformat_minor": 0,
  "metadata": {
    "colab": {
      "provenance": [],
      "collapsed_sections": [
        "OD7_inwuQqic",
        "HMd5EK78Xb2M"
      ]
    },
    "kernelspec": {
      "name": "python3",
      "display_name": "Python 3"
    },
    "language_info": {
      "name": "python"
    }
  },
  "cells": [
    {
      "cell_type": "markdown",
      "source": [
        "# LSTM"
      ],
      "metadata": {
        "id": "tyEJyfvsGPP2"
      }
    },
    {
      "cell_type": "code",
      "source": [
        "VOCAB_SIZE = 300    # 사용할 단어 수\n",
        "SEQ_LEN = 100       # 시퀀스 하나의 최대 길이"
      ],
      "metadata": {
        "id": "4BkCFTTXGst5"
      },
      "execution_count": 3,
      "outputs": []
    },
    {
      "cell_type": "markdown",
      "source": [
        "### 데이터 준비"
      ],
      "metadata": {
        "id": "OD7_inwuQqic"
      }
    },
    {
      "cell_type": "code",
      "execution_count": 4,
      "metadata": {
        "colab": {
          "base_uri": "https://localhost:8080/"
        },
        "id": "vnMNsnuIF6hj",
        "outputId": "1039f051-0110-40f4-b517-69528c1d6262"
      },
      "outputs": [
        {
          "output_type": "stream",
          "name": "stdout",
          "text": [
            "Downloading data from https://storage.googleapis.com/tensorflow/tf-keras-datasets/imdb.npz\n",
            "\u001b[1m17464789/17464789\u001b[0m \u001b[32m━━━━━━━━━━━━━━━━━━━━\u001b[0m\u001b[37m\u001b[0m \u001b[1m2s\u001b[0m 0us/step\n"
          ]
        }
      ],
      "source": [
        "# 데이터 로드\n",
        "from tensorflow.keras.datasets import imdb\n",
        "\n",
        "(train_input, train_target), (test_input, test_target) = imdb.load_data(num_words=VOCAB_SIZE)"
      ]
    },
    {
      "cell_type": "code",
      "source": [
        "# PyTorch Tensor로 변환\n",
        "import torch\n",
        "\n",
        "train_input = [torch.tensor(seq, dtype=torch.long) for seq in train_input]\n",
        "test_input = [torch.tensor(seq, dtype=torch.long) for seq in test_input]\n",
        "\n",
        "train_target = torch.tensor(train_target, dtype=torch.long)\n",
        "test_target = torch.tensor(test_target, dtype=torch.long)\n",
        "\n",
        "print(len(train_input), len(test_input))\n",
        "print(train_target.shape, test_target.shape)"
      ],
      "metadata": {
        "colab": {
          "base_uri": "https://localhost:8080/"
        },
        "id": "U5FkM8kiH50k",
        "outputId": "43f4db2f-8178-4dc0-a650-60de8f131d00"
      },
      "execution_count": 5,
      "outputs": [
        {
          "output_type": "stream",
          "name": "stdout",
          "text": [
            "25000 25000\n",
            "torch.Size([25000]) torch.Size([25000])\n"
          ]
        }
      ]
    },
    {
      "cell_type": "code",
      "source": [
        "train_input, test_input = train_input[:10000], test_input[:5000]\n",
        "train_target, test_target = train_target[:10000], test_target[:5000]"
      ],
      "metadata": {
        "id": "yguCeMyqJQ53"
      },
      "execution_count": 6,
      "outputs": []
    },
    {
      "cell_type": "code",
      "source": [
        "train_input[0]"
      ],
      "metadata": {
        "colab": {
          "base_uri": "https://localhost:8080/"
        },
        "id": "0oe1uxoXMve7",
        "outputId": "d9cf38a8-24f1-4028-f307-5958dcc3f668"
      },
      "execution_count": 18,
      "outputs": [
        {
          "output_type": "execute_result",
          "data": {
            "text/plain": [
              "tensor([  1,  14,  22,  16,  43,   2,   2,   2,   2,  65,   2,   2,  66,   2,\n",
              "          4, 173,  36, 256,   5,  25, 100,  43,   2, 112,  50,   2,   2,   9,\n",
              "         35,   2, 284,   5, 150,   4, 172, 112, 167,   2,   2,   2,  39,   4,\n",
              "        172,   2,   2,  17,   2,  38,  13,   2,   4, 192,  50,  16,   6, 147,\n",
              "          2,  19,  14,  22,   4,   2,   2,   2,   4,  22,  71,  87,  12,  16,\n",
              "         43,   2,  38,  76,  15,  13,   2,   4,  22,  17,   2,  17,  12,  16,\n",
              "          2,  18,   2,   5,  62,   2,  12,   8,   2,   8, 106,   5,   4,   2,\n",
              "          2,  16,   2,  66,   2,  33,   4, 130,  12,  16,  38,   2,   5,  25,\n",
              "        124,  51,  36, 135,  48,  25,   2,  33,   6,  22,  12, 215,  28,  77,\n",
              "         52,   5,  14,   2,  16,  82,   2,   8,   4, 107, 117,   2,  15, 256,\n",
              "          4,   2,   7,   2,   5,   2,  36,  71,  43,   2,   2,  26,   2,   2,\n",
              "         46,   7,   4,   2,   2,  13, 104,  88,   4,   2,  15, 297,  98,  32,\n",
              "          2,  56,  26, 141,   6, 194,   2,  18,   4, 226,  22,  21, 134,   2,\n",
              "         26,   2,   5, 144,  30,   2,  18,  51,  36,  28, 224,  92,  25, 104,\n",
              "          4, 226,  65,  16,  38,   2,  88,  12,  16, 283,   5,  16,   2, 113,\n",
              "        103,  32,  15,  16,   2,  19, 178,  32])"
            ]
          },
          "metadata": {},
          "execution_count": 18
        }
      ]
    },
    {
      "cell_type": "code",
      "source": [
        "# 입력 데이터 길이 체크\n",
        "import matplotlib.pyplot as plt\n",
        "import numpy as np\n",
        "\n",
        "train_len = [len(seq) for seq in train_input]\n",
        "\n",
        "plt.hist(train_len, bins=50)\n",
        "plt.xlabel('seq_len')\n",
        "plt.ylabel('freq')\n",
        "plt.show()"
      ],
      "metadata": {
        "colab": {
          "base_uri": "https://localhost:8080/",
          "height": 450
        },
        "id": "UFp6DliKJoFx",
        "outputId": "6b87a1e4-05b3-47e2-b4c0-394aefdf8526"
      },
      "execution_count": 7,
      "outputs": [
        {
          "output_type": "display_data",
          "data": {
            "text/plain": [
              "<Figure size 640x480 with 1 Axes>"
            ],
            "image/png": "[encoded data removed]"
          },
          "metadata": {}
        }
      ]
    },
    {
      "cell_type": "code",
      "source": [
        "# padding 처리\n",
        "import torch.nn.functional as F\n",
        "\n",
        "def pad_sequences(sequences, maxlen, padding_value=0):\n",
        "  padded_sequences = [F.pad(seq[:maxlen], (0, max(0, maxlen-len(seq))), value=padding_value) for seq in sequences]\n",
        "  return torch.stack(padded_sequences)\n",
        "\n",
        "train_seq = pad_sequences(train_input, maxlen=SEQ_LEN)\n",
        "test_seq = pad_sequences(test_input, maxlen=SEQ_LEN)\n",
        "\n",
        "train_seq.shape, test_seq.shape"
      ],
      "metadata": {
        "colab": {
          "base_uri": "https://localhost:8080/"
        },
        "id": "W4EBgD0YKJl5",
        "outputId": "2e644bf9-127f-4377-99c3-f1a755ffd4d1"
      },
      "execution_count": 8,
      "outputs": [
        {
          "output_type": "execute_result",
          "data": {
            "text/plain": [
              "(torch.Size([10000, 100]), torch.Size([5000, 100]))"
            ]
          },
          "metadata": {},
          "execution_count": 8
        }
      ]
    },
    {
      "cell_type": "code",
      "source": [
        "# one-hot encoding\n",
        "train_onehot = F.one_hot(train_seq, num_classes=VOCAB_SIZE).float()\n",
        "test_onehot = F.one_hot(test_seq, num_classes=VOCAB_SIZE).float()\n",
        "\n",
        "train_onehot.shape, test_onehot.shape"
      ],
      "metadata": {
        "colab": {
          "base_uri": "https://localhost:8080/"
        },
        "id": "-IjPZBsxMTk5",
        "outputId": "036ea165-06bd-40ea-d278-021f205e1b7b"
      },
      "execution_count": 9,
      "outputs": [
        {
          "output_type": "execute_result",
          "data": {
            "text/plain": [
              "(torch.Size([10000, 100, 300]), torch.Size([5000, 100, 300]))"
            ]
          },
          "metadata": {},
          "execution_count": 9
        }
      ]
    },
    {
      "cell_type": "markdown",
      "source": [
        "### 모델 준비 및 학습"
      ],
      "metadata": {
        "id": "iOv3sUE-Gh35"
      }
    },
    {
      "cell_type": "markdown",
      "source": [
        "##### one-hot encoding + LSTM"
      ],
      "metadata": {
        "id": "-DbqPU4aM5rn"
      }
    },
    {
      "cell_type": "code",
      "execution_count": 10,
      "metadata": {
        "id": "RJ731LgpDJOM"
      },
      "outputs": [],
      "source": [
        "import torch\n",
        "import torch.nn as nn\n",
        "\n",
        "class SentimentLSTM(nn.Module):\n",
        "  def __init__(self, seq_len, vocab_size, hidden_dim, output_dim):\n",
        "    super(SentimentLSTM, self).__init__()\n",
        "    self.lstm = nn.LSTM(input_size=vocab_size, hidden_size=hidden_dim, batch_first=True)\n",
        "    self.fc = nn.Linear(hidden_dim, output_dim)\n",
        "    self.sigmoid = nn.Sigmoid()\n",
        "\n",
        "  def forward(self, x):\n",
        "    _, (hidden, _) = self.lstm(x)\n",
        "    out = self.fc(hidden[-1])\n",
        "    return self.sigmoid(out)"
      ]
    },
    {
      "cell_type": "code",
      "source": [
        "HIDDEN_DIM = 8\n",
        "OUTPUT_DIM = 1\n",
        "\n",
        "lstm_model = SentimentLSTM(seq_len=SEQ_LEN, vocab_size=VOCAB_SIZE, hidden_dim=HIDDEN_DIM, output_dim=OUTPUT_DIM)\n",
        "\n",
        "print(lstm_model)"
      ],
      "metadata": {
        "colab": {
          "base_uri": "https://localhost:8080/"
        },
        "id": "2av3BTqBIrrP",
        "outputId": "00736db0-25ed-4c3b-a56b-70f8280a61d9"
      },
      "execution_count": 11,
      "outputs": [
        {
          "output_type": "stream",
          "name": "stdout",
          "text": [
            "SentimentLSTM(\n",
            "  (lstm): LSTM(300, 8, batch_first=True)\n",
            "  (fc): Linear(in_features=8, out_features=1, bias=True)\n",
            "  (sigmoid): Sigmoid()\n",
            ")\n"
          ]
        }
      ]
    },
    {
      "cell_type": "code",
      "source": [
        "total_params = 0\n",
        "print(f\"{'Layer':<20} {'Shape':<30} {'Params'}\")\n",
        "print(\"=\" * 60)\n",
        "\n",
        "for name, param in lstm_model.named_parameters():\n",
        "  if param.requires_grad:\n",
        "    param_count = param.numel()\n",
        "    total_params += param_count\n",
        "    print(f'{name:<20} {str(list(param.shape)):<30} {param_count}')\n",
        "\n",
        "print(\"=\" * 60)\n",
        "print(f'Total Trainable Parameters: {total_params}')"
      ],
      "metadata": {
        "colab": {
          "base_uri": "https://localhost:8080/"
        },
        "id": "fOVZaEtwJV34",
        "outputId": "19b2900b-8815-4529-c739-5d7325eea9fe"
      },
      "execution_count": 12,
      "outputs": [
        {
          "output_type": "stream",
          "name": "stdout",
          "text": [
            "Layer                Shape                          Params\n",
            "============================================================\n",
            "lstm.weight_ih_l0    [32, 300]                      9600\n",
            "lstm.weight_hh_l0    [32, 8]                        256\n",
            "lstm.bias_ih_l0      [32]                           32\n",
            "lstm.bias_hh_l0      [32]                           32\n",
            "fc.weight            [1, 8]                         8\n",
            "fc.bias              [1]                            1\n",
            "============================================================\n",
            "Total Trainable Parameters: 9929\n"
          ]
        }
      ]
    },
    {
      "cell_type": "code",
      "source": [
        "import torch.optim as optim\n",
        "import pandas as pd\n",
        "from torch.utils.data import DataLoader, TensorDataset, random_split\n",
        "\n",
        "# 배치 사이즈 설정 + 학습/검증셋 크기 설정\n",
        "BATCH_SIZE = 65\n",
        "train_size = int(len(train_onehot) * 0.8)\n",
        "val_size = len(train_onehot) - train_size\n",
        "\n",
        "# label 데이터 실수 처리\n",
        "train_target = train_target.float()\n",
        "test_target = test_target.float()\n",
        "\n",
        "# 학습/검증셋 분할 + 미니배치로 사용하도록 DataLoader 생성\n",
        "train_dataset, val_dataset = random_split(TensorDataset(train_onehot, train_target), [train_size, val_size])\n",
        "train_loader = DataLoader(train_dataset, batch_size=BATCH_SIZE, shuffle=True)\n",
        "val_loader = DataLoader(val_dataset, batch_size=BATCH_SIZE)\n",
        "\n",
        "# epoch, 손실함수, 최적화함수 정의\n",
        "epochs = 100\n",
        "criterion = nn.BCELoss()\n",
        "optimizer = optim.Adam(lstm_model.parameters(), lr=0.005)\n",
        "\n",
        "# 시각화를 위한 손실값/정확도 저장용\n",
        "train_losses, val_losses, train_accs, val_accs = [], [], [], []\n",
        "\n",
        "# 조기종료 관련 변수 초기화\n",
        "early_stopping_patience = 7\n",
        "best_val_loss = float('inf')\n",
        "early_stop_counter = 0\n",
        "\n",
        "# 학습 과정\n",
        "for epoch in range(epochs):\n",
        "  # train mode\n",
        "  lstm_model.train()\n",
        "  total_loss, correct, total = 0, 0, 0\n",
        "\n",
        "  for inputs, targets in train_loader:\n",
        "    optimizer.zero_grad()              # 가중치 초기화\n",
        "    outputs = lstm_model(inputs).squeeze()  # 순전파\n",
        "\n",
        "    loss = criterion(outputs, targets) # 손실 계산\n",
        "\n",
        "    loss.backward()                    # 역전파\n",
        "    optimizer.step()                   # 가중치 업데이트\n",
        "    total_loss += loss.item()\n",
        "\n",
        "    pred = (outputs > 0.5).float()\n",
        "    correct += (pred == targets).sum().item()\n",
        "    total += targets.size(0)\n",
        "\n",
        "  train_loss = total_loss / len(train_loader)\n",
        "  train_acc = correct / total\n",
        "  train_losses.append(train_loss)\n",
        "  train_accs.append(train_acc)\n",
        "\n",
        "  # validation mode\n",
        "  lstm_model.eval()\n",
        "  val_loss, val_correct, val_total = 0, 0, 0\n",
        "\n",
        "  with torch.no_grad():\n",
        "    for val_inputs, val_targets in val_loader:\n",
        "      val_outputs = lstm_model(val_inputs).squeeze()\n",
        "      loss = criterion(val_outputs, val_targets)\n",
        "      val_loss += loss.item()\n",
        "\n",
        "      val_pred = (val_outputs > 0.5).float()\n",
        "      val_correct += (val_pred == val_targets).sum().item()\n",
        "      val_total += val_targets.size(0)\n",
        "\n",
        "  val_loss = val_loss / len(val_loader)\n",
        "  val_acc = val_correct / val_total\n",
        "  val_losses.append(val_loss)\n",
        "  val_accs.append(val_acc)\n",
        "\n",
        "  print(f'Epoch {epoch+1}/{epochs} | Train Loss: {train_loss:.4f}, Train Acc: {train_acc:.4f}, Val Loss: {val_loss:.4f}, Val Acc: {val_acc:.4f}')\n",
        "\n",
        "  # 조기종료 처리\n",
        "  if val_loss < best_val_loss:\n",
        "    best_val_loss = val_loss\n",
        "    early_stop_counter = 0\n",
        "  else:\n",
        "    early_stop_counter += 1\n",
        "    if early_stop_counter >= early_stopping_patience:\n",
        "      print(\"Early stopping 할게!\")\n",
        "      break\n",
        "\n",
        "# 시각화\n",
        "train_history_df = pd.DataFrame({\n",
        "    \"train_loss\": train_losses,\n",
        "    \"val_loss\": val_losses,\n",
        "    \"train_acc\": train_accs,\n",
        "    \"val_acc\": val_accs\n",
        "})\n",
        "train_history_df.plot()\n",
        "plt.show()"
      ],
      "metadata": {
        "colab": {
          "base_uri": "https://localhost:8080/",
          "height": 705
        },
        "id": "Yl4Egyw6K21B",
        "outputId": "763ae653-39c3-4cec-8b50-6c45ab0c01ba"
      },
      "execution_count": 14,
      "outputs": [
        {
          "output_type": "stream",
          "name": "stdout",
          "text": [
            "Epoch 1/100 | Train Loss: 0.5647, Train Acc: 0.7212, Val Loss: 0.5820, Val Acc: 0.7140\n",
            "Epoch 2/100 | Train Loss: 0.5428, Train Acc: 0.7331, Val Loss: 0.5396, Val Acc: 0.7445\n",
            "Epoch 3/100 | Train Loss: 0.5280, Train Acc: 0.7432, Val Loss: 0.5404, Val Acc: 0.7330\n",
            "Epoch 4/100 | Train Loss: 0.5186, Train Acc: 0.7461, Val Loss: 0.5345, Val Acc: 0.7405\n",
            "Epoch 5/100 | Train Loss: 0.5126, Train Acc: 0.7519, Val Loss: 0.5565, Val Acc: 0.7095\n",
            "Epoch 6/100 | Train Loss: 0.5076, Train Acc: 0.7521, Val Loss: 0.5392, Val Acc: 0.7410\n",
            "Epoch 7/100 | Train Loss: 0.4918, Train Acc: 0.7648, Val Loss: 0.5292, Val Acc: 0.7415\n",
            "Epoch 8/100 | Train Loss: 0.4965, Train Acc: 0.7579, Val Loss: 0.5319, Val Acc: 0.7455\n",
            "Epoch 9/100 | Train Loss: 0.4788, Train Acc: 0.7734, Val Loss: 0.5390, Val Acc: 0.7415\n",
            "Epoch 10/100 | Train Loss: 0.4694, Train Acc: 0.7780, Val Loss: 0.5345, Val Acc: 0.7450\n",
            "Epoch 11/100 | Train Loss: 0.4664, Train Acc: 0.7798, Val Loss: 0.5339, Val Acc: 0.7495\n",
            "Epoch 12/100 | Train Loss: 0.4620, Train Acc: 0.7844, Val Loss: 0.5342, Val Acc: 0.7525\n",
            "Epoch 13/100 | Train Loss: 0.4486, Train Acc: 0.7879, Val Loss: 0.5528, Val Acc: 0.7430\n",
            "Epoch 14/100 | Train Loss: 0.4445, Train Acc: 0.7880, Val Loss: 0.5497, Val Acc: 0.7420\n",
            "Early stopping 할게!\n"
          ]
        },
        {
          "output_type": "display_data",
          "data": {
            "text/plain": [
              "<Figure size 640x480 with 1 Axes>"
            ],
            "image/png": "[encoded data removed]"
          },
          "metadata": {}
        }
      ]
    },
    {
      "cell_type": "code",
      "source": [
        "def evaluate_model(model, test_loader, criterion):\n",
        "  model.eval()\n",
        "  val_loss, val_correct, val_total = 0, 0, 0\n",
        "\n",
        "  with torch.no_grad():\n",
        "    for val_inputs, val_targets in test_loader:\n",
        "      val_outputs = model(val_inputs).squeeze()\n",
        "      loss = criterion(val_outputs, val_targets)\n",
        "      val_loss += loss.item()\n",
        "\n",
        "      val_pred = (val_outputs > 0.5).float()\n",
        "      val_correct += (val_pred == val_targets).sum().item()\n",
        "      val_total += val_targets.size(0)\n",
        "\n",
        "  test_loss = val_loss / len(test_loader)\n",
        "  test_acc = val_correct / val_total\n",
        "  return test_loss, test_acc"
      ],
      "metadata": {
        "id": "TV-hKg64MMV1"
      },
      "execution_count": 15,
      "outputs": []
    },
    {
      "cell_type": "code",
      "source": [
        "test_dataset = TensorDataset(test_onehot, test_target)\n",
        "test_loader = DataLoader(test_dataset, batch_size=65)\n",
        "\n",
        "loss, accuracy = evaluate_model(lstm_model, test_loader, criterion)\n",
        "\n",
        "print(f'Test Loss: {loss:.4f}, Test Accuracy: {accuracy:.4f}')"
      ],
      "metadata": {
        "colab": {
          "base_uri": "https://localhost:8080/"
        },
        "id": "ppxqbWdEMNmD",
        "outputId": "95068776-584f-42a5-d19f-2aba786d981d"
      },
      "execution_count": 17,
      "outputs": [
        {
          "output_type": "stream",
          "name": "stdout",
          "text": [
            "Test Loss: 0.5869, Test Accuracy: 0.7166\n"
          ]
        }
      ]
    },
    {
      "cell_type": "markdown",
      "source": [
        "##### Embedding + LSTM"
      ],
      "metadata": {
        "id": "olwmw6oYM_5B"
      }
    },
    {
      "cell_type": "code",
      "execution_count": 19,
      "metadata": {
        "id": "aUZnKsPCM_5C"
      },
      "outputs": [],
      "source": [
        "import torch\n",
        "import torch.nn as nn\n",
        "\n",
        "class SentimentLSTM(nn.Module):\n",
        "  def __init__(self, vocab_size, embedding_dim, hidden_dim, output_dim):\n",
        "    super(SentimentLSTM, self).__init__()\n",
        "    self.embedding = nn.Embedding(num_embeddings=vocab_size, embedding_dim=embedding_dim)\n",
        "    self.lstm = nn.LSTM(input_size=embedding_dim, hidden_size=hidden_dim, batch_first=True)\n",
        "    self.fc = nn.Linear(hidden_dim, output_dim)\n",
        "    self.sigmoid = nn.Sigmoid()\n",
        "\n",
        "  def forward(self, x):\n",
        "    x = self.embedding(x)\n",
        "    _, (hidden, _) = self.lstm(x)\n",
        "    out = self.fc(hidden[-1])\n",
        "    return self.sigmoid(out)"
      ]
    },
    {
      "cell_type": "code",
      "source": [
        "HIDDEN_DIM = 8\n",
        "OUTPUT_DIM = 1\n",
        "EMBEDDING_DIM = 50\n",
        "\n",
        "ebd_lstm_model = SentimentLSTM(vocab_size=VOCAB_SIZE, embedding_dim=EMBEDDING_DIM, hidden_dim=HIDDEN_DIM, output_dim=OUTPUT_DIM)\n",
        "\n",
        "print(ebd_lstm_model)"
      ],
      "metadata": {
        "colab": {
          "base_uri": "https://localhost:8080/"
        },
        "outputId": "f33071e1-cb62-4855-b625-7838600accd9",
        "id": "cHiHpHSIM_5D"
      },
      "execution_count": 26,
      "outputs": [
        {
          "output_type": "stream",
          "name": "stdout",
          "text": [
            "SentimentLSTM(\n",
            "  (embedding): Embedding(300, 50)\n",
            "  (lstm): LSTM(50, 8, batch_first=True)\n",
            "  (fc): Linear(in_features=8, out_features=1, bias=True)\n",
            "  (sigmoid): Sigmoid()\n",
            ")\n"
          ]
        }
      ]
    },
    {
      "cell_type": "code",
      "source": [
        "total_params = 0\n",
        "print(f\"{'Layer':<20} {'Shape':<30} {'Params'}\")\n",
        "print(\"=\" * 60)\n",
        "\n",
        "for name, param in ebd_lstm_model.named_parameters():\n",
        "  if param.requires_grad:\n",
        "    param_count = param.numel()\n",
        "    total_params += param_count\n",
        "    print(f'{name:<20} {str(list(param.shape)):<30} {param_count}')\n",
        "\n",
        "print(\"=\" * 60)\n",
        "print(f'Total Trainable Parameters: {total_params}')"
      ],
      "metadata": {
        "colab": {
          "base_uri": "https://localhost:8080/"
        },
        "outputId": "dabd5dee-69ca-4c75-cc58-8a4b5fad5128",
        "id": "saZuCayLM_5D"
      },
      "execution_count": 21,
      "outputs": [
        {
          "output_type": "stream",
          "name": "stdout",
          "text": [
            "Layer                Shape                          Params\n",
            "============================================================\n",
            "embedding.weight     [300, 50]                      15000\n",
            "lstm.weight_ih_l0    [32, 50]                       1600\n",
            "lstm.weight_hh_l0    [32, 8]                        256\n",
            "lstm.bias_ih_l0      [32]                           32\n",
            "lstm.bias_hh_l0      [32]                           32\n",
            "fc.weight            [1, 8]                         8\n",
            "fc.bias              [1]                            1\n",
            "============================================================\n",
            "Total Trainable Parameters: 16929\n"
          ]
        }
      ]
    },
    {
      "cell_type": "code",
      "source": [
        "import torch.optim as optim\n",
        "import pandas as pd\n",
        "from torch.utils.data import DataLoader, TensorDataset, random_split\n",
        "\n",
        "# 배치 사이즈 설정 + 학습/검증셋 크기 설정\n",
        "BATCH_SIZE = 65\n",
        "train_size = int(len(train_seq) * 0.8)\n",
        "val_size = len(train_seq) - train_size\n",
        "\n",
        "train_target = train_target.to(torch.float32)\n",
        "train_dataset, val_dataset = random_split(TensorDataset(train_seq.to(torch.long), train_target), [train_size, val_size])\n",
        "train_loader = DataLoader(train_dataset, batch_size=BATCH_SIZE, shuffle=True)\n",
        "val_loader = DataLoader(val_dataset, batch_size=BATCH_SIZE)\n",
        "\n",
        "# epoch, 손실함수, 최적화함수 정의\n",
        "epochs = 100\n",
        "criterion = nn.BCELoss()\n",
        "optimizer = optim.Adam(ebd_lstm_model.parameters(), lr=0.001)\n",
        "\n",
        "# 시각화를 위한 손실값/정확도 저장용\n",
        "train_losses, val_losses, train_accs, val_accs = [], [], [], []\n",
        "\n",
        "# 조기종료 관련 변수 초기화\n",
        "early_stopping_patience = 7\n",
        "best_val_loss = float('inf')\n",
        "early_stop_counter = 0\n",
        "\n",
        "# 학습 과정\n",
        "for epoch in range(epochs):\n",
        "  # train mode\n",
        "  ebd_lstm_model.train()\n",
        "  total_loss, correct, total = 0, 0, 0\n",
        "\n",
        "  for inputs, targets in train_loader:\n",
        "    optimizer.zero_grad()              # 가중치 초기화\n",
        "    outputs = ebd_lstm_model(inputs).squeeze()  # 순전파\n",
        "\n",
        "    loss = criterion(outputs, targets) # 손실 계산\n",
        "\n",
        "    loss.backward()                    # 역전파\n",
        "    optimizer.step()                   # 가중치 업데이트\n",
        "    total_loss += loss.item()\n",
        "\n",
        "    pred = (outputs > 0.5).float()\n",
        "    correct += (pred == targets).sum().item()\n",
        "    total += targets.size(0)\n",
        "\n",
        "  train_loss = total_loss / len(train_loader)\n",
        "  train_acc = correct / total\n",
        "  train_losses.append(train_loss)\n",
        "  train_accs.append(train_acc)\n",
        "\n",
        "  # validation mode\n",
        "  ebd_lstm_model.eval()\n",
        "  val_loss, val_correct, val_total = 0, 0, 0\n",
        "\n",
        "  with torch.no_grad():\n",
        "    for val_inputs, val_targets in val_loader:\n",
        "      val_outputs = ebd_lstm_model(val_inputs).squeeze()\n",
        "      loss = criterion(val_outputs, val_targets)\n",
        "      val_loss += loss.item()\n",
        "\n",
        "      val_pred = (val_outputs > 0.5).float()\n",
        "      val_correct += (val_pred == val_targets).sum().item()\n",
        "      val_total += val_targets.size(0)\n",
        "\n",
        "  val_loss = val_loss / len(val_loader)\n",
        "  val_acc = val_correct / val_total\n",
        "  val_losses.append(val_loss)\n",
        "  val_accs.append(val_acc)\n",
        "\n",
        "  print(f'Epoch {epoch+1}/{epochs} | Train Loss: {train_loss:.4f}, Train Acc: {train_acc:.4f}, Val Loss: {val_loss:.4f}, Val Acc: {val_acc:.4f}')\n",
        "\n",
        "  # 조기종료 처리\n",
        "  if val_loss < best_val_loss:\n",
        "    best_val_loss = val_loss\n",
        "    early_stop_counter = 0\n",
        "  else:\n",
        "    early_stop_counter += 1\n",
        "    if early_stop_counter >= early_stopping_patience:\n",
        "      print(\"Early stopping 할게!\")\n",
        "      break\n",
        "\n",
        "# 시각화\n",
        "train_history_df = pd.DataFrame({\n",
        "    \"train_loss\": train_losses,\n",
        "    \"val_loss\": val_losses,\n",
        "    \"train_acc\": train_accs,\n",
        "    \"val_acc\": val_accs\n",
        "})\n",
        "train_history_df.plot()\n",
        "plt.show()"
      ],
      "metadata": {
        "colab": {
          "base_uri": "https://localhost:8080/",
          "height": 816
        },
        "outputId": "0cba600d-a51b-441e-8e71-598c0e843dd5",
        "id": "tiwaG_1rM_5E"
      },
      "execution_count": 28,
      "outputs": [
        {
          "output_type": "stream",
          "name": "stdout",
          "text": [
            "Epoch 1/100 | Train Loss: 0.6943, Train Acc: 0.4964, Val Loss: 0.6930, Val Acc: 0.5015\n",
            "Epoch 2/100 | Train Loss: 0.6909, Train Acc: 0.5214, Val Loss: 0.6918, Val Acc: 0.5150\n",
            "Epoch 3/100 | Train Loss: 0.6888, Train Acc: 0.5399, Val Loss: 0.6913, Val Acc: 0.5195\n",
            "Epoch 4/100 | Train Loss: 0.6857, Train Acc: 0.5519, Val Loss: 0.6894, Val Acc: 0.5285\n",
            "Epoch 5/100 | Train Loss: 0.6805, Train Acc: 0.5730, Val Loss: 0.6889, Val Acc: 0.5350\n",
            "Epoch 6/100 | Train Loss: 0.6752, Train Acc: 0.5845, Val Loss: 0.6840, Val Acc: 0.5470\n",
            "Epoch 7/100 | Train Loss: 0.6697, Train Acc: 0.5923, Val Loss: 0.6820, Val Acc: 0.5585\n",
            "Epoch 8/100 | Train Loss: 0.6567, Train Acc: 0.6104, Val Loss: 0.6751, Val Acc: 0.5885\n",
            "Epoch 9/100 | Train Loss: 0.6487, Train Acc: 0.6282, Val Loss: 0.6800, Val Acc: 0.5980\n",
            "Epoch 10/100 | Train Loss: 0.6418, Train Acc: 0.6348, Val Loss: 0.6737, Val Acc: 0.5950\n",
            "Epoch 11/100 | Train Loss: 0.6302, Train Acc: 0.6544, Val Loss: 0.6672, Val Acc: 0.6175\n",
            "Epoch 12/100 | Train Loss: 0.6159, Train Acc: 0.6675, Val Loss: 0.6629, Val Acc: 0.6160\n",
            "Epoch 13/100 | Train Loss: 0.6088, Train Acc: 0.6767, Val Loss: 0.6608, Val Acc: 0.6360\n",
            "Epoch 14/100 | Train Loss: 0.6169, Train Acc: 0.6549, Val Loss: 0.6652, Val Acc: 0.6025\n",
            "Epoch 15/100 | Train Loss: 0.5966, Train Acc: 0.6821, Val Loss: 0.6635, Val Acc: 0.6215\n",
            "Epoch 16/100 | Train Loss: 0.5887, Train Acc: 0.6911, Val Loss: 0.6697, Val Acc: 0.6175\n",
            "Epoch 17/100 | Train Loss: 0.5825, Train Acc: 0.6990, Val Loss: 0.6688, Val Acc: 0.6225\n",
            "Epoch 18/100 | Train Loss: 0.5762, Train Acc: 0.7061, Val Loss: 0.6725, Val Acc: 0.6260\n",
            "Epoch 19/100 | Train Loss: 0.5711, Train Acc: 0.7139, Val Loss: 0.6763, Val Acc: 0.6275\n",
            "Epoch 20/100 | Train Loss: 0.5587, Train Acc: 0.7298, Val Loss: 0.6824, Val Acc: 0.6335\n",
            "Early stopping 할게!\n"
          ]
        },
        {
          "output_type": "display_data",
          "data": {
            "text/plain": [
              "<Figure size 640x480 with 1 Axes>"
            ],
            "image/png": "[encoded data removed]"
          },
          "metadata": {}
        }
      ]
    },
    {
      "cell_type": "code",
      "source": [
        "def evaluate_model(model, test_loader, criterion):\n",
        "  model.eval()\n",
        "  val_loss, val_correct, val_total = 0, 0, 0\n",
        "\n",
        "  with torch.no_grad():\n",
        "    for val_inputs, val_targets in test_loader:\n",
        "      val_outputs = model(val_inputs).squeeze()\n",
        "      loss = criterion(val_outputs, val_targets)\n",
        "      val_loss += loss.item()\n",
        "\n",
        "      val_pred = (val_outputs > 0.5).float()\n",
        "      val_correct += (val_pred == val_targets).sum().item()\n",
        "      val_total += val_targets.size(0)\n",
        "\n",
        "  test_loss = val_loss / len(test_loader)\n",
        "  test_acc = val_correct / val_total\n",
        "  return test_loss, test_acc"
      ],
      "metadata": {
        "id": "Ono8s72bM_5F"
      },
      "execution_count": 29,
      "outputs": []
    },
    {
      "cell_type": "code",
      "source": [
        "test_dataset = TensorDataset(test_seq.to(torch.long), test_target.to(torch.float32))\n",
        "test_loader = DataLoader(test_dataset, batch_size=65)\n",
        "\n",
        "loss, accuracy = evaluate_model(ebd_lstm_model, test_loader, criterion)\n",
        "\n",
        "print(f'Test Loss: {loss:.4f}, Test Accuracy: {accuracy:.4f}')"
      ],
      "metadata": {
        "colab": {
          "base_uri": "https://localhost:8080/"
        },
        "outputId": "cc8c3f62-ec7b-4797-d139-fd183e42ada0",
        "id": "ucqEBPQFM_5F"
      },
      "execution_count": 31,
      "outputs": [
        {
          "output_type": "stream",
          "name": "stdout",
          "text": [
            "Test Loss: 0.6605, Test Accuracy: 0.6454\n"
          ]
        }
      ]
    },
    {
      "cell_type": "markdown",
      "source": [
        "##### Embedding + LSTM + LSTM"
      ],
      "metadata": {
        "id": "HMd5EK78Xb2M"
      }
    },
    {
      "cell_type": "code",
      "source": [
        "import torch\n",
        "import torch.nn as nn\n",
        "\n",
        "class SentimentLSTM(nn.Module):\n",
        "  def __init__(self, vocab_size, embedding_dim, hidden_dim, output_dim):\n",
        "    super(SentimentLSTM, self).__init__()\n",
        "    self.embedding = nn.Embedding(num_embeddings=vocab_size, embedding_dim=embedding_dim)\n",
        "    self.lstm1 = nn.LSTM(input_size=embedding_dim, hidden_size=hidden_dim, batch_first=True)\n",
        "    self.lstm2 = nn.LSTM(input_size=hidden_dim, hidden_size=hidden_dim, batch_first=True)\n",
        "    self.fc = nn.Linear(hidden_dim, output_dim)\n",
        "    self.sigmoid = nn.Sigmoid()\n",
        "\n",
        "  def forward(self, x):\n",
        "    x = self.embedding(x)\n",
        "    x, _ = self.lstm1(x)\n",
        "    _, (hidden, _) = self.lstm2(x)\n",
        "    out = self.fc(hidden[-1])\n",
        "    return self.sigmoid(out)"
      ],
      "metadata": {
        "id": "6IwrHjhrXmfu"
      },
      "execution_count": 32,
      "outputs": []
    },
    {
      "cell_type": "code",
      "source": [
        "HIDDEN_DIM = 8\n",
        "OUTPUT_DIM = 1\n",
        "EMBEDDING_DIM = 50\n",
        "\n",
        "ebd_lstm_model = SentimentLSTM(vocab_size=VOCAB_SIZE, embedding_dim=EMBEDDING_DIM, hidden_dim=HIDDEN_DIM, output_dim=OUTPUT_DIM)\n",
        "\n",
        "print(ebd_lstm_model)"
      ],
      "metadata": {
        "colab": {
          "base_uri": "https://localhost:8080/"
        },
        "id": "xXH4zYruYY0K",
        "outputId": "105d2121-4bbe-46f6-a986-1dd13f7822c6"
      },
      "execution_count": 33,
      "outputs": [
        {
          "output_type": "stream",
          "name": "stdout",
          "text": [
            "SentimentLSTM(\n",
            "  (embedding): Embedding(300, 50)\n",
            "  (lstm1): LSTM(50, 8, batch_first=True)\n",
            "  (lstm2): LSTM(8, 8, batch_first=True)\n",
            "  (fc): Linear(in_features=8, out_features=1, bias=True)\n",
            "  (sigmoid): Sigmoid()\n",
            ")\n"
          ]
        }
      ]
    },
    {
      "cell_type": "code",
      "source": [
        "total_params = 0\n",
        "print(f\"{'Layer':<20} {'Shape':<30} {'Params'}\")\n",
        "print(\"=\" * 60)\n",
        "\n",
        "for name, param in ebd_lstm_model.named_parameters():\n",
        "  if param.requires_grad:\n",
        "    param_count = param.numel()\n",
        "    total_params += param_count\n",
        "    print(f'{name:<20} {str(list(param.shape)):<30} {param_count}')\n",
        "\n",
        "print(\"=\" * 60)\n",
        "print(f'Total Trainable Parameters: {total_params}')"
      ],
      "metadata": {
        "colab": {
          "base_uri": "https://localhost:8080/"
        },
        "id": "SoXPNgvEYkMi",
        "outputId": "40d4c8f7-c4c6-474c-919d-3c6fcafdc9e6"
      },
      "execution_count": 34,
      "outputs": [
        {
          "output_type": "stream",
          "name": "stdout",
          "text": [
            "Layer                Shape                          Params\n",
            "============================================================\n",
            "embedding.weight     [300, 50]                      15000\n",
            "lstm1.weight_ih_l0   [32, 50]                       1600\n",
            "lstm1.weight_hh_l0   [32, 8]                        256\n",
            "lstm1.bias_ih_l0     [32]                           32\n",
            "lstm1.bias_hh_l0     [32]                           32\n",
            "lstm2.weight_ih_l0   [32, 8]                        256\n",
            "lstm2.weight_hh_l0   [32, 8]                        256\n",
            "lstm2.bias_ih_l0     [32]                           32\n",
            "lstm2.bias_hh_l0     [32]                           32\n",
            "fc.weight            [1, 8]                         8\n",
            "fc.bias              [1]                            1\n",
            "============================================================\n",
            "Total Trainable Parameters: 17505\n"
          ]
        }
      ]
    },
    {
      "cell_type": "code",
      "source": [
        "import torch.optim as optim\n",
        "import pandas as pd\n",
        "from torch.utils.data import DataLoader, TensorDataset, random_split\n",
        "\n",
        "# 배치 사이즈 설정 + 학습/검증셋 크기 설정\n",
        "BATCH_SIZE = 65\n",
        "train_size = int(len(train_seq) * 0.8)\n",
        "val_size = len(train_seq) - train_size\n",
        "\n",
        "train_target = train_target.to(torch.float32)\n",
        "train_dataset, val_dataset = random_split(TensorDataset(train_seq.to(torch.long), train_target), [train_size, val_size])\n",
        "train_loader = DataLoader(train_dataset, batch_size=BATCH_SIZE, shuffle=True)\n",
        "val_loader = DataLoader(val_dataset, batch_size=BATCH_SIZE)\n",
        "\n",
        "# epoch, 손실함수, 최적화함수 정의\n",
        "epochs = 100\n",
        "criterion = nn.BCELoss()\n",
        "optimizer = optim.Adam(ebd_lstm_model.parameters(), lr=0.01)\n",
        "\n",
        "# 시각화를 위한 손실값/정확도 저장용\n",
        "train_losses, val_losses, train_accs, val_accs = [], [], [], []\n",
        "\n",
        "# 조기종료 관련 변수 초기화\n",
        "early_stopping_patience = 7\n",
        "best_val_loss = float('inf')\n",
        "early_stop_counter = 0\n",
        "\n",
        "# 학습 과정\n",
        "for epoch in range(epochs):\n",
        "  # train mode\n",
        "  ebd_lstm_model.train()\n",
        "  total_loss, correct, total = 0, 0, 0\n",
        "\n",
        "  for inputs, targets in train_loader:\n",
        "    optimizer.zero_grad()              # 가중치 초기화\n",
        "    outputs = ebd_lstm_model(inputs).squeeze()  # 순전파\n",
        "\n",
        "    loss = criterion(outputs, targets) # 손실 계산\n",
        "\n",
        "    loss.backward()                    # 역전파\n",
        "    optimizer.step()                   # 가중치 업데이트\n",
        "    total_loss += loss.item()\n",
        "\n",
        "    pred = (outputs > 0.5).float()\n",
        "    correct += (pred == targets).sum().item()\n",
        "    total += targets.size(0)\n",
        "\n",
        "  train_loss = total_loss / len(train_loader)\n",
        "  train_acc = correct / total\n",
        "  train_losses.append(train_loss)\n",
        "  train_accs.append(train_acc)\n",
        "\n",
        "  # validation mode\n",
        "  ebd_lstm_model.eval()\n",
        "  val_loss, val_correct, val_total = 0, 0, 0\n",
        "\n",
        "  with torch.no_grad():\n",
        "    for val_inputs, val_targets in val_loader:\n",
        "      val_outputs = ebd_lstm_model(val_inputs).squeeze()\n",
        "      loss = criterion(val_outputs, val_targets)\n",
        "      val_loss += loss.item()\n",
        "\n",
        "      val_pred = (val_outputs > 0.5).float()\n",
        "      val_correct += (val_pred == val_targets).sum().item()\n",
        "      val_total += val_targets.size(0)\n",
        "\n",
        "  val_loss = val_loss / len(val_loader)\n",
        "  val_acc = val_correct / val_total\n",
        "  val_losses.append(val_loss)\n",
        "  val_accs.append(val_acc)\n",
        "\n",
        "  print(f'Epoch {epoch+1}/{epochs} | Train Loss: {train_loss:.4f}, Train Acc: {train_acc:.4f}, Val Loss: {val_loss:.4f}, Val Acc: {val_acc:.4f}')\n",
        "\n",
        "  # 조기종료 처리\n",
        "  if val_loss < best_val_loss:\n",
        "    best_val_loss = val_loss\n",
        "    early_stop_counter = 0\n",
        "  else:\n",
        "    early_stop_counter += 1\n",
        "    if early_stop_counter >= early_stopping_patience:\n",
        "      print(\"Early stopping 할게!\")\n",
        "      break\n",
        "\n",
        "# 시각화\n",
        "train_history_df = pd.DataFrame({\n",
        "    \"train_loss\": train_losses,\n",
        "    \"val_loss\": val_losses,\n",
        "    \"train_acc\": train_accs,\n",
        "    \"val_acc\": val_accs\n",
        "})\n",
        "train_history_df.plot()\n",
        "plt.show()"
      ],
      "metadata": {
        "colab": {
          "base_uri": "https://localhost:8080/",
          "height": 734
        },
        "id": "h-vvYiFbYwO2",
        "outputId": "2d2b6cfe-ca2b-413e-da7d-41de7a9333e5"
      },
      "execution_count": 37,
      "outputs": [
        {
          "output_type": "stream",
          "name": "stdout",
          "text": [
            "Epoch 1/100 | Train Loss: 0.6655, Train Acc: 0.5926, Val Loss: 0.6766, Val Acc: 0.5595\n",
            "Epoch 2/100 | Train Loss: 0.6474, Train Acc: 0.6282, Val Loss: 0.6661, Val Acc: 0.6100\n",
            "Epoch 3/100 | Train Loss: 0.6204, Train Acc: 0.6599, Val Loss: 0.6716, Val Acc: 0.6345\n",
            "Epoch 4/100 | Train Loss: 0.6253, Train Acc: 0.6576, Val Loss: 0.6390, Val Acc: 0.6505\n",
            "Epoch 5/100 | Train Loss: 0.5941, Train Acc: 0.6926, Val Loss: 0.6387, Val Acc: 0.6360\n",
            "Epoch 6/100 | Train Loss: 0.5632, Train Acc: 0.7190, Val Loss: 0.6332, Val Acc: 0.6595\n",
            "Epoch 7/100 | Train Loss: 0.5437, Train Acc: 0.7311, Val Loss: 0.6182, Val Acc: 0.6850\n",
            "Epoch 8/100 | Train Loss: 0.5222, Train Acc: 0.7514, Val Loss: 0.6228, Val Acc: 0.6820\n",
            "Epoch 9/100 | Train Loss: 0.5115, Train Acc: 0.7588, Val Loss: 0.6130, Val Acc: 0.6900\n",
            "Epoch 10/100 | Train Loss: 0.4953, Train Acc: 0.7682, Val Loss: 0.6314, Val Acc: 0.6835\n",
            "Epoch 11/100 | Train Loss: 0.4872, Train Acc: 0.7675, Val Loss: 0.6451, Val Acc: 0.6805\n",
            "Epoch 12/100 | Train Loss: 0.4770, Train Acc: 0.7760, Val Loss: 0.6329, Val Acc: 0.6895\n",
            "Epoch 13/100 | Train Loss: 0.4611, Train Acc: 0.7903, Val Loss: 0.6265, Val Acc: 0.6855\n",
            "Epoch 14/100 | Train Loss: 0.4501, Train Acc: 0.7945, Val Loss: 0.6510, Val Acc: 0.6865\n",
            "Epoch 15/100 | Train Loss: 0.4408, Train Acc: 0.7989, Val Loss: 0.6668, Val Acc: 0.6840\n",
            "Epoch 16/100 | Train Loss: 0.4237, Train Acc: 0.8127, Val Loss: 0.6793, Val Acc: 0.6845\n",
            "Early stopping 할게!\n"
          ]
        },
        {
          "output_type": "display_data",
          "data": {
            "text/plain": [
              "<Figure size 640x480 with 1 Axes>"
            ],
            "image/png": "[encoded data removed]"
          },
          "metadata": {}
        }
      ]
    },
    {
      "cell_type": "code",
      "source": [
        "test_dataset = TensorDataset(test_seq.to(torch.long), test_target.to(torch.float32))\n",
        "test_loader = DataLoader(test_dataset, batch_size=65)\n",
        "\n",
        "loss, accuracy = evaluate_model(ebd_lstm_model, test_loader, criterion)\n",
        "\n",
        "print(f'Test Loss: {loss:.4f}, Test Accuracy: {accuracy:.4f}')"
      ],
      "metadata": {
        "colab": {
          "base_uri": "https://localhost:8080/"
        },
        "id": "EBglyBZXY0a2",
        "outputId": "bb960c10-390d-4acf-b117-2646972f1857"
      },
      "execution_count": 38,
      "outputs": [
        {
          "output_type": "stream",
          "name": "stdout",
          "text": [
            "Test Loss: 0.6771, Test Accuracy: 0.6756\n"
          ]
        }
      ]
    },
    {
      "cell_type": "markdown",
      "source": [
        "##### Embedding + LSTM + LSTM + Dropout"
      ],
      "metadata": {
        "id": "Un2VOYQ0Zv0d"
      }
    },
    {
      "cell_type": "code",
      "source": [
        "import torch\n",
        "import torch.nn as nn\n",
        "\n",
        "class SentimentLSTM(nn.Module):\n",
        "  def __init__(self, vocab_size, embedding_dim, hidden_dim, output_dim, dropout_rate):\n",
        "    super(SentimentLSTM, self).__init__()\n",
        "    self.embedding = nn.Embedding(num_embeddings=vocab_size, embedding_dim=embedding_dim)\n",
        "    self.lstm1 = nn.LSTM(input_size=embedding_dim, hidden_size=hidden_dim, batch_first=True)\n",
        "    self.dropout1 = nn.Dropout(p=dropout_rate)\n",
        "    self.lstm2 = nn.LSTM(input_size=hidden_dim, hidden_size=hidden_dim, batch_first=True)\n",
        "    self.dropout2 = nn.Dropout(p=dropout_rate)\n",
        "    self.fc = nn.Linear(hidden_dim, output_dim)\n",
        "    self.sigmoid = nn.Sigmoid()\n",
        "\n",
        "  def forward(self, x):\n",
        "    x = self.embedding(x)\n",
        "    x, _ = self.lstm1(x)\n",
        "    x = self.dropout1(x)\n",
        "    _, (hidden, _) = self.lstm2(x)\n",
        "    x = self.dropout2(hidden[-1])\n",
        "    out = self.fc(x)\n",
        "    return self.sigmoid(out)"
      ],
      "metadata": {
        "id": "bvy5JyHEZv0f"
      },
      "execution_count": 39,
      "outputs": []
    },
    {
      "cell_type": "code",
      "source": [
        "HIDDEN_DIM = 8\n",
        "OUTPUT_DIM = 1\n",
        "EMBEDDING_DIM = 50\n",
        "DROPOUT_RATE = 0.3\n",
        "\n",
        "ebd_lstm_model = SentimentLSTM(vocab_size=VOCAB_SIZE, embedding_dim=EMBEDDING_DIM, hidden_dim=HIDDEN_DIM,\n",
        "                               output_dim=OUTPUT_DIM, dropout_rate=DROPOUT_RATE)\n",
        "\n",
        "print(ebd_lstm_model)"
      ],
      "metadata": {
        "colab": {
          "base_uri": "https://localhost:8080/"
        },
        "outputId": "1df2bdaa-efa1-4590-b234-09a802c36604",
        "id": "0dCc0zMyZv0f"
      },
      "execution_count": 40,
      "outputs": [
        {
          "output_type": "stream",
          "name": "stdout",
          "text": [
            "SentimentLSTM(\n",
            "  (embedding): Embedding(300, 50)\n",
            "  (lstm1): LSTM(50, 8, batch_first=True)\n",
            "  (dropout1): Dropout(p=0.3, inplace=False)\n",
            "  (lstm2): LSTM(8, 8, batch_first=True)\n",
            "  (dropout2): Dropout(p=0.3, inplace=False)\n",
            "  (fc): Linear(in_features=8, out_features=1, bias=True)\n",
            "  (sigmoid): Sigmoid()\n",
            ")\n"
          ]
        }
      ]
    },
    {
      "cell_type": "code",
      "source": [
        "total_params = 0\n",
        "print(f\"{'Layer':<20} {'Shape':<30} {'Params'}\")\n",
        "print(\"=\" * 60)\n",
        "\n",
        "for name, param in ebd_lstm_model.named_parameters():\n",
        "  if param.requires_grad:\n",
        "    param_count = param.numel()\n",
        "    total_params += param_count\n",
        "    print(f'{name:<20} {str(list(param.shape)):<30} {param_count}')\n",
        "\n",
        "print(\"=\" * 60)\n",
        "print(f'Total Trainable Parameters: {total_params}')"
      ],
      "metadata": {
        "colab": {
          "base_uri": "https://localhost:8080/"
        },
        "outputId": "8cbe8f09-9719-4b1c-e439-e66b62743f7f",
        "id": "wl6TvH6YZv0g"
      },
      "execution_count": 41,
      "outputs": [
        {
          "output_type": "stream",
          "name": "stdout",
          "text": [
            "Layer                Shape                          Params\n",
            "============================================================\n",
            "embedding.weight     [300, 50]                      15000\n",
            "lstm1.weight_ih_l0   [32, 50]                       1600\n",
            "lstm1.weight_hh_l0   [32, 8]                        256\n",
            "lstm1.bias_ih_l0     [32]                           32\n",
            "lstm1.bias_hh_l0     [32]                           32\n",
            "lstm2.weight_ih_l0   [32, 8]                        256\n",
            "lstm2.weight_hh_l0   [32, 8]                        256\n",
            "lstm2.bias_ih_l0     [32]                           32\n",
            "lstm2.bias_hh_l0     [32]                           32\n",
            "fc.weight            [1, 8]                         8\n",
            "fc.bias              [1]                            1\n",
            "============================================================\n",
            "Total Trainable Parameters: 17505\n"
          ]
        }
      ]
    },
    {
      "cell_type": "code",
      "source": [
        "import torch.optim as optim\n",
        "import pandas as pd\n",
        "from torch.utils.data import DataLoader, TensorDataset, random_split\n",
        "\n",
        "# 배치 사이즈 설정 + 학습/검증셋 크기 설정\n",
        "BATCH_SIZE = 65\n",
        "train_size = int(len(train_seq) * 0.8)\n",
        "val_size = len(train_seq) - train_size\n",
        "\n",
        "train_target = train_target.to(torch.float32)\n",
        "train_dataset, val_dataset = random_split(TensorDataset(train_seq.to(torch.long), train_target), [train_size, val_size])\n",
        "train_loader = DataLoader(train_dataset, batch_size=BATCH_SIZE, shuffle=True)\n",
        "val_loader = DataLoader(val_dataset, batch_size=BATCH_SIZE)\n",
        "\n",
        "# epoch, 손실함수, 최적화함수 정의\n",
        "epochs = 100\n",
        "criterion = nn.BCELoss()\n",
        "optimizer = optim.Adam(ebd_lstm_model.parameters(), lr=0.01)\n",
        "\n",
        "# 시각화를 위한 손실값/정확도 저장용\n",
        "train_losses, val_losses, train_accs, val_accs = [], [], [], []\n",
        "\n",
        "# 조기종료 관련 변수 초기화\n",
        "early_stopping_patience = 7\n",
        "best_val_loss = float('inf')\n",
        "early_stop_counter = 0\n",
        "\n",
        "# 학습 과정\n",
        "for epoch in range(epochs):\n",
        "  # train mode\n",
        "  ebd_lstm_model.train()\n",
        "  total_loss, correct, total = 0, 0, 0\n",
        "\n",
        "  for inputs, targets in train_loader:\n",
        "    optimizer.zero_grad()              # 가중치 초기화\n",
        "    outputs = ebd_lstm_model(inputs).squeeze()  # 순전파\n",
        "\n",
        "    loss = criterion(outputs, targets) # 손실 계산\n",
        "\n",
        "    loss.backward()                    # 역전파\n",
        "    optimizer.step()                   # 가중치 업데이트\n",
        "    total_loss += loss.item()\n",
        "\n",
        "    pred = (outputs > 0.5).float()\n",
        "    correct += (pred == targets).sum().item()\n",
        "    total += targets.size(0)\n",
        "\n",
        "  train_loss = total_loss / len(train_loader)\n",
        "  train_acc = correct / total\n",
        "  train_losses.append(train_loss)\n",
        "  train_accs.append(train_acc)\n",
        "\n",
        "  # validation mode\n",
        "  ebd_lstm_model.eval()\n",
        "  val_loss, val_correct, val_total = 0, 0, 0\n",
        "\n",
        "  with torch.no_grad():\n",
        "    for val_inputs, val_targets in val_loader:\n",
        "      val_outputs = ebd_lstm_model(val_inputs).squeeze()\n",
        "      loss = criterion(val_outputs, val_targets)\n",
        "      val_loss += loss.item()\n",
        "\n",
        "      val_pred = (val_outputs > 0.5).float()\n",
        "      val_correct += (val_pred == val_targets).sum().item()\n",
        "      val_total += val_targets.size(0)\n",
        "\n",
        "  val_loss = val_loss / len(val_loader)\n",
        "  val_acc = val_correct / val_total\n",
        "  val_losses.append(val_loss)\n",
        "  val_accs.append(val_acc)\n",
        "\n",
        "  print(f'Epoch {epoch+1}/{epochs} | Train Loss: {train_loss:.4f}, Train Acc: {train_acc:.4f}, Val Loss: {val_loss:.4f}, Val Acc: {val_acc:.4f}')\n",
        "\n",
        "  # 조기종료 처리\n",
        "  if val_loss < best_val_loss:\n",
        "    best_val_loss = val_loss\n",
        "    early_stop_counter = 0\n",
        "  else:\n",
        "    early_stop_counter += 1\n",
        "    if early_stop_counter >= early_stopping_patience:\n",
        "      print(\"Early stopping 할게!\")\n",
        "      break\n",
        "\n",
        "# 시각화\n",
        "train_history_df = pd.DataFrame({\n",
        "    \"train_loss\": train_losses,\n",
        "    \"val_loss\": val_losses,\n",
        "    \"train_acc\": train_accs,\n",
        "    \"val_acc\": val_accs\n",
        "})\n",
        "train_history_df.plot()\n",
        "plt.show()"
      ],
      "metadata": {
        "colab": {
          "base_uri": "https://localhost:8080/",
          "height": 962
        },
        "outputId": "956de1c0-3688-4ef9-c751-2b891d06583c",
        "id": "z38SpbdoZv0h"
      },
      "execution_count": 42,
      "outputs": [
        {
          "output_type": "stream",
          "name": "stdout",
          "text": [
            "Epoch 1/100 | Train Loss: 0.6924, Train Acc: 0.5246, Val Loss: 0.6867, Val Acc: 0.5495\n",
            "Epoch 2/100 | Train Loss: 0.6731, Train Acc: 0.5938, Val Loss: 0.6677, Val Acc: 0.6080\n",
            "Epoch 3/100 | Train Loss: 0.6515, Train Acc: 0.6410, Val Loss: 0.6426, Val Acc: 0.6400\n",
            "Epoch 4/100 | Train Loss: 0.6299, Train Acc: 0.6600, Val Loss: 0.6465, Val Acc: 0.6505\n",
            "Epoch 5/100 | Train Loss: 0.6116, Train Acc: 0.6903, Val Loss: 0.6187, Val Acc: 0.6690\n",
            "Epoch 6/100 | Train Loss: 0.5957, Train Acc: 0.6946, Val Loss: 0.6097, Val Acc: 0.6930\n",
            "Epoch 7/100 | Train Loss: 0.5670, Train Acc: 0.7188, Val Loss: 0.5868, Val Acc: 0.7005\n",
            "Epoch 8/100 | Train Loss: 0.5588, Train Acc: 0.7309, Val Loss: 0.5893, Val Acc: 0.6980\n",
            "Epoch 9/100 | Train Loss: 0.5451, Train Acc: 0.7360, Val Loss: 0.5983, Val Acc: 0.7020\n",
            "Epoch 10/100 | Train Loss: 0.5403, Train Acc: 0.7455, Val Loss: 0.5919, Val Acc: 0.7085\n",
            "Epoch 11/100 | Train Loss: 0.5248, Train Acc: 0.7491, Val Loss: 0.5933, Val Acc: 0.6960\n",
            "Epoch 12/100 | Train Loss: 0.5202, Train Acc: 0.7561, Val Loss: 0.5759, Val Acc: 0.7160\n",
            "Epoch 13/100 | Train Loss: 0.5105, Train Acc: 0.7612, Val Loss: 0.5890, Val Acc: 0.7100\n",
            "Epoch 14/100 | Train Loss: 0.5042, Train Acc: 0.7675, Val Loss: 0.5823, Val Acc: 0.7120\n",
            "Epoch 15/100 | Train Loss: 0.5003, Train Acc: 0.7635, Val Loss: 0.5959, Val Acc: 0.7070\n",
            "Epoch 16/100 | Train Loss: 0.5004, Train Acc: 0.7710, Val Loss: 0.5753, Val Acc: 0.7185\n",
            "Epoch 17/100 | Train Loss: 0.4901, Train Acc: 0.7746, Val Loss: 0.5591, Val Acc: 0.7220\n",
            "Epoch 18/100 | Train Loss: 0.4780, Train Acc: 0.7821, Val Loss: 0.5821, Val Acc: 0.7035\n",
            "Epoch 19/100 | Train Loss: 0.4688, Train Acc: 0.7885, Val Loss: 0.5675, Val Acc: 0.7065\n",
            "Epoch 20/100 | Train Loss: 0.4630, Train Acc: 0.7881, Val Loss: 0.5565, Val Acc: 0.7135\n",
            "Epoch 21/100 | Train Loss: 0.4563, Train Acc: 0.7989, Val Loss: 0.5563, Val Acc: 0.7190\n",
            "Epoch 22/100 | Train Loss: 0.4452, Train Acc: 0.8024, Val Loss: 0.5834, Val Acc: 0.7205\n",
            "Epoch 23/100 | Train Loss: 0.4478, Train Acc: 0.8009, Val Loss: 0.5609, Val Acc: 0.7245\n",
            "Epoch 24/100 | Train Loss: 0.4395, Train Acc: 0.8040, Val Loss: 0.5675, Val Acc: 0.7090\n",
            "Epoch 25/100 | Train Loss: 0.4387, Train Acc: 0.8015, Val Loss: 0.5809, Val Acc: 0.7205\n",
            "Epoch 26/100 | Train Loss: 0.4489, Train Acc: 0.7974, Val Loss: 0.5669, Val Acc: 0.7170\n",
            "Epoch 27/100 | Train Loss: 0.4442, Train Acc: 0.8019, Val Loss: 0.5919, Val Acc: 0.7130\n",
            "Epoch 28/100 | Train Loss: 0.4318, Train Acc: 0.8064, Val Loss: 0.5973, Val Acc: 0.7310\n",
            "Early stopping 할게!\n"
          ]
        },
        {
          "output_type": "display_data",
          "data": {
            "text/plain": [
              "<Figure size 640x480 with 1 Axes>"
            ],
            "image/png": "[encoded data removed]"
          },
          "metadata": {}
        }
      ]
    },
    {
      "cell_type": "code",
      "source": [
        "test_dataset = TensorDataset(test_seq.to(torch.long), test_target.to(torch.float32))\n",
        "test_loader = DataLoader(test_dataset, batch_size=65)\n",
        "\n",
        "loss, accuracy = evaluate_model(ebd_lstm_model, test_loader, criterion)\n",
        "\n",
        "print(f'Test Loss: {loss:.4f}, Test Accuracy: {accuracy:.4f}')"
      ],
      "metadata": {
        "colab": {
          "base_uri": "https://localhost:8080/"
        },
        "outputId": "5904169c-4749-4f97-f95a-3daf8dcb115c",
        "id": "K0BnFSkVZv0h"
      },
      "execution_count": 43,
      "outputs": [
        {
          "output_type": "stream",
          "name": "stdout",
          "text": [
            "Test Loss: 0.6226, Test Accuracy: 0.7116\n"
          ]
        }
      ]
    }
  ]
}