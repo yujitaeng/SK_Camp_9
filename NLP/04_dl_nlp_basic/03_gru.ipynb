{
  "nbformat": 4,
  "nbformat_minor": 0,
  "metadata": {
    "colab": {
      "provenance": []
    },
    "kernelspec": {
      "name": "python3",
      "display_name": "Python 3"
    },
    "language_info": {
      "name": "python"
    }
  },
  "cells": [
    {
      "cell_type": "markdown",
      "source": [
        "# GRU"
      ],
      "metadata": {
        "id": "VEk1bqeDhZDa"
      }
    },
    {
      "cell_type": "code",
      "execution_count": 1,
      "metadata": {
        "id": "eVpTteX5hMnX"
      },
      "outputs": [],
      "source": [
        "VOCAB_SIZE = 300    # 사용할 단어 수\n",
        "SEQ_LEN = 100       # 시퀀스 하나의 최대 길이"
      ]
    },
    {
      "cell_type": "markdown",
      "source": [
        "### 데이터 준비"
      ],
      "metadata": {
        "id": "OD7_inwuQqic"
      }
    },
    {
      "cell_type": "code",
      "execution_count": 2,
      "metadata": {
        "colab": {
          "base_uri": "https://localhost:8080/"
        },
        "id": "vnMNsnuIF6hj",
        "outputId": "711ad44d-e2f3-49b9-a253-714aba0e6107"
      },
      "outputs": [
        {
          "output_type": "stream",
          "name": "stdout",
          "text": [
            "Downloading data from https://storage.googleapis.com/tensorflow/tf-keras-datasets/imdb.npz\n",
            "\u001b[1m17464789/17464789\u001b[0m \u001b[32m━━━━━━━━━━━━━━━━━━━━\u001b[0m\u001b[37m\u001b[0m \u001b[1m0s\u001b[0m 0us/step\n"
          ]
        }
      ],
      "source": [
        "# 데이터 로드\n",
        "from tensorflow.keras.datasets import imdb\n",
        "\n",
        "(train_input, train_target), (test_input, test_target) = imdb.load_data(num_words=VOCAB_SIZE)"
      ]
    },
    {
      "cell_type": "code",
      "source": [
        "# PyTorch Tensor로 변환\n",
        "import torch\n",
        "\n",
        "train_input = [torch.tensor(seq, dtype=torch.long) for seq in train_input]\n",
        "test_input = [torch.tensor(seq, dtype=torch.long) for seq in test_input]\n",
        "\n",
        "train_target = torch.tensor(train_target, dtype=torch.long)\n",
        "test_target = torch.tensor(test_target, dtype=torch.long)\n",
        "\n",
        "print(len(train_input), len(test_input))\n",
        "print(train_target.shape, test_target.shape)"
      ],
      "metadata": {
        "colab": {
          "base_uri": "https://localhost:8080/"
        },
        "id": "U5FkM8kiH50k",
        "outputId": "2d031aec-44da-4016-f40c-ed9e63643fc9"
      },
      "execution_count": 3,
      "outputs": [
        {
          "output_type": "stream",
          "name": "stdout",
          "text": [
            "25000 25000\n",
            "torch.Size([25000]) torch.Size([25000])\n"
          ]
        }
      ]
    },
    {
      "cell_type": "code",
      "source": [
        "train_input, test_input = train_input[:10000], test_input[:5000]\n",
        "train_target, test_target = train_target[:10000], test_target[:5000]"
      ],
      "metadata": {
        "id": "yguCeMyqJQ53"
      },
      "execution_count": 4,
      "outputs": []
    },
    {
      "cell_type": "code",
      "source": [
        "train_input[0]"
      ],
      "metadata": {
        "colab": {
          "base_uri": "https://localhost:8080/"
        },
        "id": "0oe1uxoXMve7",
        "outputId": "07987f1b-ed3d-4f6f-a73f-b932e06f104c"
      },
      "execution_count": 5,
      "outputs": [
        {
          "output_type": "execute_result",
          "data": {
            "text/plain": [
              "tensor([  1,  14,  22,  16,  43,   2,   2,   2,   2,  65,   2,   2,  66,   2,\n",
              "          4, 173,  36, 256,   5,  25, 100,  43,   2, 112,  50,   2,   2,   9,\n",
              "         35,   2, 284,   5, 150,   4, 172, 112, 167,   2,   2,   2,  39,   4,\n",
              "        172,   2,   2,  17,   2,  38,  13,   2,   4, 192,  50,  16,   6, 147,\n",
              "          2,  19,  14,  22,   4,   2,   2,   2,   4,  22,  71,  87,  12,  16,\n",
              "         43,   2,  38,  76,  15,  13,   2,   4,  22,  17,   2,  17,  12,  16,\n",
              "          2,  18,   2,   5,  62,   2,  12,   8,   2,   8, 106,   5,   4,   2,\n",
              "          2,  16,   2,  66,   2,  33,   4, 130,  12,  16,  38,   2,   5,  25,\n",
              "        124,  51,  36, 135,  48,  25,   2,  33,   6,  22,  12, 215,  28,  77,\n",
              "         52,   5,  14,   2,  16,  82,   2,   8,   4, 107, 117,   2,  15, 256,\n",
              "          4,   2,   7,   2,   5,   2,  36,  71,  43,   2,   2,  26,   2,   2,\n",
              "         46,   7,   4,   2,   2,  13, 104,  88,   4,   2,  15, 297,  98,  32,\n",
              "          2,  56,  26, 141,   6, 194,   2,  18,   4, 226,  22,  21, 134,   2,\n",
              "         26,   2,   5, 144,  30,   2,  18,  51,  36,  28, 224,  92,  25, 104,\n",
              "          4, 226,  65,  16,  38,   2,  88,  12,  16, 283,   5,  16,   2, 113,\n",
              "        103,  32,  15,  16,   2,  19, 178,  32])"
            ]
          },
          "metadata": {},
          "execution_count": 5
        }
      ]
    },
    {
      "cell_type": "code",
      "source": [
        "# 입력 데이터 길이 체크\n",
        "import matplotlib.pyplot as plt\n",
        "import numpy as np\n",
        "\n",
        "train_len = [len(seq) for seq in train_input]\n",
        "\n",
        "plt.hist(train_len, bins=50)\n",
        "plt.xlabel('seq_len')\n",
        "plt.ylabel('freq')\n",
        "plt.show()"
      ],
      "metadata": {
        "colab": {
          "base_uri": "https://localhost:8080/",
          "height": 450
        },
        "id": "UFp6DliKJoFx",
        "outputId": "1ee18cc7-09cb-4596-a540-391716632dc4"
      },
      "execution_count": 6,
      "outputs": [
        {
          "output_type": "display_data",
          "data": {
            "text/plain": [
              "<Figure size 640x480 with 1 Axes>"
            ],
            "image/png": "[encoded data removed]"
          },
          "metadata": {}
        }
      ]
    },
    {
      "cell_type": "code",
      "source": [
        "# padding 처리\n",
        "import torch.nn.functional as F\n",
        "\n",
        "def pad_sequences(sequences, maxlen, padding_value=0):\n",
        "  padded_sequences = [F.pad(seq[:maxlen], (0, max(0, maxlen-len(seq))), value=padding_value) for seq in sequences]\n",
        "  return torch.stack(padded_sequences)\n",
        "\n",
        "train_seq = pad_sequences(train_input, maxlen=SEQ_LEN)\n",
        "test_seq = pad_sequences(test_input, maxlen=SEQ_LEN)\n",
        "\n",
        "train_seq.shape, test_seq.shape"
      ],
      "metadata": {
        "colab": {
          "base_uri": "https://localhost:8080/"
        },
        "id": "W4EBgD0YKJl5",
        "outputId": "f35e6e30-2cb4-4a31-bf2b-7cf6872744e1"
      },
      "execution_count": 7,
      "outputs": [
        {
          "output_type": "execute_result",
          "data": {
            "text/plain": [
              "(torch.Size([10000, 100]), torch.Size([5000, 100]))"
            ]
          },
          "metadata": {},
          "execution_count": 7
        }
      ]
    },
    {
      "cell_type": "code",
      "source": [
        "# one-hot encoding\n",
        "train_onehot = F.one_hot(train_seq, num_classes=VOCAB_SIZE).float()\n",
        "test_onehot = F.one_hot(test_seq, num_classes=VOCAB_SIZE).float()\n",
        "\n",
        "train_onehot.shape, test_onehot.shape"
      ],
      "metadata": {
        "colab": {
          "base_uri": "https://localhost:8080/"
        },
        "id": "-IjPZBsxMTk5",
        "outputId": "950563d9-33ff-4d4d-80eb-4c6dcf5971d0"
      },
      "execution_count": 8,
      "outputs": [
        {
          "output_type": "execute_result",
          "data": {
            "text/plain": [
              "(torch.Size([10000, 100, 300]), torch.Size([5000, 100, 300]))"
            ]
          },
          "metadata": {},
          "execution_count": 8
        }
      ]
    },
    {
      "cell_type": "markdown",
      "source": [
        "### 모델 준비 및 학습"
      ],
      "metadata": {
        "id": "xun11JFHhth2"
      }
    },
    {
      "cell_type": "code",
      "source": [
        "import torch\n",
        "import torch.nn as nn\n",
        "\n",
        "class GRUModel(nn.Module):\n",
        "  def __init__(self, input_dim, hidden_units, output_dim, return_sequences=False, return_state=False):\n",
        "    super(GRUModel, self).__init__()\n",
        "    self.return_sequences = return_sequences\n",
        "    self.return_state = return_state\n",
        "    self.gru = nn.GRU(input_size=input_dim, hidden_size=hidden_units, batch_first=True)\n",
        "    self.fc = nn.Linear(hidden_units, output_dim)\n",
        "    self.sigmoid = nn.Sigmoid()\n",
        "\n",
        "  def forward(self, x):\n",
        "    output, hidden = self.gru(x)\n",
        "    result_output = self.fc(hidden[-1])\n",
        "\n",
        "    if self.return_sequences and self.return_state:\n",
        "      return output, hidden[-1]\n",
        "    elif self.return_sequences:\n",
        "      return output\n",
        "    elif self.return_state:\n",
        "      return output[:, -1, :], hidden[-1]\n",
        "\n",
        "    return self.sigmoid(result_output)"
      ],
      "metadata": {
        "id": "GEYM1aP8hvgN"
      },
      "execution_count": 15,
      "outputs": []
    },
    {
      "cell_type": "code",
      "source": [
        "HIDDEN_DIM = 8\n",
        "OUTPUT_DIM = 1\n",
        "\n",
        "gru_model = GRUModel(input_dim=VOCAB_SIZE, hidden_units=HIDDEN_DIM, output_dim=OUTPUT_DIM)"
      ],
      "metadata": {
        "id": "FHbi6vlHkLVD"
      },
      "execution_count": 16,
      "outputs": []
    },
    {
      "cell_type": "code",
      "source": [
        "import torch.optim as optim\n",
        "import pandas as pd\n",
        "from torch.utils.data import DataLoader, TensorDataset, random_split\n",
        "\n",
        "# 배치 사이즈 설정 + 학습/검증셋 크기 설정\n",
        "BATCH_SIZE = 65\n",
        "train_size = int(len(train_onehot) * 0.8)\n",
        "val_size = len(train_onehot) - train_size\n",
        "\n",
        "# label 데이터 실수 처리\n",
        "train_target = train_target.float()\n",
        "test_target = test_target.float()\n",
        "\n",
        "# 학습/검증셋 분할 + 미니배치로 사용하도록 DataLoader 생성\n",
        "train_dataset, val_dataset = random_split(TensorDataset(train_onehot, train_target), [train_size, val_size])\n",
        "train_loader = DataLoader(train_dataset, batch_size=BATCH_SIZE, shuffle=True)\n",
        "val_loader = DataLoader(val_dataset, batch_size=BATCH_SIZE)\n",
        "\n",
        "# epoch, 손실함수, 최적화함수 정의\n",
        "epochs = 100\n",
        "criterion = nn.BCELoss()\n",
        "optimizer = optim.Adam(gru_model.parameters(), lr=0.005)\n",
        "\n",
        "# 시각화를 위한 손실값/정확도 저장용\n",
        "train_losses, val_losses, train_accs, val_accs = [], [], [], []\n",
        "\n",
        "# 조기종료 관련 변수 초기화\n",
        "early_stopping_patience = 7\n",
        "best_val_loss = float('inf')\n",
        "early_stop_counter = 0\n",
        "\n",
        "# 학습 과정\n",
        "for epoch in range(epochs):\n",
        "  # train mode\n",
        "  gru_model.train()\n",
        "  total_loss, correct, total = 0, 0, 0\n",
        "\n",
        "  for inputs, targets in train_loader:\n",
        "    optimizer.zero_grad()              # 가중치 초기화\n",
        "    outputs = gru_model(inputs).squeeze()  # 순전파\n",
        "\n",
        "    loss = criterion(outputs, targets) # 손실 계산\n",
        "\n",
        "    loss.backward()                    # 역전파\n",
        "    optimizer.step()                   # 가중치 업데이트\n",
        "    total_loss += loss.item()\n",
        "\n",
        "    pred = (outputs > 0.5).float()\n",
        "    correct += (pred == targets).sum().item()\n",
        "    total += targets.size(0)\n",
        "\n",
        "  train_loss = total_loss / len(train_loader)\n",
        "  train_acc = correct / total\n",
        "  train_losses.append(train_loss)\n",
        "  train_accs.append(train_acc)\n",
        "\n",
        "  # validation mode\n",
        "  gru_model.eval()\n",
        "  val_loss, val_correct, val_total = 0, 0, 0\n",
        "\n",
        "  with torch.no_grad():\n",
        "    for val_inputs, val_targets in val_loader:\n",
        "      val_outputs = gru_model(val_inputs).squeeze()\n",
        "      loss = criterion(val_outputs, val_targets)\n",
        "      val_loss += loss.item()\n",
        "\n",
        "      val_pred = (val_outputs > 0.5).float()\n",
        "      val_correct += (val_pred == val_targets).sum().item()\n",
        "      val_total += val_targets.size(0)\n",
        "\n",
        "  val_loss = val_loss / len(val_loader)\n",
        "  val_acc = val_correct / val_total\n",
        "  val_losses.append(val_loss)\n",
        "  val_accs.append(val_acc)\n",
        "\n",
        "  print(f'Epoch {epoch+1}/{epochs} | Train Loss: {train_loss:.4f}, Train Acc: {train_acc:.4f}, Val Loss: {val_loss:.4f}, Val Acc: {val_acc:.4f}')\n",
        "\n",
        "  # 조기종료 처리\n",
        "  if val_loss < best_val_loss:\n",
        "    best_val_loss = val_loss\n",
        "    early_stop_counter = 0\n",
        "  else:\n",
        "    early_stop_counter += 1\n",
        "    if early_stop_counter >= early_stopping_patience:\n",
        "      print(\"Early stopping 할게!\")\n",
        "      break\n",
        "\n",
        "# 시각화\n",
        "train_history_df = pd.DataFrame({\n",
        "    \"train_loss\": train_losses,\n",
        "    \"val_loss\": val_losses,\n",
        "    \"train_acc\": train_accs,\n",
        "    \"val_acc\": val_accs\n",
        "})\n",
        "train_history_df.plot()\n",
        "plt.show()"
      ],
      "metadata": {
        "colab": {
          "base_uri": "https://localhost:8080/",
          "height": 787
        },
        "id": "Acho0rNCjYEo",
        "outputId": "7ab97af8-134f-4e27-cb21-22551d7b7eb6"
      },
      "execution_count": 17,
      "outputs": [
        {
          "output_type": "stream",
          "name": "stdout",
          "text": [
            "Epoch 1/100 | Train Loss: 0.6937, Train Acc: 0.5202, Val Loss: 0.6906, Val Acc: 0.5270\n",
            "Epoch 2/100 | Train Loss: 0.6844, Train Acc: 0.5619, Val Loss: 0.6869, Val Acc: 0.5480\n",
            "Epoch 3/100 | Train Loss: 0.6595, Train Acc: 0.6056, Val Loss: 0.6429, Val Acc: 0.6570\n",
            "Epoch 4/100 | Train Loss: 0.6557, Train Acc: 0.6179, Val Loss: 0.6480, Val Acc: 0.6460\n",
            "Epoch 5/100 | Train Loss: 0.6075, Train Acc: 0.6799, Val Loss: 0.6286, Val Acc: 0.6625\n",
            "Epoch 6/100 | Train Loss: 0.5852, Train Acc: 0.6995, Val Loss: 0.6125, Val Acc: 0.6690\n",
            "Epoch 7/100 | Train Loss: 0.5630, Train Acc: 0.7184, Val Loss: 0.5989, Val Acc: 0.6815\n",
            "Epoch 8/100 | Train Loss: 0.5397, Train Acc: 0.7315, Val Loss: 0.5777, Val Acc: 0.7080\n",
            "Epoch 9/100 | Train Loss: 0.5230, Train Acc: 0.7420, Val Loss: 0.5639, Val Acc: 0.7115\n",
            "Epoch 10/100 | Train Loss: 0.5110, Train Acc: 0.7481, Val Loss: 0.5583, Val Acc: 0.7235\n",
            "Epoch 11/100 | Train Loss: 0.4935, Train Acc: 0.7612, Val Loss: 0.5634, Val Acc: 0.7165\n",
            "Epoch 12/100 | Train Loss: 0.4870, Train Acc: 0.7674, Val Loss: 0.5531, Val Acc: 0.7190\n",
            "Epoch 13/100 | Train Loss: 0.4785, Train Acc: 0.7734, Val Loss: 0.5555, Val Acc: 0.7225\n",
            "Epoch 14/100 | Train Loss: 0.4715, Train Acc: 0.7719, Val Loss: 0.5560, Val Acc: 0.7235\n",
            "Epoch 15/100 | Train Loss: 0.4626, Train Acc: 0.7843, Val Loss: 0.5589, Val Acc: 0.7220\n",
            "Epoch 16/100 | Train Loss: 0.4576, Train Acc: 0.7879, Val Loss: 0.5635, Val Acc: 0.7305\n",
            "Epoch 17/100 | Train Loss: 0.4464, Train Acc: 0.7901, Val Loss: 0.5791, Val Acc: 0.7270\n",
            "Epoch 18/100 | Train Loss: 0.4388, Train Acc: 0.7965, Val Loss: 0.5706, Val Acc: 0.7240\n",
            "Epoch 19/100 | Train Loss: 0.4280, Train Acc: 0.8017, Val Loss: 0.5858, Val Acc: 0.7240\n",
            "Early stopping 할게!\n"
          ]
        },
        {
          "output_type": "display_data",
          "data": {
            "text/plain": [
              "<Figure size 640x480 with 1 Axes>"
            ],
            "image/png": "[encoded data removed]"
          },
          "metadata": {}
        }
      ]
    }
  ]
}