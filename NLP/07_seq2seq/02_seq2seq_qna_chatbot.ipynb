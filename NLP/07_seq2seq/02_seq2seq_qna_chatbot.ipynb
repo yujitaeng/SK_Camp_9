{
 "cells": [
  {
   "cell_type": "markdown",
   "metadata": {},
   "source": [
    "# Seq2Seq Q&A Chatbot 구현 실습"
   ]
  },
  {
   "cell_type": "markdown",
   "metadata": {},
   "source": [
    "### 데이터 취득"
   ]
  },
  {
   "cell_type": "code",
   "execution_count": 2,
   "metadata": {},
   "outputs": [],
   "source": [
    "import pandas as pd\n",
    "import numpy as np\n",
    "import matplotlib.pyplot as plt"
   ]
  },
  {
   "cell_type": "code",
   "execution_count": 3,
   "metadata": {},
   "outputs": [
    {
     "data": {
      "text/html": [
       "<div>\n",
       "<style scoped>\n",
       "    .dataframe tbody tr th:only-of-type {\n",
       "        vertical-align: middle;\n",
       "    }\n",
       "\n",
       "    .dataframe tbody tr th {\n",
       "        vertical-align: top;\n",
       "    }\n",
       "\n",
       "    .dataframe thead th {\n",
       "        text-align: right;\n",
       "    }\n",
       "</style>\n",
       "<table border=\"1\" class=\"dataframe\">\n",
       "  <thead>\n",
       "    <tr style=\"text-align: right;\">\n",
       "      <th></th>\n",
       "      <th>Q</th>\n",
       "      <th>A</th>\n",
       "    </tr>\n",
       "  </thead>\n",
       "  <tbody>\n",
       "    <tr>\n",
       "      <th>0</th>\n",
       "      <td>12시 땡!</td>\n",
       "      <td>하루가 또 가네요.</td>\n",
       "    </tr>\n",
       "    <tr>\n",
       "      <th>1</th>\n",
       "      <td>1지망 학교 떨어졌어</td>\n",
       "      <td>위로해 드립니다.</td>\n",
       "    </tr>\n",
       "    <tr>\n",
       "      <th>2</th>\n",
       "      <td>3박4일 놀러가고 싶다</td>\n",
       "      <td>여행은 언제나 좋죠.</td>\n",
       "    </tr>\n",
       "    <tr>\n",
       "      <th>3</th>\n",
       "      <td>3박4일 정도 놀러가고 싶다</td>\n",
       "      <td>여행은 언제나 좋죠.</td>\n",
       "    </tr>\n",
       "    <tr>\n",
       "      <th>4</th>\n",
       "      <td>PPL 심하네</td>\n",
       "      <td>눈살이 찌푸려지죠.</td>\n",
       "    </tr>\n",
       "    <tr>\n",
       "      <th>...</th>\n",
       "      <td>...</td>\n",
       "      <td>...</td>\n",
       "    </tr>\n",
       "    <tr>\n",
       "      <th>11818</th>\n",
       "      <td>훔쳐보는 것도 눈치 보임.</td>\n",
       "      <td>티가 나니까 눈치가 보이는 거죠!</td>\n",
       "    </tr>\n",
       "    <tr>\n",
       "      <th>11819</th>\n",
       "      <td>훔쳐보는 것도 눈치 보임.</td>\n",
       "      <td>훔쳐보는 거 티나나봐요.</td>\n",
       "    </tr>\n",
       "    <tr>\n",
       "      <th>11820</th>\n",
       "      <td>흑기사 해주는 짝남.</td>\n",
       "      <td>설렜겠어요.</td>\n",
       "    </tr>\n",
       "    <tr>\n",
       "      <th>11821</th>\n",
       "      <td>힘든 연애 좋은 연애라는게 무슨 차이일까?</td>\n",
       "      <td>잘 헤어질 수 있는 사이 여부인 거 같아요.</td>\n",
       "    </tr>\n",
       "    <tr>\n",
       "      <th>11822</th>\n",
       "      <td>힘들어서 결혼할까봐</td>\n",
       "      <td>도피성 결혼은 하지 않길 바라요.</td>\n",
       "    </tr>\n",
       "  </tbody>\n",
       "</table>\n",
       "<p>11823 rows × 2 columns</p>\n",
       "</div>"
      ],
      "text/plain": [
       "                             Q                         A\n",
       "0                       12시 땡!                하루가 또 가네요.\n",
       "1                  1지망 학교 떨어졌어                 위로해 드립니다.\n",
       "2                 3박4일 놀러가고 싶다               여행은 언제나 좋죠.\n",
       "3              3박4일 정도 놀러가고 싶다               여행은 언제나 좋죠.\n",
       "4                      PPL 심하네                눈살이 찌푸려지죠.\n",
       "...                        ...                       ...\n",
       "11818           훔쳐보는 것도 눈치 보임.        티가 나니까 눈치가 보이는 거죠!\n",
       "11819           훔쳐보는 것도 눈치 보임.             훔쳐보는 거 티나나봐요.\n",
       "11820              흑기사 해주는 짝남.                    설렜겠어요.\n",
       "11821  힘든 연애 좋은 연애라는게 무슨 차이일까?  잘 헤어질 수 있는 사이 여부인 거 같아요.\n",
       "11822               힘들어서 결혼할까봐        도피성 결혼은 하지 않길 바라요.\n",
       "\n",
       "[11823 rows x 2 columns]"
      ]
     },
     "execution_count": 3,
     "metadata": {},
     "output_type": "execute_result"
    }
   ],
   "source": [
    "df = pd.read_csv('https://raw.githubusercontent.com/songys/Chatbot_data/refs/heads/master/ChatbotData.csv')\n",
    "df = df[['Q', 'A']]\n",
    "df"
   ]
  },
  {
   "cell_type": "markdown",
   "metadata": {},
   "source": [
    "### 데이터 전처리"
   ]
  },
  {
   "cell_type": "code",
   "execution_count": 4,
   "metadata": {},
   "outputs": [],
   "source": [
    "all_texts = []\n",
    "Q_texts = []\n",
    "A_texts = []\n",
    "\n",
    "for Q, A in df.values:\n",
    "    Q_texts.append(Q)\n",
    "    A_texts.append(A)\n",
    "\n",
    "all_texts = Q_texts + A_texts"
   ]
  },
  {
   "cell_type": "code",
   "execution_count": 6,
   "metadata": {},
   "outputs": [],
   "source": [
    "# 학습용 텍스트 파일 생성 (Q + A)\n",
    "with open('chatbot_qna.txt', 'w', encoding='utf-8') as f:\n",
    "    for text in all_texts:\n",
    "        f.write(text + '\\n')"
   ]
  },
  {
   "cell_type": "markdown",
   "metadata": {},
   "source": [
    "##### 토커나이저 학습 (sentencepiece 활용)\n",
    "- 접두사, 접미사 처리"
   ]
  },
  {
   "cell_type": "code",
   "execution_count": 7,
   "metadata": {},
   "outputs": [],
   "source": [
    "import sentencepiece as spm\n",
    "\n",
    "input_text = 'chatbot_qna.txt'\n",
    "pad_id = 0\n",
    "vocab_size = 5000\n",
    "prefix = 'chatbot_qna'\n",
    "bos_id = 1    # <sos>\n",
    "eos_id = 2\n",
    "unk_id = 3    # <oov>\n",
    "\n",
    "cmd = f'--input={input_text} \\\n",
    "--pad_id={pad_id} --bos_id={bos_id} --eos_id={eos_id} --unk_id={unk_id} \\\n",
    "--model_prefix={prefix} --vocab_size={vocab_size}'\n",
    "\n",
    "spm.SentencePieceTrainer.Train(cmd)"
   ]
  },
  {
   "cell_type": "code",
   "execution_count": 8,
   "metadata": {},
   "outputs": [
    {
     "data": {
      "text/plain": [
       "True"
      ]
     },
     "execution_count": 8,
     "metadata": {},
     "output_type": "execute_result"
    }
   ],
   "source": [
    "sp = spm.SentencePieceProcessor()\n",
    "sp.load(f'{prefix}.model')"
   ]
  },
  {
   "cell_type": "code",
   "execution_count": 12,
   "metadata": {},
   "outputs": [
    {
     "name": "stdout",
     "output_type": "stream",
     "text": [
      "5000\n",
      "['▁오늘', '은', '▁즐거', '운', '▁수', '요', '일', '!']\n",
      "[78, 15, 850, 170, 20, 6, 76, 72]\n",
      "오늘은 즐거운 수요일!\n",
      "오늘은 즐거운 수요일!\n"
     ]
    }
   ],
   "source": [
    "vocab_size = sp.get_piece_size()\n",
    "print(vocab_size)\n",
    "\n",
    "tokens = sp.encode_as_pieces('오늘은 즐거운 수요일!')\n",
    "print(tokens)\n",
    "\n",
    "seq = sp.encode_as_ids('오늘은 즐거운 수요일!')\n",
    "print(seq)\n",
    "\n",
    "text = sp.decode_pieces(tokens)\n",
    "print(text)\n",
    "\n",
    "text = sp.decode_ids(seq)\n",
    "print(text)"
   ]
  },
  {
   "cell_type": "code",
   "execution_count": 13,
   "metadata": {},
   "outputs": [
    {
     "name": "stdout",
     "output_type": "stream",
     "text": [
      "['<s>', '▁오늘', '은', '▁즐거', '운', '▁수', '요', '일', '!']\n",
      "[1, 78, 15, 850, 170, 20, 6, 76, 72]\n",
      "오늘은 즐거운 수요일!\n",
      "오늘은 즐거운 수요일!\n"
     ]
    }
   ],
   "source": [
    "# 접두사 bos\n",
    "sp.set_encode_extra_options(\"bos:\")\n",
    "\n",
    "tokens = sp.encode_as_pieces('오늘은 즐거운 수요일!')\n",
    "print(tokens)\n",
    "seq = sp.encode_as_ids('오늘은 즐거운 수요일!')\n",
    "print(seq)\n",
    "text = sp.decode_pieces(tokens)\n",
    "print(text)\n",
    "text = sp.decode_ids(seq)\n",
    "print(text)"
   ]
  },
  {
   "cell_type": "code",
   "execution_count": null,
   "metadata": {},
   "outputs": [
    {
     "name": "stdout",
     "output_type": "stream",
     "text": [
      "['<s>', '▁오늘', '은', '▁즐거', '운', '▁수', '요', '일', '!', '</s>']\n",
      "[1, 78, 15, 850, 170, 20, 6, 76, 72, 2]\n",
      "오늘은 즐거운 수요일!\n",
      "오늘은 즐거운 수요일!\n"
     ]
    }
   ],
   "source": [
    "# 접미사 eos\n",
    "sp.set_encode_extra_options(\":eos\")\n",
    "\n",
    "tokens = sp.encode_as_pieces('오늘은 즐거운 수요일!')\n",
    "print(tokens)\n",
    "seq = sp.encode_as_ids('오늘은 즐거운 수요일!')\n",
    "print(seq)\n",
    "text = sp.decode_pieces(tokens)\n",
    "print(text)\n",
    "text = sp.decode_ids(seq)\n",
    "print(text)"
   ]
  },
  {
   "cell_type": "markdown",
   "metadata": {},
   "source": [
    "##### 학습용 데이터 Q_input, A_input, A_target 생성"
   ]
  },
  {
   "cell_type": "code",
   "execution_count": 18,
   "metadata": {},
   "outputs": [
    {
     "data": {
      "text/plain": [
       "[[4228, 299, 5, 4826, 72],\n",
       " [291, 14, 933, 674, 1735],\n",
       " [277, 1280, 2810, 76, 2964, 94],\n",
       " [277, 1280, 2810, 76, 667, 2964, 94],\n",
       " [5, 4549, 4549, 3, 1395, 64]]"
      ]
     },
     "execution_count": 18,
     "metadata": {},
     "output_type": "execute_result"
    }
   ],
   "source": [
    "sp.set_encode_extra_options(':')\n",
    "Q_inputs = [sp.encode_as_ids(q) for q in Q_texts]\n",
    "Q_inputs[:5]"
   ]
  },
  {
   "cell_type": "code",
   "execution_count": 19,
   "metadata": {},
   "outputs": [
    {
     "data": {
      "text/plain": [
       "[[1, 282, 7, 113, 82, 23, 4],\n",
       " [1, 1459, 5, 3717, 4],\n",
       " [1, 293, 15, 385, 39, 207, 4],\n",
       " [1, 293, 15, 385, 39, 207, 4],\n",
       " [1, 208, 970, 10, 2434, 3090, 173, 14, 40, 4]]"
      ]
     },
     "execution_count": 19,
     "metadata": {},
     "output_type": "execute_result"
    }
   ],
   "source": [
    "sp.set_encode_extra_options('bos:')\n",
    "A_inputs = [sp.encode_as_ids(a) for a in A_texts]\n",
    "A_inputs[:5]"
   ]
  },
  {
   "cell_type": "code",
   "execution_count": 20,
   "metadata": {},
   "outputs": [
    {
     "data": {
      "text/plain": [
       "[[282, 7, 113, 82, 23, 4, 2],\n",
       " [1459, 5, 3717, 4, 2],\n",
       " [293, 15, 385, 39, 207, 4, 2],\n",
       " [293, 15, 385, 39, 207, 4, 2],\n",
       " [208, 970, 10, 2434, 3090, 173, 14, 40, 4, 2]]"
      ]
     },
     "execution_count": 20,
     "metadata": {},
     "output_type": "execute_result"
    }
   ],
   "source": [
    "sp.set_encode_extra_options(':eos')\n",
    "A_targets = [sp.encode_as_ids(a) for a in A_texts]\n",
    "A_targets[:5]"
   ]
  },
  {
   "cell_type": "code",
   "execution_count": 24,
   "metadata": {},
   "outputs": [
    {
     "data": {
      "text/plain": [
       "25"
      ]
     },
     "metadata": {},
     "output_type": "display_data"
    },
    {
     "data": {
      "text/plain": [
       "37"
      ]
     },
     "metadata": {},
     "output_type": "display_data"
    },
    {
     "data": {
      "image/png": "[encoded data removed]",
      "text/plain": [
       "<Figure size 640x480 with 1 Axes>"
      ]
     },
     "metadata": {},
     "output_type": "display_data"
    }
   ],
   "source": [
    "# 최대 길이 확인\n",
    "Q_max_len = max([len(seq) for seq in Q_inputs])\n",
    "A_max_len = max([len(seq) for seq in A_inputs])\n",
    "display(Q_max_len, A_max_len)\n",
    "\n",
    "plt.hist([len(seq) for seq in Q_inputs + A_inputs])\n",
    "plt.show()"
   ]
  },
  {
   "cell_type": "code",
   "execution_count": 25,
   "metadata": {},
   "outputs": [],
   "source": [
    "MAX_LEN = 30"
   ]
  },
  {
   "cell_type": "code",
   "execution_count": 26,
   "metadata": {},
   "outputs": [],
   "source": [
    "from tensorflow.keras.preprocessing.sequence import pad_sequences\n",
    "\n",
    "Q_inputs_padded = pad_sequences(Q_inputs, maxlen=MAX_LEN, padding='pre', truncating='post')\n",
    "A_inputs_padded = pad_sequences(A_inputs, maxlen=MAX_LEN, padding='post', truncating='post')\n",
    "A_targets_padded = pad_sequences(A_targets, maxlen=MAX_LEN, padding='post', truncating='post')"
   ]
  },
  {
   "cell_type": "markdown",
   "metadata": {},
   "source": [
    "### 모델 생성"
   ]
  },
  {
   "cell_type": "markdown",
   "metadata": {},
   "source": [
    "##### 인코더 생성"
   ]
  },
  {
   "cell_type": "code",
   "execution_count": 27,
   "metadata": {},
   "outputs": [],
   "source": [
    "from tensorflow.keras import layers, models\n",
    "\n",
    "EMBEDDING_DIM = 100\n",
    "LATENT_DIM = 128\n",
    "\n",
    "encoder_input = layers.Input(shape=(MAX_LEN,))\n",
    "q_embedding = layers.Embedding(vocab_size + 1, EMBEDDING_DIM)\n",
    "x = q_embedding(encoder_input)\n",
    "_, h, c = layers.LSTM(LATENT_DIM, return_state=True)(x)\n",
    "encoder_states = [h, c]\n",
    "\n",
    "encoder_model = models.Model(inputs=encoder_input, outputs=encoder_states)"
   ]
  },
  {
   "cell_type": "markdown",
   "metadata": {},
   "source": [
    "##### 디코더 (teacher-forcing 모델) 생성"
   ]
  },
  {
   "cell_type": "code",
   "execution_count": 28,
   "metadata": {},
   "outputs": [],
   "source": [
    "decoder_input = layers.Input(shape=(MAX_LEN,))\n",
    "a_embedding = layers.Embedding(vocab_size + 1, EMBEDDING_DIM)\n",
    "x = a_embedding(decoder_input)\n",
    "decoder_lstm = layers.LSTM(LATENT_DIM, return_sequences=True, return_state=True)\n",
    "x, _, _ = decoder_lstm(x, initial_state=encoder_states)\n",
    "decoder_dense = layers.Dense(vocab_size + 1, activation='softmax')\n",
    "decoder_output = decoder_dense(x)\n",
    "\n",
    "decoder_teacher_forcing_model = models.Model(inputs=[encoder_input, decoder_input],\n",
    "                                             outputs=decoder_output)"
   ]
  },
  {
   "cell_type": "markdown",
   "metadata": {},
   "source": [
    "### 모델 학습"
   ]
  },
  {
   "cell_type": "markdown",
   "metadata": {},
   "source": [
    "##### 학습"
   ]
  },
  {
   "cell_type": "code",
   "execution_count": null,
   "metadata": {},
   "outputs": [],
   "source": [
    "decoder_teacher_forcing_model.compile(\n",
    "    loss='sparse_categorical_crossentropy',\n",
    "    optimizer='adam',\n",
    "    metrics=['accuracy']\n",
    ")\n",
    "\n",
    "decoder_teacher_forcing_model.fit(\n",
    "    [Q_inputs_padded, A_inputs_padded],\n",
    "    A_targets_padded,\n",
    "    epochs=300,\n",
    "    batch_size=64,\n",
    "    validation_split=0.2\n",
    ")"
   ]
  },
  {
   "cell_type": "markdown",
   "metadata": {},
   "source": [
    "##### 디코더 (추론 모델) 생성"
   ]
  },
  {
   "cell_type": "code",
   "execution_count": 29,
   "metadata": {},
   "outputs": [],
   "source": [
    "decoder_hidden_state = layers.Input(shape=(LATENT_DIM,))\n",
    "decoder_cell_state = layers.Input(shape=(LATENT_DIM,))\n",
    "decoder_state_inputs = [decoder_hidden_state, decoder_cell_state]\n",
    "\n",
    "decoder_single_input = layers.Input(shape=(1,))\n",
    "x = a_embedding(decoder_single_input)\n",
    "\n",
    "x, h, c = decoder_lstm(x, initial_state=decoder_state_inputs)\n",
    "decoder_states = [h, c]\n",
    "\n",
    "output = decoder_dense(x)\n",
    "\n",
    "decoder_inference_model = models.Model(\n",
    "    inputs=[decoder_single_input] + decoder_state_inputs,\n",
    "    outputs=[output] + decoder_states\n",
    ")"
   ]
  },
  {
   "cell_type": "markdown",
   "metadata": {},
   "source": [
    "### 추론 함수\n",
    "- 추론 함수 생성 및 테스트"
   ]
  },
  {
   "cell_type": "code",
   "execution_count": null,
   "metadata": {},
   "outputs": [],
   "source": [
    "def qna_chatbot(input_seq, temperature=1.0):\n",
    "    # 인코더\n",
    "    states_value = encoder_model.predict(input_seq)\n",
    "\n",
    "    # 디코더\n",
    "    target_seq = np.zeros((1, 1))\n",
    "    bos_id = sp.bos_id()\n",
    "    eos_id = sp.eos_id()\n",
    "    target_seq[0,0] = bos_id\n",
    "\n",
    "    output_ids = []\n",
    "\n",
    "    for _ in range(MAX_LEN):\n",
    "        output, h, c = \\\n",
    "            decoder_inference_model.predict([target_seq] + states_value)\n",
    "        \n",
    "        pred_proba = output[0, 0, :]\n",
    "\n",
    "        pred_proba = np.log(pred_proba + 1e-10) / temperature\n",
    "        pred_proba = np.exp(pred_proba) / np.sum(np.exp(pred_proba))\n",
    "        pred_id = np.random.choice(len(pred_proba), p=pred_proba)\n",
    "\n",
    "        if pred_id == eos_id:\n",
    "            break\n",
    "\n",
    "        if pred_id > 0:\n",
    "            output_ids.append(int(pred_id))\n",
    "        \n",
    "        target_seq[0,0] = pred_id\n",
    "        states_value = [h, c]\n",
    "    \n",
    "    return sp.decode_ids(output_ids)"
   ]
  },
  {
   "cell_type": "code",
   "execution_count": null,
   "metadata": {},
   "outputs": [],
   "source": [
    "# 테스트~"
   ]
  },
  {
   "cell_type": "markdown",
   "metadata": {},
   "source": [
    "##### 간단한 챗봇 구현"
   ]
  },
  {
   "cell_type": "code",
   "execution_count": null,
   "metadata": {},
   "outputs": [],
   "source": [
    "while True:\n",
    "    text = input(\"질문: \")\n",
    "\n",
    "    if text.lower() == 'exit':\n",
    "        break\n",
    "\n",
    "    input_seq = sp.encode_as_ids(text)\n",
    "    input_seq = pad_sequences([input_seq], maxlen=MAX_LEN, padding='pre', truncating='post')\n",
    "    output = qna_chatbot(input_seq)\n",
    "    print(\"답변:\", output)"
   ]
  }
 ],
 "metadata": {
  "kernelspec": {
   "display_name": "pystudy_env",
   "language": "python",
   "name": "python3"
  },
  "language_info": {
   "codemirror_mode": {
    "name": "ipython",
    "version": 3
   },
   "file_extension": ".py",
   "mimetype": "text/x-python",
   "name": "python",
   "nbconvert_exporter": "python",
   "pygments_lexer": "ipython3",
   "version": "3.12.8"
  }
 },
 "nbformat": 4,
 "nbformat_minor": 2
}
