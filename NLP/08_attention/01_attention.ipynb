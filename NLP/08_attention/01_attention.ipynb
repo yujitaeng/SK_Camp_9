{
 "cells": [
  {
   "cell_type": "markdown",
   "metadata": {},
   "source": [
    "# Attention"
   ]
  },
  {
   "cell_type": "code",
   "execution_count": 14,
   "metadata": {},
   "outputs": [],
   "source": [
    "import torch\n",
    "import torch.nn as nn\n",
    "import torch.nn.functional as F"
   ]
  },
  {
   "cell_type": "markdown",
   "metadata": {},
   "source": [
    "### 어텐션 가중치 계산"
   ]
  },
  {
   "cell_type": "code",
   "execution_count": 15,
   "metadata": {},
   "outputs": [],
   "source": [
    "def attention(query, key, value):\n",
    "    # 1. 어텐션 스코어 계산 (Query - Key)\n",
    "    scores = torch.matmul(query, key.transpose(-2, -1))\n",
    "    print('Attetion Score shape:', scores.shape)\n",
    "\n",
    "    # 2. Softmax 적용 (가중치 계산)\n",
    "    attention_weights = F.softmax(scores, dim=-1)\n",
    "    print('Attention weights shape:', attention_weights.shape)\n",
    "\n",
    "    # 3. 어텐션 밸류 계산 (Value 적용 => 최종 Context vector 계산)\n",
    "    context_vector = torch.matmul(attention_weights, value)\n",
    "    print('Context Vector shape:', context_vector.shape)\n",
    "\n",
    "    return context_vector"
   ]
  },
  {
   "cell_type": "code",
   "execution_count": 16,
   "metadata": {},
   "outputs": [],
   "source": [
    "# 토큰화 및 임베딩 결과 예시\n",
    "vocab = {\n",
    "    \"나는\": 0,\n",
    "    \"학교에\": 1,\n",
    "    \"간다\": 2,\n",
    "    \"<pad>\": 3\n",
    "}\n",
    "vocab_size = len(vocab)\n",
    "EMBEDDING_DIM = 4"
   ]
  },
  {
   "cell_type": "code",
   "execution_count": 17,
   "metadata": {},
   "outputs": [],
   "source": [
    "# 입력 문장\n",
    "inputs = [\"나는\", \"학교에\", \"간다\"]\n",
    "inputs_ids = torch.tensor([[vocab[word] for word in inputs]]) # (1, 3)"
   ]
  },
  {
   "cell_type": "code",
   "execution_count": 18,
   "metadata": {},
   "outputs": [
    {
     "name": "stdout",
     "output_type": "stream",
     "text": [
      "torch.Size([1, 3, 4]) torch.Size([1, 3, 4]) torch.Size([1, 3, 4])\n"
     ]
    }
   ],
   "source": [
    "# 1. 임베딩 적용\n",
    "embedding_layer = nn.Embedding(vocab_size, EMBEDDING_DIM)\n",
    "inputs_embedded = embedding_layer(inputs_ids)\n",
    "# print(inputs_embedded.shape)\n",
    "\n",
    "# 2. 선형 변환 -> Query, Key, Value\n",
    "HIDDEN_DIM = 4\n",
    "W_query = nn.Linear(EMBEDDING_DIM, HIDDEN_DIM)\n",
    "W_key = nn.Linear(EMBEDDING_DIM, HIDDEN_DIM)\n",
    "W_value = nn.Linear(EMBEDDING_DIM, HIDDEN_DIM) \n",
    "\n",
    "input_query = W_query(inputs_embedded)\n",
    "input_key = W_key(inputs_embedded)\n",
    "input_value = W_value(inputs_embedded)\n",
    "\n",
    "print(input_query.shape, input_key.shape, input_value.shape)"
   ]
  },
  {
   "cell_type": "code",
   "execution_count": 19,
   "metadata": {},
   "outputs": [
    {
     "name": "stdout",
     "output_type": "stream",
     "text": [
      "Attetion Score shape: torch.Size([1, 3, 3])\n",
      "Attention weights shape: torch.Size([1, 3, 3])\n",
      "Context Vector shape: torch.Size([1, 3, 4])\n"
     ]
    },
    {
     "data": {
      "text/plain": [
       "tensor([[[ 0.5648,  0.1701, -0.2122,  0.2961],\n",
       "         [ 0.0816, -0.1404, -0.0957,  0.3069],\n",
       "         [-0.0932, -0.2525, -0.0530,  0.3114]]], grad_fn=<UnsafeViewBackward0>)"
      ]
     },
     "execution_count": 19,
     "metadata": {},
     "output_type": "execute_result"
    }
   ],
   "source": [
    "context_vector = attention(input_query, input_key, input_value)\n",
    "context_vector"
   ]
  },
  {
   "cell_type": "markdown",
   "metadata": {},
   "source": [
    "### Seq2Seq 모델에 어텐션 추가"
   ]
  },
  {
   "cell_type": "code",
   "execution_count": 46,
   "metadata": {},
   "outputs": [],
   "source": [
    "class Attention(nn.Module):\n",
    "    def __init__(self, hidden_size):\n",
    "        super(Attention, self).__init__()\n",
    "        self.attn = nn.Linear(hidden_size * 2, hidden_size)\n",
    "        self.v = nn.Parameter(torch.rand(hidden_size))\n",
    "\n",
    "    def forward(self, hidden, encoder_outputs):\n",
    "        seq_len = encoder_outputs.shape[1]\n",
    "        hidden_expanded = hidden.unsqueeze(1).repeat(1, seq_len, 1)\n",
    "        energy = torch.tanh(self.attn(torch.cat((hidden_expanded, encoder_outputs), dim=2)))\n",
    "        attention_scores = torch.sum(self.v * energy, dim=2)\n",
    "        attention_weights = F.softmax(attention_scores, dim=1)\n",
    "        context_vector = torch.bmm(attention_weights.unsqueeze(1), encoder_outputs).squeeze(1)\n",
    "        return context_vector, attention_weights"
   ]
  },
  {
   "cell_type": "code",
   "execution_count": 47,
   "metadata": {},
   "outputs": [],
   "source": [
    "class Seq2SeqWithAttention(nn.Module):\n",
    "    def __init__(self, input_dim, hidden_dim, output_dim):\n",
    "        super(Seq2SeqWithAttention, self).__init__()\n",
    "        self.encoder = nn.GRU(input_dim, hidden_dim, batch_first=True)\n",
    "        self.decoder = nn.GRU(hidden_dim, hidden_dim, batch_first=True)\n",
    "        self.attention = Attention(hidden_dim)\n",
    "        self.fc = nn.Linear(hidden_dim * 2, output_dim)\n",
    "        self.decoder_input_transform = nn.Linear(input_dim, hidden_dim)\n",
    "\n",
    "    def forward(self, encoder_input, decoder_input):\n",
    "        encoder_outputs, hidden = self.encoder(encoder_input)\n",
    "        context_vector, _ = self.attention(hidden[-1], encoder_outputs)\n",
    "        decoder_input_ = self.decoder_input_transform(decoder_input)\n",
    "        output, _ = self.decoder(decoder_input_, hidden)\n",
    "        combined = torch.cat((output, context_vector.unsqueeze(1)), dim=2)\n",
    "        return self.fc(combined)"
   ]
  },
  {
   "cell_type": "code",
   "execution_count": 48,
   "metadata": {},
   "outputs": [
    {
     "name": "stdout",
     "output_type": "stream",
     "text": [
      "tensor([[[-0.1102, -0.1047,  0.0012,  0.0793,  0.1339, -0.0231,  0.1965,\n",
      "           0.0913,  0.0587,  0.0933, -0.1886, -0.1545,  0.0729, -0.0372,\n",
      "           0.1470]]], grad_fn=<ViewBackward0>)\n"
     ]
    }
   ],
   "source": [
    "batch_size = 1\n",
    "seq_len = 5\n",
    "input_dim = 10\n",
    "hidden_dim = 20\n",
    "output_dim = 15\n",
    "\n",
    "encoder_input = torch.randn(batch_size, seq_len, input_dim)\n",
    "decoder_input = torch.randn(batch_size, 1, input_dim)\n",
    "\n",
    "model = Seq2SeqWithAttention(input_dim=input_dim, hidden_dim=hidden_dim, output_dim=output_dim)\n",
    "result = model(encoder_input, decoder_input)\n",
    "print(result)\n"
   ]
  }
 ],
 "metadata": {
  "kernelspec": {
   "display_name": "pystudy_env",
   "language": "python",
   "name": "python3"
  },
  "language_info": {
   "codemirror_mode": {
    "name": "ipython",
    "version": 3
   },
   "file_extension": ".py",
   "mimetype": "text/x-python",
   "name": "python",
   "nbconvert_exporter": "python",
   "pygments_lexer": "ipython3",
   "version": "3.12.8"
  }
 },
 "nbformat": 4,
 "nbformat_minor": 2
}
