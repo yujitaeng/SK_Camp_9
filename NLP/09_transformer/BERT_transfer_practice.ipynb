{
  "nbformat": 4,
  "nbformat_minor": 0,
  "metadata": {
    "colab": {
      "provenance": [],
      "gpuType": "T4"
    },
    "kernelspec": {
      "name": "python3",
      "display_name": "Python 3"
    },
    "language_info": {
      "name": "python"
    },
    "widgets": {
      "application/vnd.jupyter.widget-state+json": {
        "c6a3a22b09ef4c65b5bb7bc021a00bb1": {
          "model_module": "@jupyter-widgets/controls",
          "model_name": "HBoxModel",
          "model_module_version": "1.5.0",
          "state": {
            "_dom_classes": [],
            "_model_module": "@jupyter-widgets/controls",
            "_model_module_version": "1.5.0",
            "_model_name": "HBoxModel",
            "_view_count": null,
            "_view_module": "@jupyter-widgets/controls",
            "_view_module_version": "1.5.0",
            "_view_name": "HBoxView",
            "box_style": "",
            "children": [
              "IPY_MODEL_b5c296aa8c5d46b2bad80e736a9f090e",
              "IPY_MODEL_5f38d168f797487a8922893bf1fe7b60",
              "IPY_MODEL_bea2d817660b496f93be62f458e213d1"
            ],
            "layout": "IPY_MODEL_dee73223567346309427ad4c256cd889"
          }
        },
        "b5c296aa8c5d46b2bad80e736a9f090e": {
          "model_module": "@jupyter-widgets/controls",
          "model_name": "HTMLModel",
          "model_module_version": "1.5.0",
          "state": {
            "_dom_classes": [],
            "_model_module": "@jupyter-widgets/controls",
            "_model_module_version": "1.5.0",
            "_model_name": "HTMLModel",
            "_view_count": null,
            "_view_module": "@jupyter-widgets/controls",
            "_view_module_version": "1.5.0",
            "_view_name": "HTMLView",
            "description": "",
            "description_tooltip": null,
            "layout": "IPY_MODEL_ab16435c7d8c44e0935d2fc727cd6a17",
            "placeholder": "​",
            "style": "IPY_MODEL_5bf3394df7ed47d2ab6894e30896c843",
            "value": "config.json: 100%"
          }
        },
        "5f38d168f797487a8922893bf1fe7b60": {
          "model_module": "@jupyter-widgets/controls",
          "model_name": "FloatProgressModel",
          "model_module_version": "1.5.0",
          "state": {
            "_dom_classes": [],
            "_model_module": "@jupyter-widgets/controls",
            "_model_module_version": "1.5.0",
            "_model_name": "FloatProgressModel",
            "_view_count": null,
            "_view_module": "@jupyter-widgets/controls",
            "_view_module_version": "1.5.0",
            "_view_name": "ProgressView",
            "bar_style": "success",
            "description": "",
            "description_tooltip": null,
            "layout": "IPY_MODEL_67a9b5ad2e9b493c9b01a3bd3fd276fd",
            "max": 425,
            "min": 0,
            "orientation": "horizontal",
            "style": "IPY_MODEL_f40a29cbca8d4f3894981fa1f1a1f8d9",
            "value": 425
          }
        },
        "bea2d817660b496f93be62f458e213d1": {
          "model_module": "@jupyter-widgets/controls",
          "model_name": "HTMLModel",
          "model_module_version": "1.5.0",
          "state": {
            "_dom_classes": [],
            "_model_module": "@jupyter-widgets/controls",
            "_model_module_version": "1.5.0",
            "_model_name": "HTMLModel",
            "_view_count": null,
            "_view_module": "@jupyter-widgets/controls",
            "_view_module_version": "1.5.0",
            "_view_name": "HTMLView",
            "description": "",
            "description_tooltip": null,
            "layout": "IPY_MODEL_e7ece23596e24bf78fbdd44d3b9896ef",
            "placeholder": "​",
            "style": "IPY_MODEL_693c7fa36d2049eaa2256c86b28df4e9",
            "value": " 425/425 [00:00&lt;00:00, 36.1kB/s]"
          }
        },
        "dee73223567346309427ad4c256cd889": {
          "model_module": "@jupyter-widgets/base",
          "model_name": "LayoutModel",
          "model_module_version": "1.2.0",
          "state": {
            "_model_module": "@jupyter-widgets/base",
            "_model_module_version": "1.2.0",
            "_model_name": "LayoutModel",
            "_view_count": null,
            "_view_module": "@jupyter-widgets/base",
            "_view_module_version": "1.2.0",
            "_view_name": "LayoutView",
            "align_content": null,
            "align_items": null,
            "align_self": null,
            "border": null,
            "bottom": null,
            "display": null,
            "flex": null,
            "flex_flow": null,
            "grid_area": null,
            "grid_auto_columns": null,
            "grid_auto_flow": null,
            "grid_auto_rows": null,
            "grid_column": null,
            "grid_gap": null,
            "grid_row": null,
            "grid_template_areas": null,
            "grid_template_columns": null,
            "grid_template_rows": null,
            "height": null,
            "justify_content": null,
            "justify_items": null,
            "left": null,
            "margin": null,
            "max_height": null,
            "max_width": null,
            "min_height": null,
            "min_width": null,
            "object_fit": null,
            "object_position": null,
            "order": null,
            "overflow": null,
            "overflow_x": null,
            "overflow_y": null,
            "padding": null,
            "right": null,
            "top": null,
            "visibility": null,
            "width": null
          }
        },
        "ab16435c7d8c44e0935d2fc727cd6a17": {
          "model_module": "@jupyter-widgets/base",
          "model_name": "LayoutModel",
          "model_module_version": "1.2.0",
          "state": {
            "_model_module": "@jupyter-widgets/base",
            "_model_module_version": "1.2.0",
            "_model_name": "LayoutModel",
            "_view_count": null,
            "_view_module": "@jupyter-widgets/base",
            "_view_module_version": "1.2.0",
            "_view_name": "LayoutView",
            "align_content": null,
            "align_items": null,
            "align_self": null,
            "border": null,
            "bottom": null,
            "display": null,
            "flex": null,
            "flex_flow": null,
            "grid_area": null,
            "grid_auto_columns": null,
            "grid_auto_flow": null,
            "grid_auto_rows": null,
            "grid_column": null,
            "grid_gap": null,
            "grid_row": null,
            "grid_template_areas": null,
            "grid_template_columns": null,
            "grid_template_rows": null,
            "height": null,
            "justify_content": null,
            "justify_items": null,
            "left": null,
            "margin": null,
            "max_height": null,
            "max_width": null,
            "min_height": null,
            "min_width": null,
            "object_fit": null,
            "object_position": null,
            "order": null,
            "overflow": null,
            "overflow_x": null,
            "overflow_y": null,
            "padding": null,
            "right": null,
            "top": null,
            "visibility": null,
            "width": null
          }
        },
        "5bf3394df7ed47d2ab6894e30896c843": {
          "model_module": "@jupyter-widgets/controls",
          "model_name": "DescriptionStyleModel",
          "model_module_version": "1.5.0",
          "state": {
            "_model_module": "@jupyter-widgets/controls",
            "_model_module_version": "1.5.0",
            "_model_name": "DescriptionStyleModel",
            "_view_count": null,
            "_view_module": "@jupyter-widgets/base",
            "_view_module_version": "1.2.0",
            "_view_name": "StyleView",
            "description_width": ""
          }
        },
        "67a9b5ad2e9b493c9b01a3bd3fd276fd": {
          "model_module": "@jupyter-widgets/base",
          "model_name": "LayoutModel",
          "model_module_version": "1.2.0",
          "state": {
            "_model_module": "@jupyter-widgets/base",
            "_model_module_version": "1.2.0",
            "_model_name": "LayoutModel",
            "_view_count": null,
            "_view_module": "@jupyter-widgets/base",
            "_view_module_version": "1.2.0",
            "_view_name": "LayoutView",
            "align_content": null,
            "align_items": null,
            "align_self": null,
            "border": null,
            "bottom": null,
            "display": null,
            "flex": null,
            "flex_flow": null,
            "grid_area": null,
            "grid_auto_columns": null,
            "grid_auto_flow": null,
            "grid_auto_rows": null,
            "grid_column": null,
            "grid_gap": null,
            "grid_row": null,
            "grid_template_areas": null,
            "grid_template_columns": null,
            "grid_template_rows": null,
            "height": null,
            "justify_content": null,
            "justify_items": null,
            "left": null,
            "margin": null,
            "max_height": null,
            "max_width": null,
            "min_height": null,
            "min_width": null,
            "object_fit": null,
            "object_position": null,
            "order": null,
            "overflow": null,
            "overflow_x": null,
            "overflow_y": null,
            "padding": null,
            "right": null,
            "top": null,
            "visibility": null,
            "width": null
          }
        },
        "f40a29cbca8d4f3894981fa1f1a1f8d9": {
          "model_module": "@jupyter-widgets/controls",
          "model_name": "ProgressStyleModel",
          "model_module_version": "1.5.0",
          "state": {
            "_model_module": "@jupyter-widgets/controls",
            "_model_module_version": "1.5.0",
            "_model_name": "ProgressStyleModel",
            "_view_count": null,
            "_view_module": "@jupyter-widgets/base",
            "_view_module_version": "1.2.0",
            "_view_name": "StyleView",
            "bar_color": null,
            "description_width": ""
          }
        },
        "e7ece23596e24bf78fbdd44d3b9896ef": {
          "model_module": "@jupyter-widgets/base",
          "model_name": "LayoutModel",
          "model_module_version": "1.2.0",
          "state": {
            "_model_module": "@jupyter-widgets/base",
            "_model_module_version": "1.2.0",
            "_model_name": "LayoutModel",
            "_view_count": null,
            "_view_module": "@jupyter-widgets/base",
            "_view_module_version": "1.2.0",
            "_view_name": "LayoutView",
            "align_content": null,
            "align_items": null,
            "align_self": null,
            "border": null,
            "bottom": null,
            "display": null,
            "flex": null,
            "flex_flow": null,
            "grid_area": null,
            "grid_auto_columns": null,
            "grid_auto_flow": null,
            "grid_auto_rows": null,
            "grid_column": null,
            "grid_gap": null,
            "grid_row": null,
            "grid_template_areas": null,
            "grid_template_columns": null,
            "grid_template_rows": null,
            "height": null,
            "justify_content": null,
            "justify_items": null,
            "left": null,
            "margin": null,
            "max_height": null,
            "max_width": null,
            "min_height": null,
            "min_width": null,
            "object_fit": null,
            "object_position": null,
            "order": null,
            "overflow": null,
            "overflow_x": null,
            "overflow_y": null,
            "padding": null,
            "right": null,
            "top": null,
            "visibility": null,
            "width": null
          }
        },
        "693c7fa36d2049eaa2256c86b28df4e9": {
          "model_module": "@jupyter-widgets/controls",
          "model_name": "DescriptionStyleModel",
          "model_module_version": "1.5.0",
          "state": {
            "_model_module": "@jupyter-widgets/controls",
            "_model_module_version": "1.5.0",
            "_model_name": "DescriptionStyleModel",
            "_view_count": null,
            "_view_module": "@jupyter-widgets/base",
            "_view_module_version": "1.2.0",
            "_view_name": "StyleView",
            "description_width": ""
          }
        },
        "7f6bd19ffd7c43778811e0bc09922fc5": {
          "model_module": "@jupyter-widgets/controls",
          "model_name": "HBoxModel",
          "model_module_version": "1.5.0",
          "state": {
            "_dom_classes": [],
            "_model_module": "@jupyter-widgets/controls",
            "_model_module_version": "1.5.0",
            "_model_name": "HBoxModel",
            "_view_count": null,
            "_view_module": "@jupyter-widgets/controls",
            "_view_module_version": "1.5.0",
            "_view_name": "HBoxView",
            "box_style": "",
            "children": [
              "IPY_MODEL_9438ff3719a44c31be61a095fb73e873",
              "IPY_MODEL_743636b453174db9a2fe07b892c8e4bc",
              "IPY_MODEL_3c2e3058562d4a9ebed049badabca9c6"
            ],
            "layout": "IPY_MODEL_58c28230be154a3eb305a57b2cc2b317"
          }
        },
        "9438ff3719a44c31be61a095fb73e873": {
          "model_module": "@jupyter-widgets/controls",
          "model_name": "HTMLModel",
          "model_module_version": "1.5.0",
          "state": {
            "_dom_classes": [],
            "_model_module": "@jupyter-widgets/controls",
            "_model_module_version": "1.5.0",
            "_model_name": "HTMLModel",
            "_view_count": null,
            "_view_module": "@jupyter-widgets/controls",
            "_view_module_version": "1.5.0",
            "_view_name": "HTMLView",
            "description": "",
            "description_tooltip": null,
            "layout": "IPY_MODEL_be7d510620214f2290ff54b7850d5707",
            "placeholder": "​",
            "style": "IPY_MODEL_c16e3286a7664aa18bc4e2dfd20d7ebb",
            "value": "model.safetensors: 100%"
          }
        },
        "743636b453174db9a2fe07b892c8e4bc": {
          "model_module": "@jupyter-widgets/controls",
          "model_name": "FloatProgressModel",
          "model_module_version": "1.5.0",
          "state": {
            "_dom_classes": [],
            "_model_module": "@jupyter-widgets/controls",
            "_model_module_version": "1.5.0",
            "_model_name": "FloatProgressModel",
            "_view_count": null,
            "_view_module": "@jupyter-widgets/controls",
            "_view_module_version": "1.5.0",
            "_view_name": "ProgressView",
            "bar_style": "success",
            "description": "",
            "description_tooltip": null,
            "layout": "IPY_MODEL_acf185652e2a4fd8a9489eb897920035",
            "max": 445000316,
            "min": 0,
            "orientation": "horizontal",
            "style": "IPY_MODEL_dc4a0db60245491e86ac7bfffd80e874",
            "value": 445000316
          }
        },
        "3c2e3058562d4a9ebed049badabca9c6": {
          "model_module": "@jupyter-widgets/controls",
          "model_name": "HTMLModel",
          "model_module_version": "1.5.0",
          "state": {
            "_dom_classes": [],
            "_model_module": "@jupyter-widgets/controls",
            "_model_module_version": "1.5.0",
            "_model_name": "HTMLModel",
            "_view_count": null,
            "_view_module": "@jupyter-widgets/controls",
            "_view_module_version": "1.5.0",
            "_view_name": "HTMLView",
            "description": "",
            "description_tooltip": null,
            "layout": "IPY_MODEL_26a35d6bdeba4dc08f34744207d62436",
            "placeholder": "​",
            "style": "IPY_MODEL_4f6624f436c1491894ca23dc7cb965ba",
            "value": " 445M/445M [00:01&lt;00:00, 325MB/s]"
          }
        },
        "58c28230be154a3eb305a57b2cc2b317": {
          "model_module": "@jupyter-widgets/base",
          "model_name": "LayoutModel",
          "model_module_version": "1.2.0",
          "state": {
            "_model_module": "@jupyter-widgets/base",
            "_model_module_version": "1.2.0",
            "_model_name": "LayoutModel",
            "_view_count": null,
            "_view_module": "@jupyter-widgets/base",
            "_view_module_version": "1.2.0",
            "_view_name": "LayoutView",
            "align_content": null,
            "align_items": null,
            "align_self": null,
            "border": null,
            "bottom": null,
            "display": null,
            "flex": null,
            "flex_flow": null,
            "grid_area": null,
            "grid_auto_columns": null,
            "grid_auto_flow": null,
            "grid_auto_rows": null,
            "grid_column": null,
            "grid_gap": null,
            "grid_row": null,
            "grid_template_areas": null,
            "grid_template_columns": null,
            "grid_template_rows": null,
            "height": null,
            "justify_content": null,
            "justify_items": null,
            "left": null,
            "margin": null,
            "max_height": null,
            "max_width": null,
            "min_height": null,
            "min_width": null,
            "object_fit": null,
            "object_position": null,
            "order": null,
            "overflow": null,
            "overflow_x": null,
            "overflow_y": null,
            "padding": null,
            "right": null,
            "top": null,
            "visibility": null,
            "width": null
          }
        },
        "be7d510620214f2290ff54b7850d5707": {
          "model_module": "@jupyter-widgets/base",
          "model_name": "LayoutModel",
          "model_module_version": "1.2.0",
          "state": {
            "_model_module": "@jupyter-widgets/base",
            "_model_module_version": "1.2.0",
            "_model_name": "LayoutModel",
            "_view_count": null,
            "_view_module": "@jupyter-widgets/base",
            "_view_module_version": "1.2.0",
            "_view_name": "LayoutView",
            "align_content": null,
            "align_items": null,
            "align_self": null,
            "border": null,
            "bottom": null,
            "display": null,
            "flex": null,
            "flex_flow": null,
            "grid_area": null,
            "grid_auto_columns": null,
            "grid_auto_flow": null,
            "grid_auto_rows": null,
            "grid_column": null,
            "grid_gap": null,
            "grid_row": null,
            "grid_template_areas": null,
            "grid_template_columns": null,
            "grid_template_rows": null,
            "height": null,
            "justify_content": null,
            "justify_items": null,
            "left": null,
            "margin": null,
            "max_height": null,
            "max_width": null,
            "min_height": null,
            "min_width": null,
            "object_fit": null,
            "object_position": null,
            "order": null,
            "overflow": null,
            "overflow_x": null,
            "overflow_y": null,
            "padding": null,
            "right": null,
            "top": null,
            "visibility": null,
            "width": null
          }
        },
        "c16e3286a7664aa18bc4e2dfd20d7ebb": {
          "model_module": "@jupyter-widgets/controls",
          "model_name": "DescriptionStyleModel",
          "model_module_version": "1.5.0",
          "state": {
            "_model_module": "@jupyter-widgets/controls",
            "_model_module_version": "1.5.0",
            "_model_name": "DescriptionStyleModel",
            "_view_count": null,
            "_view_module": "@jupyter-widgets/base",
            "_view_module_version": "1.2.0",
            "_view_name": "StyleView",
            "description_width": ""
          }
        },
        "acf185652e2a4fd8a9489eb897920035": {
          "model_module": "@jupyter-widgets/base",
          "model_name": "LayoutModel",
          "model_module_version": "1.2.0",
          "state": {
            "_model_module": "@jupyter-widgets/base",
            "_model_module_version": "1.2.0",
            "_model_name": "LayoutModel",
            "_view_count": null,
            "_view_module": "@jupyter-widgets/base",
            "_view_module_version": "1.2.0",
            "_view_name": "LayoutView",
            "align_content": null,
            "align_items": null,
            "align_self": null,
            "border": null,
            "bottom": null,
            "display": null,
            "flex": null,
            "flex_flow": null,
            "grid_area": null,
            "grid_auto_columns": null,
            "grid_auto_flow": null,
            "grid_auto_rows": null,
            "grid_column": null,
            "grid_gap": null,
            "grid_row": null,
            "grid_template_areas": null,
            "grid_template_columns": null,
            "grid_template_rows": null,
            "height": null,
            "justify_content": null,
            "justify_items": null,
            "left": null,
            "margin": null,
            "max_height": null,
            "max_width": null,
            "min_height": null,
            "min_width": null,
            "object_fit": null,
            "object_position": null,
            "order": null,
            "overflow": null,
            "overflow_x": null,
            "overflow_y": null,
            "padding": null,
            "right": null,
            "top": null,
            "visibility": null,
            "width": null
          }
        },
        "dc4a0db60245491e86ac7bfffd80e874": {
          "model_module": "@jupyter-widgets/controls",
          "model_name": "ProgressStyleModel",
          "model_module_version": "1.5.0",
          "state": {
            "_model_module": "@jupyter-widgets/controls",
            "_model_module_version": "1.5.0",
            "_model_name": "ProgressStyleModel",
            "_view_count": null,
            "_view_module": "@jupyter-widgets/base",
            "_view_module_version": "1.2.0",
            "_view_name": "StyleView",
            "bar_color": null,
            "description_width": ""
          }
        },
        "26a35d6bdeba4dc08f34744207d62436": {
          "model_module": "@jupyter-widgets/base",
          "model_name": "LayoutModel",
          "model_module_version": "1.2.0",
          "state": {
            "_model_module": "@jupyter-widgets/base",
            "_model_module_version": "1.2.0",
            "_model_name": "LayoutModel",
            "_view_count": null,
            "_view_module": "@jupyter-widgets/base",
            "_view_module_version": "1.2.0",
            "_view_name": "LayoutView",
            "align_content": null,
            "align_items": null,
            "align_self": null,
            "border": null,
            "bottom": null,
            "display": null,
            "flex": null,
            "flex_flow": null,
            "grid_area": null,
            "grid_auto_columns": null,
            "grid_auto_flow": null,
            "grid_auto_rows": null,
            "grid_column": null,
            "grid_gap": null,
            "grid_row": null,
            "grid_template_areas": null,
            "grid_template_columns": null,
            "grid_template_rows": null,
            "height": null,
            "justify_content": null,
            "justify_items": null,
            "left": null,
            "margin": null,
            "max_height": null,
            "max_width": null,
            "min_height": null,
            "min_width": null,
            "object_fit": null,
            "object_position": null,
            "order": null,
            "overflow": null,
            "overflow_x": null,
            "overflow_y": null,
            "padding": null,
            "right": null,
            "top": null,
            "visibility": null,
            "width": null
          }
        },
        "4f6624f436c1491894ca23dc7cb965ba": {
          "model_module": "@jupyter-widgets/controls",
          "model_name": "DescriptionStyleModel",
          "model_module_version": "1.5.0",
          "state": {
            "_model_module": "@jupyter-widgets/controls",
            "_model_module_version": "1.5.0",
            "_model_name": "DescriptionStyleModel",
            "_view_count": null,
            "_view_module": "@jupyter-widgets/base",
            "_view_module_version": "1.2.0",
            "_view_name": "StyleView",
            "description_width": ""
          }
        },
        "8d44256463ee4ed2bb9462e0833786bc": {
          "model_module": "@jupyter-widgets/controls",
          "model_name": "HBoxModel",
          "model_module_version": "1.5.0",
          "state": {
            "_dom_classes": [],
            "_model_module": "@jupyter-widgets/controls",
            "_model_module_version": "1.5.0",
            "_model_name": "HBoxModel",
            "_view_count": null,
            "_view_module": "@jupyter-widgets/controls",
            "_view_module_version": "1.5.0",
            "_view_name": "HBoxView",
            "box_style": "",
            "children": [
              "IPY_MODEL_8ace6ed929d34ae08fc15adc874f2002",
              "IPY_MODEL_96c2f0b9ca224e72a455a3ceb0b755c6",
              "IPY_MODEL_218daa8dc9284824b1a35e94b80b5cf7"
            ],
            "layout": "IPY_MODEL_3d6171dcb71546d3ab04064c9ce612e8"
          }
        },
        "8ace6ed929d34ae08fc15adc874f2002": {
          "model_module": "@jupyter-widgets/controls",
          "model_name": "HTMLModel",
          "model_module_version": "1.5.0",
          "state": {
            "_dom_classes": [],
            "_model_module": "@jupyter-widgets/controls",
            "_model_module_version": "1.5.0",
            "_model_name": "HTMLModel",
            "_view_count": null,
            "_view_module": "@jupyter-widgets/controls",
            "_view_module_version": "1.5.0",
            "_view_name": "HTMLView",
            "description": "",
            "description_tooltip": null,
            "layout": "IPY_MODEL_46c457b8b3a049aaa7cd52ca1d42b04c",
            "placeholder": "​",
            "style": "IPY_MODEL_6927200be7a44fb5be199ffd8a1e0954",
            "value": "tokenizer_config.json: 100%"
          }
        },
        "96c2f0b9ca224e72a455a3ceb0b755c6": {
          "model_module": "@jupyter-widgets/controls",
          "model_name": "FloatProgressModel",
          "model_module_version": "1.5.0",
          "state": {
            "_dom_classes": [],
            "_model_module": "@jupyter-widgets/controls",
            "_model_module_version": "1.5.0",
            "_model_name": "FloatProgressModel",
            "_view_count": null,
            "_view_module": "@jupyter-widgets/controls",
            "_view_module_version": "1.5.0",
            "_view_name": "ProgressView",
            "bar_style": "success",
            "description": "",
            "description_tooltip": null,
            "layout": "IPY_MODEL_063e582490d54b90a175fca040931de8",
            "max": 289,
            "min": 0,
            "orientation": "horizontal",
            "style": "IPY_MODEL_ed1ca2356b72441fb376e5a00002d50a",
            "value": 289
          }
        },
        "218daa8dc9284824b1a35e94b80b5cf7": {
          "model_module": "@jupyter-widgets/controls",
          "model_name": "HTMLModel",
          "model_module_version": "1.5.0",
          "state": {
            "_dom_classes": [],
            "_model_module": "@jupyter-widgets/controls",
            "_model_module_version": "1.5.0",
            "_model_name": "HTMLModel",
            "_view_count": null,
            "_view_module": "@jupyter-widgets/controls",
            "_view_module_version": "1.5.0",
            "_view_name": "HTMLView",
            "description": "",
            "description_tooltip": null,
            "layout": "IPY_MODEL_41d6a3b82a9641b7ab1aa05b49a7456e",
            "placeholder": "​",
            "style": "IPY_MODEL_7d12b1d780c240ff94ada6f4dda92b83",
            "value": " 289/289 [00:00&lt;00:00, 29.4kB/s]"
          }
        },
        "3d6171dcb71546d3ab04064c9ce612e8": {
          "model_module": "@jupyter-widgets/base",
          "model_name": "LayoutModel",
          "model_module_version": "1.2.0",
          "state": {
            "_model_module": "@jupyter-widgets/base",
            "_model_module_version": "1.2.0",
            "_model_name": "LayoutModel",
            "_view_count": null,
            "_view_module": "@jupyter-widgets/base",
            "_view_module_version": "1.2.0",
            "_view_name": "LayoutView",
            "align_content": null,
            "align_items": null,
            "align_self": null,
            "border": null,
            "bottom": null,
            "display": null,
            "flex": null,
            "flex_flow": null,
            "grid_area": null,
            "grid_auto_columns": null,
            "grid_auto_flow": null,
            "grid_auto_rows": null,
            "grid_column": null,
            "grid_gap": null,
            "grid_row": null,
            "grid_template_areas": null,
            "grid_template_columns": null,
            "grid_template_rows": null,
            "height": null,
            "justify_content": null,
            "justify_items": null,
            "left": null,
            "margin": null,
            "max_height": null,
            "max_width": null,
            "min_height": null,
            "min_width": null,
            "object_fit": null,
            "object_position": null,
            "order": null,
            "overflow": null,
            "overflow_x": null,
            "overflow_y": null,
            "padding": null,
            "right": null,
            "top": null,
            "visibility": null,
            "width": null
          }
        },
        "46c457b8b3a049aaa7cd52ca1d42b04c": {
          "model_module": "@jupyter-widgets/base",
          "model_name": "LayoutModel",
          "model_module_version": "1.2.0",
          "state": {
            "_model_module": "@jupyter-widgets/base",
            "_model_module_version": "1.2.0",
            "_model_name": "LayoutModel",
            "_view_count": null,
            "_view_module": "@jupyter-widgets/base",
            "_view_module_version": "1.2.0",
            "_view_name": "LayoutView",
            "align_content": null,
            "align_items": null,
            "align_self": null,
            "border": null,
            "bottom": null,
            "display": null,
            "flex": null,
            "flex_flow": null,
            "grid_area": null,
            "grid_auto_columns": null,
            "grid_auto_flow": null,
            "grid_auto_rows": null,
            "grid_column": null,
            "grid_gap": null,
            "grid_row": null,
            "grid_template_areas": null,
            "grid_template_columns": null,
            "grid_template_rows": null,
            "height": null,
            "justify_content": null,
            "justify_items": null,
            "left": null,
            "margin": null,
            "max_height": null,
            "max_width": null,
            "min_height": null,
            "min_width": null,
            "object_fit": null,
            "object_position": null,
            "order": null,
            "overflow": null,
            "overflow_x": null,
            "overflow_y": null,
            "padding": null,
            "right": null,
            "top": null,
            "visibility": null,
            "width": null
          }
        },
        "6927200be7a44fb5be199ffd8a1e0954": {
          "model_module": "@jupyter-widgets/controls",
          "model_name": "DescriptionStyleModel",
          "model_module_version": "1.5.0",
          "state": {
            "_model_module": "@jupyter-widgets/controls",
            "_model_module_version": "1.5.0",
            "_model_name": "DescriptionStyleModel",
            "_view_count": null,
            "_view_module": "@jupyter-widgets/base",
            "_view_module_version": "1.2.0",
            "_view_name": "StyleView",
            "description_width": ""
          }
        },
        "063e582490d54b90a175fca040931de8": {
          "model_module": "@jupyter-widgets/base",
          "model_name": "LayoutModel",
          "model_module_version": "1.2.0",
          "state": {
            "_model_module": "@jupyter-widgets/base",
            "_model_module_version": "1.2.0",
            "_model_name": "LayoutModel",
            "_view_count": null,
            "_view_module": "@jupyter-widgets/base",
            "_view_module_version": "1.2.0",
            "_view_name": "LayoutView",
            "align_content": null,
            "align_items": null,
            "align_self": null,
            "border": null,
            "bottom": null,
            "display": null,
            "flex": null,
            "flex_flow": null,
            "grid_area": null,
            "grid_auto_columns": null,
            "grid_auto_flow": null,
            "grid_auto_rows": null,
            "grid_column": null,
            "grid_gap": null,
            "grid_row": null,
            "grid_template_areas": null,
            "grid_template_columns": null,
            "grid_template_rows": null,
            "height": null,
            "justify_content": null,
            "justify_items": null,
            "left": null,
            "margin": null,
            "max_height": null,
            "max_width": null,
            "min_height": null,
            "min_width": null,
            "object_fit": null,
            "object_position": null,
            "order": null,
            "overflow": null,
            "overflow_x": null,
            "overflow_y": null,
            "padding": null,
            "right": null,
            "top": null,
            "visibility": null,
            "width": null
          }
        },
        "ed1ca2356b72441fb376e5a00002d50a": {
          "model_module": "@jupyter-widgets/controls",
          "model_name": "ProgressStyleModel",
          "model_module_version": "1.5.0",
          "state": {
            "_model_module": "@jupyter-widgets/controls",
            "_model_module_version": "1.5.0",
            "_model_name": "ProgressStyleModel",
            "_view_count": null,
            "_view_module": "@jupyter-widgets/base",
            "_view_module_version": "1.2.0",
            "_view_name": "StyleView",
            "bar_color": null,
            "description_width": ""
          }
        },
        "41d6a3b82a9641b7ab1aa05b49a7456e": {
          "model_module": "@jupyter-widgets/base",
          "model_name": "LayoutModel",
          "model_module_version": "1.2.0",
          "state": {
            "_model_module": "@jupyter-widgets/base",
            "_model_module_version": "1.2.0",
            "_model_name": "LayoutModel",
            "_view_count": null,
            "_view_module": "@jupyter-widgets/base",
            "_view_module_version": "1.2.0",
            "_view_name": "LayoutView",
            "align_content": null,
            "align_items": null,
            "align_self": null,
            "border": null,
            "bottom": null,
            "display": null,
            "flex": null,
            "flex_flow": null,
            "grid_area": null,
            "grid_auto_columns": null,
            "grid_auto_flow": null,
            "grid_auto_rows": null,
            "grid_column": null,
            "grid_gap": null,
            "grid_row": null,
            "grid_template_areas": null,
            "grid_template_columns": null,
            "grid_template_rows": null,
            "height": null,
            "justify_content": null,
            "justify_items": null,
            "left": null,
            "margin": null,
            "max_height": null,
            "max_width": null,
            "min_height": null,
            "min_width": null,
            "object_fit": null,
            "object_position": null,
            "order": null,
            "overflow": null,
            "overflow_x": null,
            "overflow_y": null,
            "padding": null,
            "right": null,
            "top": null,
            "visibility": null,
            "width": null
          }
        },
        "7d12b1d780c240ff94ada6f4dda92b83": {
          "model_module": "@jupyter-widgets/controls",
          "model_name": "DescriptionStyleModel",
          "model_module_version": "1.5.0",
          "state": {
            "_model_module": "@jupyter-widgets/controls",
            "_model_module_version": "1.5.0",
            "_model_name": "DescriptionStyleModel",
            "_view_count": null,
            "_view_module": "@jupyter-widgets/base",
            "_view_module_version": "1.2.0",
            "_view_name": "StyleView",
            "description_width": ""
          }
        },
        "bb8c033602e64bc08ec4ac0279261f11": {
          "model_module": "@jupyter-widgets/controls",
          "model_name": "HBoxModel",
          "model_module_version": "1.5.0",
          "state": {
            "_dom_classes": [],
            "_model_module": "@jupyter-widgets/controls",
            "_model_module_version": "1.5.0",
            "_model_name": "HBoxModel",
            "_view_count": null,
            "_view_module": "@jupyter-widgets/controls",
            "_view_module_version": "1.5.0",
            "_view_name": "HBoxView",
            "box_style": "",
            "children": [
              "IPY_MODEL_35e27416cb504d4fa49fe536793938df",
              "IPY_MODEL_1e0cd5f49c054202bac5b499e71bda83",
              "IPY_MODEL_b4e549062bfc49d4b2732a05a89c723c"
            ],
            "layout": "IPY_MODEL_f4e125ddf67f4936807c6e53496e7a8f"
          }
        },
        "35e27416cb504d4fa49fe536793938df": {
          "model_module": "@jupyter-widgets/controls",
          "model_name": "HTMLModel",
          "model_module_version": "1.5.0",
          "state": {
            "_dom_classes": [],
            "_model_module": "@jupyter-widgets/controls",
            "_model_module_version": "1.5.0",
            "_model_name": "HTMLModel",
            "_view_count": null,
            "_view_module": "@jupyter-widgets/controls",
            "_view_module_version": "1.5.0",
            "_view_name": "HTMLView",
            "description": "",
            "description_tooltip": null,
            "layout": "IPY_MODEL_5a635098200140018a7b0d9bfc0006ac",
            "placeholder": "​",
            "style": "IPY_MODEL_54db09675ed0451b98adf580bb89d771",
            "value": "vocab.txt: 100%"
          }
        },
        "1e0cd5f49c054202bac5b499e71bda83": {
          "model_module": "@jupyter-widgets/controls",
          "model_name": "FloatProgressModel",
          "model_module_version": "1.5.0",
          "state": {
            "_dom_classes": [],
            "_model_module": "@jupyter-widgets/controls",
            "_model_module_version": "1.5.0",
            "_model_name": "FloatProgressModel",
            "_view_count": null,
            "_view_module": "@jupyter-widgets/controls",
            "_view_module_version": "1.5.0",
            "_view_name": "ProgressView",
            "bar_style": "success",
            "description": "",
            "description_tooltip": null,
            "layout": "IPY_MODEL_77522b234e1a4d7eb6d57f9ae2419011",
            "max": 248477,
            "min": 0,
            "orientation": "horizontal",
            "style": "IPY_MODEL_52d0fdbe87c14c61ad4e480d0cdb538f",
            "value": 248477
          }
        },
        "b4e549062bfc49d4b2732a05a89c723c": {
          "model_module": "@jupyter-widgets/controls",
          "model_name": "HTMLModel",
          "model_module_version": "1.5.0",
          "state": {
            "_dom_classes": [],
            "_model_module": "@jupyter-widgets/controls",
            "_model_module_version": "1.5.0",
            "_model_name": "HTMLModel",
            "_view_count": null,
            "_view_module": "@jupyter-widgets/controls",
            "_view_module_version": "1.5.0",
            "_view_name": "HTMLView",
            "description": "",
            "description_tooltip": null,
            "layout": "IPY_MODEL_35fe3f0830694f95ac5da3b652d0f31b",
            "placeholder": "​",
            "style": "IPY_MODEL_68a4db180b2543a9b6cbd8fdf06432e7",
            "value": " 248k/248k [00:00&lt;00:00, 16.4MB/s]"
          }
        },
        "f4e125ddf67f4936807c6e53496e7a8f": {
          "model_module": "@jupyter-widgets/base",
          "model_name": "LayoutModel",
          "model_module_version": "1.2.0",
          "state": {
            "_model_module": "@jupyter-widgets/base",
            "_model_module_version": "1.2.0",
            "_model_name": "LayoutModel",
            "_view_count": null,
            "_view_module": "@jupyter-widgets/base",
            "_view_module_version": "1.2.0",
            "_view_name": "LayoutView",
            "align_content": null,
            "align_items": null,
            "align_self": null,
            "border": null,
            "bottom": null,
            "display": null,
            "flex": null,
            "flex_flow": null,
            "grid_area": null,
            "grid_auto_columns": null,
            "grid_auto_flow": null,
            "grid_auto_rows": null,
            "grid_column": null,
            "grid_gap": null,
            "grid_row": null,
            "grid_template_areas": null,
            "grid_template_columns": null,
            "grid_template_rows": null,
            "height": null,
            "justify_content": null,
            "justify_items": null,
            "left": null,
            "margin": null,
            "max_height": null,
            "max_width": null,
            "min_height": null,
            "min_width": null,
            "object_fit": null,
            "object_position": null,
            "order": null,
            "overflow": null,
            "overflow_x": null,
            "overflow_y": null,
            "padding": null,
            "right": null,
            "top": null,
            "visibility": null,
            "width": null
          }
        },
        "5a635098200140018a7b0d9bfc0006ac": {
          "model_module": "@jupyter-widgets/base",
          "model_name": "LayoutModel",
          "model_module_version": "1.2.0",
          "state": {
            "_model_module": "@jupyter-widgets/base",
            "_model_module_version": "1.2.0",
            "_model_name": "LayoutModel",
            "_view_count": null,
            "_view_module": "@jupyter-widgets/base",
            "_view_module_version": "1.2.0",
            "_view_name": "LayoutView",
            "align_content": null,
            "align_items": null,
            "align_self": null,
            "border": null,
            "bottom": null,
            "display": null,
            "flex": null,
            "flex_flow": null,
            "grid_area": null,
            "grid_auto_columns": null,
            "grid_auto_flow": null,
            "grid_auto_rows": null,
            "grid_column": null,
            "grid_gap": null,
            "grid_row": null,
            "grid_template_areas": null,
            "grid_template_columns": null,
            "grid_template_rows": null,
            "height": null,
            "justify_content": null,
            "justify_items": null,
            "left": null,
            "margin": null,
            "max_height": null,
            "max_width": null,
            "min_height": null,
            "min_width": null,
            "object_fit": null,
            "object_position": null,
            "order": null,
            "overflow": null,
            "overflow_x": null,
            "overflow_y": null,
            "padding": null,
            "right": null,
            "top": null,
            "visibility": null,
            "width": null
          }
        },
        "54db09675ed0451b98adf580bb89d771": {
          "model_module": "@jupyter-widgets/controls",
          "model_name": "DescriptionStyleModel",
          "model_module_version": "1.5.0",
          "state": {
            "_model_module": "@jupyter-widgets/controls",
            "_model_module_version": "1.5.0",
            "_model_name": "DescriptionStyleModel",
            "_view_count": null,
            "_view_module": "@jupyter-widgets/base",
            "_view_module_version": "1.2.0",
            "_view_name": "StyleView",
            "description_width": ""
          }
        },
        "77522b234e1a4d7eb6d57f9ae2419011": {
          "model_module": "@jupyter-widgets/base",
          "model_name": "LayoutModel",
          "model_module_version": "1.2.0",
          "state": {
            "_model_module": "@jupyter-widgets/base",
            "_model_module_version": "1.2.0",
            "_model_name": "LayoutModel",
            "_view_count": null,
            "_view_module": "@jupyter-widgets/base",
            "_view_module_version": "1.2.0",
            "_view_name": "LayoutView",
            "align_content": null,
            "align_items": null,
            "align_self": null,
            "border": null,
            "bottom": null,
            "display": null,
            "flex": null,
            "flex_flow": null,
            "grid_area": null,
            "grid_auto_columns": null,
            "grid_auto_flow": null,
            "grid_auto_rows": null,
            "grid_column": null,
            "grid_gap": null,
            "grid_row": null,
            "grid_template_areas": null,
            "grid_template_columns": null,
            "grid_template_rows": null,
            "height": null,
            "justify_content": null,
            "justify_items": null,
            "left": null,
            "margin": null,
            "max_height": null,
            "max_width": null,
            "min_height": null,
            "min_width": null,
            "object_fit": null,
            "object_position": null,
            "order": null,
            "overflow": null,
            "overflow_x": null,
            "overflow_y": null,
            "padding": null,
            "right": null,
            "top": null,
            "visibility": null,
            "width": null
          }
        },
        "52d0fdbe87c14c61ad4e480d0cdb538f": {
          "model_module": "@jupyter-widgets/controls",
          "model_name": "ProgressStyleModel",
          "model_module_version": "1.5.0",
          "state": {
            "_model_module": "@jupyter-widgets/controls",
            "_model_module_version": "1.5.0",
            "_model_name": "ProgressStyleModel",
            "_view_count": null,
            "_view_module": "@jupyter-widgets/base",
            "_view_module_version": "1.2.0",
            "_view_name": "StyleView",
            "bar_color": null,
            "description_width": ""
          }
        },
        "35fe3f0830694f95ac5da3b652d0f31b": {
          "model_module": "@jupyter-widgets/base",
          "model_name": "LayoutModel",
          "model_module_version": "1.2.0",
          "state": {
            "_model_module": "@jupyter-widgets/base",
            "_model_module_version": "1.2.0",
            "_model_name": "LayoutModel",
            "_view_count": null,
            "_view_module": "@jupyter-widgets/base",
            "_view_module_version": "1.2.0",
            "_view_name": "LayoutView",
            "align_content": null,
            "align_items": null,
            "align_self": null,
            "border": null,
            "bottom": null,
            "display": null,
            "flex": null,
            "flex_flow": null,
            "grid_area": null,
            "grid_auto_columns": null,
            "grid_auto_flow": null,
            "grid_auto_rows": null,
            "grid_column": null,
            "grid_gap": null,
            "grid_row": null,
            "grid_template_areas": null,
            "grid_template_columns": null,
            "grid_template_rows": null,
            "height": null,
            "justify_content": null,
            "justify_items": null,
            "left": null,
            "margin": null,
            "max_height": null,
            "max_width": null,
            "min_height": null,
            "min_width": null,
            "object_fit": null,
            "object_position": null,
            "order": null,
            "overflow": null,
            "overflow_x": null,
            "overflow_y": null,
            "padding": null,
            "right": null,
            "top": null,
            "visibility": null,
            "width": null
          }
        },
        "68a4db180b2543a9b6cbd8fdf06432e7": {
          "model_module": "@jupyter-widgets/controls",
          "model_name": "DescriptionStyleModel",
          "model_module_version": "1.5.0",
          "state": {
            "_model_module": "@jupyter-widgets/controls",
            "_model_module_version": "1.5.0",
            "_model_name": "DescriptionStyleModel",
            "_view_count": null,
            "_view_module": "@jupyter-widgets/base",
            "_view_module_version": "1.2.0",
            "_view_name": "StyleView",
            "description_width": ""
          }
        },
        "2f03abc6e13f4afe8746a6cb4e4f36d5": {
          "model_module": "@jupyter-widgets/controls",
          "model_name": "HBoxModel",
          "model_module_version": "1.5.0",
          "state": {
            "_dom_classes": [],
            "_model_module": "@jupyter-widgets/controls",
            "_model_module_version": "1.5.0",
            "_model_name": "HBoxModel",
            "_view_count": null,
            "_view_module": "@jupyter-widgets/controls",
            "_view_module_version": "1.5.0",
            "_view_name": "HBoxView",
            "box_style": "",
            "children": [
              "IPY_MODEL_1c5df565a22d4e84ac02d0a39561948b",
              "IPY_MODEL_3e649488406c4f0b93683375cdbedd80",
              "IPY_MODEL_ddb7b1c7954348c6820bf9b34adb92e2"
            ],
            "layout": "IPY_MODEL_de3bed5e2265443ba72b6a08e6791783"
          }
        },
        "1c5df565a22d4e84ac02d0a39561948b": {
          "model_module": "@jupyter-widgets/controls",
          "model_name": "HTMLModel",
          "model_module_version": "1.5.0",
          "state": {
            "_dom_classes": [],
            "_model_module": "@jupyter-widgets/controls",
            "_model_module_version": "1.5.0",
            "_model_name": "HTMLModel",
            "_view_count": null,
            "_view_module": "@jupyter-widgets/controls",
            "_view_module_version": "1.5.0",
            "_view_name": "HTMLView",
            "description": "",
            "description_tooltip": null,
            "layout": "IPY_MODEL_cd66d9fed61648239f4275fdb561c825",
            "placeholder": "​",
            "style": "IPY_MODEL_e135c72c58ea407ea1073d3fb4256abd",
            "value": "tokenizer.json: 100%"
          }
        },
        "3e649488406c4f0b93683375cdbedd80": {
          "model_module": "@jupyter-widgets/controls",
          "model_name": "FloatProgressModel",
          "model_module_version": "1.5.0",
          "state": {
            "_dom_classes": [],
            "_model_module": "@jupyter-widgets/controls",
            "_model_module_version": "1.5.0",
            "_model_name": "FloatProgressModel",
            "_view_count": null,
            "_view_module": "@jupyter-widgets/controls",
            "_view_module_version": "1.5.0",
            "_view_name": "ProgressView",
            "bar_style": "success",
            "description": "",
            "description_tooltip": null,
            "layout": "IPY_MODEL_b59783bb5e7f4be1950ffe51fd6382ea",
            "max": 494860,
            "min": 0,
            "orientation": "horizontal",
            "style": "IPY_MODEL_68603c105fcf458baa1314baabf0b46c",
            "value": 494860
          }
        },
        "ddb7b1c7954348c6820bf9b34adb92e2": {
          "model_module": "@jupyter-widgets/controls",
          "model_name": "HTMLModel",
          "model_module_version": "1.5.0",
          "state": {
            "_dom_classes": [],
            "_model_module": "@jupyter-widgets/controls",
            "_model_module_version": "1.5.0",
            "_model_name": "HTMLModel",
            "_view_count": null,
            "_view_module": "@jupyter-widgets/controls",
            "_view_module_version": "1.5.0",
            "_view_name": "HTMLView",
            "description": "",
            "description_tooltip": null,
            "layout": "IPY_MODEL_3f2f899f770742bfb106a553f0307e6c",
            "placeholder": "​",
            "style": "IPY_MODEL_52a148c36eb4472381b108485c826b18",
            "value": " 495k/495k [00:00&lt;00:00, 33.7MB/s]"
          }
        },
        "de3bed5e2265443ba72b6a08e6791783": {
          "model_module": "@jupyter-widgets/base",
          "model_name": "LayoutModel",
          "model_module_version": "1.2.0",
          "state": {
            "_model_module": "@jupyter-widgets/base",
            "_model_module_version": "1.2.0",
            "_model_name": "LayoutModel",
            "_view_count": null,
            "_view_module": "@jupyter-widgets/base",
            "_view_module_version": "1.2.0",
            "_view_name": "LayoutView",
            "align_content": null,
            "align_items": null,
            "align_self": null,
            "border": null,
            "bottom": null,
            "display": null,
            "flex": null,
            "flex_flow": null,
            "grid_area": null,
            "grid_auto_columns": null,
            "grid_auto_flow": null,
            "grid_auto_rows": null,
            "grid_column": null,
            "grid_gap": null,
            "grid_row": null,
            "grid_template_areas": null,
            "grid_template_columns": null,
            "grid_template_rows": null,
            "height": null,
            "justify_content": null,
            "justify_items": null,
            "left": null,
            "margin": null,
            "max_height": null,
            "max_width": null,
            "min_height": null,
            "min_width": null,
            "object_fit": null,
            "object_position": null,
            "order": null,
            "overflow": null,
            "overflow_x": null,
            "overflow_y": null,
            "padding": null,
            "right": null,
            "top": null,
            "visibility": null,
            "width": null
          }
        },
        "cd66d9fed61648239f4275fdb561c825": {
          "model_module": "@jupyter-widgets/base",
          "model_name": "LayoutModel",
          "model_module_version": "1.2.0",
          "state": {
            "_model_module": "@jupyter-widgets/base",
            "_model_module_version": "1.2.0",
            "_model_name": "LayoutModel",
            "_view_count": null,
            "_view_module": "@jupyter-widgets/base",
            "_view_module_version": "1.2.0",
            "_view_name": "LayoutView",
            "align_content": null,
            "align_items": null,
            "align_self": null,
            "border": null,
            "bottom": null,
            "display": null,
            "flex": null,
            "flex_flow": null,
            "grid_area": null,
            "grid_auto_columns": null,
            "grid_auto_flow": null,
            "grid_auto_rows": null,
            "grid_column": null,
            "grid_gap": null,
            "grid_row": null,
            "grid_template_areas": null,
            "grid_template_columns": null,
            "grid_template_rows": null,
            "height": null,
            "justify_content": null,
            "justify_items": null,
            "left": null,
            "margin": null,
            "max_height": null,
            "max_width": null,
            "min_height": null,
            "min_width": null,
            "object_fit": null,
            "object_position": null,
            "order": null,
            "overflow": null,
            "overflow_x": null,
            "overflow_y": null,
            "padding": null,
            "right": null,
            "top": null,
            "visibility": null,
            "width": null
          }
        },
        "e135c72c58ea407ea1073d3fb4256abd": {
          "model_module": "@jupyter-widgets/controls",
          "model_name": "DescriptionStyleModel",
          "model_module_version": "1.5.0",
          "state": {
            "_model_module": "@jupyter-widgets/controls",
            "_model_module_version": "1.5.0",
            "_model_name": "DescriptionStyleModel",
            "_view_count": null,
            "_view_module": "@jupyter-widgets/base",
            "_view_module_version": "1.2.0",
            "_view_name": "StyleView",
            "description_width": ""
          }
        },
        "b59783bb5e7f4be1950ffe51fd6382ea": {
          "model_module": "@jupyter-widgets/base",
          "model_name": "LayoutModel",
          "model_module_version": "1.2.0",
          "state": {
            "_model_module": "@jupyter-widgets/base",
            "_model_module_version": "1.2.0",
            "_model_name": "LayoutModel",
            "_view_count": null,
            "_view_module": "@jupyter-widgets/base",
            "_view_module_version": "1.2.0",
            "_view_name": "LayoutView",
            "align_content": null,
            "align_items": null,
            "align_self": null,
            "border": null,
            "bottom": null,
            "display": null,
            "flex": null,
            "flex_flow": null,
            "grid_area": null,
            "grid_auto_columns": null,
            "grid_auto_flow": null,
            "grid_auto_rows": null,
            "grid_column": null,
            "grid_gap": null,
            "grid_row": null,
            "grid_template_areas": null,
            "grid_template_columns": null,
            "grid_template_rows": null,
            "height": null,
            "justify_content": null,
            "justify_items": null,
            "left": null,
            "margin": null,
            "max_height": null,
            "max_width": null,
            "min_height": null,
            "min_width": null,
            "object_fit": null,
            "object_position": null,
            "order": null,
            "overflow": null,
            "overflow_x": null,
            "overflow_y": null,
            "padding": null,
            "right": null,
            "top": null,
            "visibility": null,
            "width": null
          }
        },
        "68603c105fcf458baa1314baabf0b46c": {
          "model_module": "@jupyter-widgets/controls",
          "model_name": "ProgressStyleModel",
          "model_module_version": "1.5.0",
          "state": {
            "_model_module": "@jupyter-widgets/controls",
            "_model_module_version": "1.5.0",
            "_model_name": "ProgressStyleModel",
            "_view_count": null,
            "_view_module": "@jupyter-widgets/base",
            "_view_module_version": "1.2.0",
            "_view_name": "StyleView",
            "bar_color": null,
            "description_width": ""
          }
        },
        "3f2f899f770742bfb106a553f0307e6c": {
          "model_module": "@jupyter-widgets/base",
          "model_name": "LayoutModel",
          "model_module_version": "1.2.0",
          "state": {
            "_model_module": "@jupyter-widgets/base",
            "_model_module_version": "1.2.0",
            "_model_name": "LayoutModel",
            "_view_count": null,
            "_view_module": "@jupyter-widgets/base",
            "_view_module_version": "1.2.0",
            "_view_name": "LayoutView",
            "align_content": null,
            "align_items": null,
            "align_self": null,
            "border": null,
            "bottom": null,
            "display": null,
            "flex": null,
            "flex_flow": null,
            "grid_area": null,
            "grid_auto_columns": null,
            "grid_auto_flow": null,
            "grid_auto_rows": null,
            "grid_column": null,
            "grid_gap": null,
            "grid_row": null,
            "grid_template_areas": null,
            "grid_template_columns": null,
            "grid_template_rows": null,
            "height": null,
            "justify_content": null,
            "justify_items": null,
            "left": null,
            "margin": null,
            "max_height": null,
            "max_width": null,
            "min_height": null,
            "min_width": null,
            "object_fit": null,
            "object_position": null,
            "order": null,
            "overflow": null,
            "overflow_x": null,
            "overflow_y": null,
            "padding": null,
            "right": null,
            "top": null,
            "visibility": null,
            "width": null
          }
        },
        "52a148c36eb4472381b108485c826b18": {
          "model_module": "@jupyter-widgets/controls",
          "model_name": "DescriptionStyleModel",
          "model_module_version": "1.5.0",
          "state": {
            "_model_module": "@jupyter-widgets/controls",
            "_model_module_version": "1.5.0",
            "_model_name": "DescriptionStyleModel",
            "_view_count": null,
            "_view_module": "@jupyter-widgets/base",
            "_view_module_version": "1.2.0",
            "_view_name": "StyleView",
            "description_width": ""
          }
        },
        "ca6a9245bc6a4f92be6ca3658ff881ee": {
          "model_module": "@jupyter-widgets/controls",
          "model_name": "HBoxModel",
          "model_module_version": "1.5.0",
          "state": {
            "_dom_classes": [],
            "_model_module": "@jupyter-widgets/controls",
            "_model_module_version": "1.5.0",
            "_model_name": "HBoxModel",
            "_view_count": null,
            "_view_module": "@jupyter-widgets/controls",
            "_view_module_version": "1.5.0",
            "_view_name": "HBoxView",
            "box_style": "",
            "children": [
              "IPY_MODEL_a500858863ab424ea65556ebd30fa7c5",
              "IPY_MODEL_fdd8c1d9ff114681aa0cca1c92f9ca95",
              "IPY_MODEL_bb88fbec70164c64867b5ed1d1cfd9f3"
            ],
            "layout": "IPY_MODEL_cefd0bac11b24ee581acd79b8e731fd8"
          }
        },
        "a500858863ab424ea65556ebd30fa7c5": {
          "model_module": "@jupyter-widgets/controls",
          "model_name": "HTMLModel",
          "model_module_version": "1.5.0",
          "state": {
            "_dom_classes": [],
            "_model_module": "@jupyter-widgets/controls",
            "_model_module_version": "1.5.0",
            "_model_name": "HTMLModel",
            "_view_count": null,
            "_view_module": "@jupyter-widgets/controls",
            "_view_module_version": "1.5.0",
            "_view_name": "HTMLView",
            "description": "",
            "description_tooltip": null,
            "layout": "IPY_MODEL_59dec13f73374ce09894927668fe4554",
            "placeholder": "​",
            "style": "IPY_MODEL_725969ef7f86483785034001e307db17",
            "value": "special_tokens_map.json: 100%"
          }
        },
        "fdd8c1d9ff114681aa0cca1c92f9ca95": {
          "model_module": "@jupyter-widgets/controls",
          "model_name": "FloatProgressModel",
          "model_module_version": "1.5.0",
          "state": {
            "_dom_classes": [],
            "_model_module": "@jupyter-widgets/controls",
            "_model_module_version": "1.5.0",
            "_model_name": "FloatProgressModel",
            "_view_count": null,
            "_view_module": "@jupyter-widgets/controls",
            "_view_module_version": "1.5.0",
            "_view_name": "ProgressView",
            "bar_style": "success",
            "description": "",
            "description_tooltip": null,
            "layout": "IPY_MODEL_e4f6751efcd9486fb52f95c0bf6161e0",
            "max": 125,
            "min": 0,
            "orientation": "horizontal",
            "style": "IPY_MODEL_6055bbcecb4a47b9a862347177262465",
            "value": 125
          }
        },
        "bb88fbec70164c64867b5ed1d1cfd9f3": {
          "model_module": "@jupyter-widgets/controls",
          "model_name": "HTMLModel",
          "model_module_version": "1.5.0",
          "state": {
            "_dom_classes": [],
            "_model_module": "@jupyter-widgets/controls",
            "_model_module_version": "1.5.0",
            "_model_name": "HTMLModel",
            "_view_count": null,
            "_view_module": "@jupyter-widgets/controls",
            "_view_module_version": "1.5.0",
            "_view_name": "HTMLView",
            "description": "",
            "description_tooltip": null,
            "layout": "IPY_MODEL_86b15c50d5894ddb944640f415f19287",
            "placeholder": "​",
            "style": "IPY_MODEL_b926f902929f4ee1a7a06667a581126c",
            "value": " 125/125 [00:00&lt;00:00, 11.9kB/s]"
          }
        },
        "cefd0bac11b24ee581acd79b8e731fd8": {
          "model_module": "@jupyter-widgets/base",
          "model_name": "LayoutModel",
          "model_module_version": "1.2.0",
          "state": {
            "_model_module": "@jupyter-widgets/base",
            "_model_module_version": "1.2.0",
            "_model_name": "LayoutModel",
            "_view_count": null,
            "_view_module": "@jupyter-widgets/base",
            "_view_module_version": "1.2.0",
            "_view_name": "LayoutView",
            "align_content": null,
            "align_items": null,
            "align_self": null,
            "border": null,
            "bottom": null,
            "display": null,
            "flex": null,
            "flex_flow": null,
            "grid_area": null,
            "grid_auto_columns": null,
            "grid_auto_flow": null,
            "grid_auto_rows": null,
            "grid_column": null,
            "grid_gap": null,
            "grid_row": null,
            "grid_template_areas": null,
            "grid_template_columns": null,
            "grid_template_rows": null,
            "height": null,
            "justify_content": null,
            "justify_items": null,
            "left": null,
            "margin": null,
            "max_height": null,
            "max_width": null,
            "min_height": null,
            "min_width": null,
            "object_fit": null,
            "object_position": null,
            "order": null,
            "overflow": null,
            "overflow_x": null,
            "overflow_y": null,
            "padding": null,
            "right": null,
            "top": null,
            "visibility": null,
            "width": null
          }
        },
        "59dec13f73374ce09894927668fe4554": {
          "model_module": "@jupyter-widgets/base",
          "model_name": "LayoutModel",
          "model_module_version": "1.2.0",
          "state": {
            "_model_module": "@jupyter-widgets/base",
            "_model_module_version": "1.2.0",
            "_model_name": "LayoutModel",
            "_view_count": null,
            "_view_module": "@jupyter-widgets/base",
            "_view_module_version": "1.2.0",
            "_view_name": "LayoutView",
            "align_content": null,
            "align_items": null,
            "align_self": null,
            "border": null,
            "bottom": null,
            "display": null,
            "flex": null,
            "flex_flow": null,
            "grid_area": null,
            "grid_auto_columns": null,
            "grid_auto_flow": null,
            "grid_auto_rows": null,
            "grid_column": null,
            "grid_gap": null,
            "grid_row": null,
            "grid_template_areas": null,
            "grid_template_columns": null,
            "grid_template_rows": null,
            "height": null,
            "justify_content": null,
            "justify_items": null,
            "left": null,
            "margin": null,
            "max_height": null,
            "max_width": null,
            "min_height": null,
            "min_width": null,
            "object_fit": null,
            "object_position": null,
            "order": null,
            "overflow": null,
            "overflow_x": null,
            "overflow_y": null,
            "padding": null,
            "right": null,
            "top": null,
            "visibility": null,
            "width": null
          }
        },
        "725969ef7f86483785034001e307db17": {
          "model_module": "@jupyter-widgets/controls",
          "model_name": "DescriptionStyleModel",
          "model_module_version": "1.5.0",
          "state": {
            "_model_module": "@jupyter-widgets/controls",
            "_model_module_version": "1.5.0",
            "_model_name": "DescriptionStyleModel",
            "_view_count": null,
            "_view_module": "@jupyter-widgets/base",
            "_view_module_version": "1.2.0",
            "_view_name": "StyleView",
            "description_width": ""
          }
        },
        "e4f6751efcd9486fb52f95c0bf6161e0": {
          "model_module": "@jupyter-widgets/base",
          "model_name": "LayoutModel",
          "model_module_version": "1.2.0",
          "state": {
            "_model_module": "@jupyter-widgets/base",
            "_model_module_version": "1.2.0",
            "_model_name": "LayoutModel",
            "_view_count": null,
            "_view_module": "@jupyter-widgets/base",
            "_view_module_version": "1.2.0",
            "_view_name": "LayoutView",
            "align_content": null,
            "align_items": null,
            "align_self": null,
            "border": null,
            "bottom": null,
            "display": null,
            "flex": null,
            "flex_flow": null,
            "grid_area": null,
            "grid_auto_columns": null,
            "grid_auto_flow": null,
            "grid_auto_rows": null,
            "grid_column": null,
            "grid_gap": null,
            "grid_row": null,
            "grid_template_areas": null,
            "grid_template_columns": null,
            "grid_template_rows": null,
            "height": null,
            "justify_content": null,
            "justify_items": null,
            "left": null,
            "margin": null,
            "max_height": null,
            "max_width": null,
            "min_height": null,
            "min_width": null,
            "object_fit": null,
            "object_position": null,
            "order": null,
            "overflow": null,
            "overflow_x": null,
            "overflow_y": null,
            "padding": null,
            "right": null,
            "top": null,
            "visibility": null,
            "width": null
          }
        },
        "6055bbcecb4a47b9a862347177262465": {
          "model_module": "@jupyter-widgets/controls",
          "model_name": "ProgressStyleModel",
          "model_module_version": "1.5.0",
          "state": {
            "_model_module": "@jupyter-widgets/controls",
            "_model_module_version": "1.5.0",
            "_model_name": "ProgressStyleModel",
            "_view_count": null,
            "_view_module": "@jupyter-widgets/base",
            "_view_module_version": "1.2.0",
            "_view_name": "StyleView",
            "bar_color": null,
            "description_width": ""
          }
        },
        "86b15c50d5894ddb944640f415f19287": {
          "model_module": "@jupyter-widgets/base",
          "model_name": "LayoutModel",
          "model_module_version": "1.2.0",
          "state": {
            "_model_module": "@jupyter-widgets/base",
            "_model_module_version": "1.2.0",
            "_model_name": "LayoutModel",
            "_view_count": null,
            "_view_module": "@jupyter-widgets/base",
            "_view_module_version": "1.2.0",
            "_view_name": "LayoutView",
            "align_content": null,
            "align_items": null,
            "align_self": null,
            "border": null,
            "bottom": null,
            "display": null,
            "flex": null,
            "flex_flow": null,
            "grid_area": null,
            "grid_auto_columns": null,
            "grid_auto_flow": null,
            "grid_auto_rows": null,
            "grid_column": null,
            "grid_gap": null,
            "grid_row": null,
            "grid_template_areas": null,
            "grid_template_columns": null,
            "grid_template_rows": null,
            "height": null,
            "justify_content": null,
            "justify_items": null,
            "left": null,
            "margin": null,
            "max_height": null,
            "max_width": null,
            "min_height": null,
            "min_width": null,
            "object_fit": null,
            "object_position": null,
            "order": null,
            "overflow": null,
            "overflow_x": null,
            "overflow_y": null,
            "padding": null,
            "right": null,
            "top": null,
            "visibility": null,
            "width": null
          }
        },
        "b926f902929f4ee1a7a06667a581126c": {
          "model_module": "@jupyter-widgets/controls",
          "model_name": "DescriptionStyleModel",
          "model_module_version": "1.5.0",
          "state": {
            "_model_module": "@jupyter-widgets/controls",
            "_model_module_version": "1.5.0",
            "_model_name": "DescriptionStyleModel",
            "_view_count": null,
            "_view_module": "@jupyter-widgets/base",
            "_view_module_version": "1.2.0",
            "_view_name": "StyleView",
            "description_width": ""
          }
        },
        "7a8dce037d504a6ca46d1fc02706fc31": {
          "model_module": "@jupyter-widgets/controls",
          "model_name": "HBoxModel",
          "model_module_version": "1.5.0",
          "state": {
            "_dom_classes": [],
            "_model_module": "@jupyter-widgets/controls",
            "_model_module_version": "1.5.0",
            "_model_name": "HBoxModel",
            "_view_count": null,
            "_view_module": "@jupyter-widgets/controls",
            "_view_module_version": "1.5.0",
            "_view_name": "HBoxView",
            "box_style": "",
            "children": [
              "IPY_MODEL_a9d8ef6d185e4a49b92d7681bed4e7ea",
              "IPY_MODEL_74b18593c2414ad69ebefaf32817935a",
              "IPY_MODEL_2639eea82d2f4d41932a9bef1bfcb96f"
            ],
            "layout": "IPY_MODEL_ef7e096f239e40edb114d296c5a1f17c"
          }
        },
        "a9d8ef6d185e4a49b92d7681bed4e7ea": {
          "model_module": "@jupyter-widgets/controls",
          "model_name": "HTMLModel",
          "model_module_version": "1.5.0",
          "state": {
            "_dom_classes": [],
            "_model_module": "@jupyter-widgets/controls",
            "_model_module_version": "1.5.0",
            "_model_name": "HTMLModel",
            "_view_count": null,
            "_view_module": "@jupyter-widgets/controls",
            "_view_module_version": "1.5.0",
            "_view_name": "HTMLView",
            "description": "",
            "description_tooltip": null,
            "layout": "IPY_MODEL_faab8af77cca434ba6ed8ef4688e9211",
            "placeholder": "​",
            "style": "IPY_MODEL_f2358474a1804aa8b7610cc1dc8bdc29",
            "value": "pytorch_model.bin: 100%"
          }
        },
        "74b18593c2414ad69ebefaf32817935a": {
          "model_module": "@jupyter-widgets/controls",
          "model_name": "FloatProgressModel",
          "model_module_version": "1.5.0",
          "state": {
            "_dom_classes": [],
            "_model_module": "@jupyter-widgets/controls",
            "_model_module_version": "1.5.0",
            "_model_name": "FloatProgressModel",
            "_view_count": null,
            "_view_module": "@jupyter-widgets/controls",
            "_view_module_version": "1.5.0",
            "_view_name": "ProgressView",
            "bar_style": "success",
            "description": "",
            "description_tooltip": null,
            "layout": "IPY_MODEL_4e9970b11094416783f48eeecca59f49",
            "max": 445025130,
            "min": 0,
            "orientation": "horizontal",
            "style": "IPY_MODEL_8592bfe18c1c44df99978f9e80249ee1",
            "value": 445025130
          }
        },
        "2639eea82d2f4d41932a9bef1bfcb96f": {
          "model_module": "@jupyter-widgets/controls",
          "model_name": "HTMLModel",
          "model_module_version": "1.5.0",
          "state": {
            "_dom_classes": [],
            "_model_module": "@jupyter-widgets/controls",
            "_model_module_version": "1.5.0",
            "_model_name": "HTMLModel",
            "_view_count": null,
            "_view_module": "@jupyter-widgets/controls",
            "_view_module_version": "1.5.0",
            "_view_name": "HTMLView",
            "description": "",
            "description_tooltip": null,
            "layout": "IPY_MODEL_fc267f83e1bd4e1c87a2d94130f7ba6c",
            "placeholder": "​",
            "style": "IPY_MODEL_15a37f2ecbf94ab1bd1488a43f43e8b1",
            "value": " 445M/445M [00:01&lt;00:00, 196MB/s]"
          }
        },
        "ef7e096f239e40edb114d296c5a1f17c": {
          "model_module": "@jupyter-widgets/base",
          "model_name": "LayoutModel",
          "model_module_version": "1.2.0",
          "state": {
            "_model_module": "@jupyter-widgets/base",
            "_model_module_version": "1.2.0",
            "_model_name": "LayoutModel",
            "_view_count": null,
            "_view_module": "@jupyter-widgets/base",
            "_view_module_version": "1.2.0",
            "_view_name": "LayoutView",
            "align_content": null,
            "align_items": null,
            "align_self": null,
            "border": null,
            "bottom": null,
            "display": null,
            "flex": null,
            "flex_flow": null,
            "grid_area": null,
            "grid_auto_columns": null,
            "grid_auto_flow": null,
            "grid_auto_rows": null,
            "grid_column": null,
            "grid_gap": null,
            "grid_row": null,
            "grid_template_areas": null,
            "grid_template_columns": null,
            "grid_template_rows": null,
            "height": null,
            "justify_content": null,
            "justify_items": null,
            "left": null,
            "margin": null,
            "max_height": null,
            "max_width": null,
            "min_height": null,
            "min_width": null,
            "object_fit": null,
            "object_position": null,
            "order": null,
            "overflow": null,
            "overflow_x": null,
            "overflow_y": null,
            "padding": null,
            "right": null,
            "top": null,
            "visibility": null,
            "width": null
          }
        },
        "faab8af77cca434ba6ed8ef4688e9211": {
          "model_module": "@jupyter-widgets/base",
          "model_name": "LayoutModel",
          "model_module_version": "1.2.0",
          "state": {
            "_model_module": "@jupyter-widgets/base",
            "_model_module_version": "1.2.0",
            "_model_name": "LayoutModel",
            "_view_count": null,
            "_view_module": "@jupyter-widgets/base",
            "_view_module_version": "1.2.0",
            "_view_name": "LayoutView",
            "align_content": null,
            "align_items": null,
            "align_self": null,
            "border": null,
            "bottom": null,
            "display": null,
            "flex": null,
            "flex_flow": null,
            "grid_area": null,
            "grid_auto_columns": null,
            "grid_auto_flow": null,
            "grid_auto_rows": null,
            "grid_column": null,
            "grid_gap": null,
            "grid_row": null,
            "grid_template_areas": null,
            "grid_template_columns": null,
            "grid_template_rows": null,
            "height": null,
            "justify_content": null,
            "justify_items": null,
            "left": null,
            "margin": null,
            "max_height": null,
            "max_width": null,
            "min_height": null,
            "min_width": null,
            "object_fit": null,
            "object_position": null,
            "order": null,
            "overflow": null,
            "overflow_x": null,
            "overflow_y": null,
            "padding": null,
            "right": null,
            "top": null,
            "visibility": null,
            "width": null
          }
        },
        "f2358474a1804aa8b7610cc1dc8bdc29": {
          "model_module": "@jupyter-widgets/controls",
          "model_name": "DescriptionStyleModel",
          "model_module_version": "1.5.0",
          "state": {
            "_model_module": "@jupyter-widgets/controls",
            "_model_module_version": "1.5.0",
            "_model_name": "DescriptionStyleModel",
            "_view_count": null,
            "_view_module": "@jupyter-widgets/base",
            "_view_module_version": "1.2.0",
            "_view_name": "StyleView",
            "description_width": ""
          }
        },
        "4e9970b11094416783f48eeecca59f49": {
          "model_module": "@jupyter-widgets/base",
          "model_name": "LayoutModel",
          "model_module_version": "1.2.0",
          "state": {
            "_model_module": "@jupyter-widgets/base",
            "_model_module_version": "1.2.0",
            "_model_name": "LayoutModel",
            "_view_count": null,
            "_view_module": "@jupyter-widgets/base",
            "_view_module_version": "1.2.0",
            "_view_name": "LayoutView",
            "align_content": null,
            "align_items": null,
            "align_self": null,
            "border": null,
            "bottom": null,
            "display": null,
            "flex": null,
            "flex_flow": null,
            "grid_area": null,
            "grid_auto_columns": null,
            "grid_auto_flow": null,
            "grid_auto_rows": null,
            "grid_column": null,
            "grid_gap": null,
            "grid_row": null,
            "grid_template_areas": null,
            "grid_template_columns": null,
            "grid_template_rows": null,
            "height": null,
            "justify_content": null,
            "justify_items": null,
            "left": null,
            "margin": null,
            "max_height": null,
            "max_width": null,
            "min_height": null,
            "min_width": null,
            "object_fit": null,
            "object_position": null,
            "order": null,
            "overflow": null,
            "overflow_x": null,
            "overflow_y": null,
            "padding": null,
            "right": null,
            "top": null,
            "visibility": null,
            "width": null
          }
        },
        "8592bfe18c1c44df99978f9e80249ee1": {
          "model_module": "@jupyter-widgets/controls",
          "model_name": "ProgressStyleModel",
          "model_module_version": "1.5.0",
          "state": {
            "_model_module": "@jupyter-widgets/controls",
            "_model_module_version": "1.5.0",
            "_model_name": "ProgressStyleModel",
            "_view_count": null,
            "_view_module": "@jupyter-widgets/base",
            "_view_module_version": "1.2.0",
            "_view_name": "StyleView",
            "bar_color": null,
            "description_width": ""
          }
        },
        "fc267f83e1bd4e1c87a2d94130f7ba6c": {
          "model_module": "@jupyter-widgets/base",
          "model_name": "LayoutModel",
          "model_module_version": "1.2.0",
          "state": {
            "_model_module": "@jupyter-widgets/base",
            "_model_module_version": "1.2.0",
            "_model_name": "LayoutModel",
            "_view_count": null,
            "_view_module": "@jupyter-widgets/base",
            "_view_module_version": "1.2.0",
            "_view_name": "LayoutView",
            "align_content": null,
            "align_items": null,
            "align_self": null,
            "border": null,
            "bottom": null,
            "display": null,
            "flex": null,
            "flex_flow": null,
            "grid_area": null,
            "grid_auto_columns": null,
            "grid_auto_flow": null,
            "grid_auto_rows": null,
            "grid_column": null,
            "grid_gap": null,
            "grid_row": null,
            "grid_template_areas": null,
            "grid_template_columns": null,
            "grid_template_rows": null,
            "height": null,
            "justify_content": null,
            "justify_items": null,
            "left": null,
            "margin": null,
            "max_height": null,
            "max_width": null,
            "min_height": null,
            "min_width": null,
            "object_fit": null,
            "object_position": null,
            "order": null,
            "overflow": null,
            "overflow_x": null,
            "overflow_y": null,
            "padding": null,
            "right": null,
            "top": null,
            "visibility": null,
            "width": null
          }
        },
        "15a37f2ecbf94ab1bd1488a43f43e8b1": {
          "model_module": "@jupyter-widgets/controls",
          "model_name": "DescriptionStyleModel",
          "model_module_version": "1.5.0",
          "state": {
            "_model_module": "@jupyter-widgets/controls",
            "_model_module_version": "1.5.0",
            "_model_name": "DescriptionStyleModel",
            "_view_count": null,
            "_view_module": "@jupyter-widgets/base",
            "_view_module_version": "1.2.0",
            "_view_name": "StyleView",
            "description_width": ""
          }
        }
      }
    },
    "accelerator": "GPU"
  },
  "cells": [
    {
      "cell_type": "markdown",
      "source": [
        "# BERT 전이학습"
      ],
      "metadata": {
        "id": "2CytLKtX4B-U"
      }
    },
    {
      "cell_type": "markdown",
      "source": [
        "### 데이터 준비"
      ],
      "metadata": {
        "id": "YEy4EMKE4S54"
      }
    },
    {
      "cell_type": "code",
      "source": [
        "import pandas as pd\n",
        "import os\n",
        "from google.colab import files\n",
        "\n",
        "# AIHub 감성대화 말뭉치 데이터셋 경로 안내\n",
        "data_url = \"https://aihub.or.kr/aihubdata/data/view.do?currMenu=&topMenu=&aihubDataSe=data&dataSetSn=86\"\n",
        "\n",
        "# 구글 코랩에서 파일 업로드\n",
        "print(\"AIHub에서 감성대화 말뭉치 데이터를 다운로드한 후 업로드하세요:\", data_url)\n",
        "\n",
        "uploaded = files.upload()\n",
        "\n",
        "# 업로드된 파일 확인\n",
        "train_path = None\n",
        "test_path = None\n",
        "for filename in uploaded.keys():\n",
        "    if 'train' in filename:\n",
        "        train_path = filename\n",
        "    elif 'test' in filename:\n",
        "        test_path = filename\n",
        "\n",
        "if not (train_path and test_path):\n",
        "    raise FileNotFoundError(\"train 및 test 파일을 모두 업로드하세요.\")\n"
      ],
      "metadata": {
        "colab": {
          "base_uri": "https://localhost:8080/",
          "height": 184
        },
        "id": "TOlajKBTf_Eo",
        "outputId": "4fc585fe-b943-4883-e4a5-a9af5fd91711"
      },
      "execution_count": null,
      "outputs": [
        {
          "output_type": "stream",
          "name": "stdout",
          "text": [
            "AIHub에서 감성대화 말뭉치 데이터를 다운로드한 후 업로드하세요: https://aihub.or.kr/aihubdata/data/view.do?currMenu=&topMenu=&aihubDataSe=data&dataSetSn=86\n"
          ]
        },
        {
          "output_type": "display_data",
          "data": {
            "text/plain": [
              "<IPython.core.display.HTML object>"
            ],
            "text/html": [
              "\n",
              "     <input type=\"file\" id=\"files-e543aa7c-5bb5-485f-b02d-c4d6d406eaae\" name=\"files[]\" multiple disabled\n",
              "        style=\"border:none\" />\n",
              "     <output id=\"result-e543aa7c-5bb5-485f-b02d-c4d6d406eaae\">\n",
              "      Upload widget is only available when the cell has been executed in the\n",
              "      current browser session. Please rerun this cell to enable.\n",
              "      </output>\n",
              "      <script>// Copyright 2017 Google LLC\n",
              "//\n",
              "// Licensed under the Apache License, Version 2.0 (the \"License\");\n",
              "// you may not use this file except in compliance with the License.\n",
              "// You may obtain a copy of the License at\n",
              "//\n",
              "//      http://www.apache.org/licenses/LICENSE-2.0\n",
              "//\n",
              "// Unless required by applicable law or agreed to in writing, software\n",
              "// distributed under the License is distributed on an \"AS IS\" BASIS,\n",
              "// WITHOUT WARRANTIES OR CONDITIONS OF ANY KIND, either express or implied.\n",
              "// See the License for the specific language governing permissions and\n",
              "// limitations under the License.\n",
              "\n",
              "/**\n",
              " * @fileoverview Helpers for google.colab Python module.\n",
              " */\n",
              "(function(scope) {\n",
              "function span(text, styleAttributes = {}) {\n",
              "  const element = document.createElement('span');\n",
              "  element.textContent = text;\n",
              "  for (const key of Object.keys(styleAttributes)) {\n",
              "    element.style[key] = styleAttributes[key];\n",
              "  }\n",
              "  return element;\n",
              "}\n",
              "\n",
              "// Max number of bytes which will be uploaded at a time.\n",
              "const MAX_PAYLOAD_SIZE = 100 * 1024;\n",
              "\n",
              "function _uploadFiles(inputId, outputId) {\n",
              "  const steps = uploadFilesStep(inputId, outputId);\n",
              "  const outputElement = document.getElementById(outputId);\n",
              "  // Cache steps on the outputElement to make it available for the next call\n",
              "  // to uploadFilesContinue from Python.\n",
              "  outputElement.steps = steps;\n",
              "\n",
              "  return _uploadFilesContinue(outputId);\n",
              "}\n",
              "\n",
              "// This is roughly an async generator (not supported in the browser yet),\n",
              "// where there are multiple asynchronous steps and the Python side is going\n",
              "// to poll for completion of each step.\n",
              "// This uses a Promise to block the python side on completion of each step,\n",
              "// then passes the result of the previous step as the input to the next step.\n",
              "function _uploadFilesContinue(outputId) {\n",
              "  const outputElement = document.getElementById(outputId);\n",
              "  const steps = outputElement.steps;\n",
              "\n",
              "  const next = steps.next(outputElement.lastPromiseValue);\n",
              "  return Promise.resolve(next.value.promise).then((value) => {\n",
              "    // Cache the last promise value to make it available to the next\n",
              "    // step of the generator.\n",
              "    outputElement.lastPromiseValue = value;\n",
              "    return next.value.response;\n",
              "  });\n",
              "}\n",
              "\n",
              "/**\n",
              " * Generator function which is called between each async step of the upload\n",
              " * process.\n",
              " * @param {string} inputId Element ID of the input file picker element.\n",
              " * @param {string} outputId Element ID of the output display.\n",
              " * @return {!Iterable<!Object>} Iterable of next steps.\n",
              " */\n",
              "function* uploadFilesStep(inputId, outputId) {\n",
              "  const inputElement = document.getElementById(inputId);\n",
              "  inputElement.disabled = false;\n",
              "\n",
              "  const outputElement = document.getElementById(outputId);\n",
              "  outputElement.innerHTML = '';\n",
              "\n",
              "  const pickedPromise = new Promise((resolve) => {\n",
              "    inputElement.addEventListener('change', (e) => {\n",
              "      resolve(e.target.files);\n",
              "    });\n",
              "  });\n",
              "\n",
              "  const cancel = document.createElement('button');\n",
              "  inputElement.parentElement.appendChild(cancel);\n",
              "  cancel.textContent = 'Cancel upload';\n",
              "  const cancelPromise = new Promise((resolve) => {\n",
              "    cancel.onclick = () => {\n",
              "      resolve(null);\n",
              "    };\n",
              "  });\n",
              "\n",
              "  // Wait for the user to pick the files.\n",
              "  const files = yield {\n",
              "    promise: Promise.race([pickedPromise, cancelPromise]),\n",
              "    response: {\n",
              "      action: 'starting',\n",
              "    }\n",
              "  };\n",
              "\n",
              "  cancel.remove();\n",
              "\n",
              "  // Disable the input element since further picks are not allowed.\n",
              "  inputElement.disabled = true;\n",
              "\n",
              "  if (!files) {\n",
              "    return {\n",
              "      response: {\n",
              "        action: 'complete',\n",
              "      }\n",
              "    };\n",
              "  }\n",
              "\n",
              "  for (const file of files) {\n",
              "    const li = document.createElement('li');\n",
              "    li.append(span(file.name, {fontWeight: 'bold'}));\n",
              "    li.append(span(\n",
              "        `(${file.type || 'n/a'}) - ${file.size} bytes, ` +\n",
              "        `last modified: ${\n",
              "            file.lastModifiedDate ? file.lastModifiedDate.toLocaleDateString() :\n",
              "                                    'n/a'} - `));\n",
              "    const percent = span('0% done');\n",
              "    li.appendChild(percent);\n",
              "\n",
              "    outputElement.appendChild(li);\n",
              "\n",
              "    const fileDataPromise = new Promise((resolve) => {\n",
              "      const reader = new FileReader();\n",
              "      reader.onload = (e) => {\n",
              "        resolve(e.target.result);\n",
              "      };\n",
              "      reader.readAsArrayBuffer(file);\n",
              "    });\n",
              "    // Wait for the data to be ready.\n",
              "    let fileData = yield {\n",
              "      promise: fileDataPromise,\n",
              "      response: {\n",
              "        action: 'continue',\n",
              "      }\n",
              "    };\n",
              "\n",
              "    // Use a chunked sending to avoid message size limits. See b/62115660.\n",
              "    let position = 0;\n",
              "    do {\n",
              "      const length = Math.min(fileData.byteLength - position, MAX_PAYLOAD_SIZE);\n",
              "      const chunk = new Uint8Array(fileData, position, length);\n",
              "      position += length;\n",
              "\n",
              "      const base64 = btoa(String.fromCharCode.apply(null, chunk));\n",
              "      yield {\n",
              "        response: {\n",
              "          action: 'append',\n",
              "          file: file.name,\n",
              "          data: base64,\n",
              "        },\n",
              "      };\n",
              "\n",
              "      let percentDone = fileData.byteLength === 0 ?\n",
              "          100 :\n",
              "          Math.round((position / fileData.byteLength) * 100);\n",
              "      percent.textContent = `${percentDone}% done`;\n",
              "\n",
              "    } while (position < fileData.byteLength);\n",
              "  }\n",
              "\n",
              "  // All done.\n",
              "  yield {\n",
              "    response: {\n",
              "      action: 'complete',\n",
              "    }\n",
              "  };\n",
              "}\n",
              "\n",
              "scope.google = scope.google || {};\n",
              "scope.google.colab = scope.google.colab || {};\n",
              "scope.google.colab._files = {\n",
              "  _uploadFiles,\n",
              "  _uploadFilesContinue,\n",
              "};\n",
              "})(self);\n",
              "</script> "
            ]
          },
          "metadata": {}
        },
        {
          "output_type": "stream",
          "name": "stdout",
          "text": [
            "Saving test.xlsx to test.xlsx\n",
            "Saving train.xlsx to train.xlsx\n"
          ]
        }
      ]
    },
    {
      "cell_type": "code",
      "source": [
        "# 데이터 로드\n",
        "ratings_train_df = pd.read_excel(train_path)\n",
        "ratings_test_df = pd.read_excel(test_path)\n",
        "\n",
        "print(ratings_train_df.head())\n",
        "print(ratings_test_df.head())"
      ],
      "metadata": {
        "colab": {
          "base_uri": "https://localhost:8080/"
        },
        "id": "NhO9z9T2h2wf",
        "outputId": "a8a1a880-27e4-4b07-9acb-bdc3802a0400"
      },
      "execution_count": null,
      "outputs": [
        {
          "output_type": "stream",
          "name": "stdout",
          "text": [
            "   Unnamed: 0  연령  성별     상황키워드  신체질환 감정_대분류 감정_소분류  \\\n",
            "0           1  청년  여성  진로,취업,직장  해당없음     분노  노여워하는   \n",
            "1           2  청년  여성  진로,취업,직장  해당없음     분노  노여워하는   \n",
            "2           3  청년  여성  진로,취업,직장  해당없음     분노  노여워하는   \n",
            "3           4  청년  여성  진로,취업,직장  해당없음     분노  노여워하는   \n",
            "4           5  청년  여성  진로,취업,직장  해당없음     분노  노여워하는   \n",
            "\n",
            "                                               사람문장1  \\\n",
            "0                          일은 왜 해도 해도 끝이 없을까? 화가 난다.   \n",
            "1     이번 달에 또 급여가 깎였어! 물가는 오르는데 월급만 자꾸 깎이니까 너무 화가 나.   \n",
            "2  회사에 신입이 들어왔는데 말투가 거슬려. 그런 애를 매일 봐야 한다고 생각하니까 스...   \n",
            "3  직장에서 막내라는 이유로 나에게만 온갖 심부름을 시켜. 일도 많은 데 정말 분하고 ...   \n",
            "4              얼마 전 입사한 신입사원이 나를 무시하는 것 같아서 너무 화가 나.   \n",
            "\n",
            "                                              시스템문장1  \\\n",
            "0                        많이 힘드시겠어요. 주위에 의논할 상대가 있나요?   \n",
            "1           급여가 줄어 속상하시겠어요. 월급이 줄어든 것을 어떻게 보완하실 건가요?   \n",
            "2  회사 동료 때문에 스트레스를 많이 받는 것 같아요. 문제 해결을 위해 어떤 노력을 ...   \n",
            "3  관련 없는 심부름을 모두 하게 되어서 노여우시군요. 어떤 것이 상황을 나아질 수 있...   \n",
            "4  무시하는 것 같은 태도에 화가 나셨군요. 상대방의 어떤 행동이 그런 감정을 유발하는...   \n",
            "\n",
            "                                               사람문장2  \\\n",
            "0                그냥 내가 해결하는 게 나아. 남들한테 부담 주고 싶지도 않고.   \n",
            "1   최대한 지출을 억제해야겠어. 월급이 줄어들었으니 고정지출을 줄일 수밖에 없을 것 같아.   \n",
            "2  잘 안 맞는 사람이랑 억지로 잘 지내는 것보단 조금은 거리를 두고 예의를 갖춰서 대...   \n",
            "3              직장 사람들과 솔직하게 이야기해보고 싶어. 일하는 데에 방해된다고.   \n",
            "4                상사인 나에게 먼저 인사하지 않아서 매일 내가 먼저 인사한다고!   \n",
            "\n",
            "                                              시스템문장2 사람문장3 시스템문장3  \n",
            "0     혼자 해결하기로 했군요. 혼자서 해결하기 힘들면 주위에 의논할 사람을 찾아보세요.    NaN    NaN  \n",
            "1                           월급이 줄어든 만큼 소비를 줄일 계획이군요.   NaN    NaN  \n",
            "2          스트레스받지 않기 위해선 인간관계에 있어 약간의 거리를 두는 게 좋겠군요.   NaN    NaN  \n",
            "3                        직장 사람들과 이야기를 해 보겠다고 결심하셨군요.   NaN    NaN  \n",
            "4  항상 먼저 인사하게 되어 화가 나셨군요. 어떻게 하면 신입사원에게 화났음을 표현할 ...   NaN    NaN  \n",
            "   Unnamed: 0  연령  성별     상황키워드  신체질환 감정_대분류 감정_소분류  \\\n",
            "0           1  청년  남성  진로,취업,직장  해당없음     불안    두려운   \n",
            "1           2  청년  남성  진로,취업,직장  해당없음     불안    두려운   \n",
            "2           3  청년  남성  진로,취업,직장  해당없음     불안    두려운   \n",
            "3           4  청년  남성  진로,취업,직장  해당없음     불안    두려운   \n",
            "4           5  청년  남성  진로,취업,직장  해당없음     불안    두려운   \n",
            "\n",
            "                                               사람문장1  \\\n",
            "0  이번 프로젝트에서 발표를 하는데 내가 실수하는 바람에 우리 팀이 감점을 받았어. 너...   \n",
            "1              회사에서 중요한 프로젝트를 혼자 하게 됐는데 솔직히 두렵고 무서워.   \n",
            "2                      상사가 너무 무섭게 생겨서 친해지는 게 너무 두려워.   \n",
            "3          이번에 힘들게 들어간 첫 직장이거든. 첫 직장이라서 그런지 너무 긴장된다.   \n",
            "4                       직장에서 동료들이랑 관계가 안 좋아질까 봐 걱정돼.   \n",
            "\n",
            "                         시스템문장1                                 사람문장2  \\\n",
            "0       실수하시다니 정말 미안한 마음이 크겠어요.          내 능력이 부족한 거 같은데 그만 다녀야 될거같아.   \n",
            "1      큰 프로젝트를 혼자 하셔서 고민이 많겠네요.  나에게 너무 크게 느껴지는 중요한 프로젝트라 버거운 느낌이 들어.   \n",
            "2  직장 상사가 무섭게 생기셔서 친해지는 게 어렵군요.     무섭게 생겼는데도 업무를 보려면 친해져야 할 것 같단말이야.   \n",
            "3   첫 직장이라서 정말 떨리시고 긴장되실 것 같아요.           첫 직장이어서 잘 적응을 할 수 있을지 모르겠어.   \n",
            "4        직장 사람들 관계에 대해서 고민이시군요.           내가 낯가림이 심해서 친해질 수 있을지 모르겠어.   \n",
            "\n",
            "                         시스템문장2                                     사람문장3  \\\n",
            "0         능력을 올리려면 어떤 방법이 있을까요?  퇴근 후 여가에 회사 일을 더 열심히 해서 피해가 가지 않도록 해야겠어.   \n",
            "1  프로젝트를 잘하시기 위해서 어떤 걸 할 수 있나요?               동료 직원에게 도움을 요청해서 같이 해결해야겠어.   \n",
            "2   상사분과 친해질 수 있는 방법은 무엇이 있을까요?                          먼저 다가가서 말을 걸어볼게.   \n",
            "3       잘 적응 하시려면 무엇을 할 수 있을까요?                   직장 동료와 상사들이랑 친하게 지내야겠어.   \n",
            "4    직장 사람들과 친해지려면 무슨 방법이 있을까요?  서로 같은 취미를 공유하고 얘기를 나누다 보면 친해질 수 있을 거 같아.   \n",
            "\n",
            "                      시스템문장3  \n",
            "0            꼭 좋은 결과 있길 바라요.  \n",
            "1    동료 직원에게 도움을 요청하기로 하셨군요.  \n",
            "2         직장 상사와 친해지시면 좋겠네요.  \n",
            "3           직장에 잘 적응하시길 바라요.  \n",
            "4  직장 사람들과 좋은 관계를 가지시길 응원해요.  \n"
          ]
        }
      ]
    },
    {
      "cell_type": "code",
      "source": [
        "# 결측치 제거\n",
        "ratings_train_df = ratings_train_df.dropna(how=\"any\")\n",
        "ratings_test_df = ratings_test_df.dropna(how=\"any\")\n",
        "\n",
        "display(ratings_train_df.info())\n",
        "display(ratings_test_df.info())"
      ],
      "metadata": {
        "colab": {
          "base_uri": "https://localhost:8080/",
          "height": 779
        },
        "id": "SxFYT_ry5Lap",
        "outputId": "1a6c96d2-fd39-43c0-db21-bcd4cd1688ff"
      },
      "execution_count": null,
      "outputs": [
        {
          "output_type": "stream",
          "name": "stdout",
          "text": [
            "<class 'pandas.core.frame.DataFrame'>\n",
            "Index: 42694 entries, 304 to 51629\n",
            "Data columns (total 13 columns):\n",
            " #   Column      Non-Null Count  Dtype \n",
            "---  ------      --------------  ----- \n",
            " 0   Unnamed: 0  42694 non-null  int64 \n",
            " 1   연령          42694 non-null  object\n",
            " 2   성별          42694 non-null  object\n",
            " 3   상황키워드       42694 non-null  object\n",
            " 4   신체질환        42694 non-null  object\n",
            " 5   감정_대분류      42694 non-null  object\n",
            " 6   감정_소분류      42694 non-null  object\n",
            " 7   사람문장1       42694 non-null  object\n",
            " 8   시스템문장1      42694 non-null  object\n",
            " 9   사람문장2       42694 non-null  object\n",
            " 10  시스템문장2      42694 non-null  object\n",
            " 11  사람문장3       42694 non-null  object\n",
            " 12  시스템문장3      42694 non-null  object\n",
            "dtypes: int64(1), object(12)\n",
            "memory usage: 4.6+ MB\n"
          ]
        },
        {
          "output_type": "display_data",
          "data": {
            "text/plain": [
              "None"
            ]
          },
          "metadata": {}
        },
        {
          "output_type": "stream",
          "name": "stdout",
          "text": [
            "<class 'pandas.core.frame.DataFrame'>\n",
            "Index: 4686 entries, 0 to 6580\n",
            "Data columns (total 13 columns):\n",
            " #   Column      Non-Null Count  Dtype \n",
            "---  ------      --------------  ----- \n",
            " 0   Unnamed: 0  4686 non-null   int64 \n",
            " 1   연령          4686 non-null   object\n",
            " 2   성별          4686 non-null   object\n",
            " 3   상황키워드       4686 non-null   object\n",
            " 4   신체질환        4686 non-null   object\n",
            " 5   감정_대분류      4686 non-null   object\n",
            " 6   감정_소분류      4686 non-null   object\n",
            " 7   사람문장1       4686 non-null   object\n",
            " 8   시스템문장1      4686 non-null   object\n",
            " 9   사람문장2       4686 non-null   object\n",
            " 10  시스템문장2      4686 non-null   object\n",
            " 11  사람문장3       4686 non-null   object\n",
            " 12  시스템문장3      4686 non-null   object\n",
            "dtypes: int64(1), object(12)\n",
            "memory usage: 512.5+ KB\n"
          ]
        },
        {
          "output_type": "display_data",
          "data": {
            "text/plain": [
              "None"
            ]
          },
          "metadata": {}
        }
      ]
    },
    {
      "cell_type": "code",
      "source": [
        "# 감정_대분류 열의 고유 값 확인\n",
        "print(ratings_train_df['감정_대분류'].unique())\n",
        "\n",
        "# 감정_소분류 열의 고유 값 확인\n",
        "print(ratings_train_df['감정_소분류'].unique())"
      ],
      "metadata": {
        "colab": {
          "base_uri": "https://localhost:8080/"
        },
        "id": "BAmLMnxVyJES",
        "outputId": "b3e18302-d02a-49ba-db09-ce3004db4672"
      },
      "execution_count": null,
      "outputs": [
        {
          "output_type": "stream",
          "name": "stdout",
          "text": [
            "['상처' '슬픔' '기쁨' '분노' '불안' '당황']\n",
            "['상처' '충격 받은' '후회되는' '느긋' '자신하는' '좌절한' '노여워하는' '취약한' '외로운' '실망한' '불안'\n",
            " '걱정스러운' '신뢰하는' '남의 시선을 의식하는' '버려진' '눈물이 나는' '비통한' '안도' '죄책감의' '당황'\n",
            " '구역질 나는' '툴툴대는' '조심스러운' '성가신' '편안한' '혐오스러운' '짜증내는' '당혹스러운' '안달하는' '고립된'\n",
            " '열등감' '혼란스러운' '우울한' '회의적인' '흥분' '배신당한' '낙담한' '괴로워하는' '신이 난' '만족스러운'\n",
            " '감사하는' '환멸을 느끼는' '질투하는' '희생된' '한심한' '악의적인' '두려운' '부끄러운' '억울한' '분노' '초조한'\n",
            " '방어적인' '슬픔' '스트레스 받는' '염세적인' '가난한, 불우한' '기쁨' '마비된']\n"
          ]
        }
      ]
    },
    {
      "cell_type": "code",
      "source": [
        "# 감정 라벨 생성 (예: 부정 감정을 1, 긍정 감정을 0으로 변환)\n",
        "negative_emotions = ['상처', '슬픔', '불안', '당황', '분노']\n",
        "ratings_train_df['label'] = ratings_train_df['감정_대분류'].apply(lambda x: 1 if x in negative_emotions else 0)\n",
        "ratings_test_df['label'] = ratings_test_df['감정_대분류'].apply(lambda x: 1 if x in negative_emotions else 0)\n",
        "\n",
        "# 주요 텍스트 열 결합 (사람문장1 + 시스템문장1 + 사람문장2 + 시스템문장2 + 사람문장3 + 시스템문장3 사용)\n",
        "text_columns = ['사람문장1', '시스템문장1', '사람문장2', '시스템문장2', '사람문장3', '시스템문장3']\n",
        "ratings_train_df['document'] = ratings_train_df[text_columns].fillna('').agg(' '.join, axis=1)\n",
        "ratings_test_df['document'] = ratings_test_df[text_columns].fillna('').agg(' '.join, axis=1)\n",
        "\n",
        "# 데이터 샘플링 (학습 시간 단축용)\n",
        "ratings_train_df = ratings_train_df.sample(n=8000, random_state=0)\n",
        "ratings_test_df = ratings_test_df.sample(n=3000, random_state=0)\n",
        "\n",
        "# 라벨 분포 확인\n",
        "print(ratings_train_df['label'].value_counts(), ratings_test_df['label'].value_counts())\n",
        "\n",
        "# print(ratings_train_df.head())"
      ],
      "metadata": {
        "colab": {
          "base_uri": "https://localhost:8080/"
        },
        "id": "5K8J-1SjjUvp",
        "outputId": "0be19714-0e18-40c2-b9f1-6cf29ad5a7b6"
      },
      "execution_count": null,
      "outputs": [
        {
          "output_type": "stream",
          "name": "stdout",
          "text": [
            "label\n",
            "1    7083\n",
            "0     917\n",
            "Name: count, dtype: int64 label\n",
            "1    2514\n",
            "0     486\n",
            "Name: count, dtype: int64\n"
          ]
        }
      ]
    },
    {
      "cell_type": "code",
      "source": [
        "X_train = ratings_train_df['document'].values.tolist()\n",
        "y_train = ratings_train_df['label'].values.tolist()\n",
        "\n",
        "X_test = ratings_test_df['document'].values.tolist()\n",
        "y_test = ratings_test_df['label'].values.tolist()"
      ],
      "metadata": {
        "id": "2qNYKFBF6SKg"
      },
      "execution_count": null,
      "outputs": []
    },
    {
      "cell_type": "code",
      "source": [
        "print(X_train[:5])\n",
        "print(y_train[:5])"
      ],
      "metadata": {
        "colab": {
          "base_uri": "https://localhost:8080/"
        },
        "id": "fq1ybtmt6jyd",
        "outputId": "ec1d46c0-7e00-4f5b-94a3-4e2557876b36"
      },
      "execution_count": null,
      "outputs": [
        {
          "output_type": "stream",
          "name": "stdout",
          "text": [
            "['다들 날 보면 수근 대는 거 같고 날 욕하는 느낌이야. 어떤 점에서 그런 생각을 하신 거예요? 딱히 수상한 거는 없는데 주변에서 다들 나를 욕하는 거 같아 아무도 못 믿겠어. 주변 분들이랑 얘기는 해보신 거예요? 아니 말 안 해도 느낌으로 알 수 있어 다들 왜 내 욕을 하는 거지? 주변 분과 대화를 시도해 보셨나요?', '엄마는 나를 걱정해서 충고를 했는데 나는 짜증만 냈어. 충고하는 엄마에게 짜증을 냈군요. 돌이켜보니 짜증을 낸 게 미안한데 사과하기도 애매한 것 같아. 사과하기가 애매하시군요. 어떻게 하는 것이 가장 좋을까요? 다시 생각해보니 진심으로 사과를 하는 것이 좋을 것 같아. 진심으로 사과하셔서 잘 해결되기를 바라요.', '아내가 빚을 남기고 죽었어. 정말 허탈해. 아내 때문에 허탈함을 느끼시는군요. 나와 자식들한테 빚을 떠넘기고 간 이 상황이 불만스러워. 지금 상황에서 벗어나기 위해 무엇을 할 수 있을까요? 상속 포기를 하면 빚을 갚지 않아도 된다는 얘기를 들은 거 같아. 변호사 도움을 받아야겠어. 변호사의 도움을 받아 문제가 해결되길 바라요.', '진짜 남편이 너무 한심해. 남편하게 한심함을 느끼시는군요. 남편이 담배를 못 끊어서 폐암 증세가 더 심해지고 있어. 남편의 흡연으로 병이 더 깊어졌군요. 어떻게 그럴 수가 있는지 내 생각으로는 이해할 수가 없어. 남편의 태도를 달라지게 할 방법이 없을까요?', '여자친구가 내가 좋아하는 것만큼 나를 사랑하지 않는 것 같아 속상해. 여자친구가 나를 사랑하지 않는 것 같아 슬프시군요. 나는 항상 먼저 배려하고 여자친구 입장에서 생각하는데 여자친구는 자신밖에 모르는 것 같아. 여자친구에게 보이는 배려가 보답받지 못하는 것 같아 서운하시겠어요. 여자친구한테 고민을 말해보았나요? 말해보았지만 반응이 시큰둥해. 크게 신경을 쓰는 것 같지 않아. 여자친구의 무덤덤한 반응이 나를 더 슬프게 만드는군요.']\n",
            "[1, 1, 1, 1, 1]\n"
          ]
        }
      ]
    },
    {
      "cell_type": "markdown",
      "source": [
        "### 토커나이저/모델 준비\n",
        "- bert 한국어 버전 사전학습 모델 klue/bert-base"
      ],
      "metadata": {
        "id": "9DhhbuvY62v3"
      }
    },
    {
      "cell_type": "code",
      "source": [
        "from transformers import AutoModel, AutoTokenizer\n",
        "\n",
        "model = AutoModel.from_pretrained('klue/bert-base')\n",
        "tokenizer = AutoTokenizer.from_pretrained('klue/bert-base')"
      ],
      "metadata": {
        "id": "c9nC9K8m7BT4",
        "colab": {
          "base_uri": "https://localhost:8080/",
          "height": 209,
          "referenced_widgets": [
            "c6a3a22b09ef4c65b5bb7bc021a00bb1",
            "b5c296aa8c5d46b2bad80e736a9f090e",
            "5f38d168f797487a8922893bf1fe7b60",
            "bea2d817660b496f93be62f458e213d1",
            "dee73223567346309427ad4c256cd889",
            "ab16435c7d8c44e0935d2fc727cd6a17",
            "5bf3394df7ed47d2ab6894e30896c843",
            "67a9b5ad2e9b493c9b01a3bd3fd276fd",
            "f40a29cbca8d4f3894981fa1f1a1f8d9",
            "e7ece23596e24bf78fbdd44d3b9896ef",
            "693c7fa36d2049eaa2256c86b28df4e9",
            "7f6bd19ffd7c43778811e0bc09922fc5",
            "9438ff3719a44c31be61a095fb73e873",
            "743636b453174db9a2fe07b892c8e4bc",
            "3c2e3058562d4a9ebed049badabca9c6",
            "58c28230be154a3eb305a57b2cc2b317",
            "be7d510620214f2290ff54b7850d5707",
            "c16e3286a7664aa18bc4e2dfd20d7ebb",
            "acf185652e2a4fd8a9489eb897920035",
            "dc4a0db60245491e86ac7bfffd80e874",
            "26a35d6bdeba4dc08f34744207d62436",
            "4f6624f436c1491894ca23dc7cb965ba",
            "8d44256463ee4ed2bb9462e0833786bc",
            "8ace6ed929d34ae08fc15adc874f2002",
            "96c2f0b9ca224e72a455a3ceb0b755c6",
            "218daa8dc9284824b1a35e94b80b5cf7",
            "3d6171dcb71546d3ab04064c9ce612e8",
            "46c457b8b3a049aaa7cd52ca1d42b04c",
            "6927200be7a44fb5be199ffd8a1e0954",
            "063e582490d54b90a175fca040931de8",
            "ed1ca2356b72441fb376e5a00002d50a",
            "41d6a3b82a9641b7ab1aa05b49a7456e",
            "7d12b1d780c240ff94ada6f4dda92b83",
            "bb8c033602e64bc08ec4ac0279261f11",
            "35e27416cb504d4fa49fe536793938df",
            "1e0cd5f49c054202bac5b499e71bda83",
            "b4e549062bfc49d4b2732a05a89c723c",
            "f4e125ddf67f4936807c6e53496e7a8f",
            "5a635098200140018a7b0d9bfc0006ac",
            "54db09675ed0451b98adf580bb89d771",
            "77522b234e1a4d7eb6d57f9ae2419011",
            "52d0fdbe87c14c61ad4e480d0cdb538f",
            "35fe3f0830694f95ac5da3b652d0f31b",
            "68a4db180b2543a9b6cbd8fdf06432e7",
            "2f03abc6e13f4afe8746a6cb4e4f36d5",
            "1c5df565a22d4e84ac02d0a39561948b",
            "3e649488406c4f0b93683375cdbedd80",
            "ddb7b1c7954348c6820bf9b34adb92e2",
            "de3bed5e2265443ba72b6a08e6791783",
            "cd66d9fed61648239f4275fdb561c825",
            "e135c72c58ea407ea1073d3fb4256abd",
            "b59783bb5e7f4be1950ffe51fd6382ea",
            "68603c105fcf458baa1314baabf0b46c",
            "3f2f899f770742bfb106a553f0307e6c",
            "52a148c36eb4472381b108485c826b18",
            "ca6a9245bc6a4f92be6ca3658ff881ee",
            "a500858863ab424ea65556ebd30fa7c5",
            "fdd8c1d9ff114681aa0cca1c92f9ca95",
            "bb88fbec70164c64867b5ed1d1cfd9f3",
            "cefd0bac11b24ee581acd79b8e731fd8",
            "59dec13f73374ce09894927668fe4554",
            "725969ef7f86483785034001e307db17",
            "e4f6751efcd9486fb52f95c0bf6161e0",
            "6055bbcecb4a47b9a862347177262465",
            "86b15c50d5894ddb944640f415f19287",
            "b926f902929f4ee1a7a06667a581126c"
          ]
        },
        "outputId": "29de4e7c-59a5-47af-9bc3-dfe084b50b6b"
      },
      "execution_count": null,
      "outputs": [
        {
          "output_type": "display_data",
          "data": {
            "text/plain": [
              "config.json:   0%|          | 0.00/425 [00:00<?, ?B/s]"
            ],
            "application/vnd.jupyter.widget-view+json": {
              "version_major": 2,
              "version_minor": 0,
              "model_id": "c6a3a22b09ef4c65b5bb7bc021a00bb1"
            }
          },
          "metadata": {}
        },
        {
          "output_type": "display_data",
          "data": {
            "text/plain": [
              "model.safetensors:   0%|          | 0.00/445M [00:00<?, ?B/s]"
            ],
            "application/vnd.jupyter.widget-view+json": {
              "version_major": 2,
              "version_minor": 0,
              "model_id": "7f6bd19ffd7c43778811e0bc09922fc5"
            }
          },
          "metadata": {}
        },
        {
          "output_type": "display_data",
          "data": {
            "text/plain": [
              "tokenizer_config.json:   0%|          | 0.00/289 [00:00<?, ?B/s]"
            ],
            "application/vnd.jupyter.widget-view+json": {
              "version_major": 2,
              "version_minor": 0,
              "model_id": "8d44256463ee4ed2bb9462e0833786bc"
            }
          },
          "metadata": {}
        },
        {
          "output_type": "display_data",
          "data": {
            "text/plain": [
              "vocab.txt:   0%|          | 0.00/248k [00:00<?, ?B/s]"
            ],
            "application/vnd.jupyter.widget-view+json": {
              "version_major": 2,
              "version_minor": 0,
              "model_id": "bb8c033602e64bc08ec4ac0279261f11"
            }
          },
          "metadata": {}
        },
        {
          "output_type": "display_data",
          "data": {
            "text/plain": [
              "tokenizer.json:   0%|          | 0.00/495k [00:00<?, ?B/s]"
            ],
            "application/vnd.jupyter.widget-view+json": {
              "version_major": 2,
              "version_minor": 0,
              "model_id": "2f03abc6e13f4afe8746a6cb4e4f36d5"
            }
          },
          "metadata": {}
        },
        {
          "output_type": "display_data",
          "data": {
            "text/plain": [
              "special_tokens_map.json:   0%|          | 0.00/125 [00:00<?, ?B/s]"
            ],
            "application/vnd.jupyter.widget-view+json": {
              "version_major": 2,
              "version_minor": 0,
              "model_id": "ca6a9245bc6a4f92be6ca3658ff881ee"
            }
          },
          "metadata": {}
        }
      ]
    },
    {
      "cell_type": "code",
      "source": [
        "\"\"\"\n",
        "from transformers import BertTokenizer\n",
        "\n",
        "tokenizer = BertTokenizer.from_pretrained('klue/bert-base')\n",
        "\"\"\""
      ],
      "metadata": {
        "colab": {
          "base_uri": "https://localhost:8080/",
          "height": 54
        },
        "id": "2GiA_8pj7VuI",
        "outputId": "ae26f0fc-2347-48d1-c1eb-28f7f1a3519b"
      },
      "execution_count": null,
      "outputs": [
        {
          "output_type": "execute_result",
          "data": {
            "text/plain": [
              "\"\\nfrom transformers import BertTokenizer\\n\\ntokenizer = BertTokenizer.from_pretrained('klue/bert-base')\\n\""
            ],
            "application/vnd.google.colaboratory.intrinsic+json": {
              "type": "string"
            }
          },
          "metadata": {},
          "execution_count": 9
        }
      ]
    },
    {
      "cell_type": "code",
      "source": [
        "MAX_LEN = 30\n",
        "\n",
        "X_train = tokenizer(X_train, padding=True, truncation=True, max_length=MAX_LEN)\n",
        "X_test = tokenizer(X_test, padding=True, truncation=True, max_length=MAX_LEN)\n",
        "\n",
        "X_train[:5], X_test[:5]"
      ],
      "metadata": {
        "colab": {
          "base_uri": "https://localhost:8080/"
        },
        "collapsed": true,
        "id": "RMjJz5dx8Cdx",
        "outputId": "776db08f-d173-4718-e6f6-85fe0857d23e"
      },
      "execution_count": null,
      "outputs": [
        {
          "output_type": "execute_result",
          "data": {
            "text/plain": [
              "([Encoding(num_tokens=30, attributes=[ids, type_ids, tokens, offsets, attention_mask, special_tokens_mask, overflowing]),\n",
              "  Encoding(num_tokens=30, attributes=[ids, type_ids, tokens, offsets, attention_mask, special_tokens_mask, overflowing]),\n",
              "  Encoding(num_tokens=30, attributes=[ids, type_ids, tokens, offsets, attention_mask, special_tokens_mask, overflowing]),\n",
              "  Encoding(num_tokens=30, attributes=[ids, type_ids, tokens, offsets, attention_mask, special_tokens_mask, overflowing]),\n",
              "  Encoding(num_tokens=30, attributes=[ids, type_ids, tokens, offsets, attention_mask, special_tokens_mask, overflowing])],\n",
              " [Encoding(num_tokens=30, attributes=[ids, type_ids, tokens, offsets, attention_mask, special_tokens_mask, overflowing]),\n",
              "  Encoding(num_tokens=30, attributes=[ids, type_ids, tokens, offsets, attention_mask, special_tokens_mask, overflowing]),\n",
              "  Encoding(num_tokens=30, attributes=[ids, type_ids, tokens, offsets, attention_mask, special_tokens_mask, overflowing]),\n",
              "  Encoding(num_tokens=30, attributes=[ids, type_ids, tokens, offsets, attention_mask, special_tokens_mask, overflowing]),\n",
              "  Encoding(num_tokens=30, attributes=[ids, type_ids, tokens, offsets, attention_mask, special_tokens_mask, overflowing])])"
            ]
          },
          "metadata": {},
          "execution_count": 11
        }
      ]
    },
    {
      "cell_type": "code",
      "source": [
        "print(X_train['input_ids'][0])      # input_ids : 단어 토큰화\n",
        "print(X_train['attention_mask'][0]) # attention_mask : 실제값/패딩 구분\n",
        "print(X_train['token_type_ids'][0]) # token_type_ids : 첫번째/두번째 문장 구분 (단일 문장이라 다 0)"
      ],
      "metadata": {
        "colab": {
          "base_uri": "https://localhost:8080/"
        },
        "id": "oUogReWzAVm1",
        "outputId": "24a2709f-17e4-4059-f2ef-bdeeeb4732aa"
      },
      "execution_count": null,
      "outputs": [
        {
          "output_type": "stream",
          "name": "stdout",
          "text": [
            "[2, 809, 2031, 721, 1160, 2460, 1295, 2169, 823, 2259, 568, 555, 2088, 721, 1465, 2205, 2259, 4307, 2052, 2275, 18, 3711, 1540, 27135, 3637, 3628, 2069, 1889, 2250, 3]\n",
            "[1, 1, 1, 1, 1, 1, 1, 1, 1, 1, 1, 1, 1, 1, 1, 1, 1, 1, 1, 1, 1, 1, 1, 1, 1, 1, 1, 1, 1, 1]\n",
            "[0, 0, 0, 0, 0, 0, 0, 0, 0, 0, 0, 0, 0, 0, 0, 0, 0, 0, 0, 0, 0, 0, 0, 0, 0, 0, 0, 0, 0, 0]\n"
          ]
        }
      ]
    },
    {
      "cell_type": "markdown",
      "source": [
        "### 데이터 파이프라인 생성"
      ],
      "metadata": {
        "id": "y9d0rDTvBPSC"
      }
    },
    {
      "cell_type": "code",
      "source": [
        "type(X_train)"
      ],
      "metadata": {
        "colab": {
          "base_uri": "https://localhost:8080/",
          "height": 238
        },
        "id": "v3cLWm7lBQwG",
        "outputId": "4df603a9-862e-42cc-b0e2-bd324b265007"
      },
      "execution_count": null,
      "outputs": [
        {
          "output_type": "execute_result",
          "data": {
            "text/plain": [
              "transformers.tokenization_utils_base.BatchEncoding"
            ],
            "text/html": [
              "<div style=\"max-width:800px; border: 1px solid var(--colab-border-color);\"><style>\n",
              "      pre.function-repr-contents {\n",
              "        overflow-x: auto;\n",
              "        padding: 8px 12px;\n",
              "        max-height: 500px;\n",
              "      }\n",
              "\n",
              "      pre.function-repr-contents.function-repr-contents-collapsed {\n",
              "        cursor: pointer;\n",
              "        max-height: 100px;\n",
              "      }\n",
              "    </style>\n",
              "    <pre style=\"white-space: initial; background:\n",
              "         var(--colab-secondary-surface-color); padding: 8px 12px;\n",
              "         border-bottom: 1px solid var(--colab-border-color);\"><b>transformers.tokenization_utils_base.BatchEncoding</b><br/>def __init__(data: Optional[Dict[str, Any]]=None, encoding: Optional[Union[EncodingFast, Sequence[EncodingFast]]]=None, tensor_type: Union[None, str, TensorType]=None, prepend_batch_axis: bool=False, n_sequences: Optional[int]=None)</pre><pre class=\"function-repr-contents function-repr-contents-collapsed\" style=\"\"><a class=\"filepath\" style=\"display:none\" href=\"#\">/usr/local/lib/python3.11/dist-packages/transformers/tokenization_utils_base.py</a>Holds the output of the [`~tokenization_utils_base.PreTrainedTokenizerBase.__call__`],\n",
              "[`~tokenization_utils_base.PreTrainedTokenizerBase.encode_plus`] and\n",
              "[`~tokenization_utils_base.PreTrainedTokenizerBase.batch_encode_plus`] methods (tokens, attention_masks, etc).\n",
              "\n",
              "This class is derived from a python dictionary and can be used as a dictionary. In addition, this class exposes\n",
              "utility methods to map from word/character space to token space.\n",
              "\n",
              "Args:\n",
              "    data (`dict`, *optional*):\n",
              "        Dictionary of lists/arrays/tensors returned by the `__call__`/`encode_plus`/`batch_encode_plus` methods\n",
              "        (&#x27;input_ids&#x27;, &#x27;attention_mask&#x27;, etc.).\n",
              "    encoding (`tokenizers.Encoding` or `Sequence[tokenizers.Encoding]`, *optional*):\n",
              "        If the tokenizer is a fast tokenizer which outputs additional information like mapping from word/character\n",
              "        space to token space the `tokenizers.Encoding` instance or list of instance (for batches) hold this\n",
              "        information.\n",
              "    tensor_type (`Union[None, str, TensorType]`, *optional*):\n",
              "        You can give a tensor_type here to convert the lists of integers in PyTorch/TensorFlow/Numpy Tensors at\n",
              "        initialization.\n",
              "    prepend_batch_axis (`bool`, *optional*, defaults to `False`):\n",
              "        Whether or not to add a batch axis when converting to tensors (see `tensor_type` above). Note that this\n",
              "        parameter has an effect if the parameter `tensor_type` is set, *otherwise has no effect*.\n",
              "    n_sequences (`Optional[int]`, *optional*):\n",
              "        You can give a tensor_type here to convert the lists of integers in PyTorch/TensorFlow/Numpy Tensors at\n",
              "        initialization.</pre>\n",
              "      <script>\n",
              "      if (google.colab.kernel.accessAllowed && google.colab.files && google.colab.files.view) {\n",
              "        for (const element of document.querySelectorAll('.filepath')) {\n",
              "          element.style.display = 'block'\n",
              "          element.onclick = (event) => {\n",
              "            event.preventDefault();\n",
              "            event.stopPropagation();\n",
              "            google.colab.files.view(element.textContent, 193);\n",
              "          };\n",
              "        }\n",
              "      }\n",
              "      for (const element of document.querySelectorAll('.function-repr-contents')) {\n",
              "        element.onclick = (event) => {\n",
              "          event.preventDefault();\n",
              "          event.stopPropagation();\n",
              "          element.classList.toggle('function-repr-contents-collapsed');\n",
              "        };\n",
              "      }\n",
              "      </script>\n",
              "      </div>"
            ]
          },
          "metadata": {},
          "execution_count": 13
        }
      ]
    },
    {
      "cell_type": "code",
      "source": [
        "import tensorflow as tf\n",
        "\n",
        "train_ds = tf.data.Dataset.from_tensor_slices((dict(X_train), y_train))\n",
        "test_ds = tf.data.Dataset.from_tensor_slices((dict(X_test), y_test))"
      ],
      "metadata": {
        "id": "iTS8FzsABZEp"
      },
      "execution_count": null,
      "outputs": []
    },
    {
      "cell_type": "code",
      "source": [
        "train_dataset = train_ds.shuffle(8000).batch(16).prefetch(tf.data.AUTOTUNE)\n",
        "test_dataset = test_ds.batch(16).prefetch(tf.data.AUTOTUNE)"
      ],
      "metadata": {
        "id": "jaUJ6va7B7a4"
      },
      "execution_count": null,
      "outputs": []
    },
    {
      "cell_type": "markdown",
      "source": [
        "### 모델 로드 & 학습"
      ],
      "metadata": {
        "id": "oj5pRW4TCix3"
      }
    },
    {
      "cell_type": "code",
      "source": [
        "from transformers import TFBertForSequenceClassification\n",
        "\n",
        "model = TFBertForSequenceClassification.from_pretrained('klue/bert-base', num_labels=2, from_pt=True)"
      ],
      "metadata": {
        "colab": {
          "base_uri": "https://localhost:8080/",
          "height": 160,
          "referenced_widgets": [
            "7a8dce037d504a6ca46d1fc02706fc31",
            "a9d8ef6d185e4a49b92d7681bed4e7ea",
            "74b18593c2414ad69ebefaf32817935a",
            "2639eea82d2f4d41932a9bef1bfcb96f",
            "ef7e096f239e40edb114d296c5a1f17c",
            "faab8af77cca434ba6ed8ef4688e9211",
            "f2358474a1804aa8b7610cc1dc8bdc29",
            "4e9970b11094416783f48eeecca59f49",
            "8592bfe18c1c44df99978f9e80249ee1",
            "fc267f83e1bd4e1c87a2d94130f7ba6c",
            "15a37f2ecbf94ab1bd1488a43f43e8b1"
          ]
        },
        "id": "zp09RSB4Cvgd",
        "outputId": "f4105749-0583-48a9-d860-8dc0ee6c36ba"
      },
      "execution_count": null,
      "outputs": [
        {
          "output_type": "display_data",
          "data": {
            "text/plain": [
              "pytorch_model.bin:   0%|          | 0.00/445M [00:00<?, ?B/s]"
            ],
            "application/vnd.jupyter.widget-view+json": {
              "version_major": 2,
              "version_minor": 0,
              "model_id": "7a8dce037d504a6ca46d1fc02706fc31"
            }
          },
          "metadata": {}
        },
        {
          "output_type": "stream",
          "name": "stderr",
          "text": [
            "Some weights of the PyTorch model were not used when initializing the TF 2.0 model TFBertForSequenceClassification: ['bert.embeddings.position_ids']\n",
            "- This IS expected if you are initializing TFBertForSequenceClassification from a PyTorch model trained on another task or with another architecture (e.g. initializing a TFBertForSequenceClassification model from a BertForPreTraining model).\n",
            "- This IS NOT expected if you are initializing TFBertForSequenceClassification from a PyTorch model that you expect to be exactly identical (e.g. initializing a TFBertForSequenceClassification model from a BertForSequenceClassification model).\n",
            "Some weights or buffers of the TF 2.0 model TFBertForSequenceClassification were not initialized from the PyTorch model and are newly initialized: ['classifier.weight', 'classifier.bias']\n",
            "You should probably TRAIN this model on a down-stream task to be able to use it for predictions and inference.\n"
          ]
        }
      ]
    },
    {
      "cell_type": "code",
      "source": [
        "from transformers import create_optimizer\n",
        "\n",
        "num_train_steps = len(train_dataset) * 5\n",
        "num_warmup_steps = int(num_train_steps * 0.1)\n",
        "\n",
        "# optimizer\n",
        "optimizer, _ = create_optimizer(\n",
        "    init_lr=5e-5,                      # 학습률 초기값\n",
        "    num_train_steps=num_train_steps,   # 총 학습 step수\n",
        "    num_warmup_steps=num_warmup_steps, # warmup step수 (총 step수 1/10)\n",
        "    weight_decay_rate=0.1              # 학습률 감쇠 계수\n",
        ")\n",
        "\n",
        "# model.hf_compute_loss == 데이터셋에 맞게 이진분류/다중분류 loss 함수 알아서 지정\n",
        "model.compile(optimizer=optimizer, loss=model.hf_compute_loss, metrics=['accuracy'])\n",
        "\n",
        "# 학습\n",
        "model.fit(train_dataset, epochs=5, validation_data=test_dataset, batch_size=8)"
      ],
      "metadata": {
        "colab": {
          "base_uri": "https://localhost:8080/"
        },
        "id": "N3WLsfTpDqQE",
        "outputId": "d30b7451-90a5-49d3-8d22-6fc36b9e8fff"
      },
      "execution_count": null,
      "outputs": [
        {
          "output_type": "stream",
          "name": "stdout",
          "text": [
            "Epoch 1/5\n",
            "500/500 [==============================] - 120s 169ms/step - loss: 0.1662 - accuracy: 0.9451 - val_loss: 0.1118 - val_accuracy: 0.9547\n",
            "Epoch 2/5\n",
            "500/500 [==============================] - 83s 166ms/step - loss: 0.0730 - accuracy: 0.9784 - val_loss: 0.0894 - val_accuracy: 0.9713\n",
            "Epoch 3/5\n",
            "500/500 [==============================] - 84s 168ms/step - loss: 0.0381 - accuracy: 0.9893 - val_loss: 0.0781 - val_accuracy: 0.9747\n",
            "Epoch 4/5\n",
            "500/500 [==============================] - 84s 168ms/step - loss: 0.0142 - accuracy: 0.9964 - val_loss: 0.1005 - val_accuracy: 0.9743\n",
            "Epoch 5/5\n",
            "500/500 [==============================] - 84s 168ms/step - loss: 0.0039 - accuracy: 0.9991 - val_loss: 0.1090 - val_accuracy: 0.9757\n"
          ]
        },
        {
          "output_type": "execute_result",
          "data": {
            "text/plain": [
              "<tf_keras.src.callbacks.History at 0x7e84af5a36d0>"
            ]
          },
          "metadata": {},
          "execution_count": 17
        }
      ]
    },
    {
      "cell_type": "markdown",
      "source": [
        "### 모델 저장"
      ],
      "metadata": {
        "id": "AxekiBAoPka-"
      }
    },
    {
      "cell_type": "code",
      "source": [
        "model.save_pretrained('AIhub1_model/bert-base')\n",
        "tokenizer.save_pretrained('AIhub2_model/bert-base')"
      ],
      "metadata": {
        "id": "ircXEXEpPl4H",
        "colab": {
          "base_uri": "https://localhost:8080/"
        },
        "outputId": "c732264c-ba2f-4656-d43a-45d08f278e8c"
      },
      "execution_count": null,
      "outputs": [
        {
          "output_type": "execute_result",
          "data": {
            "text/plain": [
              "('AIhub2_model/bert-base/tokenizer_config.json',\n",
              " 'AIhub2_model/bert-base/special_tokens_map.json',\n",
              " 'AIhub2_model/bert-base/vocab.txt',\n",
              " 'AIhub2_model/bert-base/added_tokens.json',\n",
              " 'AIhub2_model/bert-base/tokenizer.json')"
            ]
          },
          "metadata": {},
          "execution_count": 18
        }
      ]
    },
    {
      "cell_type": "markdown",
      "source": [
        "### 추론"
      ],
      "metadata": {
        "id": "GycIJYPfQI1z"
      }
    },
    {
      "cell_type": "code",
      "source": [
        "# 텍스트 분류 라벨 값 지정\n",
        "model.config.id2label = {\n",
        "    0: \"긍정\",\n",
        "    1: \"부정\"\n",
        "}"
      ],
      "metadata": {
        "id": "Z5nbMhQeQKZY"
      },
      "execution_count": null,
      "outputs": []
    },
    {
      "cell_type": "code",
      "source": [
        "from transformers import TextClassificationPipeline\n",
        "\n",
        "sentiment_classifier = TextClassificationPipeline(\n",
        "    tokenizer=tokenizer,\n",
        "    model=model,\n",
        "    framework='tf',\n",
        "    # return_all_scores=True\n",
        ")"
      ],
      "metadata": {
        "id": "aEMoDVcyQUwa",
        "colab": {
          "base_uri": "https://localhost:8080/"
        },
        "outputId": "ec150e6f-b597-4078-ad05-af89bd58a170"
      },
      "execution_count": null,
      "outputs": [
        {
          "output_type": "stream",
          "name": "stderr",
          "text": [
            "Device set to use 0\n"
          ]
        }
      ]
    },
    {
      "cell_type": "code",
      "source": [
        "sentiment_classifier('직장 사람들과 좋은 관계를 가지시길 응원해요')"
      ],
      "metadata": {
        "id": "9jBbSLcbQ-ta",
        "colab": {
          "base_uri": "https://localhost:8080/"
        },
        "outputId": "f4ef9b1f-a895-41c7-e752-b63e2d01a7bd"
      },
      "execution_count": null,
      "outputs": [
        {
          "output_type": "execute_result",
          "data": {
            "text/plain": [
              "[{'label': '긍정', 'score': 0.987768828868866}]"
            ]
          },
          "metadata": {},
          "execution_count": 21
        }
      ]
    },
    {
      "cell_type": "code",
      "source": [
        "sentiment_classifier([\n",
        "    '퇴사하고 싶어',\n",
        "    '직장 사람들과 함께하는 것이 너무 즐거워',\n",
        "    '오늘 날씨가 좋아서 기분이 좋아.',\n",
        "    '비가와서 슬퍼',\n",
        "    '야구장이 너무 시끄러워서 짜릿해'\n",
        "])"
      ],
      "metadata": {
        "colab": {
          "base_uri": "https://localhost:8080/"
        },
        "id": "TH4ZHS6fLzlE",
        "outputId": "12b09594-c097-4283-826a-662a844dbffa"
      },
      "execution_count": null,
      "outputs": [
        {
          "output_type": "execute_result",
          "data": {
            "text/plain": [
              "[{'label': '부정', 'score': 0.999745786190033},\n",
              " {'label': '긍정', 'score': 0.9984161853790283},\n",
              " {'label': '긍정', 'score': 0.9989456534385681},\n",
              " {'label': '부정', 'score': 0.9995823502540588},\n",
              " {'label': '긍정', 'score': 0.8671702742576599}]"
            ]
          },
          "metadata": {},
          "execution_count": 31
        }
      ]
    },
    {
      "cell_type": "markdown",
      "source": [
        "# HuggingFace"
      ],
      "metadata": {
        "id": "rpfOYez5S70w"
      }
    },
    {
      "cell_type": "markdown",
      "source": [
        "### push"
      ],
      "metadata": {
        "id": "BgLTtJaWS9sk"
      }
    },
    {
      "cell_type": "code",
      "source": [
        "from google.colab import userdata\n",
        "\n",
        "HF_TOKEN = userdata.get('HF_TOKEN')"
      ],
      "metadata": {
        "id": "JgSghtm9Tlk1"
      },
      "execution_count": null,
      "outputs": []
    },
    {
      "cell_type": "code",
      "source": [
        "REPO_NAME = 'bert-base-practice'\n",
        "\n",
        "model.push_to_hub(REPO_NAME, use_temp_dir=True, use_auth_token=HF_TOKEN)\n",
        "tokenizer.push_to_hub(REPO_NAME, use_temp_dir=True, use_auth_token=HF_TOKEN)"
      ],
      "metadata": {
        "id": "Ob58q6E_Tz9j"
      },
      "execution_count": null,
      "outputs": []
    },
    {
      "cell_type": "markdown",
      "source": [
        "### load"
      ],
      "metadata": {
        "id": "jiv6YhiIU0px"
      }
    },
    {
      "cell_type": "code",
      "source": [
        "from transformers import AutoTokenizer, AutoModel\n",
        "\n",
        "tokenizer = AutoTokenizer.from_pretrained('tokenizer/bert-base-practice')\n",
        "model = AutoModel.from_pretrained('tf_model/bert-base-practice', from_tf=True)"
      ],
      "metadata": {
        "id": "-TgTxmt-U2yI"
      },
      "execution_count": null,
      "outputs": []
    },
    {
      "cell_type": "markdown",
      "source": [
        "### load한 모델 사용"
      ],
      "metadata": {
        "id": "rqeYcrLrVSHN"
      }
    },
    {
      "cell_type": "code",
      "source": [
        "from transformers import pipeline\n",
        "\n",
        "sentiment_classifier = pipeline('text-classification', model='Aihub/bert-base-practice')"
      ],
      "metadata": {
        "id": "XHgVPLr4VRww"
      },
      "execution_count": null,
      "outputs": []
    },
    {
      "cell_type": "code",
      "source": [
        "sentiment_classifier([\n",
        "    '퇴근 후 여가에 회사 일을 더 열심히 해서 피해가 가지 않도록 해야겠어.',\n",
        "    '내 능력이 부족한 거 같은데 그만 다녀야 될거같아.',\n",
        "    '직장 동료와 상사들이랑 친하게 지내야겠어.',\n",
        "    '직장 사람들과 좋은 관계를 가지시길 응원해요'\n",
        "])"
      ],
      "metadata": {
        "id": "_07yulOcVsq0"
      },
      "execution_count": null,
      "outputs": []
    }
  ]
}