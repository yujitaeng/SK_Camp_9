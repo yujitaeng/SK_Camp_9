{
  "cells": [
    {
      "cell_type": "markdown",
      "metadata": {},
      "source": [
        "# 밈 생성기 모델"
      ]
    },
    {
      "cell_type": "code",
      "execution_count": 68,
      "metadata": {
        "collapsed": true,
        "id": "b8Q0h_XEm2EP"
      },
      "outputs": [],
      "source": [
        "# !pip install transformers torch"
      ]
    },
    {
      "cell_type": "code",
      "execution_count": 69,
      "metadata": {
        "collapsed": true,
        "id": "7UIzjWczoyG8"
      },
      "outputs": [],
      "source": [
        "# !pip install transformers torch pillow"
      ]
    },
    {
      "cell_type": "markdown",
      "metadata": {
        "id": "l3NkUlNSpPI8"
      },
      "source": []
    },
    {
      "cell_type": "markdown",
      "metadata": {
        "id": "HDMiMNY-o5PU"
      },
      "source": [
        "-------\n"
      ]
    },
    {
      "cell_type": "code",
      "execution_count": 70,
      "metadata": {
        "id": "USxCg0gVoaHE"
      },
      "outputs": [],
      "source": [
        "from PIL import Image, ImageDraw, ImageFont\n",
        "import random\n",
        "from transformers import GPT2LMHeadModel, PreTrainedTokenizerFast\n",
        "from transformers import pipeline\n",
        "import os"
      ]
    },
    {
      "cell_type": "code",
      "execution_count": 71,
      "metadata": {
        "colab": {
          "base_uri": "https://localhost:8080/"
        },
        "id": "NhOCe-Hyobfk",
        "outputId": "af0bbfd0-a99b-46da-ff5e-615038c619fb"
      },
      "outputs": [
        {
          "name": "stderr",
          "output_type": "stream",
          "text": [
            "The tokenizer class you load from this checkpoint is not the same type as the class this function is called from. It may result in unexpected tokenization. \n",
            "The tokenizer class you load from this checkpoint is 'GPT2Tokenizer'. \n",
            "The class this function is called from is 'PreTrainedTokenizerFast'.\n"
          ]
        }
      ],
      "source": [
        "# 1. 모델과 토크나이저 로드\n",
        "model = GPT2LMHeadModel.from_pretrained('skt/kogpt2-base-v2')\n",
        "tokenizer = PreTrainedTokenizerFast.from_pretrained('skt/kogpt2-base-v2', bos_token='</s>', eos_token='</s>', unk_token='<unk>')\n"
      ]
    },
    {
      "cell_type": "code",
      "execution_count": 72,
      "metadata": {
        "id": "QMOTwrPDoh_V"
      },
      "outputs": [],
      "source": [
        "# 2. 밈 텍스트 생성 함수 정의\n",
        "def generate_meme_text(keyword, max_length=50):\n",
        "    prompt = f\"{keyword} 하면 떠오르는 것은? \"\n",
        "    input_ids = tokenizer.encode(prompt, return_tensors='pt')\n",
        "\n",
        "    output = model.generate(input_ids, max_length=max_length, num_return_sequences=1, no_repeat_ngram_size=2, top_p=0.95, top_k=50, do_sample=True)\n",
        "    generated_text = tokenizer.decode(output[0], skip_special_tokens=True)\n",
        "\n",
        "    # 키워드 + 생성된 문장 합치기\n",
        "    result_text = f\"{keyword}: {generated_text.replace(prompt, '').strip()}\"\n",
        "    return result_text"
      ]
    },
    {
      "cell_type": "code",
      "execution_count": 73,
      "metadata": {
        "id": "h7k5xAPoojtt"
      },
      "outputs": [],
      "source": [
        "# # 이미지에 텍스트 추가 함수\n",
        "# def create_meme_image(image_path, text, output_path):\n",
        "#     image = Image.open(image_path)\n",
        "#     draw = ImageDraw.Draw(image)\n",
        "\n",
        "#     # 글꼴 설정 (코랩 환경에서 기본 폰트 사용)\n",
        "#     try:\n",
        "#         font_size = int(image.height * 0.1)  # 이미지 높이의 20% 크기로 글자 크기 조정\n",
        "#         font = ImageFont.truetype(\"/usr/share/fonts/truetype/nanum/NanumGothicBold.ttf\", size=font_size)\n",
        "#     except IOError:\n",
        "#         font = ImageFont.load_default()\n",
        "\n",
        "#     # 텍스트 크기 계산\n",
        "#     text_bbox = draw.textbbox((0, 0), text, font=font)\n",
        "#     text_width = text_bbox[2] - text_bbox[0]\n",
        "#     text_height = text_bbox[3] - text_bbox[1]\n",
        "\n",
        "#     # 텍스트 위치를 상단 중앙으로 조정\n",
        "#     text_position = ((image.width - text_width) // 2, 10)\n",
        "\n",
        "#     draw.text(text_position, text, font=font, fill=\"white\")\n",
        "\n",
        "#     image.save(output_path)"
      ]
    },
    {
      "cell_type": "code",
      "execution_count": 74,
      "metadata": {
        "id": "lgr9FBE5Iyv5"
      },
      "outputs": [],
      "source": [
        "def create_meme_image(image_path, text, output_path):\n",
        "    image = Image.open(image_path)\n",
        "    draw = ImageDraw.Draw(image)\n",
        "\n",
        "    # 글꼴 설정 (코랩 환경에서 기본 폰트 사용)\n",
        "    try:\n",
        "        font_path = \"/usr/share/fonts/truetype/nanum/NanumGothicBold.ttf\"\n",
        "        # 시작 폰트 크기를 이미지 높이의 15%로 설정 (기존 20%에서 변경)\n",
        "        font_size = int(image.height * 0.15)\n",
        "        font = ImageFont.truetype(font_path, size=font_size)\n",
        "    except IOError:\n",
        "        font = ImageFont.load_default()\n",
        "\n",
        "    # 텍스트가 이미지 너비의 80%를 초과하지 않도록 폰트 크기 조정\n",
        "    max_width = int(image.width * 0.8)\n",
        "    text_bbox = draw.textbbox((0, 0), text, font=font)\n",
        "    text_width = text_bbox[2] - text_bbox[0]\n",
        "    text_height = text_bbox[3] - text_bbox[1]\n",
        "\n",
        "    # 텍스트가 너무 크면 폰트 크기 줄이기\n",
        "    while text_width > max_width and font_size > 10:\n",
        "        font_size -= 1\n",
        "        try:\n",
        "            font = ImageFont.truetype(font_path, size=font_size)\n",
        "        except IOError:\n",
        "            font = ImageFont.load_default()\n",
        "        text_bbox = draw.textbbox((0, 0), text, font=font)\n",
        "        text_width = text_bbox[2] - text_bbox[0]\n",
        "        text_height = text_bbox[3] - text_bbox[1]\n",
        "\n",
        "    # 여백 설정 (상단에서 5% 떨어진 위치)\n",
        "    margin = int(image.height * 0.05)\n",
        "    text_position = ((image.width - text_width) // 2, margin)\n",
        "\n",
        "    # 텍스트에 외곽선 추가해 가독성 높이기\n",
        "    outline_color = \"black\"\n",
        "    for offset_x, offset_y in [(1,1), (1,-1), (-1,1), (-1,-1)]:\n",
        "        draw.text((text_position[0]+offset_x, text_position[1]+offset_y),\n",
        "                 text, font=font, fill=outline_color)\n",
        "\n",
        "    # 실제 텍스트 그리기\n",
        "    draw.text(text_position, text, font=font, fill=\"white\")\n",
        "\n",
        "    image.save(output_path)"
      ]
    },
    {
      "cell_type": "code",
      "execution_count": 75,
      "metadata": {
        "id": "-a_qFSUzolqr"
      },
      "outputs": [],
      "source": [
        "# 밈 생성 함수\n",
        "def generate_meme(keyword):\n",
        "    # 업로드한 이미지 목록에서 선택\n",
        "    image_folder = \"content/\"\n",
        "    sample_images = [os.path.join(image_folder, img) for img in os.listdir(image_folder) if img.endswith(('.jpg', '.png'))]\n",
        "\n",
        "    if not sample_images:\n",
        "        raise FileNotFoundError(\"❌ 이미지가 없습니다. 'content/'에 이미지 파일을 업로드하세요.\")\n",
        "\n",
        "    image_path = random.choice(sample_images)\n",
        "\n",
        "    # 밈 텍스트 생성\n",
        "    meme_text = generate_meme_text(keyword)\n",
        "\n",
        "    # 결과 이미지 저장 경로\n",
        "    output_path = f\"content/output_meme_{keyword}.jpg\"\n",
        "\n",
        "    # 이미지에 텍스트 추가\n",
        "    create_meme_image(image_path, meme_text, output_path)\n",
        "\n",
        "    print(f\"✅ 밈 생성 완료: {output_path}\")\n",
        "    return output_path\n"
      ]
    },
    {
      "cell_type": "code",
      "execution_count": 76,
      "metadata": {
        "colab": {
          "base_uri": "https://localhost:8080/"
        },
        "id": "l8G6PpW5ztGc",
        "outputId": "9c52470f-2fa8-4da4-ab64-ce6db252e80c"
      },
      "outputs": [
        {
          "name": "stdout",
          "output_type": "stream",
          "text": [
            "['meme7.jpg', 'meme2.jpg', 'meme5.jpg', 'meme4.jpg', 'meme9.jpg', 'meme3.jpg', 'meme8.jpg', 'meme6.jpg', '.ipynb_checkpoints', 'output_meme_고양이.jpg']\n"
          ]
        }
      ],
      "source": [
        "print(os.listdir('content/'))"
      ]
    },
    {
      "cell_type": "markdown",
      "metadata": {
        "id": "Ly1EbpAODlgZ"
      },
      "source": []
    },
    {
      "cell_type": "code",
      "execution_count": 77,
      "metadata": {
        "id": "XYOg1Dl3EGf5"
      },
      "outputs": [],
      "source": [
        "# !ls /usr/share/fonts/truetype/"
      ]
    },
    {
      "cell_type": "markdown",
      "metadata": {
        "id": "POCak3WgKVei"
      },
      "source": []
    },
    {
      "cell_type": "code",
      "execution_count": 78,
      "metadata": {
        "id": "LD1KDad1EKRQ"
      },
      "outputs": [],
      "source": [
        "# !apt-get update\n",
        "# !apt-get install -y fonts-nanum"
      ]
    },
    {
      "cell_type": "code",
      "execution_count": 79,
      "metadata": {
        "id": "Qao4uQTQEQPy"
      },
      "outputs": [],
      "source": [
        "# !ls /usr/share/fonts/truetype/nanum"
      ]
    },
    {
      "cell_type": "markdown",
      "metadata": {
        "id": "x_C2QonZomls"
      },
      "source": [
        "### 테스트"
      ]
    },
    {
      "cell_type": "code",
      "execution_count": 80,
      "metadata": {
        "colab": {
          "base_uri": "https://localhost:8080/",
          "height": 303
        },
        "id": "T1W_kItFooMC",
        "outputId": "a1ff0e6d-8c9f-4592-a2ee-a536877eb2a0"
      },
      "outputs": [
        {
          "name": "stdout",
          "output_type": "stream",
          "text": [
            "키워드를 입력하세요: 유지은\n",
            "✅ 밈 생성 완료: content/output_meme_유지은.jpg\n"
          ]
        },
        {
          "data": {
            "image/jpeg": "[encoded data removed]",
            "text/plain": [
              "<IPython.core.display.Image object>"
            ]
          },
          "metadata": {},
          "output_type": "display_data"
        }
      ],
      "source": [
        "# 테스트 실행\n",
        "if __name__ == \"__main__\":\n",
        "    user_input = input(\"키워드를 입력하세요: \")\n",
        "    output_image_path = generate_meme(user_input)\n",
        "\n",
        "    # 생성된 밈 이미지 출력\n",
        "    from IPython.display import Image, display\n",
        "    display(Image(output_image_path))"
      ]
    }
  ],
  "metadata": {
    "colab": {
      "provenance": []
    },
    "kernelspec": {
      "display_name": "Python 3",
      "name": "python3"
    },
    "language_info": {
      "name": "python"
    }
  },
  "nbformat": 4,
  "nbformat_minor": 0
}
