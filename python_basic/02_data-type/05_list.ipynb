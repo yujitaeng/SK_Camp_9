{
 "cells": [
  {
   "cell_type": "markdown",
   "metadata": {},
   "source": [
    "### 리스트 (배열)"
   ]
  },
  {
   "cell_type": "code",
   "execution_count": 1,
   "metadata": {},
   "outputs": [],
   "source": [
    "fruits = ['apple', 'cherry', 'orange', 'durian']\n",
    "animals = []\n",
    "anything = [2024, 12, 19, 'python', ['number', 'string', 'boolean'], True]"
   ]
  },
  {
   "cell_type": "code",
   "execution_count": 2,
   "metadata": {},
   "outputs": [
    {
     "name": "stdout",
     "output_type": "stream",
     "text": [
      "['red', 'orange', 'yellow', 'green', 'blue', 'navy', 'purple']\n"
     ]
    }
   ],
   "source": [
    "rainbow_str = 'red-orange-yellow-green-blue-navy-purple'\n",
    "rainbow = rainbow_str.split('-')\n",
    "\n",
    "print(rainbow)"
   ]
  },
  {
   "cell_type": "code",
   "execution_count": 3,
   "metadata": {},
   "outputs": [
    {
     "name": "stdout",
     "output_type": "stream",
     "text": [
      "['red', 'orange', 'yellow', 'green', 'blue', 'navy', 'purple']\n"
     ]
    }
   ],
   "source": [
    "rainbow_str = 'red/orange/yellow/green/blue/navy/purple'\n",
    "rainbow = rainbow_str.split('/')\n",
    "\n",
    "print(rainbow)"
   ]
  },
  {
   "cell_type": "markdown",
   "metadata": {},
   "source": [
    "---\n",
    "\n",
    "### 리스트의 연산"
   ]
  },
  {
   "cell_type": "code",
   "execution_count": 4,
   "metadata": {},
   "outputs": [
    {
     "name": "stdout",
     "output_type": "stream",
     "text": [
      "['apple', 'cherry', 'orange', 'durian', 2024, 12, 19, 'python', ['number', 'string', 'boolean'], True]\n"
     ]
    }
   ],
   "source": [
    "added_list = fruits + anything\n",
    "print(added_list)"
   ]
  },
  {
   "cell_type": "code",
   "execution_count": 5,
   "metadata": {},
   "outputs": [
    {
     "name": "stdout",
     "output_type": "stream",
     "text": [
      "['apple', 'cherry', 'orange', 'durian', 'apple', 'cherry', 'orange', 'durian', 'apple', 'cherry', 'orange', 'durian']\n"
     ]
    }
   ],
   "source": [
    "multiple_list = fruits * 3\n",
    "print(multiple_list)"
   ]
  },
  {
   "cell_type": "markdown",
   "metadata": {},
   "source": [
    "---\n",
    "\n",
    "### 리스트의 매서드"
   ]
  },
  {
   "cell_type": "code",
   "execution_count": 6,
   "metadata": {},
   "outputs": [],
   "source": [
    "num_list = [2024, 12, 19, 16, 9]"
   ]
  },
  {
   "cell_type": "code",
   "execution_count": 7,
   "metadata": {},
   "outputs": [
    {
     "name": "stdout",
     "output_type": "stream",
     "text": [
      "[2024, 12, 19, 16, 9, 4]\n"
     ]
    }
   ],
   "source": [
    "num_list.append(4)\n",
    "print(num_list)"
   ]
  },
  {
   "cell_type": "code",
   "execution_count": 21,
   "metadata": {},
   "outputs": [
    {
     "name": "stdout",
     "output_type": "stream",
     "text": [
      "[777, 777, 2024, 777, 777, 19, 16, 12, 9, 4, 777]\n"
     ]
    }
   ],
   "source": [
    "num_list.insert(0, 777)\n",
    "print(num_list)\n",
    "\n",
    "num_list.append(777)"
   ]
  },
  {
   "cell_type": "code",
   "execution_count": 10,
   "metadata": {},
   "outputs": [
    {
     "name": "stdout",
     "output_type": "stream",
     "text": [
      "[777, 2024, 12, 19, 16, 9, 4, 777]\n"
     ]
    }
   ],
   "source": [
    "num_list.remove(777)\n",
    "print(num_list)"
   ]
  },
  {
   "cell_type": "code",
   "execution_count": 11,
   "metadata": {},
   "outputs": [
    {
     "name": "stdout",
     "output_type": "stream",
     "text": [
      "[4, 9, 12, 16, 19, 777, 777, 2024]\n"
     ]
    }
   ],
   "source": [
    "num_list.sort()\n",
    "print(num_list)"
   ]
  },
  {
   "cell_type": "code",
   "execution_count": 12,
   "metadata": {},
   "outputs": [
    {
     "name": "stdout",
     "output_type": "stream",
     "text": [
      "[2024, 777, 777, 19, 16, 12, 9, 4]\n"
     ]
    }
   ],
   "source": [
    "num_list.sort(reverse=True)\n",
    "print(num_list)"
   ]
  },
  {
   "cell_type": "code",
   "execution_count": 13,
   "metadata": {},
   "outputs": [
    {
     "name": "stdout",
     "output_type": "stream",
     "text": [
      "['apple', 'cherry', 'durian', 'orange']\n"
     ]
    }
   ],
   "source": [
    "# 참고 sorted\n",
    "sorted_fruits = sorted(fruits)\n",
    "print(sorted_fruits)"
   ]
  },
  {
   "cell_type": "markdown",
   "metadata": {},
   "source": [
    "---\n",
    "\n",
    "### ★인덱스, 인덱싱과 슬라이싱"
   ]
  },
  {
   "cell_type": "code",
   "execution_count": 22,
   "metadata": {},
   "outputs": [
    {
     "name": "stdout",
     "output_type": "stream",
     "text": [
      "12\n",
      "['number', 'string', 'boolean']\n",
      "['number', 'string', 'boolean']\n"
     ]
    }
   ],
   "source": [
    "#anything = [2024, 12, 19, 'python', ['number', 'string', 'boolean'], True]\n",
    "\n",
    "first_ele = anything[1] \n",
    "forth_ele = anything[4] \n",
    "\n",
    "print(first_ele)\n",
    "print(forth_ele)\n",
    "\n",
    "print(anything[4])"
   ]
  },
  {
   "cell_type": "code",
   "execution_count": 15,
   "metadata": {},
   "outputs": [
    {
     "name": "stdout",
     "output_type": "stream",
     "text": [
      "True\n"
     ]
    }
   ],
   "source": [
    "print(anything[-1])  # -음수값은 뒤에서부터 요소를 세어 옴"
   ]
  },
  {
   "cell_type": "code",
   "execution_count": 16,
   "metadata": {},
   "outputs": [
    {
     "name": "stdout",
     "output_type": "stream",
     "text": [
      "[2024, 12, 19, 'python', ['number', 'string', 'boolean'], False]\n"
     ]
    }
   ],
   "source": [
    "anything[-1] = False\n",
    "print(anything)"
   ]
  },
  {
   "cell_type": "code",
   "execution_count": 17,
   "metadata": {},
   "outputs": [
    {
     "name": "stdout",
     "output_type": "stream",
     "text": [
      "[2024, 12]\n"
     ]
    }
   ],
   "source": [
    "today = anything[0:2]\n",
    "print(today)"
   ]
  },
  {
   "cell_type": "code",
   "execution_count": 18,
   "metadata": {},
   "outputs": [
    {
     "name": "stdout",
     "output_type": "stream",
     "text": [
      "['python', ['number', 'string', 'boolean']]\n"
     ]
    }
   ],
   "source": [
    "strs = anything[-3:-1]\n",
    "print(strs)"
   ]
  },
  {
   "cell_type": "code",
   "execution_count": 19,
   "metadata": {},
   "outputs": [
    {
     "name": "stdout",
     "output_type": "stream",
     "text": [
      "[2024, 12, 19, 'python', ['number', 'string', 'boolean'], False]\n"
     ]
    }
   ],
   "source": [
    "strs = anything[:]\n",
    "print(strs)"
   ]
  },
  {
   "cell_type": "markdown",
   "metadata": {},
   "source": [
    "---\n",
    "\n",
    "### 리스트 실습"
   ]
  },
  {
   "cell_type": "markdown",
   "metadata": {},
   "source": [
    "### **문제 1**\n",
    "\n",
    "아래 조건에 맞게 리스트를 선언하고 결과를 출력하세요.\n",
    "\n",
    "1. `fruits`라는 리스트에 다음 요소를 저장하세요.\n",
    "    - `'apple', 'banana', 'cherry'`.\n",
    "2. `print()`를 사용해 `fruits`의 첫 번째 요소와 세 번째 요소를 출력하세요."
   ]
  },
  {
   "cell_type": "code",
   "execution_count": 35,
   "metadata": {},
   "outputs": [
    {
     "name": "stdout",
     "output_type": "stream",
     "text": [
      "apple cherry\n"
     ]
    }
   ],
   "source": [
    "fruits = ['apple', 'banana', 'cherry']\n",
    "print(fruits[0], fruits[2])"
   ]
  },
  {
   "cell_type": "markdown",
   "metadata": {},
   "source": [
    "### **문제 2**\n",
    "\n",
    "다음 조건을 만족하는 리스트를 만드세요.\n",
    "\n",
    "1. `numbers`라는 리스트를 선언하고 숫자 `1`부터 `5`까지 저장하세요.\n",
    "2. 이 리스트의 **길이**를 출력하세요."
   ]
  },
  {
   "cell_type": "code",
   "execution_count": 26,
   "metadata": {},
   "outputs": [
    {
     "name": "stdout",
     "output_type": "stream",
     "text": [
      "5\n"
     ]
    }
   ],
   "source": [
    "numbers = [1, 2, 3, 4, 5]\n",
    "print(len(numbers))\n"
   ]
  },
  {
   "cell_type": "markdown",
   "metadata": {},
   "source": [
    "### **문제 3**\n",
    "\n",
    "다음 조건에 맞게 리스트를 조작하세요.\n",
    "\n",
    "1. `animals` 리스트에 `'cat', 'dog', 'bird'`를 저장하세요.\n",
    "2. 이 리스트의 마지막에 `'fish'`를 추가하고, 리스트를 출력하세요."
   ]
  },
  {
   "cell_type": "code",
   "execution_count": 29,
   "metadata": {},
   "outputs": [
    {
     "name": "stdout",
     "output_type": "stream",
     "text": [
      "['cat', 'dog', 'bird', 'fish']\n"
     ]
    }
   ],
   "source": [
    "animals = ['cat', 'dog', 'bird']\n",
    "animals.append('fish')\n",
    "\n",
    "print(animals)"
   ]
  },
  {
   "cell_type": "markdown",
   "metadata": {},
   "source": [
    "### **문제 4**\n",
    "\n",
    "아래 조건에 맞는 프로그램을 작성하세요.\n",
    "\n",
    "1. `numbers` 리스트에 숫자 `3, 6, 9`를 저장하세요.\n",
    "2. 리스트의 첫 번째 요소를 **2배**로 만들어 다시 저장하고, 리스트를 출력하세요."
   ]
  },
  {
   "cell_type": "code",
   "execution_count": 47,
   "metadata": {},
   "outputs": [
    {
     "name": "stdout",
     "output_type": "stream",
     "text": [
      "[6, 6, 9]\n"
     ]
    }
   ],
   "source": [
    "numbers = [3, 6, 9]\n",
    "first_ele = numbers[0] * 2\n",
    "numbers[0] = first_ele\n",
    "# numbers[0] = numbers[0] * 2  로 위의 2줄을 줄일 수 있음음\n",
    "\n",
    "print(numbers)"
   ]
  },
  {
   "cell_type": "markdown",
   "metadata": {},
   "source": [
    "### **문제 5**\n",
    "\n",
    "아래 문자열을 리스트로 변환하고 결과를 출력하세요.\n",
    "\n",
    "1. 문자열 `'Python-is-fun'`을 `'-'`를 기준으로 분리하여 리스트로 만드세요.\n",
    "2. 결과 리스트를 출력하세요."
   ]
  },
  {
   "cell_type": "code",
   "execution_count": 38,
   "metadata": {},
   "outputs": [
    {
     "name": "stdout",
     "output_type": "stream",
     "text": [
      "['Python', 'is', 'fun']\n"
     ]
    }
   ],
   "source": [
    "str = 'Python-is-fun'\n",
    "fun = str.split('-')\n",
    "\n",
    "print(fun)"
   ]
  },
  {
   "cell_type": "markdown",
   "metadata": {},
   "source": [
    "### **문제 7**\n",
    "\n",
    "아래 조건에 맞게 리스트의 요소를 수정하세요.\n",
    "\n",
    "1. `colors` 리스트에 `'red', 'blue', 'green'`을 저장하세요.\n",
    "2. `'blue'`를 `'yellow'`로 변경하고 리스트를 출력하세요."
   ]
  },
  {
   "cell_type": "code",
   "execution_count": 1,
   "metadata": {},
   "outputs": [
    {
     "name": "stdout",
     "output_type": "stream",
     "text": [
      "['red', 'yellow', 'green']\n"
     ]
    }
   ],
   "source": [
    "colors = ['red', 'blue', 'green']\n",
    "# colors.insert(1,yellow)\n",
    "colors[1] = 'yellow'\n",
    "\n",
    "print(colors)"
   ]
  },
  {
   "cell_type": "markdown",
   "metadata": {},
   "source": [
    "### **문제 9**\n",
    "\n",
    "아래 조건에 맞게 리스트와 문자열을 활용하세요.\n",
    "\n",
    "1. 리스트 `words`에 `'Life', 'is', 'too', 'short'`를 저장하세요.\n",
    "2. 리스트의 요소를 공백으로 이어붙여 문자열 `'Life is too short'`를 출력하세요."
   ]
  },
  {
   "cell_type": "code",
   "execution_count": 45,
   "metadata": {},
   "outputs": [
    {
     "name": "stdout",
     "output_type": "stream",
     "text": [
      "Life is too short\n"
     ]
    }
   ],
   "source": [
    "words = ['Life', 'is', 'too', 'short']\n",
    "result = ' '.join(words)\n",
    "\n",
    "print(result)"
   ]
  },
  {
   "cell_type": "markdown",
   "metadata": {},
   "source": [
    "### **문제 10**\n",
    "\n",
    "아래 조건에 맞는 프로그램을 작성하세요.\n",
    "\n",
    "1. 리스트 `numbers`에 숫자 `1, 2, 3, 4, 5`를 저장하세요.\n",
    "2. 슬라이싱을 이용하여 다음을 수행하세요:\n",
    "    - 리스트의 **처음 3개의 요소**를 출력하세요.\n",
    "    - 리스트의 **마지막 2개의 요소**를 출력하세요.\n",
    "    - 리스트의 **모든 요소를 역순**으로 출력하세요."
   ]
  },
  {
   "cell_type": "code",
   "execution_count": 50,
   "metadata": {},
   "outputs": [
    {
     "name": "stdout",
     "output_type": "stream",
     "text": [
      "[1, 2, 3]\n"
     ]
    }
   ],
   "source": [
    "numbers = [1, 2, 3, 4, 5]\n",
    "temp = numbers[0:3]\n",
    "print(temp)\n",
    "# print(numbers[:3])    이렇게 줄여써도 됨!"
   ]
  },
  {
   "cell_type": "code",
   "execution_count": 51,
   "metadata": {},
   "outputs": [
    {
     "name": "stdout",
     "output_type": "stream",
     "text": [
      "[4, 5]\n"
     ]
    }
   ],
   "source": [
    "temp = numbers[3:]\n",
    "print(temp)\n",
    "#  print(numbers[3:])"
   ]
  },
  {
   "cell_type": "code",
   "execution_count": 52,
   "metadata": {},
   "outputs": [
    {
     "name": "stdout",
     "output_type": "stream",
     "text": [
      "[5, 4, 3, 2, 1]\n"
     ]
    }
   ],
   "source": [
    "numbers.sort(reverse=True)\n",
    "print(numbers)\n",
    "\n",
    "#  print(numbers[::-1])   콜론2개에서 음수로 하면 역순으로 시작한다는 말"
   ]
  }
 ],
 "metadata": {
  "kernelspec": {
   "display_name": "pystudy_env",
   "language": "python",
   "name": "python3"
  },
  "language_info": {
   "codemirror_mode": {
    "name": "ipython",
    "version": 3
   },
   "file_extension": ".py",
   "mimetype": "text/x-python",
   "name": "python",
   "nbconvert_exporter": "python",
   "pygments_lexer": "ipython3",
   "version": "3.12.8"
  }
 },
 "nbformat": 4,
 "nbformat_minor": 2
}
