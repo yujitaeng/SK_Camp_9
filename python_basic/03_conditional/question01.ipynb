{
 "cells": [
  {
   "cell_type": "markdown",
   "metadata": {},
   "source": [
    "## **문제 1: 선택의 시작**\n",
    "\n",
    "**\"다람쥐는 서울에 갈 것인가?\"**\n",
    "\n",
    "다람쥐는 서울로 상경할 계획을 세우고 있습니다. 다음 조건을 확인하세요.\n",
    "\n",
    "1. 사용자에게 \"서울에 갈 계획이 있나요? (y/n): \"를 입력받으세요.\n",
    "2. 입력값이 `'y'`이면 **\"서울로 간다!\"**를 출력하세요."
   ]
  },
  {
   "cell_type": "code",
   "execution_count": 2,
   "metadata": {},
   "outputs": [
    {
     "name": "stdout",
     "output_type": "stream",
     "text": [
      "서울로 간다!\n"
     ]
    }
   ],
   "source": [
    "plan = input('서울에 갈 계획이 있나요? (y/n):')\n",
    "\n",
    "if plan == 'y':\n",
    "    print('서울로 간다!')"
   ]
  },
  {
   "cell_type": "markdown",
   "metadata": {},
   "source": [
    "## **문제 2: 짐 싸기**\n",
    "\n",
    "**\"다람쥐는 짐을 싸야 할까?\"**\n",
    "\n",
    "다람쥐는 서울에 가기로 마음먹었지만 짐을 싸야 할지 고민하고 있습니다.\n",
    "\n",
    "1. 사용자에게 \"집에 있는 가구를 다 가져갈까요? (y/n): \"를 입력받으세요.\n",
    "2. 입력값이 `'n'`이면 **\"서울에서 가구를 새로 산다.\"**를 출력하세요."
   ]
  },
  {
   "cell_type": "code",
   "execution_count": 15,
   "metadata": {},
   "outputs": [
    {
     "name": "stdout",
     "output_type": "stream",
     "text": [
      "서울에서 가구를 새로 산다\n"
     ]
    }
   ],
   "source": [
    "bag = input('집에 있는 가구를 다 가져갈까요? (y/n):')\n",
    "\n",
    "if bag == 'n':\n",
    "    print('서울에서 가구를 새로 산다')\n",
    "\n",
    "elif bag == 'y':\n",
    "    print('다 챙겨간다')"
   ]
  },
  {
   "cell_type": "markdown",
   "metadata": {},
   "source": [
    "## **문제 3: 기차표 구매**\n",
    "\n",
    "**\"다람쥐는 기차표를 살 수 있을까?\"**\n",
    "\n",
    "다람쥐는 서울행 기차표를 구매하려 합니다.\n",
    "\n",
    "1. 사용자에게 \"현재 소지금은 얼마인가요? (숫자 입력): \"을 입력받으세요.\n",
    "2. 입력값이 `50000` 이상이면 **\"기차표를 구매했다!\"**를 출력하세요."
   ]
  },
  {
   "cell_type": "code",
   "execution_count": 19,
   "metadata": {},
   "outputs": [
    {
     "name": "stdout",
     "output_type": "stream",
     "text": [
      "기차표를 구매했다!\n"
     ]
    }
   ],
   "source": [
    "money = input('현재 소지금은 얼마인가요? (숫자입력)')\n",
    "\n",
    "if int(money) >= 50000 :\n",
    "    print('기차표를 구매했다!')\n",
    "else:\n",
    "   print('기차표를 구매할 수 없다ㅠ')"
   ]
  },
  {
   "cell_type": "markdown",
   "metadata": {},
   "source": [
    "## **문제 4: 서울 도착**\n",
    "\n",
    "**\"다람쥐는 서울에 도착했다. 날씨가 좋을까?\"**\n",
    "\n",
    "서울에 도착한 다람쥐는 날씨에 따라 이동할 계획입니다.\n",
    "\n",
    "1. 사용자에게 \"오늘 서울 날씨는 맑음인가요? (y/n): \"를 입력받으세요.\n",
    "2. 입력값이 `'y'`이면 **\"서울 구경을 나간다.\"**를 출력하세요.\n",
    "3. 입력값이 `'n'`이면 **\"집에서 쉰다.\"**를 출력하세요."
   ]
  },
  {
   "cell_type": "code",
   "execution_count": 32,
   "metadata": {},
   "outputs": [
    {
     "name": "stdout",
     "output_type": "stream",
     "text": [
      "집에서 쉰다\n"
     ]
    }
   ],
   "source": [
    "sun = input('오늘 서울 날씨는 맑음인가요? (y/n):')\n",
    "if sun == 'y':\n",
    "    print('서울 구경을 나간다')\n",
    "elif sun == 'n':\n",
    "    print('집에서 쉰다')"
   ]
  },
  {
   "cell_type": "markdown",
   "metadata": {},
   "source": [
    "## **문제 5: 집 구하기**\n",
    "\n",
    "**\"다람쥐는 어디에 살까?\"**\n",
    "\n",
    "서울에서 집을 구해야 하는 다람쥐는 예산에 따라 집을 선택합니다.\n",
    "\n",
    "1. 사용자에게 \"월세 예산은 얼마인가요? (숫자 입력): \"를 입력받으세요.\n",
    "2. 입력값이 `1000000` 이하이면 **\"고시원에서 산다.\"**를 출력하세요.\n",
    "3. 그 외의 경우 **\"원룸을 계약한다.\"**를 출력하세요."
   ]
  },
  {
   "cell_type": "code",
   "execution_count": 23,
   "metadata": {},
   "outputs": [
    {
     "name": "stdout",
     "output_type": "stream",
     "text": [
      "고시원에서 산다\n"
     ]
    }
   ],
   "source": [
    "deposit = input('월세 예산은 얼마인가요? (숫자입력):')\n",
    "if int(deposit) <= 1000000:\n",
    "    print('고시원에서 산다')\n",
    "else:\n",
    "    print('원룸을 계약한다')"
   ]
  },
  {
   "cell_type": "code",
   "execution_count": 34,
   "metadata": {},
   "outputs": [
    {
     "name": "stdout",
     "output_type": "stream",
     "text": [
      "고시원에서 산다\n"
     ]
    }
   ],
   "source": [
    "buget = int(input('월세 예산은 얼마인가요?(숫자 입력):'))\n",
    "\n",
    "if buget <= 1000000:\n",
    "    print('고시원에서 산다')\n",
    "else:\n",
    "    print('원룸을 계약한다')"
   ]
  },
  {
   "cell_type": "code",
   "execution_count": 43,
   "metadata": {},
   "outputs": [
    {
     "name": "stdout",
     "output_type": "stream",
     "text": [
      "고시원에서 산다\n"
     ]
    }
   ],
   "source": [
    "# 삼항연산자 응용\n",
    "\n",
    "buget = int(input('월세 예산은 얼마인가요?(숫자 입력):'))\n",
    "print('고시원에서 산다' if buget <= 1000000 else '원룸을 계약한다')"
   ]
  },
  {
   "cell_type": "markdown",
   "metadata": {},
   "source": [
    "## **문제 6: 직장 찾기**\n",
    "\n",
    "**\"다람쥐는 직장을 구해야 한다!\"**\n",
    "\n",
    "다람쥐는 서울에서 일자리를 찾고 있습니다. 직장에 따라 일의 강도가 다릅니다.\n",
    "\n",
    "1. 사용자에게 \"원하는 직장 종류를 입력하세요 (프리랜서/중소기업/대기업): \"를 입력받으세요.\n",
    "2. 입력값이 `'프리랜서'`이면 **\"시간은 자유롭지만 불안정하다.\"**를 출력하세요.\n",
    "3. 입력값이 `'중소기업'`이면 **\"안정적이지만 일이 많다.\"**를 출력하세요."
   ]
  },
  {
   "cell_type": "code",
   "execution_count": 26,
   "metadata": {},
   "outputs": [
    {
     "name": "stdout",
     "output_type": "stream",
     "text": [
      "대감집 노예\n"
     ]
    }
   ],
   "source": [
    "job = input('원하는 직장 종류를 입력하세요 (프리랜서/중소기업/대기업):')\n",
    "\n",
    "if job == '프리랜서':\n",
    "    print('시간은 자유롭지만 불안정하다')\n",
    "elif job == '중소기업':\n",
    "    print('안정적이지만 일이 많다')\n",
    "elif job == '대기업':\n",
    "    print('대감집 노예')"
   ]
  },
  {
   "cell_type": "markdown",
   "metadata": {},
   "source": [
    "## **문제 7: 생활 루틴 정하기**\n",
    "\n",
    "**\"다람쥐는 서울에서 생활 루틴을 정해야 한다.\"**\n",
    "\n",
    "서울 생활에 적응한 다람쥐는 하루 루틴을 정하려 합니다.\n",
    "\n",
    "1. 사용자에게 \"아침에 일어나는 시간을 입력하세요 (숫자 입력, 1~10): \"를 입력받으세요.\n",
    "2. 입력값이 `3`이면 **\"운동을 한다.\"**를 출력하세요.\n",
    "3. 입력값이 `4`이면 **\"공부를 한다.\"**를 출력하세요.\n",
    "4. 입력값이 `5`이면 **\"바로 출근 준비를 한다.\"**를 출력하세요."
   ]
  },
  {
   "cell_type": "code",
   "execution_count": 36,
   "metadata": {},
   "outputs": [
    {
     "name": "stdout",
     "output_type": "stream",
     "text": [
      "공부를 한다\n"
     ]
    }
   ],
   "source": [
    "time = input('아침에 일어나는 시간을 입력하세요 (숫자 입력, 1~10):')\n",
    "\n",
    "if int(time) == 3:\n",
    "    print('운동을 한다')\n",
    "elif int(time) == 4:\n",
    "    print('공부를 한다')\n",
    "elif int(time) == 5:\n",
    "    print('바로 출근 준비를 한다')"
   ]
  },
  {
   "cell_type": "code",
   "execution_count": 37,
   "metadata": {},
   "outputs": [
    {
     "name": "stdout",
     "output_type": "stream",
     "text": [
      "운동을 한다\n"
     ]
    }
   ],
   "source": [
    "time = int(input('아침에 일어나는 시간을 입력하세요 (숫자 입력, 1~10):'))\n",
    "\n",
    "if time == 3:\n",
    "    print('운동을 한다')\n",
    "elif time == 4:\n",
    "    print('공부를 한다')\n",
    "elif time == 5:\n",
    "    print('바로 출근 준비를 한다')"
   ]
  },
  {
   "cell_type": "markdown",
   "metadata": {},
   "source": [
    "## **문제 8: 주말 계획**\n",
    "\n",
    "**\"다람쥐의 주말 계획은?\"**\n",
    "\n",
    "주말이 되자 다람쥐는 여유로운 시간을 보내려 합니다.\n",
    "\n",
    "1. 사용자에게 \"오늘 날씨가 어떤가요? (맑음/비/눈): \"를 입력받으세요.\n",
    "2. 입력값이 `'맑음'`이면 **\"한강에 가서 피크닉을 즐기는 척하며 일을 한다.\"**를 출력하세요.\n",
    "3. 입력값이 `'비'`이면 **\"집에서 빗소리를 ASMR 삼아 일을 한다.\"**를 출력하세요.\n",
    "4. 입력값이 `'눈'`이면 **\"전기장판 안에서 귤을 까먹으며 일을 한다.\"**를 출력하세요.\n",
    "5. 그 외의 값이 입력되면 **\"암막 커튼 때문에 일어나지 못했다. 푹 잘 수 있군, 럭키비키잖아?\"**를 출력하세요."
   ]
  },
  {
   "cell_type": "code",
   "execution_count": 33,
   "metadata": {},
   "outputs": [
    {
     "name": "stdout",
     "output_type": "stream",
     "text": [
      "암막 커튼 때문에 일어나지 못했다. 푹 잘 수 있군, 럭키비키잖아?! ><\n"
     ]
    }
   ],
   "source": [
    "weather = input('오늘 날씨가 어떤가요? (맑음/비/눈):')\n",
    "\n",
    "if weather == '맑음':\n",
    "    print('한강에서 피크닉을 즐기는 척하며 일을 한다')\n",
    "elif weather == '비':\n",
    "    print('집에서 빗소리를 ASMR 삼아 일을 한다')\n",
    "elif weather == '눈':\n",
    "    print('전기장판 안에서 귤을 까먹으며 일을 한다')\n",
    "else:\n",
    "    print('암막 커튼 때문에 일어나지 못했다. 푹 잘 수 있군, 럭키비키잖아?! ><')"
   ]
  },
  {
   "cell_type": "code",
   "execution_count": 44,
   "metadata": {},
   "outputs": [
    {
     "name": "stdout",
     "output_type": "stream",
     "text": [
      "암막 커튼 때문에 일어나지 못했다. 푹 잘 수 있군, 럭키비키잖아?! ><\n"
     ]
    }
   ],
   "source": [
    "# match-case 응용\n",
    "\n",
    "weather = input('오늘 날씨가 어떤가요? (맑음/비/눈):')\n",
    "\n",
    "match weather:\n",
    "    case '맑음':\n",
    "        print('한강에서 피크닉을 즐기는 척하며 일을 한다')\n",
    "    case '비':\n",
    "        print('집에서 빗소리를 ASMR 삼아 일을 한다')\n",
    "    case '눈':\n",
    "        print('전기장판 안에서 귤을 까먹으며 일을 한다')\n",
    "    case _:\n",
    "        print('암막 커튼 때문에 일어나지 못했다. 푹 잘 수 있군, 럭키비키잖아?! ><')"
   ]
  }
 ],
 "metadata": {
  "kernelspec": {
   "display_name": "pystudy_env",
   "language": "python",
   "name": "python3"
  },
  "language_info": {
   "codemirror_mode": {
    "name": "ipython",
    "version": 3
   },
   "file_extension": ".py",
   "mimetype": "text/x-python",
   "name": "python",
   "nbconvert_exporter": "python",
   "pygments_lexer": "ipython3",
   "version": "3.12.8"
  }
 },
 "nbformat": 4,
 "nbformat_minor": 2
}
