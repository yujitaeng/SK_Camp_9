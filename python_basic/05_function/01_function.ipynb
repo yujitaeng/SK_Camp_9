{
 "cells": [
  {
   "cell_type": "markdown",
   "metadata": {},
   "source": [
    "### 함수"
   ]
  },
  {
   "cell_type": "code",
   "execution_count": 23,
   "metadata": {},
   "outputs": [],
   "source": [
    "def print_greeting():\n",
    "    print(\"좋은 아침입니다 :) Merry Chiristmas!\")\n",
    "\n",
    "    # return\n",
    "    # print('출력을 하나 더!')"
   ]
  },
  {
   "cell_type": "code",
   "execution_count": 24,
   "metadata": {},
   "outputs": [
    {
     "name": "stdout",
     "output_type": "stream",
     "text": [
      "좋은 아침입니다 :) Merry Chiristmas!\n"
     ]
    }
   ],
   "source": [
    "print_greeting()"
   ]
  },
  {
   "cell_type": "code",
   "execution_count": null,
   "metadata": {},
   "outputs": [],
   "source": [
    "# 파라미터 x, return o -> \"좋은 아침입니다 :) Merry Chiristmas!\" 반환활활\n",
    "\n",
    "def return_greeting():\n",
    "    return \"좋은 아침입니다 :) Merry Chiristmas!\""
   ]
  },
  {
   "cell_type": "code",
   "execution_count": 25,
   "metadata": {},
   "outputs": [
    {
     "name": "stdout",
     "output_type": "stream",
     "text": [
      "좋은 아침입니다 :) Merry Chiristmas!\n"
     ]
    }
   ],
   "source": [
    "# greeting = return_greeting()\n",
    "# print(greeting)\n",
    "\n",
    "print(return_greeting())\n"
   ]
  },
  {
   "cell_type": "code",
   "execution_count": 9,
   "metadata": {},
   "outputs": [
    {
     "name": "stdout",
     "output_type": "stream",
     "text": [
      "토끼님 좋은 아침입니다 :) Merry Chiristmas!\n"
     ]
    }
   ],
   "source": [
    "# 파라미터 o, return x -> print_greeting() 과 같은 기능, 파라미터로 인사할 사람이름\n",
    "# \"{이름}님, 좋은 아침입니다 :) Merry Chiristmas!\"\n",
    "\n",
    "def greeting(name, greet):\n",
    "    print(name, greet)\n",
    "\n",
    "greeting('토끼님', '좋은 아침입니다 :) Merry Chiristmas!')"
   ]
  },
  {
   "cell_type": "code",
   "execution_count": 28,
   "metadata": {},
   "outputs": [],
   "source": [
    "def print_name_greeting(name):\n",
    "    print(f\"{name}님, 좋은 아침입니다 :) Merry Chiristmas!\")"
   ]
  },
  {
   "cell_type": "code",
   "execution_count": 30,
   "metadata": {},
   "outputs": [
    {
     "name": "stdout",
     "output_type": "stream",
     "text": [
      "토끼님, 좋은 아침입니다 :) Merry Chiristmas!\n"
     ]
    }
   ],
   "source": [
    "print_name_greeting('토끼')"
   ]
  },
  {
   "cell_type": "code",
   "execution_count": 10,
   "metadata": {},
   "outputs": [
    {
     "name": "stdout",
     "output_type": "stream",
     "text": [
      "토끼님, 좋은 아침입니다 :) Merry Chiristmas!\n"
     ]
    }
   ],
   "source": [
    "# 파라미터 o, return o -> 파라미터로 인사할 사람 이름\n",
    "# \"{이름}님, 좋은 아침입니다 :) Merry Chiristmas!\" 반환환\n",
    "\n",
    "def intro(name):\n",
    "    return f'{name}님, 좋은 아침입니다 :) Merry Chiristmas!'\n",
    "\n",
    "result = intro('토끼')\n",
    "print(result)"
   ]
  },
  {
   "cell_type": "code",
   "execution_count": 36,
   "metadata": {},
   "outputs": [],
   "source": [
    "def return_greeting(name, time):\n",
    "    return f\"{name}님, 좋은 {time}입니다 :) Merry Chiristmas!\"\n"
   ]
  },
  {
   "cell_type": "code",
   "execution_count": 44,
   "metadata": {},
   "outputs": [
    {
     "name": "stdout",
     "output_type": "stream",
     "text": [
      "토끼님, 좋은 아침입니다 :) Merry Chiristmas!\n",
      "토끼님, 좋은 아침입니다 :) Merry Chiristmas!\n",
      "상어님, 좋은 저녁입니다 :) Merry Chiristmas!\n",
      "토깽님, 좋은 간식시간입니다 :) Merry Chiristmas!\n"
     ]
    }
   ],
   "source": [
    "print(return_greeting('토끼', '아침'))\n",
    "print(return_greeting(name='토끼', time='아침'))\n",
    "print(return_greeting(time='저녁', name='상어'))\n",
    "\n",
    "print(return_greeting('토깽', time='간식시간'))\n",
    "# print(return_greeting(name='토순', '냅타임')) -> 키워드 인자 뒤에 위치 인자 사용 불가!"
   ]
  },
  {
   "cell_type": "markdown",
   "metadata": {},
   "source": [
    "---\n",
    "\n",
    "### 패키징과 언패키징"
   ]
  },
  {
   "cell_type": "code",
   "execution_count": 47,
   "metadata": {},
   "outputs": [
    {
     "name": "stdout",
     "output_type": "stream",
     "text": [
      "다람쥐\n",
      "토끼\n",
      "여우\n",
      "호랑이\n",
      "늑대\n",
      "원숭이\n",
      "양\n"
     ]
    }
   ],
   "source": [
    "def call_animals(*animal_args):\n",
    "    for animal_name in animal_args:\n",
    "        print(animal_name)\n",
    "\n",
    "call_animals('다람쥐', '토끼', '여우', '호랑이', '늑대', '원숭이', '양')\n"
   ]
  },
  {
   "cell_type": "code",
   "execution_count": 49,
   "metadata": {},
   "outputs": [
    {
     "data": {
      "text/plain": [
       "2100"
      ]
     },
     "execution_count": 49,
     "metadata": {},
     "output_type": "execute_result"
    }
   ],
   "source": [
    "def multi_sum(num1, num2, num3, num4, num5):\n",
    "    return num1 + num2 + num3 + num4 + num5\n",
    "\n",
    "numbers = [2024, 12, 23, 11, 30]\n",
    "multi_sum(*numbers)"
   ]
  },
  {
   "cell_type": "markdown",
   "metadata": {},
   "source": [
    "---\n",
    "\n",
    "### 함수 실습"
   ]
  },
  {
   "cell_type": "code",
   "execution_count": 50,
   "metadata": {},
   "outputs": [],
   "source": [
    "def introduce():\n",
    "    return \"안녕하세요, 저는 다람쥐 신입사원입니다!\""
   ]
  },
  {
   "cell_type": "code",
   "execution_count": 51,
   "metadata": {},
   "outputs": [
    {
     "name": "stdout",
     "output_type": "stream",
     "text": [
      "안녕하세요, 저는 다람쥐 신입사원입니다!\n"
     ]
    }
   ],
   "source": [
    "print(introduce())"
   ]
  },
  {
   "cell_type": "code",
   "execution_count": 52,
   "metadata": {},
   "outputs": [
    {
     "name": "stdout",
     "output_type": "stream",
     "text": [
      "다람쥐님, 출근 체크 완료!\n"
     ]
    }
   ],
   "source": [
    "def check_in(name):\n",
    "    return f\"{name}님, 출근 체크 완료!\"\n",
    "\n",
    "print(check_in('다람쥐'))"
   ]
  },
  {
   "cell_type": "code",
   "execution_count": 57,
   "metadata": {},
   "outputs": [
    {
     "name": "stdout",
     "output_type": "stream",
     "text": [
      "오늘 근무한 시간은 9시간입니다.\n"
     ]
    }
   ],
   "source": [
    "def work_hours(start, end):\n",
    "    return f\"오늘 근무한 시간은 {end-start}시간입니다.\"\n",
    "\n",
    "print(work_hours(9, 18))"
   ]
  },
  {
   "cell_type": "code",
   "execution_count": 77,
   "metadata": {},
   "outputs": [
    {
     "name": "stdout",
     "output_type": "stream",
     "text": [
      "오늘 근무한 시간은 9시간입니다.\n"
     ]
    }
   ],
   "source": [
    "def work_hours(start, end):\n",
    "    return end -start\n",
    "\n",
    "print(f\"오늘 근무한 시간은 {work_hours(9, 18)}시간입니다.\")"
   ]
  },
  {
   "cell_type": "code",
   "execution_count": 76,
   "metadata": {},
   "outputs": [
    {
     "name": "stdout",
     "output_type": "stream",
     "text": [
      "오늘의 점심 메뉴는 제육볶음입니다!\n",
      "오늘의 점심 메뉴는 비빔밥입니다!\n",
      "오늘의 점심 메뉴는 오튀김밥입니다!\n",
      "오늘의 점심 메뉴는 떡튀순입니다!\n",
      "오늘의 점심 메뉴는 잔치국수입니다!\n",
      "오늘의 점심 메뉴는 뚝불입니다!\n"
     ]
    }
   ],
   "source": [
    "def recommend_menu(*menus):\n",
    "     for random in menus:\n",
    "        print(f\"오늘의 점심 메뉴는 {random}입니다!\")\n",
    "\n",
    "recommend_menu('제육볶음', '비빔밥', '오튀김밥', '떡튀순', '잔치국수', '뚝불')\n"
   ]
  },
  {
   "cell_type": "code",
   "execution_count": 81,
   "metadata": {},
   "outputs": [
    {
     "name": "stdout",
     "output_type": "stream",
     "text": [
      "오늘의 점심 메뉴는 뚝불입니다!\n"
     ]
    }
   ],
   "source": [
    "import random\n",
    "\n",
    "def recommend_menu(*menus):\n",
    "    return random.choice(menus)\n",
    "\n",
    "recommended_menu = recommend_menu('제육볶음', '비빔밥', '오튀김밥', '잔치국수', '뚝불')\n",
    "print(f\"오늘의 점심 메뉴는 {recommended_menu}입니다!\")"
   ]
  },
  {
   "cell_type": "code",
   "execution_count": 11,
   "metadata": {},
   "outputs": [
    {
     "name": "stdout",
     "output_type": "stream",
     "text": [
      "오후 3시입니다. 커피 한 잔 하세요!\n"
     ]
    }
   ],
   "source": [
    "def coffee_time():\n",
    "    return \"오후 3시입니다. 커피 한 잔 하세요!\"\n",
    "\n",
    "print(coffee_time())\n"
   ]
  },
  {
   "cell_type": "code",
   "execution_count": 20,
   "metadata": {},
   "outputs": [
    {
     "name": "stdout",
     "output_type": "stream",
     "text": [
      "오늘 처리한 업무는 8개입니다. 성과 평가: 보통\n"
     ]
    }
   ],
   "source": [
    "def work_report(tasks_done):\n",
    "    if int(tasks_done) >= 10:\n",
    "        status = '우수'   \n",
    "    elif int(tasks_done) >= 5:\n",
    "        status = '보통'\n",
    "    else:\n",
    "        status = '노력 필요'\n",
    "    return status\n",
    "\n",
    "tasks_done = input(\"오늘 몇개의 업무를 처리하셨나요?\")\n",
    "\n",
    "print(f\"오늘 처리한 업무는 {tasks_done}개입니다. 성과 평가: {work_report(tasks_done)}\")"
   ]
  },
  {
   "cell_type": "code",
   "execution_count": 23,
   "metadata": {},
   "outputs": [
    {
     "name": "stdout",
     "output_type": "stream",
     "text": [
      "오늘 처리한 업무는 7개입니다. 성과 평가: 보통\n"
     ]
    }
   ],
   "source": [
    "def work_report(tasks_done):\n",
    "    \n",
    "    status = ''\n",
    "    if tasks_done >= 10:\n",
    "        status = '우수'\n",
    "    elif tasks_done >= 5:\n",
    "        status = '보통'\n",
    "    else:\n",
    "        status = '노력 필요'\n",
    "\n",
    "    # 삼항연산자\n",
    "    # status = '우수' if tasks_done >= 10 else ('보통' if tasks_done >= 5 else '노력필요')    \n",
    "    \n",
    "    return tasks_done, status\n",
    "\n",
    "tasks_done, status = work_report(7)  # 반환값 여러개일 때, 받는 방법\n",
    "\n",
    "print(f\"오늘 처리한 업무는 {tasks_done}개입니다. 성과 평가: {status}\")"
   ]
  },
  {
   "cell_type": "code",
   "execution_count": 29,
   "metadata": {},
   "outputs": [
    {
     "name": "stdout",
     "output_type": "stream",
     "text": [
      "세전 월급: 600.0, 세금: 60.0원, 실수령액: 540.0\n"
     ]
    }
   ],
   "source": [
    "def calculate_salary(base_salary, bonus):\n",
    "    total_salary = base_salary + bonus\n",
    "    tax = total_salary * 0.1\n",
    "    net_salary = total_salary - tax\n",
    "    \n",
    "    return net_salary, tax\n",
    "\n",
    "result_net_salary, result_tax = calculate_salary(500, 100)\n",
    "\n",
    "print(f'세전 월급: {result_net_salary + result_tax}, 세금: {result_tax}원, 실수령액: {result_net_salary}' )"
   ]
  }
 ],
 "metadata": {
  "kernelspec": {
   "display_name": "pystudy_env",
   "language": "python",
   "name": "python3"
  },
  "language_info": {
   "codemirror_mode": {
    "name": "ipython",
    "version": 3
   },
   "file_extension": ".py",
   "mimetype": "text/x-python",
   "name": "python",
   "nbconvert_exporter": "python",
   "pygments_lexer": "ipython3",
   "version": "3.12.8"
  }
 },
 "nbformat": 4,
 "nbformat_minor": 2
}
