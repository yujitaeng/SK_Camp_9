{
 "cells": [
  {
   "cell_type": "markdown",
   "metadata": {},
   "source": [
    "### 클래스"
   ]
  },
  {
   "cell_type": "code",
   "execution_count": 7,
   "metadata": {},
   "outputs": [],
   "source": [
    "class Student:\n",
    "\n",
    "    # 1. 클래스 속성\n",
    "    dream = '취업'\n",
    "\n",
    "    # 2. 생성자\n",
    "    def __init__(self, name, phone):\n",
    "        self.name = name\n",
    "        self.phone = phone\n",
    "\n",
    "        \n",
    "    # 3. 메서드\n",
    "    def study(self):\n",
    "        print('오늘도 열심히 공부하는 9기 학생!')"
   ]
  },
  {
   "cell_type": "code",
   "execution_count": 4,
   "metadata": {},
   "outputs": [
    {
     "name": "stdout",
     "output_type": "stream",
     "text": [
      "오늘도 열심히 공부하는 9기 학생!\n"
     ]
    }
   ],
   "source": [
    "student = Student()\n",
    "\n",
    "student.study()\n",
    "\n",
    "numbers = [1, 2, 3, 4, 5]\n",
    "print(numbers.pop())"
   ]
  },
  {
   "cell_type": "code",
   "execution_count": 9,
   "metadata": {},
   "outputs": [
    {
     "name": "stdout",
     "output_type": "stream",
     "text": [
      "취업\n",
      "남윤진 0100000000\n",
      "오늘도 열심히 공부하는 9기 학생!\n"
     ]
    }
   ],
   "source": [
    "student = Student('남윤진', '0100000000')\n",
    "\n",
    "print(student.dream)\n",
    "print(student.name, student.phone)\n",
    "student.study()"
   ]
  },
  {
   "cell_type": "markdown",
   "metadata": {},
   "source": [
    "---"
   ]
  },
  {
   "cell_type": "code",
   "execution_count": 16,
   "metadata": {},
   "outputs": [],
   "source": [
    "class Student:\n",
    "\n",
    "    # 1. 클래스 속성\n",
    "    dream = ['취업']\n",
    "    name = ''\n",
    "    phone = ''\n",
    "        \n",
    "    # 3. 메서드\n",
    "    def study(self):\n",
    "        print('오늘도 열심히 공부하는 9기 학생!')\n",
    "\n",
    "    def introduce(self):\n",
    "        print(f'저는 {self.name}이구요. 전화번호는 {self.phone}입니다. 제가 이루고 싶은 목표는 {self.dream}')"
   ]
  },
  {
   "cell_type": "code",
   "execution_count": 18,
   "metadata": {},
   "outputs": [
    {
     "name": "stdout",
     "output_type": "stream",
     "text": [
      "저는 이구요. 전화번호는 입니다. 제가 이루고 싶은 목표는 ['취업']\n",
      "저는 유지은이구요. 전화번호는 0100000000입니다. 제가 이루고 싶은 목표는 ['취업', '창업']\n",
      "저는 유지이구요. 전화번호는 01011112222입니다. 제가 이루고 싶은 목표는 ['취업', '창업']\n"
     ]
    }
   ],
   "source": [
    "student1 = Student()\n",
    "student2 = Student()\n",
    "\n",
    "student1.introduce()\n",
    "student1.name = '유지은'\n",
    "student1.phone = '0100000000'\n",
    "student1.dream.append('창업')\n",
    "student1.introduce()\n",
    "\n",
    "student2.name = '유지'\n",
    "student2.phone = '01011112222'\n",
    "student2.introduce()"
   ]
  },
  {
   "cell_type": "code",
   "execution_count": 22,
   "metadata": {},
   "outputs": [],
   "source": [
    "class Student:\n",
    "\n",
    "    # 1. 생성자\n",
    "    def __init__(self, name, phone):\n",
    "        self.dream = ['취업']    \n",
    "        self.name = name   \n",
    "        self.phone = phone\n",
    "        \n",
    "    # 3. 메서드\n",
    "    def study(self):\n",
    "        print('오늘도 열심히 공부하는 9기 학생!')\n",
    "\n",
    "    def introduce(self):\n",
    "        print(f'저는 {self.name}이구요. 전화번호는 {self.phone}입니다. 제가 이루고 싶은 목표는 {self.dream}')"
   ]
  },
  {
   "cell_type": "code",
   "execution_count": 23,
   "metadata": {},
   "outputs": [
    {
     "name": "stdout",
     "output_type": "stream",
     "text": [
      "저는 유지은이구요. 전화번호는 01022223333입니다. 제가 이루고 싶은 목표는 ['취업', '창업']\n",
      "저는 김순이이구요. 전화번호는 01022244445입니다. 제가 이루고 싶은 목표는 ['취업']\n"
     ]
    }
   ],
   "source": [
    "student1 = Student('유지은', '01022223333')\n",
    "student2 = Student('김순이', '01022244445')\n",
    "\n",
    "student1.dream.append('창업')\n",
    "student1.introduce()\n",
    "\n",
    "student2.introduce()"
   ]
  },
  {
   "cell_type": "markdown",
   "metadata": {},
   "source": [
    "---\n",
    "\n",
    "### 클래스 실습"
   ]
  },
  {
   "cell_type": "code",
   "execution_count": 25,
   "metadata": {},
   "outputs": [
    {
     "name": "stdout",
     "output_type": "stream",
     "text": [
      "다람쥐\n",
      "다람쥐\n",
      "안녕하세요! 저는 다람쥐이구요, 현재 직업은 선생님입니다!\n",
      "안녕하세요! 저는 호랑이이구요, 현재 직업은 강사입니다!\n"
     ]
    }
   ],
   "source": [
    "class squirrel:\n",
    "\n",
    "    # 1. 클래스 속성\n",
    "    species = '다람쥐'\n",
    "\n",
    "    # 2. 생성자\n",
    "    def __init__(self, name, current_job):\n",
    "        self.name = name\n",
    "        self.current_job = current_job\n",
    "\n",
    "        \n",
    "    # 3. 메서드\n",
    "    def introduce(self):\n",
    "        return f'안녕하세요! 저는 {self.name}이구요, 현재 직업은 {self.current_job}입니다!'\n",
    "\n",
    "me = squirrel('다람쥐', '선생님')\n",
    "you = squirrel('호랑이', '강사')\n",
    "\n",
    "print(me.species)\n",
    "print(you.species)\n",
    "print(me.introduce())\n",
    "print(you.introduce())"
   ]
  },
  {
   "cell_type": "code",
   "execution_count": 30,
   "metadata": {},
   "outputs": [],
   "source": [
    "class Character:\n",
    "    skills = []\n",
    "\n",
    "    def __init__(self):\n",
    "        self.skills = []\n",
    "\n",
    "    def add_skill(self, skill):\n",
    "        self.skills.append(skill)"
   ]
  },
  {
   "cell_type": "code",
   "execution_count": 32,
   "metadata": {},
   "outputs": [
    {
     "name": "stdout",
     "output_type": "stream",
     "text": [
      "[]\n",
      "['순간이동']\n"
     ]
    }
   ],
   "source": [
    "my_character = Character()\n",
    "print(my_character.skills)\n",
    "my_character.add_skill('순간이동')\n",
    "print(my_character.skills)"
   ]
  },
  {
   "cell_type": "code",
   "execution_count": 33,
   "metadata": {},
   "outputs": [],
   "source": [
    "class Character:\n",
    "    nickname = '다람쥐'\n",
    "\n",
    "    def __init__(self, nickname):\n",
    "        self.nickname = nickname\n",
    "        "
   ]
  },
  {
   "cell_type": "code",
   "execution_count": 34,
   "metadata": {},
   "outputs": [
    {
     "name": "stdout",
     "output_type": "stream",
     "text": [
      "다라람\n",
      "람쥐\n",
      "다람쥐\n"
     ]
    }
   ],
   "source": [
    "squirrel1 = Character('다라람')\n",
    "squirre2 = Character('람쥐')\n",
    "\n",
    "print(squirrel1.nickname)\n",
    "print(squirre2.nickname)\n",
    "print(Character.nickname)"
   ]
  },
  {
   "cell_type": "code",
   "execution_count": 44,
   "metadata": {},
   "outputs": [
    {
     "name": "stdout",
     "output_type": "stream",
     "text": [
      "키보드\n",
      "펜\n",
      "펜\n"
     ]
    }
   ],
   "source": [
    "tool = '연필'\n",
    "\n",
    "def namespace_test():\n",
    "    local_tool = '키보드'\n",
    "    global tool\n",
    "    tool = '펜'\n",
    "\n",
    "    print(local_tool)\n",
    "    print(tool)\n",
    "\n",
    "namespace_test()\n",
    "print(tool)\n"
   ]
  },
  {
   "cell_type": "code",
   "execution_count": 46,
   "metadata": {},
   "outputs": [],
   "source": [
    "class Toolbox:\n",
    "\n",
    "    tools = ['노트북', '책상']\n",
    "\n",
    "    def __init__(self):\n",
    "        self.tools = []\n",
    "\n",
    "    def add_tool(self, tool):\n",
    "        __class__.tools.append(tool)"
   ]
  },
  {
   "cell_type": "code",
   "execution_count": 48,
   "metadata": {},
   "outputs": [
    {
     "name": "stdout",
     "output_type": "stream",
     "text": [
      "[]\n",
      "['노트북', '책상']\n",
      "[]\n",
      "['노트북', '책상', '키보드']\n"
     ]
    }
   ],
   "source": [
    "toolbox = Toolbox()\n",
    "print(toolbox.tools)\n",
    "print(Toolbox.tools)\n",
    "\n",
    "toolbox.add_tool('키보드')\n",
    "print(toolbox.tools)\n",
    "print(Toolbox.tools)"
   ]
  },
  {
   "cell_type": "code",
   "execution_count": 42,
   "metadata": {},
   "outputs": [
    {
     "name": "stdout",
     "output_type": "stream",
     "text": [
      "작성 중\n",
      "완료\n"
     ]
    }
   ],
   "source": [
    "def nested_function():\n",
    "    status = '작성 중'\n",
    "\n",
    "    def inner_fuction():\n",
    "        nonlocal status\n",
    "        status = '완료'\n",
    "\n",
    "\n",
    "    print(status)\n",
    "    inner_fuction()\n",
    "    print(status)\n",
    "\n",
    "nested_function()"
   ]
  }
 ],
 "metadata": {
  "kernelspec": {
   "display_name": "pystudy_env",
   "language": "python",
   "name": "python3"
  },
  "language_info": {
   "codemirror_mode": {
    "name": "ipython",
    "version": 3
   },
   "file_extension": ".py",
   "mimetype": "text/x-python",
   "name": "python",
   "nbconvert_exporter": "python",
   "pygments_lexer": "ipython3",
   "version": "3.12.8"
  }
 },
 "nbformat": 4,
 "nbformat_minor": 2
}
