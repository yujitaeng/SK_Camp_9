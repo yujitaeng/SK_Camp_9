{
 "cells": [
  {
   "cell_type": "markdown",
   "metadata": {},
   "source": [
    "### 상속"
   ]
  },
  {
   "cell_type": "code",
   "execution_count": 8,
   "metadata": {},
   "outputs": [],
   "source": [
    "class Person:\n",
    "    def __init__(self, name, phone):\n",
    "        self.name = name\n",
    "        self.phone = phone\n",
    "    def __str__(self):\n",
    "        return f\"<Person {self.name}>\""
   ]
  },
  {
   "cell_type": "code",
   "execution_count": 4,
   "metadata": {},
   "outputs": [],
   "source": [
    "class Student(Person):\n",
    "\n",
    "    def __init__(self, name, phone, hobby):\n",
    "        self.name = name     # 1. 부모클래스명.__init__(self,...) -> Person.__init__(self, name) 직관적으로 부모 상속\n",
    "        self.phone = phone   # 2. super().__init__(...)\n",
    "        self.hobby = hobby"
   ]
  },
  {
   "cell_type": "code",
   "execution_count": 9,
   "metadata": {},
   "outputs": [
    {
     "name": "stdout",
     "output_type": "stream",
     "text": [
      "홍길동\n",
      "<Person 홍길동>\n",
      "김둘리 01000001111 파이썬 공부하기\n",
      "<Person 김둘리>\n",
      "박또치 01022233333 열심히 공부하기\n",
      "<Person 박또치>\n"
     ]
    }
   ],
   "source": [
    "p1 = Person('홍길동','01000000000')\n",
    "print(p1.name)\n",
    "print(p1)\n",
    "\n",
    "s1 = Student('김둘리', '01000001111', '파이썬 공부하기')\n",
    "s2 = Student('박또치', '01022233333', '열심히 공부하기')\n",
    "print(s1.name, s1.phone, s1.hobby)\n",
    "print(s1)\n",
    "print(s2.name, s2.phone, s2.hobby)\n",
    "print(s2)"
   ]
  },
  {
   "cell_type": "markdown",
   "metadata": {},
   "source": [
    "---\n",
    "\n",
    "### 다중 상속"
   ]
  },
  {
   "cell_type": "code",
   "execution_count": 13,
   "metadata": {},
   "outputs": [],
   "source": [
    "class Person:\n",
    "    fingers = 10\n",
    "    eyes = 2\n",
    "\n",
    "    def introduce(self):\n",
    "        return '저는 사람입니다.'\n",
    "    \n",
    "\n",
    "class Animal:\n",
    "    fur = True\n",
    "\n",
    "    def introduce(self):\n",
    "        return '저는 동물입니다.'\n",
    "    \n",
    "class BaniInBanSu(Animal, Person):\n",
    "    pass\n"
   ]
  },
  {
   "cell_type": "code",
   "execution_count": 14,
   "metadata": {},
   "outputs": [
    {
     "name": "stdout",
     "output_type": "stream",
     "text": [
      "10 2 True\n",
      "저는 동물입니다.\n"
     ]
    }
   ],
   "source": [
    "b1 = BaniInBanSu()\n",
    "\n",
    "print(b1.fingers, b1.eyes, b1.fur)\n",
    "print(b1.introduce())"
   ]
  },
  {
   "cell_type": "markdown",
   "metadata": {},
   "source": [
    "---\n",
    "\n",
    "### 오버라이딩"
   ]
  },
  {
   "cell_type": "code",
   "execution_count": 17,
   "metadata": {},
   "outputs": [],
   "source": [
    "class Animal:\n",
    "    species = '동물'\n",
    "\n",
    "    def introduce(self):\n",
    "        print('동물의 숲에 오신 것을 환영합니다')\n",
    "\n",
    "class Mammalia(Animal):\n",
    "    species = '포유류'\n",
    "\n",
    "    def has_fur(self):\n",
    "        return True\n",
    "    \n",
    "class Squirrel(Mammalia):\n",
    "    name = '다람쥐'\n",
    "\n",
    "    def eat(self):\n",
    "        print('도토리는 정말 맛있어 냠냠냠')\n",
    "\n",
    "\n",
    "class SquirrelTeacher(Squirrel):\n",
    "    def introduce(self):\n",
    "        print('안녕하세요 다람쥐 강사입니다~')"
   ]
  },
  {
   "cell_type": "code",
   "execution_count": 21,
   "metadata": {},
   "outputs": [
    {
     "name": "stdout",
     "output_type": "stream",
     "text": [
      "안녕하세요 다람쥐 강사입니다~\n",
      "다람쥐\n",
      "도토리는 정말 맛있어 냠냠냠\n",
      "포유류\n",
      "True\n",
      "포유류\n",
      "안녕하세요 다람쥐 강사입니다~\n"
     ]
    }
   ],
   "source": [
    "st = SquirrelTeacher()\n",
    "\n",
    "st.introduce()\n",
    "print(st.name)\n",
    "st.eat()\n",
    "\n",
    "print(st.species)\n",
    "print(st.has_fur())\n",
    "\n",
    "print(st.species)\n",
    "st.introduce()"
   ]
  },
  {
   "cell_type": "code",
   "execution_count": 22,
   "metadata": {},
   "outputs": [
    {
     "data": {
      "text/plain": [
       "(__main__.SquirrelTeacher,\n",
       " __main__.Squirrel,\n",
       " __main__.Mammalia,\n",
       " __main__.Animal,\n",
       " object)"
      ]
     },
     "execution_count": 22,
     "metadata": {},
     "output_type": "execute_result"
    }
   ],
   "source": [
    "SquirrelTeacher.__mro__"
   ]
  },
  {
   "cell_type": "markdown",
   "metadata": {},
   "source": [
    "---\n",
    "\n",
    "### 상속 실습 문제"
   ]
  },
  {
   "cell_type": "code",
   "execution_count": 37,
   "metadata": {},
   "outputs": [
    {
     "name": "stdout",
     "output_type": "stream",
     "text": [
      "안녕하세요, 저는 한국에서 왔습니다.\n",
      "안녕하세요, 저는 유지은입니다. LLM 분야에 관심이 있습니다.\n"
     ]
    }
   ],
   "source": [
    "class Person:\n",
    "    national = 'Korea'\n",
    "\n",
    "    def introduce(self):\n",
    "        return \"안녕하세요, 저는 한국에서 왔습니다.\"\n",
    "    \n",
    "class Candidate(Person):\n",
    "\n",
    "    def __init__(self, name, field):\n",
    "        self.name = name\n",
    "        self.field = field\n",
    "\n",
    "    def introduce(self):\n",
    "        return f'안녕하세요, 저는 {self.name}입니다. {self.field} 분야에 관심이 있습니다.'   \n",
    "\n",
    "\n",
    "p = Person()\n",
    "c = Candidate('유지은', 'LLM')\n",
    "\n",
    "print(p.introduce())\n",
    "print(c.introduce())\n"
   ]
  },
  {
   "cell_type": "code",
   "execution_count": 29,
   "metadata": {},
   "outputs": [],
   "source": [
    "class Mentor:\n",
    "    def guide(self):\n",
    "        return '이직 준비를 도와드립니다'\n",
    "    \n",
    "class Lecturer:\n",
    "    def teach(self):\n",
    "        return '이직에 필요한 기술을 가르쳐드립니다'\n",
    "    \n",
    "class Coach(Mentor, Lecturer):\n",
    "    def support(self):\n",
    "        return '여러 방면으로 지원을 아끼지 않겠습니다'\n",
    "    "
   ]
  },
  {
   "cell_type": "code",
   "execution_count": 38,
   "metadata": {},
   "outputs": [
    {
     "name": "stdout",
     "output_type": "stream",
     "text": [
      "이직 준비를 도와드립니다\n",
      "이직에 필요한 기술을 가르쳐드립니다\n",
      "이직 준비를 도와드립니다\n",
      "이직에 필요한 기술을 가르쳐드립니다\n",
      "여러 방면으로 지원을 아끼지 않겠습니다\n"
     ]
    }
   ],
   "source": [
    "m = Mentor()\n",
    "l = Lecturer()\n",
    "c = Coach()\n",
    "\n",
    "print(m.guide())\n",
    "#print(m.teach())\n",
    "#print(m.support())\n",
    "\n",
    "#print(l.guide())\n",
    "print(l.teach())\n",
    "#print(l.support())\n",
    "\n",
    "print(c.guide())\n",
    "print(c.teach())\n",
    "print(c.support())"
   ]
  },
  {
   "cell_type": "code",
   "execution_count": 52,
   "metadata": {},
   "outputs": [
    {
     "name": "stdout",
     "output_type": "stream",
     "text": [
      "안녕하세요, 저는 유지은입니다. 한국에서 왔습니다.\n",
      "안녕하세요, 제 이름은 렌이고, 이직 준비 중입니다.\n"
     ]
    }
   ],
   "source": [
    "class Person:\n",
    "    def __init__(self, name, national):\n",
    "        self.name = name\n",
    "        self.national = national\n",
    "\n",
    "    def introduce(self):\n",
    "        return f'안녕하세요, 저는 {self.name}입니다. {self.national}에서 왔습니다.'\n",
    "    \n",
    "class Candidate(Person):\n",
    "    def introduce(self):\n",
    "        return f'안녕하세요, 제 이름은 {self.name}이고, 이직 준비 중입니다.'   \n",
    "\n",
    "\n",
    "p = Person('유지은', '한국')\n",
    "c = Candidate('렌', '일본')\n",
    "\n",
    "print(p.introduce())\n",
    "print(c.introduce())"
   ]
  },
  {
   "cell_type": "code",
   "execution_count": 61,
   "metadata": {},
   "outputs": [],
   "source": [
    "class Mentor:\n",
    "    def __init__(self, field):\n",
    "        self.field = field\n",
    "\n",
    "    def guide(self):\n",
    "        return f'저는 {self.field} 분야의 멘토입니다.'\n",
    "    \n",
    "class Lecturer:\n",
    "    def __init__(self, experience):\n",
    "        self.experience = experience\n",
    "        \n",
    "    def teach(self):\n",
    "        return f'저는 {self.experience}년의 강의 경력을 가지고 있습니다.'\n",
    "    \n",
    "class Coach(Mentor, Lecturer):\n",
    "    def __init__(self, field, experience):\n",
    "        Mentor.__init__(self, field)\n",
    "        Lecturer.__init__(self, experience)\n",
    "\n",
    "    def guide(self):\n",
    "        return f'저는 {self.field} 분야의 강사이며, 이직 준비를 도와드립니다.'"
   ]
  },
  {
   "cell_type": "code",
   "execution_count": 63,
   "metadata": {},
   "outputs": [
    {
     "name": "stdout",
     "output_type": "stream",
     "text": [
      "저는 파이썬 분야의 멘토입니다.\n",
      "저는 7년의 강의 경력을 가지고 있습니다.\n",
      "저는 LLM 분야의 강사이며, 이직 준비를 도와드립니다.\n",
      "저는 7년의 강의 경력을 가지고 있습니다.\n"
     ]
    }
   ],
   "source": [
    "m = Mentor('파이썬')\n",
    "l = Lecturer(7)\n",
    "c = Coach('LLM', 7)\n",
    "\n",
    "print(m.guide())\n",
    "print(l.teach())\n",
    "print(c.guide())\n",
    "print(c.teach())"
   ]
  }
 ],
 "metadata": {
  "kernelspec": {
   "display_name": "pystudy_env",
   "language": "python",
   "name": "python3"
  },
  "language_info": {
   "codemirror_mode": {
    "name": "ipython",
    "version": 3
   },
   "file_extension": ".py",
   "mimetype": "text/x-python",
   "name": "python",
   "nbconvert_exporter": "python",
   "pygments_lexer": "ipython3",
   "version": "3.12.8"
  }
 },
 "nbformat": 4,
 "nbformat_minor": 2
}
