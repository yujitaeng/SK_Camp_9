{
 "cells": [
  {
   "cell_type": "markdown",
   "metadata": {},
   "source": [
    "### 문제 4: **pip로 패키지 설치 연습**\n",
    "\n",
    "다람쥐는 `numpy` 라이브러리를 설치하여 업무 데이터를 처리하려고 합니다.\n",
    "\n",
    "1. 터미널에서 `numpy`를 설치하세요.\n",
    "    pip install numpy\n",
    "2. numpy의 mean() 함수를 사용해 배열의 평균을 계산하세요."
   ]
  },
  {
   "cell_type": "code",
   "execution_count": 5,
   "metadata": {},
   "outputs": [
    {
     "name": "stdout",
     "output_type": "stream",
     "text": [
      "3.0\n"
     ]
    }
   ],
   "source": [
    "import numpy\n",
    "\n",
    "data = [1, 2, 3, 4, 5]\n",
    "list_avg = numpy.mean(data)\n",
    "\n",
    "print(list_avg)"
   ]
  },
  {
   "cell_type": "markdown",
   "metadata": {},
   "source": [
    "### 문제 5: **requirements.txt 연습**\n",
    "\n",
    "다람쥐는 프로젝트의 종속성을 관리하기 위해 `requirements.txt`를 생성하려고 합니다.\n",
    "\n",
    "1. 현재 설치된 패키지 목록을 `requirements.txt` 파일에 저장하세요:\n",
    "    pip freeze > requirements.txt\n",
    "\n",
    "2.새로운 가상 환경을 만들어 requirements.txt를 이용해 동일한 환경을 설정하세요:\n",
    "    python -m venv new_env\n",
    "    source new_env/bin/activate  # Windows에서는        new_env\\Scripts\\activate\n",
    "    pip install -r requirements.txt\n",
    "\n",
    "3.새롭게 생성한 가상 환경에서 직전 문제의 평균 계산 코드를 수행하세요."
   ]
  },
  {
   "cell_type": "code",
   "execution_count": 4,
   "metadata": {},
   "outputs": [
    {
     "name": "stderr",
     "output_type": "stream",
     "text": [
      "'pip'��(��) ���� �Ǵ� �ܺ� ����, ������ �� �ִ� ���α׷�, �Ǵ�\n",
      "��ġ ������ �ƴմϴ�.\n"
     ]
    }
   ],
   "source": [
    "!pip freeze > requirements.txt"
   ]
  }
 ],
 "metadata": {
  "kernelspec": {
   "display_name": "pystudy_test",
   "language": "python",
   "name": "python3"
  },
  "language_info": {
   "codemirror_mode": {
    "name": "ipython",
    "version": 3
   },
   "file_extension": ".py",
   "mimetype": "text/x-python",
   "name": "python",
   "nbconvert_exporter": "python",
   "pygments_lexer": "ipython3",
   "version": "3.12.8"
  }
 },
 "nbformat": 4,
 "nbformat_minor": 2
}
