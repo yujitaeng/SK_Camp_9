{
 "cells": [
  {
   "cell_type": "code",
   "execution_count": 1,
   "metadata": {},
   "outputs": [
    {
     "name": "stdout",
     "output_type": "stream",
     "text": [
      "안녕하세요 주식회사 SQUIRREL입니다.\n",
      "저는 팀장입니다. 팀을 이끌고 있습니다.\n",
      "저는 개발자입니다. LLM 서비스를 개발하고 있습니다.\n"
     ]
    }
   ],
   "source": [
    "import q_modules.team_module as tm\n",
    "\n",
    "print(f'안녕하세요 {tm.company}입니다.')\n",
    "print(tm.introduce_manager())\n",
    "print(tm.introduce_developer())"
   ]
  },
  {
   "cell_type": "code",
   "execution_count": 2,
   "metadata": {},
   "outputs": [
    {
     "name": "stdout",
     "output_type": "stream",
     "text": [
      "다람쥐님이 9:00에 출근했습니다.\n",
      "다람쥐님이 18:00에 퇴근했습니다.\n"
     ]
    }
   ],
   "source": [
    "import q_modules.attendance_module as am\n",
    "\n",
    "print(am.record_attendance('다람쥐', '9:00'))\n",
    "print(am.record_leave('다람쥐', '18:00'))"
   ]
  },
  {
   "cell_type": "code",
   "execution_count": 3,
   "metadata": {},
   "outputs": [
    {
     "name": "stdout",
     "output_type": "stream",
     "text": [
      "작업 '코드 리뷰'이(가) 시작되었습니다.\n",
      "작업 '코드 리뷰'이(가) 완료되었습니다.\n"
     ]
    }
   ],
   "source": [
    "import q_modules.task_module as tm\n",
    "\n",
    "print(tm.start_task('코드 리뷰'))\n",
    "print(tm.complete_task('코드 리뷰'))"
   ]
  },
  {
   "cell_type": "markdown",
   "metadata": {},
   "source": [
    "### 문제 4: **내장 모듈을 활용한 다람쥐의 업무 효율성 계산**\n",
    "\n",
    "다람쥐는 자신의 업무 효율성을 계산하려고 합니다. `math` 모듈을 사용하여 아래 요구사항을 구현하세요.\n",
    "\n",
    "1. 매일 처리한 업무량을 기록한 배열이 [10, 12, 8, 15, 9]라면 평균 업무량을 출력하세요.\n",
    "2. 평균 업무량보다 많이 처리한 날의 개수를 계산하세요."
   ]
  },
  {
   "cell_type": "code",
   "execution_count": 16,
   "metadata": {},
   "outputs": [
    {
     "name": "stdout",
     "output_type": "stream",
     "text": [
      "평균 업무량보다 많이 처리한 날: 2\n"
     ]
    }
   ],
   "source": [
    "import math\n",
    "\n",
    "workloads = [10, 12, 8, 15, 9]\n",
    "average_workload = sum(workloads) / len(workloads)\n",
    "# print(average_workload)\n",
    "math.ceil(average_workload)\n",
    "\n",
    "count = 0\n",
    "\n",
    "for work_time in workloads:\n",
    "    if work_time > average_workload:\n",
    "        count += 1\n",
    "\n",
    "# count = sum(1 for work_time in workloads if work_time > average_workload)\n",
    "\n",
    "print(f'평균 업무량보다 많이 처리한 날: {count}')"
   ]
  },
  {
   "cell_type": "markdown",
   "metadata": {},
   "source": [
    "### 문제 5: **내장 모듈을 활용한 다람쥐의 업무 보고서 작성**\n",
    "\n",
    "다람쥐는 팀원의 업무 보고서를 작성하려고 합니다. `datetime` 모듈을 사용하여 현재 날짜와 시간을 포함한 보고서를 생성하세요.\n",
    "\n",
    "1. 현재 날짜와 시간. 팀원 이름과 작업 내용을 출력하세요.\n",
    "[2024-12-24 08:55:31] 다람쥐님이 작업 '코드 리뷰'을(를) 완료했습니다."
   ]
  },
  {
   "cell_type": "code",
   "execution_count": 36,
   "metadata": {},
   "outputs": [
    {
     "name": "stdout",
     "output_type": "stream",
     "text": [
      "[2024-12-26 10:42:39] 다람쥐님이 작업 '코드 리뷰'을(를) 완료했습니다.\n"
     ]
    }
   ],
   "source": [
    "from datetime import datetime\n",
    "\n",
    "\n",
    "print(f\"[{datetime.now().strftime('%Y-%m-%d %H:%M:%S')}] 다람쥐님이 작업 '코드 리뷰'을(를) 완료했습니다.\" )\n"
   ]
  },
  {
   "cell_type": "code",
   "execution_count": 1,
   "metadata": {},
   "outputs": [
    {
     "name": "stderr",
     "output_type": "stream",
     "text": [
      "'pip'��(��) ���� �Ǵ� �ܺ� ����, ������ �� �ִ� ���α׷�, �Ǵ�\n",
      "��ġ ������ �ƴմϴ�.\n"
     ]
    }
   ],
   "source": [
    "!pip list"
   ]
  },
  {
   "cell_type": "code",
   "execution_count": 2,
   "metadata": {},
   "outputs": [],
   "source": [
    "import numpy\n",
    "import pandas"
   ]
  }
 ],
 "metadata": {
  "kernelspec": {
   "display_name": "pystudy_test",
   "language": "python",
   "name": "python3"
  },
  "language_info": {
   "codemirror_mode": {
    "name": "ipython",
    "version": 3
   },
   "file_extension": ".py",
   "mimetype": "text/x-python",
   "name": "python",
   "nbconvert_exporter": "python",
   "pygments_lexer": "ipython3",
   "version": "3.12.8"
  }
 },
 "nbformat": 4,
 "nbformat_minor": 2
}
