{
 "cells": [
  {
   "cell_type": "markdown",
   "metadata": {},
   "source": [
    "### 파일 입출력"
   ]
  },
  {
   "cell_type": "code",
   "execution_count": 11,
   "metadata": {},
   "outputs": [],
   "source": [
    "f1 = open('test.txt', 'w', encoding='utf-8')\n",
    "\n",
    "f1.write('오늘의 점심 메뉴: 약밥과 삶은 계란')\n",
    "f1.write('[오늘의 점심 메뉴]\\n약밥과 삶은 계란')\n",
    "\n",
    "f1.close()"
   ]
  },
  {
   "cell_type": "code",
   "execution_count": 14,
   "metadata": {},
   "outputs": [],
   "source": [
    "f2 = open('our_song.txt', 'w', encoding='utf-8')\n",
    "\n",
    "our_song = ['공주의 규칙\\n', '나를 사랑하기\\n', '남도 사랑하기\\n', '삶을 사랑하기\\n', '여유 잃지 않기\\n', '미소 잃지 않기\\n']\n",
    "f2. writelines(our_song)\n",
    "\n",
    "f2.close()"
   ]
  },
  {
   "cell_type": "code",
   "execution_count": 18,
   "metadata": {},
   "outputs": [
    {
     "name": "stdout",
     "output_type": "stream",
     "text": [
      "3_readlines ['공주의 규칙\\n', '나를 사랑하기\\n', '남도 사랑하기\\n', '삶을 사랑하기\\n', '여유 잃지 않기\\n', '미소 잃지 않기\\n']\n"
     ]
    }
   ],
   "source": [
    "f3 = open('our_song.txt', 'r', encoding='utf-8')\n",
    "\n",
    "#f3_read = f3.read()\n",
    "# f3_readline = f3.readline()\n",
    "f3_readlines = f3.readlines()\n",
    "\n",
    "#print('f3_read', f3_read, type(f3_read))\n",
    "# print('f3_readline', f3_readline)\n",
    "print('3_readlines', f3_readlines)\n",
    "\n",
    "f3.close()"
   ]
  },
  {
   "cell_type": "code",
   "execution_count": 19,
   "metadata": {},
   "outputs": [],
   "source": [
    "f4 = open('our_song.txt', 'a', encoding='utf-8')\n",
    "\n",
    "f4.write('노래 끝!')\n",
    "\n",
    "f4.close()"
   ]
  },
  {
   "cell_type": "code",
   "execution_count": 21,
   "metadata": {},
   "outputs": [],
   "source": [
    "with open('new_test.txt', 'w', encoding='utf-8') as f:\n",
    "    f.write('오늘은 파이썬\\n')\n",
    "    f.write('내일은 Streamlit\\n')\n",
    "    f.write('다음 주부터는 데이터베이스!')"
   ]
  },
  {
   "cell_type": "code",
   "execution_count": 41,
   "metadata": {},
   "outputs": [],
   "source": [
    "with open('diary.txt', 'w', encoding='utf-8') as f:\n",
    "    f.write('오늘은 파일 입출력을 배웠습니다.\\n')\n",
    "    f.write('다양한 파일 확장자와 접근 모드를 사용할 수 있다는 점이 흥미로웠습니다.\\n')"
   ]
  },
  {
   "cell_type": "code",
   "execution_count": 46,
   "metadata": {},
   "outputs": [
    {
     "name": "stdout",
     "output_type": "stream",
     "text": [
      "회사명, 직무, 결과\n",
      "\n",
      "회사A, 데이터 분석가, 합격\n",
      "\n",
      "회사B, 소프트웨어 엔지니어, 불합격\n",
      "\n",
      "회사C, 제품 관리자, 진행 중\n",
      "\n"
     ]
    }
   ],
   "source": [
    "import csv\n",
    "\n",
    "with open('applications.csv', 'w', encoding='utf-8') as f:\n",
    "    writer = csv.writer(f)\n",
    "    writer.writerow(['회사명', '직무', '결과'])\n",
    "    writer.writerow(['회사A', '데이터 분석가', '합격'])\n",
    "    writer.writerow(['회사B', '소프트웨어 엔지니어', '불합격'])\n",
    "    writer.writerow(['회사C', '제품 관리자', '진행 중'])\n",
    "\n",
    "with open('applications.csv', 'r', encoding='utf-8') as f:\n",
    "    reader = csv.reader(f)\n",
    "    for row in reader:\n",
    "        print(', '.join(row))   "
   ]
  },
  {
   "cell_type": "code",
   "execution_count": 38,
   "metadata": {},
   "outputs": [
    {
     "name": "stdout",
     "output_type": "stream",
     "text": [
      "[WARN] 2024-01-01 12:05:00: 메모리 사용량 증가\n",
      "\n",
      "[ERROR] 2024-01-01 12:10:00: 프로그램 종료\n"
     ]
    }
   ],
   "source": [
    "with open('system.log', 'w', encoding='utf-8') as f:\n",
    "    f.write('[INFO] 2024-01-01 12:00:00: 시스템 시작\\n')\n",
    "    f.write('[WARN] 2024-01-01 12:05:00: 메모리 사용량 증가\\n')\n",
    "    f.write('[ERROR] 2024-01-01 12:10:00: 프로그램 종료')\n",
    "\n",
    "with open('system.log', 'r', encoding='utf-8') as f:\n",
    "    for line in f:\n",
    "        if 'WARN' in line or 'ERROR' in line:\n",
    "            print(line)"
   ]
  },
  {
   "cell_type": "code",
   "execution_count": 47,
   "metadata": {},
   "outputs": [
    {
     "name": "stdout",
     "output_type": "stream",
     "text": [
      "[WARN] 2024-01-01 12:05:00: 메모리 사용량 증가\n",
      "\n",
      "[ERROR] 2024-01-01 12:10:00: 프로그램 종료\n"
     ]
    }
   ],
   "source": [
    "f = open('system2.log', 'w', encoding='utf-8')\n",
    "log_content = [\n",
    "    '[INFO] 2024-01-01 12:00:00: 시스템 시작\\n',\n",
    "    '[WARN] 2024-01-01 12:05:00: 메모리 사용량 증가\\n',\n",
    "    '[ERROR] 2024-01-01 12:10:00: 프로그램 종료'\n",
    "]\n",
    "f.writelines(log_content)\n",
    "f.close()\n",
    "\n",
    "f = open('system.log', 'r', encoding='utf-8')\n",
    "for line in f:\n",
    "    if 'WARN' in line or 'ERROR' in line:\n",
    "        print(line)\n",
    "\n",
    "f.close()"
   ]
  }
 ],
 "metadata": {
  "kernelspec": {
   "display_name": "pystudy_env",
   "language": "python",
   "name": "python3"
  },
  "language_info": {
   "codemirror_mode": {
    "name": "ipython",
    "version": 3
   },
   "file_extension": ".py",
   "mimetype": "text/x-python",
   "name": "python",
   "nbconvert_exporter": "python",
   "pygments_lexer": "ipython3",
   "version": "3.12.8"
  }
 },
 "nbformat": 4,
 "nbformat_minor": 2
}
