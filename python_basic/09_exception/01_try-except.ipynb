{
 "cells": [
  {
   "cell_type": "markdown",
   "metadata": {},
   "source": [
    "### 예외처리"
   ]
  },
  {
   "cell_type": "code",
   "execution_count": 1,
   "metadata": {},
   "outputs": [],
   "source": [
    "class NotMyTeacher(Exception):\n",
    "    pass\n"
   ]
  },
  {
   "cell_type": "code",
   "execution_count": 4,
   "metadata": {},
   "outputs": [
    {
     "ename": "NotMyTeacher",
     "evalue": "선생님 이름도 모르다니...!",
     "output_type": "error",
     "traceback": [
      "\u001b[1;31m---------------------------------------------------------------------------\u001b[0m",
      "\u001b[1;31mNotMyTeacher\u001b[0m                              Traceback (most recent call last)",
      "Cell \u001b[1;32mIn[4], line 6\u001b[0m\n\u001b[0;32m      4\u001b[0m     \u001b[38;5;28mprint\u001b[39m(\u001b[38;5;124m'\u001b[39m\u001b[38;5;124m훌륭합니다!\u001b[39m\u001b[38;5;124m'\u001b[39m)\n\u001b[0;32m      5\u001b[0m \u001b[38;5;28;01melse\u001b[39;00m:\n\u001b[1;32m----> 6\u001b[0m     \u001b[38;5;28;01mraise\u001b[39;00m NotMyTeacher(\u001b[38;5;124m'\u001b[39m\u001b[38;5;124m선생님 이름도 모르다니...!\u001b[39m\u001b[38;5;124m'\u001b[39m)\n",
      "\u001b[1;31mNotMyTeacher\u001b[0m: 선생님 이름도 모르다니...!"
     ]
    }
   ],
   "source": [
    "teacher_name = input('당신의 선생님 이름은 무엇입니까?')\n",
    "\n",
    "if teacher_name == '다람쥐':\n",
    "    print('훌륭합니다!')\n",
    "else:\n",
    "    raise NotMyTeacher('선생님 이름도 모르다니...!')"
   ]
  },
  {
   "cell_type": "code",
   "execution_count": 9,
   "metadata": {},
   "outputs": [
    {
     "name": "stdout",
     "output_type": "stream",
     "text": [
      "예외가 발생했습니다!\n",
      "그러나 중단되지는 않았습니다~\n"
     ]
    }
   ],
   "source": [
    "def check_teacher(teacher_name):\n",
    "    if teacher_name == '다람쥐':\n",
    "        print('훌륭합니다!')\n",
    "    else:\n",
    "        raise NotMyTeacher('선생님 이름도 모르다니...!')\n",
    "    \n",
    "try:\n",
    "    check_teacher('호랑이')\n",
    "    check_teacher('다람쥐')\n",
    "except:\n",
    "    print('예외가 발생했습니다!')\n",
    "\n",
    "print('그러나 중단되지는 않았습니다~')"
   ]
  },
  {
   "cell_type": "code",
   "execution_count": 10,
   "metadata": {},
   "outputs": [
    {
     "ename": "IndexError",
     "evalue": "list index out of range",
     "output_type": "error",
     "traceback": [
      "\u001b[1;31m---------------------------------------------------------------------------\u001b[0m",
      "\u001b[1;31mIndexError\u001b[0m                                Traceback (most recent call last)",
      "Cell \u001b[1;32mIn[10], line 2\u001b[0m\n\u001b[0;32m      1\u001b[0m test_list \u001b[38;5;241m=\u001b[39m [\u001b[38;5;241m2024\u001b[39m, \u001b[38;5;241m12\u001b[39m, \u001b[38;5;241m26\u001b[39m]\n\u001b[1;32m----> 2\u001b[0m \u001b[38;5;28mprint\u001b[39m(\u001b[43mtest_list\u001b[49m\u001b[43m[\u001b[49m\u001b[38;5;241;43m100\u001b[39;49m\u001b[43m]\u001b[49m)\n",
      "\u001b[1;31mIndexError\u001b[0m: list index out of range"
     ]
    }
   ],
   "source": [
    "test_list = [2024, 12, 26]\n",
    "print(test_list[100])"
   ]
  },
  {
   "cell_type": "code",
   "execution_count": 12,
   "metadata": {},
   "outputs": [
    {
     "ename": "ZeroDivisionError",
     "evalue": "division by zero",
     "output_type": "error",
     "traceback": [
      "\u001b[1;31m---------------------------------------------------------------------------\u001b[0m",
      "\u001b[1;31mZeroDivisionError\u001b[0m                         Traceback (most recent call last)",
      "Cell \u001b[1;32mIn[12], line 1\u001b[0m\n\u001b[1;32m----> 1\u001b[0m \u001b[38;5;28mprint\u001b[39m(\u001b[38;5;241;43m2024\u001b[39;49m\u001b[43m \u001b[49m\u001b[38;5;241;43m/\u001b[39;49m\u001b[43m \u001b[49m\u001b[38;5;241;43m0\u001b[39;49m)\n",
      "\u001b[1;31mZeroDivisionError\u001b[0m: division by zero"
     ]
    }
   ],
   "source": [
    "print(2024 / 0)"
   ]
  },
  {
   "cell_type": "code",
   "execution_count": null,
   "metadata": {},
   "outputs": [
    {
     "name": "stdout",
     "output_type": "stream",
     "text": [
      "12\n",
      "1012.0\n",
      "else는 언제 실행될까요?\n",
      "finally는 언제 실행될까요?\n"
     ]
    }
   ],
   "source": [
    "try:\n",
    "    idx = int(input('index 숫자: '))\n",
    "    test_list = [2024, 12, 26]\n",
    "    print(test_list[idx])\n",
    "\n",
    "    num =int(input('나누는 수: '))\n",
    "    print(2024 / num)\n",
    "\n",
    "except IndexError:\n",
    "    print('인덱싱 범위를 초과했습니다.')\n",
    "\n",
    "except ZeroDivisionError:\n",
    "    print('0으로는 나눌 수 없습니다.')\n",
    "\n",
    "else:\n",
    "    print('else는 언제 실행될까요? 예외가 발생하지 않았을 떄! (try 구문 내 코드가 정상 동작했을 때때)')\n",
    "\n",
    "finally:\n",
    "    print('finally는 언제 실행될까요?')"
   ]
  },
  {
   "cell_type": "markdown",
   "metadata": {},
   "source": [
    "---\n",
    "\n",
    "### 실습"
   ]
  },
  {
   "cell_type": "markdown",
   "metadata": {},
   "source": [
    "### **문제 1: 모든 예외 처리**\n",
    "\n",
    "다람쥐는 파일에서 데이터를 읽으려고 하지만, 파일이 없을 경우 프로그램이 중단되지 않도록 처리하고 싶습니다.\n",
    "\n",
    "1. `data.txt` 파일을 읽으려고 시도하세요.\n",
    "2. 파일이 없을 경우, `\"파일이 존재하지 않습니다.\"`를 출력하세요.\n",
    "3. 파일이 존재하면 파일 내용을 출력하세요."
   ]
  },
  {
   "cell_type": "code",
   "execution_count": 41,
   "metadata": {},
   "outputs": [
    {
     "name": "stdout",
     "output_type": "stream",
     "text": [
      "파일이 존재하지 않습니다.\n"
     ]
    }
   ],
   "source": [
    "try:\n",
    "    f = open('data.txt', 'r', encoding='utf-8')\n",
    "    print(f.read())\n",
    "except:\n",
    "    print('파일이 존재하지 않습니다.')"
   ]
  },
  {
   "cell_type": "markdown",
   "metadata": {},
   "source": [
    "### **문제 2: 특정 예외 처리**\n",
    "\n",
    "다람쥐는 사용자에게 나이를 입력받아 성인인지 확인하려고 합니다.\n",
    "\n",
    "1. 사용자로부터 나이를 입력받아 정수로 변환하세요.\n",
    "2. 입력값이 숫자가 아닐 경우, `\"숫자를 입력해야 합니다.\"`를 출력하세요.\n",
    "3. 숫자가 올바르게 입력되면 나이가 19 이상인지 확인하고, 19 이상이면 `\"성인입니다.\"`, 그렇지 않으면 `\"미성년자입니다.\"`를 출력하세요."
   ]
  },
  {
   "cell_type": "code",
   "execution_count": 25,
   "metadata": {},
   "outputs": [
    {
     "name": "stdout",
     "output_type": "stream",
     "text": [
      "성인입니다\n",
      "미성년자입니다.\n",
      "숫자를 입력해야 합니다.\n"
     ]
    }
   ],
   "source": [
    "def age(your_age):\n",
    "    your_age = int(your_age)\n",
    "    if your_age >= 19:\n",
    "        print('성인입니다')\n",
    "    else:\n",
    "        print('미성년자입니다.')\n",
    "    \n",
    "try:\n",
    "    age(19)\n",
    "    age(7)\n",
    "    age('19살')\n",
    "except:\n",
    "    print('숫자를 입력해야 합니다.')"
   ]
  },
  {
   "cell_type": "code",
   "execution_count": 44,
   "metadata": {},
   "outputs": [
    {
     "name": "stdout",
     "output_type": "stream",
     "text": [
      "숫자를 입력해야 합니다.\n"
     ]
    }
   ],
   "source": [
    "try:\n",
    "    age = int(input('나이: '))\n",
    "\n",
    "    if age >= 19:\n",
    "        print('성인입니다.')\n",
    "    else:\n",
    "        print('미성년자입니다.')\n",
    "\n",
    "except ValueError:\n",
    "    print('숫자를 입력해야 합니다.')"
   ]
  },
  {
   "cell_type": "markdown",
   "metadata": {},
   "source": [
    "### **문제 3: 특수 예외 상황과 오류 변수 사용**\n",
    "\n",
    "다람쥐는 숫자 두 개를 입력받아 나누기를 수행하려고 합니다.\n",
    "\n",
    "1. 사용자로부터 두 숫자를 입력받아 나누기를 수행하세요.\n",
    "2. 첫 번째 숫자가 0으로 나누기를 시도하면 `\"0으로 나눌 수 없습니다.\"`를 출력하세요.\n",
    "3. 입력값이 숫자가 아니면 `\"숫자를 입력해야 합니다.\"`를 출력하세요.\n",
    "4. 오류 메시지를 출력할 때 발생한 오류 내용을 함께 출력하세요."
   ]
  },
  {
   "cell_type": "code",
   "execution_count": 47,
   "metadata": {},
   "outputs": [
    {
     "name": "stdout",
     "output_type": "stream",
     "text": [
      "숫자를 입력해야 합니다. invalid literal for int() with base 10: 'dk'\n"
     ]
    }
   ],
   "source": [
    "try:\n",
    "    num1 = int(input('첫 번째 숫자: '))\n",
    "    num2 = int(input('두 번째 숫자: '))\n",
    "    print(num1 / num2)\n",
    "\n",
    "except ZeroDivisionError as e:\n",
    "    print('0으로는 나눌 수 없습니다.', e)\n",
    "\n",
    "except ValueError as e:\n",
    "    print('숫자를 입력해야 합니다.', e)\n"
   ]
  },
  {
   "cell_type": "markdown",
   "metadata": {},
   "source": [
    "### **제 4: finally 블럭**\n",
    "\n",
    "다람쥐는 프로그램 실행 후 파일 자원을 반드시 정리해야 합니다.\n",
    "\n",
    "1. `log.txt` 파일을 읽으려고 시도하세요.\n",
    "2. 파일을 여는 중 예외가 발생할 경우, `\"파일을 열 수 없습니다.\"`를 출력하세요.\n",
    "3. 예외 발생 여부와 상관없이 파일 자원을 정리하는 메시지 `\"파일 자원 정리 완료\"`를 출력하세요."
   ]
  },
  {
   "cell_type": "code",
   "execution_count": 49,
   "metadata": {},
   "outputs": [
    {
     "name": "stdout",
     "output_type": "stream",
     "text": [
      "파일 자원 정리 완료\n"
     ]
    },
    {
     "ename": "FileNotFoundError",
     "evalue": "[Errno 2] No such file or directory: 'log.txt'",
     "output_type": "error",
     "traceback": [
      "\u001b[1;31m---------------------------------------------------------------------------\u001b[0m",
      "\u001b[1;31mFileNotFoundError\u001b[0m                         Traceback (most recent call last)",
      "Cell \u001b[1;32mIn[49], line 4\u001b[0m\n\u001b[0;32m      1\u001b[0m f \u001b[38;5;241m=\u001b[39m \u001b[38;5;28;01mNone\u001b[39;00m\n\u001b[0;32m      3\u001b[0m \u001b[38;5;28;01mtry\u001b[39;00m:\n\u001b[1;32m----> 4\u001b[0m     f \u001b[38;5;241m=\u001b[39m \u001b[38;5;28;43mopen\u001b[39;49m\u001b[43m(\u001b[49m\u001b[38;5;124;43m'\u001b[39;49m\u001b[38;5;124;43mlog.txt\u001b[39;49m\u001b[38;5;124;43m'\u001b[39;49m\u001b[43m,\u001b[49m\u001b[43m \u001b[49m\u001b[38;5;124;43m'\u001b[39;49m\u001b[38;5;124;43mr\u001b[39;49m\u001b[38;5;124;43m'\u001b[39;49m\u001b[43m,\u001b[49m\u001b[43m \u001b[49m\u001b[43mencoding\u001b[49m\u001b[38;5;241;43m=\u001b[39;49m\u001b[38;5;124;43m'\u001b[39;49m\u001b[38;5;124;43mutf-8\u001b[39;49m\u001b[38;5;124;43m'\u001b[39;49m\u001b[43m)\u001b[49m\n\u001b[0;32m      5\u001b[0m     \u001b[38;5;28mprint\u001b[39m(f\u001b[38;5;241m.\u001b[39mread())\n\u001b[0;32m      7\u001b[0m \u001b[38;5;28;01mexcept\u001b[39;00m \u001b[38;5;167;01mFileExistsError\u001b[39;00m:\n",
      "File \u001b[1;32mc:\\Users\\Playdata\\anaconda3\\envs\\pystudy_env\\Lib\\site-packages\\IPython\\core\\interactiveshell.py:324\u001b[0m, in \u001b[0;36m_modified_open\u001b[1;34m(file, *args, **kwargs)\u001b[0m\n\u001b[0;32m    317\u001b[0m \u001b[38;5;28;01mif\u001b[39;00m file \u001b[38;5;129;01min\u001b[39;00m {\u001b[38;5;241m0\u001b[39m, \u001b[38;5;241m1\u001b[39m, \u001b[38;5;241m2\u001b[39m}:\n\u001b[0;32m    318\u001b[0m     \u001b[38;5;28;01mraise\u001b[39;00m \u001b[38;5;167;01mValueError\u001b[39;00m(\n\u001b[0;32m    319\u001b[0m         \u001b[38;5;124mf\u001b[39m\u001b[38;5;124m\"\u001b[39m\u001b[38;5;124mIPython won\u001b[39m\u001b[38;5;124m'\u001b[39m\u001b[38;5;124mt let you open fd=\u001b[39m\u001b[38;5;132;01m{\u001b[39;00mfile\u001b[38;5;132;01m}\u001b[39;00m\u001b[38;5;124m by default \u001b[39m\u001b[38;5;124m\"\u001b[39m\n\u001b[0;32m    320\u001b[0m         \u001b[38;5;124m\"\u001b[39m\u001b[38;5;124mas it is likely to crash IPython. If you know what you are doing, \u001b[39m\u001b[38;5;124m\"\u001b[39m\n\u001b[0;32m    321\u001b[0m         \u001b[38;5;124m\"\u001b[39m\u001b[38;5;124myou can use builtins\u001b[39m\u001b[38;5;124m'\u001b[39m\u001b[38;5;124m open.\u001b[39m\u001b[38;5;124m\"\u001b[39m\n\u001b[0;32m    322\u001b[0m     )\n\u001b[1;32m--> 324\u001b[0m \u001b[38;5;28;01mreturn\u001b[39;00m \u001b[43mio_open\u001b[49m\u001b[43m(\u001b[49m\u001b[43mfile\u001b[49m\u001b[43m,\u001b[49m\u001b[43m \u001b[49m\u001b[38;5;241;43m*\u001b[39;49m\u001b[43margs\u001b[49m\u001b[43m,\u001b[49m\u001b[43m \u001b[49m\u001b[38;5;241;43m*\u001b[39;49m\u001b[38;5;241;43m*\u001b[39;49m\u001b[43mkwargs\u001b[49m\u001b[43m)\u001b[49m\n",
      "\u001b[1;31mFileNotFoundError\u001b[0m: [Errno 2] No such file or directory: 'log.txt'"
     ]
    }
   ],
   "source": [
    "f = None\n",
    "\n",
    "try:\n",
    "    f = open('log.txt', 'r', encoding='utf-8')\n",
    "    print(f.read())\n",
    "\n",
    "except FileExistsError:\n",
    "    print('파일을 열 수 없습니다')\n",
    "\n",
    "finally:\n",
    "    if f:\n",
    "        f.close()\n",
    "    print('파일 자원 정리 완료')"
   ]
  },
  {
   "cell_type": "markdown",
   "metadata": {},
   "source": [
    "### **문제 5: try-else 블럭**\n",
    "\n",
    "다람쥐는 사용자로부터 숫자를 입력받아 2로 나눈 결과를 출력하려고 합니다.\n",
    "\n",
    "1. 사용자로부터 숫자를 입력받아 정수로 변환하세요.\n",
    "2. 입력값이 숫자가 아닐 경우 `\"숫자를 입력해야 합니다.\"`를 출력하세요.\n",
    "3. 숫자가 올바르게 입력되면 입력값을 2로 나눈 결과를 출력하세요."
   ]
  },
  {
   "cell_type": "code",
   "execution_count": 54,
   "metadata": {},
   "outputs": [
    {
     "name": "stdout",
     "output_type": "stream",
     "text": [
      "15.0\n"
     ]
    }
   ],
   "source": [
    "num = 0\n",
    "\n",
    "try:\n",
    "    num = int(input('숫자: '))\n",
    "\n",
    "except ValueError:\n",
    "    print('숫자를 입력해야 합니다.')\n",
    "\n",
    "else:\n",
    "    print(num / 2)"
   ]
  }
 ],
 "metadata": {
  "kernelspec": {
   "display_name": "pystudy_env",
   "language": "python",
   "name": "python3"
  },
  "language_info": {
   "codemirror_mode": {
    "name": "ipython",
    "version": 3
   },
   "file_extension": ".py",
   "mimetype": "text/x-python",
   "name": "python",
   "nbconvert_exporter": "python",
   "pygments_lexer": "ipython3",
   "version": "3.12.8"
  }
 },
 "nbformat": 4,
 "nbformat_minor": 2
}
